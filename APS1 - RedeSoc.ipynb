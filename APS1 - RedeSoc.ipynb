{
 "cells": [
  {
   "cell_type": "markdown",
   "id": "dba02d36",
   "metadata": {},
   "source": [
    "# DATASET: High school dynamic contact networks\n",
    "\n",
    "### Equipe: Natalia Carreras, Pedro Altobelli, Willian Kenzo\n",
    "\n",
    "\n",
    "\n"
   ]
  },
  {
   "cell_type": "code",
   "execution_count": 2,
   "id": "4aa28944",
   "metadata": {},
   "outputs": [],
   "source": [
    "import netpixi\n",
    "from netpixi.integration.gt import *\n",
    "g = Graph(directed=False) #dirigidonão"
   ]
  },
  {
   "cell_type": "code",
   "execution_count": 4,
   "id": "dd804b23",
   "metadata": {},
   "outputs": [
    {
     "ename": "NameError",
     "evalue": "name 'r' is not defined",
     "output_type": "error",
     "traceback": [
      "\u001b[0;31m---------------------------------------------------------------------------\u001b[0m",
      "\u001b[0;31mNameError\u001b[0m                                 Traceback (most recent call last)",
      "Cell \u001b[0;32mIn[4], line 1\u001b[0m\n\u001b[0;32m----> 1\u001b[0m \u001b[38;5;28;01mwith\u001b[39;00m \u001b[38;5;28mopen\u001b[39m(\u001b[38;5;124m'\u001b[39m\u001b[38;5;124mthiers_2011.csv\u001b[39m\u001b[38;5;124m'\u001b[39m, \u001b[43mr\u001b[49m) \u001b[38;5;28;01mas\u001b[39;00m arquivo:\n\u001b[1;32m      2\u001b[0m     csv_lines \u001b[38;5;241m=\u001b[39m arquivo\u001b[38;5;241m.\u001b[39mreadlines()\n\u001b[1;32m      4\u001b[0m vertex \u001b[38;5;241m=\u001b[39m []\n",
      "\u001b[0;31mNameError\u001b[0m: name 'r' is not defined"
     ]
    }
   ],
   "source": [
    "with open('thiers_2011.csv', \"r\") as arquivo:\n",
    "    csv_lines = arquivo.readlines()\n",
    "    \n",
    "vertex = []\n",
    "edge = []\n",
    "for line in csv_lines:\n",
    "    split = line.split()\n",
    "    time = split[0]\n",
    "    id1 = split[1]\n",
    "    id2 = split[2]\n",
    "    class1 = split[3]\n",
    "    class2 = split[4]\n",
    "    \n",
    "    if id1 not in vertex:\n",
    "        vertex.append(id1)\n",
    "        g.add_vertex(id1)\n",
    "    \n",
    "    if id2 not in vertex:\n",
    "        vertex.append(id2)\n",
    "        g.add_vertex(id2)\n",
    "        \n",
    "    if [id1,id2] not in edge:\n",
    "        edge.append([id1,id2])\n",
    "        g.add_edge(id1,id2)\n",
    "\n",
    "print(len(vertex))        \n",
    "print('número de vértices de g:', g.num_vertices())\n",
    "print('número de edges de g:', g.num_edges())\n",
    "\n",
    "        \n",
    "gt_save(g, 'd.net.gz')        \n",
    "    \n"
   ]
  },
  {
   "cell_type": "code",
   "execution_count": 85,
   "id": "2c8635a7",
   "metadata": {},
   "outputs": [
    {
     "data": {
      "text/html": [
       "\n",
       "        <div id=\"R9faAsLwDSxed7Er58xaek\"></div>\n",
       "        <script>netpixi.render('R9faAsLwDSxed7Er58xaek', 'd.net.gz', 1.7777777777777777, true, false, false);</script>\n",
       "    "
      ],
      "text/plain": [
       "<IPython.core.display.HTML object>"
      ]
     },
     "metadata": {},
     "output_type": "display_data"
    }
   ],
   "source": [
    "r = netpixi.render('d.net.gz')"
   ]
  },
  {
   "cell_type": "code",
   "execution_count": 88,
   "id": "ff942866",
   "metadata": {},
   "outputs": [
    {
     "data": {
      "text/html": [
       "\n",
       "        <div id=\"UwxcYRUdF24DkZKLKJowSJ\"></div>\n",
       "        <script>netpixi.call('UwxcYRUdF24DkZKLKJowSJ', 'R9faAsLwDSxed7Er58xaek', 'changeGraph', 'eyJ0eXBlIjogInNldHRpbmdzIiwgInByb3BzIjogeyJncmFwaCI6IHsiY29sb3IiOiAxNjc3NzIxNX19fQo=');</script>\n",
       "    "
      ],
      "text/plain": [
       "<IPython.core.display.HTML object>"
      ]
     },
     "metadata": {},
     "output_type": "display_data"
    },
    {
     "data": {
      "text/html": [
       "\n",
       "        <div id=\"9dRNVYns5BBUSw8PprZxFe\"></div>\n",
       "        <script>netpixi.call('9dRNVYns5BBUSw8PprZxFe', 'R9faAsLwDSxed7Er58xaek', 'changeGraph', 'eyJ0eXBlIjogInNldHRpbmdzIiwgInByb3BzIjogeyJ2ZXJ0ZXgiOiB7ImNvbG9yIjogMCwgInNpemUiOiAxMH19fQo=');</script>\n",
       "    "
      ],
      "text/plain": [
       "<IPython.core.display.HTML object>"
      ]
     },
     "metadata": {},
     "output_type": "display_data"
    },
    {
     "data": {
      "text/html": [
       "\n",
       "        <div id=\"GBBowWsQSsD28yB6evHFGw\"></div>\n",
       "        <script>netpixi.call('GBBowWsQSsD28yB6evHFGw', 'R9faAsLwDSxed7Er58xaek', 'changeGraph', 'eyJ0eXBlIjogInNldHRpbmdzIiwgInByb3BzIjogeyJlZGdlIjogeyJjb2xvciI6IDAsICJ3aWR0aCI6IDEsICJjdXJ2ZTEiOiAxLCAiY3VydmUyIjogMX19fQo=');</script>\n",
       "    "
      ],
      "text/plain": [
       "<IPython.core.display.HTML object>"
      ]
     },
     "metadata": {},
     "output_type": "display_data"
    },
    {
     "data": {
      "text/html": [
       "\n",
       "        <div id=\"C3CWm9uzbJpBEQyQzwfjyu\"></div>\n",
       "        <script>netpixi.call('C3CWm9uzbJpBEQyQzwfjyu', 'R9faAsLwDSxed7Er58xaek', 'changeGraph', 'eyJzb3VyY2UiOiAwLCAidGFyZ2V0IjogMSwgInR5cGUiOiAiZWRnZSIsICJwcm9wcyI6IHsiY29sb3IiOiAyNTUsICJ3aWR0aCI6IDJ9fQo=');</script>\n",
       "    "
      ],
      "text/plain": [
       "<IPython.core.display.HTML object>"
      ]
     },
     "metadata": {},
     "output_type": "display_data"
    },
    {
     "data": {
      "text/html": [
       "\n",
       "        <div id=\"CvrXJkDB8s5gEPrSzcGpSo\"></div>\n",
       "        <script>netpixi.call('CvrXJkDB8s5gEPrSzcGpSo', 'R9faAsLwDSxed7Er58xaek', 'setGraph', 'eyJ0eXBlIjogInZlcnRleCIsICJwcm9wcyI6IHsic3JjIjogImxhYmVsIiwgImRzdCI6ICJfa2V5In19Cg==');</script>\n",
       "    "
      ],
      "text/plain": [
       "<IPython.core.display.HTML object>"
      ]
     },
     "metadata": {},
     "output_type": "display_data"
    }
   ],
   "source": [
    "# mudar a cor de fundo do grafo\n",
    "r.graph(color=0xffffff)\n",
    "\n",
    "# mudar a cor e o tamanho dos vértices\n",
    "r.vertex_default(color=0x000000, size=10)\n",
    "\n",
    "# mudar a cor, a espessura e a curvatura das arestas\n",
    "r.edge_default(color=0x000000, width=1, curve1=1, curve2=1)\n",
    "\n",
    "# mudar uma aresta específica a partir dos ids de sua origem e destino\n",
    "r.edge(0, 1, color=0x0000ff, width=2)\n",
    "r.vertex_set_key('label')"
   ]
  },
  {
   "cell_type": "code",
   "execution_count": 89,
   "id": "31c566ec",
   "metadata": {},
   "outputs": [
    {
     "data": {
      "text/html": [
       "\n",
       "        <div id=\"DzuxXjGL4qSWR9iN7H45xh\"></div>\n",
       "        <script>netpixi.render('DzuxXjGL4qSWR9iN7H45xh', 'reignold.net.gz', 1.7777777777777777, true, false, false);</script>\n",
       "    "
      ],
      "text/plain": [
       "<IPython.core.display.HTML object>"
      ]
     },
     "metadata": {},
     "output_type": "display_data"
    }
   ],
   "source": [
    "m = gt_draw.fruchterman_reingold_layout(g)\n",
    "gt_move(g, m)\n",
    "gt_save(g, 'reignold.net.gz')\n",
    "netpixi.render('reignold.net.gz');"
   ]
  },
  {
   "cell_type": "code",
   "execution_count": null,
   "id": "148ed84c",
   "metadata": {},
   "outputs": [],
   "source": []
  },
  {
   "cell_type": "code",
   "execution_count": null,
   "id": "3b95541d",
   "metadata": {},
   "outputs": [],
   "source": []
  },
  {
   "cell_type": "code",
   "execution_count": null,
   "id": "8f54e8a3",
   "metadata": {},
   "outputs": [],
   "source": []
  }
 ],
 "metadata": {
  "kernelspec": {
   "display_name": "Python 3 (ipykernel)",
   "language": "python",
   "name": "python3"
  },
  "language_info": {
   "codemirror_mode": {
    "name": "ipython",
    "version": 3
   },
   "file_extension": ".py",
   "mimetype": "text/x-python",
   "name": "python",
   "nbconvert_exporter": "python",
   "pygments_lexer": "ipython3",
   "version": "3.10.10"
  }
 },
 "nbformat": 4,
 "nbformat_minor": 5
}
