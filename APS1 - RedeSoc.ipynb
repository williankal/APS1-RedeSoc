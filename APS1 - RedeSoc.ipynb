{
 "cells": [
  {
   "cell_type": "markdown",
   "id": "dba02d36",
   "metadata": {},
   "source": [
    "# DATASET: High school dynamic contact networks\n",
    "\n",
    "### Equipe: Natalia Carreras, Pedro Altobelli, Willian Kenzo\n",
    "\n",
    "\n",
    "\n"
   ]
  },
  {
   "cell_type": "code",
   "execution_count": 1,
   "id": "4aa28944",
   "metadata": {},
   "outputs": [
    {
     "data": {
      "text/html": [
       "\n",
       "    <script src=\"/files/netpixi.min.js\"></script>\n"
      ],
      "text/plain": [
       "<IPython.core.display.HTML object>"
      ]
     },
     "metadata": {},
     "output_type": "display_data"
    }
   ],
   "source": [
    "import netpixi\n",
    "from netpixi.integration.gt import *\n",
    "graph = Graph(directed=False) #dirigidonão"
   ]
  },
  {
   "cell_type": "code",
   "execution_count": 2,
   "id": "dd804b23",
   "metadata": {
    "scrolled": false
   },
   "outputs": [
    {
     "name": "stdout",
     "output_type": "stream",
     "text": [
      "número de vértices de g: 180\n",
      "número de edges de g: 2220\n"
     ]
    }
   ],
   "source": [
    "with open('thiers_2012.csv', \"r\") as arquivo:\n",
    "    csv_lines = arquivo.readlines()\n",
    "\n",
    "vertex = []\n",
    "edge = []\n",
    "graph.add_vp('class')\n",
    "graph.add_vp('gender')\n",
    "# graph['class'] = 'Classes dos estudantes'\n",
    "# graph['gender'] = 'Genero do alunos'\n",
    "\n",
    "for line in csv_lines:\n",
    "    split = line.split()\n",
    "    time = split[0]\n",
    "    id1 = split[1]\n",
    "    id2 = split[2]\n",
    "    class1 = split[3]\n",
    "    class2 = split[4]\n",
    "    \n",
    "    if id1 not in vertex:\n",
    "        vertex.append(id1)\n",
    "        graph.add_vertex(id1)\n",
    "        u = graph.get_vertex(id1)\n",
    "        graph.add_vp('class')\n",
    "        u['class'] = class1\n",
    "    \n",
    "    if id2 not in vertex:\n",
    "        graph.add_vertex(id2)\n",
    "        vertex.append(id2)\n",
    "        u = graph.get_vertex(id2)\n",
    "        graph.add_vp('class')\n",
    "        u['class'] = class2        \n",
    "        \n",
    "    if [id1,id2] not in edge:\n",
    "        edge.append([id1,id2])\n",
    "        edge.append([id2,id1])#ver jeito melhor\n",
    "        graph.add_edge(id1,id2)\n",
    "        \n",
    "for value in graph.values():\n",
    "    print(value)\n",
    "    \n",
    "print('número de vértices de g:', graph.num_vertices())\n",
    "print('número de edges de g:', graph.num_edges())\n",
    "\n"
   ]
  },
  {
   "cell_type": "code",
   "execution_count": 3,
   "id": "21a41e61",
   "metadata": {},
   "outputs": [
    {
     "data": {
      "text/html": [
       "\n",
       "        <div id=\"8EHxWNckSqXn2d6V7DK6wa\"></div>\n",
       "        <script>netpixi.render('8EHxWNckSqXn2d6V7DK6wa', '2012_class_gender.net.gz', 1.7777777777777777, true, false, false);</script>\n",
       "    "
      ],
      "text/plain": [
       "<IPython.core.display.HTML object>"
      ]
     },
     "metadata": {},
     "output_type": "display_data"
    }
   ],
   "source": [
    "with open('metadata_212.txt', \"r\") as arquivo:\n",
    "    data_lines = arquivo.readlines()\n",
    "\n",
    "for line in data_lines:\n",
    "    split = line.split()\n",
    "    student_id = split[0]\n",
    "    gender = split[2]\n",
    "    \n",
    "    u = graph.get_vertex(student_id)\n",
    "    graph.add_vp('gender')\n",
    "    u['gender'] = gender\n",
    "    \n",
    "    \n",
    "    \n",
    "gt_save(graph, '2012_class_gender.net.gz')        \n",
    "\n",
    "r = netpixi.render('2012_class_gender.net.gz')\n"
   ]
  },
  {
   "cell_type": "code",
   "execution_count": 4,
   "id": "2c8635a7",
   "metadata": {},
   "outputs": [
    {
     "data": {
      "text/html": [
       "\n",
       "        <div id=\"GyCLLmRfiLfiHYLcsjPHKA\"></div>\n",
       "        <script>netpixi.call('GyCLLmRfiLfiHYLcsjPHKA', '8EHxWNckSqXn2d6V7DK6wa', 'setGraph', 'eyJ0eXBlIjogInZlcnRleCIsICJwcm9wcyI6IHsic3JjIjogImNsYXNzIiwgImRzdCI6ICJfa2V5In19Cg==');</script>\n",
       "    "
      ],
      "text/plain": [
       "<IPython.core.display.HTML object>"
      ]
     },
     "metadata": {},
     "output_type": "display_data"
    }
   ],
   "source": [
    "r.vertex_set_key('class')"
   ]
  },
  {
   "cell_type": "code",
   "execution_count": 5,
   "id": "ff942866",
   "metadata": {},
   "outputs": [
    {
     "data": {
      "text/html": [
       "\n",
       "        <div id=\"MpgpGzYTdNZ47e7BMa8ruG\"></div>\n",
       "        <script>netpixi.call('MpgpGzYTdNZ47e7BMa8ruG', '8EHxWNckSqXn2d6V7DK6wa', 'changeGraph', 'eyJ0eXBlIjogInNldHRpbmdzIiwgInByb3BzIjogeyJncmFwaCI6IHsiY29sb3IiOiAxNjc3NzIxNX19fQo=');</script>\n",
       "    "
      ],
      "text/plain": [
       "<IPython.core.display.HTML object>"
      ]
     },
     "metadata": {},
     "output_type": "display_data"
    },
    {
     "data": {
      "text/html": [
       "\n",
       "        <div id=\"FExMduaEouhJ2fqb4gzpt3\"></div>\n",
       "        <script>netpixi.call('FExMduaEouhJ2fqb4gzpt3', '8EHxWNckSqXn2d6V7DK6wa', 'changeGraph', 'eyJ0eXBlIjogInNldHRpbmdzIiwgInByb3BzIjogeyJ2ZXJ0ZXgiOiB7ImNvbG9yIjogMCwgInNpemUiOiAxNX19fQo=');</script>\n",
       "    "
      ],
      "text/plain": [
       "<IPython.core.display.HTML object>"
      ]
     },
     "metadata": {},
     "output_type": "display_data"
    },
    {
     "data": {
      "text/html": [
       "\n",
       "        <div id=\"jHE6BV4x9s7fSkcopAJvVR\"></div>\n",
       "        <script>netpixi.call('jHE6BV4x9s7fSkcopAJvVR', '8EHxWNckSqXn2d6V7DK6wa', 'changeGraph', 'eyJ0eXBlIjogInNldHRpbmdzIiwgInByb3BzIjogeyJlZGdlIjogeyJjb2xvciI6IDAsICJ3aWR0aCI6IDEsICJjdXJ2ZTEiOiAxLCAiY3VydmUyIjogMX19fQo=');</script>\n",
       "    "
      ],
      "text/plain": [
       "<IPython.core.display.HTML object>"
      ]
     },
     "metadata": {},
     "output_type": "display_data"
    },
    {
     "data": {
      "text/html": [
       "\n",
       "        <div id=\"Vz4ARPbLqZ5Ux6uXniQPPy\"></div>\n",
       "        <script>netpixi.call('Vz4ARPbLqZ5Ux6uXniQPPy', '8EHxWNckSqXn2d6V7DK6wa', 'changeGraph', 'eyJzb3VyY2UiOiAwLCAidGFyZ2V0IjogMSwgInR5cGUiOiAiZWRnZSIsICJwcm9wcyI6IHsiY29sb3IiOiAyNTUsICJ3aWR0aCI6IDJ9fQo=');</script>\n",
       "    "
      ],
      "text/plain": [
       "<IPython.core.display.HTML object>"
      ]
     },
     "metadata": {},
     "output_type": "display_data"
    },
    {
     "data": {
      "text/html": [
       "\n",
       "        <div id=\"GNb27yjPHcybajVjUAsDBy\"></div>\n",
       "        <script>netpixi.call('GNb27yjPHcybajVjUAsDBy', '8EHxWNckSqXn2d6V7DK6wa', 'setGraph', 'eyJ0eXBlIjogInZlcnRleCIsICJwcm9wcyI6IHsic3JjIjogImxhYmVsIiwgImRzdCI6ICJfa2V5In19Cg==');</script>\n",
       "    "
      ],
      "text/plain": [
       "<IPython.core.display.HTML object>"
      ]
     },
     "metadata": {},
     "output_type": "display_data"
    }
   ],
   "source": [
    "# mudar a cor de fundo do grafo\n",
    "r.graph(color=0xffffff)\n",
    "\n",
    "# mudar a cor e o tamanho dos vértices\n",
    "r.vertex_default(color=0x000000, size=15)\n",
    "\n",
    "# mudar a cor, a espessura e a curvatura das arestas\n",
    "r.edge_default(color=0x000000, width=1, curve1=1, curve2=1)\n",
    "\n",
    "# mudar uma aresta específica a partir dos ids de sua origem e destino\n",
    "r.edge(0, 1, color=0x0000ff, width=2)\n",
    "r.vertex_set_key('label')"
   ]
  },
  {
   "cell_type": "markdown",
   "id": "b7ee4248",
   "metadata": {},
   "source": [
    "### Grafo organizado"
   ]
  },
  {
   "cell_type": "code",
   "execution_count": 10,
   "id": "56598187",
   "metadata": {
    "scrolled": false
   },
   "outputs": [
    {
     "data": {
      "text/html": [
       "\n",
       "        <div id=\"ENAk6YiDPa5DWrKXiWxk4g\"></div>\n",
       "        <script>netpixi.render('ENAk6YiDPa5DWrKXiWxk4g', 'SFDP.net.gz', 1.7777777777777777, true, false, false);</script>\n",
       "    "
      ],
      "text/plain": [
       "<IPython.core.display.HTML object>"
      ]
     },
     "metadata": {},
     "output_type": "display_data"
    }
   ],
   "source": [
    "g = gt_load('2012_class_gender.net.gz')\n",
    "m = gt_draw.arf_layout(g)\n",
    "gt_move(g, m)\n",
    "gt_save(g, 'SFDP.net.gz')\n",
    "pretty = netpixi.render('SFDP.net.gz');"
   ]
  },
  {
   "cell_type": "code",
   "execution_count": 11,
   "id": "cc53d09a",
   "metadata": {},
   "outputs": [
    {
     "data": {
      "text/html": [
       "\n",
       "        <div id=\"k7yvKfnEmbvVZnewvdVjqM\"></div>\n",
       "        <script>netpixi.call('k7yvKfnEmbvVZnewvdVjqM', 'ENAk6YiDPa5DWrKXiWxk4g', 'changeGraph', 'eyJ0eXBlIjogInNldHRpbmdzIiwgInByb3BzIjogeyJncmFwaCI6IHsiY29sb3IiOiAxNjc3NzIxNSwgImtzY2FsZSI6IDEsICJ2c2NhbGUiOiAxfX19Cg==');</script>\n",
       "    "
      ],
      "text/plain": [
       "<IPython.core.display.HTML object>"
      ]
     },
     "metadata": {},
     "output_type": "display_data"
    },
    {
     "data": {
      "text/html": [
       "\n",
       "        <div id=\"Pk9oqVcpr8GWKi7PhQtMqg\"></div>\n",
       "        <script>netpixi.call('Pk9oqVcpr8GWKi7PhQtMqg', 'ENAk6YiDPa5DWrKXiWxk4g', 'changeGraph', 'eyJ0eXBlIjogInNldHRpbmdzIiwgInByb3BzIjogeyJ2ZXJ0ZXgiOiB7InNpemUiOiAyNX19fQo=');</script>\n",
       "    "
      ],
      "text/plain": [
       "<IPython.core.display.HTML object>"
      ]
     },
     "metadata": {},
     "output_type": "display_data"
    },
    {
     "data": {
      "text/html": [
       "\n",
       "        <div id=\"bUTaxDvdyJPxTiZjaaNkk6\"></div>\n",
       "        <script>netpixi.call('bUTaxDvdyJPxTiZjaaNkk6', 'ENAk6YiDPa5DWrKXiWxk4g', 'changeGraph', 'eyJ0eXBlIjogInNldHRpbmdzIiwgInByb3BzIjogeyJlZGdlIjogeyJ3aWR0aCI6IDEsICJjdXJ2ZTEiOiAwLjUsICJjdXJ2ZTIiOiAwLjV9fX0K');</script>\n",
       "    "
      ],
      "text/plain": [
       "<IPython.core.display.HTML object>"
      ]
     },
     "metadata": {},
     "output_type": "display_data"
    }
   ],
   "source": [
    "#Definindo as propriedades graficas do grafo,vertices e arestas\n",
    "pretty.graph(color=0xffffff,kscale=1,vscale=1)\n",
    "pretty.vertex_default(size=25)\n",
    "pretty.edge_default(width=1,curve1=0.5,curve2=0.5)"
   ]
  },
  {
   "cell_type": "code",
   "execution_count": 12,
   "id": "cb670e88",
   "metadata": {},
   "outputs": [],
   "source": [
    "def set_label_set_property(prop,label):\n",
    "    \n",
    "    for v in g.all_vertices(): \n",
    "        ver = v[prop]\n",
    "        id_v = v.get_id()\n",
    "        val_cor = 0xffffff\n",
    "        if prop == 'class':\n",
    "            if ver == \"MP*1\":\n",
    "                val_cor = 0x0000ff\n",
    "            elif ver == \"PC\":\n",
    "                val_cor = 0xff0000\n",
    "            elif ver == \"PSI*\":\n",
    "                val_cor = 0x00ff00\n",
    "            elif ver == \"PC*\":\n",
    "                val_cor = 0x008000\n",
    "            elif ver == \"MP*2\":\n",
    "                val_cor = 0x993399\n",
    "            else:\n",
    "                print(\"outro\")\n",
    "        elif prop == 'gender':\n",
    "            if ver == \"M\":\n",
    "                val_cor = 0x0000ff\n",
    "            elif ver == \"F\":\n",
    "                val_cor = 0xff0000\n",
    "            else:\n",
    "                print(\"outro\")\n",
    "        \n",
    "        pretty.vertex(id_v, color=val_cor)\n",
    "        pretty.vertex_set_key(label)\n",
    "    return None"
   ]
  },
  {
   "cell_type": "code",
   "execution_count": 13,
   "id": "e7a35f19",
   "metadata": {},
   "outputs": [
    {
     "data": {
      "text/html": [
       "\n",
       "        <div id=\"PcgHvqd29T8kTcEkYYo5o2\"></div>\n",
       "        <script>netpixi.call('PcgHvqd29T8kTcEkYYo5o2', 'ENAk6YiDPa5DWrKXiWxk4g', 'changeGraph', 'eyJpZCI6ICIxMTcwIiwgInR5cGUiOiAidmVydGV4IiwgInByb3BzIjogeyJjb2xvciI6IDI1NX19Cg==');</script>\n",
       "    "
      ],
      "text/plain": [
       "<IPython.core.display.HTML object>"
      ]
     },
     "metadata": {},
     "output_type": "display_data"
    },
    {
     "data": {
      "text/html": [
       "\n",
       "        <div id=\"9upHUZJUFFPbZgdRtXQZGY\"></div>\n",
       "        <script>netpixi.call('9upHUZJUFFPbZgdRtXQZGY', 'ENAk6YiDPa5DWrKXiWxk4g', 'setGraph', 'eyJ0eXBlIjogInZlcnRleCIsICJwcm9wcyI6IHsic3JjIjogImNsYXNzIiwgImRzdCI6ICJfa2V5In19Cg==');</script>\n",
       "    "
      ],
      "text/plain": [
       "<IPython.core.display.HTML object>"
      ]
     },
     "metadata": {},
     "output_type": "display_data"
    },
    {
     "data": {
      "text/html": [
       "\n",
       "        <div id=\"863fiEuN4ozjnNwftMDpck\"></div>\n",
       "        <script>netpixi.call('863fiEuN4ozjnNwftMDpck', 'ENAk6YiDPa5DWrKXiWxk4g', 'changeGraph', 'eyJpZCI6ICIxNjQ0IiwgInR5cGUiOiAidmVydGV4IiwgInByb3BzIjogeyJjb2xvciI6IDI1NX19Cg==');</script>\n",
       "    "
      ],
      "text/plain": [
       "<IPython.core.display.HTML object>"
      ]
     },
     "metadata": {},
     "output_type": "display_data"
    },
    {
     "data": {
      "text/html": [
       "\n",
       "        <div id=\"n3s3jtA3WSjVeopDbQWEaD\"></div>\n",
       "        <script>netpixi.call('n3s3jtA3WSjVeopDbQWEaD', 'ENAk6YiDPa5DWrKXiWxk4g', 'setGraph', 'eyJ0eXBlIjogInZlcnRleCIsICJwcm9wcyI6IHsic3JjIjogImNsYXNzIiwgImRzdCI6ICJfa2V5In19Cg==');</script>\n",
       "    "
      ],
      "text/plain": [
       "<IPython.core.display.HTML object>"
      ]
     },
     "metadata": {},
     "output_type": "display_data"
    },
    {
     "data": {
      "text/html": [
       "\n",
       "        <div id=\"jGaJMNnSijKoKjMJX5ctzz\"></div>\n",
       "        <script>netpixi.call('jGaJMNnSijKoKjMJX5ctzz', 'ENAk6YiDPa5DWrKXiWxk4g', 'changeGraph', 'eyJpZCI6ICIxNjEzIiwgInR5cGUiOiAidmVydGV4IiwgInByb3BzIjogeyJjb2xvciI6IDI1NX19Cg==');</script>\n",
       "    "
      ],
      "text/plain": [
       "<IPython.core.display.HTML object>"
      ]
     },
     "metadata": {},
     "output_type": "display_data"
    },
    {
     "data": {
      "text/html": [
       "\n",
       "        <div id=\"FqXRndZyet44ubSmkTv9qL\"></div>\n",
       "        <script>netpixi.call('FqXRndZyet44ubSmkTv9qL', 'ENAk6YiDPa5DWrKXiWxk4g', 'setGraph', 'eyJ0eXBlIjogInZlcnRleCIsICJwcm9wcyI6IHsic3JjIjogImNsYXNzIiwgImRzdCI6ICJfa2V5In19Cg==');</script>\n",
       "    "
      ],
      "text/plain": [
       "<IPython.core.display.HTML object>"
      ]
     },
     "metadata": {},
     "output_type": "display_data"
    },
    {
     "data": {
      "text/html": [
       "\n",
       "        <div id=\"K4A9QqnaHPtWpUSvyABtCF\"></div>\n",
       "        <script>netpixi.call('K4A9QqnaHPtWpUSvyABtCF', 'ENAk6YiDPa5DWrKXiWxk4g', 'changeGraph', 'eyJpZCI6ICIxMTgxIiwgInR5cGUiOiAidmVydGV4IiwgInByb3BzIjogeyJjb2xvciI6IDI1NX19Cg==');</script>\n",
       "    "
      ],
      "text/plain": [
       "<IPython.core.display.HTML object>"
      ]
     },
     "metadata": {},
     "output_type": "display_data"
    },
    {
     "data": {
      "text/html": [
       "\n",
       "        <div id=\"3q3RuCYL7AUWkAcLfJWwaN\"></div>\n",
       "        <script>netpixi.call('3q3RuCYL7AUWkAcLfJWwaN', 'ENAk6YiDPa5DWrKXiWxk4g', 'setGraph', 'eyJ0eXBlIjogInZlcnRleCIsICJwcm9wcyI6IHsic3JjIjogImNsYXNzIiwgImRzdCI6ICJfa2V5In19Cg==');</script>\n",
       "    "
      ],
      "text/plain": [
       "<IPython.core.display.HTML object>"
      ]
     },
     "metadata": {},
     "output_type": "display_data"
    },
    {
     "data": {
      "text/html": [
       "\n",
       "        <div id=\"NQ48J5trH3WrC3gcU7nDux\"></div>\n",
       "        <script>netpixi.call('NQ48J5trH3WrC3gcU7nDux', 'ENAk6YiDPa5DWrKXiWxk4g', 'changeGraph', 'eyJpZCI6ICIxNjUxIiwgInR5cGUiOiAidmVydGV4IiwgInByb3BzIjogeyJjb2xvciI6IDI1NX19Cg==');</script>\n",
       "    "
      ],
      "text/plain": [
       "<IPython.core.display.HTML object>"
      ]
     },
     "metadata": {},
     "output_type": "display_data"
    },
    {
     "data": {
      "text/html": [
       "\n",
       "        <div id=\"2TPP2ZqTPdkGZTGAVXTCyH\"></div>\n",
       "        <script>netpixi.call('2TPP2ZqTPdkGZTGAVXTCyH', 'ENAk6YiDPa5DWrKXiWxk4g', 'setGraph', 'eyJ0eXBlIjogInZlcnRleCIsICJwcm9wcyI6IHsic3JjIjogImNsYXNzIiwgImRzdCI6ICJfa2V5In19Cg==');</script>\n",
       "    "
      ],
      "text/plain": [
       "<IPython.core.display.HTML object>"
      ]
     },
     "metadata": {},
     "output_type": "display_data"
    },
    {
     "data": {
      "text/html": [
       "\n",
       "        <div id=\"34EqxoYpf7fXxVfKDQccaA\"></div>\n",
       "        <script>netpixi.call('34EqxoYpf7fXxVfKDQccaA', 'ENAk6YiDPa5DWrKXiWxk4g', 'changeGraph', 'eyJpZCI6ICIxMTA4IiwgInR5cGUiOiAidmVydGV4IiwgInByb3BzIjogeyJjb2xvciI6IDI1NX19Cg==');</script>\n",
       "    "
      ],
      "text/plain": [
       "<IPython.core.display.HTML object>"
      ]
     },
     "metadata": {},
     "output_type": "display_data"
    },
    {
     "data": {
      "text/html": [
       "\n",
       "        <div id=\"Lrddetvvf2SXdBTo8dYRLd\"></div>\n",
       "        <script>netpixi.call('Lrddetvvf2SXdBTo8dYRLd', 'ENAk6YiDPa5DWrKXiWxk4g', 'setGraph', 'eyJ0eXBlIjogInZlcnRleCIsICJwcm9wcyI6IHsic3JjIjogImNsYXNzIiwgImRzdCI6ICJfa2V5In19Cg==');</script>\n",
       "    "
      ],
      "text/plain": [
       "<IPython.core.display.HTML object>"
      ]
     },
     "metadata": {},
     "output_type": "display_data"
    },
    {
     "data": {
      "text/html": [
       "\n",
       "        <div id=\"HAR8mVSe8djDdGHdDiMVCh\"></div>\n",
       "        <script>netpixi.call('HAR8mVSe8djDdGHdDiMVCh', 'ENAk6YiDPa5DWrKXiWxk4g', 'changeGraph', 'eyJpZCI6ICIxMTkwIiwgInR5cGUiOiAidmVydGV4IiwgInByb3BzIjogeyJjb2xvciI6IDI1NX19Cg==');</script>\n",
       "    "
      ],
      "text/plain": [
       "<IPython.core.display.HTML object>"
      ]
     },
     "metadata": {},
     "output_type": "display_data"
    },
    {
     "data": {
      "text/html": [
       "\n",
       "        <div id=\"7bSSWobDhjuAhScHLPisg9\"></div>\n",
       "        <script>netpixi.call('7bSSWobDhjuAhScHLPisg9', 'ENAk6YiDPa5DWrKXiWxk4g', 'setGraph', 'eyJ0eXBlIjogInZlcnRleCIsICJwcm9wcyI6IHsic3JjIjogImNsYXNzIiwgImRzdCI6ICJfa2V5In19Cg==');</script>\n",
       "    "
      ],
      "text/plain": [
       "<IPython.core.display.HTML object>"
      ]
     },
     "metadata": {},
     "output_type": "display_data"
    },
    {
     "data": {
      "text/html": [
       "\n",
       "        <div id=\"P9isp3tj49gPBgjbreda7j\"></div>\n",
       "        <script>netpixi.call('P9isp3tj49gPBgjbreda7j', 'ENAk6YiDPa5DWrKXiWxk4g', 'changeGraph', 'eyJpZCI6ICIxNjcxIiwgInR5cGUiOiAidmVydGV4IiwgInByb3BzIjogeyJjb2xvciI6IDI1NX19Cg==');</script>\n",
       "    "
      ],
      "text/plain": [
       "<IPython.core.display.HTML object>"
      ]
     },
     "metadata": {},
     "output_type": "display_data"
    },
    {
     "data": {
      "text/html": [
       "\n",
       "        <div id=\"2u6Ms9F9ZFCeAcFQBWgg6X\"></div>\n",
       "        <script>netpixi.call('2u6Ms9F9ZFCeAcFQBWgg6X', 'ENAk6YiDPa5DWrKXiWxk4g', 'setGraph', 'eyJ0eXBlIjogInZlcnRleCIsICJwcm9wcyI6IHsic3JjIjogImNsYXNzIiwgImRzdCI6ICJfa2V5In19Cg==');</script>\n",
       "    "
      ],
      "text/plain": [
       "<IPython.core.display.HTML object>"
      ]
     },
     "metadata": {},
     "output_type": "display_data"
    },
    {
     "data": {
      "text/html": [
       "\n",
       "        <div id=\"CrJn24pPrhBfbgyYzyJg5A\"></div>\n",
       "        <script>netpixi.call('CrJn24pPrhBfbgyYzyJg5A', 'ENAk6YiDPa5DWrKXiWxk4g', 'changeGraph', 'eyJpZCI6ICIxNjcyIiwgInR5cGUiOiAidmVydGV4IiwgInByb3BzIjogeyJjb2xvciI6IDI1NX19Cg==');</script>\n",
       "    "
      ],
      "text/plain": [
       "<IPython.core.display.HTML object>"
      ]
     },
     "metadata": {},
     "output_type": "display_data"
    },
    {
     "data": {
      "text/html": [
       "\n",
       "        <div id=\"C8fZenBLknjEXCerDsrVZA\"></div>\n",
       "        <script>netpixi.call('C8fZenBLknjEXCerDsrVZA', 'ENAk6YiDPa5DWrKXiWxk4g', 'setGraph', 'eyJ0eXBlIjogInZlcnRleCIsICJwcm9wcyI6IHsic3JjIjogImNsYXNzIiwgImRzdCI6ICJfa2V5In19Cg==');</script>\n",
       "    "
      ],
      "text/plain": [
       "<IPython.core.display.HTML object>"
      ]
     },
     "metadata": {},
     "output_type": "display_data"
    },
    {
     "data": {
      "text/html": [
       "\n",
       "        <div id=\"oJoytxrkWsD6a3Nk7QzhhX\"></div>\n",
       "        <script>netpixi.call('oJoytxrkWsD6a3Nk7QzhhX', 'ENAk6YiDPa5DWrKXiWxk4g', 'changeGraph', 'eyJpZCI6ICIxNjYwIiwgInR5cGUiOiAidmVydGV4IiwgInByb3BzIjogeyJjb2xvciI6IDE2NzExNjgwfX0K');</script>\n",
       "    "
      ],
      "text/plain": [
       "<IPython.core.display.HTML object>"
      ]
     },
     "metadata": {},
     "output_type": "display_data"
    },
    {
     "data": {
      "text/html": [
       "\n",
       "        <div id=\"X3qmS6Em8QEP4BqDG2iZiV\"></div>\n",
       "        <script>netpixi.call('X3qmS6Em8QEP4BqDG2iZiV', 'ENAk6YiDPa5DWrKXiWxk4g', 'setGraph', 'eyJ0eXBlIjogInZlcnRleCIsICJwcm9wcyI6IHsic3JjIjogImNsYXNzIiwgImRzdCI6ICJfa2V5In19Cg==');</script>\n",
       "    "
      ],
      "text/plain": [
       "<IPython.core.display.HTML object>"
      ]
     },
     "metadata": {},
     "output_type": "display_data"
    },
    {
     "data": {
      "text/html": [
       "\n",
       "        <div id=\"H2qPaxb8cwkfs6tWJmA6ow\"></div>\n",
       "        <script>netpixi.call('H2qPaxb8cwkfs6tWJmA6ow', 'ENAk6YiDPa5DWrKXiWxk4g', 'changeGraph', 'eyJpZCI6ICIxNjYyIiwgInR5cGUiOiAidmVydGV4IiwgInByb3BzIjogeyJjb2xvciI6IDE2NzExNjgwfX0K');</script>\n",
       "    "
      ],
      "text/plain": [
       "<IPython.core.display.HTML object>"
      ]
     },
     "metadata": {},
     "output_type": "display_data"
    },
    {
     "data": {
      "text/html": [
       "\n",
       "        <div id=\"MyNCLiPWPkJ3bcP6Mz8ZJU\"></div>\n",
       "        <script>netpixi.call('MyNCLiPWPkJ3bcP6Mz8ZJU', 'ENAk6YiDPa5DWrKXiWxk4g', 'setGraph', 'eyJ0eXBlIjogInZlcnRleCIsICJwcm9wcyI6IHsic3JjIjogImNsYXNzIiwgImRzdCI6ICJfa2V5In19Cg==');</script>\n",
       "    "
      ],
      "text/plain": [
       "<IPython.core.display.HTML object>"
      ]
     },
     "metadata": {},
     "output_type": "display_data"
    },
    {
     "data": {
      "text/html": [
       "\n",
       "        <div id=\"H5uQJuvJfCiJiYpCiabtBX\"></div>\n",
       "        <script>netpixi.call('H5uQJuvJfCiJiYpCiabtBX', 'ENAk6YiDPa5DWrKXiWxk4g', 'changeGraph', 'eyJpZCI6ICI4MDMiLCAidHlwZSI6ICJ2ZXJ0ZXgiLCAicHJvcHMiOiB7ImNvbG9yIjogMTY3MTE2ODB9fQo=');</script>\n",
       "    "
      ],
      "text/plain": [
       "<IPython.core.display.HTML object>"
      ]
     },
     "metadata": {},
     "output_type": "display_data"
    },
    {
     "data": {
      "text/html": [
       "\n",
       "        <div id=\"DBppmE3oUgfoxUaYF6GqsE\"></div>\n",
       "        <script>netpixi.call('DBppmE3oUgfoxUaYF6GqsE', 'ENAk6YiDPa5DWrKXiWxk4g', 'setGraph', 'eyJ0eXBlIjogInZlcnRleCIsICJwcm9wcyI6IHsic3JjIjogImNsYXNzIiwgImRzdCI6ICJfa2V5In19Cg==');</script>\n",
       "    "
      ],
      "text/plain": [
       "<IPython.core.display.HTML object>"
      ]
     },
     "metadata": {},
     "output_type": "display_data"
    },
    {
     "data": {
      "text/html": [
       "\n",
       "        <div id=\"EcVyiBh5nNDsJfWoUhhchj\"></div>\n",
       "        <script>netpixi.call('EcVyiBh5nNDsJfWoUhhchj', 'ENAk6YiDPa5DWrKXiWxk4g', 'changeGraph', 'eyJpZCI6ICI4NDkiLCAidHlwZSI6ICJ2ZXJ0ZXgiLCAicHJvcHMiOiB7ImNvbG9yIjogMTY3MTE2ODB9fQo=');</script>\n",
       "    "
      ],
      "text/plain": [
       "<IPython.core.display.HTML object>"
      ]
     },
     "metadata": {},
     "output_type": "display_data"
    },
    {
     "data": {
      "text/html": [
       "\n",
       "        <div id=\"QAiTsNbYieRjZXdKsccTB5\"></div>\n",
       "        <script>netpixi.call('QAiTsNbYieRjZXdKsccTB5', 'ENAk6YiDPa5DWrKXiWxk4g', 'setGraph', 'eyJ0eXBlIjogInZlcnRleCIsICJwcm9wcyI6IHsic3JjIjogImNsYXNzIiwgImRzdCI6ICJfa2V5In19Cg==');</script>\n",
       "    "
      ],
      "text/plain": [
       "<IPython.core.display.HTML object>"
      ]
     },
     "metadata": {},
     "output_type": "display_data"
    },
    {
     "data": {
      "text/html": [
       "\n",
       "        <div id=\"Ew5R77GB7m4BvQc6W9UFyu\"></div>\n",
       "        <script>netpixi.call('Ew5R77GB7m4BvQc6W9UFyu', 'ENAk6YiDPa5DWrKXiWxk4g', 'changeGraph', 'eyJpZCI6ICIxMTQ0IiwgInR5cGUiOiAidmVydGV4IiwgInByb3BzIjogeyJjb2xvciI6IDE2NzExNjgwfX0K');</script>\n",
       "    "
      ],
      "text/plain": [
       "<IPython.core.display.HTML object>"
      ]
     },
     "metadata": {},
     "output_type": "display_data"
    },
    {
     "data": {
      "text/html": [
       "\n",
       "        <div id=\"MutZQRLEZppJfhhcbnHzUW\"></div>\n",
       "        <script>netpixi.call('MutZQRLEZppJfhhcbnHzUW', 'ENAk6YiDPa5DWrKXiWxk4g', 'setGraph', 'eyJ0eXBlIjogInZlcnRleCIsICJwcm9wcyI6IHsic3JjIjogImNsYXNzIiwgImRzdCI6ICJfa2V5In19Cg==');</script>\n",
       "    "
      ],
      "text/plain": [
       "<IPython.core.display.HTML object>"
      ]
     },
     "metadata": {},
     "output_type": "display_data"
    },
    {
     "data": {
      "text/html": [
       "\n",
       "        <div id=\"kndaHsRdjnzKZPNwoEcsnJ\"></div>\n",
       "        <script>netpixi.call('kndaHsRdjnzKZPNwoEcsnJ', 'ENAk6YiDPa5DWrKXiWxk4g', 'changeGraph', 'eyJpZCI6ICI2NTYiLCAidHlwZSI6ICJ2ZXJ0ZXgiLCAicHJvcHMiOiB7ImNvbG9yIjogMjU1fX0K');</script>\n",
       "    "
      ],
      "text/plain": [
       "<IPython.core.display.HTML object>"
      ]
     },
     "metadata": {},
     "output_type": "display_data"
    },
    {
     "data": {
      "text/html": [
       "\n",
       "        <div id=\"5WyEJi4kZwBpZhyoKiACCu\"></div>\n",
       "        <script>netpixi.call('5WyEJi4kZwBpZhyoKiACCu', 'ENAk6YiDPa5DWrKXiWxk4g', 'setGraph', 'eyJ0eXBlIjogInZlcnRleCIsICJwcm9wcyI6IHsic3JjIjogImNsYXNzIiwgImRzdCI6ICJfa2V5In19Cg==');</script>\n",
       "    "
      ],
      "text/plain": [
       "<IPython.core.display.HTML object>"
      ]
     },
     "metadata": {},
     "output_type": "display_data"
    },
    {
     "data": {
      "text/html": [
       "\n",
       "        <div id=\"fav3Dzu2SWgbYSkWKCFB2o\"></div>\n",
       "        <script>netpixi.call('fav3Dzu2SWgbYSkWKCFB2o', 'ENAk6YiDPa5DWrKXiWxk4g', 'changeGraph', 'eyJpZCI6ICI2ODIiLCAidHlwZSI6ICJ2ZXJ0ZXgiLCAicHJvcHMiOiB7ImNvbG9yIjogMjU1fX0K');</script>\n",
       "    "
      ],
      "text/plain": [
       "<IPython.core.display.HTML object>"
      ]
     },
     "metadata": {},
     "output_type": "display_data"
    },
    {
     "data": {
      "text/html": [
       "\n",
       "        <div id=\"FxK7guW4P6bwH42DPtWS5B\"></div>\n",
       "        <script>netpixi.call('FxK7guW4P6bwH42DPtWS5B', 'ENAk6YiDPa5DWrKXiWxk4g', 'setGraph', 'eyJ0eXBlIjogInZlcnRleCIsICJwcm9wcyI6IHsic3JjIjogImNsYXNzIiwgImRzdCI6ICJfa2V5In19Cg==');</script>\n",
       "    "
      ],
      "text/plain": [
       "<IPython.core.display.HTML object>"
      ]
     },
     "metadata": {},
     "output_type": "display_data"
    },
    {
     "data": {
      "text/html": [
       "\n",
       "        <div id=\"g7Mnpq3uYiBbsxm5HSYctr\"></div>\n",
       "        <script>netpixi.call('g7Mnpq3uYiBbsxm5HSYctr', 'ENAk6YiDPa5DWrKXiWxk4g', 'changeGraph', 'eyJpZCI6ICIxMTQ4IiwgInR5cGUiOiAidmVydGV4IiwgInByb3BzIjogeyJjb2xvciI6IDI1NX19Cg==');</script>\n",
       "    "
      ],
      "text/plain": [
       "<IPython.core.display.HTML object>"
      ]
     },
     "metadata": {},
     "output_type": "display_data"
    },
    {
     "data": {
      "text/html": [
       "\n",
       "        <div id=\"QhKfJY8HgSoRKKftXmQhhA\"></div>\n",
       "        <script>netpixi.call('QhKfJY8HgSoRKKftXmQhhA', 'ENAk6YiDPa5DWrKXiWxk4g', 'setGraph', 'eyJ0eXBlIjogInZlcnRleCIsICJwcm9wcyI6IHsic3JjIjogImNsYXNzIiwgImRzdCI6ICJfa2V5In19Cg==');</script>\n",
       "    "
      ],
      "text/plain": [
       "<IPython.core.display.HTML object>"
      ]
     },
     "metadata": {},
     "output_type": "display_data"
    },
    {
     "data": {
      "text/html": [
       "\n",
       "        <div id=\"GLeyLkrZvAftdKRVm6VJvA\"></div>\n",
       "        <script>netpixi.call('GLeyLkrZvAftdKRVm6VJvA', 'ENAk6YiDPa5DWrKXiWxk4g', 'changeGraph', 'eyJpZCI6ICIxNjMyIiwgInR5cGUiOiAidmVydGV4IiwgInByb3BzIjogeyJjb2xvciI6IDI1NX19Cg==');</script>\n",
       "    "
      ],
      "text/plain": [
       "<IPython.core.display.HTML object>"
      ]
     },
     "metadata": {},
     "output_type": "display_data"
    },
    {
     "data": {
      "text/html": [
       "\n",
       "        <div id=\"8d3XH5CZXKWAjCMAn9ervK\"></div>\n",
       "        <script>netpixi.call('8d3XH5CZXKWAjCMAn9ervK', 'ENAk6YiDPa5DWrKXiWxk4g', 'setGraph', 'eyJ0eXBlIjogInZlcnRleCIsICJwcm9wcyI6IHsic3JjIjogImNsYXNzIiwgImRzdCI6ICJfa2V5In19Cg==');</script>\n",
       "    "
      ],
      "text/plain": [
       "<IPython.core.display.HTML object>"
      ]
     },
     "metadata": {},
     "output_type": "display_data"
    },
    {
     "data": {
      "text/html": [
       "\n",
       "        <div id=\"JDki4QtpHpQBbQa8mEhdNU\"></div>\n",
       "        <script>netpixi.call('JDki4QtpHpQBbQa8mEhdNU', 'ENAk6YiDPa5DWrKXiWxk4g', 'changeGraph', 'eyJpZCI6ICIxNDkyIiwgInR5cGUiOiAidmVydGV4IiwgInByb3BzIjogeyJjb2xvciI6IDI1NX19Cg==');</script>\n",
       "    "
      ],
      "text/plain": [
       "<IPython.core.display.HTML object>"
      ]
     },
     "metadata": {},
     "output_type": "display_data"
    },
    {
     "data": {
      "text/html": [
       "\n",
       "        <div id=\"cZoRaZoADAuQSHXfPzugj9\"></div>\n",
       "        <script>netpixi.call('cZoRaZoADAuQSHXfPzugj9', 'ENAk6YiDPa5DWrKXiWxk4g', 'setGraph', 'eyJ0eXBlIjogInZlcnRleCIsICJwcm9wcyI6IHsic3JjIjogImNsYXNzIiwgImRzdCI6ICJfa2V5In19Cg==');</script>\n",
       "    "
      ],
      "text/plain": [
       "<IPython.core.display.HTML object>"
      ]
     },
     "metadata": {},
     "output_type": "display_data"
    },
    {
     "data": {
      "text/html": [
       "\n",
       "        <div id=\"HswAqP5K2DdnsTo2iseesA\"></div>\n",
       "        <script>netpixi.call('HswAqP5K2DdnsTo2iseesA', 'ENAk6YiDPa5DWrKXiWxk4g', 'changeGraph', 'eyJpZCI6ICIxNjAxIiwgInR5cGUiOiAidmVydGV4IiwgInByb3BzIjogeyJjb2xvciI6IDI1NX19Cg==');</script>\n",
       "    "
      ],
      "text/plain": [
       "<IPython.core.display.HTML object>"
      ]
     },
     "metadata": {},
     "output_type": "display_data"
    },
    {
     "data": {
      "text/html": [
       "\n",
       "        <div id=\"AEKuT8EHTyjMMKjYHxeeZk\"></div>\n",
       "        <script>netpixi.call('AEKuT8EHTyjMMKjYHxeeZk', 'ENAk6YiDPa5DWrKXiWxk4g', 'setGraph', 'eyJ0eXBlIjogInZlcnRleCIsICJwcm9wcyI6IHsic3JjIjogImNsYXNzIiwgImRzdCI6ICJfa2V5In19Cg==');</script>\n",
       "    "
      ],
      "text/plain": [
       "<IPython.core.display.HTML object>"
      ]
     },
     "metadata": {},
     "output_type": "display_data"
    },
    {
     "data": {
      "text/html": [
       "\n",
       "        <div id=\"2h2jVuNTj59ej95R33KHP7\"></div>\n",
       "        <script>netpixi.call('2h2jVuNTj59ej95R33KHP7', 'ENAk6YiDPa5DWrKXiWxk4g', 'changeGraph', 'eyJpZCI6ICI2MjYiLCAidHlwZSI6ICJ2ZXJ0ZXgiLCAicHJvcHMiOiB7ImNvbG9yIjogMjU1fX0K');</script>\n",
       "    "
      ],
      "text/plain": [
       "<IPython.core.display.HTML object>"
      ]
     },
     "metadata": {},
     "output_type": "display_data"
    },
    {
     "data": {
      "text/html": [
       "\n",
       "        <div id=\"PTRpZt8uXXinKo8acZ2dJo\"></div>\n",
       "        <script>netpixi.call('PTRpZt8uXXinKo8acZ2dJo', 'ENAk6YiDPa5DWrKXiWxk4g', 'setGraph', 'eyJ0eXBlIjogInZlcnRleCIsICJwcm9wcyI6IHsic3JjIjogImNsYXNzIiwgImRzdCI6ICJfa2V5In19Cg==');</script>\n",
       "    "
      ],
      "text/plain": [
       "<IPython.core.display.HTML object>"
      ]
     },
     "metadata": {},
     "output_type": "display_data"
    },
    {
     "data": {
      "text/html": [
       "\n",
       "        <div id=\"m8e3hLa56hV9NeYEheLwE7\"></div>\n",
       "        <script>netpixi.call('m8e3hLa56hV9NeYEheLwE7', 'ENAk6YiDPa5DWrKXiWxk4g', 'changeGraph', 'eyJpZCI6ICI2OTgiLCAidHlwZSI6ICJ2ZXJ0ZXgiLCAicHJvcHMiOiB7ImNvbG9yIjogMjU1fX0K');</script>\n",
       "    "
      ],
      "text/plain": [
       "<IPython.core.display.HTML object>"
      ]
     },
     "metadata": {},
     "output_type": "display_data"
    },
    {
     "data": {
      "text/html": [
       "\n",
       "        <div id=\"dju5So42DvqWPR9WfZn9wN\"></div>\n",
       "        <script>netpixi.call('dju5So42DvqWPR9WfZn9wN', 'ENAk6YiDPa5DWrKXiWxk4g', 'setGraph', 'eyJ0eXBlIjogInZlcnRleCIsICJwcm9wcyI6IHsic3JjIjogImNsYXNzIiwgImRzdCI6ICJfa2V5In19Cg==');</script>\n",
       "    "
      ],
      "text/plain": [
       "<IPython.core.display.HTML object>"
      ]
     },
     "metadata": {},
     "output_type": "display_data"
    },
    {
     "data": {
      "text/html": [
       "\n",
       "        <div id=\"63ZhdRMUyH4vKdPTL2aujj\"></div>\n",
       "        <script>netpixi.call('63ZhdRMUyH4vKdPTL2aujj', 'ENAk6YiDPa5DWrKXiWxk4g', 'changeGraph', 'eyJpZCI6ICI2ODMiLCAidHlwZSI6ICJ2ZXJ0ZXgiLCAicHJvcHMiOiB7ImNvbG9yIjogMTY3MTE2ODB9fQo=');</script>\n",
       "    "
      ],
      "text/plain": [
       "<IPython.core.display.HTML object>"
      ]
     },
     "metadata": {},
     "output_type": "display_data"
    },
    {
     "data": {
      "text/html": [
       "\n",
       "        <div id=\"Tnw2sZ6n6EU4fm8VNRTCL3\"></div>\n",
       "        <script>netpixi.call('Tnw2sZ6n6EU4fm8VNRTCL3', 'ENAk6YiDPa5DWrKXiWxk4g', 'setGraph', 'eyJ0eXBlIjogInZlcnRleCIsICJwcm9wcyI6IHsic3JjIjogImNsYXNzIiwgImRzdCI6ICJfa2V5In19Cg==');</script>\n",
       "    "
      ],
      "text/plain": [
       "<IPython.core.display.HTML object>"
      ]
     },
     "metadata": {},
     "output_type": "display_data"
    },
    {
     "data": {
      "text/html": [
       "\n",
       "        <div id=\"TEbA5jMt7BxrxPNT5ijhdJ\"></div>\n",
       "        <script>netpixi.call('TEbA5jMt7BxrxPNT5ijhdJ', 'ENAk6YiDPa5DWrKXiWxk4g', 'changeGraph', 'eyJpZCI6ICI2OTIiLCAidHlwZSI6ICJ2ZXJ0ZXgiLCAicHJvcHMiOiB7ImNvbG9yIjogMjU1fX0K');</script>\n",
       "    "
      ],
      "text/plain": [
       "<IPython.core.display.HTML object>"
      ]
     },
     "metadata": {},
     "output_type": "display_data"
    },
    {
     "data": {
      "text/html": [
       "\n",
       "        <div id=\"8ZkbsAM6tC6CgpaFKmAk8B\"></div>\n",
       "        <script>netpixi.call('8ZkbsAM6tC6CgpaFKmAk8B', 'ENAk6YiDPa5DWrKXiWxk4g', 'setGraph', 'eyJ0eXBlIjogInZlcnRleCIsICJwcm9wcyI6IHsic3JjIjogImNsYXNzIiwgImRzdCI6ICJfa2V5In19Cg==');</script>\n",
       "    "
      ],
      "text/plain": [
       "<IPython.core.display.HTML object>"
      ]
     },
     "metadata": {},
     "output_type": "display_data"
    },
    {
     "data": {
      "text/html": [
       "\n",
       "        <div id=\"aeF4F8v2xQENSPwL56245E\"></div>\n",
       "        <script>netpixi.call('aeF4F8v2xQENSPwL56245E', 'ENAk6YiDPa5DWrKXiWxk4g', 'changeGraph', 'eyJpZCI6ICI2MTAiLCAidHlwZSI6ICJ2ZXJ0ZXgiLCAicHJvcHMiOiB7ImNvbG9yIjogMjU1fX0K');</script>\n",
       "    "
      ],
      "text/plain": [
       "<IPython.core.display.HTML object>"
      ]
     },
     "metadata": {},
     "output_type": "display_data"
    },
    {
     "data": {
      "text/html": [
       "\n",
       "        <div id=\"RAaWYVcNfcbMUMqaS6TRqE\"></div>\n",
       "        <script>netpixi.call('RAaWYVcNfcbMUMqaS6TRqE', 'ENAk6YiDPa5DWrKXiWxk4g', 'setGraph', 'eyJ0eXBlIjogInZlcnRleCIsICJwcm9wcyI6IHsic3JjIjogImNsYXNzIiwgImRzdCI6ICJfa2V5In19Cg==');</script>\n",
       "    "
      ],
      "text/plain": [
       "<IPython.core.display.HTML object>"
      ]
     },
     "metadata": {},
     "output_type": "display_data"
    },
    {
     "data": {
      "text/html": [
       "\n",
       "        <div id=\"YMhd7iKXmDp5USH6PDQ2GQ\"></div>\n",
       "        <script>netpixi.call('YMhd7iKXmDp5USH6PDQ2GQ', 'ENAk6YiDPa5DWrKXiWxk4g', 'changeGraph', 'eyJpZCI6ICI2MzYiLCAidHlwZSI6ICJ2ZXJ0ZXgiLCAicHJvcHMiOiB7ImNvbG9yIjogMjU1fX0K');</script>\n",
       "    "
      ],
      "text/plain": [
       "<IPython.core.display.HTML object>"
      ]
     },
     "metadata": {},
     "output_type": "display_data"
    },
    {
     "data": {
      "text/html": [
       "\n",
       "        <div id=\"nifrLoQFBc4owMqK8VHnJb\"></div>\n",
       "        <script>netpixi.call('nifrLoQFBc4owMqK8VHnJb', 'ENAk6YiDPa5DWrKXiWxk4g', 'setGraph', 'eyJ0eXBlIjogInZlcnRleCIsICJwcm9wcyI6IHsic3JjIjogImNsYXNzIiwgImRzdCI6ICJfa2V5In19Cg==');</script>\n",
       "    "
      ],
      "text/plain": [
       "<IPython.core.display.HTML object>"
      ]
     },
     "metadata": {},
     "output_type": "display_data"
    },
    {
     "data": {
      "text/html": [
       "\n",
       "        <div id=\"ZvG8JgXiYjdmvFBWv2euEu\"></div>\n",
       "        <script>netpixi.call('ZvG8JgXiYjdmvFBWv2euEu', 'ENAk6YiDPa5DWrKXiWxk4g', 'changeGraph', 'eyJpZCI6ICI2NDMiLCAidHlwZSI6ICJ2ZXJ0ZXgiLCAicHJvcHMiOiB7ImNvbG9yIjogMTY3MTE2ODB9fQo=');</script>\n",
       "    "
      ],
      "text/plain": [
       "<IPython.core.display.HTML object>"
      ]
     },
     "metadata": {},
     "output_type": "display_data"
    },
    {
     "data": {
      "text/html": [
       "\n",
       "        <div id=\"JEgEgw8XKTxw7s9Enqvzjr\"></div>\n",
       "        <script>netpixi.call('JEgEgw8XKTxw7s9Enqvzjr', 'ENAk6YiDPa5DWrKXiWxk4g', 'setGraph', 'eyJ0eXBlIjogInZlcnRleCIsICJwcm9wcyI6IHsic3JjIjogImNsYXNzIiwgImRzdCI6ICJfa2V5In19Cg==');</script>\n",
       "    "
      ],
      "text/plain": [
       "<IPython.core.display.HTML object>"
      ]
     },
     "metadata": {},
     "output_type": "display_data"
    },
    {
     "data": {
      "text/html": [
       "\n",
       "        <div id=\"4ijiQqnpjasveBS6jPBSB6\"></div>\n",
       "        <script>netpixi.call('4ijiQqnpjasveBS6jPBSB6', 'ENAk6YiDPa5DWrKXiWxk4g', 'changeGraph', 'eyJpZCI6ICI2NTQiLCAidHlwZSI6ICJ2ZXJ0ZXgiLCAicHJvcHMiOiB7ImNvbG9yIjogMjU1fX0K');</script>\n",
       "    "
      ],
      "text/plain": [
       "<IPython.core.display.HTML object>"
      ]
     },
     "metadata": {},
     "output_type": "display_data"
    },
    {
     "data": {
      "text/html": [
       "\n",
       "        <div id=\"SiZnCP2yJJxZH58Epz9cCc\"></div>\n",
       "        <script>netpixi.call('SiZnCP2yJJxZH58Epz9cCc', 'ENAk6YiDPa5DWrKXiWxk4g', 'setGraph', 'eyJ0eXBlIjogInZlcnRleCIsICJwcm9wcyI6IHsic3JjIjogImNsYXNzIiwgImRzdCI6ICJfa2V5In19Cg==');</script>\n",
       "    "
      ],
      "text/plain": [
       "<IPython.core.display.HTML object>"
      ]
     },
     "metadata": {},
     "output_type": "display_data"
    },
    {
     "data": {
      "text/html": [
       "\n",
       "        <div id=\"jKF7enGaKf6wuqW7FU2aaf\"></div>\n",
       "        <script>netpixi.call('jKF7enGaKf6wuqW7FU2aaf', 'ENAk6YiDPa5DWrKXiWxk4g', 'changeGraph', 'eyJpZCI6ICI2OTQiLCAidHlwZSI6ICJ2ZXJ0ZXgiLCAicHJvcHMiOiB7ImNvbG9yIjogMTY3MTE2ODB9fQo=');</script>\n",
       "    "
      ],
      "text/plain": [
       "<IPython.core.display.HTML object>"
      ]
     },
     "metadata": {},
     "output_type": "display_data"
    },
    {
     "data": {
      "text/html": [
       "\n",
       "        <div id=\"QmFwJ9w9B8rZuuDVUDC8RU\"></div>\n",
       "        <script>netpixi.call('QmFwJ9w9B8rZuuDVUDC8RU', 'ENAk6YiDPa5DWrKXiWxk4g', 'setGraph', 'eyJ0eXBlIjogInZlcnRleCIsICJwcm9wcyI6IHsic3JjIjogImNsYXNzIiwgImRzdCI6ICJfa2V5In19Cg==');</script>\n",
       "    "
      ],
      "text/plain": [
       "<IPython.core.display.HTML object>"
      ]
     },
     "metadata": {},
     "output_type": "display_data"
    },
    {
     "data": {
      "text/html": [
       "\n",
       "        <div id=\"Gst2SuVryhiPgrnLrNTUsa\"></div>\n",
       "        <script>netpixi.call('Gst2SuVryhiPgrnLrNTUsa', 'ENAk6YiDPa5DWrKXiWxk4g', 'changeGraph', 'eyJpZCI6ICI2MjMiLCAidHlwZSI6ICJ2ZXJ0ZXgiLCAicHJvcHMiOiB7ImNvbG9yIjogMTY3MTE2ODB9fQo=');</script>\n",
       "    "
      ],
      "text/plain": [
       "<IPython.core.display.HTML object>"
      ]
     },
     "metadata": {},
     "output_type": "display_data"
    },
    {
     "data": {
      "text/html": [
       "\n",
       "        <div id=\"YEGqJuXADyVxFXRg7YbNqv\"></div>\n",
       "        <script>netpixi.call('YEGqJuXADyVxFXRg7YbNqv', 'ENAk6YiDPa5DWrKXiWxk4g', 'setGraph', 'eyJ0eXBlIjogInZlcnRleCIsICJwcm9wcyI6IHsic3JjIjogImNsYXNzIiwgImRzdCI6ICJfa2V5In19Cg==');</script>\n",
       "    "
      ],
      "text/plain": [
       "<IPython.core.display.HTML object>"
      ]
     },
     "metadata": {},
     "output_type": "display_data"
    },
    {
     "data": {
      "text/html": [
       "\n",
       "        <div id=\"DfBQWPZF9MM9NyqCDyUGsy\"></div>\n",
       "        <script>netpixi.call('DfBQWPZF9MM9NyqCDyUGsy', 'ENAk6YiDPa5DWrKXiWxk4g', 'changeGraph', 'eyJpZCI6ICI2NTIiLCAidHlwZSI6ICJ2ZXJ0ZXgiLCAicHJvcHMiOiB7ImNvbG9yIjogMjU1fX0K');</script>\n",
       "    "
      ],
      "text/plain": [
       "<IPython.core.display.HTML object>"
      ]
     },
     "metadata": {},
     "output_type": "display_data"
    },
    {
     "data": {
      "text/html": [
       "\n",
       "        <div id=\"j8dkwDzXMEVnStWstoPfFU\"></div>\n",
       "        <script>netpixi.call('j8dkwDzXMEVnStWstoPfFU', 'ENAk6YiDPa5DWrKXiWxk4g', 'setGraph', 'eyJ0eXBlIjogInZlcnRleCIsICJwcm9wcyI6IHsic3JjIjogImNsYXNzIiwgImRzdCI6ICJfa2V5In19Cg==');</script>\n",
       "    "
      ],
      "text/plain": [
       "<IPython.core.display.HTML object>"
      ]
     },
     "metadata": {},
     "output_type": "display_data"
    },
    {
     "data": {
      "text/html": [
       "\n",
       "        <div id=\"cQRWib7J5ms5mu6tqxfmwU\"></div>\n",
       "        <script>netpixi.call('cQRWib7J5ms5mu6tqxfmwU', 'ENAk6YiDPa5DWrKXiWxk4g', 'changeGraph', 'eyJpZCI6ICI2NjEiLCAidHlwZSI6ICJ2ZXJ0ZXgiLCAicHJvcHMiOiB7ImNvbG9yIjogMjU1fX0K');</script>\n",
       "    "
      ],
      "text/plain": [
       "<IPython.core.display.HTML object>"
      ]
     },
     "metadata": {},
     "output_type": "display_data"
    },
    {
     "data": {
      "text/html": [
       "\n",
       "        <div id=\"WedFof7Ncc5rjNbWbUjQiw\"></div>\n",
       "        <script>netpixi.call('WedFof7Ncc5rjNbWbUjQiw', 'ENAk6YiDPa5DWrKXiWxk4g', 'setGraph', 'eyJ0eXBlIjogInZlcnRleCIsICJwcm9wcyI6IHsic3JjIjogImNsYXNzIiwgImRzdCI6ICJfa2V5In19Cg==');</script>\n",
       "    "
      ],
      "text/plain": [
       "<IPython.core.display.HTML object>"
      ]
     },
     "metadata": {},
     "output_type": "display_data"
    },
    {
     "data": {
      "text/html": [
       "\n",
       "        <div id=\"aPx23Qz7kDGEqjAoHPcKQn\"></div>\n",
       "        <script>netpixi.call('aPx23Qz7kDGEqjAoHPcKQn', 'ENAk6YiDPa5DWrKXiWxk4g', 'changeGraph', 'eyJpZCI6ICI2MTYiLCAidHlwZSI6ICJ2ZXJ0ZXgiLCAicHJvcHMiOiB7ImNvbG9yIjogMjU1fX0K');</script>\n",
       "    "
      ],
      "text/plain": [
       "<IPython.core.display.HTML object>"
      ]
     },
     "metadata": {},
     "output_type": "display_data"
    },
    {
     "data": {
      "text/html": [
       "\n",
       "        <div id=\"UMQBcBmC8x9THX4f7Ti7cs\"></div>\n",
       "        <script>netpixi.call('UMQBcBmC8x9THX4f7Ti7cs', 'ENAk6YiDPa5DWrKXiWxk4g', 'setGraph', 'eyJ0eXBlIjogInZlcnRleCIsICJwcm9wcyI6IHsic3JjIjogImNsYXNzIiwgImRzdCI6ICJfa2V5In19Cg==');</script>\n",
       "    "
      ],
      "text/plain": [
       "<IPython.core.display.HTML object>"
      ]
     },
     "metadata": {},
     "output_type": "display_data"
    },
    {
     "data": {
      "text/html": [
       "\n",
       "        <div id=\"dzC7yiQ2MsRyyp7ARvBs4M\"></div>\n",
       "        <script>netpixi.call('dzC7yiQ2MsRyyp7ARvBs4M', 'ENAk6YiDPa5DWrKXiWxk4g', 'changeGraph', 'eyJpZCI6ICI2MTMiLCAidHlwZSI6ICJ2ZXJ0ZXgiLCAicHJvcHMiOiB7ImNvbG9yIjogMjU1fX0K');</script>\n",
       "    "
      ],
      "text/plain": [
       "<IPython.core.display.HTML object>"
      ]
     },
     "metadata": {},
     "output_type": "display_data"
    },
    {
     "data": {
      "text/html": [
       "\n",
       "        <div id=\"6dQQYNoU2UcmHshpHzkF8a\"></div>\n",
       "        <script>netpixi.call('6dQQYNoU2UcmHshpHzkF8a', 'ENAk6YiDPa5DWrKXiWxk4g', 'setGraph', 'eyJ0eXBlIjogInZlcnRleCIsICJwcm9wcyI6IHsic3JjIjogImNsYXNzIiwgImRzdCI6ICJfa2V5In19Cg==');</script>\n",
       "    "
      ],
      "text/plain": [
       "<IPython.core.display.HTML object>"
      ]
     },
     "metadata": {},
     "output_type": "display_data"
    },
    {
     "data": {
      "text/html": [
       "\n",
       "        <div id=\"n6rycTGaSY983RVm4i2ugG\"></div>\n",
       "        <script>netpixi.call('n6rycTGaSY983RVm4i2ugG', 'ENAk6YiDPa5DWrKXiWxk4g', 'changeGraph', 'eyJpZCI6ICI2NTgiLCAidHlwZSI6ICJ2ZXJ0ZXgiLCAicHJvcHMiOiB7ImNvbG9yIjogMjU1fX0K');</script>\n",
       "    "
      ],
      "text/plain": [
       "<IPython.core.display.HTML object>"
      ]
     },
     "metadata": {},
     "output_type": "display_data"
    },
    {
     "data": {
      "text/html": [
       "\n",
       "        <div id=\"PVBpVgV3Z7QAAszEXgpkr7\"></div>\n",
       "        <script>netpixi.call('PVBpVgV3Z7QAAszEXgpkr7', 'ENAk6YiDPa5DWrKXiWxk4g', 'setGraph', 'eyJ0eXBlIjogInZlcnRleCIsICJwcm9wcyI6IHsic3JjIjogImNsYXNzIiwgImRzdCI6ICJfa2V5In19Cg==');</script>\n",
       "    "
      ],
      "text/plain": [
       "<IPython.core.display.HTML object>"
      ]
     },
     "metadata": {},
     "output_type": "display_data"
    },
    {
     "data": {
      "text/html": [
       "\n",
       "        <div id=\"3tEKxojD8yJEmxnbonD2MU\"></div>\n",
       "        <script>netpixi.call('3tEKxojD8yJEmxnbonD2MU', 'ENAk6YiDPa5DWrKXiWxk4g', 'changeGraph', 'eyJpZCI6ICI2NTEiLCAidHlwZSI6ICJ2ZXJ0ZXgiLCAicHJvcHMiOiB7ImNvbG9yIjogMjU1fX0K');</script>\n",
       "    "
      ],
      "text/plain": [
       "<IPython.core.display.HTML object>"
      ]
     },
     "metadata": {},
     "output_type": "display_data"
    },
    {
     "data": {
      "text/html": [
       "\n",
       "        <div id=\"C6JjH6j8nNUdTaTT2GJmQZ\"></div>\n",
       "        <script>netpixi.call('C6JjH6j8nNUdTaTT2GJmQZ', 'ENAk6YiDPa5DWrKXiWxk4g', 'setGraph', 'eyJ0eXBlIjogInZlcnRleCIsICJwcm9wcyI6IHsic3JjIjogImNsYXNzIiwgImRzdCI6ICJfa2V5In19Cg==');</script>\n",
       "    "
      ],
      "text/plain": [
       "<IPython.core.display.HTML object>"
      ]
     },
     "metadata": {},
     "output_type": "display_data"
    },
    {
     "data": {
      "text/html": [
       "\n",
       "        <div id=\"6jFLSXMLW2fmNethJ6pwXE\"></div>\n",
       "        <script>netpixi.call('6jFLSXMLW2fmNethJ6pwXE', 'ENAk6YiDPa5DWrKXiWxk4g', 'changeGraph', 'eyJpZCI6ICIxNjI5IiwgInR5cGUiOiAidmVydGV4IiwgInByb3BzIjogeyJjb2xvciI6IDI1NX19Cg==');</script>\n",
       "    "
      ],
      "text/plain": [
       "<IPython.core.display.HTML object>"
      ]
     },
     "metadata": {},
     "output_type": "display_data"
    },
    {
     "data": {
      "text/html": [
       "\n",
       "        <div id=\"CQyZQLfvidTrxgx2G6mjZB\"></div>\n",
       "        <script>netpixi.call('CQyZQLfvidTrxgx2G6mjZB', 'ENAk6YiDPa5DWrKXiWxk4g', 'setGraph', 'eyJ0eXBlIjogInZlcnRleCIsICJwcm9wcyI6IHsic3JjIjogImNsYXNzIiwgImRzdCI6ICJfa2V5In19Cg==');</script>\n",
       "    "
      ],
      "text/plain": [
       "<IPython.core.display.HTML object>"
      ]
     },
     "metadata": {},
     "output_type": "display_data"
    },
    {
     "data": {
      "text/html": [
       "\n",
       "        <div id=\"DaCByiXZRoptXjacAsekj3\"></div>\n",
       "        <script>netpixi.call('DaCByiXZRoptXjacAsekj3', 'ENAk6YiDPa5DWrKXiWxk4g', 'changeGraph', 'eyJpZCI6ICIxMTY0IiwgInR5cGUiOiAidmVydGV4IiwgInByb3BzIjogeyJjb2xvciI6IDI1NX19Cg==');</script>\n",
       "    "
      ],
      "text/plain": [
       "<IPython.core.display.HTML object>"
      ]
     },
     "metadata": {},
     "output_type": "display_data"
    },
    {
     "data": {
      "text/html": [
       "\n",
       "        <div id=\"RndQyvjBQPJZLetAQ2fczg\"></div>\n",
       "        <script>netpixi.call('RndQyvjBQPJZLetAQ2fczg', 'ENAk6YiDPa5DWrKXiWxk4g', 'setGraph', 'eyJ0eXBlIjogInZlcnRleCIsICJwcm9wcyI6IHsic3JjIjogImNsYXNzIiwgImRzdCI6ICJfa2V5In19Cg==');</script>\n",
       "    "
      ],
      "text/plain": [
       "<IPython.core.display.HTML object>"
      ]
     },
     "metadata": {},
     "output_type": "display_data"
    },
    {
     "data": {
      "text/html": [
       "\n",
       "        <div id=\"NwsKZmfR8zGxZXF3T9LKQu\"></div>\n",
       "        <script>netpixi.call('NwsKZmfR8zGxZXF3T9LKQu', 'ENAk6YiDPa5DWrKXiWxk4g', 'changeGraph', 'eyJpZCI6ICIxNjU3IiwgInR5cGUiOiAidmVydGV4IiwgInByb3BzIjogeyJjb2xvciI6IDI1NX19Cg==');</script>\n",
       "    "
      ],
      "text/plain": [
       "<IPython.core.display.HTML object>"
      ]
     },
     "metadata": {},
     "output_type": "display_data"
    },
    {
     "data": {
      "text/html": [
       "\n",
       "        <div id=\"Jmq389mcGSqqreM5qkU8mq\"></div>\n",
       "        <script>netpixi.call('Jmq389mcGSqqreM5qkU8mq', 'ENAk6YiDPa5DWrKXiWxk4g', 'setGraph', 'eyJ0eXBlIjogInZlcnRleCIsICJwcm9wcyI6IHsic3JjIjogImNsYXNzIiwgImRzdCI6ICJfa2V5In19Cg==');</script>\n",
       "    "
      ],
      "text/plain": [
       "<IPython.core.display.HTML object>"
      ]
     },
     "metadata": {},
     "output_type": "display_data"
    },
    {
     "data": {
      "text/html": [
       "\n",
       "        <div id=\"VDd3hAgJhzERfF7TwCUh6o\"></div>\n",
       "        <script>netpixi.call('VDd3hAgJhzERfF7TwCUh6o', 'ENAk6YiDPa5DWrKXiWxk4g', 'changeGraph', 'eyJpZCI6ICIxNjIyIiwgInR5cGUiOiAidmVydGV4IiwgInByb3BzIjogeyJjb2xvciI6IDI1NX19Cg==');</script>\n",
       "    "
      ],
      "text/plain": [
       "<IPython.core.display.HTML object>"
      ]
     },
     "metadata": {},
     "output_type": "display_data"
    },
    {
     "data": {
      "text/html": [
       "\n",
       "        <div id=\"6AjnGhmHFGF5zWZkqFV94F\"></div>\n",
       "        <script>netpixi.call('6AjnGhmHFGF5zWZkqFV94F', 'ENAk6YiDPa5DWrKXiWxk4g', 'setGraph', 'eyJ0eXBlIjogInZlcnRleCIsICJwcm9wcyI6IHsic3JjIjogImNsYXNzIiwgImRzdCI6ICJfa2V5In19Cg==');</script>\n",
       "    "
      ],
      "text/plain": [
       "<IPython.core.display.HTML object>"
      ]
     },
     "metadata": {},
     "output_type": "display_data"
    },
    {
     "data": {
      "text/html": [
       "\n",
       "        <div id=\"TEVoZSJZcC9hVLqbH5p4Qi\"></div>\n",
       "        <script>netpixi.call('TEVoZSJZcC9hVLqbH5p4Qi', 'ENAk6YiDPa5DWrKXiWxk4g', 'changeGraph', 'eyJpZCI6ICIxNjU4IiwgInR5cGUiOiAidmVydGV4IiwgInByb3BzIjogeyJjb2xvciI6IDI1NX19Cg==');</script>\n",
       "    "
      ],
      "text/plain": [
       "<IPython.core.display.HTML object>"
      ]
     },
     "metadata": {},
     "output_type": "display_data"
    },
    {
     "data": {
      "text/html": [
       "\n",
       "        <div id=\"Jsi5Jn6jvvY4U83ZXGzAoR\"></div>\n",
       "        <script>netpixi.call('Jsi5Jn6jvvY4U83ZXGzAoR', 'ENAk6YiDPa5DWrKXiWxk4g', 'setGraph', 'eyJ0eXBlIjogInZlcnRleCIsICJwcm9wcyI6IHsic3JjIjogImNsYXNzIiwgImRzdCI6ICJfa2V5In19Cg==');</script>\n",
       "    "
      ],
      "text/plain": [
       "<IPython.core.display.HTML object>"
      ]
     },
     "metadata": {},
     "output_type": "display_data"
    },
    {
     "data": {
      "text/html": [
       "\n",
       "        <div id=\"iR4MgFF2ND85q5eKhDPuJv\"></div>\n",
       "        <script>netpixi.call('iR4MgFF2ND85q5eKhDPuJv', 'ENAk6YiDPa5DWrKXiWxk4g', 'changeGraph', 'eyJpZCI6ICIxNjc5IiwgInR5cGUiOiAidmVydGV4IiwgInByb3BzIjogeyJjb2xvciI6IDI1NX19Cg==');</script>\n",
       "    "
      ],
      "text/plain": [
       "<IPython.core.display.HTML object>"
      ]
     },
     "metadata": {},
     "output_type": "display_data"
    },
    {
     "data": {
      "text/html": [
       "\n",
       "        <div id=\"W5EHmceKUxPtpqHTUVBeZg\"></div>\n",
       "        <script>netpixi.call('W5EHmceKUxPtpqHTUVBeZg', 'ENAk6YiDPa5DWrKXiWxk4g', 'setGraph', 'eyJ0eXBlIjogInZlcnRleCIsICJwcm9wcyI6IHsic3JjIjogImNsYXNzIiwgImRzdCI6ICJfa2V5In19Cg==');</script>\n",
       "    "
      ],
      "text/plain": [
       "<IPython.core.display.HTML object>"
      ]
     },
     "metadata": {},
     "output_type": "display_data"
    },
    {
     "data": {
      "text/html": [
       "\n",
       "        <div id=\"UeXKcmPqQ2PTmR3aHH53Sv\"></div>\n",
       "        <script>netpixi.call('UeXKcmPqQ2PTmR3aHH53Sv', 'ENAk6YiDPa5DWrKXiWxk4g', 'changeGraph', 'eyJpZCI6ICIxNjc0IiwgInR5cGUiOiAidmVydGV4IiwgInByb3BzIjogeyJjb2xvciI6IDI1NX19Cg==');</script>\n",
       "    "
      ],
      "text/plain": [
       "<IPython.core.display.HTML object>"
      ]
     },
     "metadata": {},
     "output_type": "display_data"
    },
    {
     "data": {
      "text/html": [
       "\n",
       "        <div id=\"daaNDxSLVzUEcC3rEMJrvU\"></div>\n",
       "        <script>netpixi.call('daaNDxSLVzUEcC3rEMJrvU', 'ENAk6YiDPa5DWrKXiWxk4g', 'setGraph', 'eyJ0eXBlIjogInZlcnRleCIsICJwcm9wcyI6IHsic3JjIjogImNsYXNzIiwgImRzdCI6ICJfa2V5In19Cg==');</script>\n",
       "    "
      ],
      "text/plain": [
       "<IPython.core.display.HTML object>"
      ]
     },
     "metadata": {},
     "output_type": "display_data"
    },
    {
     "data": {
      "text/html": [
       "\n",
       "        <div id=\"YTHrThnfMgyWAcuovAgviT\"></div>\n",
       "        <script>netpixi.call('YTHrThnfMgyWAcuovAgviT', 'ENAk6YiDPa5DWrKXiWxk4g', 'changeGraph', 'eyJpZCI6ICI2MDkiLCAidHlwZSI6ICJ2ZXJ0ZXgiLCAicHJvcHMiOiB7ImNvbG9yIjogMjU1fX0K');</script>\n",
       "    "
      ],
      "text/plain": [
       "<IPython.core.display.HTML object>"
      ]
     },
     "metadata": {},
     "output_type": "display_data"
    },
    {
     "data": {
      "text/html": [
       "\n",
       "        <div id=\"EonoAGVK5nFx3WJ27GXWAF\"></div>\n",
       "        <script>netpixi.call('EonoAGVK5nFx3WJ27GXWAF', 'ENAk6YiDPa5DWrKXiWxk4g', 'setGraph', 'eyJ0eXBlIjogInZlcnRleCIsICJwcm9wcyI6IHsic3JjIjogImNsYXNzIiwgImRzdCI6ICJfa2V5In19Cg==');</script>\n",
       "    "
      ],
      "text/plain": [
       "<IPython.core.display.HTML object>"
      ]
     },
     "metadata": {},
     "output_type": "display_data"
    },
    {
     "data": {
      "text/html": [
       "\n",
       "        <div id=\"2TBCihkUFQBMmtt6TbnUHj\"></div>\n",
       "        <script>netpixi.call('2TBCihkUFQBMmtt6TbnUHj', 'ENAk6YiDPa5DWrKXiWxk4g', 'changeGraph', 'eyJpZCI6ICI2OTAiLCAidHlwZSI6ICJ2ZXJ0ZXgiLCAicHJvcHMiOiB7ImNvbG9yIjogMjU1fX0K');</script>\n",
       "    "
      ],
      "text/plain": [
       "<IPython.core.display.HTML object>"
      ]
     },
     "metadata": {},
     "output_type": "display_data"
    },
    {
     "data": {
      "text/html": [
       "\n",
       "        <div id=\"4Zqo88Dkjvm36rPPhL7DqP\"></div>\n",
       "        <script>netpixi.call('4Zqo88Dkjvm36rPPhL7DqP', 'ENAk6YiDPa5DWrKXiWxk4g', 'setGraph', 'eyJ0eXBlIjogInZlcnRleCIsICJwcm9wcyI6IHsic3JjIjogImNsYXNzIiwgImRzdCI6ICJfa2V5In19Cg==');</script>\n",
       "    "
      ],
      "text/plain": [
       "<IPython.core.display.HTML object>"
      ]
     },
     "metadata": {},
     "output_type": "display_data"
    },
    {
     "data": {
      "text/html": [
       "\n",
       "        <div id=\"jC5BiLEb9U9VTTBMov7nPx\"></div>\n",
       "        <script>netpixi.call('jC5BiLEb9U9VTTBMov7nPx', 'ENAk6YiDPa5DWrKXiWxk4g', 'changeGraph', 'eyJpZCI6ICI2MDAiLCAidHlwZSI6ICJ2ZXJ0ZXgiLCAicHJvcHMiOiB7ImNvbG9yIjogMTY3MTE2ODB9fQo=');</script>\n",
       "    "
      ],
      "text/plain": [
       "<IPython.core.display.HTML object>"
      ]
     },
     "metadata": {},
     "output_type": "display_data"
    },
    {
     "data": {
      "text/html": [
       "\n",
       "        <div id=\"PnoU8znr3rR7JMzVXpxEDY\"></div>\n",
       "        <script>netpixi.call('PnoU8znr3rR7JMzVXpxEDY', 'ENAk6YiDPa5DWrKXiWxk4g', 'setGraph', 'eyJ0eXBlIjogInZlcnRleCIsICJwcm9wcyI6IHsic3JjIjogImNsYXNzIiwgImRzdCI6ICJfa2V5In19Cg==');</script>\n",
       "    "
      ],
      "text/plain": [
       "<IPython.core.display.HTML object>"
      ]
     },
     "metadata": {},
     "output_type": "display_data"
    },
    {
     "data": {
      "text/html": [
       "\n",
       "        <div id=\"KDrayRRjfLQ69wxhtEYjsM\"></div>\n",
       "        <script>netpixi.call('KDrayRRjfLQ69wxhtEYjsM', 'ENAk6YiDPa5DWrKXiWxk4g', 'changeGraph', 'eyJpZCI6ICIxNjQ5IiwgInR5cGUiOiAidmVydGV4IiwgInByb3BzIjogeyJjb2xvciI6IDE2NzExNjgwfX0K');</script>\n",
       "    "
      ],
      "text/plain": [
       "<IPython.core.display.HTML object>"
      ]
     },
     "metadata": {},
     "output_type": "display_data"
    },
    {
     "data": {
      "text/html": [
       "\n",
       "        <div id=\"Z3XR9WEvwdshD2WYVtQuTx\"></div>\n",
       "        <script>netpixi.call('Z3XR9WEvwdshD2WYVtQuTx', 'ENAk6YiDPa5DWrKXiWxk4g', 'setGraph', 'eyJ0eXBlIjogInZlcnRleCIsICJwcm9wcyI6IHsic3JjIjogImNsYXNzIiwgImRzdCI6ICJfa2V5In19Cg==');</script>\n",
       "    "
      ],
      "text/plain": [
       "<IPython.core.display.HTML object>"
      ]
     },
     "metadata": {},
     "output_type": "display_data"
    },
    {
     "data": {
      "text/html": [
       "\n",
       "        <div id=\"ATBwHSVMtYcqziCv8ZavG7\"></div>\n",
       "        <script>netpixi.call('ATBwHSVMtYcqziCv8ZavG7', 'ENAk6YiDPa5DWrKXiWxk4g', 'changeGraph', 'eyJpZCI6ICI4NTEiLCAidHlwZSI6ICJ2ZXJ0ZXgiLCAicHJvcHMiOiB7ImNvbG9yIjogMjU1fX0K');</script>\n",
       "    "
      ],
      "text/plain": [
       "<IPython.core.display.HTML object>"
      ]
     },
     "metadata": {},
     "output_type": "display_data"
    },
    {
     "data": {
      "text/html": [
       "\n",
       "        <div id=\"eC4N8b8SQmJMPE4PnfEYNa\"></div>\n",
       "        <script>netpixi.call('eC4N8b8SQmJMPE4PnfEYNa', 'ENAk6YiDPa5DWrKXiWxk4g', 'setGraph', 'eyJ0eXBlIjogInZlcnRleCIsICJwcm9wcyI6IHsic3JjIjogImNsYXNzIiwgImRzdCI6ICJfa2V5In19Cg==');</script>\n",
       "    "
      ],
      "text/plain": [
       "<IPython.core.display.HTML object>"
      ]
     },
     "metadata": {},
     "output_type": "display_data"
    },
    {
     "data": {
      "text/html": [
       "\n",
       "        <div id=\"VM8E3sDsVDNGnwQsXQLxx5\"></div>\n",
       "        <script>netpixi.call('VM8E3sDsVDNGnwQsXQLxx5', 'ENAk6YiDPa5DWrKXiWxk4g', 'changeGraph', 'eyJpZCI6ICI4NTUiLCAidHlwZSI6ICJ2ZXJ0ZXgiLCAicHJvcHMiOiB7ImNvbG9yIjogMTY3MTE2ODB9fQo=');</script>\n",
       "    "
      ],
      "text/plain": [
       "<IPython.core.display.HTML object>"
      ]
     },
     "metadata": {},
     "output_type": "display_data"
    },
    {
     "data": {
      "text/html": [
       "\n",
       "        <div id=\"dZpRCknZvLbJ6bi5Nk8MfY\"></div>\n",
       "        <script>netpixi.call('dZpRCknZvLbJ6bi5Nk8MfY', 'ENAk6YiDPa5DWrKXiWxk4g', 'setGraph', 'eyJ0eXBlIjogInZlcnRleCIsICJwcm9wcyI6IHsic3JjIjogImNsYXNzIiwgImRzdCI6ICJfa2V5In19Cg==');</script>\n",
       "    "
      ],
      "text/plain": [
       "<IPython.core.display.HTML object>"
      ]
     },
     "metadata": {},
     "output_type": "display_data"
    },
    {
     "data": {
      "text/html": [
       "\n",
       "        <div id=\"J5F3gqLn3GozdrMukJAwWQ\"></div>\n",
       "        <script>netpixi.call('J5F3gqLn3GozdrMukJAwWQ', 'ENAk6YiDPa5DWrKXiWxk4g', 'changeGraph', 'eyJpZCI6ICI4NDEiLCAidHlwZSI6ICJ2ZXJ0ZXgiLCAicHJvcHMiOiB7ImNvbG9yIjogMTY3MTE2ODB9fQo=');</script>\n",
       "    "
      ],
      "text/plain": [
       "<IPython.core.display.HTML object>"
      ]
     },
     "metadata": {},
     "output_type": "display_data"
    },
    {
     "data": {
      "text/html": [
       "\n",
       "        <div id=\"aY5zPRuz7eSbhdRFqVor3d\"></div>\n",
       "        <script>netpixi.call('aY5zPRuz7eSbhdRFqVor3d', 'ENAk6YiDPa5DWrKXiWxk4g', 'setGraph', 'eyJ0eXBlIjogInZlcnRleCIsICJwcm9wcyI6IHsic3JjIjogImNsYXNzIiwgImRzdCI6ICJfa2V5In19Cg==');</script>\n",
       "    "
      ],
      "text/plain": [
       "<IPython.core.display.HTML object>"
      ]
     },
     "metadata": {},
     "output_type": "display_data"
    },
    {
     "data": {
      "text/html": [
       "\n",
       "        <div id=\"9UJJzoYjq26g33H2AhHXsC\"></div>\n",
       "        <script>netpixi.call('9UJJzoYjq26g33H2AhHXsC', 'ENAk6YiDPa5DWrKXiWxk4g', 'changeGraph', 'eyJpZCI6ICI4NDgiLCAidHlwZSI6ICJ2ZXJ0ZXgiLCAicHJvcHMiOiB7ImNvbG9yIjogMjU1fX0K');</script>\n",
       "    "
      ],
      "text/plain": [
       "<IPython.core.display.HTML object>"
      ]
     },
     "metadata": {},
     "output_type": "display_data"
    },
    {
     "data": {
      "text/html": [
       "\n",
       "        <div id=\"m3dTQLGDEDntgNnMKdnWYc\"></div>\n",
       "        <script>netpixi.call('m3dTQLGDEDntgNnMKdnWYc', 'ENAk6YiDPa5DWrKXiWxk4g', 'setGraph', 'eyJ0eXBlIjogInZlcnRleCIsICJwcm9wcyI6IHsic3JjIjogImNsYXNzIiwgImRzdCI6ICJfa2V5In19Cg==');</script>\n",
       "    "
      ],
      "text/plain": [
       "<IPython.core.display.HTML object>"
      ]
     },
     "metadata": {},
     "output_type": "display_data"
    },
    {
     "data": {
      "text/html": [
       "\n",
       "        <div id=\"AQBFEry2Aqf36vRwR5Y8rV\"></div>\n",
       "        <script>netpixi.call('AQBFEry2Aqf36vRwR5Y8rV', 'ENAk6YiDPa5DWrKXiWxk4g', 'changeGraph', 'eyJpZCI6ICI4NTYiLCAidHlwZSI6ICJ2ZXJ0ZXgiLCAicHJvcHMiOiB7ImNvbG9yIjogMjU1fX0K');</script>\n",
       "    "
      ],
      "text/plain": [
       "<IPython.core.display.HTML object>"
      ]
     },
     "metadata": {},
     "output_type": "display_data"
    },
    {
     "data": {
      "text/html": [
       "\n",
       "        <div id=\"5KrY6VyiL2g6A9MkTfV6Mc\"></div>\n",
       "        <script>netpixi.call('5KrY6VyiL2g6A9MkTfV6Mc', 'ENAk6YiDPa5DWrKXiWxk4g', 'setGraph', 'eyJ0eXBlIjogInZlcnRleCIsICJwcm9wcyI6IHsic3JjIjogImNsYXNzIiwgImRzdCI6ICJfa2V5In19Cg==');</script>\n",
       "    "
      ],
      "text/plain": [
       "<IPython.core.display.HTML object>"
      ]
     },
     "metadata": {},
     "output_type": "display_data"
    },
    {
     "data": {
      "text/html": [
       "\n",
       "        <div id=\"eKcX5AxSxcNPjgVgzza8FQ\"></div>\n",
       "        <script>netpixi.call('eKcX5AxSxcNPjgVgzza8FQ', 'ENAk6YiDPa5DWrKXiWxk4g', 'changeGraph', 'eyJpZCI6ICI4NjciLCAidHlwZSI6ICJ2ZXJ0ZXgiLCAicHJvcHMiOiB7ImNvbG9yIjogMjU1fX0K');</script>\n",
       "    "
      ],
      "text/plain": [
       "<IPython.core.display.HTML object>"
      ]
     },
     "metadata": {},
     "output_type": "display_data"
    },
    {
     "data": {
      "text/html": [
       "\n",
       "        <div id=\"8DKyABRWBEcNECfyp4koCK\"></div>\n",
       "        <script>netpixi.call('8DKyABRWBEcNECfyp4koCK', 'ENAk6YiDPa5DWrKXiWxk4g', 'setGraph', 'eyJ0eXBlIjogInZlcnRleCIsICJwcm9wcyI6IHsic3JjIjogImNsYXNzIiwgImRzdCI6ICJfa2V5In19Cg==');</script>\n",
       "    "
      ],
      "text/plain": [
       "<IPython.core.display.HTML object>"
      ]
     },
     "metadata": {},
     "output_type": "display_data"
    },
    {
     "data": {
      "text/html": [
       "\n",
       "        <div id=\"atTcUHWvabV5mHpYwEbRcf\"></div>\n",
       "        <script>netpixi.call('atTcUHWvabV5mHpYwEbRcf', 'ENAk6YiDPa5DWrKXiWxk4g', 'changeGraph', 'eyJpZCI6ICI4NjgiLCAidHlwZSI6ICJ2ZXJ0ZXgiLCAicHJvcHMiOiB7ImNvbG9yIjogMjU1fX0K');</script>\n",
       "    "
      ],
      "text/plain": [
       "<IPython.core.display.HTML object>"
      ]
     },
     "metadata": {},
     "output_type": "display_data"
    },
    {
     "data": {
      "text/html": [
       "\n",
       "        <div id=\"m26bdHk5936bSe7rTfRMAD\"></div>\n",
       "        <script>netpixi.call('m26bdHk5936bSe7rTfRMAD', 'ENAk6YiDPa5DWrKXiWxk4g', 'setGraph', 'eyJ0eXBlIjogInZlcnRleCIsICJwcm9wcyI6IHsic3JjIjogImNsYXNzIiwgImRzdCI6ICJfa2V5In19Cg==');</script>\n",
       "    "
      ],
      "text/plain": [
       "<IPython.core.display.HTML object>"
      ]
     },
     "metadata": {},
     "output_type": "display_data"
    },
    {
     "data": {
      "text/html": [
       "\n",
       "        <div id=\"Yx7rbpTivhvnykzGPUt2CN\"></div>\n",
       "        <script>netpixi.call('Yx7rbpTivhvnykzGPUt2CN', 'ENAk6YiDPa5DWrKXiWxk4g', 'changeGraph', 'eyJpZCI6ICIxNjE4IiwgInR5cGUiOiAidmVydGV4IiwgInByb3BzIjogeyJjb2xvciI6IDI1NX19Cg==');</script>\n",
       "    "
      ],
      "text/plain": [
       "<IPython.core.display.HTML object>"
      ]
     },
     "metadata": {},
     "output_type": "display_data"
    },
    {
     "data": {
      "text/html": [
       "\n",
       "        <div id=\"47V2pBgG9jw7gDJBAKjfuq\"></div>\n",
       "        <script>netpixi.call('47V2pBgG9jw7gDJBAKjfuq', 'ENAk6YiDPa5DWrKXiWxk4g', 'setGraph', 'eyJ0eXBlIjogInZlcnRleCIsICJwcm9wcyI6IHsic3JjIjogImNsYXNzIiwgImRzdCI6ICJfa2V5In19Cg==');</script>\n",
       "    "
      ],
      "text/plain": [
       "<IPython.core.display.HTML object>"
      ]
     },
     "metadata": {},
     "output_type": "display_data"
    },
    {
     "data": {
      "text/html": [
       "\n",
       "        <div id=\"7WUbcVS9xALorM4SPPsx8r\"></div>\n",
       "        <script>netpixi.call('7WUbcVS9xALorM4SPPsx8r', 'ENAk6YiDPa5DWrKXiWxk4g', 'changeGraph', 'eyJpZCI6ICI2NjQiLCAidHlwZSI6ICJ2ZXJ0ZXgiLCAicHJvcHMiOiB7ImNvbG9yIjogMTY3MTE2ODB9fQo=');</script>\n",
       "    "
      ],
      "text/plain": [
       "<IPython.core.display.HTML object>"
      ]
     },
     "metadata": {},
     "output_type": "display_data"
    },
    {
     "data": {
      "text/html": [
       "\n",
       "        <div id=\"f68r6PPLBDvMq3VYJLA7No\"></div>\n",
       "        <script>netpixi.call('f68r6PPLBDvMq3VYJLA7No', 'ENAk6YiDPa5DWrKXiWxk4g', 'setGraph', 'eyJ0eXBlIjogInZlcnRleCIsICJwcm9wcyI6IHsic3JjIjogImNsYXNzIiwgImRzdCI6ICJfa2V5In19Cg==');</script>\n",
       "    "
      ],
      "text/plain": [
       "<IPython.core.display.HTML object>"
      ]
     },
     "metadata": {},
     "output_type": "display_data"
    },
    {
     "data": {
      "text/html": [
       "\n",
       "        <div id=\"kf8G6jE5yfkiHef5KCme8w\"></div>\n",
       "        <script>netpixi.call('kf8G6jE5yfkiHef5KCme8w', 'ENAk6YiDPa5DWrKXiWxk4g', 'changeGraph', 'eyJpZCI6ICIxNjY3IiwgInR5cGUiOiAidmVydGV4IiwgInByb3BzIjogeyJjb2xvciI6IDI1NX19Cg==');</script>\n",
       "    "
      ],
      "text/plain": [
       "<IPython.core.display.HTML object>"
      ]
     },
     "metadata": {},
     "output_type": "display_data"
    },
    {
     "data": {
      "text/html": [
       "\n",
       "        <div id=\"UoEAAfYToLM3MZGdLPKtUo\"></div>\n",
       "        <script>netpixi.call('UoEAAfYToLM3MZGdLPKtUo', 'ENAk6YiDPa5DWrKXiWxk4g', 'setGraph', 'eyJ0eXBlIjogInZlcnRleCIsICJwcm9wcyI6IHsic3JjIjogImNsYXNzIiwgImRzdCI6ICJfa2V5In19Cg==');</script>\n",
       "    "
      ],
      "text/plain": [
       "<IPython.core.display.HTML object>"
      ]
     },
     "metadata": {},
     "output_type": "display_data"
    },
    {
     "data": {
      "text/html": [
       "\n",
       "        <div id=\"JUpzi9iWijsXrhVAG9dtrE\"></div>\n",
       "        <script>netpixi.call('JUpzi9iWijsXrhVAG9dtrE', 'ENAk6YiDPa5DWrKXiWxk4g', 'changeGraph', 'eyJpZCI6ICIxNjQ1IiwgInR5cGUiOiAidmVydGV4IiwgInByb3BzIjogeyJjb2xvciI6IDI1NX19Cg==');</script>\n",
       "    "
      ],
      "text/plain": [
       "<IPython.core.display.HTML object>"
      ]
     },
     "metadata": {},
     "output_type": "display_data"
    },
    {
     "data": {
      "text/html": [
       "\n",
       "        <div id=\"fg7zHTcJywEw775iZcCfd3\"></div>\n",
       "        <script>netpixi.call('fg7zHTcJywEw775iZcCfd3', 'ENAk6YiDPa5DWrKXiWxk4g', 'setGraph', 'eyJ0eXBlIjogInZlcnRleCIsICJwcm9wcyI6IHsic3JjIjogImNsYXNzIiwgImRzdCI6ICJfa2V5In19Cg==');</script>\n",
       "    "
      ],
      "text/plain": [
       "<IPython.core.display.HTML object>"
      ]
     },
     "metadata": {},
     "output_type": "display_data"
    },
    {
     "data": {
      "text/html": [
       "\n",
       "        <div id=\"mPZFaP6cCcayWvzhYx5iGV\"></div>\n",
       "        <script>netpixi.call('mPZFaP6cCcayWvzhYx5iGV', 'ENAk6YiDPa5DWrKXiWxk4g', 'changeGraph', 'eyJpZCI6ICI4MzAiLCAidHlwZSI6ICJ2ZXJ0ZXgiLCAicHJvcHMiOiB7ImNvbG9yIjogMjU1fX0K');</script>\n",
       "    "
      ],
      "text/plain": [
       "<IPython.core.display.HTML object>"
      ]
     },
     "metadata": {},
     "output_type": "display_data"
    },
    {
     "data": {
      "text/html": [
       "\n",
       "        <div id=\"DnYTrZqnuFmwyqRYW3ASSr\"></div>\n",
       "        <script>netpixi.call('DnYTrZqnuFmwyqRYW3ASSr', 'ENAk6YiDPa5DWrKXiWxk4g', 'setGraph', 'eyJ0eXBlIjogInZlcnRleCIsICJwcm9wcyI6IHsic3JjIjogImNsYXNzIiwgImRzdCI6ICJfa2V5In19Cg==');</script>\n",
       "    "
      ],
      "text/plain": [
       "<IPython.core.display.HTML object>"
      ]
     },
     "metadata": {},
     "output_type": "display_data"
    },
    {
     "data": {
      "text/html": [
       "\n",
       "        <div id=\"Sk3k4XHTDh2cE5QSuhpSqT\"></div>\n",
       "        <script>netpixi.call('Sk3k4XHTDh2cE5QSuhpSqT', 'ENAk6YiDPa5DWrKXiWxk4g', 'changeGraph', 'eyJpZCI6ICI4MzQiLCAidHlwZSI6ICJ2ZXJ0ZXgiLCAicHJvcHMiOiB7ImNvbG9yIjogMjU1fX0K');</script>\n",
       "    "
      ],
      "text/plain": [
       "<IPython.core.display.HTML object>"
      ]
     },
     "metadata": {},
     "output_type": "display_data"
    },
    {
     "data": {
      "text/html": [
       "\n",
       "        <div id=\"ZUmidEgLaDRJWxeUEbaHLT\"></div>\n",
       "        <script>netpixi.call('ZUmidEgLaDRJWxeUEbaHLT', 'ENAk6YiDPa5DWrKXiWxk4g', 'setGraph', 'eyJ0eXBlIjogInZlcnRleCIsICJwcm9wcyI6IHsic3JjIjogImNsYXNzIiwgImRzdCI6ICJfa2V5In19Cg==');</script>\n",
       "    "
      ],
      "text/plain": [
       "<IPython.core.display.HTML object>"
      ]
     },
     "metadata": {},
     "output_type": "display_data"
    },
    {
     "data": {
      "text/html": [
       "\n",
       "        <div id=\"4MStFj2vPE5cZKRDYb3cQZ\"></div>\n",
       "        <script>netpixi.call('4MStFj2vPE5cZKRDYb3cQZ', 'ENAk6YiDPa5DWrKXiWxk4g', 'changeGraph', 'eyJpZCI6ICI2MDEiLCAidHlwZSI6ICJ2ZXJ0ZXgiLCAicHJvcHMiOiB7ImNvbG9yIjogMjU1fX0K');</script>\n",
       "    "
      ],
      "text/plain": [
       "<IPython.core.display.HTML object>"
      ]
     },
     "metadata": {},
     "output_type": "display_data"
    },
    {
     "data": {
      "text/html": [
       "\n",
       "        <div id=\"nYjYmVfA667uBNTvWmf3oY\"></div>\n",
       "        <script>netpixi.call('nYjYmVfA667uBNTvWmf3oY', 'ENAk6YiDPa5DWrKXiWxk4g', 'setGraph', 'eyJ0eXBlIjogInZlcnRleCIsICJwcm9wcyI6IHsic3JjIjogImNsYXNzIiwgImRzdCI6ICJfa2V5In19Cg==');</script>\n",
       "    "
      ],
      "text/plain": [
       "<IPython.core.display.HTML object>"
      ]
     },
     "metadata": {},
     "output_type": "display_data"
    },
    {
     "data": {
      "text/html": [
       "\n",
       "        <div id=\"f7Uj8Fuh4v9qqKeA4kV8Q7\"></div>\n",
       "        <script>netpixi.call('f7Uj8Fuh4v9qqKeA4kV8Q7', 'ENAk6YiDPa5DWrKXiWxk4g', 'changeGraph', 'eyJpZCI6ICI4MjMiLCAidHlwZSI6ICJ2ZXJ0ZXgiLCAicHJvcHMiOiB7ImNvbG9yIjogMjU1fX0K');</script>\n",
       "    "
      ],
      "text/plain": [
       "<IPython.core.display.HTML object>"
      ]
     },
     "metadata": {},
     "output_type": "display_data"
    },
    {
     "data": {
      "text/html": [
       "\n",
       "        <div id=\"Yjaw9TycUkjeBDhU7riz8z\"></div>\n",
       "        <script>netpixi.call('Yjaw9TycUkjeBDhU7riz8z', 'ENAk6YiDPa5DWrKXiWxk4g', 'setGraph', 'eyJ0eXBlIjogInZlcnRleCIsICJwcm9wcyI6IHsic3JjIjogImNsYXNzIiwgImRzdCI6ICJfa2V5In19Cg==');</script>\n",
       "    "
      ],
      "text/plain": [
       "<IPython.core.display.HTML object>"
      ]
     },
     "metadata": {},
     "output_type": "display_data"
    },
    {
     "data": {
      "text/html": [
       "\n",
       "        <div id=\"DKcFCXcTRpkMcx5Kvaczqy\"></div>\n",
       "        <script>netpixi.call('DKcFCXcTRpkMcx5Kvaczqy', 'ENAk6YiDPa5DWrKXiWxk4g', 'changeGraph', 'eyJpZCI6ICI2NjciLCAidHlwZSI6ICJ2ZXJ0ZXgiLCAicHJvcHMiOiB7ImNvbG9yIjogMTY3MTE2ODB9fQo=');</script>\n",
       "    "
      ],
      "text/plain": [
       "<IPython.core.display.HTML object>"
      ]
     },
     "metadata": {},
     "output_type": "display_data"
    },
    {
     "data": {
      "text/html": [
       "\n",
       "        <div id=\"ToWidbnXnoFTjUQXEVRwZj\"></div>\n",
       "        <script>netpixi.call('ToWidbnXnoFTjUQXEVRwZj', 'ENAk6YiDPa5DWrKXiWxk4g', 'setGraph', 'eyJ0eXBlIjogInZlcnRleCIsICJwcm9wcyI6IHsic3JjIjogImNsYXNzIiwgImRzdCI6ICJfa2V5In19Cg==');</script>\n",
       "    "
      ],
      "text/plain": [
       "<IPython.core.display.HTML object>"
      ]
     },
     "metadata": {},
     "output_type": "display_data"
    },
    {
     "data": {
      "text/html": [
       "\n",
       "        <div id=\"6aDHp5ystFa4FkoCC7cTLX\"></div>\n",
       "        <script>netpixi.call('6aDHp5ystFa4FkoCC7cTLX', 'ENAk6YiDPa5DWrKXiWxk4g', 'changeGraph', 'eyJpZCI6ICI2MzQiLCAidHlwZSI6ICJ2ZXJ0ZXgiLCAicHJvcHMiOiB7ImNvbG9yIjogMjU1fX0K');</script>\n",
       "    "
      ],
      "text/plain": [
       "<IPython.core.display.HTML object>"
      ]
     },
     "metadata": {},
     "output_type": "display_data"
    },
    {
     "data": {
      "text/html": [
       "\n",
       "        <div id=\"DdnHTS9zL4VPXGYAqC8DsJ\"></div>\n",
       "        <script>netpixi.call('DdnHTS9zL4VPXGYAqC8DsJ', 'ENAk6YiDPa5DWrKXiWxk4g', 'setGraph', 'eyJ0eXBlIjogInZlcnRleCIsICJwcm9wcyI6IHsic3JjIjogImNsYXNzIiwgImRzdCI6ICJfa2V5In19Cg==');</script>\n",
       "    "
      ],
      "text/plain": [
       "<IPython.core.display.HTML object>"
      ]
     },
     "metadata": {},
     "output_type": "display_data"
    },
    {
     "data": {
      "text/html": [
       "\n",
       "        <div id=\"DxfxRSKETkxd3LA5XJpPs8\"></div>\n",
       "        <script>netpixi.call('DxfxRSKETkxd3LA5XJpPs8', 'ENAk6YiDPa5DWrKXiWxk4g', 'changeGraph', 'eyJpZCI6ICI4OTQiLCAidHlwZSI6ICJ2ZXJ0ZXgiLCAicHJvcHMiOiB7ImNvbG9yIjogMjU1fX0K');</script>\n",
       "    "
      ],
      "text/plain": [
       "<IPython.core.display.HTML object>"
      ]
     },
     "metadata": {},
     "output_type": "display_data"
    },
    {
     "data": {
      "text/html": [
       "\n",
       "        <div id=\"Ee2cJHTCnDRGTSazUb57XY\"></div>\n",
       "        <script>netpixi.call('Ee2cJHTCnDRGTSazUb57XY', 'ENAk6YiDPa5DWrKXiWxk4g', 'setGraph', 'eyJ0eXBlIjogInZlcnRleCIsICJwcm9wcyI6IHsic3JjIjogImNsYXNzIiwgImRzdCI6ICJfa2V5In19Cg==');</script>\n",
       "    "
      ],
      "text/plain": [
       "<IPython.core.display.HTML object>"
      ]
     },
     "metadata": {},
     "output_type": "display_data"
    },
    {
     "data": {
      "text/html": [
       "\n",
       "        <div id=\"BhCXrMCAYJnSMFicj8osyh\"></div>\n",
       "        <script>netpixi.call('BhCXrMCAYJnSMFicj8osyh', 'ENAk6YiDPa5DWrKXiWxk4g', 'changeGraph', 'eyJpZCI6ICI4OTYiLCAidHlwZSI6ICJ2ZXJ0ZXgiLCAicHJvcHMiOiB7ImNvbG9yIjogMjU1fX0K');</script>\n",
       "    "
      ],
      "text/plain": [
       "<IPython.core.display.HTML object>"
      ]
     },
     "metadata": {},
     "output_type": "display_data"
    },
    {
     "data": {
      "text/html": [
       "\n",
       "        <div id=\"CZTwuSphVGkG7ExfN4fg8U\"></div>\n",
       "        <script>netpixi.call('CZTwuSphVGkG7ExfN4fg8U', 'ENAk6YiDPa5DWrKXiWxk4g', 'setGraph', 'eyJ0eXBlIjogInZlcnRleCIsICJwcm9wcyI6IHsic3JjIjogImNsYXNzIiwgImRzdCI6ICJfa2V5In19Cg==');</script>\n",
       "    "
      ],
      "text/plain": [
       "<IPython.core.display.HTML object>"
      ]
     },
     "metadata": {},
     "output_type": "display_data"
    },
    {
     "data": {
      "text/html": [
       "\n",
       "        <div id=\"8fVphmZcfiDghp6MUPMRJL\"></div>\n",
       "        <script>netpixi.call('8fVphmZcfiDghp6MUPMRJL', 'ENAk6YiDPa5DWrKXiWxk4g', 'changeGraph', 'eyJpZCI6ICI4NTMiLCAidHlwZSI6ICJ2ZXJ0ZXgiLCAicHJvcHMiOiB7ImNvbG9yIjogMTY3MTE2ODB9fQo=');</script>\n",
       "    "
      ],
      "text/plain": [
       "<IPython.core.display.HTML object>"
      ]
     },
     "metadata": {},
     "output_type": "display_data"
    },
    {
     "data": {
      "text/html": [
       "\n",
       "        <div id=\"TzTedMcDAjG7BU2qVwHuxR\"></div>\n",
       "        <script>netpixi.call('TzTedMcDAjG7BU2qVwHuxR', 'ENAk6YiDPa5DWrKXiWxk4g', 'setGraph', 'eyJ0eXBlIjogInZlcnRleCIsICJwcm9wcyI6IHsic3JjIjogImNsYXNzIiwgImRzdCI6ICJfa2V5In19Cg==');</script>\n",
       "    "
      ],
      "text/plain": [
       "<IPython.core.display.HTML object>"
      ]
     },
     "metadata": {},
     "output_type": "display_data"
    },
    {
     "data": {
      "text/html": [
       "\n",
       "        <div id=\"U655zYCa227Th833iY3S5q\"></div>\n",
       "        <script>netpixi.call('U655zYCa227Th833iY3S5q', 'ENAk6YiDPa5DWrKXiWxk4g', 'changeGraph', 'eyJpZCI6ICI4OTIiLCAidHlwZSI6ICJ2ZXJ0ZXgiLCAicHJvcHMiOiB7ImNvbG9yIjogMjU1fX0K');</script>\n",
       "    "
      ],
      "text/plain": [
       "<IPython.core.display.HTML object>"
      ]
     },
     "metadata": {},
     "output_type": "display_data"
    },
    {
     "data": {
      "text/html": [
       "\n",
       "        <div id=\"4RhzgocuZMXLDv8DMBdhk5\"></div>\n",
       "        <script>netpixi.call('4RhzgocuZMXLDv8DMBdhk5', 'ENAk6YiDPa5DWrKXiWxk4g', 'setGraph', 'eyJ0eXBlIjogInZlcnRleCIsICJwcm9wcyI6IHsic3JjIjogImNsYXNzIiwgImRzdCI6ICJfa2V5In19Cg==');</script>\n",
       "    "
      ],
      "text/plain": [
       "<IPython.core.display.HTML object>"
      ]
     },
     "metadata": {},
     "output_type": "display_data"
    },
    {
     "data": {
      "text/html": [
       "\n",
       "        <div id=\"6hYnkQVKvcqPiqCYi68f2E\"></div>\n",
       "        <script>netpixi.call('6hYnkQVKvcqPiqCYi68f2E', 'ENAk6YiDPa5DWrKXiWxk4g', 'changeGraph', 'eyJpZCI6ICI4NjQiLCAidHlwZSI6ICJ2ZXJ0ZXgiLCAicHJvcHMiOiB7ImNvbG9yIjogMjU1fX0K');</script>\n",
       "    "
      ],
      "text/plain": [
       "<IPython.core.display.HTML object>"
      ]
     },
     "metadata": {},
     "output_type": "display_data"
    },
    {
     "data": {
      "text/html": [
       "\n",
       "        <div id=\"jxz482JNR2pb9LChzX9R88\"></div>\n",
       "        <script>netpixi.call('jxz482JNR2pb9LChzX9R88', 'ENAk6YiDPa5DWrKXiWxk4g', 'setGraph', 'eyJ0eXBlIjogInZlcnRleCIsICJwcm9wcyI6IHsic3JjIjogImNsYXNzIiwgImRzdCI6ICJfa2V5In19Cg==');</script>\n",
       "    "
      ],
      "text/plain": [
       "<IPython.core.display.HTML object>"
      ]
     },
     "metadata": {},
     "output_type": "display_data"
    },
    {
     "data": {
      "text/html": [
       "\n",
       "        <div id=\"hukeS74PzvYhAberLkQYWU\"></div>\n",
       "        <script>netpixi.call('hukeS74PzvYhAberLkQYWU', 'ENAk6YiDPa5DWrKXiWxk4g', 'changeGraph', 'eyJpZCI6ICI4ODIiLCAidHlwZSI6ICJ2ZXJ0ZXgiLCAicHJvcHMiOiB7ImNvbG9yIjogMjU1fX0K');</script>\n",
       "    "
      ],
      "text/plain": [
       "<IPython.core.display.HTML object>"
      ]
     },
     "metadata": {},
     "output_type": "display_data"
    },
    {
     "data": {
      "text/html": [
       "\n",
       "        <div id=\"TMMUdxWa4z7PwLh4ML2Hjr\"></div>\n",
       "        <script>netpixi.call('TMMUdxWa4z7PwLh4ML2Hjr', 'ENAk6YiDPa5DWrKXiWxk4g', 'setGraph', 'eyJ0eXBlIjogInZlcnRleCIsICJwcm9wcyI6IHsic3JjIjogImNsYXNzIiwgImRzdCI6ICJfa2V5In19Cg==');</script>\n",
       "    "
      ],
      "text/plain": [
       "<IPython.core.display.HTML object>"
      ]
     },
     "metadata": {},
     "output_type": "display_data"
    },
    {
     "data": {
      "text/html": [
       "\n",
       "        <div id=\"RS9RCbuTiqpd4wniLiohs6\"></div>\n",
       "        <script>netpixi.call('RS9RCbuTiqpd4wniLiohs6', 'ENAk6YiDPa5DWrKXiWxk4g', 'changeGraph', 'eyJpZCI6ICI4ODYiLCAidHlwZSI6ICJ2ZXJ0ZXgiLCAicHJvcHMiOiB7ImNvbG9yIjogMjU1fX0K');</script>\n",
       "    "
      ],
      "text/plain": [
       "<IPython.core.display.HTML object>"
      ]
     },
     "metadata": {},
     "output_type": "display_data"
    },
    {
     "data": {
      "text/html": [
       "\n",
       "        <div id=\"7LuXRev3DUx98ZPquNBz2y\"></div>\n",
       "        <script>netpixi.call('7LuXRev3DUx98ZPquNBz2y', 'ENAk6YiDPa5DWrKXiWxk4g', 'setGraph', 'eyJ0eXBlIjogInZlcnRleCIsICJwcm9wcyI6IHsic3JjIjogImNsYXNzIiwgImRzdCI6ICJfa2V5In19Cg==');</script>\n",
       "    "
      ],
      "text/plain": [
       "<IPython.core.display.HTML object>"
      ]
     },
     "metadata": {},
     "output_type": "display_data"
    },
    {
     "data": {
      "text/html": [
       "\n",
       "        <div id=\"k4dGZBCnJzcT5rfVNTEFUb\"></div>\n",
       "        <script>netpixi.call('k4dGZBCnJzcT5rfVNTEFUb', 'ENAk6YiDPa5DWrKXiWxk4g', 'changeGraph', 'eyJpZCI6ICI4NzMiLCAidHlwZSI6ICJ2ZXJ0ZXgiLCAicHJvcHMiOiB7ImNvbG9yIjogMTY3MTE2ODB9fQo=');</script>\n",
       "    "
      ],
      "text/plain": [
       "<IPython.core.display.HTML object>"
      ]
     },
     "metadata": {},
     "output_type": "display_data"
    },
    {
     "data": {
      "text/html": [
       "\n",
       "        <div id=\"Z9YKCigfmpNrAYeuLGDBne\"></div>\n",
       "        <script>netpixi.call('Z9YKCigfmpNrAYeuLGDBne', 'ENAk6YiDPa5DWrKXiWxk4g', 'setGraph', 'eyJ0eXBlIjogInZlcnRleCIsICJwcm9wcyI6IHsic3JjIjogImNsYXNzIiwgImRzdCI6ICJfa2V5In19Cg==');</script>\n",
       "    "
      ],
      "text/plain": [
       "<IPython.core.display.HTML object>"
      ]
     },
     "metadata": {},
     "output_type": "display_data"
    },
    {
     "data": {
      "text/html": [
       "\n",
       "        <div id=\"nU5cVRkGuLk23MEEeV6J7q\"></div>\n",
       "        <script>netpixi.call('nU5cVRkGuLk23MEEeV6J7q', 'ENAk6YiDPa5DWrKXiWxk4g', 'changeGraph', 'eyJpZCI6ICI4MjEiLCAidHlwZSI6ICJ2ZXJ0ZXgiLCAicHJvcHMiOiB7ImNvbG9yIjogMjU1fX0K');</script>\n",
       "    "
      ],
      "text/plain": [
       "<IPython.core.display.HTML object>"
      ]
     },
     "metadata": {},
     "output_type": "display_data"
    },
    {
     "data": {
      "text/html": [
       "\n",
       "        <div id=\"jpMriaDimp5NVtBbxfmFsX\"></div>\n",
       "        <script>netpixi.call('jpMriaDimp5NVtBbxfmFsX', 'ENAk6YiDPa5DWrKXiWxk4g', 'setGraph', 'eyJ0eXBlIjogInZlcnRleCIsICJwcm9wcyI6IHsic3JjIjogImNsYXNzIiwgImRzdCI6ICJfa2V5In19Cg==');</script>\n",
       "    "
      ],
      "text/plain": [
       "<IPython.core.display.HTML object>"
      ]
     },
     "metadata": {},
     "output_type": "display_data"
    },
    {
     "data": {
      "text/html": [
       "\n",
       "        <div id=\"TS2ozheURNMUWiPZdKw4tJ\"></div>\n",
       "        <script>netpixi.call('TS2ozheURNMUWiPZdKw4tJ', 'ENAk6YiDPa5DWrKXiWxk4g', 'changeGraph', 'eyJpZCI6ICI2NDQiLCAidHlwZSI6ICJ2ZXJ0ZXgiLCAicHJvcHMiOiB7ImNvbG9yIjogMTY3MTE2ODB9fQo=');</script>\n",
       "    "
      ],
      "text/plain": [
       "<IPython.core.display.HTML object>"
      ]
     },
     "metadata": {},
     "output_type": "display_data"
    },
    {
     "data": {
      "text/html": [
       "\n",
       "        <div id=\"JFM8XDYGtjHQcZWcBWCWzc\"></div>\n",
       "        <script>netpixi.call('JFM8XDYGtjHQcZWcBWCWzc', 'ENAk6YiDPa5DWrKXiWxk4g', 'setGraph', 'eyJ0eXBlIjogInZlcnRleCIsICJwcm9wcyI6IHsic3JjIjogImNsYXNzIiwgImRzdCI6ICJfa2V5In19Cg==');</script>\n",
       "    "
      ],
      "text/plain": [
       "<IPython.core.display.HTML object>"
      ]
     },
     "metadata": {},
     "output_type": "display_data"
    },
    {
     "data": {
      "text/html": [
       "\n",
       "        <div id=\"KBsBn8wWNDkw24eXejiGZ9\"></div>\n",
       "        <script>netpixi.call('KBsBn8wWNDkw24eXejiGZ9', 'ENAk6YiDPa5DWrKXiWxk4g', 'changeGraph', 'eyJpZCI6ICI2OTYiLCAidHlwZSI6ICJ2ZXJ0ZXgiLCAicHJvcHMiOiB7ImNvbG9yIjogMTY3MTE2ODB9fQo=');</script>\n",
       "    "
      ],
      "text/plain": [
       "<IPython.core.display.HTML object>"
      ]
     },
     "metadata": {},
     "output_type": "display_data"
    },
    {
     "data": {
      "text/html": [
       "\n",
       "        <div id=\"RBhLmK9tvNq7dPGw8MSTRu\"></div>\n",
       "        <script>netpixi.call('RBhLmK9tvNq7dPGw8MSTRu', 'ENAk6YiDPa5DWrKXiWxk4g', 'setGraph', 'eyJ0eXBlIjogInZlcnRleCIsICJwcm9wcyI6IHsic3JjIjogImNsYXNzIiwgImRzdCI6ICJfa2V5In19Cg==');</script>\n",
       "    "
      ],
      "text/plain": [
       "<IPython.core.display.HTML object>"
      ]
     },
     "metadata": {},
     "output_type": "display_data"
    },
    {
     "data": {
      "text/html": [
       "\n",
       "        <div id=\"JfB7xgWWvnQnzi36UdHE6m\"></div>\n",
       "        <script>netpixi.call('JfB7xgWWvnQnzi36UdHE6m', 'ENAk6YiDPa5DWrKXiWxk4g', 'changeGraph', 'eyJpZCI6ICI4MjYiLCAidHlwZSI6ICJ2ZXJ0ZXgiLCAicHJvcHMiOiB7ImNvbG9yIjogMjU1fX0K');</script>\n",
       "    "
      ],
      "text/plain": [
       "<IPython.core.display.HTML object>"
      ]
     },
     "metadata": {},
     "output_type": "display_data"
    },
    {
     "data": {
      "text/html": [
       "\n",
       "        <div id=\"G4QXX4QK7QhBCZWpLHnv6Y\"></div>\n",
       "        <script>netpixi.call('G4QXX4QK7QhBCZWpLHnv6Y', 'ENAk6YiDPa5DWrKXiWxk4g', 'setGraph', 'eyJ0eXBlIjogInZlcnRleCIsICJwcm9wcyI6IHsic3JjIjogImNsYXNzIiwgImRzdCI6ICJfa2V5In19Cg==');</script>\n",
       "    "
      ],
      "text/plain": [
       "<IPython.core.display.HTML object>"
      ]
     },
     "metadata": {},
     "output_type": "display_data"
    },
    {
     "data": {
      "text/html": [
       "\n",
       "        <div id=\"JrNFZPNSondsokWecykcC9\"></div>\n",
       "        <script>netpixi.call('JrNFZPNSondsokWecykcC9', 'ENAk6YiDPa5DWrKXiWxk4g', 'changeGraph', 'eyJpZCI6ICI4NDciLCAidHlwZSI6ICJ2ZXJ0ZXgiLCAicHJvcHMiOiB7ImNvbG9yIjogMTY3MTE2ODB9fQo=');</script>\n",
       "    "
      ],
      "text/plain": [
       "<IPython.core.display.HTML object>"
      ]
     },
     "metadata": {},
     "output_type": "display_data"
    },
    {
     "data": {
      "text/html": [
       "\n",
       "        <div id=\"Esr4KdEXxoR7MCuGMuw68G\"></div>\n",
       "        <script>netpixi.call('Esr4KdEXxoR7MCuGMuw68G', 'ENAk6YiDPa5DWrKXiWxk4g', 'setGraph', 'eyJ0eXBlIjogInZlcnRleCIsICJwcm9wcyI6IHsic3JjIjogImNsYXNzIiwgImRzdCI6ICJfa2V5In19Cg==');</script>\n",
       "    "
      ],
      "text/plain": [
       "<IPython.core.display.HTML object>"
      ]
     },
     "metadata": {},
     "output_type": "display_data"
    },
    {
     "data": {
      "text/html": [
       "\n",
       "        <div id=\"KoNdNnPDnerfHpGK8BjzUC\"></div>\n",
       "        <script>netpixi.call('KoNdNnPDnerfHpGK8BjzUC', 'ENAk6YiDPa5DWrKXiWxk4g', 'changeGraph', 'eyJpZCI6ICI2ODYiLCAidHlwZSI6ICJ2ZXJ0ZXgiLCAicHJvcHMiOiB7ImNvbG9yIjogMTY3MTE2ODB9fQo=');</script>\n",
       "    "
      ],
      "text/plain": [
       "<IPython.core.display.HTML object>"
      ]
     },
     "metadata": {},
     "output_type": "display_data"
    },
    {
     "data": {
      "text/html": [
       "\n",
       "        <div id=\"JAhfxzZNQUExt6TmdNataj\"></div>\n",
       "        <script>netpixi.call('JAhfxzZNQUExt6TmdNataj', 'ENAk6YiDPa5DWrKXiWxk4g', 'setGraph', 'eyJ0eXBlIjogInZlcnRleCIsICJwcm9wcyI6IHsic3JjIjogImNsYXNzIiwgImRzdCI6ICJfa2V5In19Cg==');</script>\n",
       "    "
      ],
      "text/plain": [
       "<IPython.core.display.HTML object>"
      ]
     },
     "metadata": {},
     "output_type": "display_data"
    },
    {
     "data": {
      "text/html": [
       "\n",
       "        <div id=\"TF4H7wygUorhWGXwHwqR3X\"></div>\n",
       "        <script>netpixi.call('TF4H7wygUorhWGXwHwqR3X', 'ENAk6YiDPa5DWrKXiWxk4g', 'changeGraph', 'eyJpZCI6ICI4OTMiLCAidHlwZSI6ICJ2ZXJ0ZXgiLCAicHJvcHMiOiB7ImNvbG9yIjogMjU1fX0K');</script>\n",
       "    "
      ],
      "text/plain": [
       "<IPython.core.display.HTML object>"
      ]
     },
     "metadata": {},
     "output_type": "display_data"
    },
    {
     "data": {
      "text/html": [
       "\n",
       "        <div id=\"oHLVdJWBjiEacwqd98ft93\"></div>\n",
       "        <script>netpixi.call('oHLVdJWBjiEacwqd98ft93', 'ENAk6YiDPa5DWrKXiWxk4g', 'setGraph', 'eyJ0eXBlIjogInZlcnRleCIsICJwcm9wcyI6IHsic3JjIjogImNsYXNzIiwgImRzdCI6ICJfa2V5In19Cg==');</script>\n",
       "    "
      ],
      "text/plain": [
       "<IPython.core.display.HTML object>"
      ]
     },
     "metadata": {},
     "output_type": "display_data"
    },
    {
     "data": {
      "text/html": [
       "\n",
       "        <div id=\"EVBVMMXTaEBPNjs9GWNxsn\"></div>\n",
       "        <script>netpixi.call('EVBVMMXTaEBPNjs9GWNxsn', 'ENAk6YiDPa5DWrKXiWxk4g', 'changeGraph', 'eyJpZCI6ICI4NTciLCAidHlwZSI6ICJ2ZXJ0ZXgiLCAicHJvcHMiOiB7ImNvbG9yIjogMjU1fX0K');</script>\n",
       "    "
      ],
      "text/plain": [
       "<IPython.core.display.HTML object>"
      ]
     },
     "metadata": {},
     "output_type": "display_data"
    },
    {
     "data": {
      "text/html": [
       "\n",
       "        <div id=\"6NRxd5CZRASfaBmXNnbnh6\"></div>\n",
       "        <script>netpixi.call('6NRxd5CZRASfaBmXNnbnh6', 'ENAk6YiDPa5DWrKXiWxk4g', 'setGraph', 'eyJ0eXBlIjogInZlcnRleCIsICJwcm9wcyI6IHsic3JjIjogImNsYXNzIiwgImRzdCI6ICJfa2V5In19Cg==');</script>\n",
       "    "
      ],
      "text/plain": [
       "<IPython.core.display.HTML object>"
      ]
     },
     "metadata": {},
     "output_type": "display_data"
    },
    {
     "data": {
      "text/html": [
       "\n",
       "        <div id=\"NnxJs3ofa3ZGn9hQ9QNmre\"></div>\n",
       "        <script>netpixi.call('NnxJs3ofa3ZGn9hQ9QNmre', 'ENAk6YiDPa5DWrKXiWxk4g', 'changeGraph', 'eyJpZCI6ICI4MTUiLCAidHlwZSI6ICJ2ZXJ0ZXgiLCAicHJvcHMiOiB7ImNvbG9yIjogMjU1fX0K');</script>\n",
       "    "
      ],
      "text/plain": [
       "<IPython.core.display.HTML object>"
      ]
     },
     "metadata": {},
     "output_type": "display_data"
    },
    {
     "data": {
      "text/html": [
       "\n",
       "        <div id=\"Rg9tb2K6hzMD5TyXvK8LWt\"></div>\n",
       "        <script>netpixi.call('Rg9tb2K6hzMD5TyXvK8LWt', 'ENAk6YiDPa5DWrKXiWxk4g', 'setGraph', 'eyJ0eXBlIjogInZlcnRleCIsICJwcm9wcyI6IHsic3JjIjogImNsYXNzIiwgImRzdCI6ICJfa2V5In19Cg==');</script>\n",
       "    "
      ],
      "text/plain": [
       "<IPython.core.display.HTML object>"
      ]
     },
     "metadata": {},
     "output_type": "display_data"
    },
    {
     "data": {
      "text/html": [
       "\n",
       "        <div id=\"TkCProyzVsLLJnFomgkDUD\"></div>\n",
       "        <script>netpixi.call('TkCProyzVsLLJnFomgkDUD', 'ENAk6YiDPa5DWrKXiWxk4g', 'changeGraph', 'eyJpZCI6ICI4NzEiLCAidHlwZSI6ICJ2ZXJ0ZXgiLCAicHJvcHMiOiB7ImNvbG9yIjogMjU1fX0K');</script>\n",
       "    "
      ],
      "text/plain": [
       "<IPython.core.display.HTML object>"
      ]
     },
     "metadata": {},
     "output_type": "display_data"
    },
    {
     "data": {
      "text/html": [
       "\n",
       "        <div id=\"EYETFYhnWD4rjbDGmy6DJr\"></div>\n",
       "        <script>netpixi.call('EYETFYhnWD4rjbDGmy6DJr', 'ENAk6YiDPa5DWrKXiWxk4g', 'setGraph', 'eyJ0eXBlIjogInZlcnRleCIsICJwcm9wcyI6IHsic3JjIjogImNsYXNzIiwgImRzdCI6ICJfa2V5In19Cg==');</script>\n",
       "    "
      ],
      "text/plain": [
       "<IPython.core.display.HTML object>"
      ]
     },
     "metadata": {},
     "output_type": "display_data"
    },
    {
     "data": {
      "text/html": [
       "\n",
       "        <div id=\"gDjugXTTd7gE5aFvantFaX\"></div>\n",
       "        <script>netpixi.call('gDjugXTTd7gE5aFvantFaX', 'ENAk6YiDPa5DWrKXiWxk4g', 'changeGraph', 'eyJpZCI6ICI2NjAiLCAidHlwZSI6ICJ2ZXJ0ZXgiLCAicHJvcHMiOiB7ImNvbG9yIjogMjU1fX0K');</script>\n",
       "    "
      ],
      "text/plain": [
       "<IPython.core.display.HTML object>"
      ]
     },
     "metadata": {},
     "output_type": "display_data"
    },
    {
     "data": {
      "text/html": [
       "\n",
       "        <div id=\"9c9FG45fS24a9jWU3H2Eiu\"></div>\n",
       "        <script>netpixi.call('9c9FG45fS24a9jWU3H2Eiu', 'ENAk6YiDPa5DWrKXiWxk4g', 'setGraph', 'eyJ0eXBlIjogInZlcnRleCIsICJwcm9wcyI6IHsic3JjIjogImNsYXNzIiwgImRzdCI6ICJfa2V5In19Cg==');</script>\n",
       "    "
      ],
      "text/plain": [
       "<IPython.core.display.HTML object>"
      ]
     },
     "metadata": {},
     "output_type": "display_data"
    },
    {
     "data": {
      "text/html": [
       "\n",
       "        <div id=\"bWx7nXKZMBAHoz8Ugt7Yca\"></div>\n",
       "        <script>netpixi.call('bWx7nXKZMBAHoz8Ugt7Yca', 'ENAk6YiDPa5DWrKXiWxk4g', 'changeGraph', 'eyJpZCI6ICI4NjYiLCAidHlwZSI6ICJ2ZXJ0ZXgiLCAicHJvcHMiOiB7ImNvbG9yIjogMjU1fX0K');</script>\n",
       "    "
      ],
      "text/plain": [
       "<IPython.core.display.HTML object>"
      ]
     },
     "metadata": {},
     "output_type": "display_data"
    },
    {
     "data": {
      "text/html": [
       "\n",
       "        <div id=\"mznmBM3ERed5GrZWqYYoeB\"></div>\n",
       "        <script>netpixi.call('mznmBM3ERed5GrZWqYYoeB', 'ENAk6YiDPa5DWrKXiWxk4g', 'setGraph', 'eyJ0eXBlIjogInZlcnRleCIsICJwcm9wcyI6IHsic3JjIjogImNsYXNzIiwgImRzdCI6ICJfa2V5In19Cg==');</script>\n",
       "    "
      ],
      "text/plain": [
       "<IPython.core.display.HTML object>"
      ]
     },
     "metadata": {},
     "output_type": "display_data"
    },
    {
     "data": {
      "text/html": [
       "\n",
       "        <div id=\"RDroZaZTxcbqXYDcWY94ZK\"></div>\n",
       "        <script>netpixi.call('RDroZaZTxcbqXYDcWY94ZK', 'ENAk6YiDPa5DWrKXiWxk4g', 'changeGraph', 'eyJpZCI6ICI4MTQiLCAidHlwZSI6ICJ2ZXJ0ZXgiLCAicHJvcHMiOiB7ImNvbG9yIjogMTY3MTE2ODB9fQo=');</script>\n",
       "    "
      ],
      "text/plain": [
       "<IPython.core.display.HTML object>"
      ]
     },
     "metadata": {},
     "output_type": "display_data"
    },
    {
     "data": {
      "text/html": [
       "\n",
       "        <div id=\"mA57MxWKwprVUtjWUM3seY\"></div>\n",
       "        <script>netpixi.call('mA57MxWKwprVUtjWUM3seY', 'ENAk6YiDPa5DWrKXiWxk4g', 'setGraph', 'eyJ0eXBlIjogInZlcnRleCIsICJwcm9wcyI6IHsic3JjIjogImNsYXNzIiwgImRzdCI6ICJfa2V5In19Cg==');</script>\n",
       "    "
      ],
      "text/plain": [
       "<IPython.core.display.HTML object>"
      ]
     },
     "metadata": {},
     "output_type": "display_data"
    },
    {
     "data": {
      "text/html": [
       "\n",
       "        <div id=\"7MmarMBwH9kV2e7cGgc6FR\"></div>\n",
       "        <script>netpixi.call('7MmarMBwH9kV2e7cGgc6FR', 'ENAk6YiDPa5DWrKXiWxk4g', 'changeGraph', 'eyJpZCI6ICI4OTUiLCAidHlwZSI6ICJ2ZXJ0ZXgiLCAicHJvcHMiOiB7ImNvbG9yIjogMTY3MTE2ODB9fQo=');</script>\n",
       "    "
      ],
      "text/plain": [
       "<IPython.core.display.HTML object>"
      ]
     },
     "metadata": {},
     "output_type": "display_data"
    },
    {
     "data": {
      "text/html": [
       "\n",
       "        <div id=\"CGQ8d3ZjkM8b3anX3NRVhf\"></div>\n",
       "        <script>netpixi.call('CGQ8d3ZjkM8b3anX3NRVhf', 'ENAk6YiDPa5DWrKXiWxk4g', 'setGraph', 'eyJ0eXBlIjogInZlcnRleCIsICJwcm9wcyI6IHsic3JjIjogImNsYXNzIiwgImRzdCI6ICJfa2V5In19Cg==');</script>\n",
       "    "
      ],
      "text/plain": [
       "<IPython.core.display.HTML object>"
      ]
     },
     "metadata": {},
     "output_type": "display_data"
    },
    {
     "data": {
      "text/html": [
       "\n",
       "        <div id=\"nVSpfP2qEg2hke7kwetRhR\"></div>\n",
       "        <script>netpixi.call('nVSpfP2qEg2hke7kwetRhR', 'ENAk6YiDPa5DWrKXiWxk4g', 'changeGraph', 'eyJpZCI6ICIxNjc4IiwgInR5cGUiOiAidmVydGV4IiwgInByb3BzIjogeyJjb2xvciI6IDI1NX19Cg==');</script>\n",
       "    "
      ],
      "text/plain": [
       "<IPython.core.display.HTML object>"
      ]
     },
     "metadata": {},
     "output_type": "display_data"
    },
    {
     "data": {
      "text/html": [
       "\n",
       "        <div id=\"WUfcBvX36Rkm2LogCdQAdT\"></div>\n",
       "        <script>netpixi.call('WUfcBvX36Rkm2LogCdQAdT', 'ENAk6YiDPa5DWrKXiWxk4g', 'setGraph', 'eyJ0eXBlIjogInZlcnRleCIsICJwcm9wcyI6IHsic3JjIjogImNsYXNzIiwgImRzdCI6ICJfa2V5In19Cg==');</script>\n",
       "    "
      ],
      "text/plain": [
       "<IPython.core.display.HTML object>"
      ]
     },
     "metadata": {},
     "output_type": "display_data"
    },
    {
     "data": {
      "text/html": [
       "\n",
       "        <div id=\"84DSp66YQfZGqbTXUUN8ax\"></div>\n",
       "        <script>netpixi.call('84DSp66YQfZGqbTXUUN8ax', 'ENAk6YiDPa5DWrKXiWxk4g', 'changeGraph', 'eyJpZCI6ICI4MTAiLCAidHlwZSI6ICJ2ZXJ0ZXgiLCAicHJvcHMiOiB7ImNvbG9yIjogMjU1fX0K');</script>\n",
       "    "
      ],
      "text/plain": [
       "<IPython.core.display.HTML object>"
      ]
     },
     "metadata": {},
     "output_type": "display_data"
    },
    {
     "data": {
      "text/html": [
       "\n",
       "        <div id=\"BAaCb5LQbyQVfLCZwauw4h\"></div>\n",
       "        <script>netpixi.call('BAaCb5LQbyQVfLCZwauw4h', 'ENAk6YiDPa5DWrKXiWxk4g', 'setGraph', 'eyJ0eXBlIjogInZlcnRleCIsICJwcm9wcyI6IHsic3JjIjogImNsYXNzIiwgImRzdCI6ICJfa2V5In19Cg==');</script>\n",
       "    "
      ],
      "text/plain": [
       "<IPython.core.display.HTML object>"
      ]
     },
     "metadata": {},
     "output_type": "display_data"
    },
    {
     "data": {
      "text/html": [
       "\n",
       "        <div id=\"FKWBFK8uUMbCuGkSxqgXVz\"></div>\n",
       "        <script>netpixi.call('FKWBFK8uUMbCuGkSxqgXVz', 'ENAk6YiDPa5DWrKXiWxk4g', 'changeGraph', 'eyJpZCI6ICI4NTQiLCAidHlwZSI6ICJ2ZXJ0ZXgiLCAicHJvcHMiOiB7ImNvbG9yIjogMTY3MTE2ODB9fQo=');</script>\n",
       "    "
      ],
      "text/plain": [
       "<IPython.core.display.HTML object>"
      ]
     },
     "metadata": {},
     "output_type": "display_data"
    },
    {
     "data": {
      "text/html": [
       "\n",
       "        <div id=\"CpHpVfgKYRReLJmMEm9EYw\"></div>\n",
       "        <script>netpixi.call('CpHpVfgKYRReLJmMEm9EYw', 'ENAk6YiDPa5DWrKXiWxk4g', 'setGraph', 'eyJ0eXBlIjogInZlcnRleCIsICJwcm9wcyI6IHsic3JjIjogImNsYXNzIiwgImRzdCI6ICJfa2V5In19Cg==');</script>\n",
       "    "
      ],
      "text/plain": [
       "<IPython.core.display.HTML object>"
      ]
     },
     "metadata": {},
     "output_type": "display_data"
    },
    {
     "data": {
      "text/html": [
       "\n",
       "        <div id=\"mqsukrbdiAsL8b5wNGYjwo\"></div>\n",
       "        <script>netpixi.call('mqsukrbdiAsL8b5wNGYjwo', 'ENAk6YiDPa5DWrKXiWxk4g', 'changeGraph', 'eyJpZCI6ICI4ODkiLCAidHlwZSI6ICJ2ZXJ0ZXgiLCAicHJvcHMiOiB7ImNvbG9yIjogMjU1fX0K');</script>\n",
       "    "
      ],
      "text/plain": [
       "<IPython.core.display.HTML object>"
      ]
     },
     "metadata": {},
     "output_type": "display_data"
    },
    {
     "data": {
      "text/html": [
       "\n",
       "        <div id=\"Pm8C6JWv9sS3jh3PRszJBF\"></div>\n",
       "        <script>netpixi.call('Pm8C6JWv9sS3jh3PRszJBF', 'ENAk6YiDPa5DWrKXiWxk4g', 'setGraph', 'eyJ0eXBlIjogInZlcnRleCIsICJwcm9wcyI6IHsic3JjIjogImNsYXNzIiwgImRzdCI6ICJfa2V5In19Cg==');</script>\n",
       "    "
      ],
      "text/plain": [
       "<IPython.core.display.HTML object>"
      ]
     },
     "metadata": {},
     "output_type": "display_data"
    },
    {
     "data": {
      "text/html": [
       "\n",
       "        <div id=\"LmUNrGQjxqZiSVu5H7sA8Z\"></div>\n",
       "        <script>netpixi.call('LmUNrGQjxqZiSVu5H7sA8Z', 'ENAk6YiDPa5DWrKXiWxk4g', 'changeGraph', 'eyJpZCI6ICI4OTAiLCAidHlwZSI6ICJ2ZXJ0ZXgiLCAicHJvcHMiOiB7ImNvbG9yIjogMjU1fX0K');</script>\n",
       "    "
      ],
      "text/plain": [
       "<IPython.core.display.HTML object>"
      ]
     },
     "metadata": {},
     "output_type": "display_data"
    },
    {
     "data": {
      "text/html": [
       "\n",
       "        <div id=\"DA5vUurrcx3msSSCHMVDn6\"></div>\n",
       "        <script>netpixi.call('DA5vUurrcx3msSSCHMVDn6', 'ENAk6YiDPa5DWrKXiWxk4g', 'setGraph', 'eyJ0eXBlIjogInZlcnRleCIsICJwcm9wcyI6IHsic3JjIjogImNsYXNzIiwgImRzdCI6ICJfa2V5In19Cg==');</script>\n",
       "    "
      ],
      "text/plain": [
       "<IPython.core.display.HTML object>"
      ]
     },
     "metadata": {},
     "output_type": "display_data"
    },
    {
     "data": {
      "text/html": [
       "\n",
       "        <div id=\"KEbt38Z9r62b8HBAL7Yog4\"></div>\n",
       "        <script>netpixi.call('KEbt38Z9r62b8HBAL7Yog4', 'ENAk6YiDPa5DWrKXiWxk4g', 'changeGraph', 'eyJpZCI6ICI4OTEiLCAidHlwZSI6ICJ2ZXJ0ZXgiLCAicHJvcHMiOiB7ImNvbG9yIjogMjU1fX0K');</script>\n",
       "    "
      ],
      "text/plain": [
       "<IPython.core.display.HTML object>"
      ]
     },
     "metadata": {},
     "output_type": "display_data"
    },
    {
     "data": {
      "text/html": [
       "\n",
       "        <div id=\"6gYGssavYXHHDwh76qD7tq\"></div>\n",
       "        <script>netpixi.call('6gYGssavYXHHDwh76qD7tq', 'ENAk6YiDPa5DWrKXiWxk4g', 'setGraph', 'eyJ0eXBlIjogInZlcnRleCIsICJwcm9wcyI6IHsic3JjIjogImNsYXNzIiwgImRzdCI6ICJfa2V5In19Cg==');</script>\n",
       "    "
      ],
      "text/plain": [
       "<IPython.core.display.HTML object>"
      ]
     },
     "metadata": {},
     "output_type": "display_data"
    },
    {
     "data": {
      "text/html": [
       "\n",
       "        <div id=\"aAUU89yAgqYHEGivS9LQqJ\"></div>\n",
       "        <script>netpixi.call('aAUU89yAgqYHEGivS9LQqJ', 'ENAk6YiDPa5DWrKXiWxk4g', 'changeGraph', 'eyJpZCI6ICI4ODgiLCAidHlwZSI6ICJ2ZXJ0ZXgiLCAicHJvcHMiOiB7ImNvbG9yIjogMjU1fX0K');</script>\n",
       "    "
      ],
      "text/plain": [
       "<IPython.core.display.HTML object>"
      ]
     },
     "metadata": {},
     "output_type": "display_data"
    },
    {
     "data": {
      "text/html": [
       "\n",
       "        <div id=\"h2prVKse57ZNhXnQggJZQr\"></div>\n",
       "        <script>netpixi.call('h2prVKse57ZNhXnQggJZQr', 'ENAk6YiDPa5DWrKXiWxk4g', 'setGraph', 'eyJ0eXBlIjogInZlcnRleCIsICJwcm9wcyI6IHsic3JjIjogImNsYXNzIiwgImRzdCI6ICJfa2V5In19Cg==');</script>\n",
       "    "
      ],
      "text/plain": [
       "<IPython.core.display.HTML object>"
      ]
     },
     "metadata": {},
     "output_type": "display_data"
    },
    {
     "data": {
      "text/html": [
       "\n",
       "        <div id=\"BXFtBJpRoCMiVtJT8zbhCf\"></div>\n",
       "        <script>netpixi.call('BXFtBJpRoCMiVtJT8zbhCf', 'ENAk6YiDPa5DWrKXiWxk4g', 'changeGraph', 'eyJpZCI6ICI2MTgiLCAidHlwZSI6ICJ2ZXJ0ZXgiLCAicHJvcHMiOiB7ImNvbG9yIjogMTY3MTE2ODB9fQo=');</script>\n",
       "    "
      ],
      "text/plain": [
       "<IPython.core.display.HTML object>"
      ]
     },
     "metadata": {},
     "output_type": "display_data"
    },
    {
     "data": {
      "text/html": [
       "\n",
       "        <div id=\"aXxdqxz4mjXmDeZ2vBo8Lo\"></div>\n",
       "        <script>netpixi.call('aXxdqxz4mjXmDeZ2vBo8Lo', 'ENAk6YiDPa5DWrKXiWxk4g', 'setGraph', 'eyJ0eXBlIjogInZlcnRleCIsICJwcm9wcyI6IHsic3JjIjogImNsYXNzIiwgImRzdCI6ICJfa2V5In19Cg==');</script>\n",
       "    "
      ],
      "text/plain": [
       "<IPython.core.display.HTML object>"
      ]
     },
     "metadata": {},
     "output_type": "display_data"
    },
    {
     "data": {
      "text/html": [
       "\n",
       "        <div id=\"4u8Vre4uiALvY6cMTvc6k9\"></div>\n",
       "        <script>netpixi.call('4u8Vre4uiALvY6cMTvc6k9', 'ENAk6YiDPa5DWrKXiWxk4g', 'changeGraph', 'eyJpZCI6ICI4MDQiLCAidHlwZSI6ICJ2ZXJ0ZXgiLCAicHJvcHMiOiB7ImNvbG9yIjogMjU1fX0K');</script>\n",
       "    "
      ],
      "text/plain": [
       "<IPython.core.display.HTML object>"
      ]
     },
     "metadata": {},
     "output_type": "display_data"
    },
    {
     "data": {
      "text/html": [
       "\n",
       "        <div id=\"NNKCX7PQVnNThb5dYFG3ah\"></div>\n",
       "        <script>netpixi.call('NNKCX7PQVnNThb5dYFG3ah', 'ENAk6YiDPa5DWrKXiWxk4g', 'setGraph', 'eyJ0eXBlIjogInZlcnRleCIsICJwcm9wcyI6IHsic3JjIjogImNsYXNzIiwgImRzdCI6ICJfa2V5In19Cg==');</script>\n",
       "    "
      ],
      "text/plain": [
       "<IPython.core.display.HTML object>"
      ]
     },
     "metadata": {},
     "output_type": "display_data"
    },
    {
     "data": {
      "text/html": [
       "\n",
       "        <div id=\"bEvtK6fGqzK3cojUuzakpf\"></div>\n",
       "        <script>netpixi.call('bEvtK6fGqzK3cojUuzakpf', 'ENAk6YiDPa5DWrKXiWxk4g', 'changeGraph', 'eyJpZCI6ICI4MTciLCAidHlwZSI6ICJ2ZXJ0ZXgiLCAicHJvcHMiOiB7ImNvbG9yIjogMTY3MTE2ODB9fQo=');</script>\n",
       "    "
      ],
      "text/plain": [
       "<IPython.core.display.HTML object>"
      ]
     },
     "metadata": {},
     "output_type": "display_data"
    },
    {
     "data": {
      "text/html": [
       "\n",
       "        <div id=\"BVsacTnwhTHZRqcpjiqaJn\"></div>\n",
       "        <script>netpixi.call('BVsacTnwhTHZRqcpjiqaJn', 'ENAk6YiDPa5DWrKXiWxk4g', 'setGraph', 'eyJ0eXBlIjogInZlcnRleCIsICJwcm9wcyI6IHsic3JjIjogImNsYXNzIiwgImRzdCI6ICJfa2V5In19Cg==');</script>\n",
       "    "
      ],
      "text/plain": [
       "<IPython.core.display.HTML object>"
      ]
     },
     "metadata": {},
     "output_type": "display_data"
    },
    {
     "data": {
      "text/html": [
       "\n",
       "        <div id=\"GyAcXwbgUQ9tkWkKdDVDWh\"></div>\n",
       "        <script>netpixi.call('GyAcXwbgUQ9tkWkKdDVDWh', 'ENAk6YiDPa5DWrKXiWxk4g', 'changeGraph', 'eyJpZCI6ICI4ODMiLCAidHlwZSI6ICJ2ZXJ0ZXgiLCAicHJvcHMiOiB7ImNvbG9yIjogMjU1fX0K');</script>\n",
       "    "
      ],
      "text/plain": [
       "<IPython.core.display.HTML object>"
      ]
     },
     "metadata": {},
     "output_type": "display_data"
    },
    {
     "data": {
      "text/html": [
       "\n",
       "        <div id=\"VUv3tHfy9wL7DwA5c6mhog\"></div>\n",
       "        <script>netpixi.call('VUv3tHfy9wL7DwA5c6mhog', 'ENAk6YiDPa5DWrKXiWxk4g', 'setGraph', 'eyJ0eXBlIjogInZlcnRleCIsICJwcm9wcyI6IHsic3JjIjogImNsYXNzIiwgImRzdCI6ICJfa2V5In19Cg==');</script>\n",
       "    "
      ],
      "text/plain": [
       "<IPython.core.display.HTML object>"
      ]
     },
     "metadata": {},
     "output_type": "display_data"
    },
    {
     "data": {
      "text/html": [
       "\n",
       "        <div id=\"9qcdZLXrLFpHcGpCmxVqWb\"></div>\n",
       "        <script>netpixi.call('9qcdZLXrLFpHcGpCmxVqWb', 'ENAk6YiDPa5DWrKXiWxk4g', 'changeGraph', 'eyJpZCI6ICI4NzUiLCAidHlwZSI6ICJ2ZXJ0ZXgiLCAicHJvcHMiOiB7ImNvbG9yIjogMjU1fX0K');</script>\n",
       "    "
      ],
      "text/plain": [
       "<IPython.core.display.HTML object>"
      ]
     },
     "metadata": {},
     "output_type": "display_data"
    },
    {
     "data": {
      "text/html": [
       "\n",
       "        <div id=\"89kNdbeDUZjyZgP6HbaciD\"></div>\n",
       "        <script>netpixi.call('89kNdbeDUZjyZgP6HbaciD', 'ENAk6YiDPa5DWrKXiWxk4g', 'setGraph', 'eyJ0eXBlIjogInZlcnRleCIsICJwcm9wcyI6IHsic3JjIjogImNsYXNzIiwgImRzdCI6ICJfa2V5In19Cg==');</script>\n",
       "    "
      ],
      "text/plain": [
       "<IPython.core.display.HTML object>"
      ]
     },
     "metadata": {},
     "output_type": "display_data"
    },
    {
     "data": {
      "text/html": [
       "\n",
       "        <div id=\"UNe78292fDTGmYb4bzs4Xj\"></div>\n",
       "        <script>netpixi.call('UNe78292fDTGmYb4bzs4Xj', 'ENAk6YiDPa5DWrKXiWxk4g', 'changeGraph', 'eyJpZCI6ICI4ODAiLCAidHlwZSI6ICJ2ZXJ0ZXgiLCAicHJvcHMiOiB7ImNvbG9yIjogMjU1fX0K');</script>\n",
       "    "
      ],
      "text/plain": [
       "<IPython.core.display.HTML object>"
      ]
     },
     "metadata": {},
     "output_type": "display_data"
    },
    {
     "data": {
      "text/html": [
       "\n",
       "        <div id=\"g7HULTm3sEKcpXhTqmr4Db\"></div>\n",
       "        <script>netpixi.call('g7HULTm3sEKcpXhTqmr4Db', 'ENAk6YiDPa5DWrKXiWxk4g', 'setGraph', 'eyJ0eXBlIjogInZlcnRleCIsICJwcm9wcyI6IHsic3JjIjogImNsYXNzIiwgImRzdCI6ICJfa2V5In19Cg==');</script>\n",
       "    "
      ],
      "text/plain": [
       "<IPython.core.display.HTML object>"
      ]
     },
     "metadata": {},
     "output_type": "display_data"
    },
    {
     "data": {
      "text/html": [
       "\n",
       "        <div id=\"cK3nbwTw6gFNQu5w45aoa3\"></div>\n",
       "        <script>netpixi.call('cK3nbwTw6gFNQu5w45aoa3', 'ENAk6YiDPa5DWrKXiWxk4g', 'changeGraph', 'eyJpZCI6ICI4NjkiLCAidHlwZSI6ICJ2ZXJ0ZXgiLCAicHJvcHMiOiB7ImNvbG9yIjogMjU1fX0K');</script>\n",
       "    "
      ],
      "text/plain": [
       "<IPython.core.display.HTML object>"
      ]
     },
     "metadata": {},
     "output_type": "display_data"
    },
    {
     "data": {
      "text/html": [
       "\n",
       "        <div id=\"FTncgsp6cqA9LDg9bkYCsf\"></div>\n",
       "        <script>netpixi.call('FTncgsp6cqA9LDg9bkYCsf', 'ENAk6YiDPa5DWrKXiWxk4g', 'setGraph', 'eyJ0eXBlIjogInZlcnRleCIsICJwcm9wcyI6IHsic3JjIjogImNsYXNzIiwgImRzdCI6ICJfa2V5In19Cg==');</script>\n",
       "    "
      ],
      "text/plain": [
       "<IPython.core.display.HTML object>"
      ]
     },
     "metadata": {},
     "output_type": "display_data"
    },
    {
     "data": {
      "text/html": [
       "\n",
       "        <div id=\"WiCnXpC97L8ttbFbEZRLKZ\"></div>\n",
       "        <script>netpixi.call('WiCnXpC97L8ttbFbEZRLKZ', 'ENAk6YiDPa5DWrKXiWxk4g', 'changeGraph', 'eyJpZCI6ICI4MDYiLCAidHlwZSI6ICJ2ZXJ0ZXgiLCAicHJvcHMiOiB7ImNvbG9yIjogMjU1fX0K');</script>\n",
       "    "
      ],
      "text/plain": [
       "<IPython.core.display.HTML object>"
      ]
     },
     "metadata": {},
     "output_type": "display_data"
    },
    {
     "data": {
      "text/html": [
       "\n",
       "        <div id=\"hncoHfLkZzavoWzPv5vkMr\"></div>\n",
       "        <script>netpixi.call('hncoHfLkZzavoWzPv5vkMr', 'ENAk6YiDPa5DWrKXiWxk4g', 'setGraph', 'eyJ0eXBlIjogInZlcnRleCIsICJwcm9wcyI6IHsic3JjIjogImNsYXNzIiwgImRzdCI6ICJfa2V5In19Cg==');</script>\n",
       "    "
      ],
      "text/plain": [
       "<IPython.core.display.HTML object>"
      ]
     },
     "metadata": {},
     "output_type": "display_data"
    },
    {
     "data": {
      "text/html": [
       "\n",
       "        <div id=\"ANE5HSAw2iMutGVoW5joiG\"></div>\n",
       "        <script>netpixi.call('ANE5HSAw2iMutGVoW5joiG', 'ENAk6YiDPa5DWrKXiWxk4g', 'changeGraph', 'eyJpZCI6ICI4MDciLCAidHlwZSI6ICJ2ZXJ0ZXgiLCAicHJvcHMiOiB7ImNvbG9yIjogMjU1fX0K');</script>\n",
       "    "
      ],
      "text/plain": [
       "<IPython.core.display.HTML object>"
      ]
     },
     "metadata": {},
     "output_type": "display_data"
    },
    {
     "data": {
      "text/html": [
       "\n",
       "        <div id=\"MauU8Gzbj97W4To9uXUNN2\"></div>\n",
       "        <script>netpixi.call('MauU8Gzbj97W4To9uXUNN2', 'ENAk6YiDPa5DWrKXiWxk4g', 'setGraph', 'eyJ0eXBlIjogInZlcnRleCIsICJwcm9wcyI6IHsic3JjIjogImNsYXNzIiwgImRzdCI6ICJfa2V5In19Cg==');</script>\n",
       "    "
      ],
      "text/plain": [
       "<IPython.core.display.HTML object>"
      ]
     },
     "metadata": {},
     "output_type": "display_data"
    },
    {
     "data": {
      "text/html": [
       "\n",
       "        <div id=\"CkNirZLcNGBXsXeC5cGqUP\"></div>\n",
       "        <script>netpixi.call('CkNirZLcNGBXsXeC5cGqUP', 'ENAk6YiDPa5DWrKXiWxk4g', 'changeGraph', 'eyJpZCI6ICI4OTciLCAidHlwZSI6ICJ2ZXJ0ZXgiLCAicHJvcHMiOiB7ImNvbG9yIjogMjU1fX0K');</script>\n",
       "    "
      ],
      "text/plain": [
       "<IPython.core.display.HTML object>"
      ]
     },
     "metadata": {},
     "output_type": "display_data"
    },
    {
     "data": {
      "text/html": [
       "\n",
       "        <div id=\"H8xFxqAFrMJFbBYdCLSSY5\"></div>\n",
       "        <script>netpixi.call('H8xFxqAFrMJFbBYdCLSSY5', 'ENAk6YiDPa5DWrKXiWxk4g', 'setGraph', 'eyJ0eXBlIjogInZlcnRleCIsICJwcm9wcyI6IHsic3JjIjogImNsYXNzIiwgImRzdCI6ICJfa2V5In19Cg==');</script>\n",
       "    "
      ],
      "text/plain": [
       "<IPython.core.display.HTML object>"
      ]
     },
     "metadata": {},
     "output_type": "display_data"
    },
    {
     "data": {
      "text/html": [
       "\n",
       "        <div id=\"HHMarxw9QfwmMBXgeP7jzq\"></div>\n",
       "        <script>netpixi.call('HHMarxw9QfwmMBXgeP7jzq', 'ENAk6YiDPa5DWrKXiWxk4g', 'changeGraph', 'eyJpZCI6ICI4NjMiLCAidHlwZSI6ICJ2ZXJ0ZXgiLCAicHJvcHMiOiB7ImNvbG9yIjogMTY3MTE2ODB9fQo=');</script>\n",
       "    "
      ],
      "text/plain": [
       "<IPython.core.display.HTML object>"
      ]
     },
     "metadata": {},
     "output_type": "display_data"
    },
    {
     "data": {
      "text/html": [
       "\n",
       "        <div id=\"nnt83YDD7c5m7M4UmxF4gC\"></div>\n",
       "        <script>netpixi.call('nnt83YDD7c5m7M4UmxF4gC', 'ENAk6YiDPa5DWrKXiWxk4g', 'setGraph', 'eyJ0eXBlIjogInZlcnRleCIsICJwcm9wcyI6IHsic3JjIjogImNsYXNzIiwgImRzdCI6ICJfa2V5In19Cg==');</script>\n",
       "    "
      ],
      "text/plain": [
       "<IPython.core.display.HTML object>"
      ]
     },
     "metadata": {},
     "output_type": "display_data"
    },
    {
     "data": {
      "text/html": [
       "\n",
       "        <div id=\"CQNKSsYD7FBFGJJ9XyToZb\"></div>\n",
       "        <script>netpixi.call('CQNKSsYD7FBFGJJ9XyToZb', 'ENAk6YiDPa5DWrKXiWxk4g', 'changeGraph', 'eyJpZCI6ICI2ODEiLCAidHlwZSI6ICJ2ZXJ0ZXgiLCAicHJvcHMiOiB7ImNvbG9yIjogMTY3MTE2ODB9fQo=');</script>\n",
       "    "
      ],
      "text/plain": [
       "<IPython.core.display.HTML object>"
      ]
     },
     "metadata": {},
     "output_type": "display_data"
    },
    {
     "data": {
      "text/html": [
       "\n",
       "        <div id=\"29cgLKHESY8o3k3RQd4CG8\"></div>\n",
       "        <script>netpixi.call('29cgLKHESY8o3k3RQd4CG8', 'ENAk6YiDPa5DWrKXiWxk4g', 'setGraph', 'eyJ0eXBlIjogInZlcnRleCIsICJwcm9wcyI6IHsic3JjIjogImNsYXNzIiwgImRzdCI6ICJfa2V5In19Cg==');</script>\n",
       "    "
      ],
      "text/plain": [
       "<IPython.core.display.HTML object>"
      ]
     },
     "metadata": {},
     "output_type": "display_data"
    },
    {
     "data": {
      "text/html": [
       "\n",
       "        <div id=\"iUuvoTJF3pvF2qDPiiiBxs\"></div>\n",
       "        <script>netpixi.call('iUuvoTJF3pvF2qDPiiiBxs', 'ENAk6YiDPa5DWrKXiWxk4g', 'changeGraph', 'eyJpZCI6ICI4MTkiLCAidHlwZSI6ICJ2ZXJ0ZXgiLCAicHJvcHMiOiB7ImNvbG9yIjogMTY3MTE2ODB9fQo=');</script>\n",
       "    "
      ],
      "text/plain": [
       "<IPython.core.display.HTML object>"
      ]
     },
     "metadata": {},
     "output_type": "display_data"
    },
    {
     "data": {
      "text/html": [
       "\n",
       "        <div id=\"QSaoMcrZutJrmPowVKiCyb\"></div>\n",
       "        <script>netpixi.call('QSaoMcrZutJrmPowVKiCyb', 'ENAk6YiDPa5DWrKXiWxk4g', 'setGraph', 'eyJ0eXBlIjogInZlcnRleCIsICJwcm9wcyI6IHsic3JjIjogImNsYXNzIiwgImRzdCI6ICJfa2V5In19Cg==');</script>\n",
       "    "
      ],
      "text/plain": [
       "<IPython.core.display.HTML object>"
      ]
     },
     "metadata": {},
     "output_type": "display_data"
    },
    {
     "data": {
      "text/html": [
       "\n",
       "        <div id=\"Mk7pJN4TyYmejwib9LTC8f\"></div>\n",
       "        <script>netpixi.call('Mk7pJN4TyYmejwib9LTC8f', 'ENAk6YiDPa5DWrKXiWxk4g', 'changeGraph', 'eyJpZCI6ICI4MjgiLCAidHlwZSI6ICJ2ZXJ0ZXgiLCAicHJvcHMiOiB7ImNvbG9yIjogMjU1fX0K');</script>\n",
       "    "
      ],
      "text/plain": [
       "<IPython.core.display.HTML object>"
      ]
     },
     "metadata": {},
     "output_type": "display_data"
    },
    {
     "data": {
      "text/html": [
       "\n",
       "        <div id=\"myNgWwHwBrVUSJbUutpJxc\"></div>\n",
       "        <script>netpixi.call('myNgWwHwBrVUSJbUutpJxc', 'ENAk6YiDPa5DWrKXiWxk4g', 'setGraph', 'eyJ0eXBlIjogInZlcnRleCIsICJwcm9wcyI6IHsic3JjIjogImNsYXNzIiwgImRzdCI6ICJfa2V5In19Cg==');</script>\n",
       "    "
      ],
      "text/plain": [
       "<IPython.core.display.HTML object>"
      ]
     },
     "metadata": {},
     "output_type": "display_data"
    },
    {
     "data": {
      "text/html": [
       "\n",
       "        <div id=\"oNkh9dbiHFtzQdwwYeHdxp\"></div>\n",
       "        <script>netpixi.call('oNkh9dbiHFtzQdwwYeHdxp', 'ENAk6YiDPa5DWrKXiWxk4g', 'changeGraph', 'eyJpZCI6ICI2MjgiLCAidHlwZSI6ICJ2ZXJ0ZXgiLCAicHJvcHMiOiB7ImNvbG9yIjogMTY3MTE2ODB9fQo=');</script>\n",
       "    "
      ],
      "text/plain": [
       "<IPython.core.display.HTML object>"
      ]
     },
     "metadata": {},
     "output_type": "display_data"
    },
    {
     "data": {
      "text/html": [
       "\n",
       "        <div id=\"9o53uVitNMsyvYZRi5uoyb\"></div>\n",
       "        <script>netpixi.call('9o53uVitNMsyvYZRi5uoyb', 'ENAk6YiDPa5DWrKXiWxk4g', 'setGraph', 'eyJ0eXBlIjogInZlcnRleCIsICJwcm9wcyI6IHsic3JjIjogImNsYXNzIiwgImRzdCI6ICJfa2V5In19Cg==');</script>\n",
       "    "
      ],
      "text/plain": [
       "<IPython.core.display.HTML object>"
      ]
     },
     "metadata": {},
     "output_type": "display_data"
    },
    {
     "data": {
      "text/html": [
       "\n",
       "        <div id=\"fPao6Q6ivY8bL9EUp3ma67\"></div>\n",
       "        <script>netpixi.call('fPao6Q6ivY8bL9EUp3ma67', 'ENAk6YiDPa5DWrKXiWxk4g', 'changeGraph', 'eyJpZCI6ICI4MjQiLCAidHlwZSI6ICJ2ZXJ0ZXgiLCAicHJvcHMiOiB7ImNvbG9yIjogMTY3MTE2ODB9fQo=');</script>\n",
       "    "
      ],
      "text/plain": [
       "<IPython.core.display.HTML object>"
      ]
     },
     "metadata": {},
     "output_type": "display_data"
    },
    {
     "data": {
      "text/html": [
       "\n",
       "        <div id=\"2JC3UGyoPD7AEdQwn56EJR\"></div>\n",
       "        <script>netpixi.call('2JC3UGyoPD7AEdQwn56EJR', 'ENAk6YiDPa5DWrKXiWxk4g', 'setGraph', 'eyJ0eXBlIjogInZlcnRleCIsICJwcm9wcyI6IHsic3JjIjogImNsYXNzIiwgImRzdCI6ICJfa2V5In19Cg==');</script>\n",
       "    "
      ],
      "text/plain": [
       "<IPython.core.display.HTML object>"
      ]
     },
     "metadata": {},
     "output_type": "display_data"
    },
    {
     "data": {
      "text/html": [
       "\n",
       "        <div id=\"gWUgYsRiCZKwDqYHVkic32\"></div>\n",
       "        <script>netpixi.call('gWUgYsRiCZKwDqYHVkic32', 'ENAk6YiDPa5DWrKXiWxk4g', 'changeGraph', 'eyJpZCI6ICI4MjIiLCAidHlwZSI6ICJ2ZXJ0ZXgiLCAicHJvcHMiOiB7ImNvbG9yIjogMTY3MTE2ODB9fQo=');</script>\n",
       "    "
      ],
      "text/plain": [
       "<IPython.core.display.HTML object>"
      ]
     },
     "metadata": {},
     "output_type": "display_data"
    },
    {
     "data": {
      "text/html": [
       "\n",
       "        <div id=\"NSqz8ABwjFb4cCCgiAgXth\"></div>\n",
       "        <script>netpixi.call('NSqz8ABwjFb4cCCgiAgXth', 'ENAk6YiDPa5DWrKXiWxk4g', 'setGraph', 'eyJ0eXBlIjogInZlcnRleCIsICJwcm9wcyI6IHsic3JjIjogImNsYXNzIiwgImRzdCI6ICJfa2V5In19Cg==');</script>\n",
       "    "
      ],
      "text/plain": [
       "<IPython.core.display.HTML object>"
      ]
     },
     "metadata": {},
     "output_type": "display_data"
    },
    {
     "data": {
      "text/html": [
       "\n",
       "        <div id=\"3eChKQUmTLXBhRdKpm5WEW\"></div>\n",
       "        <script>netpixi.call('3eChKQUmTLXBhRdKpm5WEW', 'ENAk6YiDPa5DWrKXiWxk4g', 'changeGraph', 'eyJpZCI6ICI4NDUiLCAidHlwZSI6ICJ2ZXJ0ZXgiLCAicHJvcHMiOiB7ImNvbG9yIjogMTY3MTE2ODB9fQo=');</script>\n",
       "    "
      ],
      "text/plain": [
       "<IPython.core.display.HTML object>"
      ]
     },
     "metadata": {},
     "output_type": "display_data"
    },
    {
     "data": {
      "text/html": [
       "\n",
       "        <div id=\"T6sr43PypZV3Eo4PSrAWTP\"></div>\n",
       "        <script>netpixi.call('T6sr43PypZV3Eo4PSrAWTP', 'ENAk6YiDPa5DWrKXiWxk4g', 'setGraph', 'eyJ0eXBlIjogInZlcnRleCIsICJwcm9wcyI6IHsic3JjIjogImNsYXNzIiwgImRzdCI6ICJfa2V5In19Cg==');</script>\n",
       "    "
      ],
      "text/plain": [
       "<IPython.core.display.HTML object>"
      ]
     },
     "metadata": {},
     "output_type": "display_data"
    },
    {
     "data": {
      "text/html": [
       "\n",
       "        <div id=\"8Gk8G7rNXoDXQFFiXX4pjL\"></div>\n",
       "        <script>netpixi.call('8Gk8G7rNXoDXQFFiXX4pjL', 'ENAk6YiDPa5DWrKXiWxk4g', 'changeGraph', 'eyJpZCI6ICI2NzYiLCAidHlwZSI6ICJ2ZXJ0ZXgiLCAicHJvcHMiOiB7ImNvbG9yIjogMjU1fX0K');</script>\n",
       "    "
      ],
      "text/plain": [
       "<IPython.core.display.HTML object>"
      ]
     },
     "metadata": {},
     "output_type": "display_data"
    },
    {
     "data": {
      "text/html": [
       "\n",
       "        <div id=\"Fcr8a6UK2PPQTz28AxFz3q\"></div>\n",
       "        <script>netpixi.call('Fcr8a6UK2PPQTz28AxFz3q', 'ENAk6YiDPa5DWrKXiWxk4g', 'setGraph', 'eyJ0eXBlIjogInZlcnRleCIsICJwcm9wcyI6IHsic3JjIjogImNsYXNzIiwgImRzdCI6ICJfa2V5In19Cg==');</script>\n",
       "    "
      ],
      "text/plain": [
       "<IPython.core.display.HTML object>"
      ]
     },
     "metadata": {},
     "output_type": "display_data"
    },
    {
     "data": {
      "text/html": [
       "\n",
       "        <div id=\"9wQEkR6rSuetrugDGkupXy\"></div>\n",
       "        <script>netpixi.call('9wQEkR6rSuetrugDGkupXy', 'ENAk6YiDPa5DWrKXiWxk4g', 'changeGraph', 'eyJpZCI6ICI4NjIiLCAidHlwZSI6ICJ2ZXJ0ZXgiLCAicHJvcHMiOiB7ImNvbG9yIjogMTY3MTE2ODB9fQo=');</script>\n",
       "    "
      ],
      "text/plain": [
       "<IPython.core.display.HTML object>"
      ]
     },
     "metadata": {},
     "output_type": "display_data"
    },
    {
     "data": {
      "text/html": [
       "\n",
       "        <div id=\"PgmUcVh3YQeGHAVi7ZVsV8\"></div>\n",
       "        <script>netpixi.call('PgmUcVh3YQeGHAVi7ZVsV8', 'ENAk6YiDPa5DWrKXiWxk4g', 'setGraph', 'eyJ0eXBlIjogInZlcnRleCIsICJwcm9wcyI6IHsic3JjIjogImNsYXNzIiwgImRzdCI6ICJfa2V5In19Cg==');</script>\n",
       "    "
      ],
      "text/plain": [
       "<IPython.core.display.HTML object>"
      ]
     },
     "metadata": {},
     "output_type": "display_data"
    },
    {
     "data": {
      "text/html": [
       "\n",
       "        <div id=\"YW65Kj5mSouruTijdYeTnA\"></div>\n",
       "        <script>netpixi.call('YW65Kj5mSouruTijdYeTnA', 'ENAk6YiDPa5DWrKXiWxk4g', 'changeGraph', 'eyJpZCI6ICIxNjI4IiwgInR5cGUiOiAidmVydGV4IiwgInByb3BzIjogeyJjb2xvciI6IDI1NX19Cg==');</script>\n",
       "    "
      ],
      "text/plain": [
       "<IPython.core.display.HTML object>"
      ]
     },
     "metadata": {},
     "output_type": "display_data"
    },
    {
     "data": {
      "text/html": [
       "\n",
       "        <div id=\"324dhYKMU6eubzNiwFxYT8\"></div>\n",
       "        <script>netpixi.call('324dhYKMU6eubzNiwFxYT8', 'ENAk6YiDPa5DWrKXiWxk4g', 'setGraph', 'eyJ0eXBlIjogInZlcnRleCIsICJwcm9wcyI6IHsic3JjIjogImNsYXNzIiwgImRzdCI6ICJfa2V5In19Cg==');</script>\n",
       "    "
      ],
      "text/plain": [
       "<IPython.core.display.HTML object>"
      ]
     },
     "metadata": {},
     "output_type": "display_data"
    },
    {
     "data": {
      "text/html": [
       "\n",
       "        <div id=\"NCYnGR3YraYqxR9vaE6XbL\"></div>\n",
       "        <script>netpixi.call('NCYnGR3YraYqxR9vaE6XbL', 'ENAk6YiDPa5DWrKXiWxk4g', 'changeGraph', 'eyJpZCI6ICI4MzgiLCAidHlwZSI6ICJ2ZXJ0ZXgiLCAicHJvcHMiOiB7ImNvbG9yIjogMTY3MTE2ODB9fQo=');</script>\n",
       "    "
      ],
      "text/plain": [
       "<IPython.core.display.HTML object>"
      ]
     },
     "metadata": {},
     "output_type": "display_data"
    },
    {
     "data": {
      "text/html": [
       "\n",
       "        <div id=\"3CPK2hnqAqBUdfBUHtBqEy\"></div>\n",
       "        <script>netpixi.call('3CPK2hnqAqBUdfBUHtBqEy', 'ENAk6YiDPa5DWrKXiWxk4g', 'setGraph', 'eyJ0eXBlIjogInZlcnRleCIsICJwcm9wcyI6IHsic3JjIjogImNsYXNzIiwgImRzdCI6ICJfa2V5In19Cg==');</script>\n",
       "    "
      ],
      "text/plain": [
       "<IPython.core.display.HTML object>"
      ]
     },
     "metadata": {},
     "output_type": "display_data"
    },
    {
     "data": {
      "text/html": [
       "\n",
       "        <div id=\"GCW48cQDobzH46FV7DP8dp\"></div>\n",
       "        <script>netpixi.call('GCW48cQDobzH46FV7DP8dp', 'ENAk6YiDPa5DWrKXiWxk4g', 'changeGraph', 'eyJpZCI6ICI4NTIiLCAidHlwZSI6ICJ2ZXJ0ZXgiLCAicHJvcHMiOiB7ImNvbG9yIjogMTY3MTE2ODB9fQo=');</script>\n",
       "    "
      ],
      "text/plain": [
       "<IPython.core.display.HTML object>"
      ]
     },
     "metadata": {},
     "output_type": "display_data"
    },
    {
     "data": {
      "text/html": [
       "\n",
       "        <div id=\"jeMGxcrLpLw438VSYLSHgQ\"></div>\n",
       "        <script>netpixi.call('jeMGxcrLpLw438VSYLSHgQ', 'ENAk6YiDPa5DWrKXiWxk4g', 'setGraph', 'eyJ0eXBlIjogInZlcnRleCIsICJwcm9wcyI6IHsic3JjIjogImNsYXNzIiwgImRzdCI6ICJfa2V5In19Cg==');</script>\n",
       "    "
      ],
      "text/plain": [
       "<IPython.core.display.HTML object>"
      ]
     },
     "metadata": {},
     "output_type": "display_data"
    },
    {
     "data": {
      "text/html": [
       "\n",
       "        <div id=\"BB57h8GopMVjRNsbcTGyKj\"></div>\n",
       "        <script>netpixi.call('BB57h8GopMVjRNsbcTGyKj', 'ENAk6YiDPa5DWrKXiWxk4g', 'changeGraph', 'eyJpZCI6ICI2MjciLCAidHlwZSI6ICJ2ZXJ0ZXgiLCAicHJvcHMiOiB7ImNvbG9yIjogMTY3MTE2ODB9fQo=');</script>\n",
       "    "
      ],
      "text/plain": [
       "<IPython.core.display.HTML object>"
      ]
     },
     "metadata": {},
     "output_type": "display_data"
    },
    {
     "data": {
      "text/html": [
       "\n",
       "        <div id=\"o4XgSHfjngJyWrGeYJmqht\"></div>\n",
       "        <script>netpixi.call('o4XgSHfjngJyWrGeYJmqht', 'ENAk6YiDPa5DWrKXiWxk4g', 'setGraph', 'eyJ0eXBlIjogInZlcnRleCIsICJwcm9wcyI6IHsic3JjIjogImNsYXNzIiwgImRzdCI6ICJfa2V5In19Cg==');</script>\n",
       "    "
      ],
      "text/plain": [
       "<IPython.core.display.HTML object>"
      ]
     },
     "metadata": {},
     "output_type": "display_data"
    },
    {
     "data": {
      "text/html": [
       "\n",
       "        <div id=\"KFCiqV9eowi5PaAHHJZfxC\"></div>\n",
       "        <script>netpixi.call('KFCiqV9eowi5PaAHHJZfxC', 'ENAk6YiDPa5DWrKXiWxk4g', 'changeGraph', 'eyJpZCI6ICI2MzUiLCAidHlwZSI6ICJ2ZXJ0ZXgiLCAicHJvcHMiOiB7ImNvbG9yIjogMTY3MTE2ODB9fQo=');</script>\n",
       "    "
      ],
      "text/plain": [
       "<IPython.core.display.HTML object>"
      ]
     },
     "metadata": {},
     "output_type": "display_data"
    },
    {
     "data": {
      "text/html": [
       "\n",
       "        <div id=\"mpGEx8PhifapzDY8sYLm87\"></div>\n",
       "        <script>netpixi.call('mpGEx8PhifapzDY8sYLm87', 'ENAk6YiDPa5DWrKXiWxk4g', 'setGraph', 'eyJ0eXBlIjogInZlcnRleCIsICJwcm9wcyI6IHsic3JjIjogImNsYXNzIiwgImRzdCI6ICJfa2V5In19Cg==');</script>\n",
       "    "
      ],
      "text/plain": [
       "<IPython.core.display.HTML object>"
      ]
     },
     "metadata": {},
     "output_type": "display_data"
    },
    {
     "data": {
      "text/html": [
       "\n",
       "        <div id=\"2RWELoCsQ8KDDG3DAKbyHT\"></div>\n",
       "        <script>netpixi.call('2RWELoCsQ8KDDG3DAKbyHT', 'ENAk6YiDPa5DWrKXiWxk4g', 'changeGraph', 'eyJpZCI6ICI4OTgiLCAidHlwZSI6ICJ2ZXJ0ZXgiLCAicHJvcHMiOiB7ImNvbG9yIjogMjU1fX0K');</script>\n",
       "    "
      ],
      "text/plain": [
       "<IPython.core.display.HTML object>"
      ]
     },
     "metadata": {},
     "output_type": "display_data"
    },
    {
     "data": {
      "text/html": [
       "\n",
       "        <div id=\"V9rjLqWPgM3Pkhe2Sh5FiG\"></div>\n",
       "        <script>netpixi.call('V9rjLqWPgM3Pkhe2Sh5FiG', 'ENAk6YiDPa5DWrKXiWxk4g', 'setGraph', 'eyJ0eXBlIjogInZlcnRleCIsICJwcm9wcyI6IHsic3JjIjogImNsYXNzIiwgImRzdCI6ICJfa2V5In19Cg==');</script>\n",
       "    "
      ],
      "text/plain": [
       "<IPython.core.display.HTML object>"
      ]
     },
     "metadata": {},
     "output_type": "display_data"
    },
    {
     "data": {
      "text/html": [
       "\n",
       "        <div id=\"Lv4pmfnVjWRrMWEohL5WuW\"></div>\n",
       "        <script>netpixi.call('Lv4pmfnVjWRrMWEohL5WuW', 'ENAk6YiDPa5DWrKXiWxk4g', 'changeGraph', 'eyJpZCI6ICI2MTIiLCAidHlwZSI6ICJ2ZXJ0ZXgiLCAicHJvcHMiOiB7ImNvbG9yIjogMjU1fX0K');</script>\n",
       "    "
      ],
      "text/plain": [
       "<IPython.core.display.HTML object>"
      ]
     },
     "metadata": {},
     "output_type": "display_data"
    },
    {
     "data": {
      "text/html": [
       "\n",
       "        <div id=\"UgPj6irKfz4zae3wrbwMAz\"></div>\n",
       "        <script>netpixi.call('UgPj6irKfz4zae3wrbwMAz', 'ENAk6YiDPa5DWrKXiWxk4g', 'setGraph', 'eyJ0eXBlIjogInZlcnRleCIsICJwcm9wcyI6IHsic3JjIjogImNsYXNzIiwgImRzdCI6ICJfa2V5In19Cg==');</script>\n",
       "    "
      ],
      "text/plain": [
       "<IPython.core.display.HTML object>"
      ]
     },
     "metadata": {},
     "output_type": "display_data"
    },
    {
     "data": {
      "text/html": [
       "\n",
       "        <div id=\"cXREN5pVLPG4HKBBTcSFMB\"></div>\n",
       "        <script>netpixi.call('cXREN5pVLPG4HKBBTcSFMB', 'ENAk6YiDPa5DWrKXiWxk4g', 'changeGraph', 'eyJpZCI6ICI2NDEiLCAidHlwZSI6ICJ2ZXJ0ZXgiLCAicHJvcHMiOiB7ImNvbG9yIjogMjU1fX0K');</script>\n",
       "    "
      ],
      "text/plain": [
       "<IPython.core.display.HTML object>"
      ]
     },
     "metadata": {},
     "output_type": "display_data"
    },
    {
     "data": {
      "text/html": [
       "\n",
       "        <div id=\"79zaWQQzT4rT7ntFTy5WXT\"></div>\n",
       "        <script>netpixi.call('79zaWQQzT4rT7ntFTy5WXT', 'ENAk6YiDPa5DWrKXiWxk4g', 'setGraph', 'eyJ0eXBlIjogInZlcnRleCIsICJwcm9wcyI6IHsic3JjIjogImNsYXNzIiwgImRzdCI6ICJfa2V5In19Cg==');</script>\n",
       "    "
      ],
      "text/plain": [
       "<IPython.core.display.HTML object>"
      ]
     },
     "metadata": {},
     "output_type": "display_data"
    },
    {
     "data": {
      "text/html": [
       "\n",
       "        <div id=\"Hwh4k8cDdXXspsh4T2fAD2\"></div>\n",
       "        <script>netpixi.call('Hwh4k8cDdXXspsh4T2fAD2', 'ENAk6YiDPa5DWrKXiWxk4g', 'changeGraph', 'eyJpZCI6ICI2OTkiLCAidHlwZSI6ICJ2ZXJ0ZXgiLCAicHJvcHMiOiB7ImNvbG9yIjogMjU1fX0K');</script>\n",
       "    "
      ],
      "text/plain": [
       "<IPython.core.display.HTML object>"
      ]
     },
     "metadata": {},
     "output_type": "display_data"
    },
    {
     "data": {
      "text/html": [
       "\n",
       "        <div id=\"3WjC9SRc9xJ7Dyo2695Air\"></div>\n",
       "        <script>netpixi.call('3WjC9SRc9xJ7Dyo2695Air', 'ENAk6YiDPa5DWrKXiWxk4g', 'setGraph', 'eyJ0eXBlIjogInZlcnRleCIsICJwcm9wcyI6IHsic3JjIjogImNsYXNzIiwgImRzdCI6ICJfa2V5In19Cg==');</script>\n",
       "    "
      ],
      "text/plain": [
       "<IPython.core.display.HTML object>"
      ]
     },
     "metadata": {},
     "output_type": "display_data"
    },
    {
     "data": {
      "text/html": [
       "\n",
       "        <div id=\"TnncygHgp47hqnXXJq2ugX\"></div>\n",
       "        <script>netpixi.call('TnncygHgp47hqnXXJq2ugX', 'ENAk6YiDPa5DWrKXiWxk4g', 'changeGraph', 'eyJpZCI6ICI2MjAiLCAidHlwZSI6ICJ2ZXJ0ZXgiLCAicHJvcHMiOiB7ImNvbG9yIjogMjU1fX0K');</script>\n",
       "    "
      ],
      "text/plain": [
       "<IPython.core.display.HTML object>"
      ]
     },
     "metadata": {},
     "output_type": "display_data"
    },
    {
     "data": {
      "text/html": [
       "\n",
       "        <div id=\"egqJVoXsYpcBmgBwNCVqPu\"></div>\n",
       "        <script>netpixi.call('egqJVoXsYpcBmgBwNCVqPu', 'ENAk6YiDPa5DWrKXiWxk4g', 'setGraph', 'eyJ0eXBlIjogInZlcnRleCIsICJwcm9wcyI6IHsic3JjIjogImNsYXNzIiwgImRzdCI6ICJfa2V5In19Cg==');</script>\n",
       "    "
      ],
      "text/plain": [
       "<IPython.core.display.HTML object>"
      ]
     },
     "metadata": {},
     "output_type": "display_data"
    },
    {
     "data": {
      "text/html": [
       "\n",
       "        <div id=\"YU4QKqMQV6JNdH3Mf9aTZk\"></div>\n",
       "        <script>netpixi.call('YU4QKqMQV6JNdH3Mf9aTZk', 'ENAk6YiDPa5DWrKXiWxk4g', 'changeGraph', 'eyJpZCI6ICI4MjciLCAidHlwZSI6ICJ2ZXJ0ZXgiLCAicHJvcHMiOiB7ImNvbG9yIjogMjU1fX0K');</script>\n",
       "    "
      ],
      "text/plain": [
       "<IPython.core.display.HTML object>"
      ]
     },
     "metadata": {},
     "output_type": "display_data"
    },
    {
     "data": {
      "text/html": [
       "\n",
       "        <div id=\"KokRTEd8cmBP5bAzU6Ebzu\"></div>\n",
       "        <script>netpixi.call('KokRTEd8cmBP5bAzU6Ebzu', 'ENAk6YiDPa5DWrKXiWxk4g', 'setGraph', 'eyJ0eXBlIjogInZlcnRleCIsICJwcm9wcyI6IHsic3JjIjogImNsYXNzIiwgImRzdCI6ICJfa2V5In19Cg==');</script>\n",
       "    "
      ],
      "text/plain": [
       "<IPython.core.display.HTML object>"
      ]
     },
     "metadata": {},
     "output_type": "display_data"
    },
    {
     "data": {
      "text/html": [
       "\n",
       "        <div id=\"GwKfJjXH3FjzZ8Fgr95w7m\"></div>\n",
       "        <script>netpixi.call('GwKfJjXH3FjzZ8Fgr95w7m', 'ENAk6YiDPa5DWrKXiWxk4g', 'changeGraph', 'eyJpZCI6ICI2NzQiLCAidHlwZSI6ICJ2ZXJ0ZXgiLCAicHJvcHMiOiB7ImNvbG9yIjogMjU1fX0K');</script>\n",
       "    "
      ],
      "text/plain": [
       "<IPython.core.display.HTML object>"
      ]
     },
     "metadata": {},
     "output_type": "display_data"
    },
    {
     "data": {
      "text/html": [
       "\n",
       "        <div id=\"RHg7E8MQcgPxXJUf8uzQHs\"></div>\n",
       "        <script>netpixi.call('RHg7E8MQcgPxXJUf8uzQHs', 'ENAk6YiDPa5DWrKXiWxk4g', 'setGraph', 'eyJ0eXBlIjogInZlcnRleCIsICJwcm9wcyI6IHsic3JjIjogImNsYXNzIiwgImRzdCI6ICJfa2V5In19Cg==');</script>\n",
       "    "
      ],
      "text/plain": [
       "<IPython.core.display.HTML object>"
      ]
     },
     "metadata": {},
     "output_type": "display_data"
    },
    {
     "data": {
      "text/html": [
       "\n",
       "        <div id=\"LyxvBhZmJ2KynwXxkktyNB\"></div>\n",
       "        <script>netpixi.call('LyxvBhZmJ2KynwXxkktyNB', 'ENAk6YiDPa5DWrKXiWxk4g', 'changeGraph', 'eyJpZCI6ICI2MjIiLCAidHlwZSI6ICJ2ZXJ0ZXgiLCAicHJvcHMiOiB7ImNvbG9yIjogMjU1fX0K');</script>\n",
       "    "
      ],
      "text/plain": [
       "<IPython.core.display.HTML object>"
      ]
     },
     "metadata": {},
     "output_type": "display_data"
    },
    {
     "data": {
      "text/html": [
       "\n",
       "        <div id=\"et8NebavYU8u4EvFdtWS56\"></div>\n",
       "        <script>netpixi.call('et8NebavYU8u4EvFdtWS56', 'ENAk6YiDPa5DWrKXiWxk4g', 'setGraph', 'eyJ0eXBlIjogInZlcnRleCIsICJwcm9wcyI6IHsic3JjIjogImNsYXNzIiwgImRzdCI6ICJfa2V5In19Cg==');</script>\n",
       "    "
      ],
      "text/plain": [
       "<IPython.core.display.HTML object>"
      ]
     },
     "metadata": {},
     "output_type": "display_data"
    },
    {
     "data": {
      "text/html": [
       "\n",
       "        <div id=\"UVDQEpUpDaSjtCUrEuaXDK\"></div>\n",
       "        <script>netpixi.call('UVDQEpUpDaSjtCUrEuaXDK', 'ENAk6YiDPa5DWrKXiWxk4g', 'changeGraph', 'eyJpZCI6ICI2OTUiLCAidHlwZSI6ICJ2ZXJ0ZXgiLCAicHJvcHMiOiB7ImNvbG9yIjogMjU1fX0K');</script>\n",
       "    "
      ],
      "text/plain": [
       "<IPython.core.display.HTML object>"
      ]
     },
     "metadata": {},
     "output_type": "display_data"
    },
    {
     "data": {
      "text/html": [
       "\n",
       "        <div id=\"GV3vtdmnosLyKh2CfNv6VB\"></div>\n",
       "        <script>netpixi.call('GV3vtdmnosLyKh2CfNv6VB', 'ENAk6YiDPa5DWrKXiWxk4g', 'setGraph', 'eyJ0eXBlIjogInZlcnRleCIsICJwcm9wcyI6IHsic3JjIjogImNsYXNzIiwgImRzdCI6ICJfa2V5In19Cg==');</script>\n",
       "    "
      ],
      "text/plain": [
       "<IPython.core.display.HTML object>"
      ]
     },
     "metadata": {},
     "output_type": "display_data"
    },
    {
     "data": {
      "text/html": [
       "\n",
       "        <div id=\"9WsjAoPTLZRM6n9xLJS2dN\"></div>\n",
       "        <script>netpixi.call('9WsjAoPTLZRM6n9xLJS2dN', 'ENAk6YiDPa5DWrKXiWxk4g', 'changeGraph', 'eyJpZCI6ICI2ODUiLCAidHlwZSI6ICJ2ZXJ0ZXgiLCAicHJvcHMiOiB7ImNvbG9yIjogMTY3MTE2ODB9fQo=');</script>\n",
       "    "
      ],
      "text/plain": [
       "<IPython.core.display.HTML object>"
      ]
     },
     "metadata": {},
     "output_type": "display_data"
    },
    {
     "data": {
      "text/html": [
       "\n",
       "        <div id=\"CHw5kP68DkASoMvKr6Bcc3\"></div>\n",
       "        <script>netpixi.call('CHw5kP68DkASoMvKr6Bcc3', 'ENAk6YiDPa5DWrKXiWxk4g', 'setGraph', 'eyJ0eXBlIjogInZlcnRleCIsICJwcm9wcyI6IHsic3JjIjogImNsYXNzIiwgImRzdCI6ICJfa2V5In19Cg==');</script>\n",
       "    "
      ],
      "text/plain": [
       "<IPython.core.display.HTML object>"
      ]
     },
     "metadata": {},
     "output_type": "display_data"
    },
    {
     "data": {
      "text/html": [
       "\n",
       "        <div id=\"E4mDpuiS5ndaBCsvrEjpUN\"></div>\n",
       "        <script>netpixi.call('E4mDpuiS5ndaBCsvrEjpUN', 'ENAk6YiDPa5DWrKXiWxk4g', 'changeGraph', 'eyJpZCI6ICI2ODQiLCAidHlwZSI6ICJ2ZXJ0ZXgiLCAicHJvcHMiOiB7ImNvbG9yIjogMjU1fX0K');</script>\n",
       "    "
      ],
      "text/plain": [
       "<IPython.core.display.HTML object>"
      ]
     },
     "metadata": {},
     "output_type": "display_data"
    },
    {
     "data": {
      "text/html": [
       "\n",
       "        <div id=\"ADwcfpaZjqBBiamXgE2Zzj\"></div>\n",
       "        <script>netpixi.call('ADwcfpaZjqBBiamXgE2Zzj', 'ENAk6YiDPa5DWrKXiWxk4g', 'setGraph', 'eyJ0eXBlIjogInZlcnRleCIsICJwcm9wcyI6IHsic3JjIjogImNsYXNzIiwgImRzdCI6ICJfa2V5In19Cg==');</script>\n",
       "    "
      ],
      "text/plain": [
       "<IPython.core.display.HTML object>"
      ]
     },
     "metadata": {},
     "output_type": "display_data"
    },
    {
     "data": {
      "text/html": [
       "\n",
       "        <div id=\"8BZy7ReJMkdLfqVE64gMSd\"></div>\n",
       "        <script>netpixi.call('8BZy7ReJMkdLfqVE64gMSd', 'ENAk6YiDPa5DWrKXiWxk4g', 'changeGraph', 'eyJpZCI6ICI2MDYiLCAidHlwZSI6ICJ2ZXJ0ZXgiLCAicHJvcHMiOiB7ImNvbG9yIjogMTY3MTE2ODB9fQo=');</script>\n",
       "    "
      ],
      "text/plain": [
       "<IPython.core.display.HTML object>"
      ]
     },
     "metadata": {},
     "output_type": "display_data"
    },
    {
     "data": {
      "text/html": [
       "\n",
       "        <div id=\"QmD3D6RAnVsN93CvxSwbis\"></div>\n",
       "        <script>netpixi.call('QmD3D6RAnVsN93CvxSwbis', 'ENAk6YiDPa5DWrKXiWxk4g', 'setGraph', 'eyJ0eXBlIjogInZlcnRleCIsICJwcm9wcyI6IHsic3JjIjogImNsYXNzIiwgImRzdCI6ICJfa2V5In19Cg==');</script>\n",
       "    "
      ],
      "text/plain": [
       "<IPython.core.display.HTML object>"
      ]
     },
     "metadata": {},
     "output_type": "display_data"
    },
    {
     "data": {
      "text/html": [
       "\n",
       "        <div id=\"RAaQZAo7V6LjmmPNGPbjz7\"></div>\n",
       "        <script>netpixi.call('RAaQZAo7V6LjmmPNGPbjz7', 'ENAk6YiDPa5DWrKXiWxk4g', 'changeGraph', 'eyJpZCI6ICI2NTAiLCAidHlwZSI6ICJ2ZXJ0ZXgiLCAicHJvcHMiOiB7ImNvbG9yIjogMjU1fX0K');</script>\n",
       "    "
      ],
      "text/plain": [
       "<IPython.core.display.HTML object>"
      ]
     },
     "metadata": {},
     "output_type": "display_data"
    },
    {
     "data": {
      "text/html": [
       "\n",
       "        <div id=\"4Vab8Rn4zYjsR38h8XZcCB\"></div>\n",
       "        <script>netpixi.call('4Vab8Rn4zYjsR38h8XZcCB', 'ENAk6YiDPa5DWrKXiWxk4g', 'setGraph', 'eyJ0eXBlIjogInZlcnRleCIsICJwcm9wcyI6IHsic3JjIjogImNsYXNzIiwgImRzdCI6ICJfa2V5In19Cg==');</script>\n",
       "    "
      ],
      "text/plain": [
       "<IPython.core.display.HTML object>"
      ]
     },
     "metadata": {},
     "output_type": "display_data"
    },
    {
     "data": {
      "text/html": [
       "\n",
       "        <div id=\"M2rrkouYdLnWDq5HuN4CoN\"></div>\n",
       "        <script>netpixi.call('M2rrkouYdLnWDq5HuN4CoN', 'ENAk6YiDPa5DWrKXiWxk4g', 'changeGraph', 'eyJpZCI6ICI2MTEiLCAidHlwZSI6ICJ2ZXJ0ZXgiLCAicHJvcHMiOiB7ImNvbG9yIjogMjU1fX0K');</script>\n",
       "    "
      ],
      "text/plain": [
       "<IPython.core.display.HTML object>"
      ]
     },
     "metadata": {},
     "output_type": "display_data"
    },
    {
     "data": {
      "text/html": [
       "\n",
       "        <div id=\"7Yg2ao7rbK56yNFp3Z4xyt\"></div>\n",
       "        <script>netpixi.call('7Yg2ao7rbK56yNFp3Z4xyt', 'ENAk6YiDPa5DWrKXiWxk4g', 'setGraph', 'eyJ0eXBlIjogInZlcnRleCIsICJwcm9wcyI6IHsic3JjIjogImNsYXNzIiwgImRzdCI6ICJfa2V5In19Cg==');</script>\n",
       "    "
      ],
      "text/plain": [
       "<IPython.core.display.HTML object>"
      ]
     },
     "metadata": {},
     "output_type": "display_data"
    },
    {
     "data": {
      "text/html": [
       "\n",
       "        <div id=\"3JMJpT4khddD3CEiDN6xhZ\"></div>\n",
       "        <script>netpixi.call('3JMJpT4khddD3CEiDN6xhZ', 'ENAk6YiDPa5DWrKXiWxk4g', 'changeGraph', 'eyJpZCI6ICI2MDMiLCAidHlwZSI6ICJ2ZXJ0ZXgiLCAicHJvcHMiOiB7ImNvbG9yIjogMjU1fX0K');</script>\n",
       "    "
      ],
      "text/plain": [
       "<IPython.core.display.HTML object>"
      ]
     },
     "metadata": {},
     "output_type": "display_data"
    },
    {
     "data": {
      "text/html": [
       "\n",
       "        <div id=\"Pcqg2as8CV3pvv3tc3pTjb\"></div>\n",
       "        <script>netpixi.call('Pcqg2as8CV3pvv3tc3pTjb', 'ENAk6YiDPa5DWrKXiWxk4g', 'setGraph', 'eyJ0eXBlIjogInZlcnRleCIsICJwcm9wcyI6IHsic3JjIjogImNsYXNzIiwgImRzdCI6ICJfa2V5In19Cg==');</script>\n",
       "    "
      ],
      "text/plain": [
       "<IPython.core.display.HTML object>"
      ]
     },
     "metadata": {},
     "output_type": "display_data"
    },
    {
     "data": {
      "text/html": [
       "\n",
       "        <div id=\"QhWDkdL7YMwjyCrQq49uSe\"></div>\n",
       "        <script>netpixi.call('QhWDkdL7YMwjyCrQq49uSe', 'ENAk6YiDPa5DWrKXiWxk4g', 'changeGraph', 'eyJpZCI6ICI2MTUiLCAidHlwZSI6ICJ2ZXJ0ZXgiLCAicHJvcHMiOiB7ImNvbG9yIjogMTY3MTE2ODB9fQo=');</script>\n",
       "    "
      ],
      "text/plain": [
       "<IPython.core.display.HTML object>"
      ]
     },
     "metadata": {},
     "output_type": "display_data"
    },
    {
     "data": {
      "text/html": [
       "\n",
       "        <div id=\"T5vwAnRFtbwsVkaBDeXGX6\"></div>\n",
       "        <script>netpixi.call('T5vwAnRFtbwsVkaBDeXGX6', 'ENAk6YiDPa5DWrKXiWxk4g', 'setGraph', 'eyJ0eXBlIjogInZlcnRleCIsICJwcm9wcyI6IHsic3JjIjogImNsYXNzIiwgImRzdCI6ICJfa2V5In19Cg==');</script>\n",
       "    "
      ],
      "text/plain": [
       "<IPython.core.display.HTML object>"
      ]
     },
     "metadata": {},
     "output_type": "display_data"
    },
    {
     "data": {
      "text/html": [
       "\n",
       "        <div id=\"5WtJDYcBBQnYAYYBEQ5947\"></div>\n",
       "        <script>netpixi.call('5WtJDYcBBQnYAYYBEQ5947', 'ENAk6YiDPa5DWrKXiWxk4g', 'changeGraph', 'eyJpZCI6ICI2NjkiLCAidHlwZSI6ICJ2ZXJ0ZXgiLCAicHJvcHMiOiB7ImNvbG9yIjogMjU1fX0K');</script>\n",
       "    "
      ],
      "text/plain": [
       "<IPython.core.display.HTML object>"
      ]
     },
     "metadata": {},
     "output_type": "display_data"
    },
    {
     "data": {
      "text/html": [
       "\n",
       "        <div id=\"jvMt8SrRmDuL6mv4p4wCXx\"></div>\n",
       "        <script>netpixi.call('jvMt8SrRmDuL6mv4p4wCXx', 'ENAk6YiDPa5DWrKXiWxk4g', 'setGraph', 'eyJ0eXBlIjogInZlcnRleCIsICJwcm9wcyI6IHsic3JjIjogImNsYXNzIiwgImRzdCI6ICJfa2V5In19Cg==');</script>\n",
       "    "
      ],
      "text/plain": [
       "<IPython.core.display.HTML object>"
      ]
     },
     "metadata": {},
     "output_type": "display_data"
    },
    {
     "data": {
      "text/html": [
       "\n",
       "        <div id=\"gV2jFH52ExYH8ogxY36XeN\"></div>\n",
       "        <script>netpixi.call('gV2jFH52ExYH8ogxY36XeN', 'ENAk6YiDPa5DWrKXiWxk4g', 'changeGraph', 'eyJpZCI6ICI2MTkiLCAidHlwZSI6ICJ2ZXJ0ZXgiLCAicHJvcHMiOiB7ImNvbG9yIjogMjU1fX0K');</script>\n",
       "    "
      ],
      "text/plain": [
       "<IPython.core.display.HTML object>"
      ]
     },
     "metadata": {},
     "output_type": "display_data"
    },
    {
     "data": {
      "text/html": [
       "\n",
       "        <div id=\"ajJz4Se5ogXeYhEGLWq4T2\"></div>\n",
       "        <script>netpixi.call('ajJz4Se5ogXeYhEGLWq4T2', 'ENAk6YiDPa5DWrKXiWxk4g', 'setGraph', 'eyJ0eXBlIjogInZlcnRleCIsICJwcm9wcyI6IHsic3JjIjogImNsYXNzIiwgImRzdCI6ICJfa2V5In19Cg==');</script>\n",
       "    "
      ],
      "text/plain": [
       "<IPython.core.display.HTML object>"
      ]
     },
     "metadata": {},
     "output_type": "display_data"
    },
    {
     "data": {
      "text/html": [
       "\n",
       "        <div id=\"TTtuMoyX7xBHxESPJ87fmW\"></div>\n",
       "        <script>netpixi.call('TTtuMoyX7xBHxESPJ87fmW', 'ENAk6YiDPa5DWrKXiWxk4g', 'changeGraph', 'eyJpZCI6ICI2NDkiLCAidHlwZSI6ICJ2ZXJ0ZXgiLCAicHJvcHMiOiB7ImNvbG9yIjogMjU1fX0K');</script>\n",
       "    "
      ],
      "text/plain": [
       "<IPython.core.display.HTML object>"
      ]
     },
     "metadata": {},
     "output_type": "display_data"
    },
    {
     "data": {
      "text/html": [
       "\n",
       "        <div id=\"bMoANhk5iqQN95z3V5UiDu\"></div>\n",
       "        <script>netpixi.call('bMoANhk5iqQN95z3V5UiDu', 'ENAk6YiDPa5DWrKXiWxk4g', 'setGraph', 'eyJ0eXBlIjogInZlcnRleCIsICJwcm9wcyI6IHsic3JjIjogImNsYXNzIiwgImRzdCI6ICJfa2V5In19Cg==');</script>\n",
       "    "
      ],
      "text/plain": [
       "<IPython.core.display.HTML object>"
      ]
     },
     "metadata": {},
     "output_type": "display_data"
    },
    {
     "data": {
      "text/html": [
       "\n",
       "        <div id=\"jExmmChj7SkdShAYcx87Ba\"></div>\n",
       "        <script>netpixi.call('jExmmChj7SkdShAYcx87Ba', 'ENAk6YiDPa5DWrKXiWxk4g', 'changeGraph', 'eyJpZCI6ICIxODU2IiwgInR5cGUiOiAidmVydGV4IiwgInByb3BzIjogeyJjb2xvciI6IDI1NX19Cg==');</script>\n",
       "    "
      ],
      "text/plain": [
       "<IPython.core.display.HTML object>"
      ]
     },
     "metadata": {},
     "output_type": "display_data"
    },
    {
     "data": {
      "text/html": [
       "\n",
       "        <div id=\"VQ887hAkCoz2gmTvgyVxJ7\"></div>\n",
       "        <script>netpixi.call('VQ887hAkCoz2gmTvgyVxJ7', 'ENAk6YiDPa5DWrKXiWxk4g', 'setGraph', 'eyJ0eXBlIjogInZlcnRleCIsICJwcm9wcyI6IHsic3JjIjogImNsYXNzIiwgImRzdCI6ICJfa2V5In19Cg==');</script>\n",
       "    "
      ],
      "text/plain": [
       "<IPython.core.display.HTML object>"
      ]
     },
     "metadata": {},
     "output_type": "display_data"
    },
    {
     "data": {
      "text/html": [
       "\n",
       "        <div id=\"9BkxEK7B9FeJwASBRPjQEc\"></div>\n",
       "        <script>netpixi.call('9BkxEK7B9FeJwASBRPjQEc', 'ENAk6YiDPa5DWrKXiWxk4g', 'changeGraph', 'eyJpZCI6ICI2NDciLCAidHlwZSI6ICJ2ZXJ0ZXgiLCAicHJvcHMiOiB7ImNvbG9yIjogMTY3MTE2ODB9fQo=');</script>\n",
       "    "
      ],
      "text/plain": [
       "<IPython.core.display.HTML object>"
      ]
     },
     "metadata": {},
     "output_type": "display_data"
    },
    {
     "data": {
      "text/html": [
       "\n",
       "        <div id=\"7Qu6PvqdRfbWqEGeFfmUzn\"></div>\n",
       "        <script>netpixi.call('7Qu6PvqdRfbWqEGeFfmUzn', 'ENAk6YiDPa5DWrKXiWxk4g', 'setGraph', 'eyJ0eXBlIjogInZlcnRleCIsICJwcm9wcyI6IHsic3JjIjogImNsYXNzIiwgImRzdCI6ICJfa2V5In19Cg==');</script>\n",
       "    "
      ],
      "text/plain": [
       "<IPython.core.display.HTML object>"
      ]
     },
     "metadata": {},
     "output_type": "display_data"
    },
    {
     "data": {
      "text/html": [
       "\n",
       "        <div id=\"WLt4AeVaLg2PyQL7LDXBqX\"></div>\n",
       "        <script>netpixi.call('WLt4AeVaLg2PyQL7LDXBqX', 'ENAk6YiDPa5DWrKXiWxk4g', 'changeGraph', 'eyJpZCI6ICI2NjgiLCAidHlwZSI6ICJ2ZXJ0ZXgiLCAicHJvcHMiOiB7ImNvbG9yIjogMTY3MTE2ODB9fQo=');</script>\n",
       "    "
      ],
      "text/plain": [
       "<IPython.core.display.HTML object>"
      ]
     },
     "metadata": {},
     "output_type": "display_data"
    },
    {
     "data": {
      "text/html": [
       "\n",
       "        <div id=\"e9qDMgpTokXniqi2cHYnhk\"></div>\n",
       "        <script>netpixi.call('e9qDMgpTokXniqi2cHYnhk', 'ENAk6YiDPa5DWrKXiWxk4g', 'setGraph', 'eyJ0eXBlIjogInZlcnRleCIsICJwcm9wcyI6IHsic3JjIjogImNsYXNzIiwgImRzdCI6ICJfa2V5In19Cg==');</script>\n",
       "    "
      ],
      "text/plain": [
       "<IPython.core.display.HTML object>"
      ]
     },
     "metadata": {},
     "output_type": "display_data"
    },
    {
     "data": {
      "text/html": [
       "\n",
       "        <div id=\"R9jUBppCWGqrmsYCpmENzm\"></div>\n",
       "        <script>netpixi.call('R9jUBppCWGqrmsYCpmENzm', 'ENAk6YiDPa5DWrKXiWxk4g', 'changeGraph', 'eyJpZCI6ICI2NzgiLCAidHlwZSI6ICJ2ZXJ0ZXgiLCAicHJvcHMiOiB7ImNvbG9yIjogMjU1fX0K');</script>\n",
       "    "
      ],
      "text/plain": [
       "<IPython.core.display.HTML object>"
      ]
     },
     "metadata": {},
     "output_type": "display_data"
    },
    {
     "data": {
      "text/html": [
       "\n",
       "        <div id=\"D5WNnVPavpM6mexM2GW4Uv\"></div>\n",
       "        <script>netpixi.call('D5WNnVPavpM6mexM2GW4Uv', 'ENAk6YiDPa5DWrKXiWxk4g', 'setGraph', 'eyJ0eXBlIjogInZlcnRleCIsICJwcm9wcyI6IHsic3JjIjogImNsYXNzIiwgImRzdCI6ICJfa2V5In19Cg==');</script>\n",
       "    "
      ],
      "text/plain": [
       "<IPython.core.display.HTML object>"
      ]
     },
     "metadata": {},
     "output_type": "display_data"
    },
    {
     "data": {
      "text/html": [
       "\n",
       "        <div id=\"KknYhpNkLCUxW7c27Rztur\"></div>\n",
       "        <script>netpixi.call('KknYhpNkLCUxW7c27Rztur', 'ENAk6YiDPa5DWrKXiWxk4g', 'changeGraph', 'eyJpZCI6ICI2NzciLCAidHlwZSI6ICJ2ZXJ0ZXgiLCAicHJvcHMiOiB7ImNvbG9yIjogMjU1fX0K');</script>\n",
       "    "
      ],
      "text/plain": [
       "<IPython.core.display.HTML object>"
      ]
     },
     "metadata": {},
     "output_type": "display_data"
    },
    {
     "data": {
      "text/html": [
       "\n",
       "        <div id=\"6pxj94UNub4VGUC8BNr5Qk\"></div>\n",
       "        <script>netpixi.call('6pxj94UNub4VGUC8BNr5Qk', 'ENAk6YiDPa5DWrKXiWxk4g', 'setGraph', 'eyJ0eXBlIjogInZlcnRleCIsICJwcm9wcyI6IHsic3JjIjogImNsYXNzIiwgImRzdCI6ICJfa2V5In19Cg==');</script>\n",
       "    "
      ],
      "text/plain": [
       "<IPython.core.display.HTML object>"
      ]
     },
     "metadata": {},
     "output_type": "display_data"
    },
    {
     "data": {
      "text/html": [
       "\n",
       "        <div id=\"EqCUgfDt64NVMZSNzwxPu3\"></div>\n",
       "        <script>netpixi.call('EqCUgfDt64NVMZSNzwxPu3', 'ENAk6YiDPa5DWrKXiWxk4g', 'changeGraph', 'eyJpZCI6ICI4MDkiLCAidHlwZSI6ICJ2ZXJ0ZXgiLCAicHJvcHMiOiB7ImNvbG9yIjogMjU1fX0K');</script>\n",
       "    "
      ],
      "text/plain": [
       "<IPython.core.display.HTML object>"
      ]
     },
     "metadata": {},
     "output_type": "display_data"
    },
    {
     "data": {
      "text/html": [
       "\n",
       "        <div id=\"fACdMkcHyK9vUiTgdWmrZU\"></div>\n",
       "        <script>netpixi.call('fACdMkcHyK9vUiTgdWmrZU', 'ENAk6YiDPa5DWrKXiWxk4g', 'setGraph', 'eyJ0eXBlIjogInZlcnRleCIsICJwcm9wcyI6IHsic3JjIjogImNsYXNzIiwgImRzdCI6ICJfa2V5In19Cg==');</script>\n",
       "    "
      ],
      "text/plain": [
       "<IPython.core.display.HTML object>"
      ]
     },
     "metadata": {},
     "output_type": "display_data"
    },
    {
     "data": {
      "text/html": [
       "\n",
       "        <div id=\"TmirzgGk9PoLx9hyGnuw9Q\"></div>\n",
       "        <script>netpixi.call('TmirzgGk9PoLx9hyGnuw9Q', 'ENAk6YiDPa5DWrKXiWxk4g', 'changeGraph', 'eyJpZCI6ICI2NDYiLCAidHlwZSI6ICJ2ZXJ0ZXgiLCAicHJvcHMiOiB7ImNvbG9yIjogMjU1fX0K');</script>\n",
       "    "
      ],
      "text/plain": [
       "<IPython.core.display.HTML object>"
      ]
     },
     "metadata": {},
     "output_type": "display_data"
    },
    {
     "data": {
      "text/html": [
       "\n",
       "        <div id=\"AsVrr6FBqbCL2vwzXwiwLa\"></div>\n",
       "        <script>netpixi.call('AsVrr6FBqbCL2vwzXwiwLa', 'ENAk6YiDPa5DWrKXiWxk4g', 'setGraph', 'eyJ0eXBlIjogInZlcnRleCIsICJwcm9wcyI6IHsic3JjIjogImNsYXNzIiwgImRzdCI6ICJfa2V5In19Cg==');</script>\n",
       "    "
      ],
      "text/plain": [
       "<IPython.core.display.HTML object>"
      ]
     },
     "metadata": {},
     "output_type": "display_data"
    },
    {
     "data": {
      "text/html": [
       "\n",
       "        <div id=\"RGBw56SvBQu3Hx7FApotB9\"></div>\n",
       "        <script>netpixi.call('RGBw56SvBQu3Hx7FApotB9', 'ENAk6YiDPa5DWrKXiWxk4g', 'changeGraph', 'eyJpZCI6ICI2OTEiLCAidHlwZSI6ICJ2ZXJ0ZXgiLCAicHJvcHMiOiB7ImNvbG9yIjogMjU1fX0K');</script>\n",
       "    "
      ],
      "text/plain": [
       "<IPython.core.display.HTML object>"
      ]
     },
     "metadata": {},
     "output_type": "display_data"
    },
    {
     "data": {
      "text/html": [
       "\n",
       "        <div id=\"jKhkm4xciCka8TeZBzsLkk\"></div>\n",
       "        <script>netpixi.call('jKhkm4xciCka8TeZBzsLkk', 'ENAk6YiDPa5DWrKXiWxk4g', 'setGraph', 'eyJ0eXBlIjogInZlcnRleCIsICJwcm9wcyI6IHsic3JjIjogImNsYXNzIiwgImRzdCI6ICJfa2V5In19Cg==');</script>\n",
       "    "
      ],
      "text/plain": [
       "<IPython.core.display.HTML object>"
      ]
     },
     "metadata": {},
     "output_type": "display_data"
    },
    {
     "data": {
      "text/html": [
       "\n",
       "        <div id=\"URt8QZ3D6LBXQVV4pXiqKi\"></div>\n",
       "        <script>netpixi.call('URt8QZ3D6LBXQVV4pXiqKi', 'ENAk6YiDPa5DWrKXiWxk4g', 'changeGraph', 'eyJpZCI6ICI4ODciLCAidHlwZSI6ICJ2ZXJ0ZXgiLCAicHJvcHMiOiB7ImNvbG9yIjogMjU1fX0K');</script>\n",
       "    "
      ],
      "text/plain": [
       "<IPython.core.display.HTML object>"
      ]
     },
     "metadata": {},
     "output_type": "display_data"
    },
    {
     "data": {
      "text/html": [
       "\n",
       "        <div id=\"fHZQxdc5b92hYLa8icWDCL\"></div>\n",
       "        <script>netpixi.call('fHZQxdc5b92hYLa8icWDCL', 'ENAk6YiDPa5DWrKXiWxk4g', 'setGraph', 'eyJ0eXBlIjogInZlcnRleCIsICJwcm9wcyI6IHsic3JjIjogImNsYXNzIiwgImRzdCI6ICJfa2V5In19Cg==');</script>\n",
       "    "
      ],
      "text/plain": [
       "<IPython.core.display.HTML object>"
      ]
     },
     "metadata": {},
     "output_type": "display_data"
    },
    {
     "data": {
      "text/html": [
       "\n",
       "        <div id=\"BVCuWxoVv9tHBkFoJxGRT4\"></div>\n",
       "        <script>netpixi.call('BVCuWxoVv9tHBkFoJxGRT4', 'ENAk6YiDPa5DWrKXiWxk4g', 'changeGraph', 'eyJpZCI6ICI2MjEiLCAidHlwZSI6ICJ2ZXJ0ZXgiLCAicHJvcHMiOiB7ImNvbG9yIjogMjU1fX0K');</script>\n",
       "    "
      ],
      "text/plain": [
       "<IPython.core.display.HTML object>"
      ]
     },
     "metadata": {},
     "output_type": "display_data"
    },
    {
     "data": {
      "text/html": [
       "\n",
       "        <div id=\"HbULmu4De2GzvWuojpjwD5\"></div>\n",
       "        <script>netpixi.call('HbULmu4De2GzvWuojpjwD5', 'ENAk6YiDPa5DWrKXiWxk4g', 'setGraph', 'eyJ0eXBlIjogInZlcnRleCIsICJwcm9wcyI6IHsic3JjIjogImNsYXNzIiwgImRzdCI6ICJfa2V5In19Cg==');</script>\n",
       "    "
      ],
      "text/plain": [
       "<IPython.core.display.HTML object>"
      ]
     },
     "metadata": {},
     "output_type": "display_data"
    },
    {
     "data": {
      "text/html": [
       "\n",
       "        <div id=\"oKkPN2eeKVo5hxAYjpRWSn\"></div>\n",
       "        <script>netpixi.call('oKkPN2eeKVo5hxAYjpRWSn', 'ENAk6YiDPa5DWrKXiWxk4g', 'changeGraph', 'eyJpZCI6ICI4MTMiLCAidHlwZSI6ICJ2ZXJ0ZXgiLCAicHJvcHMiOiB7ImNvbG9yIjogMTY3MTE2ODB9fQo=');</script>\n",
       "    "
      ],
      "text/plain": [
       "<IPython.core.display.HTML object>"
      ]
     },
     "metadata": {},
     "output_type": "display_data"
    },
    {
     "data": {
      "text/html": [
       "\n",
       "        <div id=\"6DZCF657AsMU7bCZaKzNEc\"></div>\n",
       "        <script>netpixi.call('6DZCF657AsMU7bCZaKzNEc', 'ENAk6YiDPa5DWrKXiWxk4g', 'setGraph', 'eyJ0eXBlIjogInZlcnRleCIsICJwcm9wcyI6IHsic3JjIjogImNsYXNzIiwgImRzdCI6ICJfa2V5In19Cg==');</script>\n",
       "    "
      ],
      "text/plain": [
       "<IPython.core.display.HTML object>"
      ]
     },
     "metadata": {},
     "output_type": "display_data"
    },
    {
     "data": {
      "text/html": [
       "\n",
       "        <div id=\"SgmfUSSvs4hy8cxs3wwgLJ\"></div>\n",
       "        <script>netpixi.call('SgmfUSSvs4hy8cxs3wwgLJ', 'ENAk6YiDPa5DWrKXiWxk4g', 'changeGraph', 'eyJpZCI6ICI2ODkiLCAidHlwZSI6ICJ2ZXJ0ZXgiLCAicHJvcHMiOiB7ImNvbG9yIjogMjU1fX0K');</script>\n",
       "    "
      ],
      "text/plain": [
       "<IPython.core.display.HTML object>"
      ]
     },
     "metadata": {},
     "output_type": "display_data"
    },
    {
     "data": {
      "text/html": [
       "\n",
       "        <div id=\"JZKFdQKnL5ndALpSitFry4\"></div>\n",
       "        <script>netpixi.call('JZKFdQKnL5ndALpSitFry4', 'ENAk6YiDPa5DWrKXiWxk4g', 'setGraph', 'eyJ0eXBlIjogInZlcnRleCIsICJwcm9wcyI6IHsic3JjIjogImNsYXNzIiwgImRzdCI6ICJfa2V5In19Cg==');</script>\n",
       "    "
      ],
      "text/plain": [
       "<IPython.core.display.HTML object>"
      ]
     },
     "metadata": {},
     "output_type": "display_data"
    },
    {
     "data": {
      "text/html": [
       "\n",
       "        <div id=\"C46avUf9NskiQZHznswNC8\"></div>\n",
       "        <script>netpixi.call('C46avUf9NskiQZHznswNC8', 'ENAk6YiDPa5DWrKXiWxk4g', 'changeGraph', 'eyJpZCI6ICI4MjUiLCAidHlwZSI6ICJ2ZXJ0ZXgiLCAicHJvcHMiOiB7ImNvbG9yIjogMjU1fX0K');</script>\n",
       "    "
      ],
      "text/plain": [
       "<IPython.core.display.HTML object>"
      ]
     },
     "metadata": {},
     "output_type": "display_data"
    },
    {
     "data": {
      "text/html": [
       "\n",
       "        <div id=\"J9EqpgbSfJJxFvxo5ApDZU\"></div>\n",
       "        <script>netpixi.call('J9EqpgbSfJJxFvxo5ApDZU', 'ENAk6YiDPa5DWrKXiWxk4g', 'setGraph', 'eyJ0eXBlIjogInZlcnRleCIsICJwcm9wcyI6IHsic3JjIjogImNsYXNzIiwgImRzdCI6ICJfa2V5In19Cg==');</script>\n",
       "    "
      ],
      "text/plain": [
       "<IPython.core.display.HTML object>"
      ]
     },
     "metadata": {},
     "output_type": "display_data"
    },
    {
     "data": {
      "text/html": [
       "\n",
       "        <div id=\"M3tX3esjuatB2oKpnV6BDX\"></div>\n",
       "        <script>netpixi.call('M3tX3esjuatB2oKpnV6BDX', 'ENAk6YiDPa5DWrKXiWxk4g', 'changeGraph', 'eyJpZCI6ICI2NjUiLCAidHlwZSI6ICJ2ZXJ0ZXgiLCAicHJvcHMiOiB7ImNvbG9yIjogMTY3MTE2ODB9fQo=');</script>\n",
       "    "
      ],
      "text/plain": [
       "<IPython.core.display.HTML object>"
      ]
     },
     "metadata": {},
     "output_type": "display_data"
    },
    {
     "data": {
      "text/html": [
       "\n",
       "        <div id=\"ZNP85RnQFroxF9p9ZzxjPu\"></div>\n",
       "        <script>netpixi.call('ZNP85RnQFroxF9p9ZzxjPu', 'ENAk6YiDPa5DWrKXiWxk4g', 'setGraph', 'eyJ0eXBlIjogInZlcnRleCIsICJwcm9wcyI6IHsic3JjIjogImNsYXNzIiwgImRzdCI6ICJfa2V5In19Cg==');</script>\n",
       "    "
      ],
      "text/plain": [
       "<IPython.core.display.HTML object>"
      ]
     },
     "metadata": {},
     "output_type": "display_data"
    },
    {
     "data": {
      "text/html": [
       "\n",
       "        <div id=\"GFERnuBQgkdofEDsKWCKnv\"></div>\n",
       "        <script>netpixi.call('GFERnuBQgkdofEDsKWCKnv', 'ENAk6YiDPa5DWrKXiWxk4g', 'changeGraph', 'eyJpZCI6ICI2MzgiLCAidHlwZSI6ICJ2ZXJ0ZXgiLCAicHJvcHMiOiB7ImNvbG9yIjogMjU1fX0K');</script>\n",
       "    "
      ],
      "text/plain": [
       "<IPython.core.display.HTML object>"
      ]
     },
     "metadata": {},
     "output_type": "display_data"
    },
    {
     "data": {
      "text/html": [
       "\n",
       "        <div id=\"itPDVsrgQ6NuvfchWkXg65\"></div>\n",
       "        <script>netpixi.call('itPDVsrgQ6NuvfchWkXg65', 'ENAk6YiDPa5DWrKXiWxk4g', 'setGraph', 'eyJ0eXBlIjogInZlcnRleCIsICJwcm9wcyI6IHsic3JjIjogImNsYXNzIiwgImRzdCI6ICJfa2V5In19Cg==');</script>\n",
       "    "
      ],
      "text/plain": [
       "<IPython.core.display.HTML object>"
      ]
     },
     "metadata": {},
     "output_type": "display_data"
    },
    {
     "data": {
      "text/html": [
       "\n",
       "        <div id=\"CRphTfvYZ3acmrgz4qAmgG\"></div>\n",
       "        <script>netpixi.call('CRphTfvYZ3acmrgz4qAmgG', 'ENAk6YiDPa5DWrKXiWxk4g', 'changeGraph', 'eyJpZCI6ICI2NDgiLCAidHlwZSI6ICJ2ZXJ0ZXgiLCAicHJvcHMiOiB7ImNvbG9yIjogMjU1fX0K');</script>\n",
       "    "
      ],
      "text/plain": [
       "<IPython.core.display.HTML object>"
      ]
     },
     "metadata": {},
     "output_type": "display_data"
    },
    {
     "data": {
      "text/html": [
       "\n",
       "        <div id=\"AaSCmyNgSSqYesNrWxUwbJ\"></div>\n",
       "        <script>netpixi.call('AaSCmyNgSSqYesNrWxUwbJ', 'ENAk6YiDPa5DWrKXiWxk4g', 'setGraph', 'eyJ0eXBlIjogInZlcnRleCIsICJwcm9wcyI6IHsic3JjIjogImNsYXNzIiwgImRzdCI6ICJfa2V5In19Cg==');</script>\n",
       "    "
      ],
      "text/plain": [
       "<IPython.core.display.HTML object>"
      ]
     },
     "metadata": {},
     "output_type": "display_data"
    },
    {
     "data": {
      "text/html": [
       "\n",
       "        <div id=\"ccaYdQ5HaaAEeSZ5ZKmpT7\"></div>\n",
       "        <script>netpixi.call('ccaYdQ5HaaAEeSZ5ZKmpT7', 'ENAk6YiDPa5DWrKXiWxk4g', 'changeGraph', 'eyJpZCI6ICI4NDMiLCAidHlwZSI6ICJ2ZXJ0ZXgiLCAicHJvcHMiOiB7ImNvbG9yIjogMjU1fX0K');</script>\n",
       "    "
      ],
      "text/plain": [
       "<IPython.core.display.HTML object>"
      ]
     },
     "metadata": {},
     "output_type": "display_data"
    },
    {
     "data": {
      "text/html": [
       "\n",
       "        <div id=\"dAm7YDu9m5R986FrGAhQPz\"></div>\n",
       "        <script>netpixi.call('dAm7YDu9m5R986FrGAhQPz', 'ENAk6YiDPa5DWrKXiWxk4g', 'setGraph', 'eyJ0eXBlIjogInZlcnRleCIsICJwcm9wcyI6IHsic3JjIjogImNsYXNzIiwgImRzdCI6ICJfa2V5In19Cg==');</script>\n",
       "    "
      ],
      "text/plain": [
       "<IPython.core.display.HTML object>"
      ]
     },
     "metadata": {},
     "output_type": "display_data"
    },
    {
     "data": {
      "text/html": [
       "\n",
       "        <div id=\"aDLbR8dPZWp5hwFjVgghMy\"></div>\n",
       "        <script>netpixi.call('aDLbR8dPZWp5hwFjVgghMy', 'ENAk6YiDPa5DWrKXiWxk4g', 'changeGraph', 'eyJpZCI6ICI2MjkiLCAidHlwZSI6ICJ2ZXJ0ZXgiLCAicHJvcHMiOiB7ImNvbG9yIjogMjU1fX0K');</script>\n",
       "    "
      ],
      "text/plain": [
       "<IPython.core.display.HTML object>"
      ]
     },
     "metadata": {},
     "output_type": "display_data"
    },
    {
     "data": {
      "text/html": [
       "\n",
       "        <div id=\"V9iaGepHtPR2PvhyUrtcXL\"></div>\n",
       "        <script>netpixi.call('V9iaGepHtPR2PvhyUrtcXL', 'ENAk6YiDPa5DWrKXiWxk4g', 'setGraph', 'eyJ0eXBlIjogInZlcnRleCIsICJwcm9wcyI6IHsic3JjIjogImNsYXNzIiwgImRzdCI6ICJfa2V5In19Cg==');</script>\n",
       "    "
      ],
      "text/plain": [
       "<IPython.core.display.HTML object>"
      ]
     },
     "metadata": {},
     "output_type": "display_data"
    },
    {
     "data": {
      "text/html": [
       "\n",
       "        <div id=\"hPf5aKwdmwSJ8gNqvnQARW\"></div>\n",
       "        <script>netpixi.call('hPf5aKwdmwSJ8gNqvnQARW', 'ENAk6YiDPa5DWrKXiWxk4g', 'changeGraph', 'eyJpZCI6ICI4MTIiLCAidHlwZSI6ICJ2ZXJ0ZXgiLCAicHJvcHMiOiB7ImNvbG9yIjogMjU1fX0K');</script>\n",
       "    "
      ],
      "text/plain": [
       "<IPython.core.display.HTML object>"
      ]
     },
     "metadata": {},
     "output_type": "display_data"
    },
    {
     "data": {
      "text/html": [
       "\n",
       "        <div id=\"LmzhWTNKyiyKc7KZjxKBpJ\"></div>\n",
       "        <script>netpixi.call('LmzhWTNKyiyKc7KZjxKBpJ', 'ENAk6YiDPa5DWrKXiWxk4g', 'setGraph', 'eyJ0eXBlIjogInZlcnRleCIsICJwcm9wcyI6IHsic3JjIjogImNsYXNzIiwgImRzdCI6ICJfa2V5In19Cg==');</script>\n",
       "    "
      ],
      "text/plain": [
       "<IPython.core.display.HTML object>"
      ]
     },
     "metadata": {},
     "output_type": "display_data"
    },
    {
     "data": {
      "text/html": [
       "\n",
       "        <div id=\"HTUip2yot8zXsqnGmRvaXe\"></div>\n",
       "        <script>netpixi.call('HTUip2yot8zXsqnGmRvaXe', 'ENAk6YiDPa5DWrKXiWxk4g', 'changeGraph', 'eyJpZCI6ICIxNjg2IiwgInR5cGUiOiAidmVydGV4IiwgInByb3BzIjogeyJjb2xvciI6IDI1NX19Cg==');</script>\n",
       "    "
      ],
      "text/plain": [
       "<IPython.core.display.HTML object>"
      ]
     },
     "metadata": {},
     "output_type": "display_data"
    },
    {
     "data": {
      "text/html": [
       "\n",
       "        <div id=\"aBqTtRwmDsT9Ldhi3iFg4H\"></div>\n",
       "        <script>netpixi.call('aBqTtRwmDsT9Ldhi3iFg4H', 'ENAk6YiDPa5DWrKXiWxk4g', 'setGraph', 'eyJ0eXBlIjogInZlcnRleCIsICJwcm9wcyI6IHsic3JjIjogImNsYXNzIiwgImRzdCI6ICJfa2V5In19Cg==');</script>\n",
       "    "
      ],
      "text/plain": [
       "<IPython.core.display.HTML object>"
      ]
     },
     "metadata": {},
     "output_type": "display_data"
    },
    {
     "data": {
      "text/html": [
       "\n",
       "        <div id=\"mTHb2XaVMfnrcTpfjRGhQ2\"></div>\n",
       "        <script>netpixi.call('mTHb2XaVMfnrcTpfjRGhQ2', 'ENAk6YiDPa5DWrKXiWxk4g', 'changeGraph', 'eyJpZCI6ICI4NjAiLCAidHlwZSI6ICJ2ZXJ0ZXgiLCAicHJvcHMiOiB7ImNvbG9yIjogMjU1fX0K');</script>\n",
       "    "
      ],
      "text/plain": [
       "<IPython.core.display.HTML object>"
      ]
     },
     "metadata": {},
     "output_type": "display_data"
    },
    {
     "data": {
      "text/html": [
       "\n",
       "        <div id=\"MDoXF93hVPLWkTayG86qV4\"></div>\n",
       "        <script>netpixi.call('MDoXF93hVPLWkTayG86qV4', 'ENAk6YiDPa5DWrKXiWxk4g', 'setGraph', 'eyJ0eXBlIjogInZlcnRleCIsICJwcm9wcyI6IHsic3JjIjogImNsYXNzIiwgImRzdCI6ICJfa2V5In19Cg==');</script>\n",
       "    "
      ],
      "text/plain": [
       "<IPython.core.display.HTML object>"
      ]
     },
     "metadata": {},
     "output_type": "display_data"
    },
    {
     "data": {
      "text/html": [
       "\n",
       "        <div id=\"7vjmsNekwbRVAtyFjwPdFB\"></div>\n",
       "        <script>netpixi.call('7vjmsNekwbRVAtyFjwPdFB', 'ENAk6YiDPa5DWrKXiWxk4g', 'changeGraph', 'eyJpZCI6ICI2MTQiLCAidHlwZSI6ICJ2ZXJ0ZXgiLCAicHJvcHMiOiB7ImNvbG9yIjogMTY3MTE2ODB9fQo=');</script>\n",
       "    "
      ],
      "text/plain": [
       "<IPython.core.display.HTML object>"
      ]
     },
     "metadata": {},
     "output_type": "display_data"
    },
    {
     "data": {
      "text/html": [
       "\n",
       "        <div id=\"6ZRH95vB5ZgEzvanUH9Pzp\"></div>\n",
       "        <script>netpixi.call('6ZRH95vB5ZgEzvanUH9Pzp', 'ENAk6YiDPa5DWrKXiWxk4g', 'setGraph', 'eyJ0eXBlIjogInZlcnRleCIsICJwcm9wcyI6IHsic3JjIjogImNsYXNzIiwgImRzdCI6ICJfa2V5In19Cg==');</script>\n",
       "    "
      ],
      "text/plain": [
       "<IPython.core.display.HTML object>"
      ]
     },
     "metadata": {},
     "output_type": "display_data"
    },
    {
     "data": {
      "text/html": [
       "\n",
       "        <div id=\"gQnA4iVEnhXw2E9UbhVJ6t\"></div>\n",
       "        <script>netpixi.call('gQnA4iVEnhXw2E9UbhVJ6t', 'ENAk6YiDPa5DWrKXiWxk4g', 'changeGraph', 'eyJpZCI6ICI4MzIiLCAidHlwZSI6ICJ2ZXJ0ZXgiLCAicHJvcHMiOiB7ImNvbG9yIjogMjU1fX0K');</script>\n",
       "    "
      ],
      "text/plain": [
       "<IPython.core.display.HTML object>"
      ]
     },
     "metadata": {},
     "output_type": "display_data"
    },
    {
     "data": {
      "text/html": [
       "\n",
       "        <div id=\"LrVFUnkzyoU9T4UUvawmsi\"></div>\n",
       "        <script>netpixi.call('LrVFUnkzyoU9T4UUvawmsi', 'ENAk6YiDPa5DWrKXiWxk4g', 'setGraph', 'eyJ0eXBlIjogInZlcnRleCIsICJwcm9wcyI6IHsic3JjIjogImNsYXNzIiwgImRzdCI6ICJfa2V5In19Cg==');</script>\n",
       "    "
      ],
      "text/plain": [
       "<IPython.core.display.HTML object>"
      ]
     },
     "metadata": {},
     "output_type": "display_data"
    },
    {
     "data": {
      "text/html": [
       "\n",
       "        <div id=\"45bV55PaFNqtXQAWYWu92B\"></div>\n",
       "        <script>netpixi.call('45bV55PaFNqtXQAWYWu92B', 'ENAk6YiDPa5DWrKXiWxk4g', 'changeGraph', 'eyJpZCI6ICI4NjUiLCAidHlwZSI6ICJ2ZXJ0ZXgiLCAicHJvcHMiOiB7ImNvbG9yIjogMjU1fX0K');</script>\n",
       "    "
      ],
      "text/plain": [
       "<IPython.core.display.HTML object>"
      ]
     },
     "metadata": {},
     "output_type": "display_data"
    },
    {
     "data": {
      "text/html": [
       "\n",
       "        <div id=\"cBJ4UWryijuAsEp35rC2uB\"></div>\n",
       "        <script>netpixi.call('cBJ4UWryijuAsEp35rC2uB', 'ENAk6YiDPa5DWrKXiWxk4g', 'setGraph', 'eyJ0eXBlIjogInZlcnRleCIsICJwcm9wcyI6IHsic3JjIjogImNsYXNzIiwgImRzdCI6ICJfa2V5In19Cg==');</script>\n",
       "    "
      ],
      "text/plain": [
       "<IPython.core.display.HTML object>"
      ]
     },
     "metadata": {},
     "output_type": "display_data"
    },
    {
     "data": {
      "text/html": [
       "\n",
       "        <div id=\"GCUsSdEM9eKGGfjGoFNv8U\"></div>\n",
       "        <script>netpixi.call('GCUsSdEM9eKGGfjGoFNv8U', 'ENAk6YiDPa5DWrKXiWxk4g', 'changeGraph', 'eyJpZCI6ICI4NTgiLCAidHlwZSI6ICJ2ZXJ0ZXgiLCAicHJvcHMiOiB7ImNvbG9yIjogMjU1fX0K');</script>\n",
       "    "
      ],
      "text/plain": [
       "<IPython.core.display.HTML object>"
      ]
     },
     "metadata": {},
     "output_type": "display_data"
    },
    {
     "data": {
      "text/html": [
       "\n",
       "        <div id=\"cvvqSDyxirMM2B9eC2tgGV\"></div>\n",
       "        <script>netpixi.call('cvvqSDyxirMM2B9eC2tgGV', 'ENAk6YiDPa5DWrKXiWxk4g', 'setGraph', 'eyJ0eXBlIjogInZlcnRleCIsICJwcm9wcyI6IHsic3JjIjogImNsYXNzIiwgImRzdCI6ICJfa2V5In19Cg==');</script>\n",
       "    "
      ],
      "text/plain": [
       "<IPython.core.display.HTML object>"
      ]
     },
     "metadata": {},
     "output_type": "display_data"
    },
    {
     "data": {
      "text/html": [
       "\n",
       "        <div id=\"oMPTtacSfgPQAHXDacrgjp\"></div>\n",
       "        <script>netpixi.call('oMPTtacSfgPQAHXDacrgjp', 'ENAk6YiDPa5DWrKXiWxk4g', 'changeGraph', 'eyJpZCI6ICI4MzEiLCAidHlwZSI6ICJ2ZXJ0ZXgiLCAicHJvcHMiOiB7ImNvbG9yIjogMjU1fX0K');</script>\n",
       "    "
      ],
      "text/plain": [
       "<IPython.core.display.HTML object>"
      ]
     },
     "metadata": {},
     "output_type": "display_data"
    },
    {
     "data": {
      "text/html": [
       "\n",
       "        <div id=\"VvTQwaAtdrcThcL5pWJea9\"></div>\n",
       "        <script>netpixi.call('VvTQwaAtdrcThcL5pWJea9', 'ENAk6YiDPa5DWrKXiWxk4g', 'setGraph', 'eyJ0eXBlIjogInZlcnRleCIsICJwcm9wcyI6IHsic3JjIjogImNsYXNzIiwgImRzdCI6ICJfa2V5In19Cg==');</script>\n",
       "    "
      ],
      "text/plain": [
       "<IPython.core.display.HTML object>"
      ]
     },
     "metadata": {},
     "output_type": "display_data"
    },
    {
     "data": {
      "text/html": [
       "\n",
       "        <div id=\"HknRDVrGBqyMJnTfqV7tzC\"></div>\n",
       "        <script>netpixi.call('HknRDVrGBqyMJnTfqV7tzC', 'ENAk6YiDPa5DWrKXiWxk4g', 'changeGraph', 'eyJpZCI6ICI4MjkiLCAidHlwZSI6ICJ2ZXJ0ZXgiLCAicHJvcHMiOiB7ImNvbG9yIjogMjU1fX0K');</script>\n",
       "    "
      ],
      "text/plain": [
       "<IPython.core.display.HTML object>"
      ]
     },
     "metadata": {},
     "output_type": "display_data"
    },
    {
     "data": {
      "text/html": [
       "\n",
       "        <div id=\"2mVxGRPMHFygYe4UcejYC3\"></div>\n",
       "        <script>netpixi.call('2mVxGRPMHFygYe4UcejYC3', 'ENAk6YiDPa5DWrKXiWxk4g', 'setGraph', 'eyJ0eXBlIjogInZlcnRleCIsICJwcm9wcyI6IHsic3JjIjogImNsYXNzIiwgImRzdCI6ICJfa2V5In19Cg==');</script>\n",
       "    "
      ],
      "text/plain": [
       "<IPython.core.display.HTML object>"
      ]
     },
     "metadata": {},
     "output_type": "display_data"
    },
    {
     "data": {
      "text/html": [
       "\n",
       "        <div id=\"dT8zxs4Umcc8A8QmafXACV\"></div>\n",
       "        <script>netpixi.call('dT8zxs4Umcc8A8QmafXACV', 'ENAk6YiDPa5DWrKXiWxk4g', 'changeGraph', 'eyJpZCI6ICI4ODQiLCAidHlwZSI6ICJ2ZXJ0ZXgiLCAicHJvcHMiOiB7ImNvbG9yIjogMjU1fX0K');</script>\n",
       "    "
      ],
      "text/plain": [
       "<IPython.core.display.HTML object>"
      ]
     },
     "metadata": {},
     "output_type": "display_data"
    },
    {
     "data": {
      "text/html": [
       "\n",
       "        <div id=\"NAfEipEEmDnJGwxBTGA2Sf\"></div>\n",
       "        <script>netpixi.call('NAfEipEEmDnJGwxBTGA2Sf', 'ENAk6YiDPa5DWrKXiWxk4g', 'setGraph', 'eyJ0eXBlIjogInZlcnRleCIsICJwcm9wcyI6IHsic3JjIjogImNsYXNzIiwgImRzdCI6ICJfa2V5In19Cg==');</script>\n",
       "    "
      ],
      "text/plain": [
       "<IPython.core.display.HTML object>"
      ]
     },
     "metadata": {},
     "output_type": "display_data"
    },
    {
     "data": {
      "text/html": [
       "\n",
       "        <div id=\"KVn9udXbwRyzmZXYAUjNAU\"></div>\n",
       "        <script>netpixi.call('KVn9udXbwRyzmZXYAUjNAU', 'ENAk6YiDPa5DWrKXiWxk4g', 'changeGraph', 'eyJpZCI6ICI2NjMiLCAidHlwZSI6ICJ2ZXJ0ZXgiLCAicHJvcHMiOiB7ImNvbG9yIjogMTY3MTE2ODB9fQo=');</script>\n",
       "    "
      ],
      "text/plain": [
       "<IPython.core.display.HTML object>"
      ]
     },
     "metadata": {},
     "output_type": "display_data"
    },
    {
     "data": {
      "text/html": [
       "\n",
       "        <div id=\"kYsHxBHkMtc6sbcd6QZstw\"></div>\n",
       "        <script>netpixi.call('kYsHxBHkMtc6sbcd6QZstw', 'ENAk6YiDPa5DWrKXiWxk4g', 'setGraph', 'eyJ0eXBlIjogInZlcnRleCIsICJwcm9wcyI6IHsic3JjIjogImNsYXNzIiwgImRzdCI6ICJfa2V5In19Cg==');</script>\n",
       "    "
      ],
      "text/plain": [
       "<IPython.core.display.HTML object>"
      ]
     },
     "metadata": {},
     "output_type": "display_data"
    },
    {
     "data": {
      "text/html": [
       "\n",
       "        <div id=\"J9nrQvpVzm7HmksQgk92zb\"></div>\n",
       "        <script>netpixi.call('J9nrQvpVzm7HmksQgk92zb', 'ENAk6YiDPa5DWrKXiWxk4g', 'changeGraph', 'eyJpZCI6ICI4MzYiLCAidHlwZSI6ICJ2ZXJ0ZXgiLCAicHJvcHMiOiB7ImNvbG9yIjogMjU1fX0K');</script>\n",
       "    "
      ],
      "text/plain": [
       "<IPython.core.display.HTML object>"
      ]
     },
     "metadata": {},
     "output_type": "display_data"
    },
    {
     "data": {
      "text/html": [
       "\n",
       "        <div id=\"LpxghWYTKQTcwxkomuPG4d\"></div>\n",
       "        <script>netpixi.call('LpxghWYTKQTcwxkomuPG4d', 'ENAk6YiDPa5DWrKXiWxk4g', 'setGraph', 'eyJ0eXBlIjogInZlcnRleCIsICJwcm9wcyI6IHsic3JjIjogImNsYXNzIiwgImRzdCI6ICJfa2V5In19Cg==');</script>\n",
       "    "
      ],
      "text/plain": [
       "<IPython.core.display.HTML object>"
      ]
     },
     "metadata": {},
     "output_type": "display_data"
    },
    {
     "data": {
      "text/html": [
       "\n",
       "        <div id=\"KV65dsTManzh22eUK58mpn\"></div>\n",
       "        <script>netpixi.call('KV65dsTManzh22eUK58mpn', 'ENAk6YiDPa5DWrKXiWxk4g', 'changeGraph', 'eyJpZCI6ICI4MzMiLCAidHlwZSI6ICJ2ZXJ0ZXgiLCAicHJvcHMiOiB7ImNvbG9yIjogMjU1fX0K');</script>\n",
       "    "
      ],
      "text/plain": [
       "<IPython.core.display.HTML object>"
      ]
     },
     "metadata": {},
     "output_type": "display_data"
    },
    {
     "data": {
      "text/html": [
       "\n",
       "        <div id=\"kpZg7vGoah82W2dACpwta8\"></div>\n",
       "        <script>netpixi.call('kpZg7vGoah82W2dACpwta8', 'ENAk6YiDPa5DWrKXiWxk4g', 'setGraph', 'eyJ0eXBlIjogInZlcnRleCIsICJwcm9wcyI6IHsic3JjIjogImNsYXNzIiwgImRzdCI6ICJfa2V5In19Cg==');</script>\n",
       "    "
      ],
      "text/plain": [
       "<IPython.core.display.HTML object>"
      ]
     },
     "metadata": {},
     "output_type": "display_data"
    },
    {
     "data": {
      "text/html": [
       "\n",
       "        <div id=\"No9XwHi8budL9qkDmVcr4W\"></div>\n",
       "        <script>netpixi.call('No9XwHi8budL9qkDmVcr4W', 'ENAk6YiDPa5DWrKXiWxk4g', 'changeGraph', 'eyJpZCI6ICI2MTciLCAidHlwZSI6ICJ2ZXJ0ZXgiLCAicHJvcHMiOiB7ImNvbG9yIjogMjU1fX0K');</script>\n",
       "    "
      ],
      "text/plain": [
       "<IPython.core.display.HTML object>"
      ]
     },
     "metadata": {},
     "output_type": "display_data"
    },
    {
     "data": {
      "text/html": [
       "\n",
       "        <div id=\"oTbtxKcEYkBZoxFim4JWgG\"></div>\n",
       "        <script>netpixi.call('oTbtxKcEYkBZoxFim4JWgG', 'ENAk6YiDPa5DWrKXiWxk4g', 'setGraph', 'eyJ0eXBlIjogInZlcnRleCIsICJwcm9wcyI6IHsic3JjIjogImNsYXNzIiwgImRzdCI6ICJfa2V5In19Cg==');</script>\n",
       "    "
      ],
      "text/plain": [
       "<IPython.core.display.HTML object>"
      ]
     },
     "metadata": {},
     "output_type": "display_data"
    },
    {
     "data": {
      "text/html": [
       "\n",
       "        <div id=\"eR8U6Mrc3kvnQ2BKEX7HVL\"></div>\n",
       "        <script>netpixi.call('eR8U6Mrc3kvnQ2BKEX7HVL', 'ENAk6YiDPa5DWrKXiWxk4g', 'changeGraph', 'eyJpZCI6ICI2MDUiLCAidHlwZSI6ICJ2ZXJ0ZXgiLCAicHJvcHMiOiB7ImNvbG9yIjogMjU1fX0K');</script>\n",
       "    "
      ],
      "text/plain": [
       "<IPython.core.display.HTML object>"
      ]
     },
     "metadata": {},
     "output_type": "display_data"
    },
    {
     "data": {
      "text/html": [
       "\n",
       "        <div id=\"5bErLHeVtk3AvffgLJzzgc\"></div>\n",
       "        <script>netpixi.call('5bErLHeVtk3AvffgLJzzgc', 'ENAk6YiDPa5DWrKXiWxk4g', 'setGraph', 'eyJ0eXBlIjogInZlcnRleCIsICJwcm9wcyI6IHsic3JjIjogImNsYXNzIiwgImRzdCI6ICJfa2V5In19Cg==');</script>\n",
       "    "
      ],
      "text/plain": [
       "<IPython.core.display.HTML object>"
      ]
     },
     "metadata": {},
     "output_type": "display_data"
    },
    {
     "data": {
      "text/html": [
       "\n",
       "        <div id=\"oDCWwtYZrTUE6ao9KW39ov\"></div>\n",
       "        <script>netpixi.call('oDCWwtYZrTUE6ao9KW39ov', 'ENAk6YiDPa5DWrKXiWxk4g', 'changeGraph', 'eyJpZCI6ICI2NTUiLCAidHlwZSI6ICJ2ZXJ0ZXgiLCAicHJvcHMiOiB7ImNvbG9yIjogMjU1fX0K');</script>\n",
       "    "
      ],
      "text/plain": [
       "<IPython.core.display.HTML object>"
      ]
     },
     "metadata": {},
     "output_type": "display_data"
    },
    {
     "data": {
      "text/html": [
       "\n",
       "        <div id=\"JmiAhfyB7X259V6C3FxaWq\"></div>\n",
       "        <script>netpixi.call('JmiAhfyB7X259V6C3FxaWq', 'ENAk6YiDPa5DWrKXiWxk4g', 'setGraph', 'eyJ0eXBlIjogInZlcnRleCIsICJwcm9wcyI6IHsic3JjIjogImNsYXNzIiwgImRzdCI6ICJfa2V5In19Cg==');</script>\n",
       "    "
      ],
      "text/plain": [
       "<IPython.core.display.HTML object>"
      ]
     },
     "metadata": {},
     "output_type": "display_data"
    },
    {
     "data": {
      "text/html": [
       "\n",
       "        <div id=\"5Ro9GAexbiUx9ntg2PSpA4\"></div>\n",
       "        <script>netpixi.call('5Ro9GAexbiUx9ntg2PSpA4', 'ENAk6YiDPa5DWrKXiWxk4g', 'changeGraph', 'eyJpZCI6ICI2MDIiLCAidHlwZSI6ICJ2ZXJ0ZXgiLCAicHJvcHMiOiB7ImNvbG9yIjogMjU1fX0K');</script>\n",
       "    "
      ],
      "text/plain": [
       "<IPython.core.display.HTML object>"
      ]
     },
     "metadata": {},
     "output_type": "display_data"
    },
    {
     "data": {
      "text/html": [
       "\n",
       "        <div id=\"8Tajh7ahK5ZpFzCpHTyEQ6\"></div>\n",
       "        <script>netpixi.call('8Tajh7ahK5ZpFzCpHTyEQ6', 'ENAk6YiDPa5DWrKXiWxk4g', 'setGraph', 'eyJ0eXBlIjogInZlcnRleCIsICJwcm9wcyI6IHsic3JjIjogImNsYXNzIiwgImRzdCI6ICJfa2V5In19Cg==');</script>\n",
       "    "
      ],
      "text/plain": [
       "<IPython.core.display.HTML object>"
      ]
     },
     "metadata": {},
     "output_type": "display_data"
    },
    {
     "data": {
      "text/html": [
       "\n",
       "        <div id=\"iF42UpTf4k6Zrb6428KZEv\"></div>\n",
       "        <script>netpixi.call('iF42UpTf4k6Zrb6428KZEv', 'ENAk6YiDPa5DWrKXiWxk4g', 'changeGraph', 'eyJpZCI6ICI4MDIiLCAidHlwZSI6ICJ2ZXJ0ZXgiLCAicHJvcHMiOiB7ImNvbG9yIjogMjU1fX0K');</script>\n",
       "    "
      ],
      "text/plain": [
       "<IPython.core.display.HTML object>"
      ]
     },
     "metadata": {},
     "output_type": "display_data"
    },
    {
     "data": {
      "text/html": [
       "\n",
       "        <div id=\"UeeYyC2GjtaaJscLytkUJ5\"></div>\n",
       "        <script>netpixi.call('UeeYyC2GjtaaJscLytkUJ5', 'ENAk6YiDPa5DWrKXiWxk4g', 'setGraph', 'eyJ0eXBlIjogInZlcnRleCIsICJwcm9wcyI6IHsic3JjIjogImNsYXNzIiwgImRzdCI6ICJfa2V5In19Cg==');</script>\n",
       "    "
      ],
      "text/plain": [
       "<IPython.core.display.HTML object>"
      ]
     },
     "metadata": {},
     "output_type": "display_data"
    },
    {
     "data": {
      "text/html": [
       "\n",
       "        <div id=\"8WgES3r7RLqTVZwsQ5wE6b\"></div>\n",
       "        <script>netpixi.call('8WgES3r7RLqTVZwsQ5wE6b', 'ENAk6YiDPa5DWrKXiWxk4g', 'changeGraph', 'eyJpZCI6ICI2ODciLCAidHlwZSI6ICJ2ZXJ0ZXgiLCAicHJvcHMiOiB7ImNvbG9yIjogMTY3MTE2ODB9fQo=');</script>\n",
       "    "
      ],
      "text/plain": [
       "<IPython.core.display.HTML object>"
      ]
     },
     "metadata": {},
     "output_type": "display_data"
    },
    {
     "data": {
      "text/html": [
       "\n",
       "        <div id=\"RddnycAqBhQtCmW89jntsK\"></div>\n",
       "        <script>netpixi.call('RddnycAqBhQtCmW89jntsK', 'ENAk6YiDPa5DWrKXiWxk4g', 'setGraph', 'eyJ0eXBlIjogInZlcnRleCIsICJwcm9wcyI6IHsic3JjIjogImNsYXNzIiwgImRzdCI6ICJfa2V5In19Cg==');</script>\n",
       "    "
      ],
      "text/plain": [
       "<IPython.core.display.HTML object>"
      ]
     },
     "metadata": {},
     "output_type": "display_data"
    },
    {
     "data": {
      "text/html": [
       "\n",
       "        <div id=\"2BTUTYhmpcYZJeqQ4VuHVr\"></div>\n",
       "        <script>netpixi.call('2BTUTYhmpcYZJeqQ4VuHVr', 'ENAk6YiDPa5DWrKXiWxk4g', 'changeGraph', 'eyJpZCI6ICI2NjIiLCAidHlwZSI6ICJ2ZXJ0ZXgiLCAicHJvcHMiOiB7ImNvbG9yIjogMjU1fX0K');</script>\n",
       "    "
      ],
      "text/plain": [
       "<IPython.core.display.HTML object>"
      ]
     },
     "metadata": {},
     "output_type": "display_data"
    },
    {
     "data": {
      "text/html": [
       "\n",
       "        <div id=\"Cick5L5ZLTMzscirbVEXWh\"></div>\n",
       "        <script>netpixi.call('Cick5L5ZLTMzscirbVEXWh', 'ENAk6YiDPa5DWrKXiWxk4g', 'setGraph', 'eyJ0eXBlIjogInZlcnRleCIsICJwcm9wcyI6IHsic3JjIjogImNsYXNzIiwgImRzdCI6ICJfa2V5In19Cg==');</script>\n",
       "    "
      ],
      "text/plain": [
       "<IPython.core.display.HTML object>"
      ]
     },
     "metadata": {},
     "output_type": "display_data"
    },
    {
     "data": {
      "text/html": [
       "\n",
       "        <div id=\"axnMJX5GiLNHd844mDcFih\"></div>\n",
       "        <script>netpixi.call('axnMJX5GiLNHd844mDcFih', 'ENAk6YiDPa5DWrKXiWxk4g', 'changeGraph', 'eyJpZCI6ICI2NjYiLCAidHlwZSI6ICJ2ZXJ0ZXgiLCAicHJvcHMiOiB7ImNvbG9yIjogMjU1fX0K');</script>\n",
       "    "
      ],
      "text/plain": [
       "<IPython.core.display.HTML object>"
      ]
     },
     "metadata": {},
     "output_type": "display_data"
    },
    {
     "data": {
      "text/html": [
       "\n",
       "        <div id=\"fGTqBomrjHdRVXyFL4wfGV\"></div>\n",
       "        <script>netpixi.call('fGTqBomrjHdRVXyFL4wfGV', 'ENAk6YiDPa5DWrKXiWxk4g', 'setGraph', 'eyJ0eXBlIjogInZlcnRleCIsICJwcm9wcyI6IHsic3JjIjogImNsYXNzIiwgImRzdCI6ICJfa2V5In19Cg==');</script>\n",
       "    "
      ],
      "text/plain": [
       "<IPython.core.display.HTML object>"
      ]
     },
     "metadata": {},
     "output_type": "display_data"
    },
    {
     "data": {
      "text/html": [
       "\n",
       "        <div id=\"WMfnkVxAkvZbFePp6ZhSm2\"></div>\n",
       "        <script>netpixi.call('WMfnkVxAkvZbFePp6ZhSm2', 'ENAk6YiDPa5DWrKXiWxk4g', 'changeGraph', 'eyJpZCI6ICI4ODEiLCAidHlwZSI6ICJ2ZXJ0ZXgiLCAicHJvcHMiOiB7ImNvbG9yIjogMjU1fX0K');</script>\n",
       "    "
      ],
      "text/plain": [
       "<IPython.core.display.HTML object>"
      ]
     },
     "metadata": {},
     "output_type": "display_data"
    },
    {
     "data": {
      "text/html": [
       "\n",
       "        <div id=\"5WbejCj3Ypbiz2GzwuMpPG\"></div>\n",
       "        <script>netpixi.call('5WbejCj3Ypbiz2GzwuMpPG', 'ENAk6YiDPa5DWrKXiWxk4g', 'setGraph', 'eyJ0eXBlIjogInZlcnRleCIsICJwcm9wcyI6IHsic3JjIjogImNsYXNzIiwgImRzdCI6ICJfa2V5In19Cg==');</script>\n",
       "    "
      ],
      "text/plain": [
       "<IPython.core.display.HTML object>"
      ]
     },
     "metadata": {},
     "output_type": "display_data"
    },
    {
     "data": {
      "text/html": [
       "\n",
       "        <div id=\"ignpMnP3nu6Du79Azc9hKm\"></div>\n",
       "        <script>netpixi.call('ignpMnP3nu6Du79Azc9hKm', 'ENAk6YiDPa5DWrKXiWxk4g', 'changeGraph', 'eyJpZCI6ICI2MDciLCAidHlwZSI6ICJ2ZXJ0ZXgiLCAicHJvcHMiOiB7ImNvbG9yIjogMjU1fX0K');</script>\n",
       "    "
      ],
      "text/plain": [
       "<IPython.core.display.HTML object>"
      ]
     },
     "metadata": {},
     "output_type": "display_data"
    },
    {
     "data": {
      "text/html": [
       "\n",
       "        <div id=\"nVUQnPnXiQe8Yb7tFRnVBL\"></div>\n",
       "        <script>netpixi.call('nVUQnPnXiQe8Yb7tFRnVBL', 'ENAk6YiDPa5DWrKXiWxk4g', 'setGraph', 'eyJ0eXBlIjogInZlcnRleCIsICJwcm9wcyI6IHsic3JjIjogImNsYXNzIiwgImRzdCI6ICJfa2V5In19Cg==');</script>\n",
       "    "
      ],
      "text/plain": [
       "<IPython.core.display.HTML object>"
      ]
     },
     "metadata": {},
     "output_type": "display_data"
    },
    {
     "data": {
      "text/html": [
       "\n",
       "        <div id=\"6D5WdQNSDKAT3Vv6FbtRin\"></div>\n",
       "        <script>netpixi.call('6D5WdQNSDKAT3Vv6FbtRin', 'ENAk6YiDPa5DWrKXiWxk4g', 'changeGraph', 'eyJpZCI6ICI2MjQiLCAidHlwZSI6ICJ2ZXJ0ZXgiLCAicHJvcHMiOiB7ImNvbG9yIjogMjU1fX0K');</script>\n",
       "    "
      ],
      "text/plain": [
       "<IPython.core.display.HTML object>"
      ]
     },
     "metadata": {},
     "output_type": "display_data"
    },
    {
     "data": {
      "text/html": [
       "\n",
       "        <div id=\"ibm4aMQHpEAhXe3Uxb84VQ\"></div>\n",
       "        <script>netpixi.call('ibm4aMQHpEAhXe3Uxb84VQ', 'ENAk6YiDPa5DWrKXiWxk4g', 'setGraph', 'eyJ0eXBlIjogInZlcnRleCIsICJwcm9wcyI6IHsic3JjIjogImNsYXNzIiwgImRzdCI6ICJfa2V5In19Cg==');</script>\n",
       "    "
      ],
      "text/plain": [
       "<IPython.core.display.HTML object>"
      ]
     },
     "metadata": {},
     "output_type": "display_data"
    },
    {
     "data": {
      "text/html": [
       "\n",
       "        <div id=\"cKyCmvTQLZJE6B3mGv8A3b\"></div>\n",
       "        <script>netpixi.call('cKyCmvTQLZJE6B3mGv8A3b', 'ENAk6YiDPa5DWrKXiWxk4g', 'changeGraph', 'eyJpZCI6ICI2MzMiLCAidHlwZSI6ICJ2ZXJ0ZXgiLCAicHJvcHMiOiB7ImNvbG9yIjogMjU1fX0K');</script>\n",
       "    "
      ],
      "text/plain": [
       "<IPython.core.display.HTML object>"
      ]
     },
     "metadata": {},
     "output_type": "display_data"
    },
    {
     "data": {
      "text/html": [
       "\n",
       "        <div id=\"ML3A2ki3QhG5aaDCy3Tgxh\"></div>\n",
       "        <script>netpixi.call('ML3A2ki3QhG5aaDCy3Tgxh', 'ENAk6YiDPa5DWrKXiWxk4g', 'setGraph', 'eyJ0eXBlIjogInZlcnRleCIsICJwcm9wcyI6IHsic3JjIjogImNsYXNzIiwgImRzdCI6ICJfa2V5In19Cg==');</script>\n",
       "    "
      ],
      "text/plain": [
       "<IPython.core.display.HTML object>"
      ]
     },
     "metadata": {},
     "output_type": "display_data"
    }
   ],
   "source": [
    "set_label_set_property('gender','class')"
   ]
  },
  {
   "cell_type": "markdown",
   "id": "7ab3bc6f",
   "metadata": {},
   "source": [
    "## SFDP"
   ]
  },
  {
   "cell_type": "code",
   "execution_count": null,
   "id": "c119166e",
   "metadata": {},
   "outputs": [],
   "source": [
    "g = gt_load('2012_class_gender.net.gz')\n",
    "m = gt_draw.sfdp_layout(g)\n",
    "gt_move(g, m)\n",
    "gt_save(g, 'SFDP.net.gz')\n",
    "netpixi.render('SFDP.net.gz');"
   ]
  },
  {
   "cell_type": "markdown",
   "id": "04de049a",
   "metadata": {},
   "source": [
    "## Fruchterman reingold"
   ]
  },
  {
   "cell_type": "code",
   "execution_count": null,
   "id": "31c566ec",
   "metadata": {},
   "outputs": [],
   "source": [
    "g = gt_load('2012_class_gender.net.gz')\n",
    "m = gt_draw.fruchterman_reingold_layout(g)\n",
    "gt_move(g, m)\n",
    "gt_save(g, 'reignold.net.gz')\n",
    "netpixi.render('reignold.net.gz');"
   ]
  },
  {
   "cell_type": "markdown",
   "id": "21a60d85",
   "metadata": {},
   "source": [
    "# ARF\n",
    "\n",
    "Mais um algoritmo baseado na ideia de [force-directed graph drawing](https://en.wikipedia.org/wiki/Force-directed_graph_drawing)."
   ]
  },
  {
   "cell_type": "code",
   "execution_count": null,
   "id": "3b95541d",
   "metadata": {},
   "outputs": [],
   "source": [
    "g = gt_load('2012_class_gender.net.gz')\n",
    "m= gt_draw.arf_layout(graph)\n",
    "gt_move(graph, m)\n",
    "gt_save(graph, 'ARF.net.gz')\n",
    "netpixi.render('ARF.net.gz');"
   ]
  },
  {
   "cell_type": "markdown",
   "id": "79632ee2",
   "metadata": {},
   "source": [
    "# Limpeza grafo"
   ]
  },
  {
   "cell_type": "code",
   "execution_count": null,
   "id": "8f54e8a3",
   "metadata": {},
   "outputs": [],
   "source": [
    "g = gt_load('2012_class_gender.net.gz')\n",
    "m = gt_draw.sfdp_layout(g)\n",
    "gt_move(g, m)\n",
    "gt_save(g, 'exemplo.net.gz')\n",
    "netpixi.render('exemplo.net.gz', infinite=True);"
   ]
  },
  {
   "cell_type": "code",
   "execution_count": null,
   "id": "18141b26",
   "metadata": {},
   "outputs": [],
   "source": []
  },
  {
   "cell_type": "code",
   "execution_count": null,
   "id": "acde38d5",
   "metadata": {},
   "outputs": [],
   "source": []
  },
  {
   "cell_type": "code",
   "execution_count": null,
   "id": "922002a6",
   "metadata": {},
   "outputs": [],
   "source": []
  },
  {
   "cell_type": "code",
   "execution_count": null,
   "id": "69aef7bd",
   "metadata": {},
   "outputs": [],
   "source": []
  },
  {
   "cell_type": "code",
   "execution_count": null,
   "id": "00e6f0fb",
   "metadata": {},
   "outputs": [],
   "source": []
  }
 ],
 "metadata": {
  "kernelspec": {
   "display_name": "Python 3 (ipykernel)",
   "language": "python",
   "name": "python3"
  },
  "language_info": {
   "codemirror_mode": {
    "name": "ipython",
    "version": 3
   },
   "file_extension": ".py",
   "mimetype": "text/x-python",
   "name": "python",
   "nbconvert_exporter": "python",
   "pygments_lexer": "ipython3",
   "version": "3.10.10"
  }
 },
 "nbformat": 4,
 "nbformat_minor": 5
}
