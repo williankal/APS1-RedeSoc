{
 "cells": [
  {
   "cell_type": "markdown",
   "id": "dba02d36",
   "metadata": {},
   "source": [
    "# DATASET: High school dynamic contact networks\n",
    "\n",
    "### Equipe: Natalia Carreras, Pedro Altobelli, Willian Kenzo\n",
    "\n",
    "\n",
    "\n"
   ]
  },
  {
   "cell_type": "code",
   "execution_count": 75,
   "id": "4aa28944",
   "metadata": {},
   "outputs": [],
   "source": [
    "import netpixi\n",
    "from netpixi.integration.gt import *\n",
    "g = Graph(directed=False) #dirigidonão"
   ]
  },
  {
   "cell_type": "code",
   "execution_count": 76,
   "id": "dd804b23",
   "metadata": {},
   "outputs": [
    {
     "name": "stderr",
     "output_type": "stream",
     "text": [
      "/tmp/ipykernel_14/2989022374.py:1: ResourceWarning: unclosed file <_io.TextIOWrapper name='thiers_2011.csv' mode='r' encoding='UTF-8'>\n",
      "  csv = open('thiers_2011.csv')\n",
      "ResourceWarning: Enable tracemalloc to get the object allocation traceback\n"
     ]
    },
    {
     "name": "stdout",
     "output_type": "stream",
     "text": [
      "The content of CSV file is:\n",
      "126\n",
      "número de vértices de g: 126\n",
      "número de edges de g: 1709\n"
     ]
    }
   ],
   "source": [
    "csv = open('thiers_2011.csv')\n",
    "print(\"The content of CSV file is:\")\n",
    "csv_lines = csv.readlines()\n",
    "vertex = []\n",
    "edge = []\n",
    "for line in csv_lines:\n",
    "    split = line.split()\n",
    "    time = split[0]\n",
    "    id1 = split[1]\n",
    "    id2 = split[2]\n",
    "    class1 = split[3]\n",
    "    class2 = split[4]\n",
    "    \n",
    "    if id1 not in vertex:\n",
    "        vertex.append(id1)\n",
    "        g.add_vertex(id1)\n",
    "    \n",
    "    if id2 not in vertex:\n",
    "        vertex.append(id2)\n",
    "        g.add_vertex(id2)\n",
    "        \n",
    "    if [id1,id2] not in edge:\n",
    "        edge.append([id1,id2])\n",
    "        g.add_edge(id1,id2)\n",
    "\n",
    "print(len(vertex))        \n",
    "print('número de vértices de g:', g.num_vertices())\n",
    "print('número de edges de g:', g.num_edges())\n",
    "\n",
    "        \n",
    "gt_save(g, 'd.net.gz')        \n",
    "    \n"
   ]
  },
  {
   "cell_type": "code",
   "execution_count": 77,
   "id": "2c8635a7",
   "metadata": {},
   "outputs": [
    {
     "data": {
      "text/html": [
       "\n",
       "        <div id=\"QVBfL8HFG4h9sWervPiR5q\"></div>\n",
       "        <script>netpixi.render('QVBfL8HFG4h9sWervPiR5q', 'd.net.gz', 1.7777777777777777, true, false, false);</script>\n",
       "    "
      ],
      "text/plain": [
       "<IPython.core.display.HTML object>"
      ]
     },
     "metadata": {},
     "output_type": "display_data"
    }
   ],
   "source": [
    "r = netpixi.render('d.net.gz')"
   ]
  },
  {
   "cell_type": "code",
   "execution_count": 80,
   "id": "ff942866",
   "metadata": {},
   "outputs": [
    {
     "data": {
      "text/html": [
       "\n",
       "        <div id=\"Eu4Ze8k2csm8UUzcB6rb6i\"></div>\n",
       "        <script>netpixi.call('Eu4Ze8k2csm8UUzcB6rb6i', 'QVBfL8HFG4h9sWervPiR5q', 'changeGraph', 'eyJ0eXBlIjogInNldHRpbmdzIiwgInByb3BzIjogeyJncmFwaCI6IHsiY29sb3IiOiAxNjc3NzIxNX19fQo=');</script>\n",
       "    "
      ],
      "text/plain": [
       "<IPython.core.display.HTML object>"
      ]
     },
     "metadata": {},
     "output_type": "display_data"
    },
    {
     "data": {
      "text/html": [
       "\n",
       "        <div id=\"nEjXdq4BWTzvskcJYnbfxy\"></div>\n",
       "        <script>netpixi.call('nEjXdq4BWTzvskcJYnbfxy', 'QVBfL8HFG4h9sWervPiR5q', 'changeGraph', 'eyJ0eXBlIjogInNldHRpbmdzIiwgInByb3BzIjogeyJ2ZXJ0ZXgiOiB7ImNvbG9yIjogMCwgInNpemUiOiAxMH19fQo=');</script>\n",
       "    "
      ],
      "text/plain": [
       "<IPython.core.display.HTML object>"
      ]
     },
     "metadata": {},
     "output_type": "display_data"
    },
    {
     "data": {
      "text/html": [
       "\n",
       "        <div id=\"RfbUwhmQamJer2cTL6xhta\"></div>\n",
       "        <script>netpixi.call('RfbUwhmQamJer2cTL6xhta', 'QVBfL8HFG4h9sWervPiR5q', 'changeGraph', 'eyJ0eXBlIjogInNldHRpbmdzIiwgInByb3BzIjogeyJlZGdlIjogeyJjb2xvciI6IDAsICJ3aWR0aCI6IDEsICJjdXJ2ZTEiOiAxLCAiY3VydmUyIjogMX19fQo=');</script>\n",
       "    "
      ],
      "text/plain": [
       "<IPython.core.display.HTML object>"
      ]
     },
     "metadata": {},
     "output_type": "display_data"
    },
    {
     "data": {
      "text/html": [
       "\n",
       "        <div id=\"adR6KRzxmjsZxYaZVMsLSy\"></div>\n",
       "        <script>netpixi.call('adR6KRzxmjsZxYaZVMsLSy', 'QVBfL8HFG4h9sWervPiR5q', 'changeGraph', 'eyJzb3VyY2UiOiAwLCAidGFyZ2V0IjogMSwgInR5cGUiOiAiZWRnZSIsICJwcm9wcyI6IHsiY29sb3IiOiAyNTUsICJ3aWR0aCI6IDJ9fQo=');</script>\n",
       "    "
      ],
      "text/plain": [
       "<IPython.core.display.HTML object>"
      ]
     },
     "metadata": {},
     "output_type": "display_data"
    },
    {
     "data": {
      "text/html": [
       "\n",
       "        <div id=\"RCJk5UbvXMp6AvEzbTfET6\"></div>\n",
       "        <script>netpixi.call('RCJk5UbvXMp6AvEzbTfET6', 'QVBfL8HFG4h9sWervPiR5q', 'setGraph', 'eyJ0eXBlIjogInZlcnRleCIsICJwcm9wcyI6IHsic3JjIjogImxhYmVsIiwgImRzdCI6ICJfa2V5In19Cg==');</script>\n",
       "    "
      ],
      "text/plain": [
       "<IPython.core.display.HTML object>"
      ]
     },
     "metadata": {},
     "output_type": "display_data"
    }
   ],
   "source": [
    "# mudar a cor de fundo do grafo\n",
    "r.graph(color=0xffffff)\n",
    "\n",
    "# mudar a cor e o tamanho dos vértices\n",
    "r.vertex_default(color=0x000000, size=10)\n",
    "\n",
    "# mudar a cor, a espessura e a curvatura das arestas\n",
    "r.edge_default(color=0x000000, width=1, curve1=1, curve2=1)\n",
    "\n",
    "# mudar uma aresta específica a partir dos ids de sua origem e destino\n",
    "r.edge(0, 1, color=0x0000ff, width=2)\n",
    "r.vertex_set_key('label')"
   ]
  },
  {
   "cell_type": "code",
   "execution_count": 82,
   "id": "31c566ec",
   "metadata": {},
   "outputs": [
    {
     "data": {
      "text/html": [
       "\n",
       "        <div id=\"8baDMg6V4zYAWn3rbRi3Qz\"></div>\n",
       "        <script>netpixi.render('8baDMg6V4zYAWn3rbRi3Qz', 'reignold.net.gz', 1.7777777777777777, true, false, false);</script>\n",
       "    "
      ],
      "text/plain": [
       "<IPython.core.display.HTML object>"
      ]
     },
     "metadata": {},
     "output_type": "display_data"
    }
   ],
   "source": [
    "m = gt_draw.fruchterman_reingold_layout(g)\n",
    "gt_move(g, m)\n",
    "gt_save(g, 'reignold.net.gz')\n",
    "netpixi.render('reignold.net.gz');"
   ]
  },
  {
   "cell_type": "code",
   "execution_count": null,
   "id": "148ed84c",
   "metadata": {},
   "outputs": [],
   "source": []
  },
  {
   "cell_type": "code",
   "execution_count": null,
   "id": "3b95541d",
   "metadata": {},
   "outputs": [],
   "source": []
  },
  {
   "cell_type": "code",
   "execution_count": null,
   "id": "8f54e8a3",
   "metadata": {},
   "outputs": [],
   "source": []
  }
 ],
 "metadata": {
  "kernelspec": {
   "display_name": "Python 3 (ipykernel)",
   "language": "python",
   "name": "python3"
  },
  "language_info": {
   "codemirror_mode": {
    "name": "ipython",
    "version": 3
   },
   "file_extension": ".py",
   "mimetype": "text/x-python",
   "name": "python",
   "nbconvert_exporter": "python",
   "pygments_lexer": "ipython3",
   "version": "3.10.10"
  }
 },
 "nbformat": 4,
 "nbformat_minor": 5
}
