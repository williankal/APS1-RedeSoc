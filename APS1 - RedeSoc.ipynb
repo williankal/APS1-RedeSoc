{
 "cells": [
  {
   "cell_type": "markdown",
   "id": "dba02d36",
   "metadata": {},
   "source": [
    "# DATASET: High school dynamic contact networks\n",
    "\n",
    "### Equipe: Natalia Carreras, Pedro Altobelli, Willian Kenzo\n",
    "\n",
    "\n",
    "\n"
   ]
  },
  {
   "cell_type": "code",
   "execution_count": 1,
   "id": "4aa28944",
   "metadata": {},
   "outputs": [
    {
     "data": {
      "text/html": [
       "\n",
       "    <script src=\"/files/netpixi.min.js\"></script>\n"
      ],
      "text/plain": [
       "<IPython.core.display.HTML object>"
      ]
     },
     "metadata": {},
     "output_type": "display_data"
    }
   ],
   "source": [
    "import netpixi\n",
    "from netpixi.integration.gt import *\n",
    "graph = Graph(directed=False) #dirigidonão"
   ]
  },
  {
   "cell_type": "code",
   "execution_count": 2,
   "id": "dd804b23",
   "metadata": {
    "scrolled": false
   },
   "outputs": [
    {
     "name": "stdout",
     "output_type": "stream",
     "text": [
      "número de vértices de g: 180\n",
      "número de edges de g: 2220\n"
     ]
    }
   ],
   "source": [
    "with open('thiers_2012.csv', \"r\") as arquivo:\n",
    "    csv_lines = arquivo.readlines()\n",
    "\n",
    "vertex = []\n",
    "edge = []\n",
    "graph.add_vp('class')\n",
    "graph.add_vp('gender')\n",
    "# graph['class'] = 'Classes dos estudantes'\n",
    "# graph['gender'] = 'Genero do alunos'\n",
    "\n",
    "for line in csv_lines:\n",
    "    split = line.split()\n",
    "    time = split[0]\n",
    "    id1 = split[1]\n",
    "    id2 = split[2]\n",
    "    class1 = split[3]\n",
    "    class2 = split[4]\n",
    "    \n",
    "    if id1 not in vertex:\n",
    "        vertex.append(id1)\n",
    "        graph.add_vertex(id1)\n",
    "        u = graph.get_vertex(id1)\n",
    "        graph.add_vp('class')\n",
    "        u['class'] = class1\n",
    "    \n",
    "    if id2 not in vertex:\n",
    "        graph.add_vertex(id2)\n",
    "        vertex.append(id2)\n",
    "        u = graph.get_vertex(id2)\n",
    "        graph.add_vp('class')\n",
    "        u['class'] = class2        \n",
    "        \n",
    "    if [id1,id2] not in edge:\n",
    "        edge.append([id1,id2])\n",
    "        edge.append([id2,id1])#ver jeito melhor\n",
    "        graph.add_edge(id1,id2)\n",
    "        \n",
    "for value in graph.values():\n",
    "    print(value)\n",
    "    \n",
    "print('número de vértices de g:', graph.num_vertices())\n",
    "print('número de edges de g:', graph.num_edges())\n",
    "\n"
   ]
  },
  {
   "cell_type": "code",
   "execution_count": null,
   "id": "8162e0f7",
   "metadata": {},
   "outputs": [],
   "source": []
  },
  {
   "cell_type": "code",
   "execution_count": 3,
   "id": "21a41e61",
   "metadata": {},
   "outputs": [
    {
     "data": {
      "text/html": [
       "\n",
       "        <div id=\"3WNYUwjMQdwKzPVKWS9ESD\"></div>\n",
       "        <script>netpixi.render('3WNYUwjMQdwKzPVKWS9ESD', '2012_class_gender.net.gz', 1.7777777777777777, true, false, false);</script>\n",
       "    "
      ],
      "text/plain": [
       "<IPython.core.display.HTML object>"
      ]
     },
     "metadata": {},
     "output_type": "display_data"
    }
   ],
   "source": [
    "with open('metadata_212.txt', \"r\") as arquivo:\n",
    "    data_lines = arquivo.readlines()\n",
    "\n",
    "for line in data_lines:\n",
    "    split = line.split()\n",
    "    student_id = split[0]\n",
    "    gender = split[2]\n",
    "    \n",
    "    u = graph.get_vertex(student_id)\n",
    "    graph.add_vp('gender')\n",
    "    u['gender'] = gender\n",
    "    \n",
    "    \n",
    "    \n",
    "gt_save(graph, '2012_class_gender.net.gz')        \n",
    "\n",
    "r = netpixi.render('2012_class_gender.net.gz')\n"
   ]
  },
  {
   "cell_type": "code",
   "execution_count": 4,
   "id": "2c8635a7",
   "metadata": {},
   "outputs": [
    {
     "data": {
      "text/html": [
       "\n",
       "        <div id=\"UvvtSWuHPwS9emxRr8i3FR\"></div>\n",
       "        <script>netpixi.call('UvvtSWuHPwS9emxRr8i3FR', '3WNYUwjMQdwKzPVKWS9ESD', 'setGraph', 'eyJ0eXBlIjogInZlcnRleCIsICJwcm9wcyI6IHsic3JjIjogImNsYXNzIiwgImRzdCI6ICJfa2V5In19Cg==');</script>\n",
       "    "
      ],
      "text/plain": [
       "<IPython.core.display.HTML object>"
      ]
     },
     "metadata": {},
     "output_type": "display_data"
    }
   ],
   "source": [
    "r.vertex_set_key('class')"
   ]
  },
  {
   "cell_type": "code",
   "execution_count": 9,
   "id": "ff942866",
   "metadata": {},
   "outputs": [
    {
     "data": {
      "text/html": [
       "\n",
       "        <div id=\"8koAeBa8jehDsEFXok7JWW\"></div>\n",
       "        <script>netpixi.call('8koAeBa8jehDsEFXok7JWW', '3WNYUwjMQdwKzPVKWS9ESD', 'changeGraph', 'eyJ0eXBlIjogInNldHRpbmdzIiwgInByb3BzIjogeyJncmFwaCI6IHsiY29sb3IiOiAxNjc3NzIxNX19fQo=');</script>\n",
       "    "
      ],
      "text/plain": [
       "<IPython.core.display.HTML object>"
      ]
     },
     "metadata": {},
     "output_type": "display_data"
    },
    {
     "data": {
      "text/html": [
       "\n",
       "        <div id=\"ipgcYF7tAD9R6aeks5NKDC\"></div>\n",
       "        <script>netpixi.call('ipgcYF7tAD9R6aeks5NKDC', '3WNYUwjMQdwKzPVKWS9ESD', 'changeGraph', 'eyJ0eXBlIjogInNldHRpbmdzIiwgInByb3BzIjogeyJ2ZXJ0ZXgiOiB7ImNvbG9yIjogMCwgInNpemUiOiAxNX19fQo=');</script>\n",
       "    "
      ],
      "text/plain": [
       "<IPython.core.display.HTML object>"
      ]
     },
     "metadata": {},
     "output_type": "display_data"
    },
    {
     "data": {
      "text/html": [
       "\n",
       "        <div id=\"4Jn2QYXzZ7D9LnxT9XTFMv\"></div>\n",
       "        <script>netpixi.call('4Jn2QYXzZ7D9LnxT9XTFMv', '3WNYUwjMQdwKzPVKWS9ESD', 'changeGraph', 'eyJ0eXBlIjogInNldHRpbmdzIiwgInByb3BzIjogeyJlZGdlIjogeyJjb2xvciI6IDAsICJ3aWR0aCI6IDEsICJjdXJ2ZTEiOiAxLCAiY3VydmUyIjogMX19fQo=');</script>\n",
       "    "
      ],
      "text/plain": [
       "<IPython.core.display.HTML object>"
      ]
     },
     "metadata": {},
     "output_type": "display_data"
    },
    {
     "data": {
      "text/html": [
       "\n",
       "        <div id=\"KENZCAbXsRByZanLbThPQT\"></div>\n",
       "        <script>netpixi.call('KENZCAbXsRByZanLbThPQT', '3WNYUwjMQdwKzPVKWS9ESD', 'changeGraph', 'eyJzb3VyY2UiOiAwLCAidGFyZ2V0IjogMSwgInR5cGUiOiAiZWRnZSIsICJwcm9wcyI6IHsiY29sb3IiOiAyNTUsICJ3aWR0aCI6IDJ9fQo=');</script>\n",
       "    "
      ],
      "text/plain": [
       "<IPython.core.display.HTML object>"
      ]
     },
     "metadata": {},
     "output_type": "display_data"
    },
    {
     "data": {
      "text/html": [
       "\n",
       "        <div id=\"LVsqda8xpmbs6EGHmw8trb\"></div>\n",
       "        <script>netpixi.call('LVsqda8xpmbs6EGHmw8trb', '3WNYUwjMQdwKzPVKWS9ESD', 'setGraph', 'eyJ0eXBlIjogInZlcnRleCIsICJwcm9wcyI6IHsic3JjIjogImxhYmVsIiwgImRzdCI6ICJfa2V5In19Cg==');</script>\n",
       "    "
      ],
      "text/plain": [
       "<IPython.core.display.HTML object>"
      ]
     },
     "metadata": {},
     "output_type": "display_data"
    }
   ],
   "source": [
    "# mudar a cor de fundo do grafo\n",
    "r.graph(color=0xffffff)\n",
    "\n",
    "# mudar a cor e o tamanho dos vértices\n",
    "r.vertex_default(color=0x000000, size=15)\n",
    "\n",
    "# mudar a cor, a espessura e a curvatura das arestas\n",
    "r.edge_default(color=0x000000, width=1, curve1=1, curve2=1)\n",
    "\n",
    "# mudar uma aresta específica a partir dos ids de sua origem e destino\n",
    "r.edge(0, 1, color=0x0000ff, width=2)\n",
    "r.vertex_set_key('label')"
   ]
  },
  {
   "cell_type": "markdown",
   "id": "7ab3bc6f",
   "metadata": {},
   "source": [
    "## SFDP"
   ]
  },
  {
   "cell_type": "code",
   "execution_count": 19,
   "id": "c119166e",
   "metadata": {},
   "outputs": [
    {
     "data": {
      "text/html": [
       "\n",
       "        <div id=\"QEEjWA6XPLwvoNNVUjfgbk\"></div>\n",
       "        <script>netpixi.render('QEEjWA6XPLwvoNNVUjfgbk', 'SFDP.net.gz', 1.7777777777777777, true, false, false);</script>\n",
       "    "
      ],
      "text/plain": [
       "<IPython.core.display.HTML object>"
      ]
     },
     "metadata": {},
     "output_type": "display_data"
    }
   ],
   "source": [
    "g = gt_load('2012_class_gender.net.gz')\n",
    "m = gt_draw.sfdp_layout(g)\n",
    "gt_move(g, m)\n",
    "gt_save(g, 'SFDP.net.gz')\n",
    "netpixi.render('SFDP.net.gz');"
   ]
  },
  {
   "cell_type": "markdown",
   "id": "04de049a",
   "metadata": {},
   "source": [
    "## Fruchterman reingold"
   ]
  },
  {
   "cell_type": "code",
   "execution_count": null,
   "id": "31c566ec",
   "metadata": {},
   "outputs": [],
   "source": [
    "g = gt_load('2012_class_gender.net.gz')\n",
    "m = gt_draw.fruchterman_reingold_layout(g)\n",
    "gt_move(g, m)\n",
    "gt_save(g, 'reignold.net.gz')\n",
    "netpixi.render('reignold.net.gz');"
   ]
  },
  {
   "cell_type": "markdown",
   "id": "21a60d85",
   "metadata": {},
   "source": [
    "# ARF\n",
    "\n",
    "Mais um algoritmo baseado na ideia de [force-directed graph drawing](https://en.wikipedia.org/wiki/Force-directed_graph_drawing)."
   ]
  },
  {
   "cell_type": "code",
   "execution_count": null,
   "id": "3b95541d",
   "metadata": {},
   "outputs": [],
   "source": [
    "g = gt_load('2012_class_gender.net.gz')\n",
    "m= gt_draw.arf_layout(graph)\n",
    "gt_move(graph, m)\n",
    "gt_save(graph, 'ARF.net.gz')\n",
    "netpixi.render('ARF.net.gz');"
   ]
  },
  {
   "cell_type": "markdown",
   "id": "79632ee2",
   "metadata": {},
   "source": [
    "# Limpeza grafo"
   ]
  },
  {
   "cell_type": "code",
   "execution_count": null,
   "id": "8f54e8a3",
   "metadata": {},
   "outputs": [],
   "source": [
    "g = gt_load('2012_class_gender.net.gz')\n",
    "m = gt_draw.sfdp_layout(g)\n",
    "gt_move(g, m)\n",
    "gt_save(g, 'exemplo.net.gz')\n",
    "netpixi.render('exemplo.net.gz', infinite=True);"
   ]
  },
  {
   "cell_type": "code",
   "execution_count": null,
   "id": "18141b26",
   "metadata": {},
   "outputs": [],
   "source": []
  },
  {
   "cell_type": "code",
   "execution_count": null,
   "id": "acde38d5",
   "metadata": {},
   "outputs": [],
   "source": []
  },
  {
   "cell_type": "code",
   "execution_count": null,
   "id": "922002a6",
   "metadata": {},
   "outputs": [],
   "source": []
  },
  {
   "cell_type": "code",
   "execution_count": null,
   "id": "69aef7bd",
   "metadata": {},
   "outputs": [],
   "source": []
  },
  {
   "cell_type": "code",
   "execution_count": null,
   "id": "00e6f0fb",
   "metadata": {},
   "outputs": [],
   "source": []
  }
 ],
 "metadata": {
  "kernelspec": {
   "display_name": "Python 3 (ipykernel)",
   "language": "python",
   "name": "python3"
  },
  "language_info": {
   "codemirror_mode": {
    "name": "ipython",
    "version": 3
   },
   "file_extension": ".py",
   "mimetype": "text/x-python",
   "name": "python",
   "nbconvert_exporter": "python",
   "pygments_lexer": "ipython3",
   "version": "3.10.10"
  }
 },
 "nbformat": 4,
 "nbformat_minor": 5
}
