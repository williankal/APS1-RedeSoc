{
 "cells": [
  {
   "cell_type": "markdown",
   "id": "2792deb9",
   "metadata": {},
   "source": [
    "# DATASET: High school dynamic contact networks\n",
    "\n",
    "### Equipe: Natalia Carreras, Pedro Altobelli, Willian Kenzo\n",
    "\n",
    "## Contexto:\n",
    "\n",
    "* O dataset escolhido pelo grupo foi retirado do site sociopatterns.orgs, ele contém uma rede temporal de contatos entre estudantes de classes preparatórias em Marseilles, França. \n",
    "\n",
    "\n",
    "* Os contatos de alunos foram registrados a partir de 5 classes durante 7 dias em 2012, sendo contabilizado o contato se um aluno está localizado dentro de 1-1.5 metros de distância um do outro por mais de 20 segundos\n",
    "\n",
    "* Durante nossas análises não iremos contabilizar a quantidade de vezes que cada aluno fez contato com outro, exemplo: se Aluno X conversou com Aluno Y 3 vezes por dia, iremos utilizar apenas contatos únicos, além disso a duração de contato também não utilizaremos.\n",
    "\n",
    "\n",
    "http://www.sociopatterns.org/datasets/high-school-dynamic-contact-networks/"
   ]
  },
  {
   "cell_type": "code",
   "execution_count": 56,
   "id": "42d4c63c",
   "metadata": {},
   "outputs": [],
   "source": [
    "import netpixi #import das bibliotecas necessárias\n",
    "from netpixi.integration.gt import *\n",
    "from regression.integration.gt import *\n",
    "import pandas\n",
    "import seaborn as sns\n",
    "import matplotlib.pyplot as plt\n",
    "\n",
    "graph = Graph(directed=False) #dirigidonão\n"
   ]
  },
  {
   "cell_type": "markdown",
   "id": "a114fdd4",
   "metadata": {},
   "source": [
    "## Construção do grafo a partir do dataset\n",
    "\n",
    "* Formatação do dataset escolhido:  Tempo de contato - ID1 - ID2 - Class1 - Class2\n",
    "\n"
   ]
  },
  {
   "cell_type": "code",
   "execution_count": 46,
   "id": "3d30abdc",
   "metadata": {},
   "outputs": [
    {
     "name": "stdout",
     "output_type": "stream",
     "text": [
      "Exemplo de dados por linha:  1353303380\t1170\t1644\tMP*1\tMP*1\n",
      "\n"
     ]
    }
   ],
   "source": [
    "with open('thiers_2012.csv', \"r\") as arquivo:\n",
    "    csv_lines = arquivo.readlines()\n",
    "print(\"Exemplo de dados por linha: \",csv_lines[0])\n",
    "\n",
    "vertex = []\n",
    "edge = []\n",
    "\n",
    "for line in csv_lines:\n",
    "    split = line.split()\n",
    "    time = split[0]\n",
    "    id1 = split[1]\n",
    "    id2 = split[2]\n",
    "    class1 = split[3]\n",
    "    class2 = split[4]\n",
    "    \n",
    "    if id1 not in vertex:\n",
    "        vertex.append(id1)\n",
    "        graph.add_vertex(id1)\n",
    "        u = graph.get_vertex(id1)\n",
    "        graph.add_vp('class')\n",
    "        u['class'] = class1\n",
    "    \n",
    "    if id2 not in vertex:\n",
    "        graph.add_vertex(id2)\n",
    "        vertex.append(id2)\n",
    "        u = graph.get_vertex(id2)\n",
    "        graph.add_vp('class')\n",
    "        u['class'] = class2        \n",
    "        \n",
    "    if [id1,id2] not in edge:\n",
    "        edge.append([id1,id2])\n",
    "        edge.append([id2,id1])#ver jeito melhor\n",
    "        graph.add_edge(id1,id2)\n",
    "        "
   ]
  },
  {
   "cell_type": "markdown",
   "id": "013683f3",
   "metadata": {},
   "source": [
    "* O nosso dataset também tem um txt com o gênero de cada aluno(ID), então também foi adicionado como propriedade de vértice os gêneros."
   ]
  },
  {
   "cell_type": "code",
   "execution_count": 47,
   "id": "a5ee6b74",
   "metadata": {},
   "outputs": [],
   "source": [
    "with open('metadata_212.txt', \"r\") as arquivo:\n",
    "    data_lines = arquivo.readlines()\n",
    "\n",
    "for line in data_lines:\n",
    "    split = line.split()\n",
    "    student_id = split[0]\n",
    "    gender = split[2]\n",
    "    \n",
    "    u = graph.get_vertex(student_id)\n",
    "    graph.add_vp('gender')\n",
    "    u['gender'] = gender\n",
    "    \n",
    "gt_save(graph, '2012_class_gender.net.gz')        "
   ]
  },
  {
   "cell_type": "code",
   "execution_count": 48,
   "id": "ff662e23",
   "metadata": {},
   "outputs": [
    {
     "data": {
      "text/html": [
       "\n",
       "        <div id=\"BSmR6TvtgsU45KvriQbrCv\"></div>\n",
       "        <script>netpixi.render('BSmR6TvtgsU45KvriQbrCv', '2012_class_gender.net.gz', 1.7777777777777777, true, false, false);</script>\n",
       "    "
      ],
      "text/plain": [
       "<IPython.core.display.HTML object>"
      ]
     },
     "metadata": {},
     "output_type": "display_data"
    }
   ],
   "source": [
    "r = netpixi.render('2012_class_gender.net.gz')"
   ]
  },
  {
   "cell_type": "markdown",
   "id": "6f972a6a",
   "metadata": {},
   "source": [
    "## Análise exploratória\n",
    "\n",
    "* Número de vértices, número de arestas e densidade\n",
    "* Estatísticas"
   ]
  },
  {
   "cell_type": "code",
   "execution_count": 49,
   "id": "d90a3204",
   "metadata": {},
   "outputs": [
    {
     "name": "stdout",
     "output_type": "stream",
     "text": [
      "Número de vértices(ALunos): 180\n",
      "Número de arestas(Contatos durante a semana): 2220\n"
     ]
    }
   ],
   "source": [
    "print('Número de vértices(ALunos):', graph.num_vertices())\n",
    "print('Número de arestas(Contatos durante a semana):', graph.num_edges())"
   ]
  },
  {
   "cell_type": "markdown",
   "id": "0c1cb992",
   "metadata": {},
   "source": [
    "* Todos os vértices tem sua classe e genero como propriedade"
   ]
  },
  {
   "cell_type": "code",
   "execution_count": 50,
   "id": "96e8c9bf",
   "metadata": {},
   "outputs": [
    {
     "data": {
      "text/html": [
       "<div>\n",
       "<style scoped>\n",
       "    .dataframe tbody tr th:only-of-type {\n",
       "        vertical-align: middle;\n",
       "    }\n",
       "\n",
       "    .dataframe tbody tr th {\n",
       "        vertical-align: top;\n",
       "    }\n",
       "\n",
       "    .dataframe thead th {\n",
       "        text-align: right;\n",
       "    }\n",
       "</style>\n",
       "<table border=\"1\" class=\"dataframe\">\n",
       "  <thead>\n",
       "    <tr style=\"text-align: right;\">\n",
       "      <th></th>\n",
       "      <th>class</th>\n",
       "      <th>gender</th>\n",
       "    </tr>\n",
       "    <tr>\n",
       "      <th>id</th>\n",
       "      <th></th>\n",
       "      <th></th>\n",
       "    </tr>\n",
       "  </thead>\n",
       "  <tbody>\n",
       "    <tr>\n",
       "      <th>1170</th>\n",
       "      <td>MP*1</td>\n",
       "      <td>M</td>\n",
       "    </tr>\n",
       "    <tr>\n",
       "      <th>1644</th>\n",
       "      <td>MP*1</td>\n",
       "      <td>M</td>\n",
       "    </tr>\n",
       "    <tr>\n",
       "      <th>1613</th>\n",
       "      <td>MP*1</td>\n",
       "      <td>M</td>\n",
       "    </tr>\n",
       "    <tr>\n",
       "      <th>1181</th>\n",
       "      <td>MP*1</td>\n",
       "      <td>M</td>\n",
       "    </tr>\n",
       "    <tr>\n",
       "      <th>1651</th>\n",
       "      <td>MP*1</td>\n",
       "      <td>M</td>\n",
       "    </tr>\n",
       "    <tr>\n",
       "      <th>...</th>\n",
       "      <td>...</td>\n",
       "      <td>...</td>\n",
       "    </tr>\n",
       "    <tr>\n",
       "      <th>666</th>\n",
       "      <td>PC</td>\n",
       "      <td>M</td>\n",
       "    </tr>\n",
       "    <tr>\n",
       "      <th>881</th>\n",
       "      <td>PC*</td>\n",
       "      <td>M</td>\n",
       "    </tr>\n",
       "    <tr>\n",
       "      <th>607</th>\n",
       "      <td>PC</td>\n",
       "      <td>M</td>\n",
       "    </tr>\n",
       "    <tr>\n",
       "      <th>624</th>\n",
       "      <td>PC</td>\n",
       "      <td>M</td>\n",
       "    </tr>\n",
       "    <tr>\n",
       "      <th>633</th>\n",
       "      <td>PC</td>\n",
       "      <td>M</td>\n",
       "    </tr>\n",
       "  </tbody>\n",
       "</table>\n",
       "<p>180 rows × 2 columns</p>\n",
       "</div>"
      ],
      "text/plain": [
       "     class gender\n",
       "id               \n",
       "1170  MP*1      M\n",
       "1644  MP*1      M\n",
       "1613  MP*1      M\n",
       "1181  MP*1      M\n",
       "1651  MP*1      M\n",
       "...    ...    ...\n",
       "666     PC      M\n",
       "881    PC*      M\n",
       "607     PC      M\n",
       "624     PC      M\n",
       "633     PC      M\n",
       "\n",
       "[180 rows x 2 columns]"
      ]
     },
     "execution_count": 50,
     "metadata": {},
     "output_type": "execute_result"
    }
   ],
   "source": [
    "data = gt_data(graph)\n",
    "data"
   ]
  },
  {
   "cell_type": "markdown",
   "id": "b01201d5",
   "metadata": {},
   "source": [
    "## Degrees\n",
    "\n",
    "Por ser um grafo não direcionado, existe apenas o degree, que significa para nosso dataset a quantidade de contatos que cada aluno teve durante a semana"
   ]
  },
  {
   "cell_type": "code",
   "execution_count": 51,
   "id": "7c4f4aa4",
   "metadata": {},
   "outputs": [
    {
     "data": {
      "text/html": [
       "<div>\n",
       "<style scoped>\n",
       "    .dataframe tbody tr th:only-of-type {\n",
       "        vertical-align: middle;\n",
       "    }\n",
       "\n",
       "    .dataframe tbody tr th {\n",
       "        vertical-align: top;\n",
       "    }\n",
       "\n",
       "    .dataframe thead th {\n",
       "        text-align: right;\n",
       "    }\n",
       "</style>\n",
       "<table border=\"1\" class=\"dataframe\">\n",
       "  <thead>\n",
       "    <tr style=\"text-align: right;\">\n",
       "      <th></th>\n",
       "      <th>class</th>\n",
       "      <th>gender</th>\n",
       "      <th>degree</th>\n",
       "    </tr>\n",
       "    <tr>\n",
       "      <th>id</th>\n",
       "      <th></th>\n",
       "      <th></th>\n",
       "      <th></th>\n",
       "    </tr>\n",
       "  </thead>\n",
       "  <tbody>\n",
       "    <tr>\n",
       "      <th>1170</th>\n",
       "      <td>MP*1</td>\n",
       "      <td>M</td>\n",
       "      <td>36</td>\n",
       "    </tr>\n",
       "    <tr>\n",
       "      <th>1644</th>\n",
       "      <td>MP*1</td>\n",
       "      <td>M</td>\n",
       "      <td>33</td>\n",
       "    </tr>\n",
       "    <tr>\n",
       "      <th>1613</th>\n",
       "      <td>MP*1</td>\n",
       "      <td>M</td>\n",
       "      <td>37</td>\n",
       "    </tr>\n",
       "    <tr>\n",
       "      <th>1181</th>\n",
       "      <td>MP*1</td>\n",
       "      <td>M</td>\n",
       "      <td>32</td>\n",
       "    </tr>\n",
       "    <tr>\n",
       "      <th>1651</th>\n",
       "      <td>MP*1</td>\n",
       "      <td>M</td>\n",
       "      <td>29</td>\n",
       "    </tr>\n",
       "    <tr>\n",
       "      <th>...</th>\n",
       "      <td>...</td>\n",
       "      <td>...</td>\n",
       "      <td>...</td>\n",
       "    </tr>\n",
       "    <tr>\n",
       "      <th>666</th>\n",
       "      <td>PC</td>\n",
       "      <td>M</td>\n",
       "      <td>27</td>\n",
       "    </tr>\n",
       "    <tr>\n",
       "      <th>881</th>\n",
       "      <td>PC*</td>\n",
       "      <td>M</td>\n",
       "      <td>8</td>\n",
       "    </tr>\n",
       "    <tr>\n",
       "      <th>607</th>\n",
       "      <td>PC</td>\n",
       "      <td>M</td>\n",
       "      <td>11</td>\n",
       "    </tr>\n",
       "    <tr>\n",
       "      <th>624</th>\n",
       "      <td>PC</td>\n",
       "      <td>M</td>\n",
       "      <td>15</td>\n",
       "    </tr>\n",
       "    <tr>\n",
       "      <th>633</th>\n",
       "      <td>PC</td>\n",
       "      <td>M</td>\n",
       "      <td>14</td>\n",
       "    </tr>\n",
       "  </tbody>\n",
       "</table>\n",
       "<p>180 rows × 3 columns</p>\n",
       "</div>"
      ],
      "text/plain": [
       "     class gender  degree\n",
       "id                       \n",
       "1170  MP*1      M      36\n",
       "1644  MP*1      M      33\n",
       "1613  MP*1      M      37\n",
       "1181  MP*1      M      32\n",
       "1651  MP*1      M      29\n",
       "...    ...    ...     ...\n",
       "666     PC      M      27\n",
       "881    PC*      M       8\n",
       "607     PC      M      11\n",
       "624     PC      M      15\n",
       "633     PC      M      14\n",
       "\n",
       "[180 rows x 3 columns]"
      ]
     },
     "execution_count": 51,
     "metadata": {},
     "output_type": "execute_result"
    }
   ],
   "source": [
    "degrees = []\n",
    "for v in graph.all_vertices():\n",
    "    degrees.append(v.total_degree()) \n",
    "    \n",
    "data['degree'] = degrees\n",
    "media_degree = data['degree'].mean()\n",
    "data"
   ]
  },
  {
   "cell_type": "code",
   "execution_count": 57,
   "id": "0895cfd5",
   "metadata": {
    "scrolled": false
   },
   "outputs": [
    {
     "data": {
      "image/png": "[encoded data removed]",
      "text/plain": [
       "<Figure size 640x480 with 1 Axes>"
      ]
     },
     "metadata": {},
     "output_type": "display_data"
    }
   ],
   "source": [
    "sns.histplot(data['degree'])\n",
    "data['degree'].describe()\n",
    "\n",
    "plt.savefig('describe.png')"
   ]
  },
  {
   "cell_type": "code",
   "execution_count": null,
   "id": "ae7ea135",
   "metadata": {},
   "outputs": [],
   "source": [
    "print('Média de contatos dos alunos: ',media_degree)"
   ]
  },
  {
   "cell_type": "code",
   "execution_count": 36,
   "id": "203ee5f1",
   "metadata": {},
   "outputs": [
    {
     "data": {
      "text/plain": [
       "<AxesSubplot: xlabel='class', ylabel='count'>"
      ]
     },
     "execution_count": 36,
     "metadata": {},
     "output_type": "execute_result"
    },
    {
     "data": {
      "image/png": "[encoded data removed]",
      "text/plain": [
       "<Figure size 640x480 with 1 Axes>"
      ]
     },
     "metadata": {},
     "output_type": "display_data"
    }
   ],
   "source": [
    "data = gt_data(graph)\n",
    "data['class'].value_counts()\n",
    "sns.countplot(x=data[\"class\"])"
   ]
  },
  {
   "cell_type": "markdown",
   "id": "76c91d38",
   "metadata": {},
   "source": [
    "* As salas dos alunos são dividas em PC(Física e Química), MP(Matemática e Física) e PSI(Estudos de engenharia) e o asterisco (\\*) indica sala diferente do mesmo curso. Exemplo: COMPA, COMPB\n",
    "\n",
    "* Nota-se que as classes são focadas na área de exatas"
   ]
  },
  {
   "cell_type": "code",
   "execution_count": 37,
   "id": "9d5eab99",
   "metadata": {},
   "outputs": [
    {
     "data": {
      "text/plain": [
       "<AxesSubplot: xlabel='gender', ylabel='count'>"
      ]
     },
     "execution_count": 37,
     "metadata": {},
     "output_type": "execute_result"
    },
    {
     "data": {
      "image/png": "[encoded data removed]",
      "text/plain": [
       "<Figure size 640x480 with 1 Axes>"
      ]
     },
     "metadata": {},
     "output_type": "display_data"
    }
   ],
   "source": [
    "sns.countplot(x=data[\"gender\"])"
   ]
  },
  {
   "cell_type": "markdown",
   "id": "cf2bc111",
   "metadata": {},
   "source": [
    "* Cerca de 73% dos alunos no nosso dataset é masculino, provavelmente o motivo seja as classes sendo focadas em conteúdos de exatas, o que tem uma maioridade de homens"
   ]
  },
  {
   "cell_type": "markdown",
   "id": "c7af5968",
   "metadata": {},
   "source": [
    "## Análise visual\n",
    "\n",
    "* Utilizar um algoritmo baseado em force-directed graph drawing, para evidenciar grupos para analises\n",
    "* Deixar o grafo mais visível com o que pretendemos analsiar no momento\n",
    "\n",
    "\n",
    "O algoritmo escolhido para analisar será o ARF que ajuda a evidenciar clusters"
   ]
  },
  {
   "cell_type": "code",
   "execution_count": 38,
   "id": "3df2b0ea",
   "metadata": {
    "scrolled": true
   },
   "outputs": [
    {
     "data": {
      "text/html": [
       "\n",
       "        <div id=\"aLUK3ffTEFAbhyrNguF9gV\"></div>\n",
       "        <script>netpixi.render('aLUK3ffTEFAbhyrNguF9gV', 'arf.net.gz', 1.7777777777777777, true, false, false);</script>\n",
       "    "
      ],
      "text/plain": [
       "<IPython.core.display.HTML object>"
      ]
     },
     "metadata": {},
     "output_type": "display_data"
    }
   ],
   "source": [
    "g = gt_load('2012_class_gender.net.gz')\n",
    "m = gt_draw.arf_layout(g)\n",
    "gt_move(g, m)\n",
    "gt_save(g, 'arf.net.gz')\n",
    "netpixi.render('arf.net.gz');"
   ]
  },
  {
   "cell_type": "markdown",
   "id": "a4f9df45",
   "metadata": {},
   "source": [
    "Nota-se no grafo acima 4 grupos distintos, mas ainda não consegue-se obter mais informações sobre cada cluster em si, então para isso criaremos uma função que pode evidenciar as propriedades de cada vértice no grafo"
   ]
  },
  {
   "cell_type": "code",
   "execution_count": 39,
   "id": "31e2d2bb",
   "metadata": {},
   "outputs": [
    {
     "data": {
      "text/html": [
       "\n",
       "        <div id=\"Ufb9k93JGEnzenSYtwZ836\"></div>\n",
       "        <script>netpixi.render('Ufb9k93JGEnzenSYtwZ836', 'arf.net.gz', 1.7777777777777777, true, false, false);</script>\n",
       "    "
      ],
      "text/plain": [
       "<IPython.core.display.HTML object>"
      ]
     },
     "metadata": {},
     "output_type": "display_data"
    }
   ],
   "source": [
    "pretty = netpixi.render('arf.net.gz');\n",
    "\n",
    "def set_label_set_property(prop,label):\n",
    "    \n",
    "    for v in g.all_vertices(): \n",
    "        ver = v[prop]\n",
    "        id_v = v.get_id()\n",
    "        val_cor = 0xffffff\n",
    "        if prop == 'class':\n",
    "            if ver == \"MP*1\":\n",
    "                val_cor = 0xffd700\n",
    "            elif ver == \"PC\":\n",
    "                val_cor = 0x00ff00\n",
    "            elif ver == \"PSI*\":\n",
    "                val_cor = 0xE69138\n",
    "            elif ver == \"PC*\":\n",
    "                val_cor = 0x6AA84F\n",
    "            elif ver == \"MP*2\":\n",
    "                val_cor = 0x993399\n",
    "            else:\n",
    "                print(\"outro\")\n",
    "        elif prop == 'gender':\n",
    "            if ver == \"M\":\n",
    "                val_cor = 0x0000ff\n",
    "            elif ver == \"F\":\n",
    "                val_cor = 0xFF00D7\n",
    "            else:\n",
    "                print(\"outro\")\n",
    "        \n",
    "        pretty.vertex(id_v, color=val_cor)\n",
    "        pretty.vertex_set_key(label)\n",
    "    return None\n"
   ]
  },
  {
   "cell_type": "markdown",
   "id": "13589dca",
   "metadata": {},
   "source": [
    "A função set_label_set_property() pode ser utilizada para analisar o grafo com métricas diferentes, como se gênero influenciam nos clusters baseado"
   ]
  },
  {
   "cell_type": "code",
   "execution_count": 41,
   "id": "8c4276d8",
   "metadata": {},
   "outputs": [
    {
     "data": {
      "text/html": [
       "\n",
       "        <div id=\"3xyErmPrURzRLaHm8GYEU2\"></div>\n",
       "        <script>netpixi.call('3xyErmPrURzRLaHm8GYEU2', 'Ufb9k93JGEnzenSYtwZ836', 'changeGraph', 'eyJpZCI6ICIxMTcwIiwgInR5cGUiOiAidmVydGV4IiwgInByb3BzIjogeyJjb2xvciI6IDE2NzY2NzIwfX0K');</script>\n",
       "    "
      ],
      "text/plain": [
       "<IPython.core.display.HTML object>"
      ]
     },
     "metadata": {},
     "output_type": "display_data"
    },
    {
     "data": {
      "text/html": [
       "\n",
       "        <div id=\"NaXkLfKb43yLnQ6XzYCUcX\"></div>\n",
       "        <script>netpixi.call('NaXkLfKb43yLnQ6XzYCUcX', 'Ufb9k93JGEnzenSYtwZ836', 'setGraph', 'eyJ0eXBlIjogInZlcnRleCIsICJwcm9wcyI6IHsic3JjIjogImNsYXNzIiwgImRzdCI6ICJfa2V5In19Cg==');</script>\n",
       "    "
      ],
      "text/plain": [
       "<IPython.core.display.HTML object>"
      ]
     },
     "metadata": {},
     "output_type": "display_data"
    },
    {
     "data": {
      "text/html": [
       "\n",
       "        <div id=\"SoXFd7E95prTxxk6uNcN3V\"></div>\n",
       "        <script>netpixi.call('SoXFd7E95prTxxk6uNcN3V', 'Ufb9k93JGEnzenSYtwZ836', 'changeGraph', 'eyJpZCI6ICIxNjQ0IiwgInR5cGUiOiAidmVydGV4IiwgInByb3BzIjogeyJjb2xvciI6IDE2NzY2NzIwfX0K');</script>\n",
       "    "
      ],
      "text/plain": [
       "<IPython.core.display.HTML object>"
      ]
     },
     "metadata": {},
     "output_type": "display_data"
    },
    {
     "data": {
      "text/html": [
       "\n",
       "        <div id=\"d76PwpMPuRVHpH3qazxFNY\"></div>\n",
       "        <script>netpixi.call('d76PwpMPuRVHpH3qazxFNY', 'Ufb9k93JGEnzenSYtwZ836', 'setGraph', 'eyJ0eXBlIjogInZlcnRleCIsICJwcm9wcyI6IHsic3JjIjogImNsYXNzIiwgImRzdCI6ICJfa2V5In19Cg==');</script>\n",
       "    "
      ],
      "text/plain": [
       "<IPython.core.display.HTML object>"
      ]
     },
     "metadata": {},
     "output_type": "display_data"
    },
    {
     "data": {
      "text/html": [
       "\n",
       "        <div id=\"d8Jt2rSCjUSy4cMgFw8mYc\"></div>\n",
       "        <script>netpixi.call('d8Jt2rSCjUSy4cMgFw8mYc', 'Ufb9k93JGEnzenSYtwZ836', 'changeGraph', 'eyJpZCI6ICIxNjEzIiwgInR5cGUiOiAidmVydGV4IiwgInByb3BzIjogeyJjb2xvciI6IDE2NzY2NzIwfX0K');</script>\n",
       "    "
      ],
      "text/plain": [
       "<IPython.core.display.HTML object>"
      ]
     },
     "metadata": {},
     "output_type": "display_data"
    },
    {
     "data": {
      "text/html": [
       "\n",
       "        <div id=\"WHfhzXN2LpvHctJV9TcGvu\"></div>\n",
       "        <script>netpixi.call('WHfhzXN2LpvHctJV9TcGvu', 'Ufb9k93JGEnzenSYtwZ836', 'setGraph', 'eyJ0eXBlIjogInZlcnRleCIsICJwcm9wcyI6IHsic3JjIjogImNsYXNzIiwgImRzdCI6ICJfa2V5In19Cg==');</script>\n",
       "    "
      ],
      "text/plain": [
       "<IPython.core.display.HTML object>"
      ]
     },
     "metadata": {},
     "output_type": "display_data"
    },
    {
     "data": {
      "text/html": [
       "\n",
       "        <div id=\"Wh7jRsArQz7f9hbEiorbVQ\"></div>\n",
       "        <script>netpixi.call('Wh7jRsArQz7f9hbEiorbVQ', 'Ufb9k93JGEnzenSYtwZ836', 'changeGraph', 'eyJpZCI6ICIxMTgxIiwgInR5cGUiOiAidmVydGV4IiwgInByb3BzIjogeyJjb2xvciI6IDE2NzY2NzIwfX0K');</script>\n",
       "    "
      ],
      "text/plain": [
       "<IPython.core.display.HTML object>"
      ]
     },
     "metadata": {},
     "output_type": "display_data"
    },
    {
     "data": {
      "text/html": [
       "\n",
       "        <div id=\"RTACJdgmxM9Apz7eXDJRhN\"></div>\n",
       "        <script>netpixi.call('RTACJdgmxM9Apz7eXDJRhN', 'Ufb9k93JGEnzenSYtwZ836', 'setGraph', 'eyJ0eXBlIjogInZlcnRleCIsICJwcm9wcyI6IHsic3JjIjogImNsYXNzIiwgImRzdCI6ICJfa2V5In19Cg==');</script>\n",
       "    "
      ],
      "text/plain": [
       "<IPython.core.display.HTML object>"
      ]
     },
     "metadata": {},
     "output_type": "display_data"
    },
    {
     "data": {
      "text/html": [
       "\n",
       "        <div id=\"UrRU2rAYihaWkU5SWaYErg\"></div>\n",
       "        <script>netpixi.call('UrRU2rAYihaWkU5SWaYErg', 'Ufb9k93JGEnzenSYtwZ836', 'changeGraph', 'eyJpZCI6ICIxNjUxIiwgInR5cGUiOiAidmVydGV4IiwgInByb3BzIjogeyJjb2xvciI6IDE2NzY2NzIwfX0K');</script>\n",
       "    "
      ],
      "text/plain": [
       "<IPython.core.display.HTML object>"
      ]
     },
     "metadata": {},
     "output_type": "display_data"
    },
    {
     "data": {
      "text/html": [
       "\n",
       "        <div id=\"MahV3PiGc7F7hKXNS38Nmw\"></div>\n",
       "        <script>netpixi.call('MahV3PiGc7F7hKXNS38Nmw', 'Ufb9k93JGEnzenSYtwZ836', 'setGraph', 'eyJ0eXBlIjogInZlcnRleCIsICJwcm9wcyI6IHsic3JjIjogImNsYXNzIiwgImRzdCI6ICJfa2V5In19Cg==');</script>\n",
       "    "
      ],
      "text/plain": [
       "<IPython.core.display.HTML object>"
      ]
     },
     "metadata": {},
     "output_type": "display_data"
    },
    {
     "data": {
      "text/html": [
       "\n",
       "        <div id=\"BAxRbfrDYVyq3b3qqT4KG3\"></div>\n",
       "        <script>netpixi.call('BAxRbfrDYVyq3b3qqT4KG3', 'Ufb9k93JGEnzenSYtwZ836', 'changeGraph', 'eyJpZCI6ICIxMTA4IiwgInR5cGUiOiAidmVydGV4IiwgInByb3BzIjogeyJjb2xvciI6IDE2NzY2NzIwfX0K');</script>\n",
       "    "
      ],
      "text/plain": [
       "<IPython.core.display.HTML object>"
      ]
     },
     "metadata": {},
     "output_type": "display_data"
    },
    {
     "data": {
      "text/html": [
       "\n",
       "        <div id=\"6PrLLCEaHrzfy8pw7HJsJ6\"></div>\n",
       "        <script>netpixi.call('6PrLLCEaHrzfy8pw7HJsJ6', 'Ufb9k93JGEnzenSYtwZ836', 'setGraph', 'eyJ0eXBlIjogInZlcnRleCIsICJwcm9wcyI6IHsic3JjIjogImNsYXNzIiwgImRzdCI6ICJfa2V5In19Cg==');</script>\n",
       "    "
      ],
      "text/plain": [
       "<IPython.core.display.HTML object>"
      ]
     },
     "metadata": {},
     "output_type": "display_data"
    },
    {
     "data": {
      "text/html": [
       "\n",
       "        <div id=\"UKuXJSTAxhDHy5nWuNS6Q9\"></div>\n",
       "        <script>netpixi.call('UKuXJSTAxhDHy5nWuNS6Q9', 'Ufb9k93JGEnzenSYtwZ836', 'changeGraph', 'eyJpZCI6ICIxMTkwIiwgInR5cGUiOiAidmVydGV4IiwgInByb3BzIjogeyJjb2xvciI6IDE2NzY2NzIwfX0K');</script>\n",
       "    "
      ],
      "text/plain": [
       "<IPython.core.display.HTML object>"
      ]
     },
     "metadata": {},
     "output_type": "display_data"
    },
    {
     "data": {
      "text/html": [
       "\n",
       "        <div id=\"dnpKPQ5b3Vvob8DZifFY9e\"></div>\n",
       "        <script>netpixi.call('dnpKPQ5b3Vvob8DZifFY9e', 'Ufb9k93JGEnzenSYtwZ836', 'setGraph', 'eyJ0eXBlIjogInZlcnRleCIsICJwcm9wcyI6IHsic3JjIjogImNsYXNzIiwgImRzdCI6ICJfa2V5In19Cg==');</script>\n",
       "    "
      ],
      "text/plain": [
       "<IPython.core.display.HTML object>"
      ]
     },
     "metadata": {},
     "output_type": "display_data"
    },
    {
     "data": {
      "text/html": [
       "\n",
       "        <div id=\"nE2q49ssEnJXrhHoYp8yj6\"></div>\n",
       "        <script>netpixi.call('nE2q49ssEnJXrhHoYp8yj6', 'Ufb9k93JGEnzenSYtwZ836', 'changeGraph', 'eyJpZCI6ICIxNjcxIiwgInR5cGUiOiAidmVydGV4IiwgInByb3BzIjogeyJjb2xvciI6IDE2NzY2NzIwfX0K');</script>\n",
       "    "
      ],
      "text/plain": [
       "<IPython.core.display.HTML object>"
      ]
     },
     "metadata": {},
     "output_type": "display_data"
    },
    {
     "data": {
      "text/html": [
       "\n",
       "        <div id=\"DFHjr9hMCqvUb2TwtJysFL\"></div>\n",
       "        <script>netpixi.call('DFHjr9hMCqvUb2TwtJysFL', 'Ufb9k93JGEnzenSYtwZ836', 'setGraph', 'eyJ0eXBlIjogInZlcnRleCIsICJwcm9wcyI6IHsic3JjIjogImNsYXNzIiwgImRzdCI6ICJfa2V5In19Cg==');</script>\n",
       "    "
      ],
      "text/plain": [
       "<IPython.core.display.HTML object>"
      ]
     },
     "metadata": {},
     "output_type": "display_data"
    },
    {
     "data": {
      "text/html": [
       "\n",
       "        <div id=\"JKmB8kdgxQq8T5XRkyMYeD\"></div>\n",
       "        <script>netpixi.call('JKmB8kdgxQq8T5XRkyMYeD', 'Ufb9k93JGEnzenSYtwZ836', 'changeGraph', 'eyJpZCI6ICIxNjcyIiwgInR5cGUiOiAidmVydGV4IiwgInByb3BzIjogeyJjb2xvciI6IDE2NzY2NzIwfX0K');</script>\n",
       "    "
      ],
      "text/plain": [
       "<IPython.core.display.HTML object>"
      ]
     },
     "metadata": {},
     "output_type": "display_data"
    },
    {
     "data": {
      "text/html": [
       "\n",
       "        <div id=\"KftcWd6oedzAk5AcpRLv2i\"></div>\n",
       "        <script>netpixi.call('KftcWd6oedzAk5AcpRLv2i', 'Ufb9k93JGEnzenSYtwZ836', 'setGraph', 'eyJ0eXBlIjogInZlcnRleCIsICJwcm9wcyI6IHsic3JjIjogImNsYXNzIiwgImRzdCI6ICJfa2V5In19Cg==');</script>\n",
       "    "
      ],
      "text/plain": [
       "<IPython.core.display.HTML object>"
      ]
     },
     "metadata": {},
     "output_type": "display_data"
    },
    {
     "data": {
      "text/html": [
       "\n",
       "        <div id=\"cZw9Q32Vbng2sBUiQAbauR\"></div>\n",
       "        <script>netpixi.call('cZw9Q32Vbng2sBUiQAbauR', 'Ufb9k93JGEnzenSYtwZ836', 'changeGraph', 'eyJpZCI6ICIxNjYwIiwgInR5cGUiOiAidmVydGV4IiwgInByb3BzIjogeyJjb2xvciI6IDE2NzY2NzIwfX0K');</script>\n",
       "    "
      ],
      "text/plain": [
       "<IPython.core.display.HTML object>"
      ]
     },
     "metadata": {},
     "output_type": "display_data"
    },
    {
     "data": {
      "text/html": [
       "\n",
       "        <div id=\"4faFV2wc7bsTrowbwRKKZG\"></div>\n",
       "        <script>netpixi.call('4faFV2wc7bsTrowbwRKKZG', 'Ufb9k93JGEnzenSYtwZ836', 'setGraph', 'eyJ0eXBlIjogInZlcnRleCIsICJwcm9wcyI6IHsic3JjIjogImNsYXNzIiwgImRzdCI6ICJfa2V5In19Cg==');</script>\n",
       "    "
      ],
      "text/plain": [
       "<IPython.core.display.HTML object>"
      ]
     },
     "metadata": {},
     "output_type": "display_data"
    },
    {
     "data": {
      "text/html": [
       "\n",
       "        <div id=\"eY9P6rkGqWTjacmPTwVxTq\"></div>\n",
       "        <script>netpixi.call('eY9P6rkGqWTjacmPTwVxTq', 'Ufb9k93JGEnzenSYtwZ836', 'changeGraph', 'eyJpZCI6ICIxNjYyIiwgInR5cGUiOiAidmVydGV4IiwgInByb3BzIjogeyJjb2xvciI6IDE2NzY2NzIwfX0K');</script>\n",
       "    "
      ],
      "text/plain": [
       "<IPython.core.display.HTML object>"
      ]
     },
     "metadata": {},
     "output_type": "display_data"
    },
    {
     "data": {
      "text/html": [
       "\n",
       "        <div id=\"7uPuJWixCfTHuJ6Ef6rwM4\"></div>\n",
       "        <script>netpixi.call('7uPuJWixCfTHuJ6Ef6rwM4', 'Ufb9k93JGEnzenSYtwZ836', 'setGraph', 'eyJ0eXBlIjogInZlcnRleCIsICJwcm9wcyI6IHsic3JjIjogImNsYXNzIiwgImRzdCI6ICJfa2V5In19Cg==');</script>\n",
       "    "
      ],
      "text/plain": [
       "<IPython.core.display.HTML object>"
      ]
     },
     "metadata": {},
     "output_type": "display_data"
    },
    {
     "data": {
      "text/html": [
       "\n",
       "        <div id=\"39EekVHrGHvyMEJEfZpoQJ\"></div>\n",
       "        <script>netpixi.call('39EekVHrGHvyMEJEfZpoQJ', 'Ufb9k93JGEnzenSYtwZ836', 'changeGraph', 'eyJpZCI6ICI4MDMiLCAidHlwZSI6ICJ2ZXJ0ZXgiLCAicHJvcHMiOiB7ImNvbG9yIjogNjk4OTkwM319Cg==');</script>\n",
       "    "
      ],
      "text/plain": [
       "<IPython.core.display.HTML object>"
      ]
     },
     "metadata": {},
     "output_type": "display_data"
    },
    {
     "data": {
      "text/html": [
       "\n",
       "        <div id=\"iVQAtomQHmYUKz3EXcjQX4\"></div>\n",
       "        <script>netpixi.call('iVQAtomQHmYUKz3EXcjQX4', 'Ufb9k93JGEnzenSYtwZ836', 'setGraph', 'eyJ0eXBlIjogInZlcnRleCIsICJwcm9wcyI6IHsic3JjIjogImNsYXNzIiwgImRzdCI6ICJfa2V5In19Cg==');</script>\n",
       "    "
      ],
      "text/plain": [
       "<IPython.core.display.HTML object>"
      ]
     },
     "metadata": {},
     "output_type": "display_data"
    },
    {
     "data": {
      "text/html": [
       "\n",
       "        <div id=\"FV3ixwbZbLDuiHiuKYypup\"></div>\n",
       "        <script>netpixi.call('FV3ixwbZbLDuiHiuKYypup', 'Ufb9k93JGEnzenSYtwZ836', 'changeGraph', 'eyJpZCI6ICI4NDkiLCAidHlwZSI6ICJ2ZXJ0ZXgiLCAicHJvcHMiOiB7ImNvbG9yIjogNjk4OTkwM319Cg==');</script>\n",
       "    "
      ],
      "text/plain": [
       "<IPython.core.display.HTML object>"
      ]
     },
     "metadata": {},
     "output_type": "display_data"
    },
    {
     "data": {
      "text/html": [
       "\n",
       "        <div id=\"BmraQRZyuyAsaGJthy2FM5\"></div>\n",
       "        <script>netpixi.call('BmraQRZyuyAsaGJthy2FM5', 'Ufb9k93JGEnzenSYtwZ836', 'setGraph', 'eyJ0eXBlIjogInZlcnRleCIsICJwcm9wcyI6IHsic3JjIjogImNsYXNzIiwgImRzdCI6ICJfa2V5In19Cg==');</script>\n",
       "    "
      ],
      "text/plain": [
       "<IPython.core.display.HTML object>"
      ]
     },
     "metadata": {},
     "output_type": "display_data"
    },
    {
     "data": {
      "text/html": [
       "\n",
       "        <div id=\"AaUaRoxxBU5XHe5WXSFaQJ\"></div>\n",
       "        <script>netpixi.call('AaUaRoxxBU5XHe5WXSFaQJ', 'Ufb9k93JGEnzenSYtwZ836', 'changeGraph', 'eyJpZCI6ICIxMTQ0IiwgInR5cGUiOiAidmVydGV4IiwgInByb3BzIjogeyJjb2xvciI6IDE2NzY2NzIwfX0K');</script>\n",
       "    "
      ],
      "text/plain": [
       "<IPython.core.display.HTML object>"
      ]
     },
     "metadata": {},
     "output_type": "display_data"
    },
    {
     "data": {
      "text/html": [
       "\n",
       "        <div id=\"8eUHuYHdqcqQiXaw7msZFa\"></div>\n",
       "        <script>netpixi.call('8eUHuYHdqcqQiXaw7msZFa', 'Ufb9k93JGEnzenSYtwZ836', 'setGraph', 'eyJ0eXBlIjogInZlcnRleCIsICJwcm9wcyI6IHsic3JjIjogImNsYXNzIiwgImRzdCI6ICJfa2V5In19Cg==');</script>\n",
       "    "
      ],
      "text/plain": [
       "<IPython.core.display.HTML object>"
      ]
     },
     "metadata": {},
     "output_type": "display_data"
    },
    {
     "data": {
      "text/html": [
       "\n",
       "        <div id=\"34h5mfi4LLY9NFnderDZc3\"></div>\n",
       "        <script>netpixi.call('34h5mfi4LLY9NFnderDZc3', 'Ufb9k93JGEnzenSYtwZ836', 'changeGraph', 'eyJpZCI6ICI2NTYiLCAidHlwZSI6ICJ2ZXJ0ZXgiLCAicHJvcHMiOiB7ImNvbG9yIjogNjUyODB9fQo=');</script>\n",
       "    "
      ],
      "text/plain": [
       "<IPython.core.display.HTML object>"
      ]
     },
     "metadata": {},
     "output_type": "display_data"
    },
    {
     "data": {
      "text/html": [
       "\n",
       "        <div id=\"5Nb5sNQhQvwnDEE7JSTcFg\"></div>\n",
       "        <script>netpixi.call('5Nb5sNQhQvwnDEE7JSTcFg', 'Ufb9k93JGEnzenSYtwZ836', 'setGraph', 'eyJ0eXBlIjogInZlcnRleCIsICJwcm9wcyI6IHsic3JjIjogImNsYXNzIiwgImRzdCI6ICJfa2V5In19Cg==');</script>\n",
       "    "
      ],
      "text/plain": [
       "<IPython.core.display.HTML object>"
      ]
     },
     "metadata": {},
     "output_type": "display_data"
    },
    {
     "data": {
      "text/html": [
       "\n",
       "        <div id=\"6LPHnFoqFz5Av8hFBHCD8P\"></div>\n",
       "        <script>netpixi.call('6LPHnFoqFz5Av8hFBHCD8P', 'Ufb9k93JGEnzenSYtwZ836', 'changeGraph', 'eyJpZCI6ICI2ODIiLCAidHlwZSI6ICJ2ZXJ0ZXgiLCAicHJvcHMiOiB7ImNvbG9yIjogNjUyODB9fQo=');</script>\n",
       "    "
      ],
      "text/plain": [
       "<IPython.core.display.HTML object>"
      ]
     },
     "metadata": {},
     "output_type": "display_data"
    },
    {
     "data": {
      "text/html": [
       "\n",
       "        <div id=\"knSBEGomZm2dBegfj5nhbo\"></div>\n",
       "        <script>netpixi.call('knSBEGomZm2dBegfj5nhbo', 'Ufb9k93JGEnzenSYtwZ836', 'setGraph', 'eyJ0eXBlIjogInZlcnRleCIsICJwcm9wcyI6IHsic3JjIjogImNsYXNzIiwgImRzdCI6ICJfa2V5In19Cg==');</script>\n",
       "    "
      ],
      "text/plain": [
       "<IPython.core.display.HTML object>"
      ]
     },
     "metadata": {},
     "output_type": "display_data"
    },
    {
     "data": {
      "text/html": [
       "\n",
       "        <div id=\"BzeGoKaHmrcPDaSkL55dbY\"></div>\n",
       "        <script>netpixi.call('BzeGoKaHmrcPDaSkL55dbY', 'Ufb9k93JGEnzenSYtwZ836', 'changeGraph', 'eyJpZCI6ICIxMTQ4IiwgInR5cGUiOiAidmVydGV4IiwgInByb3BzIjogeyJjb2xvciI6IDE2NzY2NzIwfX0K');</script>\n",
       "    "
      ],
      "text/plain": [
       "<IPython.core.display.HTML object>"
      ]
     },
     "metadata": {},
     "output_type": "display_data"
    },
    {
     "data": {
      "text/html": [
       "\n",
       "        <div id=\"3FGrVTBwxbP4AZPoxLDUL3\"></div>\n",
       "        <script>netpixi.call('3FGrVTBwxbP4AZPoxLDUL3', 'Ufb9k93JGEnzenSYtwZ836', 'setGraph', 'eyJ0eXBlIjogInZlcnRleCIsICJwcm9wcyI6IHsic3JjIjogImNsYXNzIiwgImRzdCI6ICJfa2V5In19Cg==');</script>\n",
       "    "
      ],
      "text/plain": [
       "<IPython.core.display.HTML object>"
      ]
     },
     "metadata": {},
     "output_type": "display_data"
    },
    {
     "data": {
      "text/html": [
       "\n",
       "        <div id=\"VCvwGaNY8iCyrAmfzCAFY9\"></div>\n",
       "        <script>netpixi.call('VCvwGaNY8iCyrAmfzCAFY9', 'Ufb9k93JGEnzenSYtwZ836', 'changeGraph', 'eyJpZCI6ICIxNjMyIiwgInR5cGUiOiAidmVydGV4IiwgInByb3BzIjogeyJjb2xvciI6IDE2NzY2NzIwfX0K');</script>\n",
       "    "
      ],
      "text/plain": [
       "<IPython.core.display.HTML object>"
      ]
     },
     "metadata": {},
     "output_type": "display_data"
    },
    {
     "data": {
      "text/html": [
       "\n",
       "        <div id=\"ADDVFPSCreKQTffNKuELGm\"></div>\n",
       "        <script>netpixi.call('ADDVFPSCreKQTffNKuELGm', 'Ufb9k93JGEnzenSYtwZ836', 'setGraph', 'eyJ0eXBlIjogInZlcnRleCIsICJwcm9wcyI6IHsic3JjIjogImNsYXNzIiwgImRzdCI6ICJfa2V5In19Cg==');</script>\n",
       "    "
      ],
      "text/plain": [
       "<IPython.core.display.HTML object>"
      ]
     },
     "metadata": {},
     "output_type": "display_data"
    },
    {
     "data": {
      "text/html": [
       "\n",
       "        <div id=\"batJWK32qAp6jimLmd7VQk\"></div>\n",
       "        <script>netpixi.call('batJWK32qAp6jimLmd7VQk', 'Ufb9k93JGEnzenSYtwZ836', 'changeGraph', 'eyJpZCI6ICIxNDkyIiwgInR5cGUiOiAidmVydGV4IiwgInByb3BzIjogeyJjb2xvciI6IDE2NzY2NzIwfX0K');</script>\n",
       "    "
      ],
      "text/plain": [
       "<IPython.core.display.HTML object>"
      ]
     },
     "metadata": {},
     "output_type": "display_data"
    },
    {
     "data": {
      "text/html": [
       "\n",
       "        <div id=\"aWUhJbPXbPTXmx6LpbGBiN\"></div>\n",
       "        <script>netpixi.call('aWUhJbPXbPTXmx6LpbGBiN', 'Ufb9k93JGEnzenSYtwZ836', 'setGraph', 'eyJ0eXBlIjogInZlcnRleCIsICJwcm9wcyI6IHsic3JjIjogImNsYXNzIiwgImRzdCI6ICJfa2V5In19Cg==');</script>\n",
       "    "
      ],
      "text/plain": [
       "<IPython.core.display.HTML object>"
      ]
     },
     "metadata": {},
     "output_type": "display_data"
    },
    {
     "data": {
      "text/html": [
       "\n",
       "        <div id=\"AAKfCgP2VRDEH6z2nvbQUg\"></div>\n",
       "        <script>netpixi.call('AAKfCgP2VRDEH6z2nvbQUg', 'Ufb9k93JGEnzenSYtwZ836', 'changeGraph', 'eyJpZCI6ICIxNjAxIiwgInR5cGUiOiAidmVydGV4IiwgInByb3BzIjogeyJjb2xvciI6IDE2NzY2NzIwfX0K');</script>\n",
       "    "
      ],
      "text/plain": [
       "<IPython.core.display.HTML object>"
      ]
     },
     "metadata": {},
     "output_type": "display_data"
    },
    {
     "data": {
      "text/html": [
       "\n",
       "        <div id=\"ej9K9GsxQYbgYcM3eQzenX\"></div>\n",
       "        <script>netpixi.call('ej9K9GsxQYbgYcM3eQzenX', 'Ufb9k93JGEnzenSYtwZ836', 'setGraph', 'eyJ0eXBlIjogInZlcnRleCIsICJwcm9wcyI6IHsic3JjIjogImNsYXNzIiwgImRzdCI6ICJfa2V5In19Cg==');</script>\n",
       "    "
      ],
      "text/plain": [
       "<IPython.core.display.HTML object>"
      ]
     },
     "metadata": {},
     "output_type": "display_data"
    },
    {
     "data": {
      "text/html": [
       "\n",
       "        <div id=\"9UtoPTy3VdgKGeFHfA2ULK\"></div>\n",
       "        <script>netpixi.call('9UtoPTy3VdgKGeFHfA2ULK', 'Ufb9k93JGEnzenSYtwZ836', 'changeGraph', 'eyJpZCI6ICI2MjYiLCAidHlwZSI6ICJ2ZXJ0ZXgiLCAicHJvcHMiOiB7ImNvbG9yIjogNjUyODB9fQo=');</script>\n",
       "    "
      ],
      "text/plain": [
       "<IPython.core.display.HTML object>"
      ]
     },
     "metadata": {},
     "output_type": "display_data"
    },
    {
     "data": {
      "text/html": [
       "\n",
       "        <div id=\"mztTgWcb4ac7RcVHkujj3V\"></div>\n",
       "        <script>netpixi.call('mztTgWcb4ac7RcVHkujj3V', 'Ufb9k93JGEnzenSYtwZ836', 'setGraph', 'eyJ0eXBlIjogInZlcnRleCIsICJwcm9wcyI6IHsic3JjIjogImNsYXNzIiwgImRzdCI6ICJfa2V5In19Cg==');</script>\n",
       "    "
      ],
      "text/plain": [
       "<IPython.core.display.HTML object>"
      ]
     },
     "metadata": {},
     "output_type": "display_data"
    },
    {
     "data": {
      "text/html": [
       "\n",
       "        <div id=\"Rq3rnhiRUoEJd7dbVxrZYv\"></div>\n",
       "        <script>netpixi.call('Rq3rnhiRUoEJd7dbVxrZYv', 'Ufb9k93JGEnzenSYtwZ836', 'changeGraph', 'eyJpZCI6ICI2OTgiLCAidHlwZSI6ICJ2ZXJ0ZXgiLCAicHJvcHMiOiB7ImNvbG9yIjogNjUyODB9fQo=');</script>\n",
       "    "
      ],
      "text/plain": [
       "<IPython.core.display.HTML object>"
      ]
     },
     "metadata": {},
     "output_type": "display_data"
    },
    {
     "data": {
      "text/html": [
       "\n",
       "        <div id=\"SGyhytrhuEUoGAM53fZS5y\"></div>\n",
       "        <script>netpixi.call('SGyhytrhuEUoGAM53fZS5y', 'Ufb9k93JGEnzenSYtwZ836', 'setGraph', 'eyJ0eXBlIjogInZlcnRleCIsICJwcm9wcyI6IHsic3JjIjogImNsYXNzIiwgImRzdCI6ICJfa2V5In19Cg==');</script>\n",
       "    "
      ],
      "text/plain": [
       "<IPython.core.display.HTML object>"
      ]
     },
     "metadata": {},
     "output_type": "display_data"
    },
    {
     "data": {
      "text/html": [
       "\n",
       "        <div id=\"8AsqKqCR4xzSqSaBfLjTWj\"></div>\n",
       "        <script>netpixi.call('8AsqKqCR4xzSqSaBfLjTWj', 'Ufb9k93JGEnzenSYtwZ836', 'changeGraph', 'eyJpZCI6ICI2ODMiLCAidHlwZSI6ICJ2ZXJ0ZXgiLCAicHJvcHMiOiB7ImNvbG9yIjogNjUyODB9fQo=');</script>\n",
       "    "
      ],
      "text/plain": [
       "<IPython.core.display.HTML object>"
      ]
     },
     "metadata": {},
     "output_type": "display_data"
    },
    {
     "data": {
      "text/html": [
       "\n",
       "        <div id=\"MVjaWbWRwSptFNi4T7BoDQ\"></div>\n",
       "        <script>netpixi.call('MVjaWbWRwSptFNi4T7BoDQ', 'Ufb9k93JGEnzenSYtwZ836', 'setGraph', 'eyJ0eXBlIjogInZlcnRleCIsICJwcm9wcyI6IHsic3JjIjogImNsYXNzIiwgImRzdCI6ICJfa2V5In19Cg==');</script>\n",
       "    "
      ],
      "text/plain": [
       "<IPython.core.display.HTML object>"
      ]
     },
     "metadata": {},
     "output_type": "display_data"
    },
    {
     "data": {
      "text/html": [
       "\n",
       "        <div id=\"QLbRskx7RUSutozf9Z4qz4\"></div>\n",
       "        <script>netpixi.call('QLbRskx7RUSutozf9Z4qz4', 'Ufb9k93JGEnzenSYtwZ836', 'changeGraph', 'eyJpZCI6ICI2OTIiLCAidHlwZSI6ICJ2ZXJ0ZXgiLCAicHJvcHMiOiB7ImNvbG9yIjogNjUyODB9fQo=');</script>\n",
       "    "
      ],
      "text/plain": [
       "<IPython.core.display.HTML object>"
      ]
     },
     "metadata": {},
     "output_type": "display_data"
    },
    {
     "data": {
      "text/html": [
       "\n",
       "        <div id=\"BW6GGJFgnfeCCZNjHZtp5j\"></div>\n",
       "        <script>netpixi.call('BW6GGJFgnfeCCZNjHZtp5j', 'Ufb9k93JGEnzenSYtwZ836', 'setGraph', 'eyJ0eXBlIjogInZlcnRleCIsICJwcm9wcyI6IHsic3JjIjogImNsYXNzIiwgImRzdCI6ICJfa2V5In19Cg==');</script>\n",
       "    "
      ],
      "text/plain": [
       "<IPython.core.display.HTML object>"
      ]
     },
     "metadata": {},
     "output_type": "display_data"
    },
    {
     "data": {
      "text/html": [
       "\n",
       "        <div id=\"icQqXcwYckquvAGYYCd26K\"></div>\n",
       "        <script>netpixi.call('icQqXcwYckquvAGYYCd26K', 'Ufb9k93JGEnzenSYtwZ836', 'changeGraph', 'eyJpZCI6ICI2MTAiLCAidHlwZSI6ICJ2ZXJ0ZXgiLCAicHJvcHMiOiB7ImNvbG9yIjogNjUyODB9fQo=');</script>\n",
       "    "
      ],
      "text/plain": [
       "<IPython.core.display.HTML object>"
      ]
     },
     "metadata": {},
     "output_type": "display_data"
    },
    {
     "data": {
      "text/html": [
       "\n",
       "        <div id=\"gQRPkSSnvGuzeu2kLgYHHT\"></div>\n",
       "        <script>netpixi.call('gQRPkSSnvGuzeu2kLgYHHT', 'Ufb9k93JGEnzenSYtwZ836', 'setGraph', 'eyJ0eXBlIjogInZlcnRleCIsICJwcm9wcyI6IHsic3JjIjogImNsYXNzIiwgImRzdCI6ICJfa2V5In19Cg==');</script>\n",
       "    "
      ],
      "text/plain": [
       "<IPython.core.display.HTML object>"
      ]
     },
     "metadata": {},
     "output_type": "display_data"
    },
    {
     "data": {
      "text/html": [
       "\n",
       "        <div id=\"4QEty49WMHsZht9fUcT8dC\"></div>\n",
       "        <script>netpixi.call('4QEty49WMHsZht9fUcT8dC', 'Ufb9k93JGEnzenSYtwZ836', 'changeGraph', 'eyJpZCI6ICI2MzYiLCAidHlwZSI6ICJ2ZXJ0ZXgiLCAicHJvcHMiOiB7ImNvbG9yIjogNjUyODB9fQo=');</script>\n",
       "    "
      ],
      "text/plain": [
       "<IPython.core.display.HTML object>"
      ]
     },
     "metadata": {},
     "output_type": "display_data"
    },
    {
     "data": {
      "text/html": [
       "\n",
       "        <div id=\"3scPiwbjF5az34FRVHzY8h\"></div>\n",
       "        <script>netpixi.call('3scPiwbjF5az34FRVHzY8h', 'Ufb9k93JGEnzenSYtwZ836', 'setGraph', 'eyJ0eXBlIjogInZlcnRleCIsICJwcm9wcyI6IHsic3JjIjogImNsYXNzIiwgImRzdCI6ICJfa2V5In19Cg==');</script>\n",
       "    "
      ],
      "text/plain": [
       "<IPython.core.display.HTML object>"
      ]
     },
     "metadata": {},
     "output_type": "display_data"
    },
    {
     "data": {
      "text/html": [
       "\n",
       "        <div id=\"RaSpuaGVtsdH3TkrrA7oTw\"></div>\n",
       "        <script>netpixi.call('RaSpuaGVtsdH3TkrrA7oTw', 'Ufb9k93JGEnzenSYtwZ836', 'changeGraph', 'eyJpZCI6ICI2NDMiLCAidHlwZSI6ICJ2ZXJ0ZXgiLCAicHJvcHMiOiB7ImNvbG9yIjogNjUyODB9fQo=');</script>\n",
       "    "
      ],
      "text/plain": [
       "<IPython.core.display.HTML object>"
      ]
     },
     "metadata": {},
     "output_type": "display_data"
    },
    {
     "data": {
      "text/html": [
       "\n",
       "        <div id=\"maFLMm4UJ27XerxxvHcTJJ\"></div>\n",
       "        <script>netpixi.call('maFLMm4UJ27XerxxvHcTJJ', 'Ufb9k93JGEnzenSYtwZ836', 'setGraph', 'eyJ0eXBlIjogInZlcnRleCIsICJwcm9wcyI6IHsic3JjIjogImNsYXNzIiwgImRzdCI6ICJfa2V5In19Cg==');</script>\n",
       "    "
      ],
      "text/plain": [
       "<IPython.core.display.HTML object>"
      ]
     },
     "metadata": {},
     "output_type": "display_data"
    },
    {
     "data": {
      "text/html": [
       "\n",
       "        <div id=\"ZpGMkZD9ABnxZL2sEwhNiw\"></div>\n",
       "        <script>netpixi.call('ZpGMkZD9ABnxZL2sEwhNiw', 'Ufb9k93JGEnzenSYtwZ836', 'changeGraph', 'eyJpZCI6ICI2NTQiLCAidHlwZSI6ICJ2ZXJ0ZXgiLCAicHJvcHMiOiB7ImNvbG9yIjogNjUyODB9fQo=');</script>\n",
       "    "
      ],
      "text/plain": [
       "<IPython.core.display.HTML object>"
      ]
     },
     "metadata": {},
     "output_type": "display_data"
    },
    {
     "data": {
      "text/html": [
       "\n",
       "        <div id=\"hKSJsGNEs8uiHRyiKHmnCU\"></div>\n",
       "        <script>netpixi.call('hKSJsGNEs8uiHRyiKHmnCU', 'Ufb9k93JGEnzenSYtwZ836', 'setGraph', 'eyJ0eXBlIjogInZlcnRleCIsICJwcm9wcyI6IHsic3JjIjogImNsYXNzIiwgImRzdCI6ICJfa2V5In19Cg==');</script>\n",
       "    "
      ],
      "text/plain": [
       "<IPython.core.display.HTML object>"
      ]
     },
     "metadata": {},
     "output_type": "display_data"
    },
    {
     "data": {
      "text/html": [
       "\n",
       "        <div id=\"jwDoLpghngAj8VxJFjf4gB\"></div>\n",
       "        <script>netpixi.call('jwDoLpghngAj8VxJFjf4gB', 'Ufb9k93JGEnzenSYtwZ836', 'changeGraph', 'eyJpZCI6ICI2OTQiLCAidHlwZSI6ICJ2ZXJ0ZXgiLCAicHJvcHMiOiB7ImNvbG9yIjogNjUyODB9fQo=');</script>\n",
       "    "
      ],
      "text/plain": [
       "<IPython.core.display.HTML object>"
      ]
     },
     "metadata": {},
     "output_type": "display_data"
    },
    {
     "data": {
      "text/html": [
       "\n",
       "        <div id=\"ECkEMx5DJFgKTaYB4Mvsdy\"></div>\n",
       "        <script>netpixi.call('ECkEMx5DJFgKTaYB4Mvsdy', 'Ufb9k93JGEnzenSYtwZ836', 'setGraph', 'eyJ0eXBlIjogInZlcnRleCIsICJwcm9wcyI6IHsic3JjIjogImNsYXNzIiwgImRzdCI6ICJfa2V5In19Cg==');</script>\n",
       "    "
      ],
      "text/plain": [
       "<IPython.core.display.HTML object>"
      ]
     },
     "metadata": {},
     "output_type": "display_data"
    },
    {
     "data": {
      "text/html": [
       "\n",
       "        <div id=\"V9Pkzd8ijqp4GZ9ShAFLoL\"></div>\n",
       "        <script>netpixi.call('V9Pkzd8ijqp4GZ9ShAFLoL', 'Ufb9k93JGEnzenSYtwZ836', 'changeGraph', 'eyJpZCI6ICI2MjMiLCAidHlwZSI6ICJ2ZXJ0ZXgiLCAicHJvcHMiOiB7ImNvbG9yIjogNjUyODB9fQo=');</script>\n",
       "    "
      ],
      "text/plain": [
       "<IPython.core.display.HTML object>"
      ]
     },
     "metadata": {},
     "output_type": "display_data"
    },
    {
     "data": {
      "text/html": [
       "\n",
       "        <div id=\"43Wpat6nqCuDdgBL93xR8R\"></div>\n",
       "        <script>netpixi.call('43Wpat6nqCuDdgBL93xR8R', 'Ufb9k93JGEnzenSYtwZ836', 'setGraph', 'eyJ0eXBlIjogInZlcnRleCIsICJwcm9wcyI6IHsic3JjIjogImNsYXNzIiwgImRzdCI6ICJfa2V5In19Cg==');</script>\n",
       "    "
      ],
      "text/plain": [
       "<IPython.core.display.HTML object>"
      ]
     },
     "metadata": {},
     "output_type": "display_data"
    },
    {
     "data": {
      "text/html": [
       "\n",
       "        <div id=\"545H2feTiJF5XomCERHc6L\"></div>\n",
       "        <script>netpixi.call('545H2feTiJF5XomCERHc6L', 'Ufb9k93JGEnzenSYtwZ836', 'changeGraph', 'eyJpZCI6ICI2NTIiLCAidHlwZSI6ICJ2ZXJ0ZXgiLCAicHJvcHMiOiB7ImNvbG9yIjogNjUyODB9fQo=');</script>\n",
       "    "
      ],
      "text/plain": [
       "<IPython.core.display.HTML object>"
      ]
     },
     "metadata": {},
     "output_type": "display_data"
    },
    {
     "data": {
      "text/html": [
       "\n",
       "        <div id=\"eNAgBCaxyJqRnYGitXZcmQ\"></div>\n",
       "        <script>netpixi.call('eNAgBCaxyJqRnYGitXZcmQ', 'Ufb9k93JGEnzenSYtwZ836', 'setGraph', 'eyJ0eXBlIjogInZlcnRleCIsICJwcm9wcyI6IHsic3JjIjogImNsYXNzIiwgImRzdCI6ICJfa2V5In19Cg==');</script>\n",
       "    "
      ],
      "text/plain": [
       "<IPython.core.display.HTML object>"
      ]
     },
     "metadata": {},
     "output_type": "display_data"
    },
    {
     "data": {
      "text/html": [
       "\n",
       "        <div id=\"jqHHUgKsEz77qteN7AGqJq\"></div>\n",
       "        <script>netpixi.call('jqHHUgKsEz77qteN7AGqJq', 'Ufb9k93JGEnzenSYtwZ836', 'changeGraph', 'eyJpZCI6ICI2NjEiLCAidHlwZSI6ICJ2ZXJ0ZXgiLCAicHJvcHMiOiB7ImNvbG9yIjogNjUyODB9fQo=');</script>\n",
       "    "
      ],
      "text/plain": [
       "<IPython.core.display.HTML object>"
      ]
     },
     "metadata": {},
     "output_type": "display_data"
    },
    {
     "data": {
      "text/html": [
       "\n",
       "        <div id=\"8PFPmchDD6jdKDnj7saVMg\"></div>\n",
       "        <script>netpixi.call('8PFPmchDD6jdKDnj7saVMg', 'Ufb9k93JGEnzenSYtwZ836', 'setGraph', 'eyJ0eXBlIjogInZlcnRleCIsICJwcm9wcyI6IHsic3JjIjogImNsYXNzIiwgImRzdCI6ICJfa2V5In19Cg==');</script>\n",
       "    "
      ],
      "text/plain": [
       "<IPython.core.display.HTML object>"
      ]
     },
     "metadata": {},
     "output_type": "display_data"
    },
    {
     "data": {
      "text/html": [
       "\n",
       "        <div id=\"U8YDCYarMnW4a5bXwwJgB4\"></div>\n",
       "        <script>netpixi.call('U8YDCYarMnW4a5bXwwJgB4', 'Ufb9k93JGEnzenSYtwZ836', 'changeGraph', 'eyJpZCI6ICI2MTYiLCAidHlwZSI6ICJ2ZXJ0ZXgiLCAicHJvcHMiOiB7ImNvbG9yIjogNjUyODB9fQo=');</script>\n",
       "    "
      ],
      "text/plain": [
       "<IPython.core.display.HTML object>"
      ]
     },
     "metadata": {},
     "output_type": "display_data"
    },
    {
     "data": {
      "text/html": [
       "\n",
       "        <div id=\"5kvEdQAkdPiqxEnvWMgrqk\"></div>\n",
       "        <script>netpixi.call('5kvEdQAkdPiqxEnvWMgrqk', 'Ufb9k93JGEnzenSYtwZ836', 'setGraph', 'eyJ0eXBlIjogInZlcnRleCIsICJwcm9wcyI6IHsic3JjIjogImNsYXNzIiwgImRzdCI6ICJfa2V5In19Cg==');</script>\n",
       "    "
      ],
      "text/plain": [
       "<IPython.core.display.HTML object>"
      ]
     },
     "metadata": {},
     "output_type": "display_data"
    },
    {
     "data": {
      "text/html": [
       "\n",
       "        <div id=\"72MEL2vuhF49nJBPu7yNLj\"></div>\n",
       "        <script>netpixi.call('72MEL2vuhF49nJBPu7yNLj', 'Ufb9k93JGEnzenSYtwZ836', 'changeGraph', 'eyJpZCI6ICI2MTMiLCAidHlwZSI6ICJ2ZXJ0ZXgiLCAicHJvcHMiOiB7ImNvbG9yIjogNjUyODB9fQo=');</script>\n",
       "    "
      ],
      "text/plain": [
       "<IPython.core.display.HTML object>"
      ]
     },
     "metadata": {},
     "output_type": "display_data"
    },
    {
     "data": {
      "text/html": [
       "\n",
       "        <div id=\"MqoJkKnUpo5jacWx3VL2DB\"></div>\n",
       "        <script>netpixi.call('MqoJkKnUpo5jacWx3VL2DB', 'Ufb9k93JGEnzenSYtwZ836', 'setGraph', 'eyJ0eXBlIjogInZlcnRleCIsICJwcm9wcyI6IHsic3JjIjogImNsYXNzIiwgImRzdCI6ICJfa2V5In19Cg==');</script>\n",
       "    "
      ],
      "text/plain": [
       "<IPython.core.display.HTML object>"
      ]
     },
     "metadata": {},
     "output_type": "display_data"
    },
    {
     "data": {
      "text/html": [
       "\n",
       "        <div id=\"PCSypaPKamWuZkza6AL63X\"></div>\n",
       "        <script>netpixi.call('PCSypaPKamWuZkza6AL63X', 'Ufb9k93JGEnzenSYtwZ836', 'changeGraph', 'eyJpZCI6ICI2NTgiLCAidHlwZSI6ICJ2ZXJ0ZXgiLCAicHJvcHMiOiB7ImNvbG9yIjogNjUyODB9fQo=');</script>\n",
       "    "
      ],
      "text/plain": [
       "<IPython.core.display.HTML object>"
      ]
     },
     "metadata": {},
     "output_type": "display_data"
    },
    {
     "data": {
      "text/html": [
       "\n",
       "        <div id=\"bRZJsMvDW333wzMAQzLpfv\"></div>\n",
       "        <script>netpixi.call('bRZJsMvDW333wzMAQzLpfv', 'Ufb9k93JGEnzenSYtwZ836', 'setGraph', 'eyJ0eXBlIjogInZlcnRleCIsICJwcm9wcyI6IHsic3JjIjogImNsYXNzIiwgImRzdCI6ICJfa2V5In19Cg==');</script>\n",
       "    "
      ],
      "text/plain": [
       "<IPython.core.display.HTML object>"
      ]
     },
     "metadata": {},
     "output_type": "display_data"
    },
    {
     "data": {
      "text/html": [
       "\n",
       "        <div id=\"YRUsMoimJwRD75p6bJPU5i\"></div>\n",
       "        <script>netpixi.call('YRUsMoimJwRD75p6bJPU5i', 'Ufb9k93JGEnzenSYtwZ836', 'changeGraph', 'eyJpZCI6ICI2NTEiLCAidHlwZSI6ICJ2ZXJ0ZXgiLCAicHJvcHMiOiB7ImNvbG9yIjogNjUyODB9fQo=');</script>\n",
       "    "
      ],
      "text/plain": [
       "<IPython.core.display.HTML object>"
      ]
     },
     "metadata": {},
     "output_type": "display_data"
    },
    {
     "data": {
      "text/html": [
       "\n",
       "        <div id=\"Ni2gt9ifBDbNPsKuJTAKgP\"></div>\n",
       "        <script>netpixi.call('Ni2gt9ifBDbNPsKuJTAKgP', 'Ufb9k93JGEnzenSYtwZ836', 'setGraph', 'eyJ0eXBlIjogInZlcnRleCIsICJwcm9wcyI6IHsic3JjIjogImNsYXNzIiwgImRzdCI6ICJfa2V5In19Cg==');</script>\n",
       "    "
      ],
      "text/plain": [
       "<IPython.core.display.HTML object>"
      ]
     },
     "metadata": {},
     "output_type": "display_data"
    },
    {
     "data": {
      "text/html": [
       "\n",
       "        <div id=\"j44gkhfPN5VhJoma5WXC25\"></div>\n",
       "        <script>netpixi.call('j44gkhfPN5VhJoma5WXC25', 'Ufb9k93JGEnzenSYtwZ836', 'changeGraph', 'eyJpZCI6ICIxNjI5IiwgInR5cGUiOiAidmVydGV4IiwgInByb3BzIjogeyJjb2xvciI6IDE2NzY2NzIwfX0K');</script>\n",
       "    "
      ],
      "text/plain": [
       "<IPython.core.display.HTML object>"
      ]
     },
     "metadata": {},
     "output_type": "display_data"
    },
    {
     "data": {
      "text/html": [
       "\n",
       "        <div id=\"XucGFgQY9JEzw2seW2PpmW\"></div>\n",
       "        <script>netpixi.call('XucGFgQY9JEzw2seW2PpmW', 'Ufb9k93JGEnzenSYtwZ836', 'setGraph', 'eyJ0eXBlIjogInZlcnRleCIsICJwcm9wcyI6IHsic3JjIjogImNsYXNzIiwgImRzdCI6ICJfa2V5In19Cg==');</script>\n",
       "    "
      ],
      "text/plain": [
       "<IPython.core.display.HTML object>"
      ]
     },
     "metadata": {},
     "output_type": "display_data"
    },
    {
     "data": {
      "text/html": [
       "\n",
       "        <div id=\"SsnJBoKWWFp3SYrjzikXo6\"></div>\n",
       "        <script>netpixi.call('SsnJBoKWWFp3SYrjzikXo6', 'Ufb9k93JGEnzenSYtwZ836', 'changeGraph', 'eyJpZCI6ICIxMTY0IiwgInR5cGUiOiAidmVydGV4IiwgInByb3BzIjogeyJjb2xvciI6IDE2NzY2NzIwfX0K');</script>\n",
       "    "
      ],
      "text/plain": [
       "<IPython.core.display.HTML object>"
      ]
     },
     "metadata": {},
     "output_type": "display_data"
    },
    {
     "data": {
      "text/html": [
       "\n",
       "        <div id=\"R7AsNRrHCpUuR4MnW6EU6y\"></div>\n",
       "        <script>netpixi.call('R7AsNRrHCpUuR4MnW6EU6y', 'Ufb9k93JGEnzenSYtwZ836', 'setGraph', 'eyJ0eXBlIjogInZlcnRleCIsICJwcm9wcyI6IHsic3JjIjogImNsYXNzIiwgImRzdCI6ICJfa2V5In19Cg==');</script>\n",
       "    "
      ],
      "text/plain": [
       "<IPython.core.display.HTML object>"
      ]
     },
     "metadata": {},
     "output_type": "display_data"
    },
    {
     "data": {
      "text/html": [
       "\n",
       "        <div id=\"ca4JYSjbsnVdizQ22SPEpo\"></div>\n",
       "        <script>netpixi.call('ca4JYSjbsnVdizQ22SPEpo', 'Ufb9k93JGEnzenSYtwZ836', 'changeGraph', 'eyJpZCI6ICIxNjU3IiwgInR5cGUiOiAidmVydGV4IiwgInByb3BzIjogeyJjb2xvciI6IDE2NzY2NzIwfX0K');</script>\n",
       "    "
      ],
      "text/plain": [
       "<IPython.core.display.HTML object>"
      ]
     },
     "metadata": {},
     "output_type": "display_data"
    },
    {
     "data": {
      "text/html": [
       "\n",
       "        <div id=\"iCGe7krRXWaYcNaCa6tKu5\"></div>\n",
       "        <script>netpixi.call('iCGe7krRXWaYcNaCa6tKu5', 'Ufb9k93JGEnzenSYtwZ836', 'setGraph', 'eyJ0eXBlIjogInZlcnRleCIsICJwcm9wcyI6IHsic3JjIjogImNsYXNzIiwgImRzdCI6ICJfa2V5In19Cg==');</script>\n",
       "    "
      ],
      "text/plain": [
       "<IPython.core.display.HTML object>"
      ]
     },
     "metadata": {},
     "output_type": "display_data"
    },
    {
     "data": {
      "text/html": [
       "\n",
       "        <div id=\"CyEiXY7oMC5qyHoNMotCKn\"></div>\n",
       "        <script>netpixi.call('CyEiXY7oMC5qyHoNMotCKn', 'Ufb9k93JGEnzenSYtwZ836', 'changeGraph', 'eyJpZCI6ICIxNjIyIiwgInR5cGUiOiAidmVydGV4IiwgInByb3BzIjogeyJjb2xvciI6IDE2NzY2NzIwfX0K');</script>\n",
       "    "
      ],
      "text/plain": [
       "<IPython.core.display.HTML object>"
      ]
     },
     "metadata": {},
     "output_type": "display_data"
    },
    {
     "data": {
      "text/html": [
       "\n",
       "        <div id=\"msXgCVkcoDsS97FHL3of5f\"></div>\n",
       "        <script>netpixi.call('msXgCVkcoDsS97FHL3of5f', 'Ufb9k93JGEnzenSYtwZ836', 'setGraph', 'eyJ0eXBlIjogInZlcnRleCIsICJwcm9wcyI6IHsic3JjIjogImNsYXNzIiwgImRzdCI6ICJfa2V5In19Cg==');</script>\n",
       "    "
      ],
      "text/plain": [
       "<IPython.core.display.HTML object>"
      ]
     },
     "metadata": {},
     "output_type": "display_data"
    },
    {
     "data": {
      "text/html": [
       "\n",
       "        <div id=\"XWdgKurVJBAmQUSSuPgNRo\"></div>\n",
       "        <script>netpixi.call('XWdgKurVJBAmQUSSuPgNRo', 'Ufb9k93JGEnzenSYtwZ836', 'changeGraph', 'eyJpZCI6ICIxNjU4IiwgInR5cGUiOiAidmVydGV4IiwgInByb3BzIjogeyJjb2xvciI6IDE2NzY2NzIwfX0K');</script>\n",
       "    "
      ],
      "text/plain": [
       "<IPython.core.display.HTML object>"
      ]
     },
     "metadata": {},
     "output_type": "display_data"
    },
    {
     "data": {
      "text/html": [
       "\n",
       "        <div id=\"kp9Uoqt8z4MxLeexWCYuuZ\"></div>\n",
       "        <script>netpixi.call('kp9Uoqt8z4MxLeexWCYuuZ', 'Ufb9k93JGEnzenSYtwZ836', 'setGraph', 'eyJ0eXBlIjogInZlcnRleCIsICJwcm9wcyI6IHsic3JjIjogImNsYXNzIiwgImRzdCI6ICJfa2V5In19Cg==');</script>\n",
       "    "
      ],
      "text/plain": [
       "<IPython.core.display.HTML object>"
      ]
     },
     "metadata": {},
     "output_type": "display_data"
    },
    {
     "data": {
      "text/html": [
       "\n",
       "        <div id=\"3tCNivdeTrayRqCJQVLuqf\"></div>\n",
       "        <script>netpixi.call('3tCNivdeTrayRqCJQVLuqf', 'Ufb9k93JGEnzenSYtwZ836', 'changeGraph', 'eyJpZCI6ICIxNjc5IiwgInR5cGUiOiAidmVydGV4IiwgInByb3BzIjogeyJjb2xvciI6IDE2NzY2NzIwfX0K');</script>\n",
       "    "
      ],
      "text/plain": [
       "<IPython.core.display.HTML object>"
      ]
     },
     "metadata": {},
     "output_type": "display_data"
    },
    {
     "data": {
      "text/html": [
       "\n",
       "        <div id=\"UUc6rZDmJLNwJS7repm597\"></div>\n",
       "        <script>netpixi.call('UUc6rZDmJLNwJS7repm597', 'Ufb9k93JGEnzenSYtwZ836', 'setGraph', 'eyJ0eXBlIjogInZlcnRleCIsICJwcm9wcyI6IHsic3JjIjogImNsYXNzIiwgImRzdCI6ICJfa2V5In19Cg==');</script>\n",
       "    "
      ],
      "text/plain": [
       "<IPython.core.display.HTML object>"
      ]
     },
     "metadata": {},
     "output_type": "display_data"
    },
    {
     "data": {
      "text/html": [
       "\n",
       "        <div id=\"hKH6LxFGm9co6zSmWJxCHC\"></div>\n",
       "        <script>netpixi.call('hKH6LxFGm9co6zSmWJxCHC', 'Ufb9k93JGEnzenSYtwZ836', 'changeGraph', 'eyJpZCI6ICIxNjc0IiwgInR5cGUiOiAidmVydGV4IiwgInByb3BzIjogeyJjb2xvciI6IDE2NzY2NzIwfX0K');</script>\n",
       "    "
      ],
      "text/plain": [
       "<IPython.core.display.HTML object>"
      ]
     },
     "metadata": {},
     "output_type": "display_data"
    },
    {
     "data": {
      "text/html": [
       "\n",
       "        <div id=\"FcE8mEaK8RYFos7uqe7Y5x\"></div>\n",
       "        <script>netpixi.call('FcE8mEaK8RYFos7uqe7Y5x', 'Ufb9k93JGEnzenSYtwZ836', 'setGraph', 'eyJ0eXBlIjogInZlcnRleCIsICJwcm9wcyI6IHsic3JjIjogImNsYXNzIiwgImRzdCI6ICJfa2V5In19Cg==');</script>\n",
       "    "
      ],
      "text/plain": [
       "<IPython.core.display.HTML object>"
      ]
     },
     "metadata": {},
     "output_type": "display_data"
    },
    {
     "data": {
      "text/html": [
       "\n",
       "        <div id=\"JLpRBhw8aW9LjVsQtkoat9\"></div>\n",
       "        <script>netpixi.call('JLpRBhw8aW9LjVsQtkoat9', 'Ufb9k93JGEnzenSYtwZ836', 'changeGraph', 'eyJpZCI6ICI2MDkiLCAidHlwZSI6ICJ2ZXJ0ZXgiLCAicHJvcHMiOiB7ImNvbG9yIjogNjUyODB9fQo=');</script>\n",
       "    "
      ],
      "text/plain": [
       "<IPython.core.display.HTML object>"
      ]
     },
     "metadata": {},
     "output_type": "display_data"
    },
    {
     "data": {
      "text/html": [
       "\n",
       "        <div id=\"3GJY4MqXbwzYejkohXFdQZ\"></div>\n",
       "        <script>netpixi.call('3GJY4MqXbwzYejkohXFdQZ', 'Ufb9k93JGEnzenSYtwZ836', 'setGraph', 'eyJ0eXBlIjogInZlcnRleCIsICJwcm9wcyI6IHsic3JjIjogImNsYXNzIiwgImRzdCI6ICJfa2V5In19Cg==');</script>\n",
       "    "
      ],
      "text/plain": [
       "<IPython.core.display.HTML object>"
      ]
     },
     "metadata": {},
     "output_type": "display_data"
    },
    {
     "data": {
      "text/html": [
       "\n",
       "        <div id=\"TurXAxDJjp5rPpGXRvviCo\"></div>\n",
       "        <script>netpixi.call('TurXAxDJjp5rPpGXRvviCo', 'Ufb9k93JGEnzenSYtwZ836', 'changeGraph', 'eyJpZCI6ICI2OTAiLCAidHlwZSI6ICJ2ZXJ0ZXgiLCAicHJvcHMiOiB7ImNvbG9yIjogNjUyODB9fQo=');</script>\n",
       "    "
      ],
      "text/plain": [
       "<IPython.core.display.HTML object>"
      ]
     },
     "metadata": {},
     "output_type": "display_data"
    },
    {
     "data": {
      "text/html": [
       "\n",
       "        <div id=\"7YMd4k4pqA97esoWiRARPc\"></div>\n",
       "        <script>netpixi.call('7YMd4k4pqA97esoWiRARPc', 'Ufb9k93JGEnzenSYtwZ836', 'setGraph', 'eyJ0eXBlIjogInZlcnRleCIsICJwcm9wcyI6IHsic3JjIjogImNsYXNzIiwgImRzdCI6ICJfa2V5In19Cg==');</script>\n",
       "    "
      ],
      "text/plain": [
       "<IPython.core.display.HTML object>"
      ]
     },
     "metadata": {},
     "output_type": "display_data"
    },
    {
     "data": {
      "text/html": [
       "\n",
       "        <div id=\"RL3ivtH3hx4xuEMFnyyYeg\"></div>\n",
       "        <script>netpixi.call('RL3ivtH3hx4xuEMFnyyYeg', 'Ufb9k93JGEnzenSYtwZ836', 'changeGraph', 'eyJpZCI6ICI2MDAiLCAidHlwZSI6ICJ2ZXJ0ZXgiLCAicHJvcHMiOiB7ImNvbG9yIjogNjUyODB9fQo=');</script>\n",
       "    "
      ],
      "text/plain": [
       "<IPython.core.display.HTML object>"
      ]
     },
     "metadata": {},
     "output_type": "display_data"
    },
    {
     "data": {
      "text/html": [
       "\n",
       "        <div id=\"RcaZHtYaAZPa8zD8w8iGJG\"></div>\n",
       "        <script>netpixi.call('RcaZHtYaAZPa8zD8w8iGJG', 'Ufb9k93JGEnzenSYtwZ836', 'setGraph', 'eyJ0eXBlIjogInZlcnRleCIsICJwcm9wcyI6IHsic3JjIjogImNsYXNzIiwgImRzdCI6ICJfa2V5In19Cg==');</script>\n",
       "    "
      ],
      "text/plain": [
       "<IPython.core.display.HTML object>"
      ]
     },
     "metadata": {},
     "output_type": "display_data"
    },
    {
     "data": {
      "text/html": [
       "\n",
       "        <div id=\"5U2LADPtCNJgw2c2vt24S6\"></div>\n",
       "        <script>netpixi.call('5U2LADPtCNJgw2c2vt24S6', 'Ufb9k93JGEnzenSYtwZ836', 'changeGraph', 'eyJpZCI6ICIxNjQ5IiwgInR5cGUiOiAidmVydGV4IiwgInByb3BzIjogeyJjb2xvciI6IDE2NzY2NzIwfX0K');</script>\n",
       "    "
      ],
      "text/plain": [
       "<IPython.core.display.HTML object>"
      ]
     },
     "metadata": {},
     "output_type": "display_data"
    },
    {
     "data": {
      "text/html": [
       "\n",
       "        <div id=\"mLN5gde47NzvJzUnnJ72wk\"></div>\n",
       "        <script>netpixi.call('mLN5gde47NzvJzUnnJ72wk', 'Ufb9k93JGEnzenSYtwZ836', 'setGraph', 'eyJ0eXBlIjogInZlcnRleCIsICJwcm9wcyI6IHsic3JjIjogImNsYXNzIiwgImRzdCI6ICJfa2V5In19Cg==');</script>\n",
       "    "
      ],
      "text/plain": [
       "<IPython.core.display.HTML object>"
      ]
     },
     "metadata": {},
     "output_type": "display_data"
    },
    {
     "data": {
      "text/html": [
       "\n",
       "        <div id=\"BKJ2Mz5CjWXnFHDaarxZ8s\"></div>\n",
       "        <script>netpixi.call('BKJ2Mz5CjWXnFHDaarxZ8s', 'Ufb9k93JGEnzenSYtwZ836', 'changeGraph', 'eyJpZCI6ICI4NTEiLCAidHlwZSI6ICJ2ZXJ0ZXgiLCAicHJvcHMiOiB7ImNvbG9yIjogMTUxMTA0NTZ9fQo=');</script>\n",
       "    "
      ],
      "text/plain": [
       "<IPython.core.display.HTML object>"
      ]
     },
     "metadata": {},
     "output_type": "display_data"
    },
    {
     "data": {
      "text/html": [
       "\n",
       "        <div id=\"m5wYD8xF4KeLb6T8aMexp6\"></div>\n",
       "        <script>netpixi.call('m5wYD8xF4KeLb6T8aMexp6', 'Ufb9k93JGEnzenSYtwZ836', 'setGraph', 'eyJ0eXBlIjogInZlcnRleCIsICJwcm9wcyI6IHsic3JjIjogImNsYXNzIiwgImRzdCI6ICJfa2V5In19Cg==');</script>\n",
       "    "
      ],
      "text/plain": [
       "<IPython.core.display.HTML object>"
      ]
     },
     "metadata": {},
     "output_type": "display_data"
    },
    {
     "data": {
      "text/html": [
       "\n",
       "        <div id=\"bVa49BqetYujektrmzS8Tt\"></div>\n",
       "        <script>netpixi.call('bVa49BqetYujektrmzS8Tt', 'Ufb9k93JGEnzenSYtwZ836', 'changeGraph', 'eyJpZCI6ICI4NTUiLCAidHlwZSI6ICJ2ZXJ0ZXgiLCAicHJvcHMiOiB7ImNvbG9yIjogMTUxMTA0NTZ9fQo=');</script>\n",
       "    "
      ],
      "text/plain": [
       "<IPython.core.display.HTML object>"
      ]
     },
     "metadata": {},
     "output_type": "display_data"
    },
    {
     "data": {
      "text/html": [
       "\n",
       "        <div id=\"YToKrTW4p2XnMi7CHqBsQm\"></div>\n",
       "        <script>netpixi.call('YToKrTW4p2XnMi7CHqBsQm', 'Ufb9k93JGEnzenSYtwZ836', 'setGraph', 'eyJ0eXBlIjogInZlcnRleCIsICJwcm9wcyI6IHsic3JjIjogImNsYXNzIiwgImRzdCI6ICJfa2V5In19Cg==');</script>\n",
       "    "
      ],
      "text/plain": [
       "<IPython.core.display.HTML object>"
      ]
     },
     "metadata": {},
     "output_type": "display_data"
    },
    {
     "data": {
      "text/html": [
       "\n",
       "        <div id=\"PkeUcA8RNbBAdSuRUhCP7c\"></div>\n",
       "        <script>netpixi.call('PkeUcA8RNbBAdSuRUhCP7c', 'Ufb9k93JGEnzenSYtwZ836', 'changeGraph', 'eyJpZCI6ICI4NDEiLCAidHlwZSI6ICJ2ZXJ0ZXgiLCAicHJvcHMiOiB7ImNvbG9yIjogMTUxMTA0NTZ9fQo=');</script>\n",
       "    "
      ],
      "text/plain": [
       "<IPython.core.display.HTML object>"
      ]
     },
     "metadata": {},
     "output_type": "display_data"
    },
    {
     "data": {
      "text/html": [
       "\n",
       "        <div id=\"gZ3Evb7EFKphtimeiog4Cn\"></div>\n",
       "        <script>netpixi.call('gZ3Evb7EFKphtimeiog4Cn', 'Ufb9k93JGEnzenSYtwZ836', 'setGraph', 'eyJ0eXBlIjogInZlcnRleCIsICJwcm9wcyI6IHsic3JjIjogImNsYXNzIiwgImRzdCI6ICJfa2V5In19Cg==');</script>\n",
       "    "
      ],
      "text/plain": [
       "<IPython.core.display.HTML object>"
      ]
     },
     "metadata": {},
     "output_type": "display_data"
    },
    {
     "data": {
      "text/html": [
       "\n",
       "        <div id=\"ctMK2HEMcRBTQo5DBovnK9\"></div>\n",
       "        <script>netpixi.call('ctMK2HEMcRBTQo5DBovnK9', 'Ufb9k93JGEnzenSYtwZ836', 'changeGraph', 'eyJpZCI6ICI4NDgiLCAidHlwZSI6ICJ2ZXJ0ZXgiLCAicHJvcHMiOiB7ImNvbG9yIjogMTUxMTA0NTZ9fQo=');</script>\n",
       "    "
      ],
      "text/plain": [
       "<IPython.core.display.HTML object>"
      ]
     },
     "metadata": {},
     "output_type": "display_data"
    },
    {
     "data": {
      "text/html": [
       "\n",
       "        <div id=\"XEMEh88hnySk5sC4RXzzxY\"></div>\n",
       "        <script>netpixi.call('XEMEh88hnySk5sC4RXzzxY', 'Ufb9k93JGEnzenSYtwZ836', 'setGraph', 'eyJ0eXBlIjogInZlcnRleCIsICJwcm9wcyI6IHsic3JjIjogImNsYXNzIiwgImRzdCI6ICJfa2V5In19Cg==');</script>\n",
       "    "
      ],
      "text/plain": [
       "<IPython.core.display.HTML object>"
      ]
     },
     "metadata": {},
     "output_type": "display_data"
    },
    {
     "data": {
      "text/html": [
       "\n",
       "        <div id=\"Ca8tktkaoVZCW4DLjirbHt\"></div>\n",
       "        <script>netpixi.call('Ca8tktkaoVZCW4DLjirbHt', 'Ufb9k93JGEnzenSYtwZ836', 'changeGraph', 'eyJpZCI6ICI4NTYiLCAidHlwZSI6ICJ2ZXJ0ZXgiLCAicHJvcHMiOiB7ImNvbG9yIjogMTUxMTA0NTZ9fQo=');</script>\n",
       "    "
      ],
      "text/plain": [
       "<IPython.core.display.HTML object>"
      ]
     },
     "metadata": {},
     "output_type": "display_data"
    },
    {
     "data": {
      "text/html": [
       "\n",
       "        <div id=\"CKTGLMt3zkPe4w29zy5iY7\"></div>\n",
       "        <script>netpixi.call('CKTGLMt3zkPe4w29zy5iY7', 'Ufb9k93JGEnzenSYtwZ836', 'setGraph', 'eyJ0eXBlIjogInZlcnRleCIsICJwcm9wcyI6IHsic3JjIjogImNsYXNzIiwgImRzdCI6ICJfa2V5In19Cg==');</script>\n",
       "    "
      ],
      "text/plain": [
       "<IPython.core.display.HTML object>"
      ]
     },
     "metadata": {},
     "output_type": "display_data"
    },
    {
     "data": {
      "text/html": [
       "\n",
       "        <div id=\"WRCyvcpYbNpBcmeS2AcTfE\"></div>\n",
       "        <script>netpixi.call('WRCyvcpYbNpBcmeS2AcTfE', 'Ufb9k93JGEnzenSYtwZ836', 'changeGraph', 'eyJpZCI6ICI4NjciLCAidHlwZSI6ICJ2ZXJ0ZXgiLCAicHJvcHMiOiB7ImNvbG9yIjogMTUxMTA0NTZ9fQo=');</script>\n",
       "    "
      ],
      "text/plain": [
       "<IPython.core.display.HTML object>"
      ]
     },
     "metadata": {},
     "output_type": "display_data"
    },
    {
     "data": {
      "text/html": [
       "\n",
       "        <div id=\"YHfbpN72zTz8UQL6DhEyLw\"></div>\n",
       "        <script>netpixi.call('YHfbpN72zTz8UQL6DhEyLw', 'Ufb9k93JGEnzenSYtwZ836', 'setGraph', 'eyJ0eXBlIjogInZlcnRleCIsICJwcm9wcyI6IHsic3JjIjogImNsYXNzIiwgImRzdCI6ICJfa2V5In19Cg==');</script>\n",
       "    "
      ],
      "text/plain": [
       "<IPython.core.display.HTML object>"
      ]
     },
     "metadata": {},
     "output_type": "display_data"
    },
    {
     "data": {
      "text/html": [
       "\n",
       "        <div id=\"CBLRajBPVRokNHj4Y3XMVx\"></div>\n",
       "        <script>netpixi.call('CBLRajBPVRokNHj4Y3XMVx', 'Ufb9k93JGEnzenSYtwZ836', 'changeGraph', 'eyJpZCI6ICI4NjgiLCAidHlwZSI6ICJ2ZXJ0ZXgiLCAicHJvcHMiOiB7ImNvbG9yIjogMTUxMTA0NTZ9fQo=');</script>\n",
       "    "
      ],
      "text/plain": [
       "<IPython.core.display.HTML object>"
      ]
     },
     "metadata": {},
     "output_type": "display_data"
    },
    {
     "data": {
      "text/html": [
       "\n",
       "        <div id=\"HoUtNzEHipP2RyTAaqfSzG\"></div>\n",
       "        <script>netpixi.call('HoUtNzEHipP2RyTAaqfSzG', 'Ufb9k93JGEnzenSYtwZ836', 'setGraph', 'eyJ0eXBlIjogInZlcnRleCIsICJwcm9wcyI6IHsic3JjIjogImNsYXNzIiwgImRzdCI6ICJfa2V5In19Cg==');</script>\n",
       "    "
      ],
      "text/plain": [
       "<IPython.core.display.HTML object>"
      ]
     },
     "metadata": {},
     "output_type": "display_data"
    },
    {
     "data": {
      "text/html": [
       "\n",
       "        <div id=\"6mn77bGQRdHgLxpADynEvp\"></div>\n",
       "        <script>netpixi.call('6mn77bGQRdHgLxpADynEvp', 'Ufb9k93JGEnzenSYtwZ836', 'changeGraph', 'eyJpZCI6ICIxNjE4IiwgInR5cGUiOiAidmVydGV4IiwgInByb3BzIjogeyJjb2xvciI6IDE2NzY2NzIwfX0K');</script>\n",
       "    "
      ],
      "text/plain": [
       "<IPython.core.display.HTML object>"
      ]
     },
     "metadata": {},
     "output_type": "display_data"
    },
    {
     "data": {
      "text/html": [
       "\n",
       "        <div id=\"dy7gWnKEXjagvbJhc5qwqM\"></div>\n",
       "        <script>netpixi.call('dy7gWnKEXjagvbJhc5qwqM', 'Ufb9k93JGEnzenSYtwZ836', 'setGraph', 'eyJ0eXBlIjogInZlcnRleCIsICJwcm9wcyI6IHsic3JjIjogImNsYXNzIiwgImRzdCI6ICJfa2V5In19Cg==');</script>\n",
       "    "
      ],
      "text/plain": [
       "<IPython.core.display.HTML object>"
      ]
     },
     "metadata": {},
     "output_type": "display_data"
    },
    {
     "data": {
      "text/html": [
       "\n",
       "        <div id=\"eKvYUm9Ny9KyQZMqkofoRz\"></div>\n",
       "        <script>netpixi.call('eKvYUm9Ny9KyQZMqkofoRz', 'Ufb9k93JGEnzenSYtwZ836', 'changeGraph', 'eyJpZCI6ICI2NjQiLCAidHlwZSI6ICJ2ZXJ0ZXgiLCAicHJvcHMiOiB7ImNvbG9yIjogMTUxMTA0NTZ9fQo=');</script>\n",
       "    "
      ],
      "text/plain": [
       "<IPython.core.display.HTML object>"
      ]
     },
     "metadata": {},
     "output_type": "display_data"
    },
    {
     "data": {
      "text/html": [
       "\n",
       "        <div id=\"7wacPiBeoZfAbGTpQBTSzN\"></div>\n",
       "        <script>netpixi.call('7wacPiBeoZfAbGTpQBTSzN', 'Ufb9k93JGEnzenSYtwZ836', 'setGraph', 'eyJ0eXBlIjogInZlcnRleCIsICJwcm9wcyI6IHsic3JjIjogImNsYXNzIiwgImRzdCI6ICJfa2V5In19Cg==');</script>\n",
       "    "
      ],
      "text/plain": [
       "<IPython.core.display.HTML object>"
      ]
     },
     "metadata": {},
     "output_type": "display_data"
    },
    {
     "data": {
      "text/html": [
       "\n",
       "        <div id=\"DwG3zYPvvd2oGP3ryTxsSi\"></div>\n",
       "        <script>netpixi.call('DwG3zYPvvd2oGP3ryTxsSi', 'Ufb9k93JGEnzenSYtwZ836', 'changeGraph', 'eyJpZCI6ICIxNjY3IiwgInR5cGUiOiAidmVydGV4IiwgInByb3BzIjogeyJjb2xvciI6IDE2NzY2NzIwfX0K');</script>\n",
       "    "
      ],
      "text/plain": [
       "<IPython.core.display.HTML object>"
      ]
     },
     "metadata": {},
     "output_type": "display_data"
    },
    {
     "data": {
      "text/html": [
       "\n",
       "        <div id=\"5hMjeVqvQD8WgvTcWqrqME\"></div>\n",
       "        <script>netpixi.call('5hMjeVqvQD8WgvTcWqrqME', 'Ufb9k93JGEnzenSYtwZ836', 'setGraph', 'eyJ0eXBlIjogInZlcnRleCIsICJwcm9wcyI6IHsic3JjIjogImNsYXNzIiwgImRzdCI6ICJfa2V5In19Cg==');</script>\n",
       "    "
      ],
      "text/plain": [
       "<IPython.core.display.HTML object>"
      ]
     },
     "metadata": {},
     "output_type": "display_data"
    },
    {
     "data": {
      "text/html": [
       "\n",
       "        <div id=\"noe8ism5Kv9PXL46b5XY7Z\"></div>\n",
       "        <script>netpixi.call('noe8ism5Kv9PXL46b5XY7Z', 'Ufb9k93JGEnzenSYtwZ836', 'changeGraph', 'eyJpZCI6ICIxNjQ1IiwgInR5cGUiOiAidmVydGV4IiwgInByb3BzIjogeyJjb2xvciI6IDE2NzY2NzIwfX0K');</script>\n",
       "    "
      ],
      "text/plain": [
       "<IPython.core.display.HTML object>"
      ]
     },
     "metadata": {},
     "output_type": "display_data"
    },
    {
     "data": {
      "text/html": [
       "\n",
       "        <div id=\"6g2vYpxxEBTw2q5eSU59Qw\"></div>\n",
       "        <script>netpixi.call('6g2vYpxxEBTw2q5eSU59Qw', 'Ufb9k93JGEnzenSYtwZ836', 'setGraph', 'eyJ0eXBlIjogInZlcnRleCIsICJwcm9wcyI6IHsic3JjIjogImNsYXNzIiwgImRzdCI6ICJfa2V5In19Cg==');</script>\n",
       "    "
      ],
      "text/plain": [
       "<IPython.core.display.HTML object>"
      ]
     },
     "metadata": {},
     "output_type": "display_data"
    },
    {
     "data": {
      "text/html": [
       "\n",
       "        <div id=\"G6TQtpx49nKvp3X2erTnZC\"></div>\n",
       "        <script>netpixi.call('G6TQtpx49nKvp3X2erTnZC', 'Ufb9k93JGEnzenSYtwZ836', 'changeGraph', 'eyJpZCI6ICI4MzAiLCAidHlwZSI6ICJ2ZXJ0ZXgiLCAicHJvcHMiOiB7ImNvbG9yIjogMTUxMTA0NTZ9fQo=');</script>\n",
       "    "
      ],
      "text/plain": [
       "<IPython.core.display.HTML object>"
      ]
     },
     "metadata": {},
     "output_type": "display_data"
    },
    {
     "data": {
      "text/html": [
       "\n",
       "        <div id=\"g5akJQwqbMMCGJMV5hHDMf\"></div>\n",
       "        <script>netpixi.call('g5akJQwqbMMCGJMV5hHDMf', 'Ufb9k93JGEnzenSYtwZ836', 'setGraph', 'eyJ0eXBlIjogInZlcnRleCIsICJwcm9wcyI6IHsic3JjIjogImNsYXNzIiwgImRzdCI6ICJfa2V5In19Cg==');</script>\n",
       "    "
      ],
      "text/plain": [
       "<IPython.core.display.HTML object>"
      ]
     },
     "metadata": {},
     "output_type": "display_data"
    },
    {
     "data": {
      "text/html": [
       "\n",
       "        <div id=\"S4EPuMemV9FyJibafgaoN6\"></div>\n",
       "        <script>netpixi.call('S4EPuMemV9FyJibafgaoN6', 'Ufb9k93JGEnzenSYtwZ836', 'changeGraph', 'eyJpZCI6ICI4MzQiLCAidHlwZSI6ICJ2ZXJ0ZXgiLCAicHJvcHMiOiB7ImNvbG9yIjogMTUxMTA0NTZ9fQo=');</script>\n",
       "    "
      ],
      "text/plain": [
       "<IPython.core.display.HTML object>"
      ]
     },
     "metadata": {},
     "output_type": "display_data"
    },
    {
     "data": {
      "text/html": [
       "\n",
       "        <div id=\"hKdFy37ENFpr9uXm2PbtRC\"></div>\n",
       "        <script>netpixi.call('hKdFy37ENFpr9uXm2PbtRC', 'Ufb9k93JGEnzenSYtwZ836', 'setGraph', 'eyJ0eXBlIjogInZlcnRleCIsICJwcm9wcyI6IHsic3JjIjogImNsYXNzIiwgImRzdCI6ICJfa2V5In19Cg==');</script>\n",
       "    "
      ],
      "text/plain": [
       "<IPython.core.display.HTML object>"
      ]
     },
     "metadata": {},
     "output_type": "display_data"
    },
    {
     "data": {
      "text/html": [
       "\n",
       "        <div id=\"YV4JgzPo5nNrdX2r3AfpBE\"></div>\n",
       "        <script>netpixi.call('YV4JgzPo5nNrdX2r3AfpBE', 'Ufb9k93JGEnzenSYtwZ836', 'changeGraph', 'eyJpZCI6ICI2MDEiLCAidHlwZSI6ICJ2ZXJ0ZXgiLCAicHJvcHMiOiB7ImNvbG9yIjogNjUyODB9fQo=');</script>\n",
       "    "
      ],
      "text/plain": [
       "<IPython.core.display.HTML object>"
      ]
     },
     "metadata": {},
     "output_type": "display_data"
    },
    {
     "data": {
      "text/html": [
       "\n",
       "        <div id=\"irmu9BmbfyG5p3S9Y5j343\"></div>\n",
       "        <script>netpixi.call('irmu9BmbfyG5p3S9Y5j343', 'Ufb9k93JGEnzenSYtwZ836', 'setGraph', 'eyJ0eXBlIjogInZlcnRleCIsICJwcm9wcyI6IHsic3JjIjogImNsYXNzIiwgImRzdCI6ICJfa2V5In19Cg==');</script>\n",
       "    "
      ],
      "text/plain": [
       "<IPython.core.display.HTML object>"
      ]
     },
     "metadata": {},
     "output_type": "display_data"
    },
    {
     "data": {
      "text/html": [
       "\n",
       "        <div id=\"5TtxjeoriXjPzdb3PFe9V4\"></div>\n",
       "        <script>netpixi.call('5TtxjeoriXjPzdb3PFe9V4', 'Ufb9k93JGEnzenSYtwZ836', 'changeGraph', 'eyJpZCI6ICI4MjMiLCAidHlwZSI6ICJ2ZXJ0ZXgiLCAicHJvcHMiOiB7ImNvbG9yIjogNjk4OTkwM319Cg==');</script>\n",
       "    "
      ],
      "text/plain": [
       "<IPython.core.display.HTML object>"
      ]
     },
     "metadata": {},
     "output_type": "display_data"
    },
    {
     "data": {
      "text/html": [
       "\n",
       "        <div id=\"nNzAEoXYaDmCbxPefE3y7C\"></div>\n",
       "        <script>netpixi.call('nNzAEoXYaDmCbxPefE3y7C', 'Ufb9k93JGEnzenSYtwZ836', 'setGraph', 'eyJ0eXBlIjogInZlcnRleCIsICJwcm9wcyI6IHsic3JjIjogImNsYXNzIiwgImRzdCI6ICJfa2V5In19Cg==');</script>\n",
       "    "
      ],
      "text/plain": [
       "<IPython.core.display.HTML object>"
      ]
     },
     "metadata": {},
     "output_type": "display_data"
    },
    {
     "data": {
      "text/html": [
       "\n",
       "        <div id=\"heNtn4H6wtneppLnCzVwcA\"></div>\n",
       "        <script>netpixi.call('heNtn4H6wtneppLnCzVwcA', 'Ufb9k93JGEnzenSYtwZ836', 'changeGraph', 'eyJpZCI6ICI2NjciLCAidHlwZSI6ICJ2ZXJ0ZXgiLCAicHJvcHMiOiB7ImNvbG9yIjogNjUyODB9fQo=');</script>\n",
       "    "
      ],
      "text/plain": [
       "<IPython.core.display.HTML object>"
      ]
     },
     "metadata": {},
     "output_type": "display_data"
    },
    {
     "data": {
      "text/html": [
       "\n",
       "        <div id=\"BGbFf33ZhDa9ycCg4kJFnZ\"></div>\n",
       "        <script>netpixi.call('BGbFf33ZhDa9ycCg4kJFnZ', 'Ufb9k93JGEnzenSYtwZ836', 'setGraph', 'eyJ0eXBlIjogInZlcnRleCIsICJwcm9wcyI6IHsic3JjIjogImNsYXNzIiwgImRzdCI6ICJfa2V5In19Cg==');</script>\n",
       "    "
      ],
      "text/plain": [
       "<IPython.core.display.HTML object>"
      ]
     },
     "metadata": {},
     "output_type": "display_data"
    },
    {
     "data": {
      "text/html": [
       "\n",
       "        <div id=\"Aa3d4mpoNGBkWbRMJAdo65\"></div>\n",
       "        <script>netpixi.call('Aa3d4mpoNGBkWbRMJAdo65', 'Ufb9k93JGEnzenSYtwZ836', 'changeGraph', 'eyJpZCI6ICI2MzQiLCAidHlwZSI6ICJ2ZXJ0ZXgiLCAicHJvcHMiOiB7ImNvbG9yIjogMTUxMTA0NTZ9fQo=');</script>\n",
       "    "
      ],
      "text/plain": [
       "<IPython.core.display.HTML object>"
      ]
     },
     "metadata": {},
     "output_type": "display_data"
    },
    {
     "data": {
      "text/html": [
       "\n",
       "        <div id=\"ckQdh7WLrZUjipyTs8FKic\"></div>\n",
       "        <script>netpixi.call('ckQdh7WLrZUjipyTs8FKic', 'Ufb9k93JGEnzenSYtwZ836', 'setGraph', 'eyJ0eXBlIjogInZlcnRleCIsICJwcm9wcyI6IHsic3JjIjogImNsYXNzIiwgImRzdCI6ICJfa2V5In19Cg==');</script>\n",
       "    "
      ],
      "text/plain": [
       "<IPython.core.display.HTML object>"
      ]
     },
     "metadata": {},
     "output_type": "display_data"
    },
    {
     "data": {
      "text/html": [
       "\n",
       "        <div id=\"nynTckBGxRNhVstHkr7eH5\"></div>\n",
       "        <script>netpixi.call('nynTckBGxRNhVstHkr7eH5', 'Ufb9k93JGEnzenSYtwZ836', 'changeGraph', 'eyJpZCI6ICI4OTQiLCAidHlwZSI6ICJ2ZXJ0ZXgiLCAicHJvcHMiOiB7ImNvbG9yIjogNjk4OTkwM319Cg==');</script>\n",
       "    "
      ],
      "text/plain": [
       "<IPython.core.display.HTML object>"
      ]
     },
     "metadata": {},
     "output_type": "display_data"
    },
    {
     "data": {
      "text/html": [
       "\n",
       "        <div id=\"iw3gjZ8ZQrTFULS8n6HPJc\"></div>\n",
       "        <script>netpixi.call('iw3gjZ8ZQrTFULS8n6HPJc', 'Ufb9k93JGEnzenSYtwZ836', 'setGraph', 'eyJ0eXBlIjogInZlcnRleCIsICJwcm9wcyI6IHsic3JjIjogImNsYXNzIiwgImRzdCI6ICJfa2V5In19Cg==');</script>\n",
       "    "
      ],
      "text/plain": [
       "<IPython.core.display.HTML object>"
      ]
     },
     "metadata": {},
     "output_type": "display_data"
    },
    {
     "data": {
      "text/html": [
       "\n",
       "        <div id=\"hTEGcE3wcYfXGYwiKpCa7E\"></div>\n",
       "        <script>netpixi.call('hTEGcE3wcYfXGYwiKpCa7E', 'Ufb9k93JGEnzenSYtwZ836', 'changeGraph', 'eyJpZCI6ICI4OTYiLCAidHlwZSI6ICJ2ZXJ0ZXgiLCAicHJvcHMiOiB7ImNvbG9yIjogNjk4OTkwM319Cg==');</script>\n",
       "    "
      ],
      "text/plain": [
       "<IPython.core.display.HTML object>"
      ]
     },
     "metadata": {},
     "output_type": "display_data"
    },
    {
     "data": {
      "text/html": [
       "\n",
       "        <div id=\"cH2CgCe5miaRMWAnWMkkTk\"></div>\n",
       "        <script>netpixi.call('cH2CgCe5miaRMWAnWMkkTk', 'Ufb9k93JGEnzenSYtwZ836', 'setGraph', 'eyJ0eXBlIjogInZlcnRleCIsICJwcm9wcyI6IHsic3JjIjogImNsYXNzIiwgImRzdCI6ICJfa2V5In19Cg==');</script>\n",
       "    "
      ],
      "text/plain": [
       "<IPython.core.display.HTML object>"
      ]
     },
     "metadata": {},
     "output_type": "display_data"
    },
    {
     "data": {
      "text/html": [
       "\n",
       "        <div id=\"E7ysVg5YUW3hnCGBEEaYoM\"></div>\n",
       "        <script>netpixi.call('E7ysVg5YUW3hnCGBEEaYoM', 'Ufb9k93JGEnzenSYtwZ836', 'changeGraph', 'eyJpZCI6ICI4NTMiLCAidHlwZSI6ICJ2ZXJ0ZXgiLCAicHJvcHMiOiB7ImNvbG9yIjogMTUxMTA0NTZ9fQo=');</script>\n",
       "    "
      ],
      "text/plain": [
       "<IPython.core.display.HTML object>"
      ]
     },
     "metadata": {},
     "output_type": "display_data"
    },
    {
     "data": {
      "text/html": [
       "\n",
       "        <div id=\"ZUW2XYv3XRLscWbw3zmncb\"></div>\n",
       "        <script>netpixi.call('ZUW2XYv3XRLscWbw3zmncb', 'Ufb9k93JGEnzenSYtwZ836', 'setGraph', 'eyJ0eXBlIjogInZlcnRleCIsICJwcm9wcyI6IHsic3JjIjogImNsYXNzIiwgImRzdCI6ICJfa2V5In19Cg==');</script>\n",
       "    "
      ],
      "text/plain": [
       "<IPython.core.display.HTML object>"
      ]
     },
     "metadata": {},
     "output_type": "display_data"
    },
    {
     "data": {
      "text/html": [
       "\n",
       "        <div id=\"UgnZuCWsyGw4AzmZWhjSFo\"></div>\n",
       "        <script>netpixi.call('UgnZuCWsyGw4AzmZWhjSFo', 'Ufb9k93JGEnzenSYtwZ836', 'changeGraph', 'eyJpZCI6ICI4OTIiLCAidHlwZSI6ICJ2ZXJ0ZXgiLCAicHJvcHMiOiB7ImNvbG9yIjogNjk4OTkwM319Cg==');</script>\n",
       "    "
      ],
      "text/plain": [
       "<IPython.core.display.HTML object>"
      ]
     },
     "metadata": {},
     "output_type": "display_data"
    },
    {
     "data": {
      "text/html": [
       "\n",
       "        <div id=\"jrQbjVTsMSpDaxCSXq4WZN\"></div>\n",
       "        <script>netpixi.call('jrQbjVTsMSpDaxCSXq4WZN', 'Ufb9k93JGEnzenSYtwZ836', 'setGraph', 'eyJ0eXBlIjogInZlcnRleCIsICJwcm9wcyI6IHsic3JjIjogImNsYXNzIiwgImRzdCI6ICJfa2V5In19Cg==');</script>\n",
       "    "
      ],
      "text/plain": [
       "<IPython.core.display.HTML object>"
      ]
     },
     "metadata": {},
     "output_type": "display_data"
    },
    {
     "data": {
      "text/html": [
       "\n",
       "        <div id=\"XY4skZ4ZGxCSQyaY4sjBoS\"></div>\n",
       "        <script>netpixi.call('XY4skZ4ZGxCSQyaY4sjBoS', 'Ufb9k93JGEnzenSYtwZ836', 'changeGraph', 'eyJpZCI6ICI4NjQiLCAidHlwZSI6ICJ2ZXJ0ZXgiLCAicHJvcHMiOiB7ImNvbG9yIjogMTUxMTA0NTZ9fQo=');</script>\n",
       "    "
      ],
      "text/plain": [
       "<IPython.core.display.HTML object>"
      ]
     },
     "metadata": {},
     "output_type": "display_data"
    },
    {
     "data": {
      "text/html": [
       "\n",
       "        <div id=\"4xjWtoD7D3DrV6sZmmDrZV\"></div>\n",
       "        <script>netpixi.call('4xjWtoD7D3DrV6sZmmDrZV', 'Ufb9k93JGEnzenSYtwZ836', 'setGraph', 'eyJ0eXBlIjogInZlcnRleCIsICJwcm9wcyI6IHsic3JjIjogImNsYXNzIiwgImRzdCI6ICJfa2V5In19Cg==');</script>\n",
       "    "
      ],
      "text/plain": [
       "<IPython.core.display.HTML object>"
      ]
     },
     "metadata": {},
     "output_type": "display_data"
    },
    {
     "data": {
      "text/html": [
       "\n",
       "        <div id=\"YqRdmQU5uxUKCNvFEaAZCv\"></div>\n",
       "        <script>netpixi.call('YqRdmQU5uxUKCNvFEaAZCv', 'Ufb9k93JGEnzenSYtwZ836', 'changeGraph', 'eyJpZCI6ICI4ODIiLCAidHlwZSI6ICJ2ZXJ0ZXgiLCAicHJvcHMiOiB7ImNvbG9yIjogNjk4OTkwM319Cg==');</script>\n",
       "    "
      ],
      "text/plain": [
       "<IPython.core.display.HTML object>"
      ]
     },
     "metadata": {},
     "output_type": "display_data"
    },
    {
     "data": {
      "text/html": [
       "\n",
       "        <div id=\"b2ywSUmNdza2ZQsJ6fF9zH\"></div>\n",
       "        <script>netpixi.call('b2ywSUmNdza2ZQsJ6fF9zH', 'Ufb9k93JGEnzenSYtwZ836', 'setGraph', 'eyJ0eXBlIjogInZlcnRleCIsICJwcm9wcyI6IHsic3JjIjogImNsYXNzIiwgImRzdCI6ICJfa2V5In19Cg==');</script>\n",
       "    "
      ],
      "text/plain": [
       "<IPython.core.display.HTML object>"
      ]
     },
     "metadata": {},
     "output_type": "display_data"
    },
    {
     "data": {
      "text/html": [
       "\n",
       "        <div id=\"QDuWMauAr75xAoWpRwJzWk\"></div>\n",
       "        <script>netpixi.call('QDuWMauAr75xAoWpRwJzWk', 'Ufb9k93JGEnzenSYtwZ836', 'changeGraph', 'eyJpZCI6ICI4ODYiLCAidHlwZSI6ICJ2ZXJ0ZXgiLCAicHJvcHMiOiB7ImNvbG9yIjogNjk4OTkwM319Cg==');</script>\n",
       "    "
      ],
      "text/plain": [
       "<IPython.core.display.HTML object>"
      ]
     },
     "metadata": {},
     "output_type": "display_data"
    },
    {
     "data": {
      "text/html": [
       "\n",
       "        <div id=\"27HuPMWPdFeE3bjXN6hr5Z\"></div>\n",
       "        <script>netpixi.call('27HuPMWPdFeE3bjXN6hr5Z', 'Ufb9k93JGEnzenSYtwZ836', 'setGraph', 'eyJ0eXBlIjogInZlcnRleCIsICJwcm9wcyI6IHsic3JjIjogImNsYXNzIiwgImRzdCI6ICJfa2V5In19Cg==');</script>\n",
       "    "
      ],
      "text/plain": [
       "<IPython.core.display.HTML object>"
      ]
     },
     "metadata": {},
     "output_type": "display_data"
    },
    {
     "data": {
      "text/html": [
       "\n",
       "        <div id=\"TmdypChXpb826kRbkK3w8v\"></div>\n",
       "        <script>netpixi.call('TmdypChXpb826kRbkK3w8v', 'Ufb9k93JGEnzenSYtwZ836', 'changeGraph', 'eyJpZCI6ICI4NzMiLCAidHlwZSI6ICJ2ZXJ0ZXgiLCAicHJvcHMiOiB7ImNvbG9yIjogMTUxMTA0NTZ9fQo=');</script>\n",
       "    "
      ],
      "text/plain": [
       "<IPython.core.display.HTML object>"
      ]
     },
     "metadata": {},
     "output_type": "display_data"
    },
    {
     "data": {
      "text/html": [
       "\n",
       "        <div id=\"Qy8hZhXbtvfgArc6KhBnH4\"></div>\n",
       "        <script>netpixi.call('Qy8hZhXbtvfgArc6KhBnH4', 'Ufb9k93JGEnzenSYtwZ836', 'setGraph', 'eyJ0eXBlIjogInZlcnRleCIsICJwcm9wcyI6IHsic3JjIjogImNsYXNzIiwgImRzdCI6ICJfa2V5In19Cg==');</script>\n",
       "    "
      ],
      "text/plain": [
       "<IPython.core.display.HTML object>"
      ]
     },
     "metadata": {},
     "output_type": "display_data"
    },
    {
     "data": {
      "text/html": [
       "\n",
       "        <div id=\"BBvUDU5BDePMBxCcPvXpHQ\"></div>\n",
       "        <script>netpixi.call('BBvUDU5BDePMBxCcPvXpHQ', 'Ufb9k93JGEnzenSYtwZ836', 'changeGraph', 'eyJpZCI6ICI4MjEiLCAidHlwZSI6ICJ2ZXJ0ZXgiLCAicHJvcHMiOiB7ImNvbG9yIjogNjk4OTkwM319Cg==');</script>\n",
       "    "
      ],
      "text/plain": [
       "<IPython.core.display.HTML object>"
      ]
     },
     "metadata": {},
     "output_type": "display_data"
    },
    {
     "data": {
      "text/html": [
       "\n",
       "        <div id=\"fo7g93PEUuMZbLbKea4KTe\"></div>\n",
       "        <script>netpixi.call('fo7g93PEUuMZbLbKea4KTe', 'Ufb9k93JGEnzenSYtwZ836', 'setGraph', 'eyJ0eXBlIjogInZlcnRleCIsICJwcm9wcyI6IHsic3JjIjogImNsYXNzIiwgImRzdCI6ICJfa2V5In19Cg==');</script>\n",
       "    "
      ],
      "text/plain": [
       "<IPython.core.display.HTML object>"
      ]
     },
     "metadata": {},
     "output_type": "display_data"
    },
    {
     "data": {
      "text/html": [
       "\n",
       "        <div id=\"9po2EPSG3FHSTGxQnX4nSq\"></div>\n",
       "        <script>netpixi.call('9po2EPSG3FHSTGxQnX4nSq', 'Ufb9k93JGEnzenSYtwZ836', 'changeGraph', 'eyJpZCI6ICI2NDQiLCAidHlwZSI6ICJ2ZXJ0ZXgiLCAicHJvcHMiOiB7ImNvbG9yIjogNjUyODB9fQo=');</script>\n",
       "    "
      ],
      "text/plain": [
       "<IPython.core.display.HTML object>"
      ]
     },
     "metadata": {},
     "output_type": "display_data"
    },
    {
     "data": {
      "text/html": [
       "\n",
       "        <div id=\"FS3eJ5oN5YkkxjyZYkfLtc\"></div>\n",
       "        <script>netpixi.call('FS3eJ5oN5YkkxjyZYkfLtc', 'Ufb9k93JGEnzenSYtwZ836', 'setGraph', 'eyJ0eXBlIjogInZlcnRleCIsICJwcm9wcyI6IHsic3JjIjogImNsYXNzIiwgImRzdCI6ICJfa2V5In19Cg==');</script>\n",
       "    "
      ],
      "text/plain": [
       "<IPython.core.display.HTML object>"
      ]
     },
     "metadata": {},
     "output_type": "display_data"
    },
    {
     "data": {
      "text/html": [
       "\n",
       "        <div id=\"36bVsPNHdnNyguSR3MDd3X\"></div>\n",
       "        <script>netpixi.call('36bVsPNHdnNyguSR3MDd3X', 'Ufb9k93JGEnzenSYtwZ836', 'changeGraph', 'eyJpZCI6ICI2OTYiLCAidHlwZSI6ICJ2ZXJ0ZXgiLCAicHJvcHMiOiB7ImNvbG9yIjogNjUyODB9fQo=');</script>\n",
       "    "
      ],
      "text/plain": [
       "<IPython.core.display.HTML object>"
      ]
     },
     "metadata": {},
     "output_type": "display_data"
    },
    {
     "data": {
      "text/html": [
       "\n",
       "        <div id=\"JSw8MtH3GCmDniCiCYvBvZ\"></div>\n",
       "        <script>netpixi.call('JSw8MtH3GCmDniCiCYvBvZ', 'Ufb9k93JGEnzenSYtwZ836', 'setGraph', 'eyJ0eXBlIjogInZlcnRleCIsICJwcm9wcyI6IHsic3JjIjogImNsYXNzIiwgImRzdCI6ICJfa2V5In19Cg==');</script>\n",
       "    "
      ],
      "text/plain": [
       "<IPython.core.display.HTML object>"
      ]
     },
     "metadata": {},
     "output_type": "display_data"
    },
    {
     "data": {
      "text/html": [
       "\n",
       "        <div id=\"5Vy7mUJbVRdiVvkTmo34Tw\"></div>\n",
       "        <script>netpixi.call('5Vy7mUJbVRdiVvkTmo34Tw', 'Ufb9k93JGEnzenSYtwZ836', 'changeGraph', 'eyJpZCI6ICI4MjYiLCAidHlwZSI6ICJ2ZXJ0ZXgiLCAicHJvcHMiOiB7ImNvbG9yIjogMTUxMTA0NTZ9fQo=');</script>\n",
       "    "
      ],
      "text/plain": [
       "<IPython.core.display.HTML object>"
      ]
     },
     "metadata": {},
     "output_type": "display_data"
    },
    {
     "data": {
      "text/html": [
       "\n",
       "        <div id=\"CUwscWxYgDWY8LYYdtFQBc\"></div>\n",
       "        <script>netpixi.call('CUwscWxYgDWY8LYYdtFQBc', 'Ufb9k93JGEnzenSYtwZ836', 'setGraph', 'eyJ0eXBlIjogInZlcnRleCIsICJwcm9wcyI6IHsic3JjIjogImNsYXNzIiwgImRzdCI6ICJfa2V5In19Cg==');</script>\n",
       "    "
      ],
      "text/plain": [
       "<IPython.core.display.HTML object>"
      ]
     },
     "metadata": {},
     "output_type": "display_data"
    },
    {
     "data": {
      "text/html": [
       "\n",
       "        <div id=\"HUNCXZB533dvfYbURaXsgo\"></div>\n",
       "        <script>netpixi.call('HUNCXZB533dvfYbURaXsgo', 'Ufb9k93JGEnzenSYtwZ836', 'changeGraph', 'eyJpZCI6ICI4NDciLCAidHlwZSI6ICJ2ZXJ0ZXgiLCAicHJvcHMiOiB7ImNvbG9yIjogNjk4OTkwM319Cg==');</script>\n",
       "    "
      ],
      "text/plain": [
       "<IPython.core.display.HTML object>"
      ]
     },
     "metadata": {},
     "output_type": "display_data"
    },
    {
     "data": {
      "text/html": [
       "\n",
       "        <div id=\"d2tFvReaYPabXmVEvmzojV\"></div>\n",
       "        <script>netpixi.call('d2tFvReaYPabXmVEvmzojV', 'Ufb9k93JGEnzenSYtwZ836', 'setGraph', 'eyJ0eXBlIjogInZlcnRleCIsICJwcm9wcyI6IHsic3JjIjogImNsYXNzIiwgImRzdCI6ICJfa2V5In19Cg==');</script>\n",
       "    "
      ],
      "text/plain": [
       "<IPython.core.display.HTML object>"
      ]
     },
     "metadata": {},
     "output_type": "display_data"
    },
    {
     "data": {
      "text/html": [
       "\n",
       "        <div id=\"SzYRCqymVB95qyYFF6sZza\"></div>\n",
       "        <script>netpixi.call('SzYRCqymVB95qyYFF6sZza', 'Ufb9k93JGEnzenSYtwZ836', 'changeGraph', 'eyJpZCI6ICI2ODYiLCAidHlwZSI6ICJ2ZXJ0ZXgiLCAicHJvcHMiOiB7ImNvbG9yIjogNjUyODB9fQo=');</script>\n",
       "    "
      ],
      "text/plain": [
       "<IPython.core.display.HTML object>"
      ]
     },
     "metadata": {},
     "output_type": "display_data"
    },
    {
     "data": {
      "text/html": [
       "\n",
       "        <div id=\"4s2wxVZTGkTAxyG9LmSZ3u\"></div>\n",
       "        <script>netpixi.call('4s2wxVZTGkTAxyG9LmSZ3u', 'Ufb9k93JGEnzenSYtwZ836', 'setGraph', 'eyJ0eXBlIjogInZlcnRleCIsICJwcm9wcyI6IHsic3JjIjogImNsYXNzIiwgImRzdCI6ICJfa2V5In19Cg==');</script>\n",
       "    "
      ],
      "text/plain": [
       "<IPython.core.display.HTML object>"
      ]
     },
     "metadata": {},
     "output_type": "display_data"
    },
    {
     "data": {
      "text/html": [
       "\n",
       "        <div id=\"Eypi4ywwFZ3Qf6amrcmiA9\"></div>\n",
       "        <script>netpixi.call('Eypi4ywwFZ3Qf6amrcmiA9', 'Ufb9k93JGEnzenSYtwZ836', 'changeGraph', 'eyJpZCI6ICI4OTMiLCAidHlwZSI6ICJ2ZXJ0ZXgiLCAicHJvcHMiOiB7ImNvbG9yIjogNjk4OTkwM319Cg==');</script>\n",
       "    "
      ],
      "text/plain": [
       "<IPython.core.display.HTML object>"
      ]
     },
     "metadata": {},
     "output_type": "display_data"
    },
    {
     "data": {
      "text/html": [
       "\n",
       "        <div id=\"MmeJ4KvZSqFth4NS4VXGiZ\"></div>\n",
       "        <script>netpixi.call('MmeJ4KvZSqFth4NS4VXGiZ', 'Ufb9k93JGEnzenSYtwZ836', 'setGraph', 'eyJ0eXBlIjogInZlcnRleCIsICJwcm9wcyI6IHsic3JjIjogImNsYXNzIiwgImRzdCI6ICJfa2V5In19Cg==');</script>\n",
       "    "
      ],
      "text/plain": [
       "<IPython.core.display.HTML object>"
      ]
     },
     "metadata": {},
     "output_type": "display_data"
    },
    {
     "data": {
      "text/html": [
       "\n",
       "        <div id=\"3o2twoN8QxvTbE9f9td4ei\"></div>\n",
       "        <script>netpixi.call('3o2twoN8QxvTbE9f9td4ei', 'Ufb9k93JGEnzenSYtwZ836', 'changeGraph', 'eyJpZCI6ICI4NTciLCAidHlwZSI6ICJ2ZXJ0ZXgiLCAicHJvcHMiOiB7ImNvbG9yIjogMTUxMTA0NTZ9fQo=');</script>\n",
       "    "
      ],
      "text/plain": [
       "<IPython.core.display.HTML object>"
      ]
     },
     "metadata": {},
     "output_type": "display_data"
    },
    {
     "data": {
      "text/html": [
       "\n",
       "        <div id=\"DsT3iTmP7zPQG6jsmxtwbz\"></div>\n",
       "        <script>netpixi.call('DsT3iTmP7zPQG6jsmxtwbz', 'Ufb9k93JGEnzenSYtwZ836', 'setGraph', 'eyJ0eXBlIjogInZlcnRleCIsICJwcm9wcyI6IHsic3JjIjogImNsYXNzIiwgImRzdCI6ICJfa2V5In19Cg==');</script>\n",
       "    "
      ],
      "text/plain": [
       "<IPython.core.display.HTML object>"
      ]
     },
     "metadata": {},
     "output_type": "display_data"
    },
    {
     "data": {
      "text/html": [
       "\n",
       "        <div id=\"6yAvnr7wbcUt8LbZUtGBsq\"></div>\n",
       "        <script>netpixi.call('6yAvnr7wbcUt8LbZUtGBsq', 'Ufb9k93JGEnzenSYtwZ836', 'changeGraph', 'eyJpZCI6ICI4MTUiLCAidHlwZSI6ICJ2ZXJ0ZXgiLCAicHJvcHMiOiB7ImNvbG9yIjogNjk4OTkwM319Cg==');</script>\n",
       "    "
      ],
      "text/plain": [
       "<IPython.core.display.HTML object>"
      ]
     },
     "metadata": {},
     "output_type": "display_data"
    },
    {
     "data": {
      "text/html": [
       "\n",
       "        <div id=\"EFEEYwvk6UV99wijGh4ueJ\"></div>\n",
       "        <script>netpixi.call('EFEEYwvk6UV99wijGh4ueJ', 'Ufb9k93JGEnzenSYtwZ836', 'setGraph', 'eyJ0eXBlIjogInZlcnRleCIsICJwcm9wcyI6IHsic3JjIjogImNsYXNzIiwgImRzdCI6ICJfa2V5In19Cg==');</script>\n",
       "    "
      ],
      "text/plain": [
       "<IPython.core.display.HTML object>"
      ]
     },
     "metadata": {},
     "output_type": "display_data"
    },
    {
     "data": {
      "text/html": [
       "\n",
       "        <div id=\"gfRWwpNHZ3dP4kG7tRnLfc\"></div>\n",
       "        <script>netpixi.call('gfRWwpNHZ3dP4kG7tRnLfc', 'Ufb9k93JGEnzenSYtwZ836', 'changeGraph', 'eyJpZCI6ICI4NzEiLCAidHlwZSI6ICJ2ZXJ0ZXgiLCAicHJvcHMiOiB7ImNvbG9yIjogMTUxMTA0NTZ9fQo=');</script>\n",
       "    "
      ],
      "text/plain": [
       "<IPython.core.display.HTML object>"
      ]
     },
     "metadata": {},
     "output_type": "display_data"
    },
    {
     "data": {
      "text/html": [
       "\n",
       "        <div id=\"KVaKThppM6ZfnqEuw8ZwrG\"></div>\n",
       "        <script>netpixi.call('KVaKThppM6ZfnqEuw8ZwrG', 'Ufb9k93JGEnzenSYtwZ836', 'setGraph', 'eyJ0eXBlIjogInZlcnRleCIsICJwcm9wcyI6IHsic3JjIjogImNsYXNzIiwgImRzdCI6ICJfa2V5In19Cg==');</script>\n",
       "    "
      ],
      "text/plain": [
       "<IPython.core.display.HTML object>"
      ]
     },
     "metadata": {},
     "output_type": "display_data"
    },
    {
     "data": {
      "text/html": [
       "\n",
       "        <div id=\"9mWzJqTrYqH3ngTyz2LqcW\"></div>\n",
       "        <script>netpixi.call('9mWzJqTrYqH3ngTyz2LqcW', 'Ufb9k93JGEnzenSYtwZ836', 'changeGraph', 'eyJpZCI6ICI2NjAiLCAidHlwZSI6ICJ2ZXJ0ZXgiLCAicHJvcHMiOiB7ImNvbG9yIjogNjUyODB9fQo=');</script>\n",
       "    "
      ],
      "text/plain": [
       "<IPython.core.display.HTML object>"
      ]
     },
     "metadata": {},
     "output_type": "display_data"
    },
    {
     "data": {
      "text/html": [
       "\n",
       "        <div id=\"gJD6Za3dsYBi4V6Nf9XnqS\"></div>\n",
       "        <script>netpixi.call('gJD6Za3dsYBi4V6Nf9XnqS', 'Ufb9k93JGEnzenSYtwZ836', 'setGraph', 'eyJ0eXBlIjogInZlcnRleCIsICJwcm9wcyI6IHsic3JjIjogImNsYXNzIiwgImRzdCI6ICJfa2V5In19Cg==');</script>\n",
       "    "
      ],
      "text/plain": [
       "<IPython.core.display.HTML object>"
      ]
     },
     "metadata": {},
     "output_type": "display_data"
    },
    {
     "data": {
      "text/html": [
       "\n",
       "        <div id=\"HC7Hi5aH2FLF6DE4Dt6crP\"></div>\n",
       "        <script>netpixi.call('HC7Hi5aH2FLF6DE4Dt6crP', 'Ufb9k93JGEnzenSYtwZ836', 'changeGraph', 'eyJpZCI6ICI4NjYiLCAidHlwZSI6ICJ2ZXJ0ZXgiLCAicHJvcHMiOiB7ImNvbG9yIjogMTUxMTA0NTZ9fQo=');</script>\n",
       "    "
      ],
      "text/plain": [
       "<IPython.core.display.HTML object>"
      ]
     },
     "metadata": {},
     "output_type": "display_data"
    },
    {
     "data": {
      "text/html": [
       "\n",
       "        <div id=\"buMMxuowfUfefWv2bsWP7U\"></div>\n",
       "        <script>netpixi.call('buMMxuowfUfefWv2bsWP7U', 'Ufb9k93JGEnzenSYtwZ836', 'setGraph', 'eyJ0eXBlIjogInZlcnRleCIsICJwcm9wcyI6IHsic3JjIjogImNsYXNzIiwgImRzdCI6ICJfa2V5In19Cg==');</script>\n",
       "    "
      ],
      "text/plain": [
       "<IPython.core.display.HTML object>"
      ]
     },
     "metadata": {},
     "output_type": "display_data"
    },
    {
     "data": {
      "text/html": [
       "\n",
       "        <div id=\"bBjFjG6kZsAxkoJryQuaSK\"></div>\n",
       "        <script>netpixi.call('bBjFjG6kZsAxkoJryQuaSK', 'Ufb9k93JGEnzenSYtwZ836', 'changeGraph', 'eyJpZCI6ICI4MTQiLCAidHlwZSI6ICJ2ZXJ0ZXgiLCAicHJvcHMiOiB7ImNvbG9yIjogNjk4OTkwM319Cg==');</script>\n",
       "    "
      ],
      "text/plain": [
       "<IPython.core.display.HTML object>"
      ]
     },
     "metadata": {},
     "output_type": "display_data"
    },
    {
     "data": {
      "text/html": [
       "\n",
       "        <div id=\"Pk8xLPeNvRAAFujdwxrKVH\"></div>\n",
       "        <script>netpixi.call('Pk8xLPeNvRAAFujdwxrKVH', 'Ufb9k93JGEnzenSYtwZ836', 'setGraph', 'eyJ0eXBlIjogInZlcnRleCIsICJwcm9wcyI6IHsic3JjIjogImNsYXNzIiwgImRzdCI6ICJfa2V5In19Cg==');</script>\n",
       "    "
      ],
      "text/plain": [
       "<IPython.core.display.HTML object>"
      ]
     },
     "metadata": {},
     "output_type": "display_data"
    },
    {
     "data": {
      "text/html": [
       "\n",
       "        <div id=\"mLSG82ag8ieibdtCxJV5UP\"></div>\n",
       "        <script>netpixi.call('mLSG82ag8ieibdtCxJV5UP', 'Ufb9k93JGEnzenSYtwZ836', 'changeGraph', 'eyJpZCI6ICI4OTUiLCAidHlwZSI6ICJ2ZXJ0ZXgiLCAicHJvcHMiOiB7ImNvbG9yIjogNjk4OTkwM319Cg==');</script>\n",
       "    "
      ],
      "text/plain": [
       "<IPython.core.display.HTML object>"
      ]
     },
     "metadata": {},
     "output_type": "display_data"
    },
    {
     "data": {
      "text/html": [
       "\n",
       "        <div id=\"8tia9euDVUPh332y7z2o2p\"></div>\n",
       "        <script>netpixi.call('8tia9euDVUPh332y7z2o2p', 'Ufb9k93JGEnzenSYtwZ836', 'setGraph', 'eyJ0eXBlIjogInZlcnRleCIsICJwcm9wcyI6IHsic3JjIjogImNsYXNzIiwgImRzdCI6ICJfa2V5In19Cg==');</script>\n",
       "    "
      ],
      "text/plain": [
       "<IPython.core.display.HTML object>"
      ]
     },
     "metadata": {},
     "output_type": "display_data"
    },
    {
     "data": {
      "text/html": [
       "\n",
       "        <div id=\"Mb7YdhF9tTcYnRMLwCyDra\"></div>\n",
       "        <script>netpixi.call('Mb7YdhF9tTcYnRMLwCyDra', 'Ufb9k93JGEnzenSYtwZ836', 'changeGraph', 'eyJpZCI6ICIxNjc4IiwgInR5cGUiOiAidmVydGV4IiwgInByb3BzIjogeyJjb2xvciI6IDE2NzY2NzIwfX0K');</script>\n",
       "    "
      ],
      "text/plain": [
       "<IPython.core.display.HTML object>"
      ]
     },
     "metadata": {},
     "output_type": "display_data"
    },
    {
     "data": {
      "text/html": [
       "\n",
       "        <div id=\"QbfTbAcWGsQLvxMytE5UqN\"></div>\n",
       "        <script>netpixi.call('QbfTbAcWGsQLvxMytE5UqN', 'Ufb9k93JGEnzenSYtwZ836', 'setGraph', 'eyJ0eXBlIjogInZlcnRleCIsICJwcm9wcyI6IHsic3JjIjogImNsYXNzIiwgImRzdCI6ICJfa2V5In19Cg==');</script>\n",
       "    "
      ],
      "text/plain": [
       "<IPython.core.display.HTML object>"
      ]
     },
     "metadata": {},
     "output_type": "display_data"
    },
    {
     "data": {
      "text/html": [
       "\n",
       "        <div id=\"MRPykERjP4TmAZw2bpFqAJ\"></div>\n",
       "        <script>netpixi.call('MRPykERjP4TmAZw2bpFqAJ', 'Ufb9k93JGEnzenSYtwZ836', 'changeGraph', 'eyJpZCI6ICI4MTAiLCAidHlwZSI6ICJ2ZXJ0ZXgiLCAicHJvcHMiOiB7ImNvbG9yIjogMTUxMTA0NTZ9fQo=');</script>\n",
       "    "
      ],
      "text/plain": [
       "<IPython.core.display.HTML object>"
      ]
     },
     "metadata": {},
     "output_type": "display_data"
    },
    {
     "data": {
      "text/html": [
       "\n",
       "        <div id=\"GySsv7tM8JkeJacWFPbpCA\"></div>\n",
       "        <script>netpixi.call('GySsv7tM8JkeJacWFPbpCA', 'Ufb9k93JGEnzenSYtwZ836', 'setGraph', 'eyJ0eXBlIjogInZlcnRleCIsICJwcm9wcyI6IHsic3JjIjogImNsYXNzIiwgImRzdCI6ICJfa2V5In19Cg==');</script>\n",
       "    "
      ],
      "text/plain": [
       "<IPython.core.display.HTML object>"
      ]
     },
     "metadata": {},
     "output_type": "display_data"
    },
    {
     "data": {
      "text/html": [
       "\n",
       "        <div id=\"8HC6Wv7WprZqGY3JvWZG3f\"></div>\n",
       "        <script>netpixi.call('8HC6Wv7WprZqGY3JvWZG3f', 'Ufb9k93JGEnzenSYtwZ836', 'changeGraph', 'eyJpZCI6ICI4NTQiLCAidHlwZSI6ICJ2ZXJ0ZXgiLCAicHJvcHMiOiB7ImNvbG9yIjogMTUxMTA0NTZ9fQo=');</script>\n",
       "    "
      ],
      "text/plain": [
       "<IPython.core.display.HTML object>"
      ]
     },
     "metadata": {},
     "output_type": "display_data"
    },
    {
     "data": {
      "text/html": [
       "\n",
       "        <div id=\"BfXWbvHqfkVWt5P3SiocfF\"></div>\n",
       "        <script>netpixi.call('BfXWbvHqfkVWt5P3SiocfF', 'Ufb9k93JGEnzenSYtwZ836', 'setGraph', 'eyJ0eXBlIjogInZlcnRleCIsICJwcm9wcyI6IHsic3JjIjogImNsYXNzIiwgImRzdCI6ICJfa2V5In19Cg==');</script>\n",
       "    "
      ],
      "text/plain": [
       "<IPython.core.display.HTML object>"
      ]
     },
     "metadata": {},
     "output_type": "display_data"
    },
    {
     "data": {
      "text/html": [
       "\n",
       "        <div id=\"KfsxSU5Z9DWgmUo34MtifZ\"></div>\n",
       "        <script>netpixi.call('KfsxSU5Z9DWgmUo34MtifZ', 'Ufb9k93JGEnzenSYtwZ836', 'changeGraph', 'eyJpZCI6ICI4ODkiLCAidHlwZSI6ICJ2ZXJ0ZXgiLCAicHJvcHMiOiB7ImNvbG9yIjogNjk4OTkwM319Cg==');</script>\n",
       "    "
      ],
      "text/plain": [
       "<IPython.core.display.HTML object>"
      ]
     },
     "metadata": {},
     "output_type": "display_data"
    },
    {
     "data": {
      "text/html": [
       "\n",
       "        <div id=\"cPQDqv7etX3E2NwSrsGGPA\"></div>\n",
       "        <script>netpixi.call('cPQDqv7etX3E2NwSrsGGPA', 'Ufb9k93JGEnzenSYtwZ836', 'setGraph', 'eyJ0eXBlIjogInZlcnRleCIsICJwcm9wcyI6IHsic3JjIjogImNsYXNzIiwgImRzdCI6ICJfa2V5In19Cg==');</script>\n",
       "    "
      ],
      "text/plain": [
       "<IPython.core.display.HTML object>"
      ]
     },
     "metadata": {},
     "output_type": "display_data"
    },
    {
     "data": {
      "text/html": [
       "\n",
       "        <div id=\"HbQGxWAksX5BCienDi8PYg\"></div>\n",
       "        <script>netpixi.call('HbQGxWAksX5BCienDi8PYg', 'Ufb9k93JGEnzenSYtwZ836', 'changeGraph', 'eyJpZCI6ICI4OTAiLCAidHlwZSI6ICJ2ZXJ0ZXgiLCAicHJvcHMiOiB7ImNvbG9yIjogNjk4OTkwM319Cg==');</script>\n",
       "    "
      ],
      "text/plain": [
       "<IPython.core.display.HTML object>"
      ]
     },
     "metadata": {},
     "output_type": "display_data"
    },
    {
     "data": {
      "text/html": [
       "\n",
       "        <div id=\"X6spXWbpUUBHygHyPaYHQL\"></div>\n",
       "        <script>netpixi.call('X6spXWbpUUBHygHyPaYHQL', 'Ufb9k93JGEnzenSYtwZ836', 'setGraph', 'eyJ0eXBlIjogInZlcnRleCIsICJwcm9wcyI6IHsic3JjIjogImNsYXNzIiwgImRzdCI6ICJfa2V5In19Cg==');</script>\n",
       "    "
      ],
      "text/plain": [
       "<IPython.core.display.HTML object>"
      ]
     },
     "metadata": {},
     "output_type": "display_data"
    },
    {
     "data": {
      "text/html": [
       "\n",
       "        <div id=\"S9Gokn92izrRQy9z3y98ji\"></div>\n",
       "        <script>netpixi.call('S9Gokn92izrRQy9z3y98ji', 'Ufb9k93JGEnzenSYtwZ836', 'changeGraph', 'eyJpZCI6ICI4OTEiLCAidHlwZSI6ICJ2ZXJ0ZXgiLCAicHJvcHMiOiB7ImNvbG9yIjogNjk4OTkwM319Cg==');</script>\n",
       "    "
      ],
      "text/plain": [
       "<IPython.core.display.HTML object>"
      ]
     },
     "metadata": {},
     "output_type": "display_data"
    },
    {
     "data": {
      "text/html": [
       "\n",
       "        <div id=\"5Fm9sRrP6dcS6dGjQ56Y76\"></div>\n",
       "        <script>netpixi.call('5Fm9sRrP6dcS6dGjQ56Y76', 'Ufb9k93JGEnzenSYtwZ836', 'setGraph', 'eyJ0eXBlIjogInZlcnRleCIsICJwcm9wcyI6IHsic3JjIjogImNsYXNzIiwgImRzdCI6ICJfa2V5In19Cg==');</script>\n",
       "    "
      ],
      "text/plain": [
       "<IPython.core.display.HTML object>"
      ]
     },
     "metadata": {},
     "output_type": "display_data"
    },
    {
     "data": {
      "text/html": [
       "\n",
       "        <div id=\"k7Kr2VsMariKrZ2pGTACYZ\"></div>\n",
       "        <script>netpixi.call('k7Kr2VsMariKrZ2pGTACYZ', 'Ufb9k93JGEnzenSYtwZ836', 'changeGraph', 'eyJpZCI6ICI4ODgiLCAidHlwZSI6ICJ2ZXJ0ZXgiLCAicHJvcHMiOiB7ImNvbG9yIjogNjk4OTkwM319Cg==');</script>\n",
       "    "
      ],
      "text/plain": [
       "<IPython.core.display.HTML object>"
      ]
     },
     "metadata": {},
     "output_type": "display_data"
    },
    {
     "data": {
      "text/html": [
       "\n",
       "        <div id=\"DpawreuG84PoUCj24z76yy\"></div>\n",
       "        <script>netpixi.call('DpawreuG84PoUCj24z76yy', 'Ufb9k93JGEnzenSYtwZ836', 'setGraph', 'eyJ0eXBlIjogInZlcnRleCIsICJwcm9wcyI6IHsic3JjIjogImNsYXNzIiwgImRzdCI6ICJfa2V5In19Cg==');</script>\n",
       "    "
      ],
      "text/plain": [
       "<IPython.core.display.HTML object>"
      ]
     },
     "metadata": {},
     "output_type": "display_data"
    },
    {
     "data": {
      "text/html": [
       "\n",
       "        <div id=\"GTCYVpjMVywjKxcBAZcEZU\"></div>\n",
       "        <script>netpixi.call('GTCYVpjMVywjKxcBAZcEZU', 'Ufb9k93JGEnzenSYtwZ836', 'changeGraph', 'eyJpZCI6ICI2MTgiLCAidHlwZSI6ICJ2ZXJ0ZXgiLCAicHJvcHMiOiB7ImNvbG9yIjogNjUyODB9fQo=');</script>\n",
       "    "
      ],
      "text/plain": [
       "<IPython.core.display.HTML object>"
      ]
     },
     "metadata": {},
     "output_type": "display_data"
    },
    {
     "data": {
      "text/html": [
       "\n",
       "        <div id=\"dRmRn7V98jWULQ6CLvRB8U\"></div>\n",
       "        <script>netpixi.call('dRmRn7V98jWULQ6CLvRB8U', 'Ufb9k93JGEnzenSYtwZ836', 'setGraph', 'eyJ0eXBlIjogInZlcnRleCIsICJwcm9wcyI6IHsic3JjIjogImNsYXNzIiwgImRzdCI6ICJfa2V5In19Cg==');</script>\n",
       "    "
      ],
      "text/plain": [
       "<IPython.core.display.HTML object>"
      ]
     },
     "metadata": {},
     "output_type": "display_data"
    },
    {
     "data": {
      "text/html": [
       "\n",
       "        <div id=\"dp2DDPM2WkBGqdp6WF5LvX\"></div>\n",
       "        <script>netpixi.call('dp2DDPM2WkBGqdp6WF5LvX', 'Ufb9k93JGEnzenSYtwZ836', 'changeGraph', 'eyJpZCI6ICI4MDQiLCAidHlwZSI6ICJ2ZXJ0ZXgiLCAicHJvcHMiOiB7ImNvbG9yIjogNjk4OTkwM319Cg==');</script>\n",
       "    "
      ],
      "text/plain": [
       "<IPython.core.display.HTML object>"
      ]
     },
     "metadata": {},
     "output_type": "display_data"
    },
    {
     "data": {
      "text/html": [
       "\n",
       "        <div id=\"N4MQ54MCjUWD6XX59MzwZA\"></div>\n",
       "        <script>netpixi.call('N4MQ54MCjUWD6XX59MzwZA', 'Ufb9k93JGEnzenSYtwZ836', 'setGraph', 'eyJ0eXBlIjogInZlcnRleCIsICJwcm9wcyI6IHsic3JjIjogImNsYXNzIiwgImRzdCI6ICJfa2V5In19Cg==');</script>\n",
       "    "
      ],
      "text/plain": [
       "<IPython.core.display.HTML object>"
      ]
     },
     "metadata": {},
     "output_type": "display_data"
    },
    {
     "data": {
      "text/html": [
       "\n",
       "        <div id=\"WaN2N8xX4gPaXp8bkmEisD\"></div>\n",
       "        <script>netpixi.call('WaN2N8xX4gPaXp8bkmEisD', 'Ufb9k93JGEnzenSYtwZ836', 'changeGraph', 'eyJpZCI6ICI4MTciLCAidHlwZSI6ICJ2ZXJ0ZXgiLCAicHJvcHMiOiB7ImNvbG9yIjogNjk4OTkwM319Cg==');</script>\n",
       "    "
      ],
      "text/plain": [
       "<IPython.core.display.HTML object>"
      ]
     },
     "metadata": {},
     "output_type": "display_data"
    },
    {
     "data": {
      "text/html": [
       "\n",
       "        <div id=\"3Ux3JXnWAt5Ax7uBtt4x9a\"></div>\n",
       "        <script>netpixi.call('3Ux3JXnWAt5Ax7uBtt4x9a', 'Ufb9k93JGEnzenSYtwZ836', 'setGraph', 'eyJ0eXBlIjogInZlcnRleCIsICJwcm9wcyI6IHsic3JjIjogImNsYXNzIiwgImRzdCI6ICJfa2V5In19Cg==');</script>\n",
       "    "
      ],
      "text/plain": [
       "<IPython.core.display.HTML object>"
      ]
     },
     "metadata": {},
     "output_type": "display_data"
    },
    {
     "data": {
      "text/html": [
       "\n",
       "        <div id=\"Fv7U9cjrJZHsWWeJ5fR8KB\"></div>\n",
       "        <script>netpixi.call('Fv7U9cjrJZHsWWeJ5fR8KB', 'Ufb9k93JGEnzenSYtwZ836', 'changeGraph', 'eyJpZCI6ICI4ODMiLCAidHlwZSI6ICJ2ZXJ0ZXgiLCAicHJvcHMiOiB7ImNvbG9yIjogNjk4OTkwM319Cg==');</script>\n",
       "    "
      ],
      "text/plain": [
       "<IPython.core.display.HTML object>"
      ]
     },
     "metadata": {},
     "output_type": "display_data"
    },
    {
     "data": {
      "text/html": [
       "\n",
       "        <div id=\"LKood3dW2hqwrZoLHzhS9y\"></div>\n",
       "        <script>netpixi.call('LKood3dW2hqwrZoLHzhS9y', 'Ufb9k93JGEnzenSYtwZ836', 'setGraph', 'eyJ0eXBlIjogInZlcnRleCIsICJwcm9wcyI6IHsic3JjIjogImNsYXNzIiwgImRzdCI6ICJfa2V5In19Cg==');</script>\n",
       "    "
      ],
      "text/plain": [
       "<IPython.core.display.HTML object>"
      ]
     },
     "metadata": {},
     "output_type": "display_data"
    },
    {
     "data": {
      "text/html": [
       "\n",
       "        <div id=\"BSV3L8dgaNoJaDMJpFGdvE\"></div>\n",
       "        <script>netpixi.call('BSV3L8dgaNoJaDMJpFGdvE', 'Ufb9k93JGEnzenSYtwZ836', 'changeGraph', 'eyJpZCI6ICI4NzUiLCAidHlwZSI6ICJ2ZXJ0ZXgiLCAicHJvcHMiOiB7ImNvbG9yIjogNjk4OTkwM319Cg==');</script>\n",
       "    "
      ],
      "text/plain": [
       "<IPython.core.display.HTML object>"
      ]
     },
     "metadata": {},
     "output_type": "display_data"
    },
    {
     "data": {
      "text/html": [
       "\n",
       "        <div id=\"VXmmtu3kBhxG7siwjXgxmU\"></div>\n",
       "        <script>netpixi.call('VXmmtu3kBhxG7siwjXgxmU', 'Ufb9k93JGEnzenSYtwZ836', 'setGraph', 'eyJ0eXBlIjogInZlcnRleCIsICJwcm9wcyI6IHsic3JjIjogImNsYXNzIiwgImRzdCI6ICJfa2V5In19Cg==');</script>\n",
       "    "
      ],
      "text/plain": [
       "<IPython.core.display.HTML object>"
      ]
     },
     "metadata": {},
     "output_type": "display_data"
    },
    {
     "data": {
      "text/html": [
       "\n",
       "        <div id=\"eR5v2UHQeWPFiK73gmde6T\"></div>\n",
       "        <script>netpixi.call('eR5v2UHQeWPFiK73gmde6T', 'Ufb9k93JGEnzenSYtwZ836', 'changeGraph', 'eyJpZCI6ICI4ODAiLCAidHlwZSI6ICJ2ZXJ0ZXgiLCAicHJvcHMiOiB7ImNvbG9yIjogNjk4OTkwM319Cg==');</script>\n",
       "    "
      ],
      "text/plain": [
       "<IPython.core.display.HTML object>"
      ]
     },
     "metadata": {},
     "output_type": "display_data"
    },
    {
     "data": {
      "text/html": [
       "\n",
       "        <div id=\"mfbs2a5XhrxmL6Q63NTyE2\"></div>\n",
       "        <script>netpixi.call('mfbs2a5XhrxmL6Q63NTyE2', 'Ufb9k93JGEnzenSYtwZ836', 'setGraph', 'eyJ0eXBlIjogInZlcnRleCIsICJwcm9wcyI6IHsic3JjIjogImNsYXNzIiwgImRzdCI6ICJfa2V5In19Cg==');</script>\n",
       "    "
      ],
      "text/plain": [
       "<IPython.core.display.HTML object>"
      ]
     },
     "metadata": {},
     "output_type": "display_data"
    },
    {
     "data": {
      "text/html": [
       "\n",
       "        <div id=\"ADEtQZPbbQUMRLb7dz7gXL\"></div>\n",
       "        <script>netpixi.call('ADEtQZPbbQUMRLb7dz7gXL', 'Ufb9k93JGEnzenSYtwZ836', 'changeGraph', 'eyJpZCI6ICI4NjkiLCAidHlwZSI6ICJ2ZXJ0ZXgiLCAicHJvcHMiOiB7ImNvbG9yIjogMTUxMTA0NTZ9fQo=');</script>\n",
       "    "
      ],
      "text/plain": [
       "<IPython.core.display.HTML object>"
      ]
     },
     "metadata": {},
     "output_type": "display_data"
    },
    {
     "data": {
      "text/html": [
       "\n",
       "        <div id=\"axsgQEherBJbk8FDKZGm3p\"></div>\n",
       "        <script>netpixi.call('axsgQEherBJbk8FDKZGm3p', 'Ufb9k93JGEnzenSYtwZ836', 'setGraph', 'eyJ0eXBlIjogInZlcnRleCIsICJwcm9wcyI6IHsic3JjIjogImNsYXNzIiwgImRzdCI6ICJfa2V5In19Cg==');</script>\n",
       "    "
      ],
      "text/plain": [
       "<IPython.core.display.HTML object>"
      ]
     },
     "metadata": {},
     "output_type": "display_data"
    },
    {
     "data": {
      "text/html": [
       "\n",
       "        <div id=\"N68LD7tsoCLV6r5wY68LMo\"></div>\n",
       "        <script>netpixi.call('N68LD7tsoCLV6r5wY68LMo', 'Ufb9k93JGEnzenSYtwZ836', 'changeGraph', 'eyJpZCI6ICI4MDYiLCAidHlwZSI6ICJ2ZXJ0ZXgiLCAicHJvcHMiOiB7ImNvbG9yIjogNjk4OTkwM319Cg==');</script>\n",
       "    "
      ],
      "text/plain": [
       "<IPython.core.display.HTML object>"
      ]
     },
     "metadata": {},
     "output_type": "display_data"
    },
    {
     "data": {
      "text/html": [
       "\n",
       "        <div id=\"6oxcu4y5DrG4Rr4bX4J5XZ\"></div>\n",
       "        <script>netpixi.call('6oxcu4y5DrG4Rr4bX4J5XZ', 'Ufb9k93JGEnzenSYtwZ836', 'setGraph', 'eyJ0eXBlIjogInZlcnRleCIsICJwcm9wcyI6IHsic3JjIjogImNsYXNzIiwgImRzdCI6ICJfa2V5In19Cg==');</script>\n",
       "    "
      ],
      "text/plain": [
       "<IPython.core.display.HTML object>"
      ]
     },
     "metadata": {},
     "output_type": "display_data"
    },
    {
     "data": {
      "text/html": [
       "\n",
       "        <div id=\"W2GQjgn7a8aUUtfUVnf8Zy\"></div>\n",
       "        <script>netpixi.call('W2GQjgn7a8aUUtfUVnf8Zy', 'Ufb9k93JGEnzenSYtwZ836', 'changeGraph', 'eyJpZCI6ICI4MDciLCAidHlwZSI6ICJ2ZXJ0ZXgiLCAicHJvcHMiOiB7ImNvbG9yIjogNjk4OTkwM319Cg==');</script>\n",
       "    "
      ],
      "text/plain": [
       "<IPython.core.display.HTML object>"
      ]
     },
     "metadata": {},
     "output_type": "display_data"
    },
    {
     "data": {
      "text/html": [
       "\n",
       "        <div id=\"9iaajQqxirNzz37r2ew9PZ\"></div>\n",
       "        <script>netpixi.call('9iaajQqxirNzz37r2ew9PZ', 'Ufb9k93JGEnzenSYtwZ836', 'setGraph', 'eyJ0eXBlIjogInZlcnRleCIsICJwcm9wcyI6IHsic3JjIjogImNsYXNzIiwgImRzdCI6ICJfa2V5In19Cg==');</script>\n",
       "    "
      ],
      "text/plain": [
       "<IPython.core.display.HTML object>"
      ]
     },
     "metadata": {},
     "output_type": "display_data"
    },
    {
     "data": {
      "text/html": [
       "\n",
       "        <div id=\"hBBtZwgEa9umPXGgSYaZGo\"></div>\n",
       "        <script>netpixi.call('hBBtZwgEa9umPXGgSYaZGo', 'Ufb9k93JGEnzenSYtwZ836', 'changeGraph', 'eyJpZCI6ICI4OTciLCAidHlwZSI6ICJ2ZXJ0ZXgiLCAicHJvcHMiOiB7ImNvbG9yIjogNjk4OTkwM319Cg==');</script>\n",
       "    "
      ],
      "text/plain": [
       "<IPython.core.display.HTML object>"
      ]
     },
     "metadata": {},
     "output_type": "display_data"
    },
    {
     "data": {
      "text/html": [
       "\n",
       "        <div id=\"DypTLtt95fYfCqerWQD3d8\"></div>\n",
       "        <script>netpixi.call('DypTLtt95fYfCqerWQD3d8', 'Ufb9k93JGEnzenSYtwZ836', 'setGraph', 'eyJ0eXBlIjogInZlcnRleCIsICJwcm9wcyI6IHsic3JjIjogImNsYXNzIiwgImRzdCI6ICJfa2V5In19Cg==');</script>\n",
       "    "
      ],
      "text/plain": [
       "<IPython.core.display.HTML object>"
      ]
     },
     "metadata": {},
     "output_type": "display_data"
    },
    {
     "data": {
      "text/html": [
       "\n",
       "        <div id=\"GR9nuUvG4BGTia7LAx4yqX\"></div>\n",
       "        <script>netpixi.call('GR9nuUvG4BGTia7LAx4yqX', 'Ufb9k93JGEnzenSYtwZ836', 'changeGraph', 'eyJpZCI6ICI4NjMiLCAidHlwZSI6ICJ2ZXJ0ZXgiLCAicHJvcHMiOiB7ImNvbG9yIjogMTUxMTA0NTZ9fQo=');</script>\n",
       "    "
      ],
      "text/plain": [
       "<IPython.core.display.HTML object>"
      ]
     },
     "metadata": {},
     "output_type": "display_data"
    },
    {
     "data": {
      "text/html": [
       "\n",
       "        <div id=\"AwznRGmXmPGZA3p6m7C4WN\"></div>\n",
       "        <script>netpixi.call('AwznRGmXmPGZA3p6m7C4WN', 'Ufb9k93JGEnzenSYtwZ836', 'setGraph', 'eyJ0eXBlIjogInZlcnRleCIsICJwcm9wcyI6IHsic3JjIjogImNsYXNzIiwgImRzdCI6ICJfa2V5In19Cg==');</script>\n",
       "    "
      ],
      "text/plain": [
       "<IPython.core.display.HTML object>"
      ]
     },
     "metadata": {},
     "output_type": "display_data"
    },
    {
     "data": {
      "text/html": [
       "\n",
       "        <div id=\"To4qVQwwnCu28FzBrhsjnU\"></div>\n",
       "        <script>netpixi.call('To4qVQwwnCu28FzBrhsjnU', 'Ufb9k93JGEnzenSYtwZ836', 'changeGraph', 'eyJpZCI6ICI2ODEiLCAidHlwZSI6ICJ2ZXJ0ZXgiLCAicHJvcHMiOiB7ImNvbG9yIjogNjUyODB9fQo=');</script>\n",
       "    "
      ],
      "text/plain": [
       "<IPython.core.display.HTML object>"
      ]
     },
     "metadata": {},
     "output_type": "display_data"
    },
    {
     "data": {
      "text/html": [
       "\n",
       "        <div id=\"ap4vDgrkb4sdjkE5CRu9t2\"></div>\n",
       "        <script>netpixi.call('ap4vDgrkb4sdjkE5CRu9t2', 'Ufb9k93JGEnzenSYtwZ836', 'setGraph', 'eyJ0eXBlIjogInZlcnRleCIsICJwcm9wcyI6IHsic3JjIjogImNsYXNzIiwgImRzdCI6ICJfa2V5In19Cg==');</script>\n",
       "    "
      ],
      "text/plain": [
       "<IPython.core.display.HTML object>"
      ]
     },
     "metadata": {},
     "output_type": "display_data"
    },
    {
     "data": {
      "text/html": [
       "\n",
       "        <div id=\"gMNZpYWUoAyV2cURc9Sg28\"></div>\n",
       "        <script>netpixi.call('gMNZpYWUoAyV2cURc9Sg28', 'Ufb9k93JGEnzenSYtwZ836', 'changeGraph', 'eyJpZCI6ICI4MTkiLCAidHlwZSI6ICJ2ZXJ0ZXgiLCAicHJvcHMiOiB7ImNvbG9yIjogNjk4OTkwM319Cg==');</script>\n",
       "    "
      ],
      "text/plain": [
       "<IPython.core.display.HTML object>"
      ]
     },
     "metadata": {},
     "output_type": "display_data"
    },
    {
     "data": {
      "text/html": [
       "\n",
       "        <div id=\"JMDjoo2R3i7J8ujr2iT9V6\"></div>\n",
       "        <script>netpixi.call('JMDjoo2R3i7J8ujr2iT9V6', 'Ufb9k93JGEnzenSYtwZ836', 'setGraph', 'eyJ0eXBlIjogInZlcnRleCIsICJwcm9wcyI6IHsic3JjIjogImNsYXNzIiwgImRzdCI6ICJfa2V5In19Cg==');</script>\n",
       "    "
      ],
      "text/plain": [
       "<IPython.core.display.HTML object>"
      ]
     },
     "metadata": {},
     "output_type": "display_data"
    },
    {
     "data": {
      "text/html": [
       "\n",
       "        <div id=\"XrBynUyzH7UVjS8bDMPR4S\"></div>\n",
       "        <script>netpixi.call('XrBynUyzH7UVjS8bDMPR4S', 'Ufb9k93JGEnzenSYtwZ836', 'changeGraph', 'eyJpZCI6ICI4MjgiLCAidHlwZSI6ICJ2ZXJ0ZXgiLCAicHJvcHMiOiB7ImNvbG9yIjogMTUxMTA0NTZ9fQo=');</script>\n",
       "    "
      ],
      "text/plain": [
       "<IPython.core.display.HTML object>"
      ]
     },
     "metadata": {},
     "output_type": "display_data"
    },
    {
     "data": {
      "text/html": [
       "\n",
       "        <div id=\"5fwiePh54stWmTJzX8xroo\"></div>\n",
       "        <script>netpixi.call('5fwiePh54stWmTJzX8xroo', 'Ufb9k93JGEnzenSYtwZ836', 'setGraph', 'eyJ0eXBlIjogInZlcnRleCIsICJwcm9wcyI6IHsic3JjIjogImNsYXNzIiwgImRzdCI6ICJfa2V5In19Cg==');</script>\n",
       "    "
      ],
      "text/plain": [
       "<IPython.core.display.HTML object>"
      ]
     },
     "metadata": {},
     "output_type": "display_data"
    },
    {
     "data": {
      "text/html": [
       "\n",
       "        <div id=\"Zr2XGzicG9AHVUAPE4avbC\"></div>\n",
       "        <script>netpixi.call('Zr2XGzicG9AHVUAPE4avbC', 'Ufb9k93JGEnzenSYtwZ836', 'changeGraph', 'eyJpZCI6ICI2MjgiLCAidHlwZSI6ICJ2ZXJ0ZXgiLCAicHJvcHMiOiB7ImNvbG9yIjogNjUyODB9fQo=');</script>\n",
       "    "
      ],
      "text/plain": [
       "<IPython.core.display.HTML object>"
      ]
     },
     "metadata": {},
     "output_type": "display_data"
    },
    {
     "data": {
      "text/html": [
       "\n",
       "        <div id=\"ZmHA8Txa39KkCovY76FKRB\"></div>\n",
       "        <script>netpixi.call('ZmHA8Txa39KkCovY76FKRB', 'Ufb9k93JGEnzenSYtwZ836', 'setGraph', 'eyJ0eXBlIjogInZlcnRleCIsICJwcm9wcyI6IHsic3JjIjogImNsYXNzIiwgImRzdCI6ICJfa2V5In19Cg==');</script>\n",
       "    "
      ],
      "text/plain": [
       "<IPython.core.display.HTML object>"
      ]
     },
     "metadata": {},
     "output_type": "display_data"
    },
    {
     "data": {
      "text/html": [
       "\n",
       "        <div id=\"5oanV9pZ8WPP8ZDehvDVVf\"></div>\n",
       "        <script>netpixi.call('5oanV9pZ8WPP8ZDehvDVVf', 'Ufb9k93JGEnzenSYtwZ836', 'changeGraph', 'eyJpZCI6ICI4MjQiLCAidHlwZSI6ICJ2ZXJ0ZXgiLCAicHJvcHMiOiB7ImNvbG9yIjogNjk4OTkwM319Cg==');</script>\n",
       "    "
      ],
      "text/plain": [
       "<IPython.core.display.HTML object>"
      ]
     },
     "metadata": {},
     "output_type": "display_data"
    },
    {
     "data": {
      "text/html": [
       "\n",
       "        <div id=\"6B92nAAkLyaPKGijpa43Te\"></div>\n",
       "        <script>netpixi.call('6B92nAAkLyaPKGijpa43Te', 'Ufb9k93JGEnzenSYtwZ836', 'setGraph', 'eyJ0eXBlIjogInZlcnRleCIsICJwcm9wcyI6IHsic3JjIjogImNsYXNzIiwgImRzdCI6ICJfa2V5In19Cg==');</script>\n",
       "    "
      ],
      "text/plain": [
       "<IPython.core.display.HTML object>"
      ]
     },
     "metadata": {},
     "output_type": "display_data"
    },
    {
     "data": {
      "text/html": [
       "\n",
       "        <div id=\"LnAzaK8PNB5xP8jgq2Ffk3\"></div>\n",
       "        <script>netpixi.call('LnAzaK8PNB5xP8jgq2Ffk3', 'Ufb9k93JGEnzenSYtwZ836', 'changeGraph', 'eyJpZCI6ICI4MjIiLCAidHlwZSI6ICJ2ZXJ0ZXgiLCAicHJvcHMiOiB7ImNvbG9yIjogNjk4OTkwM319Cg==');</script>\n",
       "    "
      ],
      "text/plain": [
       "<IPython.core.display.HTML object>"
      ]
     },
     "metadata": {},
     "output_type": "display_data"
    },
    {
     "data": {
      "text/html": [
       "\n",
       "        <div id=\"atPKC2hTHhSENVo2dsmkgn\"></div>\n",
       "        <script>netpixi.call('atPKC2hTHhSENVo2dsmkgn', 'Ufb9k93JGEnzenSYtwZ836', 'setGraph', 'eyJ0eXBlIjogInZlcnRleCIsICJwcm9wcyI6IHsic3JjIjogImNsYXNzIiwgImRzdCI6ICJfa2V5In19Cg==');</script>\n",
       "    "
      ],
      "text/plain": [
       "<IPython.core.display.HTML object>"
      ]
     },
     "metadata": {},
     "output_type": "display_data"
    },
    {
     "data": {
      "text/html": [
       "\n",
       "        <div id=\"cJ7uaVaib8h3Hf5xtrey5x\"></div>\n",
       "        <script>netpixi.call('cJ7uaVaib8h3Hf5xtrey5x', 'Ufb9k93JGEnzenSYtwZ836', 'changeGraph', 'eyJpZCI6ICI4NDUiLCAidHlwZSI6ICJ2ZXJ0ZXgiLCAicHJvcHMiOiB7ImNvbG9yIjogMTUxMTA0NTZ9fQo=');</script>\n",
       "    "
      ],
      "text/plain": [
       "<IPython.core.display.HTML object>"
      ]
     },
     "metadata": {},
     "output_type": "display_data"
    },
    {
     "data": {
      "text/html": [
       "\n",
       "        <div id=\"6QEov6U5gP8HxxzYM8drVR\"></div>\n",
       "        <script>netpixi.call('6QEov6U5gP8HxxzYM8drVR', 'Ufb9k93JGEnzenSYtwZ836', 'setGraph', 'eyJ0eXBlIjogInZlcnRleCIsICJwcm9wcyI6IHsic3JjIjogImNsYXNzIiwgImRzdCI6ICJfa2V5In19Cg==');</script>\n",
       "    "
      ],
      "text/plain": [
       "<IPython.core.display.HTML object>"
      ]
     },
     "metadata": {},
     "output_type": "display_data"
    },
    {
     "data": {
      "text/html": [
       "\n",
       "        <div id=\"FzgU7dTWybFRArBqMaaAhK\"></div>\n",
       "        <script>netpixi.call('FzgU7dTWybFRArBqMaaAhK', 'Ufb9k93JGEnzenSYtwZ836', 'changeGraph', 'eyJpZCI6ICI2NzYiLCAidHlwZSI6ICJ2ZXJ0ZXgiLCAicHJvcHMiOiB7ImNvbG9yIjogMTUxMTA0NTZ9fQo=');</script>\n",
       "    "
      ],
      "text/plain": [
       "<IPython.core.display.HTML object>"
      ]
     },
     "metadata": {},
     "output_type": "display_data"
    },
    {
     "data": {
      "text/html": [
       "\n",
       "        <div id=\"bLUZ2HygqCYLyGxP8ZxH8T\"></div>\n",
       "        <script>netpixi.call('bLUZ2HygqCYLyGxP8ZxH8T', 'Ufb9k93JGEnzenSYtwZ836', 'setGraph', 'eyJ0eXBlIjogInZlcnRleCIsICJwcm9wcyI6IHsic3JjIjogImNsYXNzIiwgImRzdCI6ICJfa2V5In19Cg==');</script>\n",
       "    "
      ],
      "text/plain": [
       "<IPython.core.display.HTML object>"
      ]
     },
     "metadata": {},
     "output_type": "display_data"
    },
    {
     "data": {
      "text/html": [
       "\n",
       "        <div id=\"8H3DukKkg6BLQ8QpwVNiSw\"></div>\n",
       "        <script>netpixi.call('8H3DukKkg6BLQ8QpwVNiSw', 'Ufb9k93JGEnzenSYtwZ836', 'changeGraph', 'eyJpZCI6ICI4NjIiLCAidHlwZSI6ICJ2ZXJ0ZXgiLCAicHJvcHMiOiB7ImNvbG9yIjogMTUxMTA0NTZ9fQo=');</script>\n",
       "    "
      ],
      "text/plain": [
       "<IPython.core.display.HTML object>"
      ]
     },
     "metadata": {},
     "output_type": "display_data"
    },
    {
     "data": {
      "text/html": [
       "\n",
       "        <div id=\"A7MgdZcmrQmWhr2KxsUFrX\"></div>\n",
       "        <script>netpixi.call('A7MgdZcmrQmWhr2KxsUFrX', 'Ufb9k93JGEnzenSYtwZ836', 'setGraph', 'eyJ0eXBlIjogInZlcnRleCIsICJwcm9wcyI6IHsic3JjIjogImNsYXNzIiwgImRzdCI6ICJfa2V5In19Cg==');</script>\n",
       "    "
      ],
      "text/plain": [
       "<IPython.core.display.HTML object>"
      ]
     },
     "metadata": {},
     "output_type": "display_data"
    },
    {
     "data": {
      "text/html": [
       "\n",
       "        <div id=\"ddqKhCoNzvML4EMruBYeeE\"></div>\n",
       "        <script>netpixi.call('ddqKhCoNzvML4EMruBYeeE', 'Ufb9k93JGEnzenSYtwZ836', 'changeGraph', 'eyJpZCI6ICIxNjI4IiwgInR5cGUiOiAidmVydGV4IiwgInByb3BzIjogeyJjb2xvciI6IDE2NzY2NzIwfX0K');</script>\n",
       "    "
      ],
      "text/plain": [
       "<IPython.core.display.HTML object>"
      ]
     },
     "metadata": {},
     "output_type": "display_data"
    },
    {
     "data": {
      "text/html": [
       "\n",
       "        <div id=\"YuoV2tNjoUVwBdjKnKNTnU\"></div>\n",
       "        <script>netpixi.call('YuoV2tNjoUVwBdjKnKNTnU', 'Ufb9k93JGEnzenSYtwZ836', 'setGraph', 'eyJ0eXBlIjogInZlcnRleCIsICJwcm9wcyI6IHsic3JjIjogImNsYXNzIiwgImRzdCI6ICJfa2V5In19Cg==');</script>\n",
       "    "
      ],
      "text/plain": [
       "<IPython.core.display.HTML object>"
      ]
     },
     "metadata": {},
     "output_type": "display_data"
    },
    {
     "data": {
      "text/html": [
       "\n",
       "        <div id=\"BRoeeRVd82DeixC6aV6LmW\"></div>\n",
       "        <script>netpixi.call('BRoeeRVd82DeixC6aV6LmW', 'Ufb9k93JGEnzenSYtwZ836', 'changeGraph', 'eyJpZCI6ICI4MzgiLCAidHlwZSI6ICJ2ZXJ0ZXgiLCAicHJvcHMiOiB7ImNvbG9yIjogMTUxMTA0NTZ9fQo=');</script>\n",
       "    "
      ],
      "text/plain": [
       "<IPython.core.display.HTML object>"
      ]
     },
     "metadata": {},
     "output_type": "display_data"
    },
    {
     "data": {
      "text/html": [
       "\n",
       "        <div id=\"ikWNQfFoxBatQaLeepfgfD\"></div>\n",
       "        <script>netpixi.call('ikWNQfFoxBatQaLeepfgfD', 'Ufb9k93JGEnzenSYtwZ836', 'setGraph', 'eyJ0eXBlIjogInZlcnRleCIsICJwcm9wcyI6IHsic3JjIjogImNsYXNzIiwgImRzdCI6ICJfa2V5In19Cg==');</script>\n",
       "    "
      ],
      "text/plain": [
       "<IPython.core.display.HTML object>"
      ]
     },
     "metadata": {},
     "output_type": "display_data"
    },
    {
     "data": {
      "text/html": [
       "\n",
       "        <div id=\"UwCAeHtMivgH57VyAYACMk\"></div>\n",
       "        <script>netpixi.call('UwCAeHtMivgH57VyAYACMk', 'Ufb9k93JGEnzenSYtwZ836', 'changeGraph', 'eyJpZCI6ICI4NTIiLCAidHlwZSI6ICJ2ZXJ0ZXgiLCAicHJvcHMiOiB7ImNvbG9yIjogMTUxMTA0NTZ9fQo=');</script>\n",
       "    "
      ],
      "text/plain": [
       "<IPython.core.display.HTML object>"
      ]
     },
     "metadata": {},
     "output_type": "display_data"
    },
    {
     "data": {
      "text/html": [
       "\n",
       "        <div id=\"GhvLKKqNkP2uikeZ8hjRAU\"></div>\n",
       "        <script>netpixi.call('GhvLKKqNkP2uikeZ8hjRAU', 'Ufb9k93JGEnzenSYtwZ836', 'setGraph', 'eyJ0eXBlIjogInZlcnRleCIsICJwcm9wcyI6IHsic3JjIjogImNsYXNzIiwgImRzdCI6ICJfa2V5In19Cg==');</script>\n",
       "    "
      ],
      "text/plain": [
       "<IPython.core.display.HTML object>"
      ]
     },
     "metadata": {},
     "output_type": "display_data"
    },
    {
     "data": {
      "text/html": [
       "\n",
       "        <div id=\"QDpRtGuxP3XRCv4qhhRdwm\"></div>\n",
       "        <script>netpixi.call('QDpRtGuxP3XRCv4qhhRdwm', 'Ufb9k93JGEnzenSYtwZ836', 'changeGraph', 'eyJpZCI6ICI2MjciLCAidHlwZSI6ICJ2ZXJ0ZXgiLCAicHJvcHMiOiB7ImNvbG9yIjogNjUyODB9fQo=');</script>\n",
       "    "
      ],
      "text/plain": [
       "<IPython.core.display.HTML object>"
      ]
     },
     "metadata": {},
     "output_type": "display_data"
    },
    {
     "data": {
      "text/html": [
       "\n",
       "        <div id=\"EVnR9SASZxsMa4aJ2seND7\"></div>\n",
       "        <script>netpixi.call('EVnR9SASZxsMa4aJ2seND7', 'Ufb9k93JGEnzenSYtwZ836', 'setGraph', 'eyJ0eXBlIjogInZlcnRleCIsICJwcm9wcyI6IHsic3JjIjogImNsYXNzIiwgImRzdCI6ICJfa2V5In19Cg==');</script>\n",
       "    "
      ],
      "text/plain": [
       "<IPython.core.display.HTML object>"
      ]
     },
     "metadata": {},
     "output_type": "display_data"
    },
    {
     "data": {
      "text/html": [
       "\n",
       "        <div id=\"XAhszfTYrduydVmQxTN8SQ\"></div>\n",
       "        <script>netpixi.call('XAhszfTYrduydVmQxTN8SQ', 'Ufb9k93JGEnzenSYtwZ836', 'changeGraph', 'eyJpZCI6ICI2MzUiLCAidHlwZSI6ICJ2ZXJ0ZXgiLCAicHJvcHMiOiB7ImNvbG9yIjogNjUyODB9fQo=');</script>\n",
       "    "
      ],
      "text/plain": [
       "<IPython.core.display.HTML object>"
      ]
     },
     "metadata": {},
     "output_type": "display_data"
    },
    {
     "data": {
      "text/html": [
       "\n",
       "        <div id=\"ZSktgDRfUeCpYQetwDsRSY\"></div>\n",
       "        <script>netpixi.call('ZSktgDRfUeCpYQetwDsRSY', 'Ufb9k93JGEnzenSYtwZ836', 'setGraph', 'eyJ0eXBlIjogInZlcnRleCIsICJwcm9wcyI6IHsic3JjIjogImNsYXNzIiwgImRzdCI6ICJfa2V5In19Cg==');</script>\n",
       "    "
      ],
      "text/plain": [
       "<IPython.core.display.HTML object>"
      ]
     },
     "metadata": {},
     "output_type": "display_data"
    },
    {
     "data": {
      "text/html": [
       "\n",
       "        <div id=\"WBHu7W9KSuXDhjGEkSjJ6f\"></div>\n",
       "        <script>netpixi.call('WBHu7W9KSuXDhjGEkSjJ6f', 'Ufb9k93JGEnzenSYtwZ836', 'changeGraph', 'eyJpZCI6ICI4OTgiLCAidHlwZSI6ICJ2ZXJ0ZXgiLCAicHJvcHMiOiB7ImNvbG9yIjogNjk4OTkwM319Cg==');</script>\n",
       "    "
      ],
      "text/plain": [
       "<IPython.core.display.HTML object>"
      ]
     },
     "metadata": {},
     "output_type": "display_data"
    },
    {
     "data": {
      "text/html": [
       "\n",
       "        <div id=\"m5C88yJHJFEfLtaEgc4P4B\"></div>\n",
       "        <script>netpixi.call('m5C88yJHJFEfLtaEgc4P4B', 'Ufb9k93JGEnzenSYtwZ836', 'setGraph', 'eyJ0eXBlIjogInZlcnRleCIsICJwcm9wcyI6IHsic3JjIjogImNsYXNzIiwgImRzdCI6ICJfa2V5In19Cg==');</script>\n",
       "    "
      ],
      "text/plain": [
       "<IPython.core.display.HTML object>"
      ]
     },
     "metadata": {},
     "output_type": "display_data"
    },
    {
     "data": {
      "text/html": [
       "\n",
       "        <div id=\"kSaqbwn8WvYZWbzzJQuJKM\"></div>\n",
       "        <script>netpixi.call('kSaqbwn8WvYZWbzzJQuJKM', 'Ufb9k93JGEnzenSYtwZ836', 'changeGraph', 'eyJpZCI6ICI2MTIiLCAidHlwZSI6ICJ2ZXJ0ZXgiLCAicHJvcHMiOiB7ImNvbG9yIjogMTAwNDAyMTd9fQo=');</script>\n",
       "    "
      ],
      "text/plain": [
       "<IPython.core.display.HTML object>"
      ]
     },
     "metadata": {},
     "output_type": "display_data"
    },
    {
     "data": {
      "text/html": [
       "\n",
       "        <div id=\"2dQjHSmpoESKR2czvY5r7Y\"></div>\n",
       "        <script>netpixi.call('2dQjHSmpoESKR2czvY5r7Y', 'Ufb9k93JGEnzenSYtwZ836', 'setGraph', 'eyJ0eXBlIjogInZlcnRleCIsICJwcm9wcyI6IHsic3JjIjogImNsYXNzIiwgImRzdCI6ICJfa2V5In19Cg==');</script>\n",
       "    "
      ],
      "text/plain": [
       "<IPython.core.display.HTML object>"
      ]
     },
     "metadata": {},
     "output_type": "display_data"
    },
    {
     "data": {
      "text/html": [
       "\n",
       "        <div id=\"kADKcF3E6uPCbNTcQXbtro\"></div>\n",
       "        <script>netpixi.call('kADKcF3E6uPCbNTcQXbtro', 'Ufb9k93JGEnzenSYtwZ836', 'changeGraph', 'eyJpZCI6ICI2NDEiLCAidHlwZSI6ICJ2ZXJ0ZXgiLCAicHJvcHMiOiB7ImNvbG9yIjogMTAwNDAyMTd9fQo=');</script>\n",
       "    "
      ],
      "text/plain": [
       "<IPython.core.display.HTML object>"
      ]
     },
     "metadata": {},
     "output_type": "display_data"
    },
    {
     "data": {
      "text/html": [
       "\n",
       "        <div id=\"V86EQD38PZVWxkVzTHXcQZ\"></div>\n",
       "        <script>netpixi.call('V86EQD38PZVWxkVzTHXcQZ', 'Ufb9k93JGEnzenSYtwZ836', 'setGraph', 'eyJ0eXBlIjogInZlcnRleCIsICJwcm9wcyI6IHsic3JjIjogImNsYXNzIiwgImRzdCI6ICJfa2V5In19Cg==');</script>\n",
       "    "
      ],
      "text/plain": [
       "<IPython.core.display.HTML object>"
      ]
     },
     "metadata": {},
     "output_type": "display_data"
    },
    {
     "data": {
      "text/html": [
       "\n",
       "        <div id=\"HsLCDXsAgGSaxhdEsngJpx\"></div>\n",
       "        <script>netpixi.call('HsLCDXsAgGSaxhdEsngJpx', 'Ufb9k93JGEnzenSYtwZ836', 'changeGraph', 'eyJpZCI6ICI2OTkiLCAidHlwZSI6ICJ2ZXJ0ZXgiLCAicHJvcHMiOiB7ImNvbG9yIjogMTAwNDAyMTd9fQo=');</script>\n",
       "    "
      ],
      "text/plain": [
       "<IPython.core.display.HTML object>"
      ]
     },
     "metadata": {},
     "output_type": "display_data"
    },
    {
     "data": {
      "text/html": [
       "\n",
       "        <div id=\"T6XEqkUAw9JiWR6NDHxbwT\"></div>\n",
       "        <script>netpixi.call('T6XEqkUAw9JiWR6NDHxbwT', 'Ufb9k93JGEnzenSYtwZ836', 'setGraph', 'eyJ0eXBlIjogInZlcnRleCIsICJwcm9wcyI6IHsic3JjIjogImNsYXNzIiwgImRzdCI6ICJfa2V5In19Cg==');</script>\n",
       "    "
      ],
      "text/plain": [
       "<IPython.core.display.HTML object>"
      ]
     },
     "metadata": {},
     "output_type": "display_data"
    },
    {
     "data": {
      "text/html": [
       "\n",
       "        <div id=\"FGoVXDaU6c5D8epfKoJ2R2\"></div>\n",
       "        <script>netpixi.call('FGoVXDaU6c5D8epfKoJ2R2', 'Ufb9k93JGEnzenSYtwZ836', 'changeGraph', 'eyJpZCI6ICI2MjAiLCAidHlwZSI6ICJ2ZXJ0ZXgiLCAicHJvcHMiOiB7ImNvbG9yIjogMTAwNDAyMTd9fQo=');</script>\n",
       "    "
      ],
      "text/plain": [
       "<IPython.core.display.HTML object>"
      ]
     },
     "metadata": {},
     "output_type": "display_data"
    },
    {
     "data": {
      "text/html": [
       "\n",
       "        <div id=\"FCEsYjQngJuXuT23NB5wkX\"></div>\n",
       "        <script>netpixi.call('FCEsYjQngJuXuT23NB5wkX', 'Ufb9k93JGEnzenSYtwZ836', 'setGraph', 'eyJ0eXBlIjogInZlcnRleCIsICJwcm9wcyI6IHsic3JjIjogImNsYXNzIiwgImRzdCI6ICJfa2V5In19Cg==');</script>\n",
       "    "
      ],
      "text/plain": [
       "<IPython.core.display.HTML object>"
      ]
     },
     "metadata": {},
     "output_type": "display_data"
    },
    {
     "data": {
      "text/html": [
       "\n",
       "        <div id=\"n2Qodt43By2x8YLrXyBtTP\"></div>\n",
       "        <script>netpixi.call('n2Qodt43By2x8YLrXyBtTP', 'Ufb9k93JGEnzenSYtwZ836', 'changeGraph', 'eyJpZCI6ICI4MjciLCAidHlwZSI6ICJ2ZXJ0ZXgiLCAicHJvcHMiOiB7ImNvbG9yIjogMTUxMTA0NTZ9fQo=');</script>\n",
       "    "
      ],
      "text/plain": [
       "<IPython.core.display.HTML object>"
      ]
     },
     "metadata": {},
     "output_type": "display_data"
    },
    {
     "data": {
      "text/html": [
       "\n",
       "        <div id=\"9UtVJGo9NGZX2AUoHTXYPM\"></div>\n",
       "        <script>netpixi.call('9UtVJGo9NGZX2AUoHTXYPM', 'Ufb9k93JGEnzenSYtwZ836', 'setGraph', 'eyJ0eXBlIjogInZlcnRleCIsICJwcm9wcyI6IHsic3JjIjogImNsYXNzIiwgImRzdCI6ICJfa2V5In19Cg==');</script>\n",
       "    "
      ],
      "text/plain": [
       "<IPython.core.display.HTML object>"
      ]
     },
     "metadata": {},
     "output_type": "display_data"
    },
    {
     "data": {
      "text/html": [
       "\n",
       "        <div id=\"BzNh4HgA7bLArXHphQkPyD\"></div>\n",
       "        <script>netpixi.call('BzNh4HgA7bLArXHphQkPyD', 'Ufb9k93JGEnzenSYtwZ836', 'changeGraph', 'eyJpZCI6ICI2NzQiLCAidHlwZSI6ICJ2ZXJ0ZXgiLCAicHJvcHMiOiB7ImNvbG9yIjogMTAwNDAyMTd9fQo=');</script>\n",
       "    "
      ],
      "text/plain": [
       "<IPython.core.display.HTML object>"
      ]
     },
     "metadata": {},
     "output_type": "display_data"
    },
    {
     "data": {
      "text/html": [
       "\n",
       "        <div id=\"Zt69tMWWEC6czwDLejWm2X\"></div>\n",
       "        <script>netpixi.call('Zt69tMWWEC6czwDLejWm2X', 'Ufb9k93JGEnzenSYtwZ836', 'setGraph', 'eyJ0eXBlIjogInZlcnRleCIsICJwcm9wcyI6IHsic3JjIjogImNsYXNzIiwgImRzdCI6ICJfa2V5In19Cg==');</script>\n",
       "    "
      ],
      "text/plain": [
       "<IPython.core.display.HTML object>"
      ]
     },
     "metadata": {},
     "output_type": "display_data"
    },
    {
     "data": {
      "text/html": [
       "\n",
       "        <div id=\"PVe2xwrgmVWecXbKMqadvc\"></div>\n",
       "        <script>netpixi.call('PVe2xwrgmVWecXbKMqadvc', 'Ufb9k93JGEnzenSYtwZ836', 'changeGraph', 'eyJpZCI6ICI2MjIiLCAidHlwZSI6ICJ2ZXJ0ZXgiLCAicHJvcHMiOiB7ImNvbG9yIjogMTAwNDAyMTd9fQo=');</script>\n",
       "    "
      ],
      "text/plain": [
       "<IPython.core.display.HTML object>"
      ]
     },
     "metadata": {},
     "output_type": "display_data"
    },
    {
     "data": {
      "text/html": [
       "\n",
       "        <div id=\"EXmD4JJUaxc3KauPSYmDvi\"></div>\n",
       "        <script>netpixi.call('EXmD4JJUaxc3KauPSYmDvi', 'Ufb9k93JGEnzenSYtwZ836', 'setGraph', 'eyJ0eXBlIjogInZlcnRleCIsICJwcm9wcyI6IHsic3JjIjogImNsYXNzIiwgImRzdCI6ICJfa2V5In19Cg==');</script>\n",
       "    "
      ],
      "text/plain": [
       "<IPython.core.display.HTML object>"
      ]
     },
     "metadata": {},
     "output_type": "display_data"
    },
    {
     "data": {
      "text/html": [
       "\n",
       "        <div id=\"FFprLjjiHGCdta482q2DZa\"></div>\n",
       "        <script>netpixi.call('FFprLjjiHGCdta482q2DZa', 'Ufb9k93JGEnzenSYtwZ836', 'changeGraph', 'eyJpZCI6ICI2OTUiLCAidHlwZSI6ICJ2ZXJ0ZXgiLCAicHJvcHMiOiB7ImNvbG9yIjogMTAwNDAyMTd9fQo=');</script>\n",
       "    "
      ],
      "text/plain": [
       "<IPython.core.display.HTML object>"
      ]
     },
     "metadata": {},
     "output_type": "display_data"
    },
    {
     "data": {
      "text/html": [
       "\n",
       "        <div id=\"7yMH4RS3gtnWESpe5XxKgW\"></div>\n",
       "        <script>netpixi.call('7yMH4RS3gtnWESpe5XxKgW', 'Ufb9k93JGEnzenSYtwZ836', 'setGraph', 'eyJ0eXBlIjogInZlcnRleCIsICJwcm9wcyI6IHsic3JjIjogImNsYXNzIiwgImRzdCI6ICJfa2V5In19Cg==');</script>\n",
       "    "
      ],
      "text/plain": [
       "<IPython.core.display.HTML object>"
      ]
     },
     "metadata": {},
     "output_type": "display_data"
    },
    {
     "data": {
      "text/html": [
       "\n",
       "        <div id=\"KrMjnaYDdxVjjFhspUkS3Q\"></div>\n",
       "        <script>netpixi.call('KrMjnaYDdxVjjFhspUkS3Q', 'Ufb9k93JGEnzenSYtwZ836', 'changeGraph', 'eyJpZCI6ICI2ODUiLCAidHlwZSI6ICJ2ZXJ0ZXgiLCAicHJvcHMiOiB7ImNvbG9yIjogMTAwNDAyMTd9fQo=');</script>\n",
       "    "
      ],
      "text/plain": [
       "<IPython.core.display.HTML object>"
      ]
     },
     "metadata": {},
     "output_type": "display_data"
    },
    {
     "data": {
      "text/html": [
       "\n",
       "        <div id=\"mHNYaMevQJVq8rv3gHrGhH\"></div>\n",
       "        <script>netpixi.call('mHNYaMevQJVq8rv3gHrGhH', 'Ufb9k93JGEnzenSYtwZ836', 'setGraph', 'eyJ0eXBlIjogInZlcnRleCIsICJwcm9wcyI6IHsic3JjIjogImNsYXNzIiwgImRzdCI6ICJfa2V5In19Cg==');</script>\n",
       "    "
      ],
      "text/plain": [
       "<IPython.core.display.HTML object>"
      ]
     },
     "metadata": {},
     "output_type": "display_data"
    },
    {
     "data": {
      "text/html": [
       "\n",
       "        <div id=\"cw9wcHvFErKfhUJCcXTTgT\"></div>\n",
       "        <script>netpixi.call('cw9wcHvFErKfhUJCcXTTgT', 'Ufb9k93JGEnzenSYtwZ836', 'changeGraph', 'eyJpZCI6ICI2ODQiLCAidHlwZSI6ICJ2ZXJ0ZXgiLCAicHJvcHMiOiB7ImNvbG9yIjogMTAwNDAyMTd9fQo=');</script>\n",
       "    "
      ],
      "text/plain": [
       "<IPython.core.display.HTML object>"
      ]
     },
     "metadata": {},
     "output_type": "display_data"
    },
    {
     "data": {
      "text/html": [
       "\n",
       "        <div id=\"5oEVDS7YsksGkNUMNECQX7\"></div>\n",
       "        <script>netpixi.call('5oEVDS7YsksGkNUMNECQX7', 'Ufb9k93JGEnzenSYtwZ836', 'setGraph', 'eyJ0eXBlIjogInZlcnRleCIsICJwcm9wcyI6IHsic3JjIjogImNsYXNzIiwgImRzdCI6ICJfa2V5In19Cg==');</script>\n",
       "    "
      ],
      "text/plain": [
       "<IPython.core.display.HTML object>"
      ]
     },
     "metadata": {},
     "output_type": "display_data"
    },
    {
     "data": {
      "text/html": [
       "\n",
       "        <div id=\"jQszPwdY28LUZQhNas6Sny\"></div>\n",
       "        <script>netpixi.call('jQszPwdY28LUZQhNas6Sny', 'Ufb9k93JGEnzenSYtwZ836', 'changeGraph', 'eyJpZCI6ICI2MDYiLCAidHlwZSI6ICJ2ZXJ0ZXgiLCAicHJvcHMiOiB7ImNvbG9yIjogMTAwNDAyMTd9fQo=');</script>\n",
       "    "
      ],
      "text/plain": [
       "<IPython.core.display.HTML object>"
      ]
     },
     "metadata": {},
     "output_type": "display_data"
    },
    {
     "data": {
      "text/html": [
       "\n",
       "        <div id=\"Wi9RAbezm4mzgeJXRuyCAq\"></div>\n",
       "        <script>netpixi.call('Wi9RAbezm4mzgeJXRuyCAq', 'Ufb9k93JGEnzenSYtwZ836', 'setGraph', 'eyJ0eXBlIjogInZlcnRleCIsICJwcm9wcyI6IHsic3JjIjogImNsYXNzIiwgImRzdCI6ICJfa2V5In19Cg==');</script>\n",
       "    "
      ],
      "text/plain": [
       "<IPython.core.display.HTML object>"
      ]
     },
     "metadata": {},
     "output_type": "display_data"
    },
    {
     "data": {
      "text/html": [
       "\n",
       "        <div id=\"47aV4MU9BF3CjZBYe7xfzk\"></div>\n",
       "        <script>netpixi.call('47aV4MU9BF3CjZBYe7xfzk', 'Ufb9k93JGEnzenSYtwZ836', 'changeGraph', 'eyJpZCI6ICI2NTAiLCAidHlwZSI6ICJ2ZXJ0ZXgiLCAicHJvcHMiOiB7ImNvbG9yIjogMTAwNDAyMTd9fQo=');</script>\n",
       "    "
      ],
      "text/plain": [
       "<IPython.core.display.HTML object>"
      ]
     },
     "metadata": {},
     "output_type": "display_data"
    },
    {
     "data": {
      "text/html": [
       "\n",
       "        <div id=\"kSBXmUHXKYUptkthRgnFkR\"></div>\n",
       "        <script>netpixi.call('kSBXmUHXKYUptkthRgnFkR', 'Ufb9k93JGEnzenSYtwZ836', 'setGraph', 'eyJ0eXBlIjogInZlcnRleCIsICJwcm9wcyI6IHsic3JjIjogImNsYXNzIiwgImRzdCI6ICJfa2V5In19Cg==');</script>\n",
       "    "
      ],
      "text/plain": [
       "<IPython.core.display.HTML object>"
      ]
     },
     "metadata": {},
     "output_type": "display_data"
    },
    {
     "data": {
      "text/html": [
       "\n",
       "        <div id=\"iwqHmwkekzxAhSU4MvKSuh\"></div>\n",
       "        <script>netpixi.call('iwqHmwkekzxAhSU4MvKSuh', 'Ufb9k93JGEnzenSYtwZ836', 'changeGraph', 'eyJpZCI6ICI2MTEiLCAidHlwZSI6ICJ2ZXJ0ZXgiLCAicHJvcHMiOiB7ImNvbG9yIjogMTAwNDAyMTd9fQo=');</script>\n",
       "    "
      ],
      "text/plain": [
       "<IPython.core.display.HTML object>"
      ]
     },
     "metadata": {},
     "output_type": "display_data"
    },
    {
     "data": {
      "text/html": [
       "\n",
       "        <div id=\"P4npyZMmDk9pZRqK8Cd7ME\"></div>\n",
       "        <script>netpixi.call('P4npyZMmDk9pZRqK8Cd7ME', 'Ufb9k93JGEnzenSYtwZ836', 'setGraph', 'eyJ0eXBlIjogInZlcnRleCIsICJwcm9wcyI6IHsic3JjIjogImNsYXNzIiwgImRzdCI6ICJfa2V5In19Cg==');</script>\n",
       "    "
      ],
      "text/plain": [
       "<IPython.core.display.HTML object>"
      ]
     },
     "metadata": {},
     "output_type": "display_data"
    },
    {
     "data": {
      "text/html": [
       "\n",
       "        <div id=\"eVCtj6BmSwHzJ378TPbaaP\"></div>\n",
       "        <script>netpixi.call('eVCtj6BmSwHzJ378TPbaaP', 'Ufb9k93JGEnzenSYtwZ836', 'changeGraph', 'eyJpZCI6ICI2MDMiLCAidHlwZSI6ICJ2ZXJ0ZXgiLCAicHJvcHMiOiB7ImNvbG9yIjogMTAwNDAyMTd9fQo=');</script>\n",
       "    "
      ],
      "text/plain": [
       "<IPython.core.display.HTML object>"
      ]
     },
     "metadata": {},
     "output_type": "display_data"
    },
    {
     "data": {
      "text/html": [
       "\n",
       "        <div id=\"cPuQTW5PvTwHk4Bt9BDZWp\"></div>\n",
       "        <script>netpixi.call('cPuQTW5PvTwHk4Bt9BDZWp', 'Ufb9k93JGEnzenSYtwZ836', 'setGraph', 'eyJ0eXBlIjogInZlcnRleCIsICJwcm9wcyI6IHsic3JjIjogImNsYXNzIiwgImRzdCI6ICJfa2V5In19Cg==');</script>\n",
       "    "
      ],
      "text/plain": [
       "<IPython.core.display.HTML object>"
      ]
     },
     "metadata": {},
     "output_type": "display_data"
    },
    {
     "data": {
      "text/html": [
       "\n",
       "        <div id=\"22mTckzDbT5jsi3EjzaF3z\"></div>\n",
       "        <script>netpixi.call('22mTckzDbT5jsi3EjzaF3z', 'Ufb9k93JGEnzenSYtwZ836', 'changeGraph', 'eyJpZCI6ICI2MTUiLCAidHlwZSI6ICJ2ZXJ0ZXgiLCAicHJvcHMiOiB7ImNvbG9yIjogMTAwNDAyMTd9fQo=');</script>\n",
       "    "
      ],
      "text/plain": [
       "<IPython.core.display.HTML object>"
      ]
     },
     "metadata": {},
     "output_type": "display_data"
    },
    {
     "data": {
      "text/html": [
       "\n",
       "        <div id=\"iLpS2bYQreuA2id5HsNhkY\"></div>\n",
       "        <script>netpixi.call('iLpS2bYQreuA2id5HsNhkY', 'Ufb9k93JGEnzenSYtwZ836', 'setGraph', 'eyJ0eXBlIjogInZlcnRleCIsICJwcm9wcyI6IHsic3JjIjogImNsYXNzIiwgImRzdCI6ICJfa2V5In19Cg==');</script>\n",
       "    "
      ],
      "text/plain": [
       "<IPython.core.display.HTML object>"
      ]
     },
     "metadata": {},
     "output_type": "display_data"
    },
    {
     "data": {
      "text/html": [
       "\n",
       "        <div id=\"KqmqDmbMyBefUkgSWQejMx\"></div>\n",
       "        <script>netpixi.call('KqmqDmbMyBefUkgSWQejMx', 'Ufb9k93JGEnzenSYtwZ836', 'changeGraph', 'eyJpZCI6ICI2NjkiLCAidHlwZSI6ICJ2ZXJ0ZXgiLCAicHJvcHMiOiB7ImNvbG9yIjogMTAwNDAyMTd9fQo=');</script>\n",
       "    "
      ],
      "text/plain": [
       "<IPython.core.display.HTML object>"
      ]
     },
     "metadata": {},
     "output_type": "display_data"
    },
    {
     "data": {
      "text/html": [
       "\n",
       "        <div id=\"gwqNMuRvwYaBMFYfUaA47i\"></div>\n",
       "        <script>netpixi.call('gwqNMuRvwYaBMFYfUaA47i', 'Ufb9k93JGEnzenSYtwZ836', 'setGraph', 'eyJ0eXBlIjogInZlcnRleCIsICJwcm9wcyI6IHsic3JjIjogImNsYXNzIiwgImRzdCI6ICJfa2V5In19Cg==');</script>\n",
       "    "
      ],
      "text/plain": [
       "<IPython.core.display.HTML object>"
      ]
     },
     "metadata": {},
     "output_type": "display_data"
    },
    {
     "data": {
      "text/html": [
       "\n",
       "        <div id=\"ht688jSTbJBLamsgWSaKWM\"></div>\n",
       "        <script>netpixi.call('ht688jSTbJBLamsgWSaKWM', 'Ufb9k93JGEnzenSYtwZ836', 'changeGraph', 'eyJpZCI6ICI2MTkiLCAidHlwZSI6ICJ2ZXJ0ZXgiLCAicHJvcHMiOiB7ImNvbG9yIjogMTAwNDAyMTd9fQo=');</script>\n",
       "    "
      ],
      "text/plain": [
       "<IPython.core.display.HTML object>"
      ]
     },
     "metadata": {},
     "output_type": "display_data"
    },
    {
     "data": {
      "text/html": [
       "\n",
       "        <div id=\"DUwDFEF3iHkNQE7PGrcyTj\"></div>\n",
       "        <script>netpixi.call('DUwDFEF3iHkNQE7PGrcyTj', 'Ufb9k93JGEnzenSYtwZ836', 'setGraph', 'eyJ0eXBlIjogInZlcnRleCIsICJwcm9wcyI6IHsic3JjIjogImNsYXNzIiwgImRzdCI6ICJfa2V5In19Cg==');</script>\n",
       "    "
      ],
      "text/plain": [
       "<IPython.core.display.HTML object>"
      ]
     },
     "metadata": {},
     "output_type": "display_data"
    },
    {
     "data": {
      "text/html": [
       "\n",
       "        <div id=\"jSg7EfTnzAmZu843fsufbF\"></div>\n",
       "        <script>netpixi.call('jSg7EfTnzAmZu843fsufbF', 'Ufb9k93JGEnzenSYtwZ836', 'changeGraph', 'eyJpZCI6ICI2NDkiLCAidHlwZSI6ICJ2ZXJ0ZXgiLCAicHJvcHMiOiB7ImNvbG9yIjogMTAwNDAyMTd9fQo=');</script>\n",
       "    "
      ],
      "text/plain": [
       "<IPython.core.display.HTML object>"
      ]
     },
     "metadata": {},
     "output_type": "display_data"
    },
    {
     "data": {
      "text/html": [
       "\n",
       "        <div id=\"3scsswgLZaRCtw7KME3YCk\"></div>\n",
       "        <script>netpixi.call('3scsswgLZaRCtw7KME3YCk', 'Ufb9k93JGEnzenSYtwZ836', 'setGraph', 'eyJ0eXBlIjogInZlcnRleCIsICJwcm9wcyI6IHsic3JjIjogImNsYXNzIiwgImRzdCI6ICJfa2V5In19Cg==');</script>\n",
       "    "
      ],
      "text/plain": [
       "<IPython.core.display.HTML object>"
      ]
     },
     "metadata": {},
     "output_type": "display_data"
    },
    {
     "data": {
      "text/html": [
       "\n",
       "        <div id=\"Bc36bGXdbQnVrNijdAasWF\"></div>\n",
       "        <script>netpixi.call('Bc36bGXdbQnVrNijdAasWF', 'Ufb9k93JGEnzenSYtwZ836', 'changeGraph', 'eyJpZCI6ICIxODU2IiwgInR5cGUiOiAidmVydGV4IiwgInByb3BzIjogeyJjb2xvciI6IDE2NzY2NzIwfX0K');</script>\n",
       "    "
      ],
      "text/plain": [
       "<IPython.core.display.HTML object>"
      ]
     },
     "metadata": {},
     "output_type": "display_data"
    },
    {
     "data": {
      "text/html": [
       "\n",
       "        <div id=\"3wMooUnnYv5N3fZD94cLxn\"></div>\n",
       "        <script>netpixi.call('3wMooUnnYv5N3fZD94cLxn', 'Ufb9k93JGEnzenSYtwZ836', 'setGraph', 'eyJ0eXBlIjogInZlcnRleCIsICJwcm9wcyI6IHsic3JjIjogImNsYXNzIiwgImRzdCI6ICJfa2V5In19Cg==');</script>\n",
       "    "
      ],
      "text/plain": [
       "<IPython.core.display.HTML object>"
      ]
     },
     "metadata": {},
     "output_type": "display_data"
    },
    {
     "data": {
      "text/html": [
       "\n",
       "        <div id=\"NiVv5xDzBeNFMAkfjHEcn4\"></div>\n",
       "        <script>netpixi.call('NiVv5xDzBeNFMAkfjHEcn4', 'Ufb9k93JGEnzenSYtwZ836', 'changeGraph', 'eyJpZCI6ICI2NDciLCAidHlwZSI6ICJ2ZXJ0ZXgiLCAicHJvcHMiOiB7ImNvbG9yIjogMTAwNDAyMTd9fQo=');</script>\n",
       "    "
      ],
      "text/plain": [
       "<IPython.core.display.HTML object>"
      ]
     },
     "metadata": {},
     "output_type": "display_data"
    },
    {
     "data": {
      "text/html": [
       "\n",
       "        <div id=\"i2So4aNYPnRamqW4TjCiGH\"></div>\n",
       "        <script>netpixi.call('i2So4aNYPnRamqW4TjCiGH', 'Ufb9k93JGEnzenSYtwZ836', 'setGraph', 'eyJ0eXBlIjogInZlcnRleCIsICJwcm9wcyI6IHsic3JjIjogImNsYXNzIiwgImRzdCI6ICJfa2V5In19Cg==');</script>\n",
       "    "
      ],
      "text/plain": [
       "<IPython.core.display.HTML object>"
      ]
     },
     "metadata": {},
     "output_type": "display_data"
    },
    {
     "data": {
      "text/html": [
       "\n",
       "        <div id=\"BKhu9d2p8zNMJwgyHKBm3C\"></div>\n",
       "        <script>netpixi.call('BKhu9d2p8zNMJwgyHKBm3C', 'Ufb9k93JGEnzenSYtwZ836', 'changeGraph', 'eyJpZCI6ICI2NjgiLCAidHlwZSI6ICJ2ZXJ0ZXgiLCAicHJvcHMiOiB7ImNvbG9yIjogMTAwNDAyMTd9fQo=');</script>\n",
       "    "
      ],
      "text/plain": [
       "<IPython.core.display.HTML object>"
      ]
     },
     "metadata": {},
     "output_type": "display_data"
    },
    {
     "data": {
      "text/html": [
       "\n",
       "        <div id=\"WkrLagQy9nXRqu9riJ3MPv\"></div>\n",
       "        <script>netpixi.call('WkrLagQy9nXRqu9riJ3MPv', 'Ufb9k93JGEnzenSYtwZ836', 'setGraph', 'eyJ0eXBlIjogInZlcnRleCIsICJwcm9wcyI6IHsic3JjIjogImNsYXNzIiwgImRzdCI6ICJfa2V5In19Cg==');</script>\n",
       "    "
      ],
      "text/plain": [
       "<IPython.core.display.HTML object>"
      ]
     },
     "metadata": {},
     "output_type": "display_data"
    },
    {
     "data": {
      "text/html": [
       "\n",
       "        <div id=\"Pe7itvtP5G5SoCMQuQCD9J\"></div>\n",
       "        <script>netpixi.call('Pe7itvtP5G5SoCMQuQCD9J', 'Ufb9k93JGEnzenSYtwZ836', 'changeGraph', 'eyJpZCI6ICI2NzgiLCAidHlwZSI6ICJ2ZXJ0ZXgiLCAicHJvcHMiOiB7ImNvbG9yIjogMTAwNDAyMTd9fQo=');</script>\n",
       "    "
      ],
      "text/plain": [
       "<IPython.core.display.HTML object>"
      ]
     },
     "metadata": {},
     "output_type": "display_data"
    },
    {
     "data": {
      "text/html": [
       "\n",
       "        <div id=\"UQVKLYPnBSeY7UQgE94WqE\"></div>\n",
       "        <script>netpixi.call('UQVKLYPnBSeY7UQgE94WqE', 'Ufb9k93JGEnzenSYtwZ836', 'setGraph', 'eyJ0eXBlIjogInZlcnRleCIsICJwcm9wcyI6IHsic3JjIjogImNsYXNzIiwgImRzdCI6ICJfa2V5In19Cg==');</script>\n",
       "    "
      ],
      "text/plain": [
       "<IPython.core.display.HTML object>"
      ]
     },
     "metadata": {},
     "output_type": "display_data"
    },
    {
     "data": {
      "text/html": [
       "\n",
       "        <div id=\"KMUMQ6JLVEA6gmdcCnJsFP\"></div>\n",
       "        <script>netpixi.call('KMUMQ6JLVEA6gmdcCnJsFP', 'Ufb9k93JGEnzenSYtwZ836', 'changeGraph', 'eyJpZCI6ICI2NzciLCAidHlwZSI6ICJ2ZXJ0ZXgiLCAicHJvcHMiOiB7ImNvbG9yIjogMTAwNDAyMTd9fQo=');</script>\n",
       "    "
      ],
      "text/plain": [
       "<IPython.core.display.HTML object>"
      ]
     },
     "metadata": {},
     "output_type": "display_data"
    },
    {
     "data": {
      "text/html": [
       "\n",
       "        <div id=\"SBMPq2z8qeRtP5LnXtiYAY\"></div>\n",
       "        <script>netpixi.call('SBMPq2z8qeRtP5LnXtiYAY', 'Ufb9k93JGEnzenSYtwZ836', 'setGraph', 'eyJ0eXBlIjogInZlcnRleCIsICJwcm9wcyI6IHsic3JjIjogImNsYXNzIiwgImRzdCI6ICJfa2V5In19Cg==');</script>\n",
       "    "
      ],
      "text/plain": [
       "<IPython.core.display.HTML object>"
      ]
     },
     "metadata": {},
     "output_type": "display_data"
    },
    {
     "data": {
      "text/html": [
       "\n",
       "        <div id=\"PREZSH69t3a3JFXsjZeduV\"></div>\n",
       "        <script>netpixi.call('PREZSH69t3a3JFXsjZeduV', 'Ufb9k93JGEnzenSYtwZ836', 'changeGraph', 'eyJpZCI6ICI4MDkiLCAidHlwZSI6ICJ2ZXJ0ZXgiLCAicHJvcHMiOiB7ImNvbG9yIjogNjk4OTkwM319Cg==');</script>\n",
       "    "
      ],
      "text/plain": [
       "<IPython.core.display.HTML object>"
      ]
     },
     "metadata": {},
     "output_type": "display_data"
    },
    {
     "data": {
      "text/html": [
       "\n",
       "        <div id=\"S3F4t6JkMKViPe6fjkcMmK\"></div>\n",
       "        <script>netpixi.call('S3F4t6JkMKViPe6fjkcMmK', 'Ufb9k93JGEnzenSYtwZ836', 'setGraph', 'eyJ0eXBlIjogInZlcnRleCIsICJwcm9wcyI6IHsic3JjIjogImNsYXNzIiwgImRzdCI6ICJfa2V5In19Cg==');</script>\n",
       "    "
      ],
      "text/plain": [
       "<IPython.core.display.HTML object>"
      ]
     },
     "metadata": {},
     "output_type": "display_data"
    },
    {
     "data": {
      "text/html": [
       "\n",
       "        <div id=\"HVdVn7hvnVL2MCN9R49Cty\"></div>\n",
       "        <script>netpixi.call('HVdVn7hvnVL2MCN9R49Cty', 'Ufb9k93JGEnzenSYtwZ836', 'changeGraph', 'eyJpZCI6ICI2NDYiLCAidHlwZSI6ICJ2ZXJ0ZXgiLCAicHJvcHMiOiB7ImNvbG9yIjogMTAwNDAyMTd9fQo=');</script>\n",
       "    "
      ],
      "text/plain": [
       "<IPython.core.display.HTML object>"
      ]
     },
     "metadata": {},
     "output_type": "display_data"
    },
    {
     "data": {
      "text/html": [
       "\n",
       "        <div id=\"N3kzYp3xmL7qY56bKUWaw4\"></div>\n",
       "        <script>netpixi.call('N3kzYp3xmL7qY56bKUWaw4', 'Ufb9k93JGEnzenSYtwZ836', 'setGraph', 'eyJ0eXBlIjogInZlcnRleCIsICJwcm9wcyI6IHsic3JjIjogImNsYXNzIiwgImRzdCI6ICJfa2V5In19Cg==');</script>\n",
       "    "
      ],
      "text/plain": [
       "<IPython.core.display.HTML object>"
      ]
     },
     "metadata": {},
     "output_type": "display_data"
    },
    {
     "data": {
      "text/html": [
       "\n",
       "        <div id=\"TFFkWrBpWG4N4T9KnC2g8M\"></div>\n",
       "        <script>netpixi.call('TFFkWrBpWG4N4T9KnC2g8M', 'Ufb9k93JGEnzenSYtwZ836', 'changeGraph', 'eyJpZCI6ICI2OTEiLCAidHlwZSI6ICJ2ZXJ0ZXgiLCAicHJvcHMiOiB7ImNvbG9yIjogMTAwNDAyMTd9fQo=');</script>\n",
       "    "
      ],
      "text/plain": [
       "<IPython.core.display.HTML object>"
      ]
     },
     "metadata": {},
     "output_type": "display_data"
    },
    {
     "data": {
      "text/html": [
       "\n",
       "        <div id=\"Km8bgtzGJcPdUg96FmDiRb\"></div>\n",
       "        <script>netpixi.call('Km8bgtzGJcPdUg96FmDiRb', 'Ufb9k93JGEnzenSYtwZ836', 'setGraph', 'eyJ0eXBlIjogInZlcnRleCIsICJwcm9wcyI6IHsic3JjIjogImNsYXNzIiwgImRzdCI6ICJfa2V5In19Cg==');</script>\n",
       "    "
      ],
      "text/plain": [
       "<IPython.core.display.HTML object>"
      ]
     },
     "metadata": {},
     "output_type": "display_data"
    },
    {
     "data": {
      "text/html": [
       "\n",
       "        <div id=\"PmoqUti4SQPGFJLWGtBgSZ\"></div>\n",
       "        <script>netpixi.call('PmoqUti4SQPGFJLWGtBgSZ', 'Ufb9k93JGEnzenSYtwZ836', 'changeGraph', 'eyJpZCI6ICI4ODciLCAidHlwZSI6ICJ2ZXJ0ZXgiLCAicHJvcHMiOiB7ImNvbG9yIjogNjk4OTkwM319Cg==');</script>\n",
       "    "
      ],
      "text/plain": [
       "<IPython.core.display.HTML object>"
      ]
     },
     "metadata": {},
     "output_type": "display_data"
    },
    {
     "data": {
      "text/html": [
       "\n",
       "        <div id=\"WaVmNKxgqQTrCbAELoAJA3\"></div>\n",
       "        <script>netpixi.call('WaVmNKxgqQTrCbAELoAJA3', 'Ufb9k93JGEnzenSYtwZ836', 'setGraph', 'eyJ0eXBlIjogInZlcnRleCIsICJwcm9wcyI6IHsic3JjIjogImNsYXNzIiwgImRzdCI6ICJfa2V5In19Cg==');</script>\n",
       "    "
      ],
      "text/plain": [
       "<IPython.core.display.HTML object>"
      ]
     },
     "metadata": {},
     "output_type": "display_data"
    },
    {
     "data": {
      "text/html": [
       "\n",
       "        <div id=\"CTLgh4TtDahWQo2of56Vr3\"></div>\n",
       "        <script>netpixi.call('CTLgh4TtDahWQo2of56Vr3', 'Ufb9k93JGEnzenSYtwZ836', 'changeGraph', 'eyJpZCI6ICI2MjEiLCAidHlwZSI6ICJ2ZXJ0ZXgiLCAicHJvcHMiOiB7ImNvbG9yIjogMTAwNDAyMTd9fQo=');</script>\n",
       "    "
      ],
      "text/plain": [
       "<IPython.core.display.HTML object>"
      ]
     },
     "metadata": {},
     "output_type": "display_data"
    },
    {
     "data": {
      "text/html": [
       "\n",
       "        <div id=\"Nj2S85YHfiWQQLYhDJi9vq\"></div>\n",
       "        <script>netpixi.call('Nj2S85YHfiWQQLYhDJi9vq', 'Ufb9k93JGEnzenSYtwZ836', 'setGraph', 'eyJ0eXBlIjogInZlcnRleCIsICJwcm9wcyI6IHsic3JjIjogImNsYXNzIiwgImRzdCI6ICJfa2V5In19Cg==');</script>\n",
       "    "
      ],
      "text/plain": [
       "<IPython.core.display.HTML object>"
      ]
     },
     "metadata": {},
     "output_type": "display_data"
    },
    {
     "data": {
      "text/html": [
       "\n",
       "        <div id=\"byJns7Radp2eKV8W547eaF\"></div>\n",
       "        <script>netpixi.call('byJns7Radp2eKV8W547eaF', 'Ufb9k93JGEnzenSYtwZ836', 'changeGraph', 'eyJpZCI6ICI4MTMiLCAidHlwZSI6ICJ2ZXJ0ZXgiLCAicHJvcHMiOiB7ImNvbG9yIjogMTUxMTA0NTZ9fQo=');</script>\n",
       "    "
      ],
      "text/plain": [
       "<IPython.core.display.HTML object>"
      ]
     },
     "metadata": {},
     "output_type": "display_data"
    },
    {
     "data": {
      "text/html": [
       "\n",
       "        <div id=\"N36P2Kgx6iFfevxGQUW75T\"></div>\n",
       "        <script>netpixi.call('N36P2Kgx6iFfevxGQUW75T', 'Ufb9k93JGEnzenSYtwZ836', 'setGraph', 'eyJ0eXBlIjogInZlcnRleCIsICJwcm9wcyI6IHsic3JjIjogImNsYXNzIiwgImRzdCI6ICJfa2V5In19Cg==');</script>\n",
       "    "
      ],
      "text/plain": [
       "<IPython.core.display.HTML object>"
      ]
     },
     "metadata": {},
     "output_type": "display_data"
    },
    {
     "data": {
      "text/html": [
       "\n",
       "        <div id=\"RQfD6R2HZrEo5byofMy52F\"></div>\n",
       "        <script>netpixi.call('RQfD6R2HZrEo5byofMy52F', 'Ufb9k93JGEnzenSYtwZ836', 'changeGraph', 'eyJpZCI6ICI2ODkiLCAidHlwZSI6ICJ2ZXJ0ZXgiLCAicHJvcHMiOiB7ImNvbG9yIjogMTAwNDAyMTd9fQo=');</script>\n",
       "    "
      ],
      "text/plain": [
       "<IPython.core.display.HTML object>"
      ]
     },
     "metadata": {},
     "output_type": "display_data"
    },
    {
     "data": {
      "text/html": [
       "\n",
       "        <div id=\"Pik5AdR7zjFx5bXw2TBGnu\"></div>\n",
       "        <script>netpixi.call('Pik5AdR7zjFx5bXw2TBGnu', 'Ufb9k93JGEnzenSYtwZ836', 'setGraph', 'eyJ0eXBlIjogInZlcnRleCIsICJwcm9wcyI6IHsic3JjIjogImNsYXNzIiwgImRzdCI6ICJfa2V5In19Cg==');</script>\n",
       "    "
      ],
      "text/plain": [
       "<IPython.core.display.HTML object>"
      ]
     },
     "metadata": {},
     "output_type": "display_data"
    },
    {
     "data": {
      "text/html": [
       "\n",
       "        <div id=\"QcXhghWrjWZ3778mjKfiSA\"></div>\n",
       "        <script>netpixi.call('QcXhghWrjWZ3778mjKfiSA', 'Ufb9k93JGEnzenSYtwZ836', 'changeGraph', 'eyJpZCI6ICI4MjUiLCAidHlwZSI6ICJ2ZXJ0ZXgiLCAicHJvcHMiOiB7ImNvbG9yIjogMTUxMTA0NTZ9fQo=');</script>\n",
       "    "
      ],
      "text/plain": [
       "<IPython.core.display.HTML object>"
      ]
     },
     "metadata": {},
     "output_type": "display_data"
    },
    {
     "data": {
      "text/html": [
       "\n",
       "        <div id=\"T4vjVGYQYGgzXeXxEoZgiT\"></div>\n",
       "        <script>netpixi.call('T4vjVGYQYGgzXeXxEoZgiT', 'Ufb9k93JGEnzenSYtwZ836', 'setGraph', 'eyJ0eXBlIjogInZlcnRleCIsICJwcm9wcyI6IHsic3JjIjogImNsYXNzIiwgImRzdCI6ICJfa2V5In19Cg==');</script>\n",
       "    "
      ],
      "text/plain": [
       "<IPython.core.display.HTML object>"
      ]
     },
     "metadata": {},
     "output_type": "display_data"
    },
    {
     "data": {
      "text/html": [
       "\n",
       "        <div id=\"HRrdkDcqnqEZdAA4E4xgda\"></div>\n",
       "        <script>netpixi.call('HRrdkDcqnqEZdAA4E4xgda', 'Ufb9k93JGEnzenSYtwZ836', 'changeGraph', 'eyJpZCI6ICI2NjUiLCAidHlwZSI6ICJ2ZXJ0ZXgiLCAicHJvcHMiOiB7ImNvbG9yIjogMTAwNDAyMTd9fQo=');</script>\n",
       "    "
      ],
      "text/plain": [
       "<IPython.core.display.HTML object>"
      ]
     },
     "metadata": {},
     "output_type": "display_data"
    },
    {
     "data": {
      "text/html": [
       "\n",
       "        <div id=\"KTzYwtPbvTNfFUtqkXnDj7\"></div>\n",
       "        <script>netpixi.call('KTzYwtPbvTNfFUtqkXnDj7', 'Ufb9k93JGEnzenSYtwZ836', 'setGraph', 'eyJ0eXBlIjogInZlcnRleCIsICJwcm9wcyI6IHsic3JjIjogImNsYXNzIiwgImRzdCI6ICJfa2V5In19Cg==');</script>\n",
       "    "
      ],
      "text/plain": [
       "<IPython.core.display.HTML object>"
      ]
     },
     "metadata": {},
     "output_type": "display_data"
    },
    {
     "data": {
      "text/html": [
       "\n",
       "        <div id=\"NGFM67EZRFouVuK6vMQTcX\"></div>\n",
       "        <script>netpixi.call('NGFM67EZRFouVuK6vMQTcX', 'Ufb9k93JGEnzenSYtwZ836', 'changeGraph', 'eyJpZCI6ICI2MzgiLCAidHlwZSI6ICJ2ZXJ0ZXgiLCAicHJvcHMiOiB7ImNvbG9yIjogMTAwNDAyMTd9fQo=');</script>\n",
       "    "
      ],
      "text/plain": [
       "<IPython.core.display.HTML object>"
      ]
     },
     "metadata": {},
     "output_type": "display_data"
    },
    {
     "data": {
      "text/html": [
       "\n",
       "        <div id=\"RWhx7xueEn36spMtGbLykF\"></div>\n",
       "        <script>netpixi.call('RWhx7xueEn36spMtGbLykF', 'Ufb9k93JGEnzenSYtwZ836', 'setGraph', 'eyJ0eXBlIjogInZlcnRleCIsICJwcm9wcyI6IHsic3JjIjogImNsYXNzIiwgImRzdCI6ICJfa2V5In19Cg==');</script>\n",
       "    "
      ],
      "text/plain": [
       "<IPython.core.display.HTML object>"
      ]
     },
     "metadata": {},
     "output_type": "display_data"
    },
    {
     "data": {
      "text/html": [
       "\n",
       "        <div id=\"RxouTCbZC6AY2UXkCbJ2oT\"></div>\n",
       "        <script>netpixi.call('RxouTCbZC6AY2UXkCbJ2oT', 'Ufb9k93JGEnzenSYtwZ836', 'changeGraph', 'eyJpZCI6ICI2NDgiLCAidHlwZSI6ICJ2ZXJ0ZXgiLCAicHJvcHMiOiB7ImNvbG9yIjogNjUyODB9fQo=');</script>\n",
       "    "
      ],
      "text/plain": [
       "<IPython.core.display.HTML object>"
      ]
     },
     "metadata": {},
     "output_type": "display_data"
    },
    {
     "data": {
      "text/html": [
       "\n",
       "        <div id=\"k3o2zdcZYVXnWz7zZuTiUH\"></div>\n",
       "        <script>netpixi.call('k3o2zdcZYVXnWz7zZuTiUH', 'Ufb9k93JGEnzenSYtwZ836', 'setGraph', 'eyJ0eXBlIjogInZlcnRleCIsICJwcm9wcyI6IHsic3JjIjogImNsYXNzIiwgImRzdCI6ICJfa2V5In19Cg==');</script>\n",
       "    "
      ],
      "text/plain": [
       "<IPython.core.display.HTML object>"
      ]
     },
     "metadata": {},
     "output_type": "display_data"
    },
    {
     "data": {
      "text/html": [
       "\n",
       "        <div id=\"EqpTtdcAKHHf5Hfoti2ArX\"></div>\n",
       "        <script>netpixi.call('EqpTtdcAKHHf5Hfoti2ArX', 'Ufb9k93JGEnzenSYtwZ836', 'changeGraph', 'eyJpZCI6ICI4NDMiLCAidHlwZSI6ICJ2ZXJ0ZXgiLCAicHJvcHMiOiB7ImNvbG9yIjogMTUxMTA0NTZ9fQo=');</script>\n",
       "    "
      ],
      "text/plain": [
       "<IPython.core.display.HTML object>"
      ]
     },
     "metadata": {},
     "output_type": "display_data"
    },
    {
     "data": {
      "text/html": [
       "\n",
       "        <div id=\"FjyiSAiWU25DYu9CVg9pk2\"></div>\n",
       "        <script>netpixi.call('FjyiSAiWU25DYu9CVg9pk2', 'Ufb9k93JGEnzenSYtwZ836', 'setGraph', 'eyJ0eXBlIjogInZlcnRleCIsICJwcm9wcyI6IHsic3JjIjogImNsYXNzIiwgImRzdCI6ICJfa2V5In19Cg==');</script>\n",
       "    "
      ],
      "text/plain": [
       "<IPython.core.display.HTML object>"
      ]
     },
     "metadata": {},
     "output_type": "display_data"
    },
    {
     "data": {
      "text/html": [
       "\n",
       "        <div id=\"6pDRXjxFfwJELKgFDm6Y9G\"></div>\n",
       "        <script>netpixi.call('6pDRXjxFfwJELKgFDm6Y9G', 'Ufb9k93JGEnzenSYtwZ836', 'changeGraph', 'eyJpZCI6ICI2MjkiLCAidHlwZSI6ICJ2ZXJ0ZXgiLCAicHJvcHMiOiB7ImNvbG9yIjogMTAwNDAyMTd9fQo=');</script>\n",
       "    "
      ],
      "text/plain": [
       "<IPython.core.display.HTML object>"
      ]
     },
     "metadata": {},
     "output_type": "display_data"
    },
    {
     "data": {
      "text/html": [
       "\n",
       "        <div id=\"U9AKbcgd8wJiaECrosNrgD\"></div>\n",
       "        <script>netpixi.call('U9AKbcgd8wJiaECrosNrgD', 'Ufb9k93JGEnzenSYtwZ836', 'setGraph', 'eyJ0eXBlIjogInZlcnRleCIsICJwcm9wcyI6IHsic3JjIjogImNsYXNzIiwgImRzdCI6ICJfa2V5In19Cg==');</script>\n",
       "    "
      ],
      "text/plain": [
       "<IPython.core.display.HTML object>"
      ]
     },
     "metadata": {},
     "output_type": "display_data"
    },
    {
     "data": {
      "text/html": [
       "\n",
       "        <div id=\"EYZEVdBWprKbgcUCpnmdhT\"></div>\n",
       "        <script>netpixi.call('EYZEVdBWprKbgcUCpnmdhT', 'Ufb9k93JGEnzenSYtwZ836', 'changeGraph', 'eyJpZCI6ICI4MTIiLCAidHlwZSI6ICJ2ZXJ0ZXgiLCAicHJvcHMiOiB7ImNvbG9yIjogNjk4OTkwM319Cg==');</script>\n",
       "    "
      ],
      "text/plain": [
       "<IPython.core.display.HTML object>"
      ]
     },
     "metadata": {},
     "output_type": "display_data"
    },
    {
     "data": {
      "text/html": [
       "\n",
       "        <div id=\"iZrt8TiXJWAxqsJQ5fCfZB\"></div>\n",
       "        <script>netpixi.call('iZrt8TiXJWAxqsJQ5fCfZB', 'Ufb9k93JGEnzenSYtwZ836', 'setGraph', 'eyJ0eXBlIjogInZlcnRleCIsICJwcm9wcyI6IHsic3JjIjogImNsYXNzIiwgImRzdCI6ICJfa2V5In19Cg==');</script>\n",
       "    "
      ],
      "text/plain": [
       "<IPython.core.display.HTML object>"
      ]
     },
     "metadata": {},
     "output_type": "display_data"
    },
    {
     "data": {
      "text/html": [
       "\n",
       "        <div id=\"PE2wWeuYYp44iFSoqoNZ4G\"></div>\n",
       "        <script>netpixi.call('PE2wWeuYYp44iFSoqoNZ4G', 'Ufb9k93JGEnzenSYtwZ836', 'changeGraph', 'eyJpZCI6ICIxNjg2IiwgInR5cGUiOiAidmVydGV4IiwgInByb3BzIjogeyJjb2xvciI6IDE2NzY2NzIwfX0K');</script>\n",
       "    "
      ],
      "text/plain": [
       "<IPython.core.display.HTML object>"
      ]
     },
     "metadata": {},
     "output_type": "display_data"
    },
    {
     "data": {
      "text/html": [
       "\n",
       "        <div id=\"jb6tNeNPmDENi3wHa3Xjo7\"></div>\n",
       "        <script>netpixi.call('jb6tNeNPmDENi3wHa3Xjo7', 'Ufb9k93JGEnzenSYtwZ836', 'setGraph', 'eyJ0eXBlIjogInZlcnRleCIsICJwcm9wcyI6IHsic3JjIjogImNsYXNzIiwgImRzdCI6ICJfa2V5In19Cg==');</script>\n",
       "    "
      ],
      "text/plain": [
       "<IPython.core.display.HTML object>"
      ]
     },
     "metadata": {},
     "output_type": "display_data"
    },
    {
     "data": {
      "text/html": [
       "\n",
       "        <div id=\"WR5jFB8xNPTRv66NjxNGRy\"></div>\n",
       "        <script>netpixi.call('WR5jFB8xNPTRv66NjxNGRy', 'Ufb9k93JGEnzenSYtwZ836', 'changeGraph', 'eyJpZCI6ICI4NjAiLCAidHlwZSI6ICJ2ZXJ0ZXgiLCAicHJvcHMiOiB7ImNvbG9yIjogMTUxMTA0NTZ9fQo=');</script>\n",
       "    "
      ],
      "text/plain": [
       "<IPython.core.display.HTML object>"
      ]
     },
     "metadata": {},
     "output_type": "display_data"
    },
    {
     "data": {
      "text/html": [
       "\n",
       "        <div id=\"KeNK3mUbX496DjaY2Y2Ee5\"></div>\n",
       "        <script>netpixi.call('KeNK3mUbX496DjaY2Y2Ee5', 'Ufb9k93JGEnzenSYtwZ836', 'setGraph', 'eyJ0eXBlIjogInZlcnRleCIsICJwcm9wcyI6IHsic3JjIjogImNsYXNzIiwgImRzdCI6ICJfa2V5In19Cg==');</script>\n",
       "    "
      ],
      "text/plain": [
       "<IPython.core.display.HTML object>"
      ]
     },
     "metadata": {},
     "output_type": "display_data"
    },
    {
     "data": {
      "text/html": [
       "\n",
       "        <div id=\"f3HqL7MeyPkrfovBU8BUxf\"></div>\n",
       "        <script>netpixi.call('f3HqL7MeyPkrfovBU8BUxf', 'Ufb9k93JGEnzenSYtwZ836', 'changeGraph', 'eyJpZCI6ICI2MTQiLCAidHlwZSI6ICJ2ZXJ0ZXgiLCAicHJvcHMiOiB7ImNvbG9yIjogMTAwNDAyMTd9fQo=');</script>\n",
       "    "
      ],
      "text/plain": [
       "<IPython.core.display.HTML object>"
      ]
     },
     "metadata": {},
     "output_type": "display_data"
    },
    {
     "data": {
      "text/html": [
       "\n",
       "        <div id=\"RcvWr7vybxqbqSdUuoqbrs\"></div>\n",
       "        <script>netpixi.call('RcvWr7vybxqbqSdUuoqbrs', 'Ufb9k93JGEnzenSYtwZ836', 'setGraph', 'eyJ0eXBlIjogInZlcnRleCIsICJwcm9wcyI6IHsic3JjIjogImNsYXNzIiwgImRzdCI6ICJfa2V5In19Cg==');</script>\n",
       "    "
      ],
      "text/plain": [
       "<IPython.core.display.HTML object>"
      ]
     },
     "metadata": {},
     "output_type": "display_data"
    },
    {
     "data": {
      "text/html": [
       "\n",
       "        <div id=\"MpocggKui8pHcGcpbxJExU\"></div>\n",
       "        <script>netpixi.call('MpocggKui8pHcGcpbxJExU', 'Ufb9k93JGEnzenSYtwZ836', 'changeGraph', 'eyJpZCI6ICI4MzIiLCAidHlwZSI6ICJ2ZXJ0ZXgiLCAicHJvcHMiOiB7ImNvbG9yIjogMTUxMTA0NTZ9fQo=');</script>\n",
       "    "
      ],
      "text/plain": [
       "<IPython.core.display.HTML object>"
      ]
     },
     "metadata": {},
     "output_type": "display_data"
    },
    {
     "data": {
      "text/html": [
       "\n",
       "        <div id=\"2ewTDTvbdJcLZzTPxX4Z6Y\"></div>\n",
       "        <script>netpixi.call('2ewTDTvbdJcLZzTPxX4Z6Y', 'Ufb9k93JGEnzenSYtwZ836', 'setGraph', 'eyJ0eXBlIjogInZlcnRleCIsICJwcm9wcyI6IHsic3JjIjogImNsYXNzIiwgImRzdCI6ICJfa2V5In19Cg==');</script>\n",
       "    "
      ],
      "text/plain": [
       "<IPython.core.display.HTML object>"
      ]
     },
     "metadata": {},
     "output_type": "display_data"
    },
    {
     "data": {
      "text/html": [
       "\n",
       "        <div id=\"X4jcdkfQwTa5TA9UjW6YKH\"></div>\n",
       "        <script>netpixi.call('X4jcdkfQwTa5TA9UjW6YKH', 'Ufb9k93JGEnzenSYtwZ836', 'changeGraph', 'eyJpZCI6ICI4NjUiLCAidHlwZSI6ICJ2ZXJ0ZXgiLCAicHJvcHMiOiB7ImNvbG9yIjogMTUxMTA0NTZ9fQo=');</script>\n",
       "    "
      ],
      "text/plain": [
       "<IPython.core.display.HTML object>"
      ]
     },
     "metadata": {},
     "output_type": "display_data"
    },
    {
     "data": {
      "text/html": [
       "\n",
       "        <div id=\"TfgPsDgxTyJs9CqKSmGeSX\"></div>\n",
       "        <script>netpixi.call('TfgPsDgxTyJs9CqKSmGeSX', 'Ufb9k93JGEnzenSYtwZ836', 'setGraph', 'eyJ0eXBlIjogInZlcnRleCIsICJwcm9wcyI6IHsic3JjIjogImNsYXNzIiwgImRzdCI6ICJfa2V5In19Cg==');</script>\n",
       "    "
      ],
      "text/plain": [
       "<IPython.core.display.HTML object>"
      ]
     },
     "metadata": {},
     "output_type": "display_data"
    },
    {
     "data": {
      "text/html": [
       "\n",
       "        <div id=\"LoE5NTiJs3SsCFpqnoekqi\"></div>\n",
       "        <script>netpixi.call('LoE5NTiJs3SsCFpqnoekqi', 'Ufb9k93JGEnzenSYtwZ836', 'changeGraph', 'eyJpZCI6ICI4NTgiLCAidHlwZSI6ICJ2ZXJ0ZXgiLCAicHJvcHMiOiB7ImNvbG9yIjogMTUxMTA0NTZ9fQo=');</script>\n",
       "    "
      ],
      "text/plain": [
       "<IPython.core.display.HTML object>"
      ]
     },
     "metadata": {},
     "output_type": "display_data"
    },
    {
     "data": {
      "text/html": [
       "\n",
       "        <div id=\"U9m287xQTVnGck6mrh4Ksw\"></div>\n",
       "        <script>netpixi.call('U9m287xQTVnGck6mrh4Ksw', 'Ufb9k93JGEnzenSYtwZ836', 'setGraph', 'eyJ0eXBlIjogInZlcnRleCIsICJwcm9wcyI6IHsic3JjIjogImNsYXNzIiwgImRzdCI6ICJfa2V5In19Cg==');</script>\n",
       "    "
      ],
      "text/plain": [
       "<IPython.core.display.HTML object>"
      ]
     },
     "metadata": {},
     "output_type": "display_data"
    },
    {
     "data": {
      "text/html": [
       "\n",
       "        <div id=\"fbZemtHvUsXFawnbY7vmmH\"></div>\n",
       "        <script>netpixi.call('fbZemtHvUsXFawnbY7vmmH', 'Ufb9k93JGEnzenSYtwZ836', 'changeGraph', 'eyJpZCI6ICI4MzEiLCAidHlwZSI6ICJ2ZXJ0ZXgiLCAicHJvcHMiOiB7ImNvbG9yIjogMTUxMTA0NTZ9fQo=');</script>\n",
       "    "
      ],
      "text/plain": [
       "<IPython.core.display.HTML object>"
      ]
     },
     "metadata": {},
     "output_type": "display_data"
    },
    {
     "data": {
      "text/html": [
       "\n",
       "        <div id=\"bJdizTe2ZPLWYNcAnW2Tyb\"></div>\n",
       "        <script>netpixi.call('bJdizTe2ZPLWYNcAnW2Tyb', 'Ufb9k93JGEnzenSYtwZ836', 'setGraph', 'eyJ0eXBlIjogInZlcnRleCIsICJwcm9wcyI6IHsic3JjIjogImNsYXNzIiwgImRzdCI6ICJfa2V5In19Cg==');</script>\n",
       "    "
      ],
      "text/plain": [
       "<IPython.core.display.HTML object>"
      ]
     },
     "metadata": {},
     "output_type": "display_data"
    },
    {
     "data": {
      "text/html": [
       "\n",
       "        <div id=\"KfxPWs5dyreQgEGhBDbq32\"></div>\n",
       "        <script>netpixi.call('KfxPWs5dyreQgEGhBDbq32', 'Ufb9k93JGEnzenSYtwZ836', 'changeGraph', 'eyJpZCI6ICI4MjkiLCAidHlwZSI6ICJ2ZXJ0ZXgiLCAicHJvcHMiOiB7ImNvbG9yIjogMTUxMTA0NTZ9fQo=');</script>\n",
       "    "
      ],
      "text/plain": [
       "<IPython.core.display.HTML object>"
      ]
     },
     "metadata": {},
     "output_type": "display_data"
    },
    {
     "data": {
      "text/html": [
       "\n",
       "        <div id=\"KVAfsKzuFB7tWQSLuJTnbL\"></div>\n",
       "        <script>netpixi.call('KVAfsKzuFB7tWQSLuJTnbL', 'Ufb9k93JGEnzenSYtwZ836', 'setGraph', 'eyJ0eXBlIjogInZlcnRleCIsICJwcm9wcyI6IHsic3JjIjogImNsYXNzIiwgImRzdCI6ICJfa2V5In19Cg==');</script>\n",
       "    "
      ],
      "text/plain": [
       "<IPython.core.display.HTML object>"
      ]
     },
     "metadata": {},
     "output_type": "display_data"
    },
    {
     "data": {
      "text/html": [
       "\n",
       "        <div id=\"5SAUU9HhYvMobjB9eZYtTY\"></div>\n",
       "        <script>netpixi.call('5SAUU9HhYvMobjB9eZYtTY', 'Ufb9k93JGEnzenSYtwZ836', 'changeGraph', 'eyJpZCI6ICI4ODQiLCAidHlwZSI6ICJ2ZXJ0ZXgiLCAicHJvcHMiOiB7ImNvbG9yIjogNjk4OTkwM319Cg==');</script>\n",
       "    "
      ],
      "text/plain": [
       "<IPython.core.display.HTML object>"
      ]
     },
     "metadata": {},
     "output_type": "display_data"
    },
    {
     "data": {
      "text/html": [
       "\n",
       "        <div id=\"BaHHBZHCzxDWxcsZCtJY63\"></div>\n",
       "        <script>netpixi.call('BaHHBZHCzxDWxcsZCtJY63', 'Ufb9k93JGEnzenSYtwZ836', 'setGraph', 'eyJ0eXBlIjogInZlcnRleCIsICJwcm9wcyI6IHsic3JjIjogImNsYXNzIiwgImRzdCI6ICJfa2V5In19Cg==');</script>\n",
       "    "
      ],
      "text/plain": [
       "<IPython.core.display.HTML object>"
      ]
     },
     "metadata": {},
     "output_type": "display_data"
    },
    {
     "data": {
      "text/html": [
       "\n",
       "        <div id=\"ckBgUU8Qd72ozoXSLkpgps\"></div>\n",
       "        <script>netpixi.call('ckBgUU8Qd72ozoXSLkpgps', 'Ufb9k93JGEnzenSYtwZ836', 'changeGraph', 'eyJpZCI6ICI2NjMiLCAidHlwZSI6ICJ2ZXJ0ZXgiLCAicHJvcHMiOiB7ImNvbG9yIjogNjUyODB9fQo=');</script>\n",
       "    "
      ],
      "text/plain": [
       "<IPython.core.display.HTML object>"
      ]
     },
     "metadata": {},
     "output_type": "display_data"
    },
    {
     "data": {
      "text/html": [
       "\n",
       "        <div id=\"EYkhVPLcyW7AkzC5NgL6jk\"></div>\n",
       "        <script>netpixi.call('EYkhVPLcyW7AkzC5NgL6jk', 'Ufb9k93JGEnzenSYtwZ836', 'setGraph', 'eyJ0eXBlIjogInZlcnRleCIsICJwcm9wcyI6IHsic3JjIjogImNsYXNzIiwgImRzdCI6ICJfa2V5In19Cg==');</script>\n",
       "    "
      ],
      "text/plain": [
       "<IPython.core.display.HTML object>"
      ]
     },
     "metadata": {},
     "output_type": "display_data"
    },
    {
     "data": {
      "text/html": [
       "\n",
       "        <div id=\"7wiGU92zVtejd2LyiZdkfJ\"></div>\n",
       "        <script>netpixi.call('7wiGU92zVtejd2LyiZdkfJ', 'Ufb9k93JGEnzenSYtwZ836', 'changeGraph', 'eyJpZCI6ICI4MzYiLCAidHlwZSI6ICJ2ZXJ0ZXgiLCAicHJvcHMiOiB7ImNvbG9yIjogMTUxMTA0NTZ9fQo=');</script>\n",
       "    "
      ],
      "text/plain": [
       "<IPython.core.display.HTML object>"
      ]
     },
     "metadata": {},
     "output_type": "display_data"
    },
    {
     "data": {
      "text/html": [
       "\n",
       "        <div id=\"L53oyWFrMsAGQjXxfLspdv\"></div>\n",
       "        <script>netpixi.call('L53oyWFrMsAGQjXxfLspdv', 'Ufb9k93JGEnzenSYtwZ836', 'setGraph', 'eyJ0eXBlIjogInZlcnRleCIsICJwcm9wcyI6IHsic3JjIjogImNsYXNzIiwgImRzdCI6ICJfa2V5In19Cg==');</script>\n",
       "    "
      ],
      "text/plain": [
       "<IPython.core.display.HTML object>"
      ]
     },
     "metadata": {},
     "output_type": "display_data"
    },
    {
     "data": {
      "text/html": [
       "\n",
       "        <div id=\"6pstfSB5GNMDVfvGg5bwyd\"></div>\n",
       "        <script>netpixi.call('6pstfSB5GNMDVfvGg5bwyd', 'Ufb9k93JGEnzenSYtwZ836', 'changeGraph', 'eyJpZCI6ICI4MzMiLCAidHlwZSI6ICJ2ZXJ0ZXgiLCAicHJvcHMiOiB7ImNvbG9yIjogMTUxMTA0NTZ9fQo=');</script>\n",
       "    "
      ],
      "text/plain": [
       "<IPython.core.display.HTML object>"
      ]
     },
     "metadata": {},
     "output_type": "display_data"
    },
    {
     "data": {
      "text/html": [
       "\n",
       "        <div id=\"cEvuqKRQ84S8PqAUmYuTVm\"></div>\n",
       "        <script>netpixi.call('cEvuqKRQ84S8PqAUmYuTVm', 'Ufb9k93JGEnzenSYtwZ836', 'setGraph', 'eyJ0eXBlIjogInZlcnRleCIsICJwcm9wcyI6IHsic3JjIjogImNsYXNzIiwgImRzdCI6ICJfa2V5In19Cg==');</script>\n",
       "    "
      ],
      "text/plain": [
       "<IPython.core.display.HTML object>"
      ]
     },
     "metadata": {},
     "output_type": "display_data"
    },
    {
     "data": {
      "text/html": [
       "\n",
       "        <div id=\"hTFY3sb4yBeDoZXhYFY66E\"></div>\n",
       "        <script>netpixi.call('hTFY3sb4yBeDoZXhYFY66E', 'Ufb9k93JGEnzenSYtwZ836', 'changeGraph', 'eyJpZCI6ICI2MTciLCAidHlwZSI6ICJ2ZXJ0ZXgiLCAicHJvcHMiOiB7ImNvbG9yIjogMTAwNDAyMTd9fQo=');</script>\n",
       "    "
      ],
      "text/plain": [
       "<IPython.core.display.HTML object>"
      ]
     },
     "metadata": {},
     "output_type": "display_data"
    },
    {
     "data": {
      "text/html": [
       "\n",
       "        <div id=\"MQRcfVkNeFv27PGF2hJVoV\"></div>\n",
       "        <script>netpixi.call('MQRcfVkNeFv27PGF2hJVoV', 'Ufb9k93JGEnzenSYtwZ836', 'setGraph', 'eyJ0eXBlIjogInZlcnRleCIsICJwcm9wcyI6IHsic3JjIjogImNsYXNzIiwgImRzdCI6ICJfa2V5In19Cg==');</script>\n",
       "    "
      ],
      "text/plain": [
       "<IPython.core.display.HTML object>"
      ]
     },
     "metadata": {},
     "output_type": "display_data"
    },
    {
     "data": {
      "text/html": [
       "\n",
       "        <div id=\"eDYCc4rZ9nDd57S7sgpYUW\"></div>\n",
       "        <script>netpixi.call('eDYCc4rZ9nDd57S7sgpYUW', 'Ufb9k93JGEnzenSYtwZ836', 'changeGraph', 'eyJpZCI6ICI2MDUiLCAidHlwZSI6ICJ2ZXJ0ZXgiLCAicHJvcHMiOiB7ImNvbG9yIjogMTAwNDAyMTd9fQo=');</script>\n",
       "    "
      ],
      "text/plain": [
       "<IPython.core.display.HTML object>"
      ]
     },
     "metadata": {},
     "output_type": "display_data"
    },
    {
     "data": {
      "text/html": [
       "\n",
       "        <div id=\"WBwHmCUsyr8EvmJQPoZqHy\"></div>\n",
       "        <script>netpixi.call('WBwHmCUsyr8EvmJQPoZqHy', 'Ufb9k93JGEnzenSYtwZ836', 'setGraph', 'eyJ0eXBlIjogInZlcnRleCIsICJwcm9wcyI6IHsic3JjIjogImNsYXNzIiwgImRzdCI6ICJfa2V5In19Cg==');</script>\n",
       "    "
      ],
      "text/plain": [
       "<IPython.core.display.HTML object>"
      ]
     },
     "metadata": {},
     "output_type": "display_data"
    },
    {
     "data": {
      "text/html": [
       "\n",
       "        <div id=\"TNrTLt5YfYsVTybLsAooui\"></div>\n",
       "        <script>netpixi.call('TNrTLt5YfYsVTybLsAooui', 'Ufb9k93JGEnzenSYtwZ836', 'changeGraph', 'eyJpZCI6ICI2NTUiLCAidHlwZSI6ICJ2ZXJ0ZXgiLCAicHJvcHMiOiB7ImNvbG9yIjogMTAwNDAyMTd9fQo=');</script>\n",
       "    "
      ],
      "text/plain": [
       "<IPython.core.display.HTML object>"
      ]
     },
     "metadata": {},
     "output_type": "display_data"
    },
    {
     "data": {
      "text/html": [
       "\n",
       "        <div id=\"NSJA4mofiXL3kWEE36NPYv\"></div>\n",
       "        <script>netpixi.call('NSJA4mofiXL3kWEE36NPYv', 'Ufb9k93JGEnzenSYtwZ836', 'setGraph', 'eyJ0eXBlIjogInZlcnRleCIsICJwcm9wcyI6IHsic3JjIjogImNsYXNzIiwgImRzdCI6ICJfa2V5In19Cg==');</script>\n",
       "    "
      ],
      "text/plain": [
       "<IPython.core.display.HTML object>"
      ]
     },
     "metadata": {},
     "output_type": "display_data"
    },
    {
     "data": {
      "text/html": [
       "\n",
       "        <div id=\"ZVjtDCartFowJJTGWkj6M6\"></div>\n",
       "        <script>netpixi.call('ZVjtDCartFowJJTGWkj6M6', 'Ufb9k93JGEnzenSYtwZ836', 'changeGraph', 'eyJpZCI6ICI2MDIiLCAidHlwZSI6ICJ2ZXJ0ZXgiLCAicHJvcHMiOiB7ImNvbG9yIjogMTAwNDAyMTd9fQo=');</script>\n",
       "    "
      ],
      "text/plain": [
       "<IPython.core.display.HTML object>"
      ]
     },
     "metadata": {},
     "output_type": "display_data"
    },
    {
     "data": {
      "text/html": [
       "\n",
       "        <div id=\"B58Rb8Lftb7AgjHxKapZns\"></div>\n",
       "        <script>netpixi.call('B58Rb8Lftb7AgjHxKapZns', 'Ufb9k93JGEnzenSYtwZ836', 'setGraph', 'eyJ0eXBlIjogInZlcnRleCIsICJwcm9wcyI6IHsic3JjIjogImNsYXNzIiwgImRzdCI6ICJfa2V5In19Cg==');</script>\n",
       "    "
      ],
      "text/plain": [
       "<IPython.core.display.HTML object>"
      ]
     },
     "metadata": {},
     "output_type": "display_data"
    },
    {
     "data": {
      "text/html": [
       "\n",
       "        <div id=\"QPZ8ekazzo9iZjPKzMrPiX\"></div>\n",
       "        <script>netpixi.call('QPZ8ekazzo9iZjPKzMrPiX', 'Ufb9k93JGEnzenSYtwZ836', 'changeGraph', 'eyJpZCI6ICI4MDIiLCAidHlwZSI6ICJ2ZXJ0ZXgiLCAicHJvcHMiOiB7ImNvbG9yIjogMTUxMTA0NTZ9fQo=');</script>\n",
       "    "
      ],
      "text/plain": [
       "<IPython.core.display.HTML object>"
      ]
     },
     "metadata": {},
     "output_type": "display_data"
    },
    {
     "data": {
      "text/html": [
       "\n",
       "        <div id=\"E9EjmPWSQUo5aPE9gnJC8s\"></div>\n",
       "        <script>netpixi.call('E9EjmPWSQUo5aPE9gnJC8s', 'Ufb9k93JGEnzenSYtwZ836', 'setGraph', 'eyJ0eXBlIjogInZlcnRleCIsICJwcm9wcyI6IHsic3JjIjogImNsYXNzIiwgImRzdCI6ICJfa2V5In19Cg==');</script>\n",
       "    "
      ],
      "text/plain": [
       "<IPython.core.display.HTML object>"
      ]
     },
     "metadata": {},
     "output_type": "display_data"
    },
    {
     "data": {
      "text/html": [
       "\n",
       "        <div id=\"6G7MbvSyBcJCqZmqUkkKL9\"></div>\n",
       "        <script>netpixi.call('6G7MbvSyBcJCqZmqUkkKL9', 'Ufb9k93JGEnzenSYtwZ836', 'changeGraph', 'eyJpZCI6ICI2ODciLCAidHlwZSI6ICJ2ZXJ0ZXgiLCAicHJvcHMiOiB7ImNvbG9yIjogMTAwNDAyMTd9fQo=');</script>\n",
       "    "
      ],
      "text/plain": [
       "<IPython.core.display.HTML object>"
      ]
     },
     "metadata": {},
     "output_type": "display_data"
    },
    {
     "data": {
      "text/html": [
       "\n",
       "        <div id=\"6wcpcygFZVJfZqBnqfyBxM\"></div>\n",
       "        <script>netpixi.call('6wcpcygFZVJfZqBnqfyBxM', 'Ufb9k93JGEnzenSYtwZ836', 'setGraph', 'eyJ0eXBlIjogInZlcnRleCIsICJwcm9wcyI6IHsic3JjIjogImNsYXNzIiwgImRzdCI6ICJfa2V5In19Cg==');</script>\n",
       "    "
      ],
      "text/plain": [
       "<IPython.core.display.HTML object>"
      ]
     },
     "metadata": {},
     "output_type": "display_data"
    },
    {
     "data": {
      "text/html": [
       "\n",
       "        <div id=\"NgKfKLmp7UY4cFaxg53nqx\"></div>\n",
       "        <script>netpixi.call('NgKfKLmp7UY4cFaxg53nqx', 'Ufb9k93JGEnzenSYtwZ836', 'changeGraph', 'eyJpZCI6ICI2NjIiLCAidHlwZSI6ICJ2ZXJ0ZXgiLCAicHJvcHMiOiB7ImNvbG9yIjogMTAwNDAyMTd9fQo=');</script>\n",
       "    "
      ],
      "text/plain": [
       "<IPython.core.display.HTML object>"
      ]
     },
     "metadata": {},
     "output_type": "display_data"
    },
    {
     "data": {
      "text/html": [
       "\n",
       "        <div id=\"ns646AXEXUxnuSbgAqKoCN\"></div>\n",
       "        <script>netpixi.call('ns646AXEXUxnuSbgAqKoCN', 'Ufb9k93JGEnzenSYtwZ836', 'setGraph', 'eyJ0eXBlIjogInZlcnRleCIsICJwcm9wcyI6IHsic3JjIjogImNsYXNzIiwgImRzdCI6ICJfa2V5In19Cg==');</script>\n",
       "    "
      ],
      "text/plain": [
       "<IPython.core.display.HTML object>"
      ]
     },
     "metadata": {},
     "output_type": "display_data"
    },
    {
     "data": {
      "text/html": [
       "\n",
       "        <div id=\"dxdJV4txSXquMj9CM9dQEb\"></div>\n",
       "        <script>netpixi.call('dxdJV4txSXquMj9CM9dQEb', 'Ufb9k93JGEnzenSYtwZ836', 'changeGraph', 'eyJpZCI6ICI2NjYiLCAidHlwZSI6ICJ2ZXJ0ZXgiLCAicHJvcHMiOiB7ImNvbG9yIjogNjUyODB9fQo=');</script>\n",
       "    "
      ],
      "text/plain": [
       "<IPython.core.display.HTML object>"
      ]
     },
     "metadata": {},
     "output_type": "display_data"
    },
    {
     "data": {
      "text/html": [
       "\n",
       "        <div id=\"MQjxW8rNqCcDzhmL3LSBav\"></div>\n",
       "        <script>netpixi.call('MQjxW8rNqCcDzhmL3LSBav', 'Ufb9k93JGEnzenSYtwZ836', 'setGraph', 'eyJ0eXBlIjogInZlcnRleCIsICJwcm9wcyI6IHsic3JjIjogImNsYXNzIiwgImRzdCI6ICJfa2V5In19Cg==');</script>\n",
       "    "
      ],
      "text/plain": [
       "<IPython.core.display.HTML object>"
      ]
     },
     "metadata": {},
     "output_type": "display_data"
    },
    {
     "data": {
      "text/html": [
       "\n",
       "        <div id=\"R8jz9rLhKoUvr6cr6ZiArg\"></div>\n",
       "        <script>netpixi.call('R8jz9rLhKoUvr6cr6ZiArg', 'Ufb9k93JGEnzenSYtwZ836', 'changeGraph', 'eyJpZCI6ICI4ODEiLCAidHlwZSI6ICJ2ZXJ0ZXgiLCAicHJvcHMiOiB7ImNvbG9yIjogNjk4OTkwM319Cg==');</script>\n",
       "    "
      ],
      "text/plain": [
       "<IPython.core.display.HTML object>"
      ]
     },
     "metadata": {},
     "output_type": "display_data"
    },
    {
     "data": {
      "text/html": [
       "\n",
       "        <div id=\"oWELeggUfieshtxh9j8tq8\"></div>\n",
       "        <script>netpixi.call('oWELeggUfieshtxh9j8tq8', 'Ufb9k93JGEnzenSYtwZ836', 'setGraph', 'eyJ0eXBlIjogInZlcnRleCIsICJwcm9wcyI6IHsic3JjIjogImNsYXNzIiwgImRzdCI6ICJfa2V5In19Cg==');</script>\n",
       "    "
      ],
      "text/plain": [
       "<IPython.core.display.HTML object>"
      ]
     },
     "metadata": {},
     "output_type": "display_data"
    },
    {
     "data": {
      "text/html": [
       "\n",
       "        <div id=\"munbotdwbsRyFzKxJKnq5f\"></div>\n",
       "        <script>netpixi.call('munbotdwbsRyFzKxJKnq5f', 'Ufb9k93JGEnzenSYtwZ836', 'changeGraph', 'eyJpZCI6ICI2MDciLCAidHlwZSI6ICJ2ZXJ0ZXgiLCAicHJvcHMiOiB7ImNvbG9yIjogNjUyODB9fQo=');</script>\n",
       "    "
      ],
      "text/plain": [
       "<IPython.core.display.HTML object>"
      ]
     },
     "metadata": {},
     "output_type": "display_data"
    },
    {
     "data": {
      "text/html": [
       "\n",
       "        <div id=\"4m5pZNRSqYpiva6FzkM6D2\"></div>\n",
       "        <script>netpixi.call('4m5pZNRSqYpiva6FzkM6D2', 'Ufb9k93JGEnzenSYtwZ836', 'setGraph', 'eyJ0eXBlIjogInZlcnRleCIsICJwcm9wcyI6IHsic3JjIjogImNsYXNzIiwgImRzdCI6ICJfa2V5In19Cg==');</script>\n",
       "    "
      ],
      "text/plain": [
       "<IPython.core.display.HTML object>"
      ]
     },
     "metadata": {},
     "output_type": "display_data"
    },
    {
     "data": {
      "text/html": [
       "\n",
       "        <div id=\"bScNqd2zeMQ3FWpexuRCiX\"></div>\n",
       "        <script>netpixi.call('bScNqd2zeMQ3FWpexuRCiX', 'Ufb9k93JGEnzenSYtwZ836', 'changeGraph', 'eyJpZCI6ICI2MjQiLCAidHlwZSI6ICJ2ZXJ0ZXgiLCAicHJvcHMiOiB7ImNvbG9yIjogNjUyODB9fQo=');</script>\n",
       "    "
      ],
      "text/plain": [
       "<IPython.core.display.HTML object>"
      ]
     },
     "metadata": {},
     "output_type": "display_data"
    },
    {
     "data": {
      "text/html": [
       "\n",
       "        <div id=\"C23QVetjVaCVpfi89rqByx\"></div>\n",
       "        <script>netpixi.call('C23QVetjVaCVpfi89rqByx', 'Ufb9k93JGEnzenSYtwZ836', 'setGraph', 'eyJ0eXBlIjogInZlcnRleCIsICJwcm9wcyI6IHsic3JjIjogImNsYXNzIiwgImRzdCI6ICJfa2V5In19Cg==');</script>\n",
       "    "
      ],
      "text/plain": [
       "<IPython.core.display.HTML object>"
      ]
     },
     "metadata": {},
     "output_type": "display_data"
    },
    {
     "data": {
      "text/html": [
       "\n",
       "        <div id=\"NtaXzibqDeipm4ev5WxzJT\"></div>\n",
       "        <script>netpixi.call('NtaXzibqDeipm4ev5WxzJT', 'Ufb9k93JGEnzenSYtwZ836', 'changeGraph', 'eyJpZCI6ICI2MzMiLCAidHlwZSI6ICJ2ZXJ0ZXgiLCAicHJvcHMiOiB7ImNvbG9yIjogNjUyODB9fQo=');</script>\n",
       "    "
      ],
      "text/plain": [
       "<IPython.core.display.HTML object>"
      ]
     },
     "metadata": {},
     "output_type": "display_data"
    },
    {
     "data": {
      "text/html": [
       "\n",
       "        <div id=\"6vdYfXQ9SWMaYdi8ZHb6QG\"></div>\n",
       "        <script>netpixi.call('6vdYfXQ9SWMaYdi8ZHb6QG', 'Ufb9k93JGEnzenSYtwZ836', 'setGraph', 'eyJ0eXBlIjogInZlcnRleCIsICJwcm9wcyI6IHsic3JjIjogImNsYXNzIiwgImRzdCI6ICJfa2V5In19Cg==');</script>\n",
       "    "
      ],
      "text/plain": [
       "<IPython.core.display.HTML object>"
      ]
     },
     "metadata": {},
     "output_type": "display_data"
    }
   ],
   "source": [
    "set_label_set_property('class','class')\n",
    "#É possível apenas tirar o comentário das linhas de baixo para analisar outras propriedades dos vértices\n",
    "# set_label_set_property('gender','gender')\n",
    "# set_label_set_property('gender','class')\n",
    "# set_label_set_property('class','gender')"
   ]
  },
  {
   "cell_type": "markdown",
   "id": "2feeec66",
   "metadata": {},
   "source": [
    "Agora podemos notar que os clusters estão muito relacionados a sala em que cada aluno está e também notamos que o cluster que junta duas salas diferentes (MP1 e MP2) ainda sim tem a mesmas similaridades de classe"
   ]
  },
  {
   "cell_type": "markdown",
   "id": "5c13786c",
   "metadata": {},
   "source": []
  }
 ],
 "metadata": {
  "kernelspec": {
   "display_name": "Python 3 (ipykernel)",
   "language": "python",
   "name": "python3"
  },
  "language_info": {
   "codemirror_mode": {
    "name": "ipython",
    "version": 3
   },
   "file_extension": ".py",
   "mimetype": "text/x-python",
   "name": "python",
   "nbconvert_exporter": "python",
   "pygments_lexer": "ipython3",
   "version": "3.10.10"
  }
 },
 "nbformat": 4,
 "nbformat_minor": 5
}
