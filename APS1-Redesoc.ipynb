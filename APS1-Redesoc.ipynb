{
 "cells": [
  {
   "cell_type": "markdown",
   "id": "2792deb9",
   "metadata": {},
   "source": [
    "# DATASET: High school dynamic contact networks\n",
    "\n",
    "### Equipe: Natalia Carreras, Pedro Altobelli, Willian Kenzo\n",
    "\n",
    "## Contexto:\n",
    "\n",
    "* O dataset escolhido pelo grupo foi retirado do site sociopatterns.orgs, ele contém uma rede temporal de contatos entre estudantes de classes preparatórias em Marseilles, França. \n",
    "\n",
    "\n",
    "* Os contatos de alunos foram registrados a partir de 5 classes durante 7 dias em 2012, sendo contabilizado o contato se um aluno está localizado dentro de 1-1.5 metros de distância um do outro por mais de 20 segundos\n",
    "\n",
    "* Durante nossas análises não iremos contabilizar a quantidade de vezes que cada aluno fez contato com outro, exemplo: se Aluno X conversou com Aluno Y 3 vezes por dia, iremos utilizar apenas contatos únicos, além disso a duração de contato também não utilizaremos.\n",
    "\n",
    "\n",
    "http://www.sociopatterns.org/datasets/high-school-dynamic-contact-networks/"
   ]
  },
  {
   "cell_type": "code",
   "execution_count": 1,
   "id": "42d4c63c",
   "metadata": {},
   "outputs": [
    {
     "data": {
      "text/html": [
       "\n",
       "    <script src=\"/files/netpixi.min.js\"></script>\n"
      ],
      "text/plain": [
       "<IPython.core.display.HTML object>"
      ]
     },
     "metadata": {},
     "output_type": "display_data"
    },
    {
     "name": "stderr",
     "output_type": "stream",
     "text": [
      "<frozen importlib._bootstrap>:914: ImportWarning: VendorImporter.find_spec() not found; falling back to find_module()\n",
      "<frozen importlib._bootstrap>:914: ImportWarning: VendorImporter.find_spec() not found; falling back to find_module()\n",
      "<frozen importlib._bootstrap>:914: ImportWarning: VendorImporter.find_spec() not found; falling back to find_module()\n"
     ]
    }
   ],
   "source": [
    "import netpixi #import das bibliotecas necessárias\n",
    "from netpixi.integration.gt import *\n",
    "from regression.integration.gt import *\n",
    "import pandas\n",
    "import seaborn as sns\n",
    "import matplotlib.pyplot as plt\n",
    "\n",
    "graph = Graph(directed=False) #dirigidonão\n"
   ]
  },
  {
   "cell_type": "markdown",
   "id": "a114fdd4",
   "metadata": {},
   "source": [
    "## Construção do grafo a partir do dataset\n",
    "\n",
    "* Formatação do dataset escolhido:  Tempo de contato - ID1 - ID2 - Class1 - Class2\n",
    "\n"
   ]
  },
  {
   "cell_type": "code",
   "execution_count": 2,
   "id": "3d30abdc",
   "metadata": {},
   "outputs": [
    {
     "name": "stdout",
     "output_type": "stream",
     "text": [
      "Exemplo de dados por linha:  1353303380\t1170\t1644\tMP*1\tMP*1\n",
      "\n"
     ]
    }
   ],
   "source": [
    "with open('thiers_2012.csv', \"r\") as arquivo:\n",
    "    csv_lines = arquivo.readlines()\n",
    "print(\"Exemplo de dados por linha: \",csv_lines[0])\n",
    "\n",
    "vertex = []\n",
    "edge = []\n",
    "\n",
    "for line in csv_lines:\n",
    "    split = line.split()\n",
    "    time = split[0]\n",
    "    id1 = split[1]\n",
    "    id2 = split[2]\n",
    "    class1 = split[3]\n",
    "    class2 = split[4]\n",
    "    \n",
    "    if id1 not in vertex:\n",
    "        vertex.append(id1)\n",
    "        graph.add_vertex(id1)\n",
    "        u = graph.get_vertex(id1)\n",
    "        graph.add_vp('class')\n",
    "        u['class'] = class1\n",
    "    \n",
    "    if id2 not in vertex:\n",
    "        graph.add_vertex(id2)\n",
    "        vertex.append(id2)\n",
    "        u = graph.get_vertex(id2)\n",
    "        graph.add_vp('class')\n",
    "        u['class'] = class2        \n",
    "        \n",
    "    if [id1,id2] not in edge:\n",
    "        edge.append([id1,id2])\n",
    "        edge.append([id2,id1])#ver jeito melhor\n",
    "        graph.add_edge(id1,id2)\n",
    "        "
   ]
  },
  {
   "cell_type": "markdown",
   "id": "013683f3",
   "metadata": {},
   "source": [
    "* O nosso dataset também tem um txt com o gênero de cada aluno(ID), então também foi adicionado como propriedade de vértice os gêneros."
   ]
  },
  {
   "cell_type": "code",
   "execution_count": 3,
   "id": "a5ee6b74",
   "metadata": {},
   "outputs": [],
   "source": [
    "with open('metadata_212.txt', \"r\") as arquivo:\n",
    "    data_lines = arquivo.readlines()\n",
    "\n",
    "for line in data_lines:\n",
    "    split = line.split()\n",
    "    student_id = split[0]\n",
    "    gender = split[2]\n",
    "    \n",
    "    u = graph.get_vertex(student_id)\n",
    "    graph.add_vp('gender')\n",
    "    u['gender'] = gender\n",
    "    \n",
    "gt_save(graph, '2012_class_gender.net.gz')        "
   ]
  },
  {
   "cell_type": "code",
   "execution_count": 4,
   "id": "ff662e23",
   "metadata": {},
   "outputs": [
    {
     "data": {
      "text/html": [
       "\n",
       "        <div id=\"BaaMEsAMReQJosND9XZnwV\"></div>\n",
       "        <script>netpixi.render('BaaMEsAMReQJosND9XZnwV', '2012_class_gender.net.gz', 1.7777777777777777, true, false, false);</script>\n",
       "    "
      ],
      "text/plain": [
       "<IPython.core.display.HTML object>"
      ]
     },
     "metadata": {},
     "output_type": "display_data"
    }
   ],
   "source": [
    "r = netpixi.render('2012_class_gender.net.gz')"
   ]
  },
  {
   "cell_type": "markdown",
   "id": "6f972a6a",
   "metadata": {},
   "source": [
    "## Análise exploratória\n",
    "\n",
    "* Número de vértices, número de arestas e densidade\n",
    "* Estatísticas"
   ]
  },
  {
   "cell_type": "code",
   "execution_count": 5,
   "id": "d90a3204",
   "metadata": {},
   "outputs": [
    {
     "name": "stdout",
     "output_type": "stream",
     "text": [
      "Número de vértices(ALunos): 180\n",
      "Número de arestas(Contatos durante a semana): 2220\n"
     ]
    }
   ],
   "source": [
    "print('Número de vértices(ALunos):', graph.num_vertices())\n",
    "print('Número de arestas(Contatos durante a semana):', graph.num_edges())"
   ]
  },
  {
   "cell_type": "markdown",
   "id": "0c1cb992",
   "metadata": {},
   "source": [
    "* Todos os vértices tem sua classe e genero como propriedade"
   ]
  },
  {
   "cell_type": "code",
   "execution_count": 6,
   "id": "96e8c9bf",
   "metadata": {},
   "outputs": [
    {
     "data": {
      "text/html": [
       "<div>\n",
       "<style scoped>\n",
       "    .dataframe tbody tr th:only-of-type {\n",
       "        vertical-align: middle;\n",
       "    }\n",
       "\n",
       "    .dataframe tbody tr th {\n",
       "        vertical-align: top;\n",
       "    }\n",
       "\n",
       "    .dataframe thead th {\n",
       "        text-align: right;\n",
       "    }\n",
       "</style>\n",
       "<table border=\"1\" class=\"dataframe\">\n",
       "  <thead>\n",
       "    <tr style=\"text-align: right;\">\n",
       "      <th></th>\n",
       "      <th>class</th>\n",
       "      <th>gender</th>\n",
       "    </tr>\n",
       "    <tr>\n",
       "      <th>id</th>\n",
       "      <th></th>\n",
       "      <th></th>\n",
       "    </tr>\n",
       "  </thead>\n",
       "  <tbody>\n",
       "    <tr>\n",
       "      <th>1170</th>\n",
       "      <td>MP*1</td>\n",
       "      <td>M</td>\n",
       "    </tr>\n",
       "    <tr>\n",
       "      <th>1644</th>\n",
       "      <td>MP*1</td>\n",
       "      <td>M</td>\n",
       "    </tr>\n",
       "    <tr>\n",
       "      <th>1613</th>\n",
       "      <td>MP*1</td>\n",
       "      <td>M</td>\n",
       "    </tr>\n",
       "    <tr>\n",
       "      <th>1181</th>\n",
       "      <td>MP*1</td>\n",
       "      <td>M</td>\n",
       "    </tr>\n",
       "    <tr>\n",
       "      <th>1651</th>\n",
       "      <td>MP*1</td>\n",
       "      <td>M</td>\n",
       "    </tr>\n",
       "    <tr>\n",
       "      <th>...</th>\n",
       "      <td>...</td>\n",
       "      <td>...</td>\n",
       "    </tr>\n",
       "    <tr>\n",
       "      <th>666</th>\n",
       "      <td>PC</td>\n",
       "      <td>M</td>\n",
       "    </tr>\n",
       "    <tr>\n",
       "      <th>881</th>\n",
       "      <td>PC*</td>\n",
       "      <td>M</td>\n",
       "    </tr>\n",
       "    <tr>\n",
       "      <th>607</th>\n",
       "      <td>PC</td>\n",
       "      <td>M</td>\n",
       "    </tr>\n",
       "    <tr>\n",
       "      <th>624</th>\n",
       "      <td>PC</td>\n",
       "      <td>M</td>\n",
       "    </tr>\n",
       "    <tr>\n",
       "      <th>633</th>\n",
       "      <td>PC</td>\n",
       "      <td>M</td>\n",
       "    </tr>\n",
       "  </tbody>\n",
       "</table>\n",
       "<p>180 rows × 2 columns</p>\n",
       "</div>"
      ],
      "text/plain": [
       "     class gender\n",
       "id               \n",
       "1170  MP*1      M\n",
       "1644  MP*1      M\n",
       "1613  MP*1      M\n",
       "1181  MP*1      M\n",
       "1651  MP*1      M\n",
       "...    ...    ...\n",
       "666     PC      M\n",
       "881    PC*      M\n",
       "607     PC      M\n",
       "624     PC      M\n",
       "633     PC      M\n",
       "\n",
       "[180 rows x 2 columns]"
      ]
     },
     "execution_count": 6,
     "metadata": {},
     "output_type": "execute_result"
    }
   ],
   "source": [
    "data = gt_data(graph)\n",
    "data"
   ]
  },
  {
   "cell_type": "markdown",
   "id": "b01201d5",
   "metadata": {},
   "source": [
    "## Degrees\n",
    "\n",
    "Por ser um grafo não direcionado, existe apenas o degree, que significa para nosso dataset a quantidade de contatos que cada aluno teve durante a semana"
   ]
  },
  {
   "cell_type": "code",
   "execution_count": 7,
   "id": "7c4f4aa4",
   "metadata": {},
   "outputs": [
    {
     "data": {
      "text/html": [
       "<div>\n",
       "<style scoped>\n",
       "    .dataframe tbody tr th:only-of-type {\n",
       "        vertical-align: middle;\n",
       "    }\n",
       "\n",
       "    .dataframe tbody tr th {\n",
       "        vertical-align: top;\n",
       "    }\n",
       "\n",
       "    .dataframe thead th {\n",
       "        text-align: right;\n",
       "    }\n",
       "</style>\n",
       "<table border=\"1\" class=\"dataframe\">\n",
       "  <thead>\n",
       "    <tr style=\"text-align: right;\">\n",
       "      <th></th>\n",
       "      <th>class</th>\n",
       "      <th>gender</th>\n",
       "      <th>degree</th>\n",
       "    </tr>\n",
       "    <tr>\n",
       "      <th>id</th>\n",
       "      <th></th>\n",
       "      <th></th>\n",
       "      <th></th>\n",
       "    </tr>\n",
       "  </thead>\n",
       "  <tbody>\n",
       "    <tr>\n",
       "      <th>1170</th>\n",
       "      <td>MP*1</td>\n",
       "      <td>M</td>\n",
       "      <td>36</td>\n",
       "    </tr>\n",
       "    <tr>\n",
       "      <th>1644</th>\n",
       "      <td>MP*1</td>\n",
       "      <td>M</td>\n",
       "      <td>33</td>\n",
       "    </tr>\n",
       "    <tr>\n",
       "      <th>1613</th>\n",
       "      <td>MP*1</td>\n",
       "      <td>M</td>\n",
       "      <td>37</td>\n",
       "    </tr>\n",
       "    <tr>\n",
       "      <th>1181</th>\n",
       "      <td>MP*1</td>\n",
       "      <td>M</td>\n",
       "      <td>32</td>\n",
       "    </tr>\n",
       "    <tr>\n",
       "      <th>1651</th>\n",
       "      <td>MP*1</td>\n",
       "      <td>M</td>\n",
       "      <td>29</td>\n",
       "    </tr>\n",
       "    <tr>\n",
       "      <th>...</th>\n",
       "      <td>...</td>\n",
       "      <td>...</td>\n",
       "      <td>...</td>\n",
       "    </tr>\n",
       "    <tr>\n",
       "      <th>666</th>\n",
       "      <td>PC</td>\n",
       "      <td>M</td>\n",
       "      <td>27</td>\n",
       "    </tr>\n",
       "    <tr>\n",
       "      <th>881</th>\n",
       "      <td>PC*</td>\n",
       "      <td>M</td>\n",
       "      <td>8</td>\n",
       "    </tr>\n",
       "    <tr>\n",
       "      <th>607</th>\n",
       "      <td>PC</td>\n",
       "      <td>M</td>\n",
       "      <td>11</td>\n",
       "    </tr>\n",
       "    <tr>\n",
       "      <th>624</th>\n",
       "      <td>PC</td>\n",
       "      <td>M</td>\n",
       "      <td>15</td>\n",
       "    </tr>\n",
       "    <tr>\n",
       "      <th>633</th>\n",
       "      <td>PC</td>\n",
       "      <td>M</td>\n",
       "      <td>14</td>\n",
       "    </tr>\n",
       "  </tbody>\n",
       "</table>\n",
       "<p>180 rows × 3 columns</p>\n",
       "</div>"
      ],
      "text/plain": [
       "     class gender  degree\n",
       "id                       \n",
       "1170  MP*1      M      36\n",
       "1644  MP*1      M      33\n",
       "1613  MP*1      M      37\n",
       "1181  MP*1      M      32\n",
       "1651  MP*1      M      29\n",
       "...    ...    ...     ...\n",
       "666     PC      M      27\n",
       "881    PC*      M       8\n",
       "607     PC      M      11\n",
       "624     PC      M      15\n",
       "633     PC      M      14\n",
       "\n",
       "[180 rows x 3 columns]"
      ]
     },
     "execution_count": 7,
     "metadata": {},
     "output_type": "execute_result"
    }
   ],
   "source": [
    "degrees = []\n",
    "for v in graph.all_vertices():\n",
    "    degrees.append(v.total_degree()) \n",
    "    \n",
    "data['degree'] = degrees\n",
    "media_degree = data['degree'].mean()\n",
    "data"
   ]
  },
  {
   "cell_type": "code",
   "execution_count": 8,
   "id": "0895cfd5",
   "metadata": {
    "scrolled": false
   },
   "outputs": [
    {
     "data": {
      "image/png": "[encoded data removed]",
      "text/plain": [
       "<Figure size 640x480 with 1 Axes>"
      ]
     },
     "metadata": {},
     "output_type": "display_data"
    }
   ],
   "source": [
    "sns.histplot(data['degree'])\n",
    "data['degree'].describe()\n",
    "\n",
    "plt.savefig('describe.png')"
   ]
  },
  {
   "cell_type": "code",
   "execution_count": 9,
   "id": "ae7ea135",
   "metadata": {},
   "outputs": [
    {
     "name": "stdout",
     "output_type": "stream",
     "text": [
      "Média de contatos dos alunos:  24.666666666666668\n"
     ]
    }
   ],
   "source": [
    "print('Média de contatos dos alunos: ',media_degree)"
   ]
  },
  {
   "cell_type": "code",
   "execution_count": 10,
   "id": "203ee5f1",
   "metadata": {},
   "outputs": [
    {
     "data": {
      "text/plain": [
       "<AxesSubplot: xlabel='class', ylabel='count'>"
      ]
     },
     "execution_count": 10,
     "metadata": {},
     "output_type": "execute_result"
    },
    {
     "data": {
      "image/png": "[encoded data removed]",
      "text/plain": [
       "<Figure size 640x480 with 1 Axes>"
      ]
     },
     "metadata": {},
     "output_type": "display_data"
    }
   ],
   "source": [
    "data = gt_data(graph)\n",
    "data['class'].value_counts()\n",
    "sns.countplot(x=data[\"class\"])"
   ]
  },
  {
   "cell_type": "markdown",
   "id": "76c91d38",
   "metadata": {},
   "source": [
    "* As salas dos alunos são dividas em PC(Física e Química), MP(Matemática e Física) e PSI(Estudos de engenharia) e o asterisco (\\*) indica sala diferente do mesmo curso. Exemplo: COMPA, COMPB\n",
    "\n",
    "* Nota-se que as classes são focadas na área de exatas"
   ]
  },
  {
   "cell_type": "code",
   "execution_count": 11,
   "id": "9d5eab99",
   "metadata": {},
   "outputs": [
    {
     "data": {
      "text/plain": [
       "<AxesSubplot: xlabel='gender', ylabel='count'>"
      ]
     },
     "execution_count": 11,
     "metadata": {},
     "output_type": "execute_result"
    },
    {
     "data": {
      "image/png": "[encoded data removed]",
      "text/plain": [
       "<Figure size 640x480 with 1 Axes>"
      ]
     },
     "metadata": {},
     "output_type": "display_data"
    }
   ],
   "source": [
    "sns.countplot(x=data[\"gender\"])"
   ]
  },
  {
   "cell_type": "markdown",
   "id": "cf2bc111",
   "metadata": {},
   "source": [
    "* Cerca de 73% dos alunos no nosso dataset é masculino, provavelmente o motivo seja as classes sendo focadas em conteúdos de exatas, o que tem uma maioridade de homens"
   ]
  },
  {
   "cell_type": "markdown",
   "id": "c7af5968",
   "metadata": {},
   "source": [
    "## Análise visual\n",
    "\n",
    "* Utilizar um algoritmo baseado em force-directed graph drawing, para evidenciar grupos para analises\n",
    "* Deixar o grafo mais visível com o que pretendemos analsiar no momento\n",
    "\n",
    "\n",
    "O algoritmo escolhido para analisar será o ARF que ajuda a evidenciar clusters"
   ]
  },
  {
   "cell_type": "code",
   "execution_count": 18,
   "id": "3df2b0ea",
   "metadata": {
    "scrolled": true
   },
   "outputs": [
    {
     "data": {
      "text/html": [
       "\n",
       "        <div id=\"7eUyaC9ncs9GMdsLhzm7fc\"></div>\n",
       "        <script>netpixi.render('7eUyaC9ncs9GMdsLhzm7fc', 'arf.net.gz', 1.7777777777777777, true, false, false);</script>\n",
       "    "
      ],
      "text/plain": [
       "<IPython.core.display.HTML object>"
      ]
     },
     "metadata": {},
     "output_type": "display_data"
    }
   ],
   "source": [
    "g = gt_load('2012_class_gender.net.gz')\n",
    "m = gt_draw.arf_layout(g)\n",
    "gt_move(g, m)\n",
    "gt_save(g, 'arf.net.gz')\n",
    "netpixi.render('arf.net.gz');"
   ]
  },
  {
   "cell_type": "markdown",
   "id": "a4f9df45",
   "metadata": {},
   "source": [
    "Nota-se no grafo acima 4 grupos distintos, mas ainda não consegue-se obter mais informações sobre cada cluster em si, então para isso criaremos uma função que pode evidenciar as propriedades de cada vértice no grafo"
   ]
  },
  {
   "cell_type": "code",
   "execution_count": 19,
   "id": "31e2d2bb",
   "metadata": {},
   "outputs": [
    {
     "data": {
      "text/html": [
       "\n",
       "        <div id=\"SPYvf7C2mo2APyUzEuknqp\"></div>\n",
       "        <script>netpixi.render('SPYvf7C2mo2APyUzEuknqp', 'arf.net.gz', 1.7777777777777777, true, false, false);</script>\n",
       "    "
      ],
      "text/plain": [
       "<IPython.core.display.HTML object>"
      ]
     },
     "metadata": {},
     "output_type": "display_data"
    }
   ],
   "source": [
    "pretty = netpixi.render('arf.net.gz');\n",
    "\n",
    "def set_label_set_property(prop,label):\n",
    "    \n",
    "    for v in g.all_vertices(): \n",
    "        ver = v[prop]\n",
    "        id_v = v.get_id()\n",
    "        val_cor = 0xffffff\n",
    "        if prop == 'class':\n",
    "            if ver == \"MP*1\":\n",
    "                val_cor = 0xffd700\n",
    "            elif ver == \"PC\":\n",
    "                val_cor = 0x00ff00\n",
    "            elif ver == \"PSI*\":\n",
    "                val_cor = 0xE69138\n",
    "            elif ver == \"PC*\":\n",
    "                val_cor = 0x6AA84F\n",
    "            elif ver == \"MP*2\":\n",
    "                val_cor = 0x993399\n",
    "            else:\n",
    "                print(\"outro\")\n",
    "        elif prop == 'gender':\n",
    "            if ver == \"M\":\n",
    "                val_cor = 0x0000ff\n",
    "            elif ver == \"F\":\n",
    "                val_cor = 0xFF00D7\n",
    "            else:\n",
    "                print(\"outro\")\n",
    "        \n",
    "        pretty.vertex(id_v, color=val_cor)\n",
    "        pretty.vertex_set_key(label)\n",
    "    return None\n"
   ]
  },
  {
   "cell_type": "markdown",
   "id": "13589dca",
   "metadata": {},
   "source": [
    "A função set_label_set_property() pode ser utilizada para analisar o grafo com métricas diferentes, como se gênero influenciam nos clusters baseado"
   ]
  },
  {
   "cell_type": "code",
   "execution_count": 16,
   "id": "8c4276d8",
   "metadata": {},
   "outputs": [
    {
     "data": {
      "text/html": [
       "\n",
       "        <div id=\"ErUxrF6nTiFTeHjfhVz3VK\"></div>\n",
       "        <script>netpixi.call('ErUxrF6nTiFTeHjfhVz3VK', 'TyBqTTn6xko23meQ9UDw3Y', 'changeGraph', 'eyJpZCI6ICIxMTcwIiwgInR5cGUiOiAidmVydGV4IiwgInByb3BzIjogeyJjb2xvciI6IDE2NzY2NzIwfX0K');</script>\n",
       "    "
      ],
      "text/plain": [
       "<IPython.core.display.HTML object>"
      ]
     },
     "metadata": {},
     "output_type": "display_data"
    },
    {
     "data": {
      "text/html": [
       "\n",
       "        <div id=\"BS6rYE9GTFsUsUa6tY6Ewk\"></div>\n",
       "        <script>netpixi.call('BS6rYE9GTFsUsUa6tY6Ewk', 'TyBqTTn6xko23meQ9UDw3Y', 'setGraph', 'eyJ0eXBlIjogInZlcnRleCIsICJwcm9wcyI6IHsic3JjIjogImNsYXNzIiwgImRzdCI6ICJfa2V5In19Cg==');</script>\n",
       "    "
      ],
      "text/plain": [
       "<IPython.core.display.HTML object>"
      ]
     },
     "metadata": {},
     "output_type": "display_data"
    },
    {
     "data": {
      "text/html": [
       "\n",
       "        <div id=\"insJjrFukWb9K9cr8iYNDz\"></div>\n",
       "        <script>netpixi.call('insJjrFukWb9K9cr8iYNDz', 'TyBqTTn6xko23meQ9UDw3Y', 'changeGraph', 'eyJpZCI6ICIxNjQ0IiwgInR5cGUiOiAidmVydGV4IiwgInByb3BzIjogeyJjb2xvciI6IDE2NzY2NzIwfX0K');</script>\n",
       "    "
      ],
      "text/plain": [
       "<IPython.core.display.HTML object>"
      ]
     },
     "metadata": {},
     "output_type": "display_data"
    },
    {
     "data": {
      "text/html": [
       "\n",
       "        <div id=\"eioEyKeKeqUXqeyoqCtBUi\"></div>\n",
       "        <script>netpixi.call('eioEyKeKeqUXqeyoqCtBUi', 'TyBqTTn6xko23meQ9UDw3Y', 'setGraph', 'eyJ0eXBlIjogInZlcnRleCIsICJwcm9wcyI6IHsic3JjIjogImNsYXNzIiwgImRzdCI6ICJfa2V5In19Cg==');</script>\n",
       "    "
      ],
      "text/plain": [
       "<IPython.core.display.HTML object>"
      ]
     },
     "metadata": {},
     "output_type": "display_data"
    },
    {
     "data": {
      "text/html": [
       "\n",
       "        <div id=\"m2hFGfEXEBrmxFxLUTcEK9\"></div>\n",
       "        <script>netpixi.call('m2hFGfEXEBrmxFxLUTcEK9', 'TyBqTTn6xko23meQ9UDw3Y', 'changeGraph', 'eyJpZCI6ICIxNjEzIiwgInR5cGUiOiAidmVydGV4IiwgInByb3BzIjogeyJjb2xvciI6IDE2NzY2NzIwfX0K');</script>\n",
       "    "
      ],
      "text/plain": [
       "<IPython.core.display.HTML object>"
      ]
     },
     "metadata": {},
     "output_type": "display_data"
    },
    {
     "data": {
      "text/html": [
       "\n",
       "        <div id=\"knLvx6nYvkrP2MAUznFA8m\"></div>\n",
       "        <script>netpixi.call('knLvx6nYvkrP2MAUznFA8m', 'TyBqTTn6xko23meQ9UDw3Y', 'setGraph', 'eyJ0eXBlIjogInZlcnRleCIsICJwcm9wcyI6IHsic3JjIjogImNsYXNzIiwgImRzdCI6ICJfa2V5In19Cg==');</script>\n",
       "    "
      ],
      "text/plain": [
       "<IPython.core.display.HTML object>"
      ]
     },
     "metadata": {},
     "output_type": "display_data"
    },
    {
     "data": {
      "text/html": [
       "\n",
       "        <div id=\"DLgZVu7bEsmnDD23aqZFuw\"></div>\n",
       "        <script>netpixi.call('DLgZVu7bEsmnDD23aqZFuw', 'TyBqTTn6xko23meQ9UDw3Y', 'changeGraph', 'eyJpZCI6ICIxMTgxIiwgInR5cGUiOiAidmVydGV4IiwgInByb3BzIjogeyJjb2xvciI6IDE2NzY2NzIwfX0K');</script>\n",
       "    "
      ],
      "text/plain": [
       "<IPython.core.display.HTML object>"
      ]
     },
     "metadata": {},
     "output_type": "display_data"
    },
    {
     "data": {
      "text/html": [
       "\n",
       "        <div id=\"BnsPQHMrbPgPqAQn2L8jHZ\"></div>\n",
       "        <script>netpixi.call('BnsPQHMrbPgPqAQn2L8jHZ', 'TyBqTTn6xko23meQ9UDw3Y', 'setGraph', 'eyJ0eXBlIjogInZlcnRleCIsICJwcm9wcyI6IHsic3JjIjogImNsYXNzIiwgImRzdCI6ICJfa2V5In19Cg==');</script>\n",
       "    "
      ],
      "text/plain": [
       "<IPython.core.display.HTML object>"
      ]
     },
     "metadata": {},
     "output_type": "display_data"
    },
    {
     "data": {
      "text/html": [
       "\n",
       "        <div id=\"dWFENSor3kWQJiPYKbPqF7\"></div>\n",
       "        <script>netpixi.call('dWFENSor3kWQJiPYKbPqF7', 'TyBqTTn6xko23meQ9UDw3Y', 'changeGraph', 'eyJpZCI6ICIxNjUxIiwgInR5cGUiOiAidmVydGV4IiwgInByb3BzIjogeyJjb2xvciI6IDE2NzY2NzIwfX0K');</script>\n",
       "    "
      ],
      "text/plain": [
       "<IPython.core.display.HTML object>"
      ]
     },
     "metadata": {},
     "output_type": "display_data"
    },
    {
     "data": {
      "text/html": [
       "\n",
       "        <div id=\"nUj8JGtktfDjqYM3LRaHNj\"></div>\n",
       "        <script>netpixi.call('nUj8JGtktfDjqYM3LRaHNj', 'TyBqTTn6xko23meQ9UDw3Y', 'setGraph', 'eyJ0eXBlIjogInZlcnRleCIsICJwcm9wcyI6IHsic3JjIjogImNsYXNzIiwgImRzdCI6ICJfa2V5In19Cg==');</script>\n",
       "    "
      ],
      "text/plain": [
       "<IPython.core.display.HTML object>"
      ]
     },
     "metadata": {},
     "output_type": "display_data"
    },
    {
     "data": {
      "text/html": [
       "\n",
       "        <div id=\"Akkmn6ZJpJQJMoWDwCAwrn\"></div>\n",
       "        <script>netpixi.call('Akkmn6ZJpJQJMoWDwCAwrn', 'TyBqTTn6xko23meQ9UDw3Y', 'changeGraph', 'eyJpZCI6ICIxMTA4IiwgInR5cGUiOiAidmVydGV4IiwgInByb3BzIjogeyJjb2xvciI6IDE2NzY2NzIwfX0K');</script>\n",
       "    "
      ],
      "text/plain": [
       "<IPython.core.display.HTML object>"
      ]
     },
     "metadata": {},
     "output_type": "display_data"
    },
    {
     "data": {
      "text/html": [
       "\n",
       "        <div id=\"BVZmnsHywweaoXAYjHDH8D\"></div>\n",
       "        <script>netpixi.call('BVZmnsHywweaoXAYjHDH8D', 'TyBqTTn6xko23meQ9UDw3Y', 'setGraph', 'eyJ0eXBlIjogInZlcnRleCIsICJwcm9wcyI6IHsic3JjIjogImNsYXNzIiwgImRzdCI6ICJfa2V5In19Cg==');</script>\n",
       "    "
      ],
      "text/plain": [
       "<IPython.core.display.HTML object>"
      ]
     },
     "metadata": {},
     "output_type": "display_data"
    },
    {
     "data": {
      "text/html": [
       "\n",
       "        <div id=\"oVsqBGcBoUALPp23iSfQQa\"></div>\n",
       "        <script>netpixi.call('oVsqBGcBoUALPp23iSfQQa', 'TyBqTTn6xko23meQ9UDw3Y', 'changeGraph', 'eyJpZCI6ICIxMTkwIiwgInR5cGUiOiAidmVydGV4IiwgInByb3BzIjogeyJjb2xvciI6IDE2NzY2NzIwfX0K');</script>\n",
       "    "
      ],
      "text/plain": [
       "<IPython.core.display.HTML object>"
      ]
     },
     "metadata": {},
     "output_type": "display_data"
    },
    {
     "data": {
      "text/html": [
       "\n",
       "        <div id=\"6SAmau7WtpHCNaTccXCCEW\"></div>\n",
       "        <script>netpixi.call('6SAmau7WtpHCNaTccXCCEW', 'TyBqTTn6xko23meQ9UDw3Y', 'setGraph', 'eyJ0eXBlIjogInZlcnRleCIsICJwcm9wcyI6IHsic3JjIjogImNsYXNzIiwgImRzdCI6ICJfa2V5In19Cg==');</script>\n",
       "    "
      ],
      "text/plain": [
       "<IPython.core.display.HTML object>"
      ]
     },
     "metadata": {},
     "output_type": "display_data"
    },
    {
     "data": {
      "text/html": [
       "\n",
       "        <div id=\"WvkJPLG4uJsWmjrm26vDom\"></div>\n",
       "        <script>netpixi.call('WvkJPLG4uJsWmjrm26vDom', 'TyBqTTn6xko23meQ9UDw3Y', 'changeGraph', 'eyJpZCI6ICIxNjcxIiwgInR5cGUiOiAidmVydGV4IiwgInByb3BzIjogeyJjb2xvciI6IDE2NzY2NzIwfX0K');</script>\n",
       "    "
      ],
      "text/plain": [
       "<IPython.core.display.HTML object>"
      ]
     },
     "metadata": {},
     "output_type": "display_data"
    },
    {
     "data": {
      "text/html": [
       "\n",
       "        <div id=\"8KEohjPs3EQGer3TxkWKGG\"></div>\n",
       "        <script>netpixi.call('8KEohjPs3EQGer3TxkWKGG', 'TyBqTTn6xko23meQ9UDw3Y', 'setGraph', 'eyJ0eXBlIjogInZlcnRleCIsICJwcm9wcyI6IHsic3JjIjogImNsYXNzIiwgImRzdCI6ICJfa2V5In19Cg==');</script>\n",
       "    "
      ],
      "text/plain": [
       "<IPython.core.display.HTML object>"
      ]
     },
     "metadata": {},
     "output_type": "display_data"
    },
    {
     "data": {
      "text/html": [
       "\n",
       "        <div id=\"WFS4PTKhVUVqXwVeuCVGmQ\"></div>\n",
       "        <script>netpixi.call('WFS4PTKhVUVqXwVeuCVGmQ', 'TyBqTTn6xko23meQ9UDw3Y', 'changeGraph', 'eyJpZCI6ICIxNjcyIiwgInR5cGUiOiAidmVydGV4IiwgInByb3BzIjogeyJjb2xvciI6IDE2NzY2NzIwfX0K');</script>\n",
       "    "
      ],
      "text/plain": [
       "<IPython.core.display.HTML object>"
      ]
     },
     "metadata": {},
     "output_type": "display_data"
    },
    {
     "data": {
      "text/html": [
       "\n",
       "        <div id=\"ad2xXgCvooL52PowN9YLov\"></div>\n",
       "        <script>netpixi.call('ad2xXgCvooL52PowN9YLov', 'TyBqTTn6xko23meQ9UDw3Y', 'setGraph', 'eyJ0eXBlIjogInZlcnRleCIsICJwcm9wcyI6IHsic3JjIjogImNsYXNzIiwgImRzdCI6ICJfa2V5In19Cg==');</script>\n",
       "    "
      ],
      "text/plain": [
       "<IPython.core.display.HTML object>"
      ]
     },
     "metadata": {},
     "output_type": "display_data"
    },
    {
     "data": {
      "text/html": [
       "\n",
       "        <div id=\"MXPKVmA4usfhbQpcb7aLKr\"></div>\n",
       "        <script>netpixi.call('MXPKVmA4usfhbQpcb7aLKr', 'TyBqTTn6xko23meQ9UDw3Y', 'changeGraph', 'eyJpZCI6ICIxNjYwIiwgInR5cGUiOiAidmVydGV4IiwgInByb3BzIjogeyJjb2xvciI6IDE2NzY2NzIwfX0K');</script>\n",
       "    "
      ],
      "text/plain": [
       "<IPython.core.display.HTML object>"
      ]
     },
     "metadata": {},
     "output_type": "display_data"
    },
    {
     "data": {
      "text/html": [
       "\n",
       "        <div id=\"PJFAkC6eUxEtBk5E3d7X8y\"></div>\n",
       "        <script>netpixi.call('PJFAkC6eUxEtBk5E3d7X8y', 'TyBqTTn6xko23meQ9UDw3Y', 'setGraph', 'eyJ0eXBlIjogInZlcnRleCIsICJwcm9wcyI6IHsic3JjIjogImNsYXNzIiwgImRzdCI6ICJfa2V5In19Cg==');</script>\n",
       "    "
      ],
      "text/plain": [
       "<IPython.core.display.HTML object>"
      ]
     },
     "metadata": {},
     "output_type": "display_data"
    },
    {
     "data": {
      "text/html": [
       "\n",
       "        <div id=\"M4t6qFKbqyCyXgB9iMnbam\"></div>\n",
       "        <script>netpixi.call('M4t6qFKbqyCyXgB9iMnbam', 'TyBqTTn6xko23meQ9UDw3Y', 'changeGraph', 'eyJpZCI6ICIxNjYyIiwgInR5cGUiOiAidmVydGV4IiwgInByb3BzIjogeyJjb2xvciI6IDE2NzY2NzIwfX0K');</script>\n",
       "    "
      ],
      "text/plain": [
       "<IPython.core.display.HTML object>"
      ]
     },
     "metadata": {},
     "output_type": "display_data"
    },
    {
     "data": {
      "text/html": [
       "\n",
       "        <div id=\"UwJVjtzbEM4ezkD37uHPqf\"></div>\n",
       "        <script>netpixi.call('UwJVjtzbEM4ezkD37uHPqf', 'TyBqTTn6xko23meQ9UDw3Y', 'setGraph', 'eyJ0eXBlIjogInZlcnRleCIsICJwcm9wcyI6IHsic3JjIjogImNsYXNzIiwgImRzdCI6ICJfa2V5In19Cg==');</script>\n",
       "    "
      ],
      "text/plain": [
       "<IPython.core.display.HTML object>"
      ]
     },
     "metadata": {},
     "output_type": "display_data"
    },
    {
     "data": {
      "text/html": [
       "\n",
       "        <div id=\"jDH3uPHTGBEbyKvFW6jjd9\"></div>\n",
       "        <script>netpixi.call('jDH3uPHTGBEbyKvFW6jjd9', 'TyBqTTn6xko23meQ9UDw3Y', 'changeGraph', 'eyJpZCI6ICI4MDMiLCAidHlwZSI6ICJ2ZXJ0ZXgiLCAicHJvcHMiOiB7ImNvbG9yIjogNjk4OTkwM319Cg==');</script>\n",
       "    "
      ],
      "text/plain": [
       "<IPython.core.display.HTML object>"
      ]
     },
     "metadata": {},
     "output_type": "display_data"
    },
    {
     "data": {
      "text/html": [
       "\n",
       "        <div id=\"MPUXnnzkawphBuyBKkmzfp\"></div>\n",
       "        <script>netpixi.call('MPUXnnzkawphBuyBKkmzfp', 'TyBqTTn6xko23meQ9UDw3Y', 'setGraph', 'eyJ0eXBlIjogInZlcnRleCIsICJwcm9wcyI6IHsic3JjIjogImNsYXNzIiwgImRzdCI6ICJfa2V5In19Cg==');</script>\n",
       "    "
      ],
      "text/plain": [
       "<IPython.core.display.HTML object>"
      ]
     },
     "metadata": {},
     "output_type": "display_data"
    },
    {
     "data": {
      "text/html": [
       "\n",
       "        <div id=\"SgMUR9UToC6DAuevQq75Ns\"></div>\n",
       "        <script>netpixi.call('SgMUR9UToC6DAuevQq75Ns', 'TyBqTTn6xko23meQ9UDw3Y', 'changeGraph', 'eyJpZCI6ICI4NDkiLCAidHlwZSI6ICJ2ZXJ0ZXgiLCAicHJvcHMiOiB7ImNvbG9yIjogNjk4OTkwM319Cg==');</script>\n",
       "    "
      ],
      "text/plain": [
       "<IPython.core.display.HTML object>"
      ]
     },
     "metadata": {},
     "output_type": "display_data"
    },
    {
     "data": {
      "text/html": [
       "\n",
       "        <div id=\"LeZss4fJZRPGBLRbfK2h3v\"></div>\n",
       "        <script>netpixi.call('LeZss4fJZRPGBLRbfK2h3v', 'TyBqTTn6xko23meQ9UDw3Y', 'setGraph', 'eyJ0eXBlIjogInZlcnRleCIsICJwcm9wcyI6IHsic3JjIjogImNsYXNzIiwgImRzdCI6ICJfa2V5In19Cg==');</script>\n",
       "    "
      ],
      "text/plain": [
       "<IPython.core.display.HTML object>"
      ]
     },
     "metadata": {},
     "output_type": "display_data"
    },
    {
     "data": {
      "text/html": [
       "\n",
       "        <div id=\"ZB3YypMSA6HrYzEpuXVfC8\"></div>\n",
       "        <script>netpixi.call('ZB3YypMSA6HrYzEpuXVfC8', 'TyBqTTn6xko23meQ9UDw3Y', 'changeGraph', 'eyJpZCI6ICIxMTQ0IiwgInR5cGUiOiAidmVydGV4IiwgInByb3BzIjogeyJjb2xvciI6IDE2NzY2NzIwfX0K');</script>\n",
       "    "
      ],
      "text/plain": [
       "<IPython.core.display.HTML object>"
      ]
     },
     "metadata": {},
     "output_type": "display_data"
    },
    {
     "data": {
      "text/html": [
       "\n",
       "        <div id=\"JBugZoYzaoBxjLcqAfNpBa\"></div>\n",
       "        <script>netpixi.call('JBugZoYzaoBxjLcqAfNpBa', 'TyBqTTn6xko23meQ9UDw3Y', 'setGraph', 'eyJ0eXBlIjogInZlcnRleCIsICJwcm9wcyI6IHsic3JjIjogImNsYXNzIiwgImRzdCI6ICJfa2V5In19Cg==');</script>\n",
       "    "
      ],
      "text/plain": [
       "<IPython.core.display.HTML object>"
      ]
     },
     "metadata": {},
     "output_type": "display_data"
    },
    {
     "data": {
      "text/html": [
       "\n",
       "        <div id=\"4dbVrLXv37VJLSjB8mnxxS\"></div>\n",
       "        <script>netpixi.call('4dbVrLXv37VJLSjB8mnxxS', 'TyBqTTn6xko23meQ9UDw3Y', 'changeGraph', 'eyJpZCI6ICI2NTYiLCAidHlwZSI6ICJ2ZXJ0ZXgiLCAicHJvcHMiOiB7ImNvbG9yIjogNjUyODB9fQo=');</script>\n",
       "    "
      ],
      "text/plain": [
       "<IPython.core.display.HTML object>"
      ]
     },
     "metadata": {},
     "output_type": "display_data"
    },
    {
     "data": {
      "text/html": [
       "\n",
       "        <div id=\"NQFgzLNyK8UiMTbunA7taF\"></div>\n",
       "        <script>netpixi.call('NQFgzLNyK8UiMTbunA7taF', 'TyBqTTn6xko23meQ9UDw3Y', 'setGraph', 'eyJ0eXBlIjogInZlcnRleCIsICJwcm9wcyI6IHsic3JjIjogImNsYXNzIiwgImRzdCI6ICJfa2V5In19Cg==');</script>\n",
       "    "
      ],
      "text/plain": [
       "<IPython.core.display.HTML object>"
      ]
     },
     "metadata": {},
     "output_type": "display_data"
    },
    {
     "data": {
      "text/html": [
       "\n",
       "        <div id=\"e4ZBwk4ZunVVx3wUTcxMtP\"></div>\n",
       "        <script>netpixi.call('e4ZBwk4ZunVVx3wUTcxMtP', 'TyBqTTn6xko23meQ9UDw3Y', 'changeGraph', 'eyJpZCI6ICI2ODIiLCAidHlwZSI6ICJ2ZXJ0ZXgiLCAicHJvcHMiOiB7ImNvbG9yIjogNjUyODB9fQo=');</script>\n",
       "    "
      ],
      "text/plain": [
       "<IPython.core.display.HTML object>"
      ]
     },
     "metadata": {},
     "output_type": "display_data"
    },
    {
     "data": {
      "text/html": [
       "\n",
       "        <div id=\"4Xiz8QyJhi3PNfQ2gqvTpN\"></div>\n",
       "        <script>netpixi.call('4Xiz8QyJhi3PNfQ2gqvTpN', 'TyBqTTn6xko23meQ9UDw3Y', 'setGraph', 'eyJ0eXBlIjogInZlcnRleCIsICJwcm9wcyI6IHsic3JjIjogImNsYXNzIiwgImRzdCI6ICJfa2V5In19Cg==');</script>\n",
       "    "
      ],
      "text/plain": [
       "<IPython.core.display.HTML object>"
      ]
     },
     "metadata": {},
     "output_type": "display_data"
    },
    {
     "data": {
      "text/html": [
       "\n",
       "        <div id=\"B3DWLkEGKadxK2f3QVGrys\"></div>\n",
       "        <script>netpixi.call('B3DWLkEGKadxK2f3QVGrys', 'TyBqTTn6xko23meQ9UDw3Y', 'changeGraph', 'eyJpZCI6ICIxMTQ4IiwgInR5cGUiOiAidmVydGV4IiwgInByb3BzIjogeyJjb2xvciI6IDE2NzY2NzIwfX0K');</script>\n",
       "    "
      ],
      "text/plain": [
       "<IPython.core.display.HTML object>"
      ]
     },
     "metadata": {},
     "output_type": "display_data"
    },
    {
     "data": {
      "text/html": [
       "\n",
       "        <div id=\"22xwYfhTr5PWnMfBVhdTM9\"></div>\n",
       "        <script>netpixi.call('22xwYfhTr5PWnMfBVhdTM9', 'TyBqTTn6xko23meQ9UDw3Y', 'setGraph', 'eyJ0eXBlIjogInZlcnRleCIsICJwcm9wcyI6IHsic3JjIjogImNsYXNzIiwgImRzdCI6ICJfa2V5In19Cg==');</script>\n",
       "    "
      ],
      "text/plain": [
       "<IPython.core.display.HTML object>"
      ]
     },
     "metadata": {},
     "output_type": "display_data"
    },
    {
     "data": {
      "text/html": [
       "\n",
       "        <div id=\"nxBH5CEXhwt3Efrh3v3NNc\"></div>\n",
       "        <script>netpixi.call('nxBH5CEXhwt3Efrh3v3NNc', 'TyBqTTn6xko23meQ9UDw3Y', 'changeGraph', 'eyJpZCI6ICIxNjMyIiwgInR5cGUiOiAidmVydGV4IiwgInByb3BzIjogeyJjb2xvciI6IDE2NzY2NzIwfX0K');</script>\n",
       "    "
      ],
      "text/plain": [
       "<IPython.core.display.HTML object>"
      ]
     },
     "metadata": {},
     "output_type": "display_data"
    },
    {
     "data": {
      "text/html": [
       "\n",
       "        <div id=\"Uz6ZygbGqawTRygJmXyqaL\"></div>\n",
       "        <script>netpixi.call('Uz6ZygbGqawTRygJmXyqaL', 'TyBqTTn6xko23meQ9UDw3Y', 'setGraph', 'eyJ0eXBlIjogInZlcnRleCIsICJwcm9wcyI6IHsic3JjIjogImNsYXNzIiwgImRzdCI6ICJfa2V5In19Cg==');</script>\n",
       "    "
      ],
      "text/plain": [
       "<IPython.core.display.HTML object>"
      ]
     },
     "metadata": {},
     "output_type": "display_data"
    },
    {
     "data": {
      "text/html": [
       "\n",
       "        <div id=\"SQLMgFUrP5XMq9Syf4NSob\"></div>\n",
       "        <script>netpixi.call('SQLMgFUrP5XMq9Syf4NSob', 'TyBqTTn6xko23meQ9UDw3Y', 'changeGraph', 'eyJpZCI6ICIxNDkyIiwgInR5cGUiOiAidmVydGV4IiwgInByb3BzIjogeyJjb2xvciI6IDE2NzY2NzIwfX0K');</script>\n",
       "    "
      ],
      "text/plain": [
       "<IPython.core.display.HTML object>"
      ]
     },
     "metadata": {},
     "output_type": "display_data"
    },
    {
     "data": {
      "text/html": [
       "\n",
       "        <div id=\"HaJe5JBci7Y7KMKDVBD2Fz\"></div>\n",
       "        <script>netpixi.call('HaJe5JBci7Y7KMKDVBD2Fz', 'TyBqTTn6xko23meQ9UDw3Y', 'setGraph', 'eyJ0eXBlIjogInZlcnRleCIsICJwcm9wcyI6IHsic3JjIjogImNsYXNzIiwgImRzdCI6ICJfa2V5In19Cg==');</script>\n",
       "    "
      ],
      "text/plain": [
       "<IPython.core.display.HTML object>"
      ]
     },
     "metadata": {},
     "output_type": "display_data"
    },
    {
     "data": {
      "text/html": [
       "\n",
       "        <div id=\"WZpW2TMGwQK4q4AbGFq9Dn\"></div>\n",
       "        <script>netpixi.call('WZpW2TMGwQK4q4AbGFq9Dn', 'TyBqTTn6xko23meQ9UDw3Y', 'changeGraph', 'eyJpZCI6ICIxNjAxIiwgInR5cGUiOiAidmVydGV4IiwgInByb3BzIjogeyJjb2xvciI6IDE2NzY2NzIwfX0K');</script>\n",
       "    "
      ],
      "text/plain": [
       "<IPython.core.display.HTML object>"
      ]
     },
     "metadata": {},
     "output_type": "display_data"
    },
    {
     "data": {
      "text/html": [
       "\n",
       "        <div id=\"8YKSV6LHfxv3KT4kWCVnSv\"></div>\n",
       "        <script>netpixi.call('8YKSV6LHfxv3KT4kWCVnSv', 'TyBqTTn6xko23meQ9UDw3Y', 'setGraph', 'eyJ0eXBlIjogInZlcnRleCIsICJwcm9wcyI6IHsic3JjIjogImNsYXNzIiwgImRzdCI6ICJfa2V5In19Cg==');</script>\n",
       "    "
      ],
      "text/plain": [
       "<IPython.core.display.HTML object>"
      ]
     },
     "metadata": {},
     "output_type": "display_data"
    },
    {
     "data": {
      "text/html": [
       "\n",
       "        <div id=\"8G5Nc4XdKz9jtc5LLFNh7h\"></div>\n",
       "        <script>netpixi.call('8G5Nc4XdKz9jtc5LLFNh7h', 'TyBqTTn6xko23meQ9UDw3Y', 'changeGraph', 'eyJpZCI6ICI2MjYiLCAidHlwZSI6ICJ2ZXJ0ZXgiLCAicHJvcHMiOiB7ImNvbG9yIjogNjUyODB9fQo=');</script>\n",
       "    "
      ],
      "text/plain": [
       "<IPython.core.display.HTML object>"
      ]
     },
     "metadata": {},
     "output_type": "display_data"
    },
    {
     "data": {
      "text/html": [
       "\n",
       "        <div id=\"TuL36CbUREcSdP88aqy7dM\"></div>\n",
       "        <script>netpixi.call('TuL36CbUREcSdP88aqy7dM', 'TyBqTTn6xko23meQ9UDw3Y', 'setGraph', 'eyJ0eXBlIjogInZlcnRleCIsICJwcm9wcyI6IHsic3JjIjogImNsYXNzIiwgImRzdCI6ICJfa2V5In19Cg==');</script>\n",
       "    "
      ],
      "text/plain": [
       "<IPython.core.display.HTML object>"
      ]
     },
     "metadata": {},
     "output_type": "display_data"
    },
    {
     "data": {
      "text/html": [
       "\n",
       "        <div id=\"eeokotSn8o28R5D7ceofaT\"></div>\n",
       "        <script>netpixi.call('eeokotSn8o28R5D7ceofaT', 'TyBqTTn6xko23meQ9UDw3Y', 'changeGraph', 'eyJpZCI6ICI2OTgiLCAidHlwZSI6ICJ2ZXJ0ZXgiLCAicHJvcHMiOiB7ImNvbG9yIjogNjUyODB9fQo=');</script>\n",
       "    "
      ],
      "text/plain": [
       "<IPython.core.display.HTML object>"
      ]
     },
     "metadata": {},
     "output_type": "display_data"
    },
    {
     "data": {
      "text/html": [
       "\n",
       "        <div id=\"HoWJn3aFETb7FDRfDDkFB8\"></div>\n",
       "        <script>netpixi.call('HoWJn3aFETb7FDRfDDkFB8', 'TyBqTTn6xko23meQ9UDw3Y', 'setGraph', 'eyJ0eXBlIjogInZlcnRleCIsICJwcm9wcyI6IHsic3JjIjogImNsYXNzIiwgImRzdCI6ICJfa2V5In19Cg==');</script>\n",
       "    "
      ],
      "text/plain": [
       "<IPython.core.display.HTML object>"
      ]
     },
     "metadata": {},
     "output_type": "display_data"
    },
    {
     "data": {
      "text/html": [
       "\n",
       "        <div id=\"4yPq63siJdMKQmVxsyNRWN\"></div>\n",
       "        <script>netpixi.call('4yPq63siJdMKQmVxsyNRWN', 'TyBqTTn6xko23meQ9UDw3Y', 'changeGraph', 'eyJpZCI6ICI2ODMiLCAidHlwZSI6ICJ2ZXJ0ZXgiLCAicHJvcHMiOiB7ImNvbG9yIjogNjUyODB9fQo=');</script>\n",
       "    "
      ],
      "text/plain": [
       "<IPython.core.display.HTML object>"
      ]
     },
     "metadata": {},
     "output_type": "display_data"
    },
    {
     "data": {
      "text/html": [
       "\n",
       "        <div id=\"JgU6DyKk7KNuZa7hzffSWY\"></div>\n",
       "        <script>netpixi.call('JgU6DyKk7KNuZa7hzffSWY', 'TyBqTTn6xko23meQ9UDw3Y', 'setGraph', 'eyJ0eXBlIjogInZlcnRleCIsICJwcm9wcyI6IHsic3JjIjogImNsYXNzIiwgImRzdCI6ICJfa2V5In19Cg==');</script>\n",
       "    "
      ],
      "text/plain": [
       "<IPython.core.display.HTML object>"
      ]
     },
     "metadata": {},
     "output_type": "display_data"
    },
    {
     "data": {
      "text/html": [
       "\n",
       "        <div id=\"LqubWDajhSYqKmL2ZZR9ZB\"></div>\n",
       "        <script>netpixi.call('LqubWDajhSYqKmL2ZZR9ZB', 'TyBqTTn6xko23meQ9UDw3Y', 'changeGraph', 'eyJpZCI6ICI2OTIiLCAidHlwZSI6ICJ2ZXJ0ZXgiLCAicHJvcHMiOiB7ImNvbG9yIjogNjUyODB9fQo=');</script>\n",
       "    "
      ],
      "text/plain": [
       "<IPython.core.display.HTML object>"
      ]
     },
     "metadata": {},
     "output_type": "display_data"
    },
    {
     "data": {
      "text/html": [
       "\n",
       "        <div id=\"T6FpFjoKMNmGsEL2wWL5Pw\"></div>\n",
       "        <script>netpixi.call('T6FpFjoKMNmGsEL2wWL5Pw', 'TyBqTTn6xko23meQ9UDw3Y', 'setGraph', 'eyJ0eXBlIjogInZlcnRleCIsICJwcm9wcyI6IHsic3JjIjogImNsYXNzIiwgImRzdCI6ICJfa2V5In19Cg==');</script>\n",
       "    "
      ],
      "text/plain": [
       "<IPython.core.display.HTML object>"
      ]
     },
     "metadata": {},
     "output_type": "display_data"
    },
    {
     "data": {
      "text/html": [
       "\n",
       "        <div id=\"3VZKjxhfHcZFCocYbZhCBG\"></div>\n",
       "        <script>netpixi.call('3VZKjxhfHcZFCocYbZhCBG', 'TyBqTTn6xko23meQ9UDw3Y', 'changeGraph', 'eyJpZCI6ICI2MTAiLCAidHlwZSI6ICJ2ZXJ0ZXgiLCAicHJvcHMiOiB7ImNvbG9yIjogNjUyODB9fQo=');</script>\n",
       "    "
      ],
      "text/plain": [
       "<IPython.core.display.HTML object>"
      ]
     },
     "metadata": {},
     "output_type": "display_data"
    },
    {
     "data": {
      "text/html": [
       "\n",
       "        <div id=\"fBBsnrpzAcC644o39oB995\"></div>\n",
       "        <script>netpixi.call('fBBsnrpzAcC644o39oB995', 'TyBqTTn6xko23meQ9UDw3Y', 'setGraph', 'eyJ0eXBlIjogInZlcnRleCIsICJwcm9wcyI6IHsic3JjIjogImNsYXNzIiwgImRzdCI6ICJfa2V5In19Cg==');</script>\n",
       "    "
      ],
      "text/plain": [
       "<IPython.core.display.HTML object>"
      ]
     },
     "metadata": {},
     "output_type": "display_data"
    },
    {
     "data": {
      "text/html": [
       "\n",
       "        <div id=\"DvdnNJUmSWhzGhx32QQKmy\"></div>\n",
       "        <script>netpixi.call('DvdnNJUmSWhzGhx32QQKmy', 'TyBqTTn6xko23meQ9UDw3Y', 'changeGraph', 'eyJpZCI6ICI2MzYiLCAidHlwZSI6ICJ2ZXJ0ZXgiLCAicHJvcHMiOiB7ImNvbG9yIjogNjUyODB9fQo=');</script>\n",
       "    "
      ],
      "text/plain": [
       "<IPython.core.display.HTML object>"
      ]
     },
     "metadata": {},
     "output_type": "display_data"
    },
    {
     "data": {
      "text/html": [
       "\n",
       "        <div id=\"fcoyJZZsA6vDoSCAgN85SU\"></div>\n",
       "        <script>netpixi.call('fcoyJZZsA6vDoSCAgN85SU', 'TyBqTTn6xko23meQ9UDw3Y', 'setGraph', 'eyJ0eXBlIjogInZlcnRleCIsICJwcm9wcyI6IHsic3JjIjogImNsYXNzIiwgImRzdCI6ICJfa2V5In19Cg==');</script>\n",
       "    "
      ],
      "text/plain": [
       "<IPython.core.display.HTML object>"
      ]
     },
     "metadata": {},
     "output_type": "display_data"
    },
    {
     "data": {
      "text/html": [
       "\n",
       "        <div id=\"at7RRDKHs9GVaRvZpKkmMp\"></div>\n",
       "        <script>netpixi.call('at7RRDKHs9GVaRvZpKkmMp', 'TyBqTTn6xko23meQ9UDw3Y', 'changeGraph', 'eyJpZCI6ICI2NDMiLCAidHlwZSI6ICJ2ZXJ0ZXgiLCAicHJvcHMiOiB7ImNvbG9yIjogNjUyODB9fQo=');</script>\n",
       "    "
      ],
      "text/plain": [
       "<IPython.core.display.HTML object>"
      ]
     },
     "metadata": {},
     "output_type": "display_data"
    },
    {
     "data": {
      "text/html": [
       "\n",
       "        <div id=\"YceaybfVmzHN8YRvyHjJKM\"></div>\n",
       "        <script>netpixi.call('YceaybfVmzHN8YRvyHjJKM', 'TyBqTTn6xko23meQ9UDw3Y', 'setGraph', 'eyJ0eXBlIjogInZlcnRleCIsICJwcm9wcyI6IHsic3JjIjogImNsYXNzIiwgImRzdCI6ICJfa2V5In19Cg==');</script>\n",
       "    "
      ],
      "text/plain": [
       "<IPython.core.display.HTML object>"
      ]
     },
     "metadata": {},
     "output_type": "display_data"
    },
    {
     "data": {
      "text/html": [
       "\n",
       "        <div id=\"kskz76MDrjPq7YvSuw7Qqp\"></div>\n",
       "        <script>netpixi.call('kskz76MDrjPq7YvSuw7Qqp', 'TyBqTTn6xko23meQ9UDw3Y', 'changeGraph', 'eyJpZCI6ICI2NTQiLCAidHlwZSI6ICJ2ZXJ0ZXgiLCAicHJvcHMiOiB7ImNvbG9yIjogNjUyODB9fQo=');</script>\n",
       "    "
      ],
      "text/plain": [
       "<IPython.core.display.HTML object>"
      ]
     },
     "metadata": {},
     "output_type": "display_data"
    },
    {
     "data": {
      "text/html": [
       "\n",
       "        <div id=\"PyrXswqSmLxMiA3vqUZmoJ\"></div>\n",
       "        <script>netpixi.call('PyrXswqSmLxMiA3vqUZmoJ', 'TyBqTTn6xko23meQ9UDw3Y', 'setGraph', 'eyJ0eXBlIjogInZlcnRleCIsICJwcm9wcyI6IHsic3JjIjogImNsYXNzIiwgImRzdCI6ICJfa2V5In19Cg==');</script>\n",
       "    "
      ],
      "text/plain": [
       "<IPython.core.display.HTML object>"
      ]
     },
     "metadata": {},
     "output_type": "display_data"
    },
    {
     "data": {
      "text/html": [
       "\n",
       "        <div id=\"LyCzEn4HfekpdUfEDZszff\"></div>\n",
       "        <script>netpixi.call('LyCzEn4HfekpdUfEDZszff', 'TyBqTTn6xko23meQ9UDw3Y', 'changeGraph', 'eyJpZCI6ICI2OTQiLCAidHlwZSI6ICJ2ZXJ0ZXgiLCAicHJvcHMiOiB7ImNvbG9yIjogNjUyODB9fQo=');</script>\n",
       "    "
      ],
      "text/plain": [
       "<IPython.core.display.HTML object>"
      ]
     },
     "metadata": {},
     "output_type": "display_data"
    },
    {
     "data": {
      "text/html": [
       "\n",
       "        <div id=\"VqKNzLeexkw4hhcHHnWLBh\"></div>\n",
       "        <script>netpixi.call('VqKNzLeexkw4hhcHHnWLBh', 'TyBqTTn6xko23meQ9UDw3Y', 'setGraph', 'eyJ0eXBlIjogInZlcnRleCIsICJwcm9wcyI6IHsic3JjIjogImNsYXNzIiwgImRzdCI6ICJfa2V5In19Cg==');</script>\n",
       "    "
      ],
      "text/plain": [
       "<IPython.core.display.HTML object>"
      ]
     },
     "metadata": {},
     "output_type": "display_data"
    },
    {
     "data": {
      "text/html": [
       "\n",
       "        <div id=\"eFEw9ohZKdS3LAhqAhtbVP\"></div>\n",
       "        <script>netpixi.call('eFEw9ohZKdS3LAhqAhtbVP', 'TyBqTTn6xko23meQ9UDw3Y', 'changeGraph', 'eyJpZCI6ICI2MjMiLCAidHlwZSI6ICJ2ZXJ0ZXgiLCAicHJvcHMiOiB7ImNvbG9yIjogNjUyODB9fQo=');</script>\n",
       "    "
      ],
      "text/plain": [
       "<IPython.core.display.HTML object>"
      ]
     },
     "metadata": {},
     "output_type": "display_data"
    },
    {
     "data": {
      "text/html": [
       "\n",
       "        <div id=\"nyGwMs8u65E3PDxrBu8Vt6\"></div>\n",
       "        <script>netpixi.call('nyGwMs8u65E3PDxrBu8Vt6', 'TyBqTTn6xko23meQ9UDw3Y', 'setGraph', 'eyJ0eXBlIjogInZlcnRleCIsICJwcm9wcyI6IHsic3JjIjogImNsYXNzIiwgImRzdCI6ICJfa2V5In19Cg==');</script>\n",
       "    "
      ],
      "text/plain": [
       "<IPython.core.display.HTML object>"
      ]
     },
     "metadata": {},
     "output_type": "display_data"
    },
    {
     "data": {
      "text/html": [
       "\n",
       "        <div id=\"4kP2CzuMV94M7RXSTBzd69\"></div>\n",
       "        <script>netpixi.call('4kP2CzuMV94M7RXSTBzd69', 'TyBqTTn6xko23meQ9UDw3Y', 'changeGraph', 'eyJpZCI6ICI2NTIiLCAidHlwZSI6ICJ2ZXJ0ZXgiLCAicHJvcHMiOiB7ImNvbG9yIjogNjUyODB9fQo=');</script>\n",
       "    "
      ],
      "text/plain": [
       "<IPython.core.display.HTML object>"
      ]
     },
     "metadata": {},
     "output_type": "display_data"
    },
    {
     "data": {
      "text/html": [
       "\n",
       "        <div id=\"cYudeyQ37j6yoKqLTEY3fe\"></div>\n",
       "        <script>netpixi.call('cYudeyQ37j6yoKqLTEY3fe', 'TyBqTTn6xko23meQ9UDw3Y', 'setGraph', 'eyJ0eXBlIjogInZlcnRleCIsICJwcm9wcyI6IHsic3JjIjogImNsYXNzIiwgImRzdCI6ICJfa2V5In19Cg==');</script>\n",
       "    "
      ],
      "text/plain": [
       "<IPython.core.display.HTML object>"
      ]
     },
     "metadata": {},
     "output_type": "display_data"
    },
    {
     "data": {
      "text/html": [
       "\n",
       "        <div id=\"mNaMMrkzePAoYvPWFahXEc\"></div>\n",
       "        <script>netpixi.call('mNaMMrkzePAoYvPWFahXEc', 'TyBqTTn6xko23meQ9UDw3Y', 'changeGraph', 'eyJpZCI6ICI2NjEiLCAidHlwZSI6ICJ2ZXJ0ZXgiLCAicHJvcHMiOiB7ImNvbG9yIjogNjUyODB9fQo=');</script>\n",
       "    "
      ],
      "text/plain": [
       "<IPython.core.display.HTML object>"
      ]
     },
     "metadata": {},
     "output_type": "display_data"
    },
    {
     "data": {
      "text/html": [
       "\n",
       "        <div id=\"WoTs74hDwPLZoiz8GPQmL4\"></div>\n",
       "        <script>netpixi.call('WoTs74hDwPLZoiz8GPQmL4', 'TyBqTTn6xko23meQ9UDw3Y', 'setGraph', 'eyJ0eXBlIjogInZlcnRleCIsICJwcm9wcyI6IHsic3JjIjogImNsYXNzIiwgImRzdCI6ICJfa2V5In19Cg==');</script>\n",
       "    "
      ],
      "text/plain": [
       "<IPython.core.display.HTML object>"
      ]
     },
     "metadata": {},
     "output_type": "display_data"
    },
    {
     "data": {
      "text/html": [
       "\n",
       "        <div id=\"4E43nmRoAkfuYW9YfGMKLX\"></div>\n",
       "        <script>netpixi.call('4E43nmRoAkfuYW9YfGMKLX', 'TyBqTTn6xko23meQ9UDw3Y', 'changeGraph', 'eyJpZCI6ICI2MTYiLCAidHlwZSI6ICJ2ZXJ0ZXgiLCAicHJvcHMiOiB7ImNvbG9yIjogNjUyODB9fQo=');</script>\n",
       "    "
      ],
      "text/plain": [
       "<IPython.core.display.HTML object>"
      ]
     },
     "metadata": {},
     "output_type": "display_data"
    },
    {
     "data": {
      "text/html": [
       "\n",
       "        <div id=\"S5BHv2tVZHPCx85jLSAvVG\"></div>\n",
       "        <script>netpixi.call('S5BHv2tVZHPCx85jLSAvVG', 'TyBqTTn6xko23meQ9UDw3Y', 'setGraph', 'eyJ0eXBlIjogInZlcnRleCIsICJwcm9wcyI6IHsic3JjIjogImNsYXNzIiwgImRzdCI6ICJfa2V5In19Cg==');</script>\n",
       "    "
      ],
      "text/plain": [
       "<IPython.core.display.HTML object>"
      ]
     },
     "metadata": {},
     "output_type": "display_data"
    },
    {
     "data": {
      "text/html": [
       "\n",
       "        <div id=\"MPdxcAbQjmJbayFoJLN8z9\"></div>\n",
       "        <script>netpixi.call('MPdxcAbQjmJbayFoJLN8z9', 'TyBqTTn6xko23meQ9UDw3Y', 'changeGraph', 'eyJpZCI6ICI2MTMiLCAidHlwZSI6ICJ2ZXJ0ZXgiLCAicHJvcHMiOiB7ImNvbG9yIjogNjUyODB9fQo=');</script>\n",
       "    "
      ],
      "text/plain": [
       "<IPython.core.display.HTML object>"
      ]
     },
     "metadata": {},
     "output_type": "display_data"
    },
    {
     "data": {
      "text/html": [
       "\n",
       "        <div id=\"HoiP3NTndvToMGbqTxyiyB\"></div>\n",
       "        <script>netpixi.call('HoiP3NTndvToMGbqTxyiyB', 'TyBqTTn6xko23meQ9UDw3Y', 'setGraph', 'eyJ0eXBlIjogInZlcnRleCIsICJwcm9wcyI6IHsic3JjIjogImNsYXNzIiwgImRzdCI6ICJfa2V5In19Cg==');</script>\n",
       "    "
      ],
      "text/plain": [
       "<IPython.core.display.HTML object>"
      ]
     },
     "metadata": {},
     "output_type": "display_data"
    },
    {
     "data": {
      "text/html": [
       "\n",
       "        <div id=\"ne2fYVEmFpF8vHUgmw7dSb\"></div>\n",
       "        <script>netpixi.call('ne2fYVEmFpF8vHUgmw7dSb', 'TyBqTTn6xko23meQ9UDw3Y', 'changeGraph', 'eyJpZCI6ICI2NTgiLCAidHlwZSI6ICJ2ZXJ0ZXgiLCAicHJvcHMiOiB7ImNvbG9yIjogNjUyODB9fQo=');</script>\n",
       "    "
      ],
      "text/plain": [
       "<IPython.core.display.HTML object>"
      ]
     },
     "metadata": {},
     "output_type": "display_data"
    },
    {
     "data": {
      "text/html": [
       "\n",
       "        <div id=\"XjsnBwoxfPKfB5cucjrvLT\"></div>\n",
       "        <script>netpixi.call('XjsnBwoxfPKfB5cucjrvLT', 'TyBqTTn6xko23meQ9UDw3Y', 'setGraph', 'eyJ0eXBlIjogInZlcnRleCIsICJwcm9wcyI6IHsic3JjIjogImNsYXNzIiwgImRzdCI6ICJfa2V5In19Cg==');</script>\n",
       "    "
      ],
      "text/plain": [
       "<IPython.core.display.HTML object>"
      ]
     },
     "metadata": {},
     "output_type": "display_data"
    },
    {
     "data": {
      "text/html": [
       "\n",
       "        <div id=\"MRpXv3ZCcTdHEqxAiezf6B\"></div>\n",
       "        <script>netpixi.call('MRpXv3ZCcTdHEqxAiezf6B', 'TyBqTTn6xko23meQ9UDw3Y', 'changeGraph', 'eyJpZCI6ICI2NTEiLCAidHlwZSI6ICJ2ZXJ0ZXgiLCAicHJvcHMiOiB7ImNvbG9yIjogNjUyODB9fQo=');</script>\n",
       "    "
      ],
      "text/plain": [
       "<IPython.core.display.HTML object>"
      ]
     },
     "metadata": {},
     "output_type": "display_data"
    },
    {
     "data": {
      "text/html": [
       "\n",
       "        <div id=\"evsA94dYoNTw4etSSgethX\"></div>\n",
       "        <script>netpixi.call('evsA94dYoNTw4etSSgethX', 'TyBqTTn6xko23meQ9UDw3Y', 'setGraph', 'eyJ0eXBlIjogInZlcnRleCIsICJwcm9wcyI6IHsic3JjIjogImNsYXNzIiwgImRzdCI6ICJfa2V5In19Cg==');</script>\n",
       "    "
      ],
      "text/plain": [
       "<IPython.core.display.HTML object>"
      ]
     },
     "metadata": {},
     "output_type": "display_data"
    },
    {
     "data": {
      "text/html": [
       "\n",
       "        <div id=\"bwv3txdMzmCsMqAfXXx8dA\"></div>\n",
       "        <script>netpixi.call('bwv3txdMzmCsMqAfXXx8dA', 'TyBqTTn6xko23meQ9UDw3Y', 'changeGraph', 'eyJpZCI6ICIxNjI5IiwgInR5cGUiOiAidmVydGV4IiwgInByb3BzIjogeyJjb2xvciI6IDE2NzY2NzIwfX0K');</script>\n",
       "    "
      ],
      "text/plain": [
       "<IPython.core.display.HTML object>"
      ]
     },
     "metadata": {},
     "output_type": "display_data"
    },
    {
     "data": {
      "text/html": [
       "\n",
       "        <div id=\"366nW2XGwAS46Ceknv2puC\"></div>\n",
       "        <script>netpixi.call('366nW2XGwAS46Ceknv2puC', 'TyBqTTn6xko23meQ9UDw3Y', 'setGraph', 'eyJ0eXBlIjogInZlcnRleCIsICJwcm9wcyI6IHsic3JjIjogImNsYXNzIiwgImRzdCI6ICJfa2V5In19Cg==');</script>\n",
       "    "
      ],
      "text/plain": [
       "<IPython.core.display.HTML object>"
      ]
     },
     "metadata": {},
     "output_type": "display_data"
    },
    {
     "data": {
      "text/html": [
       "\n",
       "        <div id=\"6bVQmRtWuGb3ZQwWN6bD96\"></div>\n",
       "        <script>netpixi.call('6bVQmRtWuGb3ZQwWN6bD96', 'TyBqTTn6xko23meQ9UDw3Y', 'changeGraph', 'eyJpZCI6ICIxMTY0IiwgInR5cGUiOiAidmVydGV4IiwgInByb3BzIjogeyJjb2xvciI6IDE2NzY2NzIwfX0K');</script>\n",
       "    "
      ],
      "text/plain": [
       "<IPython.core.display.HTML object>"
      ]
     },
     "metadata": {},
     "output_type": "display_data"
    },
    {
     "data": {
      "text/html": [
       "\n",
       "        <div id=\"LyQqqCGW4b7eqrCe3aqPF9\"></div>\n",
       "        <script>netpixi.call('LyQqqCGW4b7eqrCe3aqPF9', 'TyBqTTn6xko23meQ9UDw3Y', 'setGraph', 'eyJ0eXBlIjogInZlcnRleCIsICJwcm9wcyI6IHsic3JjIjogImNsYXNzIiwgImRzdCI6ICJfa2V5In19Cg==');</script>\n",
       "    "
      ],
      "text/plain": [
       "<IPython.core.display.HTML object>"
      ]
     },
     "metadata": {},
     "output_type": "display_data"
    },
    {
     "data": {
      "text/html": [
       "\n",
       "        <div id=\"S3bWueTAJsMcLo7JhAjQR2\"></div>\n",
       "        <script>netpixi.call('S3bWueTAJsMcLo7JhAjQR2', 'TyBqTTn6xko23meQ9UDw3Y', 'changeGraph', 'eyJpZCI6ICIxNjU3IiwgInR5cGUiOiAidmVydGV4IiwgInByb3BzIjogeyJjb2xvciI6IDE2NzY2NzIwfX0K');</script>\n",
       "    "
      ],
      "text/plain": [
       "<IPython.core.display.HTML object>"
      ]
     },
     "metadata": {},
     "output_type": "display_data"
    },
    {
     "data": {
      "text/html": [
       "\n",
       "        <div id=\"65Dmm5RtkREZ5cDUkKoLUn\"></div>\n",
       "        <script>netpixi.call('65Dmm5RtkREZ5cDUkKoLUn', 'TyBqTTn6xko23meQ9UDw3Y', 'setGraph', 'eyJ0eXBlIjogInZlcnRleCIsICJwcm9wcyI6IHsic3JjIjogImNsYXNzIiwgImRzdCI6ICJfa2V5In19Cg==');</script>\n",
       "    "
      ],
      "text/plain": [
       "<IPython.core.display.HTML object>"
      ]
     },
     "metadata": {},
     "output_type": "display_data"
    },
    {
     "data": {
      "text/html": [
       "\n",
       "        <div id=\"kpei9DjRGzUbDMyK79eT6r\"></div>\n",
       "        <script>netpixi.call('kpei9DjRGzUbDMyK79eT6r', 'TyBqTTn6xko23meQ9UDw3Y', 'changeGraph', 'eyJpZCI6ICIxNjIyIiwgInR5cGUiOiAidmVydGV4IiwgInByb3BzIjogeyJjb2xvciI6IDE2NzY2NzIwfX0K');</script>\n",
       "    "
      ],
      "text/plain": [
       "<IPython.core.display.HTML object>"
      ]
     },
     "metadata": {},
     "output_type": "display_data"
    },
    {
     "data": {
      "text/html": [
       "\n",
       "        <div id=\"ZdJphh586TDnaRMj5nhPRj\"></div>\n",
       "        <script>netpixi.call('ZdJphh586TDnaRMj5nhPRj', 'TyBqTTn6xko23meQ9UDw3Y', 'setGraph', 'eyJ0eXBlIjogInZlcnRleCIsICJwcm9wcyI6IHsic3JjIjogImNsYXNzIiwgImRzdCI6ICJfa2V5In19Cg==');</script>\n",
       "    "
      ],
      "text/plain": [
       "<IPython.core.display.HTML object>"
      ]
     },
     "metadata": {},
     "output_type": "display_data"
    },
    {
     "data": {
      "text/html": [
       "\n",
       "        <div id=\"AiPKUQ3nBhpJfczTjij8jS\"></div>\n",
       "        <script>netpixi.call('AiPKUQ3nBhpJfczTjij8jS', 'TyBqTTn6xko23meQ9UDw3Y', 'changeGraph', 'eyJpZCI6ICIxNjU4IiwgInR5cGUiOiAidmVydGV4IiwgInByb3BzIjogeyJjb2xvciI6IDE2NzY2NzIwfX0K');</script>\n",
       "    "
      ],
      "text/plain": [
       "<IPython.core.display.HTML object>"
      ]
     },
     "metadata": {},
     "output_type": "display_data"
    },
    {
     "data": {
      "text/html": [
       "\n",
       "        <div id=\"fikDvUVhNcazXxYb84WL2J\"></div>\n",
       "        <script>netpixi.call('fikDvUVhNcazXxYb84WL2J', 'TyBqTTn6xko23meQ9UDw3Y', 'setGraph', 'eyJ0eXBlIjogInZlcnRleCIsICJwcm9wcyI6IHsic3JjIjogImNsYXNzIiwgImRzdCI6ICJfa2V5In19Cg==');</script>\n",
       "    "
      ],
      "text/plain": [
       "<IPython.core.display.HTML object>"
      ]
     },
     "metadata": {},
     "output_type": "display_data"
    },
    {
     "data": {
      "text/html": [
       "\n",
       "        <div id=\"gkDbQqQREXuP8EXPwy5t6c\"></div>\n",
       "        <script>netpixi.call('gkDbQqQREXuP8EXPwy5t6c', 'TyBqTTn6xko23meQ9UDw3Y', 'changeGraph', 'eyJpZCI6ICIxNjc5IiwgInR5cGUiOiAidmVydGV4IiwgInByb3BzIjogeyJjb2xvciI6IDE2NzY2NzIwfX0K');</script>\n",
       "    "
      ],
      "text/plain": [
       "<IPython.core.display.HTML object>"
      ]
     },
     "metadata": {},
     "output_type": "display_data"
    },
    {
     "data": {
      "text/html": [
       "\n",
       "        <div id=\"exLEqU3opGtj6iMPFAuQCS\"></div>\n",
       "        <script>netpixi.call('exLEqU3opGtj6iMPFAuQCS', 'TyBqTTn6xko23meQ9UDw3Y', 'setGraph', 'eyJ0eXBlIjogInZlcnRleCIsICJwcm9wcyI6IHsic3JjIjogImNsYXNzIiwgImRzdCI6ICJfa2V5In19Cg==');</script>\n",
       "    "
      ],
      "text/plain": [
       "<IPython.core.display.HTML object>"
      ]
     },
     "metadata": {},
     "output_type": "display_data"
    },
    {
     "data": {
      "text/html": [
       "\n",
       "        <div id=\"3QyAAkJxGy8Ek5LWtTtHAm\"></div>\n",
       "        <script>netpixi.call('3QyAAkJxGy8Ek5LWtTtHAm', 'TyBqTTn6xko23meQ9UDw3Y', 'changeGraph', 'eyJpZCI6ICIxNjc0IiwgInR5cGUiOiAidmVydGV4IiwgInByb3BzIjogeyJjb2xvciI6IDE2NzY2NzIwfX0K');</script>\n",
       "    "
      ],
      "text/plain": [
       "<IPython.core.display.HTML object>"
      ]
     },
     "metadata": {},
     "output_type": "display_data"
    },
    {
     "data": {
      "text/html": [
       "\n",
       "        <div id=\"2gFhShvRwkeKwwsCvsy9pF\"></div>\n",
       "        <script>netpixi.call('2gFhShvRwkeKwwsCvsy9pF', 'TyBqTTn6xko23meQ9UDw3Y', 'setGraph', 'eyJ0eXBlIjogInZlcnRleCIsICJwcm9wcyI6IHsic3JjIjogImNsYXNzIiwgImRzdCI6ICJfa2V5In19Cg==');</script>\n",
       "    "
      ],
      "text/plain": [
       "<IPython.core.display.HTML object>"
      ]
     },
     "metadata": {},
     "output_type": "display_data"
    },
    {
     "data": {
      "text/html": [
       "\n",
       "        <div id=\"TVwSELEgQtm5BH94RHnk8B\"></div>\n",
       "        <script>netpixi.call('TVwSELEgQtm5BH94RHnk8B', 'TyBqTTn6xko23meQ9UDw3Y', 'changeGraph', 'eyJpZCI6ICI2MDkiLCAidHlwZSI6ICJ2ZXJ0ZXgiLCAicHJvcHMiOiB7ImNvbG9yIjogNjUyODB9fQo=');</script>\n",
       "    "
      ],
      "text/plain": [
       "<IPython.core.display.HTML object>"
      ]
     },
     "metadata": {},
     "output_type": "display_data"
    },
    {
     "data": {
      "text/html": [
       "\n",
       "        <div id=\"GRG38kjWqdD8ck8k62wVUN\"></div>\n",
       "        <script>netpixi.call('GRG38kjWqdD8ck8k62wVUN', 'TyBqTTn6xko23meQ9UDw3Y', 'setGraph', 'eyJ0eXBlIjogInZlcnRleCIsICJwcm9wcyI6IHsic3JjIjogImNsYXNzIiwgImRzdCI6ICJfa2V5In19Cg==');</script>\n",
       "    "
      ],
      "text/plain": [
       "<IPython.core.display.HTML object>"
      ]
     },
     "metadata": {},
     "output_type": "display_data"
    },
    {
     "data": {
      "text/html": [
       "\n",
       "        <div id=\"U5wjNpR6egtaWkpfmGtweP\"></div>\n",
       "        <script>netpixi.call('U5wjNpR6egtaWkpfmGtweP', 'TyBqTTn6xko23meQ9UDw3Y', 'changeGraph', 'eyJpZCI6ICI2OTAiLCAidHlwZSI6ICJ2ZXJ0ZXgiLCAicHJvcHMiOiB7ImNvbG9yIjogNjUyODB9fQo=');</script>\n",
       "    "
      ],
      "text/plain": [
       "<IPython.core.display.HTML object>"
      ]
     },
     "metadata": {},
     "output_type": "display_data"
    },
    {
     "data": {
      "text/html": [
       "\n",
       "        <div id=\"DGw59SkgPmsG5ydjuZkaYd\"></div>\n",
       "        <script>netpixi.call('DGw59SkgPmsG5ydjuZkaYd', 'TyBqTTn6xko23meQ9UDw3Y', 'setGraph', 'eyJ0eXBlIjogInZlcnRleCIsICJwcm9wcyI6IHsic3JjIjogImNsYXNzIiwgImRzdCI6ICJfa2V5In19Cg==');</script>\n",
       "    "
      ],
      "text/plain": [
       "<IPython.core.display.HTML object>"
      ]
     },
     "metadata": {},
     "output_type": "display_data"
    },
    {
     "data": {
      "text/html": [
       "\n",
       "        <div id=\"Uu4hFqosWMpWVGzg9DzBE4\"></div>\n",
       "        <script>netpixi.call('Uu4hFqosWMpWVGzg9DzBE4', 'TyBqTTn6xko23meQ9UDw3Y', 'changeGraph', 'eyJpZCI6ICI2MDAiLCAidHlwZSI6ICJ2ZXJ0ZXgiLCAicHJvcHMiOiB7ImNvbG9yIjogNjUyODB9fQo=');</script>\n",
       "    "
      ],
      "text/plain": [
       "<IPython.core.display.HTML object>"
      ]
     },
     "metadata": {},
     "output_type": "display_data"
    },
    {
     "data": {
      "text/html": [
       "\n",
       "        <div id=\"DcLmWwNSytfgydyMevNayr\"></div>\n",
       "        <script>netpixi.call('DcLmWwNSytfgydyMevNayr', 'TyBqTTn6xko23meQ9UDw3Y', 'setGraph', 'eyJ0eXBlIjogInZlcnRleCIsICJwcm9wcyI6IHsic3JjIjogImNsYXNzIiwgImRzdCI6ICJfa2V5In19Cg==');</script>\n",
       "    "
      ],
      "text/plain": [
       "<IPython.core.display.HTML object>"
      ]
     },
     "metadata": {},
     "output_type": "display_data"
    },
    {
     "data": {
      "text/html": [
       "\n",
       "        <div id=\"YXqgG3b7wBHUJ7uRWweahA\"></div>\n",
       "        <script>netpixi.call('YXqgG3b7wBHUJ7uRWweahA', 'TyBqTTn6xko23meQ9UDw3Y', 'changeGraph', 'eyJpZCI6ICIxNjQ5IiwgInR5cGUiOiAidmVydGV4IiwgInByb3BzIjogeyJjb2xvciI6IDE2NzY2NzIwfX0K');</script>\n",
       "    "
      ],
      "text/plain": [
       "<IPython.core.display.HTML object>"
      ]
     },
     "metadata": {},
     "output_type": "display_data"
    },
    {
     "data": {
      "text/html": [
       "\n",
       "        <div id=\"RrxNZgvDXkTuDwhPC9bVua\"></div>\n",
       "        <script>netpixi.call('RrxNZgvDXkTuDwhPC9bVua', 'TyBqTTn6xko23meQ9UDw3Y', 'setGraph', 'eyJ0eXBlIjogInZlcnRleCIsICJwcm9wcyI6IHsic3JjIjogImNsYXNzIiwgImRzdCI6ICJfa2V5In19Cg==');</script>\n",
       "    "
      ],
      "text/plain": [
       "<IPython.core.display.HTML object>"
      ]
     },
     "metadata": {},
     "output_type": "display_data"
    },
    {
     "data": {
      "text/html": [
       "\n",
       "        <div id=\"HdC4pXnwe27Cj7CG2b8q4m\"></div>\n",
       "        <script>netpixi.call('HdC4pXnwe27Cj7CG2b8q4m', 'TyBqTTn6xko23meQ9UDw3Y', 'changeGraph', 'eyJpZCI6ICI4NTEiLCAidHlwZSI6ICJ2ZXJ0ZXgiLCAicHJvcHMiOiB7ImNvbG9yIjogMTUxMTA0NTZ9fQo=');</script>\n",
       "    "
      ],
      "text/plain": [
       "<IPython.core.display.HTML object>"
      ]
     },
     "metadata": {},
     "output_type": "display_data"
    },
    {
     "data": {
      "text/html": [
       "\n",
       "        <div id=\"3TdzozG6do5MC6RmdAynS2\"></div>\n",
       "        <script>netpixi.call('3TdzozG6do5MC6RmdAynS2', 'TyBqTTn6xko23meQ9UDw3Y', 'setGraph', 'eyJ0eXBlIjogInZlcnRleCIsICJwcm9wcyI6IHsic3JjIjogImNsYXNzIiwgImRzdCI6ICJfa2V5In19Cg==');</script>\n",
       "    "
      ],
      "text/plain": [
       "<IPython.core.display.HTML object>"
      ]
     },
     "metadata": {},
     "output_type": "display_data"
    },
    {
     "data": {
      "text/html": [
       "\n",
       "        <div id=\"DoJRDUaSLPA6fvkc7i66QE\"></div>\n",
       "        <script>netpixi.call('DoJRDUaSLPA6fvkc7i66QE', 'TyBqTTn6xko23meQ9UDw3Y', 'changeGraph', 'eyJpZCI6ICI4NTUiLCAidHlwZSI6ICJ2ZXJ0ZXgiLCAicHJvcHMiOiB7ImNvbG9yIjogMTUxMTA0NTZ9fQo=');</script>\n",
       "    "
      ],
      "text/plain": [
       "<IPython.core.display.HTML object>"
      ]
     },
     "metadata": {},
     "output_type": "display_data"
    },
    {
     "data": {
      "text/html": [
       "\n",
       "        <div id=\"FGD33xZ6Evwwyo9L6WrqNV\"></div>\n",
       "        <script>netpixi.call('FGD33xZ6Evwwyo9L6WrqNV', 'TyBqTTn6xko23meQ9UDw3Y', 'setGraph', 'eyJ0eXBlIjogInZlcnRleCIsICJwcm9wcyI6IHsic3JjIjogImNsYXNzIiwgImRzdCI6ICJfa2V5In19Cg==');</script>\n",
       "    "
      ],
      "text/plain": [
       "<IPython.core.display.HTML object>"
      ]
     },
     "metadata": {},
     "output_type": "display_data"
    },
    {
     "data": {
      "text/html": [
       "\n",
       "        <div id=\"9QgPXdsomkArPue27Hzi7z\"></div>\n",
       "        <script>netpixi.call('9QgPXdsomkArPue27Hzi7z', 'TyBqTTn6xko23meQ9UDw3Y', 'changeGraph', 'eyJpZCI6ICI4NDEiLCAidHlwZSI6ICJ2ZXJ0ZXgiLCAicHJvcHMiOiB7ImNvbG9yIjogMTUxMTA0NTZ9fQo=');</script>\n",
       "    "
      ],
      "text/plain": [
       "<IPython.core.display.HTML object>"
      ]
     },
     "metadata": {},
     "output_type": "display_data"
    },
    {
     "data": {
      "text/html": [
       "\n",
       "        <div id=\"3pmrnN6xPdg2qMc4ioVEDW\"></div>\n",
       "        <script>netpixi.call('3pmrnN6xPdg2qMc4ioVEDW', 'TyBqTTn6xko23meQ9UDw3Y', 'setGraph', 'eyJ0eXBlIjogInZlcnRleCIsICJwcm9wcyI6IHsic3JjIjogImNsYXNzIiwgImRzdCI6ICJfa2V5In19Cg==');</script>\n",
       "    "
      ],
      "text/plain": [
       "<IPython.core.display.HTML object>"
      ]
     },
     "metadata": {},
     "output_type": "display_data"
    },
    {
     "data": {
      "text/html": [
       "\n",
       "        <div id=\"TuSi8XLMQn2vnXwHBSU4RY\"></div>\n",
       "        <script>netpixi.call('TuSi8XLMQn2vnXwHBSU4RY', 'TyBqTTn6xko23meQ9UDw3Y', 'changeGraph', 'eyJpZCI6ICI4NDgiLCAidHlwZSI6ICJ2ZXJ0ZXgiLCAicHJvcHMiOiB7ImNvbG9yIjogMTUxMTA0NTZ9fQo=');</script>\n",
       "    "
      ],
      "text/plain": [
       "<IPython.core.display.HTML object>"
      ]
     },
     "metadata": {},
     "output_type": "display_data"
    },
    {
     "data": {
      "text/html": [
       "\n",
       "        <div id=\"7Xk4ntnqnsJCCVKLQXUCbB\"></div>\n",
       "        <script>netpixi.call('7Xk4ntnqnsJCCVKLQXUCbB', 'TyBqTTn6xko23meQ9UDw3Y', 'setGraph', 'eyJ0eXBlIjogInZlcnRleCIsICJwcm9wcyI6IHsic3JjIjogImNsYXNzIiwgImRzdCI6ICJfa2V5In19Cg==');</script>\n",
       "    "
      ],
      "text/plain": [
       "<IPython.core.display.HTML object>"
      ]
     },
     "metadata": {},
     "output_type": "display_data"
    },
    {
     "data": {
      "text/html": [
       "\n",
       "        <div id=\"GaVQjg2eaARxhkq8jLQjEv\"></div>\n",
       "        <script>netpixi.call('GaVQjg2eaARxhkq8jLQjEv', 'TyBqTTn6xko23meQ9UDw3Y', 'changeGraph', 'eyJpZCI6ICI4NTYiLCAidHlwZSI6ICJ2ZXJ0ZXgiLCAicHJvcHMiOiB7ImNvbG9yIjogMTUxMTA0NTZ9fQo=');</script>\n",
       "    "
      ],
      "text/plain": [
       "<IPython.core.display.HTML object>"
      ]
     },
     "metadata": {},
     "output_type": "display_data"
    },
    {
     "data": {
      "text/html": [
       "\n",
       "        <div id=\"6xak4FSnsYUU8sniySUbsQ\"></div>\n",
       "        <script>netpixi.call('6xak4FSnsYUU8sniySUbsQ', 'TyBqTTn6xko23meQ9UDw3Y', 'setGraph', 'eyJ0eXBlIjogInZlcnRleCIsICJwcm9wcyI6IHsic3JjIjogImNsYXNzIiwgImRzdCI6ICJfa2V5In19Cg==');</script>\n",
       "    "
      ],
      "text/plain": [
       "<IPython.core.display.HTML object>"
      ]
     },
     "metadata": {},
     "output_type": "display_data"
    },
    {
     "data": {
      "text/html": [
       "\n",
       "        <div id=\"BcjM5zbedYq2BWpzXANaue\"></div>\n",
       "        <script>netpixi.call('BcjM5zbedYq2BWpzXANaue', 'TyBqTTn6xko23meQ9UDw3Y', 'changeGraph', 'eyJpZCI6ICI4NjciLCAidHlwZSI6ICJ2ZXJ0ZXgiLCAicHJvcHMiOiB7ImNvbG9yIjogMTUxMTA0NTZ9fQo=');</script>\n",
       "    "
      ],
      "text/plain": [
       "<IPython.core.display.HTML object>"
      ]
     },
     "metadata": {},
     "output_type": "display_data"
    },
    {
     "data": {
      "text/html": [
       "\n",
       "        <div id=\"5U2zVWdkL4VyfypC8FMh3C\"></div>\n",
       "        <script>netpixi.call('5U2zVWdkL4VyfypC8FMh3C', 'TyBqTTn6xko23meQ9UDw3Y', 'setGraph', 'eyJ0eXBlIjogInZlcnRleCIsICJwcm9wcyI6IHsic3JjIjogImNsYXNzIiwgImRzdCI6ICJfa2V5In19Cg==');</script>\n",
       "    "
      ],
      "text/plain": [
       "<IPython.core.display.HTML object>"
      ]
     },
     "metadata": {},
     "output_type": "display_data"
    },
    {
     "data": {
      "text/html": [
       "\n",
       "        <div id=\"i9FGHfAGRRnSHsKbsin9fz\"></div>\n",
       "        <script>netpixi.call('i9FGHfAGRRnSHsKbsin9fz', 'TyBqTTn6xko23meQ9UDw3Y', 'changeGraph', 'eyJpZCI6ICI4NjgiLCAidHlwZSI6ICJ2ZXJ0ZXgiLCAicHJvcHMiOiB7ImNvbG9yIjogMTUxMTA0NTZ9fQo=');</script>\n",
       "    "
      ],
      "text/plain": [
       "<IPython.core.display.HTML object>"
      ]
     },
     "metadata": {},
     "output_type": "display_data"
    },
    {
     "data": {
      "text/html": [
       "\n",
       "        <div id=\"dw2ADefaPCkG5byu2mLtQZ\"></div>\n",
       "        <script>netpixi.call('dw2ADefaPCkG5byu2mLtQZ', 'TyBqTTn6xko23meQ9UDw3Y', 'setGraph', 'eyJ0eXBlIjogInZlcnRleCIsICJwcm9wcyI6IHsic3JjIjogImNsYXNzIiwgImRzdCI6ICJfa2V5In19Cg==');</script>\n",
       "    "
      ],
      "text/plain": [
       "<IPython.core.display.HTML object>"
      ]
     },
     "metadata": {},
     "output_type": "display_data"
    },
    {
     "data": {
      "text/html": [
       "\n",
       "        <div id=\"U9x9ufAsGmqctB8b4u73TV\"></div>\n",
       "        <script>netpixi.call('U9x9ufAsGmqctB8b4u73TV', 'TyBqTTn6xko23meQ9UDw3Y', 'changeGraph', 'eyJpZCI6ICIxNjE4IiwgInR5cGUiOiAidmVydGV4IiwgInByb3BzIjogeyJjb2xvciI6IDE2NzY2NzIwfX0K');</script>\n",
       "    "
      ],
      "text/plain": [
       "<IPython.core.display.HTML object>"
      ]
     },
     "metadata": {},
     "output_type": "display_data"
    },
    {
     "data": {
      "text/html": [
       "\n",
       "        <div id=\"muBLJLEK8nZCZzNK8GTErj\"></div>\n",
       "        <script>netpixi.call('muBLJLEK8nZCZzNK8GTErj', 'TyBqTTn6xko23meQ9UDw3Y', 'setGraph', 'eyJ0eXBlIjogInZlcnRleCIsICJwcm9wcyI6IHsic3JjIjogImNsYXNzIiwgImRzdCI6ICJfa2V5In19Cg==');</script>\n",
       "    "
      ],
      "text/plain": [
       "<IPython.core.display.HTML object>"
      ]
     },
     "metadata": {},
     "output_type": "display_data"
    },
    {
     "data": {
      "text/html": [
       "\n",
       "        <div id=\"ajmTbySbhLFnuoqkzPPRMx\"></div>\n",
       "        <script>netpixi.call('ajmTbySbhLFnuoqkzPPRMx', 'TyBqTTn6xko23meQ9UDw3Y', 'changeGraph', 'eyJpZCI6ICI2NjQiLCAidHlwZSI6ICJ2ZXJ0ZXgiLCAicHJvcHMiOiB7ImNvbG9yIjogMTUxMTA0NTZ9fQo=');</script>\n",
       "    "
      ],
      "text/plain": [
       "<IPython.core.display.HTML object>"
      ]
     },
     "metadata": {},
     "output_type": "display_data"
    },
    {
     "data": {
      "text/html": [
       "\n",
       "        <div id=\"VbbLgpf2BC9hpjPLiPwCC3\"></div>\n",
       "        <script>netpixi.call('VbbLgpf2BC9hpjPLiPwCC3', 'TyBqTTn6xko23meQ9UDw3Y', 'setGraph', 'eyJ0eXBlIjogInZlcnRleCIsICJwcm9wcyI6IHsic3JjIjogImNsYXNzIiwgImRzdCI6ICJfa2V5In19Cg==');</script>\n",
       "    "
      ],
      "text/plain": [
       "<IPython.core.display.HTML object>"
      ]
     },
     "metadata": {},
     "output_type": "display_data"
    },
    {
     "data": {
      "text/html": [
       "\n",
       "        <div id=\"AkmYtqXuuHgbeokYFzztLP\"></div>\n",
       "        <script>netpixi.call('AkmYtqXuuHgbeokYFzztLP', 'TyBqTTn6xko23meQ9UDw3Y', 'changeGraph', 'eyJpZCI6ICIxNjY3IiwgInR5cGUiOiAidmVydGV4IiwgInByb3BzIjogeyJjb2xvciI6IDE2NzY2NzIwfX0K');</script>\n",
       "    "
      ],
      "text/plain": [
       "<IPython.core.display.HTML object>"
      ]
     },
     "metadata": {},
     "output_type": "display_data"
    },
    {
     "data": {
      "text/html": [
       "\n",
       "        <div id=\"SmDRbmY9ykkjCBHB4pSszG\"></div>\n",
       "        <script>netpixi.call('SmDRbmY9ykkjCBHB4pSszG', 'TyBqTTn6xko23meQ9UDw3Y', 'setGraph', 'eyJ0eXBlIjogInZlcnRleCIsICJwcm9wcyI6IHsic3JjIjogImNsYXNzIiwgImRzdCI6ICJfa2V5In19Cg==');</script>\n",
       "    "
      ],
      "text/plain": [
       "<IPython.core.display.HTML object>"
      ]
     },
     "metadata": {},
     "output_type": "display_data"
    },
    {
     "data": {
      "text/html": [
       "\n",
       "        <div id=\"WbFdwk8VhGjsjUosCYUkmK\"></div>\n",
       "        <script>netpixi.call('WbFdwk8VhGjsjUosCYUkmK', 'TyBqTTn6xko23meQ9UDw3Y', 'changeGraph', 'eyJpZCI6ICIxNjQ1IiwgInR5cGUiOiAidmVydGV4IiwgInByb3BzIjogeyJjb2xvciI6IDE2NzY2NzIwfX0K');</script>\n",
       "    "
      ],
      "text/plain": [
       "<IPython.core.display.HTML object>"
      ]
     },
     "metadata": {},
     "output_type": "display_data"
    },
    {
     "data": {
      "text/html": [
       "\n",
       "        <div id=\"b2vxScK2xwSUjNTUGD3vBd\"></div>\n",
       "        <script>netpixi.call('b2vxScK2xwSUjNTUGD3vBd', 'TyBqTTn6xko23meQ9UDw3Y', 'setGraph', 'eyJ0eXBlIjogInZlcnRleCIsICJwcm9wcyI6IHsic3JjIjogImNsYXNzIiwgImRzdCI6ICJfa2V5In19Cg==');</script>\n",
       "    "
      ],
      "text/plain": [
       "<IPython.core.display.HTML object>"
      ]
     },
     "metadata": {},
     "output_type": "display_data"
    },
    {
     "data": {
      "text/html": [
       "\n",
       "        <div id=\"ESgozGu4wG2yvZUVKbJH3U\"></div>\n",
       "        <script>netpixi.call('ESgozGu4wG2yvZUVKbJH3U', 'TyBqTTn6xko23meQ9UDw3Y', 'changeGraph', 'eyJpZCI6ICI4MzAiLCAidHlwZSI6ICJ2ZXJ0ZXgiLCAicHJvcHMiOiB7ImNvbG9yIjogMTUxMTA0NTZ9fQo=');</script>\n",
       "    "
      ],
      "text/plain": [
       "<IPython.core.display.HTML object>"
      ]
     },
     "metadata": {},
     "output_type": "display_data"
    },
    {
     "data": {
      "text/html": [
       "\n",
       "        <div id=\"4qMYuokRRN5YjFQsT86aFk\"></div>\n",
       "        <script>netpixi.call('4qMYuokRRN5YjFQsT86aFk', 'TyBqTTn6xko23meQ9UDw3Y', 'setGraph', 'eyJ0eXBlIjogInZlcnRleCIsICJwcm9wcyI6IHsic3JjIjogImNsYXNzIiwgImRzdCI6ICJfa2V5In19Cg==');</script>\n",
       "    "
      ],
      "text/plain": [
       "<IPython.core.display.HTML object>"
      ]
     },
     "metadata": {},
     "output_type": "display_data"
    },
    {
     "data": {
      "text/html": [
       "\n",
       "        <div id=\"kBJpAp8RkxbZhNVs6GLbqj\"></div>\n",
       "        <script>netpixi.call('kBJpAp8RkxbZhNVs6GLbqj', 'TyBqTTn6xko23meQ9UDw3Y', 'changeGraph', 'eyJpZCI6ICI4MzQiLCAidHlwZSI6ICJ2ZXJ0ZXgiLCAicHJvcHMiOiB7ImNvbG9yIjogMTUxMTA0NTZ9fQo=');</script>\n",
       "    "
      ],
      "text/plain": [
       "<IPython.core.display.HTML object>"
      ]
     },
     "metadata": {},
     "output_type": "display_data"
    },
    {
     "data": {
      "text/html": [
       "\n",
       "        <div id=\"kzj7btNB5u9xoU8zM5hk9w\"></div>\n",
       "        <script>netpixi.call('kzj7btNB5u9xoU8zM5hk9w', 'TyBqTTn6xko23meQ9UDw3Y', 'setGraph', 'eyJ0eXBlIjogInZlcnRleCIsICJwcm9wcyI6IHsic3JjIjogImNsYXNzIiwgImRzdCI6ICJfa2V5In19Cg==');</script>\n",
       "    "
      ],
      "text/plain": [
       "<IPython.core.display.HTML object>"
      ]
     },
     "metadata": {},
     "output_type": "display_data"
    },
    {
     "data": {
      "text/html": [
       "\n",
       "        <div id=\"jqsUK3UXKghQ7rLoYLFPrz\"></div>\n",
       "        <script>netpixi.call('jqsUK3UXKghQ7rLoYLFPrz', 'TyBqTTn6xko23meQ9UDw3Y', 'changeGraph', 'eyJpZCI6ICI2MDEiLCAidHlwZSI6ICJ2ZXJ0ZXgiLCAicHJvcHMiOiB7ImNvbG9yIjogNjUyODB9fQo=');</script>\n",
       "    "
      ],
      "text/plain": [
       "<IPython.core.display.HTML object>"
      ]
     },
     "metadata": {},
     "output_type": "display_data"
    },
    {
     "data": {
      "text/html": [
       "\n",
       "        <div id=\"Sp9WwddcDaZz4Qyr9QXSbD\"></div>\n",
       "        <script>netpixi.call('Sp9WwddcDaZz4Qyr9QXSbD', 'TyBqTTn6xko23meQ9UDw3Y', 'setGraph', 'eyJ0eXBlIjogInZlcnRleCIsICJwcm9wcyI6IHsic3JjIjogImNsYXNzIiwgImRzdCI6ICJfa2V5In19Cg==');</script>\n",
       "    "
      ],
      "text/plain": [
       "<IPython.core.display.HTML object>"
      ]
     },
     "metadata": {},
     "output_type": "display_data"
    },
    {
     "data": {
      "text/html": [
       "\n",
       "        <div id=\"o5iNErTdaTAboKPRwWqe34\"></div>\n",
       "        <script>netpixi.call('o5iNErTdaTAboKPRwWqe34', 'TyBqTTn6xko23meQ9UDw3Y', 'changeGraph', 'eyJpZCI6ICI4MjMiLCAidHlwZSI6ICJ2ZXJ0ZXgiLCAicHJvcHMiOiB7ImNvbG9yIjogNjk4OTkwM319Cg==');</script>\n",
       "    "
      ],
      "text/plain": [
       "<IPython.core.display.HTML object>"
      ]
     },
     "metadata": {},
     "output_type": "display_data"
    },
    {
     "data": {
      "text/html": [
       "\n",
       "        <div id=\"bURk2xFynXfzjYH9DmKX79\"></div>\n",
       "        <script>netpixi.call('bURk2xFynXfzjYH9DmKX79', 'TyBqTTn6xko23meQ9UDw3Y', 'setGraph', 'eyJ0eXBlIjogInZlcnRleCIsICJwcm9wcyI6IHsic3JjIjogImNsYXNzIiwgImRzdCI6ICJfa2V5In19Cg==');</script>\n",
       "    "
      ],
      "text/plain": [
       "<IPython.core.display.HTML object>"
      ]
     },
     "metadata": {},
     "output_type": "display_data"
    },
    {
     "data": {
      "text/html": [
       "\n",
       "        <div id=\"3rUrntBy5EczrnapFYDnNm\"></div>\n",
       "        <script>netpixi.call('3rUrntBy5EczrnapFYDnNm', 'TyBqTTn6xko23meQ9UDw3Y', 'changeGraph', 'eyJpZCI6ICI2NjciLCAidHlwZSI6ICJ2ZXJ0ZXgiLCAicHJvcHMiOiB7ImNvbG9yIjogNjUyODB9fQo=');</script>\n",
       "    "
      ],
      "text/plain": [
       "<IPython.core.display.HTML object>"
      ]
     },
     "metadata": {},
     "output_type": "display_data"
    },
    {
     "data": {
      "text/html": [
       "\n",
       "        <div id=\"EYecfzx3QMDuBSPNx9yvWe\"></div>\n",
       "        <script>netpixi.call('EYecfzx3QMDuBSPNx9yvWe', 'TyBqTTn6xko23meQ9UDw3Y', 'setGraph', 'eyJ0eXBlIjogInZlcnRleCIsICJwcm9wcyI6IHsic3JjIjogImNsYXNzIiwgImRzdCI6ICJfa2V5In19Cg==');</script>\n",
       "    "
      ],
      "text/plain": [
       "<IPython.core.display.HTML object>"
      ]
     },
     "metadata": {},
     "output_type": "display_data"
    },
    {
     "data": {
      "text/html": [
       "\n",
       "        <div id=\"mfYbYF6bUWPNYNA6A64bw2\"></div>\n",
       "        <script>netpixi.call('mfYbYF6bUWPNYNA6A64bw2', 'TyBqTTn6xko23meQ9UDw3Y', 'changeGraph', 'eyJpZCI6ICI2MzQiLCAidHlwZSI6ICJ2ZXJ0ZXgiLCAicHJvcHMiOiB7ImNvbG9yIjogMTUxMTA0NTZ9fQo=');</script>\n",
       "    "
      ],
      "text/plain": [
       "<IPython.core.display.HTML object>"
      ]
     },
     "metadata": {},
     "output_type": "display_data"
    },
    {
     "data": {
      "text/html": [
       "\n",
       "        <div id=\"W4Z75TKNa3BpR2Pv6c4VRV\"></div>\n",
       "        <script>netpixi.call('W4Z75TKNa3BpR2Pv6c4VRV', 'TyBqTTn6xko23meQ9UDw3Y', 'setGraph', 'eyJ0eXBlIjogInZlcnRleCIsICJwcm9wcyI6IHsic3JjIjogImNsYXNzIiwgImRzdCI6ICJfa2V5In19Cg==');</script>\n",
       "    "
      ],
      "text/plain": [
       "<IPython.core.display.HTML object>"
      ]
     },
     "metadata": {},
     "output_type": "display_data"
    },
    {
     "data": {
      "text/html": [
       "\n",
       "        <div id=\"aCPefQCsyKYNiDiULcNmUb\"></div>\n",
       "        <script>netpixi.call('aCPefQCsyKYNiDiULcNmUb', 'TyBqTTn6xko23meQ9UDw3Y', 'changeGraph', 'eyJpZCI6ICI4OTQiLCAidHlwZSI6ICJ2ZXJ0ZXgiLCAicHJvcHMiOiB7ImNvbG9yIjogNjk4OTkwM319Cg==');</script>\n",
       "    "
      ],
      "text/plain": [
       "<IPython.core.display.HTML object>"
      ]
     },
     "metadata": {},
     "output_type": "display_data"
    },
    {
     "data": {
      "text/html": [
       "\n",
       "        <div id=\"bwySjJ3vgh8Cy7DGDRendu\"></div>\n",
       "        <script>netpixi.call('bwySjJ3vgh8Cy7DGDRendu', 'TyBqTTn6xko23meQ9UDw3Y', 'setGraph', 'eyJ0eXBlIjogInZlcnRleCIsICJwcm9wcyI6IHsic3JjIjogImNsYXNzIiwgImRzdCI6ICJfa2V5In19Cg==');</script>\n",
       "    "
      ],
      "text/plain": [
       "<IPython.core.display.HTML object>"
      ]
     },
     "metadata": {},
     "output_type": "display_data"
    },
    {
     "data": {
      "text/html": [
       "\n",
       "        <div id=\"iVioz44WQMLqgfnFR3Chrh\"></div>\n",
       "        <script>netpixi.call('iVioz44WQMLqgfnFR3Chrh', 'TyBqTTn6xko23meQ9UDw3Y', 'changeGraph', 'eyJpZCI6ICI4OTYiLCAidHlwZSI6ICJ2ZXJ0ZXgiLCAicHJvcHMiOiB7ImNvbG9yIjogNjk4OTkwM319Cg==');</script>\n",
       "    "
      ],
      "text/plain": [
       "<IPython.core.display.HTML object>"
      ]
     },
     "metadata": {},
     "output_type": "display_data"
    },
    {
     "data": {
      "text/html": [
       "\n",
       "        <div id=\"QARcTEmRwdDVnR5ZCDhLHu\"></div>\n",
       "        <script>netpixi.call('QARcTEmRwdDVnR5ZCDhLHu', 'TyBqTTn6xko23meQ9UDw3Y', 'setGraph', 'eyJ0eXBlIjogInZlcnRleCIsICJwcm9wcyI6IHsic3JjIjogImNsYXNzIiwgImRzdCI6ICJfa2V5In19Cg==');</script>\n",
       "    "
      ],
      "text/plain": [
       "<IPython.core.display.HTML object>"
      ]
     },
     "metadata": {},
     "output_type": "display_data"
    },
    {
     "data": {
      "text/html": [
       "\n",
       "        <div id=\"KyxNMjX6xXCiPysm8cLZxi\"></div>\n",
       "        <script>netpixi.call('KyxNMjX6xXCiPysm8cLZxi', 'TyBqTTn6xko23meQ9UDw3Y', 'changeGraph', 'eyJpZCI6ICI4NTMiLCAidHlwZSI6ICJ2ZXJ0ZXgiLCAicHJvcHMiOiB7ImNvbG9yIjogMTUxMTA0NTZ9fQo=');</script>\n",
       "    "
      ],
      "text/plain": [
       "<IPython.core.display.HTML object>"
      ]
     },
     "metadata": {},
     "output_type": "display_data"
    },
    {
     "data": {
      "text/html": [
       "\n",
       "        <div id=\"WFgp2i8xYriAyXhXeRWeHn\"></div>\n",
       "        <script>netpixi.call('WFgp2i8xYriAyXhXeRWeHn', 'TyBqTTn6xko23meQ9UDw3Y', 'setGraph', 'eyJ0eXBlIjogInZlcnRleCIsICJwcm9wcyI6IHsic3JjIjogImNsYXNzIiwgImRzdCI6ICJfa2V5In19Cg==');</script>\n",
       "    "
      ],
      "text/plain": [
       "<IPython.core.display.HTML object>"
      ]
     },
     "metadata": {},
     "output_type": "display_data"
    },
    {
     "data": {
      "text/html": [
       "\n",
       "        <div id=\"FfNqbJXDREckjLqPqdxfBe\"></div>\n",
       "        <script>netpixi.call('FfNqbJXDREckjLqPqdxfBe', 'TyBqTTn6xko23meQ9UDw3Y', 'changeGraph', 'eyJpZCI6ICI4OTIiLCAidHlwZSI6ICJ2ZXJ0ZXgiLCAicHJvcHMiOiB7ImNvbG9yIjogNjk4OTkwM319Cg==');</script>\n",
       "    "
      ],
      "text/plain": [
       "<IPython.core.display.HTML object>"
      ]
     },
     "metadata": {},
     "output_type": "display_data"
    },
    {
     "data": {
      "text/html": [
       "\n",
       "        <div id=\"8wmW5hi9MNYhrjWEEHaahH\"></div>\n",
       "        <script>netpixi.call('8wmW5hi9MNYhrjWEEHaahH', 'TyBqTTn6xko23meQ9UDw3Y', 'setGraph', 'eyJ0eXBlIjogInZlcnRleCIsICJwcm9wcyI6IHsic3JjIjogImNsYXNzIiwgImRzdCI6ICJfa2V5In19Cg==');</script>\n",
       "    "
      ],
      "text/plain": [
       "<IPython.core.display.HTML object>"
      ]
     },
     "metadata": {},
     "output_type": "display_data"
    },
    {
     "data": {
      "text/html": [
       "\n",
       "        <div id=\"D2Hx4g8FCa5wqeZYtpYfyZ\"></div>\n",
       "        <script>netpixi.call('D2Hx4g8FCa5wqeZYtpYfyZ', 'TyBqTTn6xko23meQ9UDw3Y', 'changeGraph', 'eyJpZCI6ICI4NjQiLCAidHlwZSI6ICJ2ZXJ0ZXgiLCAicHJvcHMiOiB7ImNvbG9yIjogMTUxMTA0NTZ9fQo=');</script>\n",
       "    "
      ],
      "text/plain": [
       "<IPython.core.display.HTML object>"
      ]
     },
     "metadata": {},
     "output_type": "display_data"
    },
    {
     "data": {
      "text/html": [
       "\n",
       "        <div id=\"JFWNSzbFyW2QizcayxysaC\"></div>\n",
       "        <script>netpixi.call('JFWNSzbFyW2QizcayxysaC', 'TyBqTTn6xko23meQ9UDw3Y', 'setGraph', 'eyJ0eXBlIjogInZlcnRleCIsICJwcm9wcyI6IHsic3JjIjogImNsYXNzIiwgImRzdCI6ICJfa2V5In19Cg==');</script>\n",
       "    "
      ],
      "text/plain": [
       "<IPython.core.display.HTML object>"
      ]
     },
     "metadata": {},
     "output_type": "display_data"
    },
    {
     "data": {
      "text/html": [
       "\n",
       "        <div id=\"4Fn95ixBMVgLMpfb6gW992\"></div>\n",
       "        <script>netpixi.call('4Fn95ixBMVgLMpfb6gW992', 'TyBqTTn6xko23meQ9UDw3Y', 'changeGraph', 'eyJpZCI6ICI4ODIiLCAidHlwZSI6ICJ2ZXJ0ZXgiLCAicHJvcHMiOiB7ImNvbG9yIjogNjk4OTkwM319Cg==');</script>\n",
       "    "
      ],
      "text/plain": [
       "<IPython.core.display.HTML object>"
      ]
     },
     "metadata": {},
     "output_type": "display_data"
    },
    {
     "data": {
      "text/html": [
       "\n",
       "        <div id=\"FWJuy3FMxm27kpuxWF2Koj\"></div>\n",
       "        <script>netpixi.call('FWJuy3FMxm27kpuxWF2Koj', 'TyBqTTn6xko23meQ9UDw3Y', 'setGraph', 'eyJ0eXBlIjogInZlcnRleCIsICJwcm9wcyI6IHsic3JjIjogImNsYXNzIiwgImRzdCI6ICJfa2V5In19Cg==');</script>\n",
       "    "
      ],
      "text/plain": [
       "<IPython.core.display.HTML object>"
      ]
     },
     "metadata": {},
     "output_type": "display_data"
    },
    {
     "data": {
      "text/html": [
       "\n",
       "        <div id=\"6yJYwt7rJdUXH3tdyLcSD2\"></div>\n",
       "        <script>netpixi.call('6yJYwt7rJdUXH3tdyLcSD2', 'TyBqTTn6xko23meQ9UDw3Y', 'changeGraph', 'eyJpZCI6ICI4ODYiLCAidHlwZSI6ICJ2ZXJ0ZXgiLCAicHJvcHMiOiB7ImNvbG9yIjogNjk4OTkwM319Cg==');</script>\n",
       "    "
      ],
      "text/plain": [
       "<IPython.core.display.HTML object>"
      ]
     },
     "metadata": {},
     "output_type": "display_data"
    },
    {
     "data": {
      "text/html": [
       "\n",
       "        <div id=\"BHDSsysUzs7bvg7DoR29R3\"></div>\n",
       "        <script>netpixi.call('BHDSsysUzs7bvg7DoR29R3', 'TyBqTTn6xko23meQ9UDw3Y', 'setGraph', 'eyJ0eXBlIjogInZlcnRleCIsICJwcm9wcyI6IHsic3JjIjogImNsYXNzIiwgImRzdCI6ICJfa2V5In19Cg==');</script>\n",
       "    "
      ],
      "text/plain": [
       "<IPython.core.display.HTML object>"
      ]
     },
     "metadata": {},
     "output_type": "display_data"
    },
    {
     "data": {
      "text/html": [
       "\n",
       "        <div id=\"TSCLPfx5VV5F8MfQx2PDpP\"></div>\n",
       "        <script>netpixi.call('TSCLPfx5VV5F8MfQx2PDpP', 'TyBqTTn6xko23meQ9UDw3Y', 'changeGraph', 'eyJpZCI6ICI4NzMiLCAidHlwZSI6ICJ2ZXJ0ZXgiLCAicHJvcHMiOiB7ImNvbG9yIjogMTUxMTA0NTZ9fQo=');</script>\n",
       "    "
      ],
      "text/plain": [
       "<IPython.core.display.HTML object>"
      ]
     },
     "metadata": {},
     "output_type": "display_data"
    },
    {
     "data": {
      "text/html": [
       "\n",
       "        <div id=\"3qimfGixsYrA7rV5RKB323\"></div>\n",
       "        <script>netpixi.call('3qimfGixsYrA7rV5RKB323', 'TyBqTTn6xko23meQ9UDw3Y', 'setGraph', 'eyJ0eXBlIjogInZlcnRleCIsICJwcm9wcyI6IHsic3JjIjogImNsYXNzIiwgImRzdCI6ICJfa2V5In19Cg==');</script>\n",
       "    "
      ],
      "text/plain": [
       "<IPython.core.display.HTML object>"
      ]
     },
     "metadata": {},
     "output_type": "display_data"
    },
    {
     "data": {
      "text/html": [
       "\n",
       "        <div id=\"KUaqzAHLSHtLideNz99eoC\"></div>\n",
       "        <script>netpixi.call('KUaqzAHLSHtLideNz99eoC', 'TyBqTTn6xko23meQ9UDw3Y', 'changeGraph', 'eyJpZCI6ICI4MjEiLCAidHlwZSI6ICJ2ZXJ0ZXgiLCAicHJvcHMiOiB7ImNvbG9yIjogNjk4OTkwM319Cg==');</script>\n",
       "    "
      ],
      "text/plain": [
       "<IPython.core.display.HTML object>"
      ]
     },
     "metadata": {},
     "output_type": "display_data"
    },
    {
     "data": {
      "text/html": [
       "\n",
       "        <div id=\"2VzTAdXX6Zdqt6LZbXuTqJ\"></div>\n",
       "        <script>netpixi.call('2VzTAdXX6Zdqt6LZbXuTqJ', 'TyBqTTn6xko23meQ9UDw3Y', 'setGraph', 'eyJ0eXBlIjogInZlcnRleCIsICJwcm9wcyI6IHsic3JjIjogImNsYXNzIiwgImRzdCI6ICJfa2V5In19Cg==');</script>\n",
       "    "
      ],
      "text/plain": [
       "<IPython.core.display.HTML object>"
      ]
     },
     "metadata": {},
     "output_type": "display_data"
    },
    {
     "data": {
      "text/html": [
       "\n",
       "        <div id=\"Wxzt487AqKbsB7ySTtrmKE\"></div>\n",
       "        <script>netpixi.call('Wxzt487AqKbsB7ySTtrmKE', 'TyBqTTn6xko23meQ9UDw3Y', 'changeGraph', 'eyJpZCI6ICI2NDQiLCAidHlwZSI6ICJ2ZXJ0ZXgiLCAicHJvcHMiOiB7ImNvbG9yIjogNjUyODB9fQo=');</script>\n",
       "    "
      ],
      "text/plain": [
       "<IPython.core.display.HTML object>"
      ]
     },
     "metadata": {},
     "output_type": "display_data"
    },
    {
     "data": {
      "text/html": [
       "\n",
       "        <div id=\"9QNFY7hNtAta2YbdWbaXbq\"></div>\n",
       "        <script>netpixi.call('9QNFY7hNtAta2YbdWbaXbq', 'TyBqTTn6xko23meQ9UDw3Y', 'setGraph', 'eyJ0eXBlIjogInZlcnRleCIsICJwcm9wcyI6IHsic3JjIjogImNsYXNzIiwgImRzdCI6ICJfa2V5In19Cg==');</script>\n",
       "    "
      ],
      "text/plain": [
       "<IPython.core.display.HTML object>"
      ]
     },
     "metadata": {},
     "output_type": "display_data"
    },
    {
     "data": {
      "text/html": [
       "\n",
       "        <div id=\"GWGzqBbFvY2adc3KRKzFnd\"></div>\n",
       "        <script>netpixi.call('GWGzqBbFvY2adc3KRKzFnd', 'TyBqTTn6xko23meQ9UDw3Y', 'changeGraph', 'eyJpZCI6ICI2OTYiLCAidHlwZSI6ICJ2ZXJ0ZXgiLCAicHJvcHMiOiB7ImNvbG9yIjogNjUyODB9fQo=');</script>\n",
       "    "
      ],
      "text/plain": [
       "<IPython.core.display.HTML object>"
      ]
     },
     "metadata": {},
     "output_type": "display_data"
    },
    {
     "data": {
      "text/html": [
       "\n",
       "        <div id=\"78u6WNNJfnpqH2Cg3iJMxW\"></div>\n",
       "        <script>netpixi.call('78u6WNNJfnpqH2Cg3iJMxW', 'TyBqTTn6xko23meQ9UDw3Y', 'setGraph', 'eyJ0eXBlIjogInZlcnRleCIsICJwcm9wcyI6IHsic3JjIjogImNsYXNzIiwgImRzdCI6ICJfa2V5In19Cg==');</script>\n",
       "    "
      ],
      "text/plain": [
       "<IPython.core.display.HTML object>"
      ]
     },
     "metadata": {},
     "output_type": "display_data"
    },
    {
     "data": {
      "text/html": [
       "\n",
       "        <div id=\"jXPu8srE4zwndaJwTuoCzH\"></div>\n",
       "        <script>netpixi.call('jXPu8srE4zwndaJwTuoCzH', 'TyBqTTn6xko23meQ9UDw3Y', 'changeGraph', 'eyJpZCI6ICI4MjYiLCAidHlwZSI6ICJ2ZXJ0ZXgiLCAicHJvcHMiOiB7ImNvbG9yIjogMTUxMTA0NTZ9fQo=');</script>\n",
       "    "
      ],
      "text/plain": [
       "<IPython.core.display.HTML object>"
      ]
     },
     "metadata": {},
     "output_type": "display_data"
    },
    {
     "data": {
      "text/html": [
       "\n",
       "        <div id=\"fjpsetnq6kTTRHwRRtvBzu\"></div>\n",
       "        <script>netpixi.call('fjpsetnq6kTTRHwRRtvBzu', 'TyBqTTn6xko23meQ9UDw3Y', 'setGraph', 'eyJ0eXBlIjogInZlcnRleCIsICJwcm9wcyI6IHsic3JjIjogImNsYXNzIiwgImRzdCI6ICJfa2V5In19Cg==');</script>\n",
       "    "
      ],
      "text/plain": [
       "<IPython.core.display.HTML object>"
      ]
     },
     "metadata": {},
     "output_type": "display_data"
    },
    {
     "data": {
      "text/html": [
       "\n",
       "        <div id=\"2H6tspG6FmKK7mdSsx4Dtv\"></div>\n",
       "        <script>netpixi.call('2H6tspG6FmKK7mdSsx4Dtv', 'TyBqTTn6xko23meQ9UDw3Y', 'changeGraph', 'eyJpZCI6ICI4NDciLCAidHlwZSI6ICJ2ZXJ0ZXgiLCAicHJvcHMiOiB7ImNvbG9yIjogNjk4OTkwM319Cg==');</script>\n",
       "    "
      ],
      "text/plain": [
       "<IPython.core.display.HTML object>"
      ]
     },
     "metadata": {},
     "output_type": "display_data"
    },
    {
     "data": {
      "text/html": [
       "\n",
       "        <div id=\"ZWYUWshYgY7HFs5omk9rwz\"></div>\n",
       "        <script>netpixi.call('ZWYUWshYgY7HFs5omk9rwz', 'TyBqTTn6xko23meQ9UDw3Y', 'setGraph', 'eyJ0eXBlIjogInZlcnRleCIsICJwcm9wcyI6IHsic3JjIjogImNsYXNzIiwgImRzdCI6ICJfa2V5In19Cg==');</script>\n",
       "    "
      ],
      "text/plain": [
       "<IPython.core.display.HTML object>"
      ]
     },
     "metadata": {},
     "output_type": "display_data"
    },
    {
     "data": {
      "text/html": [
       "\n",
       "        <div id=\"ggzVirhkpmz6n9VXfDVfjX\"></div>\n",
       "        <script>netpixi.call('ggzVirhkpmz6n9VXfDVfjX', 'TyBqTTn6xko23meQ9UDw3Y', 'changeGraph', 'eyJpZCI6ICI2ODYiLCAidHlwZSI6ICJ2ZXJ0ZXgiLCAicHJvcHMiOiB7ImNvbG9yIjogNjUyODB9fQo=');</script>\n",
       "    "
      ],
      "text/plain": [
       "<IPython.core.display.HTML object>"
      ]
     },
     "metadata": {},
     "output_type": "display_data"
    },
    {
     "data": {
      "text/html": [
       "\n",
       "        <div id=\"PcdfH3YJPbaPDT9scKqYtp\"></div>\n",
       "        <script>netpixi.call('PcdfH3YJPbaPDT9scKqYtp', 'TyBqTTn6xko23meQ9UDw3Y', 'setGraph', 'eyJ0eXBlIjogInZlcnRleCIsICJwcm9wcyI6IHsic3JjIjogImNsYXNzIiwgImRzdCI6ICJfa2V5In19Cg==');</script>\n",
       "    "
      ],
      "text/plain": [
       "<IPython.core.display.HTML object>"
      ]
     },
     "metadata": {},
     "output_type": "display_data"
    },
    {
     "data": {
      "text/html": [
       "\n",
       "        <div id=\"9kiphc9qTWY2oarjaYXg5N\"></div>\n",
       "        <script>netpixi.call('9kiphc9qTWY2oarjaYXg5N', 'TyBqTTn6xko23meQ9UDw3Y', 'changeGraph', 'eyJpZCI6ICI4OTMiLCAidHlwZSI6ICJ2ZXJ0ZXgiLCAicHJvcHMiOiB7ImNvbG9yIjogNjk4OTkwM319Cg==');</script>\n",
       "    "
      ],
      "text/plain": [
       "<IPython.core.display.HTML object>"
      ]
     },
     "metadata": {},
     "output_type": "display_data"
    },
    {
     "data": {
      "text/html": [
       "\n",
       "        <div id=\"Dfapk5zgHD9ZydJCiTTje2\"></div>\n",
       "        <script>netpixi.call('Dfapk5zgHD9ZydJCiTTje2', 'TyBqTTn6xko23meQ9UDw3Y', 'setGraph', 'eyJ0eXBlIjogInZlcnRleCIsICJwcm9wcyI6IHsic3JjIjogImNsYXNzIiwgImRzdCI6ICJfa2V5In19Cg==');</script>\n",
       "    "
      ],
      "text/plain": [
       "<IPython.core.display.HTML object>"
      ]
     },
     "metadata": {},
     "output_type": "display_data"
    },
    {
     "data": {
      "text/html": [
       "\n",
       "        <div id=\"SuEFCTmcR7caW7fcvdXCXq\"></div>\n",
       "        <script>netpixi.call('SuEFCTmcR7caW7fcvdXCXq', 'TyBqTTn6xko23meQ9UDw3Y', 'changeGraph', 'eyJpZCI6ICI4NTciLCAidHlwZSI6ICJ2ZXJ0ZXgiLCAicHJvcHMiOiB7ImNvbG9yIjogMTUxMTA0NTZ9fQo=');</script>\n",
       "    "
      ],
      "text/plain": [
       "<IPython.core.display.HTML object>"
      ]
     },
     "metadata": {},
     "output_type": "display_data"
    },
    {
     "data": {
      "text/html": [
       "\n",
       "        <div id=\"CeHrFT4dVLAfin4ExsUZj2\"></div>\n",
       "        <script>netpixi.call('CeHrFT4dVLAfin4ExsUZj2', 'TyBqTTn6xko23meQ9UDw3Y', 'setGraph', 'eyJ0eXBlIjogInZlcnRleCIsICJwcm9wcyI6IHsic3JjIjogImNsYXNzIiwgImRzdCI6ICJfa2V5In19Cg==');</script>\n",
       "    "
      ],
      "text/plain": [
       "<IPython.core.display.HTML object>"
      ]
     },
     "metadata": {},
     "output_type": "display_data"
    },
    {
     "data": {
      "text/html": [
       "\n",
       "        <div id=\"BeBWkhw6uknfxbF3yGp5gx\"></div>\n",
       "        <script>netpixi.call('BeBWkhw6uknfxbF3yGp5gx', 'TyBqTTn6xko23meQ9UDw3Y', 'changeGraph', 'eyJpZCI6ICI4MTUiLCAidHlwZSI6ICJ2ZXJ0ZXgiLCAicHJvcHMiOiB7ImNvbG9yIjogNjk4OTkwM319Cg==');</script>\n",
       "    "
      ],
      "text/plain": [
       "<IPython.core.display.HTML object>"
      ]
     },
     "metadata": {},
     "output_type": "display_data"
    },
    {
     "data": {
      "text/html": [
       "\n",
       "        <div id=\"5h4QYExP85e8QMNK7uxTXq\"></div>\n",
       "        <script>netpixi.call('5h4QYExP85e8QMNK7uxTXq', 'TyBqTTn6xko23meQ9UDw3Y', 'setGraph', 'eyJ0eXBlIjogInZlcnRleCIsICJwcm9wcyI6IHsic3JjIjogImNsYXNzIiwgImRzdCI6ICJfa2V5In19Cg==');</script>\n",
       "    "
      ],
      "text/plain": [
       "<IPython.core.display.HTML object>"
      ]
     },
     "metadata": {},
     "output_type": "display_data"
    },
    {
     "data": {
      "text/html": [
       "\n",
       "        <div id=\"jVeZZXCxMkrnKUF5mQ3PsF\"></div>\n",
       "        <script>netpixi.call('jVeZZXCxMkrnKUF5mQ3PsF', 'TyBqTTn6xko23meQ9UDw3Y', 'changeGraph', 'eyJpZCI6ICI4NzEiLCAidHlwZSI6ICJ2ZXJ0ZXgiLCAicHJvcHMiOiB7ImNvbG9yIjogMTUxMTA0NTZ9fQo=');</script>\n",
       "    "
      ],
      "text/plain": [
       "<IPython.core.display.HTML object>"
      ]
     },
     "metadata": {},
     "output_type": "display_data"
    },
    {
     "data": {
      "text/html": [
       "\n",
       "        <div id=\"ASSZopejd3H24dM2kmkCxq\"></div>\n",
       "        <script>netpixi.call('ASSZopejd3H24dM2kmkCxq', 'TyBqTTn6xko23meQ9UDw3Y', 'setGraph', 'eyJ0eXBlIjogInZlcnRleCIsICJwcm9wcyI6IHsic3JjIjogImNsYXNzIiwgImRzdCI6ICJfa2V5In19Cg==');</script>\n",
       "    "
      ],
      "text/plain": [
       "<IPython.core.display.HTML object>"
      ]
     },
     "metadata": {},
     "output_type": "display_data"
    },
    {
     "data": {
      "text/html": [
       "\n",
       "        <div id=\"dW6rDUYhXfZVksVPoNkUyB\"></div>\n",
       "        <script>netpixi.call('dW6rDUYhXfZVksVPoNkUyB', 'TyBqTTn6xko23meQ9UDw3Y', 'changeGraph', 'eyJpZCI6ICI2NjAiLCAidHlwZSI6ICJ2ZXJ0ZXgiLCAicHJvcHMiOiB7ImNvbG9yIjogNjUyODB9fQo=');</script>\n",
       "    "
      ],
      "text/plain": [
       "<IPython.core.display.HTML object>"
      ]
     },
     "metadata": {},
     "output_type": "display_data"
    },
    {
     "data": {
      "text/html": [
       "\n",
       "        <div id=\"9bojXk6fh3RZ2jbx56M3su\"></div>\n",
       "        <script>netpixi.call('9bojXk6fh3RZ2jbx56M3su', 'TyBqTTn6xko23meQ9UDw3Y', 'setGraph', 'eyJ0eXBlIjogInZlcnRleCIsICJwcm9wcyI6IHsic3JjIjogImNsYXNzIiwgImRzdCI6ICJfa2V5In19Cg==');</script>\n",
       "    "
      ],
      "text/plain": [
       "<IPython.core.display.HTML object>"
      ]
     },
     "metadata": {},
     "output_type": "display_data"
    },
    {
     "data": {
      "text/html": [
       "\n",
       "        <div id=\"7zGuqx4CyvBoJSgzx2uFA2\"></div>\n",
       "        <script>netpixi.call('7zGuqx4CyvBoJSgzx2uFA2', 'TyBqTTn6xko23meQ9UDw3Y', 'changeGraph', 'eyJpZCI6ICI4NjYiLCAidHlwZSI6ICJ2ZXJ0ZXgiLCAicHJvcHMiOiB7ImNvbG9yIjogMTUxMTA0NTZ9fQo=');</script>\n",
       "    "
      ],
      "text/plain": [
       "<IPython.core.display.HTML object>"
      ]
     },
     "metadata": {},
     "output_type": "display_data"
    },
    {
     "data": {
      "text/html": [
       "\n",
       "        <div id=\"BFq4Tgm2YNzrDWsPnkg4rB\"></div>\n",
       "        <script>netpixi.call('BFq4Tgm2YNzrDWsPnkg4rB', 'TyBqTTn6xko23meQ9UDw3Y', 'setGraph', 'eyJ0eXBlIjogInZlcnRleCIsICJwcm9wcyI6IHsic3JjIjogImNsYXNzIiwgImRzdCI6ICJfa2V5In19Cg==');</script>\n",
       "    "
      ],
      "text/plain": [
       "<IPython.core.display.HTML object>"
      ]
     },
     "metadata": {},
     "output_type": "display_data"
    },
    {
     "data": {
      "text/html": [
       "\n",
       "        <div id=\"fgMv8UxBEiM3VKKQfVN4j8\"></div>\n",
       "        <script>netpixi.call('fgMv8UxBEiM3VKKQfVN4j8', 'TyBqTTn6xko23meQ9UDw3Y', 'changeGraph', 'eyJpZCI6ICI4MTQiLCAidHlwZSI6ICJ2ZXJ0ZXgiLCAicHJvcHMiOiB7ImNvbG9yIjogNjk4OTkwM319Cg==');</script>\n",
       "    "
      ],
      "text/plain": [
       "<IPython.core.display.HTML object>"
      ]
     },
     "metadata": {},
     "output_type": "display_data"
    },
    {
     "data": {
      "text/html": [
       "\n",
       "        <div id=\"9LBe9EVTRhxSXXkrmkbYkW\"></div>\n",
       "        <script>netpixi.call('9LBe9EVTRhxSXXkrmkbYkW', 'TyBqTTn6xko23meQ9UDw3Y', 'setGraph', 'eyJ0eXBlIjogInZlcnRleCIsICJwcm9wcyI6IHsic3JjIjogImNsYXNzIiwgImRzdCI6ICJfa2V5In19Cg==');</script>\n",
       "    "
      ],
      "text/plain": [
       "<IPython.core.display.HTML object>"
      ]
     },
     "metadata": {},
     "output_type": "display_data"
    },
    {
     "data": {
      "text/html": [
       "\n",
       "        <div id=\"XSq8BH7nHAM7Qeant2Wqf9\"></div>\n",
       "        <script>netpixi.call('XSq8BH7nHAM7Qeant2Wqf9', 'TyBqTTn6xko23meQ9UDw3Y', 'changeGraph', 'eyJpZCI6ICI4OTUiLCAidHlwZSI6ICJ2ZXJ0ZXgiLCAicHJvcHMiOiB7ImNvbG9yIjogNjk4OTkwM319Cg==');</script>\n",
       "    "
      ],
      "text/plain": [
       "<IPython.core.display.HTML object>"
      ]
     },
     "metadata": {},
     "output_type": "display_data"
    },
    {
     "data": {
      "text/html": [
       "\n",
       "        <div id=\"HBgkHmaVpBgbewBJVYimBt\"></div>\n",
       "        <script>netpixi.call('HBgkHmaVpBgbewBJVYimBt', 'TyBqTTn6xko23meQ9UDw3Y', 'setGraph', 'eyJ0eXBlIjogInZlcnRleCIsICJwcm9wcyI6IHsic3JjIjogImNsYXNzIiwgImRzdCI6ICJfa2V5In19Cg==');</script>\n",
       "    "
      ],
      "text/plain": [
       "<IPython.core.display.HTML object>"
      ]
     },
     "metadata": {},
     "output_type": "display_data"
    },
    {
     "data": {
      "text/html": [
       "\n",
       "        <div id=\"eUDsYYBea9pNmu4T4AUKwn\"></div>\n",
       "        <script>netpixi.call('eUDsYYBea9pNmu4T4AUKwn', 'TyBqTTn6xko23meQ9UDw3Y', 'changeGraph', 'eyJpZCI6ICIxNjc4IiwgInR5cGUiOiAidmVydGV4IiwgInByb3BzIjogeyJjb2xvciI6IDE2NzY2NzIwfX0K');</script>\n",
       "    "
      ],
      "text/plain": [
       "<IPython.core.display.HTML object>"
      ]
     },
     "metadata": {},
     "output_type": "display_data"
    },
    {
     "data": {
      "text/html": [
       "\n",
       "        <div id=\"fPbFHRynk87BQHWa4B6iQg\"></div>\n",
       "        <script>netpixi.call('fPbFHRynk87BQHWa4B6iQg', 'TyBqTTn6xko23meQ9UDw3Y', 'setGraph', 'eyJ0eXBlIjogInZlcnRleCIsICJwcm9wcyI6IHsic3JjIjogImNsYXNzIiwgImRzdCI6ICJfa2V5In19Cg==');</script>\n",
       "    "
      ],
      "text/plain": [
       "<IPython.core.display.HTML object>"
      ]
     },
     "metadata": {},
     "output_type": "display_data"
    },
    {
     "data": {
      "text/html": [
       "\n",
       "        <div id=\"YT4X3jjndQz3W7QCDbhf3m\"></div>\n",
       "        <script>netpixi.call('YT4X3jjndQz3W7QCDbhf3m', 'TyBqTTn6xko23meQ9UDw3Y', 'changeGraph', 'eyJpZCI6ICI4MTAiLCAidHlwZSI6ICJ2ZXJ0ZXgiLCAicHJvcHMiOiB7ImNvbG9yIjogMTUxMTA0NTZ9fQo=');</script>\n",
       "    "
      ],
      "text/plain": [
       "<IPython.core.display.HTML object>"
      ]
     },
     "metadata": {},
     "output_type": "display_data"
    },
    {
     "data": {
      "text/html": [
       "\n",
       "        <div id=\"GQzfiqKXoxqhPa6gHcyQzo\"></div>\n",
       "        <script>netpixi.call('GQzfiqKXoxqhPa6gHcyQzo', 'TyBqTTn6xko23meQ9UDw3Y', 'setGraph', 'eyJ0eXBlIjogInZlcnRleCIsICJwcm9wcyI6IHsic3JjIjogImNsYXNzIiwgImRzdCI6ICJfa2V5In19Cg==');</script>\n",
       "    "
      ],
      "text/plain": [
       "<IPython.core.display.HTML object>"
      ]
     },
     "metadata": {},
     "output_type": "display_data"
    },
    {
     "data": {
      "text/html": [
       "\n",
       "        <div id=\"ZQqJmn4itnvbK4wRZH6wTF\"></div>\n",
       "        <script>netpixi.call('ZQqJmn4itnvbK4wRZH6wTF', 'TyBqTTn6xko23meQ9UDw3Y', 'changeGraph', 'eyJpZCI6ICI4NTQiLCAidHlwZSI6ICJ2ZXJ0ZXgiLCAicHJvcHMiOiB7ImNvbG9yIjogMTUxMTA0NTZ9fQo=');</script>\n",
       "    "
      ],
      "text/plain": [
       "<IPython.core.display.HTML object>"
      ]
     },
     "metadata": {},
     "output_type": "display_data"
    },
    {
     "data": {
      "text/html": [
       "\n",
       "        <div id=\"XUYmZsp4HYxtqjnhAjKG8H\"></div>\n",
       "        <script>netpixi.call('XUYmZsp4HYxtqjnhAjKG8H', 'TyBqTTn6xko23meQ9UDw3Y', 'setGraph', 'eyJ0eXBlIjogInZlcnRleCIsICJwcm9wcyI6IHsic3JjIjogImNsYXNzIiwgImRzdCI6ICJfa2V5In19Cg==');</script>\n",
       "    "
      ],
      "text/plain": [
       "<IPython.core.display.HTML object>"
      ]
     },
     "metadata": {},
     "output_type": "display_data"
    },
    {
     "data": {
      "text/html": [
       "\n",
       "        <div id=\"QogbzqHtGQbcrUis9x7Ajw\"></div>\n",
       "        <script>netpixi.call('QogbzqHtGQbcrUis9x7Ajw', 'TyBqTTn6xko23meQ9UDw3Y', 'changeGraph', 'eyJpZCI6ICI4ODkiLCAidHlwZSI6ICJ2ZXJ0ZXgiLCAicHJvcHMiOiB7ImNvbG9yIjogNjk4OTkwM319Cg==');</script>\n",
       "    "
      ],
      "text/plain": [
       "<IPython.core.display.HTML object>"
      ]
     },
     "metadata": {},
     "output_type": "display_data"
    },
    {
     "data": {
      "text/html": [
       "\n",
       "        <div id=\"SdKNgiDcDepXn5Vzovds65\"></div>\n",
       "        <script>netpixi.call('SdKNgiDcDepXn5Vzovds65', 'TyBqTTn6xko23meQ9UDw3Y', 'setGraph', 'eyJ0eXBlIjogInZlcnRleCIsICJwcm9wcyI6IHsic3JjIjogImNsYXNzIiwgImRzdCI6ICJfa2V5In19Cg==');</script>\n",
       "    "
      ],
      "text/plain": [
       "<IPython.core.display.HTML object>"
      ]
     },
     "metadata": {},
     "output_type": "display_data"
    },
    {
     "data": {
      "text/html": [
       "\n",
       "        <div id=\"VVyt86wtYigZh8LwbkSnwU\"></div>\n",
       "        <script>netpixi.call('VVyt86wtYigZh8LwbkSnwU', 'TyBqTTn6xko23meQ9UDw3Y', 'changeGraph', 'eyJpZCI6ICI4OTAiLCAidHlwZSI6ICJ2ZXJ0ZXgiLCAicHJvcHMiOiB7ImNvbG9yIjogNjk4OTkwM319Cg==');</script>\n",
       "    "
      ],
      "text/plain": [
       "<IPython.core.display.HTML object>"
      ]
     },
     "metadata": {},
     "output_type": "display_data"
    },
    {
     "data": {
      "text/html": [
       "\n",
       "        <div id=\"miAQiSQuFbgELTscEyhTyv\"></div>\n",
       "        <script>netpixi.call('miAQiSQuFbgELTscEyhTyv', 'TyBqTTn6xko23meQ9UDw3Y', 'setGraph', 'eyJ0eXBlIjogInZlcnRleCIsICJwcm9wcyI6IHsic3JjIjogImNsYXNzIiwgImRzdCI6ICJfa2V5In19Cg==');</script>\n",
       "    "
      ],
      "text/plain": [
       "<IPython.core.display.HTML object>"
      ]
     },
     "metadata": {},
     "output_type": "display_data"
    },
    {
     "data": {
      "text/html": [
       "\n",
       "        <div id=\"29F8fyJEAYBRboaBvrNd7u\"></div>\n",
       "        <script>netpixi.call('29F8fyJEAYBRboaBvrNd7u', 'TyBqTTn6xko23meQ9UDw3Y', 'changeGraph', 'eyJpZCI6ICI4OTEiLCAidHlwZSI6ICJ2ZXJ0ZXgiLCAicHJvcHMiOiB7ImNvbG9yIjogNjk4OTkwM319Cg==');</script>\n",
       "    "
      ],
      "text/plain": [
       "<IPython.core.display.HTML object>"
      ]
     },
     "metadata": {},
     "output_type": "display_data"
    },
    {
     "data": {
      "text/html": [
       "\n",
       "        <div id=\"GijbXVdyyY6aZWfMR6ptsJ\"></div>\n",
       "        <script>netpixi.call('GijbXVdyyY6aZWfMR6ptsJ', 'TyBqTTn6xko23meQ9UDw3Y', 'setGraph', 'eyJ0eXBlIjogInZlcnRleCIsICJwcm9wcyI6IHsic3JjIjogImNsYXNzIiwgImRzdCI6ICJfa2V5In19Cg==');</script>\n",
       "    "
      ],
      "text/plain": [
       "<IPython.core.display.HTML object>"
      ]
     },
     "metadata": {},
     "output_type": "display_data"
    },
    {
     "data": {
      "text/html": [
       "\n",
       "        <div id=\"Dx9yjdXTAJJjguVUTgM2pG\"></div>\n",
       "        <script>netpixi.call('Dx9yjdXTAJJjguVUTgM2pG', 'TyBqTTn6xko23meQ9UDw3Y', 'changeGraph', 'eyJpZCI6ICI4ODgiLCAidHlwZSI6ICJ2ZXJ0ZXgiLCAicHJvcHMiOiB7ImNvbG9yIjogNjk4OTkwM319Cg==');</script>\n",
       "    "
      ],
      "text/plain": [
       "<IPython.core.display.HTML object>"
      ]
     },
     "metadata": {},
     "output_type": "display_data"
    },
    {
     "data": {
      "text/html": [
       "\n",
       "        <div id=\"MaQ6USfJk6CNAtVMMM78xa\"></div>\n",
       "        <script>netpixi.call('MaQ6USfJk6CNAtVMMM78xa', 'TyBqTTn6xko23meQ9UDw3Y', 'setGraph', 'eyJ0eXBlIjogInZlcnRleCIsICJwcm9wcyI6IHsic3JjIjogImNsYXNzIiwgImRzdCI6ICJfa2V5In19Cg==');</script>\n",
       "    "
      ],
      "text/plain": [
       "<IPython.core.display.HTML object>"
      ]
     },
     "metadata": {},
     "output_type": "display_data"
    },
    {
     "data": {
      "text/html": [
       "\n",
       "        <div id=\"hjm6pTZ5nZMDCyEattkoTg\"></div>\n",
       "        <script>netpixi.call('hjm6pTZ5nZMDCyEattkoTg', 'TyBqTTn6xko23meQ9UDw3Y', 'changeGraph', 'eyJpZCI6ICI2MTgiLCAidHlwZSI6ICJ2ZXJ0ZXgiLCAicHJvcHMiOiB7ImNvbG9yIjogNjUyODB9fQo=');</script>\n",
       "    "
      ],
      "text/plain": [
       "<IPython.core.display.HTML object>"
      ]
     },
     "metadata": {},
     "output_type": "display_data"
    },
    {
     "data": {
      "text/html": [
       "\n",
       "        <div id=\"b7SmiKXHnthPvu2AGeB9jZ\"></div>\n",
       "        <script>netpixi.call('b7SmiKXHnthPvu2AGeB9jZ', 'TyBqTTn6xko23meQ9UDw3Y', 'setGraph', 'eyJ0eXBlIjogInZlcnRleCIsICJwcm9wcyI6IHsic3JjIjogImNsYXNzIiwgImRzdCI6ICJfa2V5In19Cg==');</script>\n",
       "    "
      ],
      "text/plain": [
       "<IPython.core.display.HTML object>"
      ]
     },
     "metadata": {},
     "output_type": "display_data"
    },
    {
     "data": {
      "text/html": [
       "\n",
       "        <div id=\"Uf6h5cEpnXAuuWUTQojffM\"></div>\n",
       "        <script>netpixi.call('Uf6h5cEpnXAuuWUTQojffM', 'TyBqTTn6xko23meQ9UDw3Y', 'changeGraph', 'eyJpZCI6ICI4MDQiLCAidHlwZSI6ICJ2ZXJ0ZXgiLCAicHJvcHMiOiB7ImNvbG9yIjogNjk4OTkwM319Cg==');</script>\n",
       "    "
      ],
      "text/plain": [
       "<IPython.core.display.HTML object>"
      ]
     },
     "metadata": {},
     "output_type": "display_data"
    },
    {
     "data": {
      "text/html": [
       "\n",
       "        <div id=\"GUutfpakRHYrUNPTjsXDYM\"></div>\n",
       "        <script>netpixi.call('GUutfpakRHYrUNPTjsXDYM', 'TyBqTTn6xko23meQ9UDw3Y', 'setGraph', 'eyJ0eXBlIjogInZlcnRleCIsICJwcm9wcyI6IHsic3JjIjogImNsYXNzIiwgImRzdCI6ICJfa2V5In19Cg==');</script>\n",
       "    "
      ],
      "text/plain": [
       "<IPython.core.display.HTML object>"
      ]
     },
     "metadata": {},
     "output_type": "display_data"
    },
    {
     "data": {
      "text/html": [
       "\n",
       "        <div id=\"hRfdrSSLP47jqr9hLHHbFm\"></div>\n",
       "        <script>netpixi.call('hRfdrSSLP47jqr9hLHHbFm', 'TyBqTTn6xko23meQ9UDw3Y', 'changeGraph', 'eyJpZCI6ICI4MTciLCAidHlwZSI6ICJ2ZXJ0ZXgiLCAicHJvcHMiOiB7ImNvbG9yIjogNjk4OTkwM319Cg==');</script>\n",
       "    "
      ],
      "text/plain": [
       "<IPython.core.display.HTML object>"
      ]
     },
     "metadata": {},
     "output_type": "display_data"
    },
    {
     "data": {
      "text/html": [
       "\n",
       "        <div id=\"MQoYtw2QRDyqPgP8AvXSvZ\"></div>\n",
       "        <script>netpixi.call('MQoYtw2QRDyqPgP8AvXSvZ', 'TyBqTTn6xko23meQ9UDw3Y', 'setGraph', 'eyJ0eXBlIjogInZlcnRleCIsICJwcm9wcyI6IHsic3JjIjogImNsYXNzIiwgImRzdCI6ICJfa2V5In19Cg==');</script>\n",
       "    "
      ],
      "text/plain": [
       "<IPython.core.display.HTML object>"
      ]
     },
     "metadata": {},
     "output_type": "display_data"
    },
    {
     "data": {
      "text/html": [
       "\n",
       "        <div id=\"TEq9u9jMpkDYcoHWGDvfsj\"></div>\n",
       "        <script>netpixi.call('TEq9u9jMpkDYcoHWGDvfsj', 'TyBqTTn6xko23meQ9UDw3Y', 'changeGraph', 'eyJpZCI6ICI4ODMiLCAidHlwZSI6ICJ2ZXJ0ZXgiLCAicHJvcHMiOiB7ImNvbG9yIjogNjk4OTkwM319Cg==');</script>\n",
       "    "
      ],
      "text/plain": [
       "<IPython.core.display.HTML object>"
      ]
     },
     "metadata": {},
     "output_type": "display_data"
    },
    {
     "data": {
      "text/html": [
       "\n",
       "        <div id=\"Aj8dh8JJfnYpH3DhgYpqx8\"></div>\n",
       "        <script>netpixi.call('Aj8dh8JJfnYpH3DhgYpqx8', 'TyBqTTn6xko23meQ9UDw3Y', 'setGraph', 'eyJ0eXBlIjogInZlcnRleCIsICJwcm9wcyI6IHsic3JjIjogImNsYXNzIiwgImRzdCI6ICJfa2V5In19Cg==');</script>\n",
       "    "
      ],
      "text/plain": [
       "<IPython.core.display.HTML object>"
      ]
     },
     "metadata": {},
     "output_type": "display_data"
    },
    {
     "data": {
      "text/html": [
       "\n",
       "        <div id=\"V4wXwQtKqgbewkF9x7FYqd\"></div>\n",
       "        <script>netpixi.call('V4wXwQtKqgbewkF9x7FYqd', 'TyBqTTn6xko23meQ9UDw3Y', 'changeGraph', 'eyJpZCI6ICI4NzUiLCAidHlwZSI6ICJ2ZXJ0ZXgiLCAicHJvcHMiOiB7ImNvbG9yIjogNjk4OTkwM319Cg==');</script>\n",
       "    "
      ],
      "text/plain": [
       "<IPython.core.display.HTML object>"
      ]
     },
     "metadata": {},
     "output_type": "display_data"
    },
    {
     "data": {
      "text/html": [
       "\n",
       "        <div id=\"amFaJzwpT4xcU9wa8b4BAN\"></div>\n",
       "        <script>netpixi.call('amFaJzwpT4xcU9wa8b4BAN', 'TyBqTTn6xko23meQ9UDw3Y', 'setGraph', 'eyJ0eXBlIjogInZlcnRleCIsICJwcm9wcyI6IHsic3JjIjogImNsYXNzIiwgImRzdCI6ICJfa2V5In19Cg==');</script>\n",
       "    "
      ],
      "text/plain": [
       "<IPython.core.display.HTML object>"
      ]
     },
     "metadata": {},
     "output_type": "display_data"
    },
    {
     "data": {
      "text/html": [
       "\n",
       "        <div id=\"imoqeVLeq5WUByYGPo46Qa\"></div>\n",
       "        <script>netpixi.call('imoqeVLeq5WUByYGPo46Qa', 'TyBqTTn6xko23meQ9UDw3Y', 'changeGraph', 'eyJpZCI6ICI4ODAiLCAidHlwZSI6ICJ2ZXJ0ZXgiLCAicHJvcHMiOiB7ImNvbG9yIjogNjk4OTkwM319Cg==');</script>\n",
       "    "
      ],
      "text/plain": [
       "<IPython.core.display.HTML object>"
      ]
     },
     "metadata": {},
     "output_type": "display_data"
    },
    {
     "data": {
      "text/html": [
       "\n",
       "        <div id=\"f4fijmBEzZygNnXtwK9nJW\"></div>\n",
       "        <script>netpixi.call('f4fijmBEzZygNnXtwK9nJW', 'TyBqTTn6xko23meQ9UDw3Y', 'setGraph', 'eyJ0eXBlIjogInZlcnRleCIsICJwcm9wcyI6IHsic3JjIjogImNsYXNzIiwgImRzdCI6ICJfa2V5In19Cg==');</script>\n",
       "    "
      ],
      "text/plain": [
       "<IPython.core.display.HTML object>"
      ]
     },
     "metadata": {},
     "output_type": "display_data"
    },
    {
     "data": {
      "text/html": [
       "\n",
       "        <div id=\"NAY8S5dQ7PU5EN8qsAGaAq\"></div>\n",
       "        <script>netpixi.call('NAY8S5dQ7PU5EN8qsAGaAq', 'TyBqTTn6xko23meQ9UDw3Y', 'changeGraph', 'eyJpZCI6ICI4NjkiLCAidHlwZSI6ICJ2ZXJ0ZXgiLCAicHJvcHMiOiB7ImNvbG9yIjogMTUxMTA0NTZ9fQo=');</script>\n",
       "    "
      ],
      "text/plain": [
       "<IPython.core.display.HTML object>"
      ]
     },
     "metadata": {},
     "output_type": "display_data"
    },
    {
     "data": {
      "text/html": [
       "\n",
       "        <div id=\"StVLo5x5oBDjijMwTPafvd\"></div>\n",
       "        <script>netpixi.call('StVLo5x5oBDjijMwTPafvd', 'TyBqTTn6xko23meQ9UDw3Y', 'setGraph', 'eyJ0eXBlIjogInZlcnRleCIsICJwcm9wcyI6IHsic3JjIjogImNsYXNzIiwgImRzdCI6ICJfa2V5In19Cg==');</script>\n",
       "    "
      ],
      "text/plain": [
       "<IPython.core.display.HTML object>"
      ]
     },
     "metadata": {},
     "output_type": "display_data"
    },
    {
     "data": {
      "text/html": [
       "\n",
       "        <div id=\"2d9Sbo84jZRFfrvqTzwLHY\"></div>\n",
       "        <script>netpixi.call('2d9Sbo84jZRFfrvqTzwLHY', 'TyBqTTn6xko23meQ9UDw3Y', 'changeGraph', 'eyJpZCI6ICI4MDYiLCAidHlwZSI6ICJ2ZXJ0ZXgiLCAicHJvcHMiOiB7ImNvbG9yIjogNjk4OTkwM319Cg==');</script>\n",
       "    "
      ],
      "text/plain": [
       "<IPython.core.display.HTML object>"
      ]
     },
     "metadata": {},
     "output_type": "display_data"
    },
    {
     "data": {
      "text/html": [
       "\n",
       "        <div id=\"fzWGQzKECAYA85MCBdnGEJ\"></div>\n",
       "        <script>netpixi.call('fzWGQzKECAYA85MCBdnGEJ', 'TyBqTTn6xko23meQ9UDw3Y', 'setGraph', 'eyJ0eXBlIjogInZlcnRleCIsICJwcm9wcyI6IHsic3JjIjogImNsYXNzIiwgImRzdCI6ICJfa2V5In19Cg==');</script>\n",
       "    "
      ],
      "text/plain": [
       "<IPython.core.display.HTML object>"
      ]
     },
     "metadata": {},
     "output_type": "display_data"
    },
    {
     "data": {
      "text/html": [
       "\n",
       "        <div id=\"fbvyMi8pn9Hr8pzq4m4yRC\"></div>\n",
       "        <script>netpixi.call('fbvyMi8pn9Hr8pzq4m4yRC', 'TyBqTTn6xko23meQ9UDw3Y', 'changeGraph', 'eyJpZCI6ICI4MDciLCAidHlwZSI6ICJ2ZXJ0ZXgiLCAicHJvcHMiOiB7ImNvbG9yIjogNjk4OTkwM319Cg==');</script>\n",
       "    "
      ],
      "text/plain": [
       "<IPython.core.display.HTML object>"
      ]
     },
     "metadata": {},
     "output_type": "display_data"
    },
    {
     "data": {
      "text/html": [
       "\n",
       "        <div id=\"8URwbywvXc3fBdmo7EkMLo\"></div>\n",
       "        <script>netpixi.call('8URwbywvXc3fBdmo7EkMLo', 'TyBqTTn6xko23meQ9UDw3Y', 'setGraph', 'eyJ0eXBlIjogInZlcnRleCIsICJwcm9wcyI6IHsic3JjIjogImNsYXNzIiwgImRzdCI6ICJfa2V5In19Cg==');</script>\n",
       "    "
      ],
      "text/plain": [
       "<IPython.core.display.HTML object>"
      ]
     },
     "metadata": {},
     "output_type": "display_data"
    },
    {
     "data": {
      "text/html": [
       "\n",
       "        <div id=\"DzsE8sPm6fqjiaBYc8HLRZ\"></div>\n",
       "        <script>netpixi.call('DzsE8sPm6fqjiaBYc8HLRZ', 'TyBqTTn6xko23meQ9UDw3Y', 'changeGraph', 'eyJpZCI6ICI4OTciLCAidHlwZSI6ICJ2ZXJ0ZXgiLCAicHJvcHMiOiB7ImNvbG9yIjogNjk4OTkwM319Cg==');</script>\n",
       "    "
      ],
      "text/plain": [
       "<IPython.core.display.HTML object>"
      ]
     },
     "metadata": {},
     "output_type": "display_data"
    },
    {
     "data": {
      "text/html": [
       "\n",
       "        <div id=\"exTjdzfLya5k4rGwQ955hy\"></div>\n",
       "        <script>netpixi.call('exTjdzfLya5k4rGwQ955hy', 'TyBqTTn6xko23meQ9UDw3Y', 'setGraph', 'eyJ0eXBlIjogInZlcnRleCIsICJwcm9wcyI6IHsic3JjIjogImNsYXNzIiwgImRzdCI6ICJfa2V5In19Cg==');</script>\n",
       "    "
      ],
      "text/plain": [
       "<IPython.core.display.HTML object>"
      ]
     },
     "metadata": {},
     "output_type": "display_data"
    },
    {
     "data": {
      "text/html": [
       "\n",
       "        <div id=\"Jwayddund48sq4srcMH9Ws\"></div>\n",
       "        <script>netpixi.call('Jwayddund48sq4srcMH9Ws', 'TyBqTTn6xko23meQ9UDw3Y', 'changeGraph', 'eyJpZCI6ICI4NjMiLCAidHlwZSI6ICJ2ZXJ0ZXgiLCAicHJvcHMiOiB7ImNvbG9yIjogMTUxMTA0NTZ9fQo=');</script>\n",
       "    "
      ],
      "text/plain": [
       "<IPython.core.display.HTML object>"
      ]
     },
     "metadata": {},
     "output_type": "display_data"
    },
    {
     "data": {
      "text/html": [
       "\n",
       "        <div id=\"97X3oc53YeQXbZVYhC3BiP\"></div>\n",
       "        <script>netpixi.call('97X3oc53YeQXbZVYhC3BiP', 'TyBqTTn6xko23meQ9UDw3Y', 'setGraph', 'eyJ0eXBlIjogInZlcnRleCIsICJwcm9wcyI6IHsic3JjIjogImNsYXNzIiwgImRzdCI6ICJfa2V5In19Cg==');</script>\n",
       "    "
      ],
      "text/plain": [
       "<IPython.core.display.HTML object>"
      ]
     },
     "metadata": {},
     "output_type": "display_data"
    },
    {
     "data": {
      "text/html": [
       "\n",
       "        <div id=\"VyaSNbrCntDuq5uzfVwyS8\"></div>\n",
       "        <script>netpixi.call('VyaSNbrCntDuq5uzfVwyS8', 'TyBqTTn6xko23meQ9UDw3Y', 'changeGraph', 'eyJpZCI6ICI2ODEiLCAidHlwZSI6ICJ2ZXJ0ZXgiLCAicHJvcHMiOiB7ImNvbG9yIjogNjUyODB9fQo=');</script>\n",
       "    "
      ],
      "text/plain": [
       "<IPython.core.display.HTML object>"
      ]
     },
     "metadata": {},
     "output_type": "display_data"
    },
    {
     "data": {
      "text/html": [
       "\n",
       "        <div id=\"VoRPmTnkKWCEhLD7rGE57a\"></div>\n",
       "        <script>netpixi.call('VoRPmTnkKWCEhLD7rGE57a', 'TyBqTTn6xko23meQ9UDw3Y', 'setGraph', 'eyJ0eXBlIjogInZlcnRleCIsICJwcm9wcyI6IHsic3JjIjogImNsYXNzIiwgImRzdCI6ICJfa2V5In19Cg==');</script>\n",
       "    "
      ],
      "text/plain": [
       "<IPython.core.display.HTML object>"
      ]
     },
     "metadata": {},
     "output_type": "display_data"
    },
    {
     "data": {
      "text/html": [
       "\n",
       "        <div id=\"T9hBMujiEYozCGrYCjf7BW\"></div>\n",
       "        <script>netpixi.call('T9hBMujiEYozCGrYCjf7BW', 'TyBqTTn6xko23meQ9UDw3Y', 'changeGraph', 'eyJpZCI6ICI4MTkiLCAidHlwZSI6ICJ2ZXJ0ZXgiLCAicHJvcHMiOiB7ImNvbG9yIjogNjk4OTkwM319Cg==');</script>\n",
       "    "
      ],
      "text/plain": [
       "<IPython.core.display.HTML object>"
      ]
     },
     "metadata": {},
     "output_type": "display_data"
    },
    {
     "data": {
      "text/html": [
       "\n",
       "        <div id=\"MU9P9USNNXwi76tWxshccG\"></div>\n",
       "        <script>netpixi.call('MU9P9USNNXwi76tWxshccG', 'TyBqTTn6xko23meQ9UDw3Y', 'setGraph', 'eyJ0eXBlIjogInZlcnRleCIsICJwcm9wcyI6IHsic3JjIjogImNsYXNzIiwgImRzdCI6ICJfa2V5In19Cg==');</script>\n",
       "    "
      ],
      "text/plain": [
       "<IPython.core.display.HTML object>"
      ]
     },
     "metadata": {},
     "output_type": "display_data"
    },
    {
     "data": {
      "text/html": [
       "\n",
       "        <div id=\"6smsDPwDcUQeAdaFTDBkWz\"></div>\n",
       "        <script>netpixi.call('6smsDPwDcUQeAdaFTDBkWz', 'TyBqTTn6xko23meQ9UDw3Y', 'changeGraph', 'eyJpZCI6ICI4MjgiLCAidHlwZSI6ICJ2ZXJ0ZXgiLCAicHJvcHMiOiB7ImNvbG9yIjogMTUxMTA0NTZ9fQo=');</script>\n",
       "    "
      ],
      "text/plain": [
       "<IPython.core.display.HTML object>"
      ]
     },
     "metadata": {},
     "output_type": "display_data"
    },
    {
     "data": {
      "text/html": [
       "\n",
       "        <div id=\"4ow7c6JJTM2wLAUetarX43\"></div>\n",
       "        <script>netpixi.call('4ow7c6JJTM2wLAUetarX43', 'TyBqTTn6xko23meQ9UDw3Y', 'setGraph', 'eyJ0eXBlIjogInZlcnRleCIsICJwcm9wcyI6IHsic3JjIjogImNsYXNzIiwgImRzdCI6ICJfa2V5In19Cg==');</script>\n",
       "    "
      ],
      "text/plain": [
       "<IPython.core.display.HTML object>"
      ]
     },
     "metadata": {},
     "output_type": "display_data"
    },
    {
     "data": {
      "text/html": [
       "\n",
       "        <div id=\"AFXzKV9WyGLDFprXX2wFHs\"></div>\n",
       "        <script>netpixi.call('AFXzKV9WyGLDFprXX2wFHs', 'TyBqTTn6xko23meQ9UDw3Y', 'changeGraph', 'eyJpZCI6ICI2MjgiLCAidHlwZSI6ICJ2ZXJ0ZXgiLCAicHJvcHMiOiB7ImNvbG9yIjogNjUyODB9fQo=');</script>\n",
       "    "
      ],
      "text/plain": [
       "<IPython.core.display.HTML object>"
      ]
     },
     "metadata": {},
     "output_type": "display_data"
    },
    {
     "data": {
      "text/html": [
       "\n",
       "        <div id=\"dL2fBR4aMZUk2pvSE9UbH5\"></div>\n",
       "        <script>netpixi.call('dL2fBR4aMZUk2pvSE9UbH5', 'TyBqTTn6xko23meQ9UDw3Y', 'setGraph', 'eyJ0eXBlIjogInZlcnRleCIsICJwcm9wcyI6IHsic3JjIjogImNsYXNzIiwgImRzdCI6ICJfa2V5In19Cg==');</script>\n",
       "    "
      ],
      "text/plain": [
       "<IPython.core.display.HTML object>"
      ]
     },
     "metadata": {},
     "output_type": "display_data"
    },
    {
     "data": {
      "text/html": [
       "\n",
       "        <div id=\"nGZ97v7DT2HJ4R8YeFfJqE\"></div>\n",
       "        <script>netpixi.call('nGZ97v7DT2HJ4R8YeFfJqE', 'TyBqTTn6xko23meQ9UDw3Y', 'changeGraph', 'eyJpZCI6ICI4MjQiLCAidHlwZSI6ICJ2ZXJ0ZXgiLCAicHJvcHMiOiB7ImNvbG9yIjogNjk4OTkwM319Cg==');</script>\n",
       "    "
      ],
      "text/plain": [
       "<IPython.core.display.HTML object>"
      ]
     },
     "metadata": {},
     "output_type": "display_data"
    },
    {
     "data": {
      "text/html": [
       "\n",
       "        <div id=\"VkhY9BYmfw4LYqPVzwgf6W\"></div>\n",
       "        <script>netpixi.call('VkhY9BYmfw4LYqPVzwgf6W', 'TyBqTTn6xko23meQ9UDw3Y', 'setGraph', 'eyJ0eXBlIjogInZlcnRleCIsICJwcm9wcyI6IHsic3JjIjogImNsYXNzIiwgImRzdCI6ICJfa2V5In19Cg==');</script>\n",
       "    "
      ],
      "text/plain": [
       "<IPython.core.display.HTML object>"
      ]
     },
     "metadata": {},
     "output_type": "display_data"
    },
    {
     "data": {
      "text/html": [
       "\n",
       "        <div id=\"WruEZfKfQFcw2BEFLbGMRK\"></div>\n",
       "        <script>netpixi.call('WruEZfKfQFcw2BEFLbGMRK', 'TyBqTTn6xko23meQ9UDw3Y', 'changeGraph', 'eyJpZCI6ICI4MjIiLCAidHlwZSI6ICJ2ZXJ0ZXgiLCAicHJvcHMiOiB7ImNvbG9yIjogNjk4OTkwM319Cg==');</script>\n",
       "    "
      ],
      "text/plain": [
       "<IPython.core.display.HTML object>"
      ]
     },
     "metadata": {},
     "output_type": "display_data"
    },
    {
     "data": {
      "text/html": [
       "\n",
       "        <div id=\"XbfrX7EsZt7huQzbQrhpGz\"></div>\n",
       "        <script>netpixi.call('XbfrX7EsZt7huQzbQrhpGz', 'TyBqTTn6xko23meQ9UDw3Y', 'setGraph', 'eyJ0eXBlIjogInZlcnRleCIsICJwcm9wcyI6IHsic3JjIjogImNsYXNzIiwgImRzdCI6ICJfa2V5In19Cg==');</script>\n",
       "    "
      ],
      "text/plain": [
       "<IPython.core.display.HTML object>"
      ]
     },
     "metadata": {},
     "output_type": "display_data"
    },
    {
     "data": {
      "text/html": [
       "\n",
       "        <div id=\"FC5DovxPzTJQrVj9S95bps\"></div>\n",
       "        <script>netpixi.call('FC5DovxPzTJQrVj9S95bps', 'TyBqTTn6xko23meQ9UDw3Y', 'changeGraph', 'eyJpZCI6ICI4NDUiLCAidHlwZSI6ICJ2ZXJ0ZXgiLCAicHJvcHMiOiB7ImNvbG9yIjogMTUxMTA0NTZ9fQo=');</script>\n",
       "    "
      ],
      "text/plain": [
       "<IPython.core.display.HTML object>"
      ]
     },
     "metadata": {},
     "output_type": "display_data"
    },
    {
     "data": {
      "text/html": [
       "\n",
       "        <div id=\"QakDqfNjiGWAfjYAjZLkE2\"></div>\n",
       "        <script>netpixi.call('QakDqfNjiGWAfjYAjZLkE2', 'TyBqTTn6xko23meQ9UDw3Y', 'setGraph', 'eyJ0eXBlIjogInZlcnRleCIsICJwcm9wcyI6IHsic3JjIjogImNsYXNzIiwgImRzdCI6ICJfa2V5In19Cg==');</script>\n",
       "    "
      ],
      "text/plain": [
       "<IPython.core.display.HTML object>"
      ]
     },
     "metadata": {},
     "output_type": "display_data"
    },
    {
     "data": {
      "text/html": [
       "\n",
       "        <div id=\"4PXm6tYtfN8J6xgqXqB767\"></div>\n",
       "        <script>netpixi.call('4PXm6tYtfN8J6xgqXqB767', 'TyBqTTn6xko23meQ9UDw3Y', 'changeGraph', 'eyJpZCI6ICI2NzYiLCAidHlwZSI6ICJ2ZXJ0ZXgiLCAicHJvcHMiOiB7ImNvbG9yIjogMTUxMTA0NTZ9fQo=');</script>\n",
       "    "
      ],
      "text/plain": [
       "<IPython.core.display.HTML object>"
      ]
     },
     "metadata": {},
     "output_type": "display_data"
    },
    {
     "data": {
      "text/html": [
       "\n",
       "        <div id=\"DS9usBYdb4yQsSo4hjY3fy\"></div>\n",
       "        <script>netpixi.call('DS9usBYdb4yQsSo4hjY3fy', 'TyBqTTn6xko23meQ9UDw3Y', 'setGraph', 'eyJ0eXBlIjogInZlcnRleCIsICJwcm9wcyI6IHsic3JjIjogImNsYXNzIiwgImRzdCI6ICJfa2V5In19Cg==');</script>\n",
       "    "
      ],
      "text/plain": [
       "<IPython.core.display.HTML object>"
      ]
     },
     "metadata": {},
     "output_type": "display_data"
    },
    {
     "data": {
      "text/html": [
       "\n",
       "        <div id=\"hv7D2TRecaEzu8kDQspztx\"></div>\n",
       "        <script>netpixi.call('hv7D2TRecaEzu8kDQspztx', 'TyBqTTn6xko23meQ9UDw3Y', 'changeGraph', 'eyJpZCI6ICI4NjIiLCAidHlwZSI6ICJ2ZXJ0ZXgiLCAicHJvcHMiOiB7ImNvbG9yIjogMTUxMTA0NTZ9fQo=');</script>\n",
       "    "
      ],
      "text/plain": [
       "<IPython.core.display.HTML object>"
      ]
     },
     "metadata": {},
     "output_type": "display_data"
    },
    {
     "data": {
      "text/html": [
       "\n",
       "        <div id=\"ZYzYfrCTaTZnPV69qZt9Qs\"></div>\n",
       "        <script>netpixi.call('ZYzYfrCTaTZnPV69qZt9Qs', 'TyBqTTn6xko23meQ9UDw3Y', 'setGraph', 'eyJ0eXBlIjogInZlcnRleCIsICJwcm9wcyI6IHsic3JjIjogImNsYXNzIiwgImRzdCI6ICJfa2V5In19Cg==');</script>\n",
       "    "
      ],
      "text/plain": [
       "<IPython.core.display.HTML object>"
      ]
     },
     "metadata": {},
     "output_type": "display_data"
    },
    {
     "data": {
      "text/html": [
       "\n",
       "        <div id=\"SgaHh5QqReicfBfhXpHb4q\"></div>\n",
       "        <script>netpixi.call('SgaHh5QqReicfBfhXpHb4q', 'TyBqTTn6xko23meQ9UDw3Y', 'changeGraph', 'eyJpZCI6ICIxNjI4IiwgInR5cGUiOiAidmVydGV4IiwgInByb3BzIjogeyJjb2xvciI6IDE2NzY2NzIwfX0K');</script>\n",
       "    "
      ],
      "text/plain": [
       "<IPython.core.display.HTML object>"
      ]
     },
     "metadata": {},
     "output_type": "display_data"
    },
    {
     "data": {
      "text/html": [
       "\n",
       "        <div id=\"F7z9XS9aaN8JC6hGHWX7H9\"></div>\n",
       "        <script>netpixi.call('F7z9XS9aaN8JC6hGHWX7H9', 'TyBqTTn6xko23meQ9UDw3Y', 'setGraph', 'eyJ0eXBlIjogInZlcnRleCIsICJwcm9wcyI6IHsic3JjIjogImNsYXNzIiwgImRzdCI6ICJfa2V5In19Cg==');</script>\n",
       "    "
      ],
      "text/plain": [
       "<IPython.core.display.HTML object>"
      ]
     },
     "metadata": {},
     "output_type": "display_data"
    },
    {
     "data": {
      "text/html": [
       "\n",
       "        <div id=\"AEuN24WUcwirZp9KpCAVCN\"></div>\n",
       "        <script>netpixi.call('AEuN24WUcwirZp9KpCAVCN', 'TyBqTTn6xko23meQ9UDw3Y', 'changeGraph', 'eyJpZCI6ICI4MzgiLCAidHlwZSI6ICJ2ZXJ0ZXgiLCAicHJvcHMiOiB7ImNvbG9yIjogMTUxMTA0NTZ9fQo=');</script>\n",
       "    "
      ],
      "text/plain": [
       "<IPython.core.display.HTML object>"
      ]
     },
     "metadata": {},
     "output_type": "display_data"
    },
    {
     "data": {
      "text/html": [
       "\n",
       "        <div id=\"NdQwP7ocwNkpcHJbR9ZWRd\"></div>\n",
       "        <script>netpixi.call('NdQwP7ocwNkpcHJbR9ZWRd', 'TyBqTTn6xko23meQ9UDw3Y', 'setGraph', 'eyJ0eXBlIjogInZlcnRleCIsICJwcm9wcyI6IHsic3JjIjogImNsYXNzIiwgImRzdCI6ICJfa2V5In19Cg==');</script>\n",
       "    "
      ],
      "text/plain": [
       "<IPython.core.display.HTML object>"
      ]
     },
     "metadata": {},
     "output_type": "display_data"
    },
    {
     "data": {
      "text/html": [
       "\n",
       "        <div id=\"ciDbZW92YkwqG7w75MyMYi\"></div>\n",
       "        <script>netpixi.call('ciDbZW92YkwqG7w75MyMYi', 'TyBqTTn6xko23meQ9UDw3Y', 'changeGraph', 'eyJpZCI6ICI4NTIiLCAidHlwZSI6ICJ2ZXJ0ZXgiLCAicHJvcHMiOiB7ImNvbG9yIjogMTUxMTA0NTZ9fQo=');</script>\n",
       "    "
      ],
      "text/plain": [
       "<IPython.core.display.HTML object>"
      ]
     },
     "metadata": {},
     "output_type": "display_data"
    },
    {
     "data": {
      "text/html": [
       "\n",
       "        <div id=\"PbA6gxmJ8oXvBYHH47ZJGW\"></div>\n",
       "        <script>netpixi.call('PbA6gxmJ8oXvBYHH47ZJGW', 'TyBqTTn6xko23meQ9UDw3Y', 'setGraph', 'eyJ0eXBlIjogInZlcnRleCIsICJwcm9wcyI6IHsic3JjIjogImNsYXNzIiwgImRzdCI6ICJfa2V5In19Cg==');</script>\n",
       "    "
      ],
      "text/plain": [
       "<IPython.core.display.HTML object>"
      ]
     },
     "metadata": {},
     "output_type": "display_data"
    },
    {
     "data": {
      "text/html": [
       "\n",
       "        <div id=\"QA2LLJbZxMmkQ8aGLqhpxG\"></div>\n",
       "        <script>netpixi.call('QA2LLJbZxMmkQ8aGLqhpxG', 'TyBqTTn6xko23meQ9UDw3Y', 'changeGraph', 'eyJpZCI6ICI2MjciLCAidHlwZSI6ICJ2ZXJ0ZXgiLCAicHJvcHMiOiB7ImNvbG9yIjogNjUyODB9fQo=');</script>\n",
       "    "
      ],
      "text/plain": [
       "<IPython.core.display.HTML object>"
      ]
     },
     "metadata": {},
     "output_type": "display_data"
    },
    {
     "data": {
      "text/html": [
       "\n",
       "        <div id=\"HwzGWMumTTCQ9ne8ox4kA8\"></div>\n",
       "        <script>netpixi.call('HwzGWMumTTCQ9ne8ox4kA8', 'TyBqTTn6xko23meQ9UDw3Y', 'setGraph', 'eyJ0eXBlIjogInZlcnRleCIsICJwcm9wcyI6IHsic3JjIjogImNsYXNzIiwgImRzdCI6ICJfa2V5In19Cg==');</script>\n",
       "    "
      ],
      "text/plain": [
       "<IPython.core.display.HTML object>"
      ]
     },
     "metadata": {},
     "output_type": "display_data"
    },
    {
     "data": {
      "text/html": [
       "\n",
       "        <div id=\"jG4BMddwrGrEA2xhDm8JNG\"></div>\n",
       "        <script>netpixi.call('jG4BMddwrGrEA2xhDm8JNG', 'TyBqTTn6xko23meQ9UDw3Y', 'changeGraph', 'eyJpZCI6ICI2MzUiLCAidHlwZSI6ICJ2ZXJ0ZXgiLCAicHJvcHMiOiB7ImNvbG9yIjogNjUyODB9fQo=');</script>\n",
       "    "
      ],
      "text/plain": [
       "<IPython.core.display.HTML object>"
      ]
     },
     "metadata": {},
     "output_type": "display_data"
    },
    {
     "data": {
      "text/html": [
       "\n",
       "        <div id=\"UQxVJPEjrxZB4EfEzpfnrr\"></div>\n",
       "        <script>netpixi.call('UQxVJPEjrxZB4EfEzpfnrr', 'TyBqTTn6xko23meQ9UDw3Y', 'setGraph', 'eyJ0eXBlIjogInZlcnRleCIsICJwcm9wcyI6IHsic3JjIjogImNsYXNzIiwgImRzdCI6ICJfa2V5In19Cg==');</script>\n",
       "    "
      ],
      "text/plain": [
       "<IPython.core.display.HTML object>"
      ]
     },
     "metadata": {},
     "output_type": "display_data"
    },
    {
     "data": {
      "text/html": [
       "\n",
       "        <div id=\"m4vB4zuUv3Sj93M9wesEg8\"></div>\n",
       "        <script>netpixi.call('m4vB4zuUv3Sj93M9wesEg8', 'TyBqTTn6xko23meQ9UDw3Y', 'changeGraph', 'eyJpZCI6ICI4OTgiLCAidHlwZSI6ICJ2ZXJ0ZXgiLCAicHJvcHMiOiB7ImNvbG9yIjogNjk4OTkwM319Cg==');</script>\n",
       "    "
      ],
      "text/plain": [
       "<IPython.core.display.HTML object>"
      ]
     },
     "metadata": {},
     "output_type": "display_data"
    },
    {
     "data": {
      "text/html": [
       "\n",
       "        <div id=\"AaM5zzT9rvxiivYhcWHnv9\"></div>\n",
       "        <script>netpixi.call('AaM5zzT9rvxiivYhcWHnv9', 'TyBqTTn6xko23meQ9UDw3Y', 'setGraph', 'eyJ0eXBlIjogInZlcnRleCIsICJwcm9wcyI6IHsic3JjIjogImNsYXNzIiwgImRzdCI6ICJfa2V5In19Cg==');</script>\n",
       "    "
      ],
      "text/plain": [
       "<IPython.core.display.HTML object>"
      ]
     },
     "metadata": {},
     "output_type": "display_data"
    },
    {
     "data": {
      "text/html": [
       "\n",
       "        <div id=\"PmaUKNZk6XbkNeJ2RkAmrQ\"></div>\n",
       "        <script>netpixi.call('PmaUKNZk6XbkNeJ2RkAmrQ', 'TyBqTTn6xko23meQ9UDw3Y', 'changeGraph', 'eyJpZCI6ICI2MTIiLCAidHlwZSI6ICJ2ZXJ0ZXgiLCAicHJvcHMiOiB7ImNvbG9yIjogMTAwNDAyMTd9fQo=');</script>\n",
       "    "
      ],
      "text/plain": [
       "<IPython.core.display.HTML object>"
      ]
     },
     "metadata": {},
     "output_type": "display_data"
    },
    {
     "data": {
      "text/html": [
       "\n",
       "        <div id=\"D8W5k9rsaJkpXSQHX9iyoU\"></div>\n",
       "        <script>netpixi.call('D8W5k9rsaJkpXSQHX9iyoU', 'TyBqTTn6xko23meQ9UDw3Y', 'setGraph', 'eyJ0eXBlIjogInZlcnRleCIsICJwcm9wcyI6IHsic3JjIjogImNsYXNzIiwgImRzdCI6ICJfa2V5In19Cg==');</script>\n",
       "    "
      ],
      "text/plain": [
       "<IPython.core.display.HTML object>"
      ]
     },
     "metadata": {},
     "output_type": "display_data"
    },
    {
     "data": {
      "text/html": [
       "\n",
       "        <div id=\"n2xRwJ8hLxxjnMXMVJygpb\"></div>\n",
       "        <script>netpixi.call('n2xRwJ8hLxxjnMXMVJygpb', 'TyBqTTn6xko23meQ9UDw3Y', 'changeGraph', 'eyJpZCI6ICI2NDEiLCAidHlwZSI6ICJ2ZXJ0ZXgiLCAicHJvcHMiOiB7ImNvbG9yIjogMTAwNDAyMTd9fQo=');</script>\n",
       "    "
      ],
      "text/plain": [
       "<IPython.core.display.HTML object>"
      ]
     },
     "metadata": {},
     "output_type": "display_data"
    },
    {
     "data": {
      "text/html": [
       "\n",
       "        <div id=\"n9V5ZCJTcQp4iLAe7ii8XF\"></div>\n",
       "        <script>netpixi.call('n9V5ZCJTcQp4iLAe7ii8XF', 'TyBqTTn6xko23meQ9UDw3Y', 'setGraph', 'eyJ0eXBlIjogInZlcnRleCIsICJwcm9wcyI6IHsic3JjIjogImNsYXNzIiwgImRzdCI6ICJfa2V5In19Cg==');</script>\n",
       "    "
      ],
      "text/plain": [
       "<IPython.core.display.HTML object>"
      ]
     },
     "metadata": {},
     "output_type": "display_data"
    },
    {
     "data": {
      "text/html": [
       "\n",
       "        <div id=\"D3jm9LByyUsXtajG9mcoek\"></div>\n",
       "        <script>netpixi.call('D3jm9LByyUsXtajG9mcoek', 'TyBqTTn6xko23meQ9UDw3Y', 'changeGraph', 'eyJpZCI6ICI2OTkiLCAidHlwZSI6ICJ2ZXJ0ZXgiLCAicHJvcHMiOiB7ImNvbG9yIjogMTAwNDAyMTd9fQo=');</script>\n",
       "    "
      ],
      "text/plain": [
       "<IPython.core.display.HTML object>"
      ]
     },
     "metadata": {},
     "output_type": "display_data"
    },
    {
     "data": {
      "text/html": [
       "\n",
       "        <div id=\"7FuLrCh7TjbeHxD3rLWrbZ\"></div>\n",
       "        <script>netpixi.call('7FuLrCh7TjbeHxD3rLWrbZ', 'TyBqTTn6xko23meQ9UDw3Y', 'setGraph', 'eyJ0eXBlIjogInZlcnRleCIsICJwcm9wcyI6IHsic3JjIjogImNsYXNzIiwgImRzdCI6ICJfa2V5In19Cg==');</script>\n",
       "    "
      ],
      "text/plain": [
       "<IPython.core.display.HTML object>"
      ]
     },
     "metadata": {},
     "output_type": "display_data"
    },
    {
     "data": {
      "text/html": [
       "\n",
       "        <div id=\"HbfsBoFjxxgHNbPWuDW2Tq\"></div>\n",
       "        <script>netpixi.call('HbfsBoFjxxgHNbPWuDW2Tq', 'TyBqTTn6xko23meQ9UDw3Y', 'changeGraph', 'eyJpZCI6ICI2MjAiLCAidHlwZSI6ICJ2ZXJ0ZXgiLCAicHJvcHMiOiB7ImNvbG9yIjogMTAwNDAyMTd9fQo=');</script>\n",
       "    "
      ],
      "text/plain": [
       "<IPython.core.display.HTML object>"
      ]
     },
     "metadata": {},
     "output_type": "display_data"
    },
    {
     "data": {
      "text/html": [
       "\n",
       "        <div id=\"KZZHftwwP3X36nDbQKiHeq\"></div>\n",
       "        <script>netpixi.call('KZZHftwwP3X36nDbQKiHeq', 'TyBqTTn6xko23meQ9UDw3Y', 'setGraph', 'eyJ0eXBlIjogInZlcnRleCIsICJwcm9wcyI6IHsic3JjIjogImNsYXNzIiwgImRzdCI6ICJfa2V5In19Cg==');</script>\n",
       "    "
      ],
      "text/plain": [
       "<IPython.core.display.HTML object>"
      ]
     },
     "metadata": {},
     "output_type": "display_data"
    },
    {
     "data": {
      "text/html": [
       "\n",
       "        <div id=\"fGimjg6LsRkbqDTYbQKq9D\"></div>\n",
       "        <script>netpixi.call('fGimjg6LsRkbqDTYbQKq9D', 'TyBqTTn6xko23meQ9UDw3Y', 'changeGraph', 'eyJpZCI6ICI4MjciLCAidHlwZSI6ICJ2ZXJ0ZXgiLCAicHJvcHMiOiB7ImNvbG9yIjogMTUxMTA0NTZ9fQo=');</script>\n",
       "    "
      ],
      "text/plain": [
       "<IPython.core.display.HTML object>"
      ]
     },
     "metadata": {},
     "output_type": "display_data"
    },
    {
     "data": {
      "text/html": [
       "\n",
       "        <div id=\"5Hvj6MTANL7v8qGcvCNopF\"></div>\n",
       "        <script>netpixi.call('5Hvj6MTANL7v8qGcvCNopF', 'TyBqTTn6xko23meQ9UDw3Y', 'setGraph', 'eyJ0eXBlIjogInZlcnRleCIsICJwcm9wcyI6IHsic3JjIjogImNsYXNzIiwgImRzdCI6ICJfa2V5In19Cg==');</script>\n",
       "    "
      ],
      "text/plain": [
       "<IPython.core.display.HTML object>"
      ]
     },
     "metadata": {},
     "output_type": "display_data"
    },
    {
     "data": {
      "text/html": [
       "\n",
       "        <div id=\"iBsLJFBnQ4EkmCCXNKd2fp\"></div>\n",
       "        <script>netpixi.call('iBsLJFBnQ4EkmCCXNKd2fp', 'TyBqTTn6xko23meQ9UDw3Y', 'changeGraph', 'eyJpZCI6ICI2NzQiLCAidHlwZSI6ICJ2ZXJ0ZXgiLCAicHJvcHMiOiB7ImNvbG9yIjogMTAwNDAyMTd9fQo=');</script>\n",
       "    "
      ],
      "text/plain": [
       "<IPython.core.display.HTML object>"
      ]
     },
     "metadata": {},
     "output_type": "display_data"
    },
    {
     "data": {
      "text/html": [
       "\n",
       "        <div id=\"FRt4e5pRjmMp6ZqcJnUbVw\"></div>\n",
       "        <script>netpixi.call('FRt4e5pRjmMp6ZqcJnUbVw', 'TyBqTTn6xko23meQ9UDw3Y', 'setGraph', 'eyJ0eXBlIjogInZlcnRleCIsICJwcm9wcyI6IHsic3JjIjogImNsYXNzIiwgImRzdCI6ICJfa2V5In19Cg==');</script>\n",
       "    "
      ],
      "text/plain": [
       "<IPython.core.display.HTML object>"
      ]
     },
     "metadata": {},
     "output_type": "display_data"
    },
    {
     "data": {
      "text/html": [
       "\n",
       "        <div id=\"kSxSpGrJ3YMkiN7SwJUppj\"></div>\n",
       "        <script>netpixi.call('kSxSpGrJ3YMkiN7SwJUppj', 'TyBqTTn6xko23meQ9UDw3Y', 'changeGraph', 'eyJpZCI6ICI2MjIiLCAidHlwZSI6ICJ2ZXJ0ZXgiLCAicHJvcHMiOiB7ImNvbG9yIjogMTAwNDAyMTd9fQo=');</script>\n",
       "    "
      ],
      "text/plain": [
       "<IPython.core.display.HTML object>"
      ]
     },
     "metadata": {},
     "output_type": "display_data"
    },
    {
     "data": {
      "text/html": [
       "\n",
       "        <div id=\"WR2brH4SmBuiN869FyuUYD\"></div>\n",
       "        <script>netpixi.call('WR2brH4SmBuiN869FyuUYD', 'TyBqTTn6xko23meQ9UDw3Y', 'setGraph', 'eyJ0eXBlIjogInZlcnRleCIsICJwcm9wcyI6IHsic3JjIjogImNsYXNzIiwgImRzdCI6ICJfa2V5In19Cg==');</script>\n",
       "    "
      ],
      "text/plain": [
       "<IPython.core.display.HTML object>"
      ]
     },
     "metadata": {},
     "output_type": "display_data"
    },
    {
     "data": {
      "text/html": [
       "\n",
       "        <div id=\"5L43SqtYBLSRvU2HwoRo3h\"></div>\n",
       "        <script>netpixi.call('5L43SqtYBLSRvU2HwoRo3h', 'TyBqTTn6xko23meQ9UDw3Y', 'changeGraph', 'eyJpZCI6ICI2OTUiLCAidHlwZSI6ICJ2ZXJ0ZXgiLCAicHJvcHMiOiB7ImNvbG9yIjogMTAwNDAyMTd9fQo=');</script>\n",
       "    "
      ],
      "text/plain": [
       "<IPython.core.display.HTML object>"
      ]
     },
     "metadata": {},
     "output_type": "display_data"
    },
    {
     "data": {
      "text/html": [
       "\n",
       "        <div id=\"J4gXSWT6ZoTpGhjfUiPGa4\"></div>\n",
       "        <script>netpixi.call('J4gXSWT6ZoTpGhjfUiPGa4', 'TyBqTTn6xko23meQ9UDw3Y', 'setGraph', 'eyJ0eXBlIjogInZlcnRleCIsICJwcm9wcyI6IHsic3JjIjogImNsYXNzIiwgImRzdCI6ICJfa2V5In19Cg==');</script>\n",
       "    "
      ],
      "text/plain": [
       "<IPython.core.display.HTML object>"
      ]
     },
     "metadata": {},
     "output_type": "display_data"
    },
    {
     "data": {
      "text/html": [
       "\n",
       "        <div id=\"iX45oZDJpZdNu5PpevAoGE\"></div>\n",
       "        <script>netpixi.call('iX45oZDJpZdNu5PpevAoGE', 'TyBqTTn6xko23meQ9UDw3Y', 'changeGraph', 'eyJpZCI6ICI2ODUiLCAidHlwZSI6ICJ2ZXJ0ZXgiLCAicHJvcHMiOiB7ImNvbG9yIjogMTAwNDAyMTd9fQo=');</script>\n",
       "    "
      ],
      "text/plain": [
       "<IPython.core.display.HTML object>"
      ]
     },
     "metadata": {},
     "output_type": "display_data"
    },
    {
     "data": {
      "text/html": [
       "\n",
       "        <div id=\"bsq5dWKXRJFd33sXobLUsQ\"></div>\n",
       "        <script>netpixi.call('bsq5dWKXRJFd33sXobLUsQ', 'TyBqTTn6xko23meQ9UDw3Y', 'setGraph', 'eyJ0eXBlIjogInZlcnRleCIsICJwcm9wcyI6IHsic3JjIjogImNsYXNzIiwgImRzdCI6ICJfa2V5In19Cg==');</script>\n",
       "    "
      ],
      "text/plain": [
       "<IPython.core.display.HTML object>"
      ]
     },
     "metadata": {},
     "output_type": "display_data"
    },
    {
     "data": {
      "text/html": [
       "\n",
       "        <div id=\"b9Fcuyw8GrYUwPbuuyMumY\"></div>\n",
       "        <script>netpixi.call('b9Fcuyw8GrYUwPbuuyMumY', 'TyBqTTn6xko23meQ9UDw3Y', 'changeGraph', 'eyJpZCI6ICI2ODQiLCAidHlwZSI6ICJ2ZXJ0ZXgiLCAicHJvcHMiOiB7ImNvbG9yIjogMTAwNDAyMTd9fQo=');</script>\n",
       "    "
      ],
      "text/plain": [
       "<IPython.core.display.HTML object>"
      ]
     },
     "metadata": {},
     "output_type": "display_data"
    },
    {
     "data": {
      "text/html": [
       "\n",
       "        <div id=\"7CjExfyyZ4RhPS3Fb4qYNB\"></div>\n",
       "        <script>netpixi.call('7CjExfyyZ4RhPS3Fb4qYNB', 'TyBqTTn6xko23meQ9UDw3Y', 'setGraph', 'eyJ0eXBlIjogInZlcnRleCIsICJwcm9wcyI6IHsic3JjIjogImNsYXNzIiwgImRzdCI6ICJfa2V5In19Cg==');</script>\n",
       "    "
      ],
      "text/plain": [
       "<IPython.core.display.HTML object>"
      ]
     },
     "metadata": {},
     "output_type": "display_data"
    },
    {
     "data": {
      "text/html": [
       "\n",
       "        <div id=\"UN9NkMSg6xkEfZS2DpDn37\"></div>\n",
       "        <script>netpixi.call('UN9NkMSg6xkEfZS2DpDn37', 'TyBqTTn6xko23meQ9UDw3Y', 'changeGraph', 'eyJpZCI6ICI2MDYiLCAidHlwZSI6ICJ2ZXJ0ZXgiLCAicHJvcHMiOiB7ImNvbG9yIjogMTAwNDAyMTd9fQo=');</script>\n",
       "    "
      ],
      "text/plain": [
       "<IPython.core.display.HTML object>"
      ]
     },
     "metadata": {},
     "output_type": "display_data"
    },
    {
     "data": {
      "text/html": [
       "\n",
       "        <div id=\"PMU5xArk8sMceXJEcZT6cA\"></div>\n",
       "        <script>netpixi.call('PMU5xArk8sMceXJEcZT6cA', 'TyBqTTn6xko23meQ9UDw3Y', 'setGraph', 'eyJ0eXBlIjogInZlcnRleCIsICJwcm9wcyI6IHsic3JjIjogImNsYXNzIiwgImRzdCI6ICJfa2V5In19Cg==');</script>\n",
       "    "
      ],
      "text/plain": [
       "<IPython.core.display.HTML object>"
      ]
     },
     "metadata": {},
     "output_type": "display_data"
    },
    {
     "data": {
      "text/html": [
       "\n",
       "        <div id=\"hGRmZsGExjrcy2VgeXpuaF\"></div>\n",
       "        <script>netpixi.call('hGRmZsGExjrcy2VgeXpuaF', 'TyBqTTn6xko23meQ9UDw3Y', 'changeGraph', 'eyJpZCI6ICI2NTAiLCAidHlwZSI6ICJ2ZXJ0ZXgiLCAicHJvcHMiOiB7ImNvbG9yIjogMTAwNDAyMTd9fQo=');</script>\n",
       "    "
      ],
      "text/plain": [
       "<IPython.core.display.HTML object>"
      ]
     },
     "metadata": {},
     "output_type": "display_data"
    },
    {
     "data": {
      "text/html": [
       "\n",
       "        <div id=\"DwEX2rVyssBEi9aqXpw6wF\"></div>\n",
       "        <script>netpixi.call('DwEX2rVyssBEi9aqXpw6wF', 'TyBqTTn6xko23meQ9UDw3Y', 'setGraph', 'eyJ0eXBlIjogInZlcnRleCIsICJwcm9wcyI6IHsic3JjIjogImNsYXNzIiwgImRzdCI6ICJfa2V5In19Cg==');</script>\n",
       "    "
      ],
      "text/plain": [
       "<IPython.core.display.HTML object>"
      ]
     },
     "metadata": {},
     "output_type": "display_data"
    },
    {
     "data": {
      "text/html": [
       "\n",
       "        <div id=\"8CHjH9Fsi6wqEsxdFACqEh\"></div>\n",
       "        <script>netpixi.call('8CHjH9Fsi6wqEsxdFACqEh', 'TyBqTTn6xko23meQ9UDw3Y', 'changeGraph', 'eyJpZCI6ICI2MTEiLCAidHlwZSI6ICJ2ZXJ0ZXgiLCAicHJvcHMiOiB7ImNvbG9yIjogMTAwNDAyMTd9fQo=');</script>\n",
       "    "
      ],
      "text/plain": [
       "<IPython.core.display.HTML object>"
      ]
     },
     "metadata": {},
     "output_type": "display_data"
    },
    {
     "data": {
      "text/html": [
       "\n",
       "        <div id=\"Ed6wFqCPyu8t89C7rDAMBG\"></div>\n",
       "        <script>netpixi.call('Ed6wFqCPyu8t89C7rDAMBG', 'TyBqTTn6xko23meQ9UDw3Y', 'setGraph', 'eyJ0eXBlIjogInZlcnRleCIsICJwcm9wcyI6IHsic3JjIjogImNsYXNzIiwgImRzdCI6ICJfa2V5In19Cg==');</script>\n",
       "    "
      ],
      "text/plain": [
       "<IPython.core.display.HTML object>"
      ]
     },
     "metadata": {},
     "output_type": "display_data"
    },
    {
     "data": {
      "text/html": [
       "\n",
       "        <div id=\"4Dj9ye8dZaCKerripUViVe\"></div>\n",
       "        <script>netpixi.call('4Dj9ye8dZaCKerripUViVe', 'TyBqTTn6xko23meQ9UDw3Y', 'changeGraph', 'eyJpZCI6ICI2MDMiLCAidHlwZSI6ICJ2ZXJ0ZXgiLCAicHJvcHMiOiB7ImNvbG9yIjogMTAwNDAyMTd9fQo=');</script>\n",
       "    "
      ],
      "text/plain": [
       "<IPython.core.display.HTML object>"
      ]
     },
     "metadata": {},
     "output_type": "display_data"
    },
    {
     "data": {
      "text/html": [
       "\n",
       "        <div id=\"XkUy5AcnfSdRoqQPLB2oex\"></div>\n",
       "        <script>netpixi.call('XkUy5AcnfSdRoqQPLB2oex', 'TyBqTTn6xko23meQ9UDw3Y', 'setGraph', 'eyJ0eXBlIjogInZlcnRleCIsICJwcm9wcyI6IHsic3JjIjogImNsYXNzIiwgImRzdCI6ICJfa2V5In19Cg==');</script>\n",
       "    "
      ],
      "text/plain": [
       "<IPython.core.display.HTML object>"
      ]
     },
     "metadata": {},
     "output_type": "display_data"
    },
    {
     "data": {
      "text/html": [
       "\n",
       "        <div id=\"JRMcj6hkgmZmPumPwv2WhM\"></div>\n",
       "        <script>netpixi.call('JRMcj6hkgmZmPumPwv2WhM', 'TyBqTTn6xko23meQ9UDw3Y', 'changeGraph', 'eyJpZCI6ICI2MTUiLCAidHlwZSI6ICJ2ZXJ0ZXgiLCAicHJvcHMiOiB7ImNvbG9yIjogMTAwNDAyMTd9fQo=');</script>\n",
       "    "
      ],
      "text/plain": [
       "<IPython.core.display.HTML object>"
      ]
     },
     "metadata": {},
     "output_type": "display_data"
    },
    {
     "data": {
      "text/html": [
       "\n",
       "        <div id=\"fgDPEzYnexS9JtoE6gYDcz\"></div>\n",
       "        <script>netpixi.call('fgDPEzYnexS9JtoE6gYDcz', 'TyBqTTn6xko23meQ9UDw3Y', 'setGraph', 'eyJ0eXBlIjogInZlcnRleCIsICJwcm9wcyI6IHsic3JjIjogImNsYXNzIiwgImRzdCI6ICJfa2V5In19Cg==');</script>\n",
       "    "
      ],
      "text/plain": [
       "<IPython.core.display.HTML object>"
      ]
     },
     "metadata": {},
     "output_type": "display_data"
    },
    {
     "data": {
      "text/html": [
       "\n",
       "        <div id=\"gLtzpZps3h2Yb7TDrvrchW\"></div>\n",
       "        <script>netpixi.call('gLtzpZps3h2Yb7TDrvrchW', 'TyBqTTn6xko23meQ9UDw3Y', 'changeGraph', 'eyJpZCI6ICI2NjkiLCAidHlwZSI6ICJ2ZXJ0ZXgiLCAicHJvcHMiOiB7ImNvbG9yIjogMTAwNDAyMTd9fQo=');</script>\n",
       "    "
      ],
      "text/plain": [
       "<IPython.core.display.HTML object>"
      ]
     },
     "metadata": {},
     "output_type": "display_data"
    },
    {
     "data": {
      "text/html": [
       "\n",
       "        <div id=\"4zfXrmkiKwRCMnqq9gmQd3\"></div>\n",
       "        <script>netpixi.call('4zfXrmkiKwRCMnqq9gmQd3', 'TyBqTTn6xko23meQ9UDw3Y', 'setGraph', 'eyJ0eXBlIjogInZlcnRleCIsICJwcm9wcyI6IHsic3JjIjogImNsYXNzIiwgImRzdCI6ICJfa2V5In19Cg==');</script>\n",
       "    "
      ],
      "text/plain": [
       "<IPython.core.display.HTML object>"
      ]
     },
     "metadata": {},
     "output_type": "display_data"
    },
    {
     "data": {
      "text/html": [
       "\n",
       "        <div id=\"CtxoMpSjtbmYZ7vyDXdSya\"></div>\n",
       "        <script>netpixi.call('CtxoMpSjtbmYZ7vyDXdSya', 'TyBqTTn6xko23meQ9UDw3Y', 'changeGraph', 'eyJpZCI6ICI2MTkiLCAidHlwZSI6ICJ2ZXJ0ZXgiLCAicHJvcHMiOiB7ImNvbG9yIjogMTAwNDAyMTd9fQo=');</script>\n",
       "    "
      ],
      "text/plain": [
       "<IPython.core.display.HTML object>"
      ]
     },
     "metadata": {},
     "output_type": "display_data"
    },
    {
     "data": {
      "text/html": [
       "\n",
       "        <div id=\"bF3rpECcQekRiJqY2wQAg9\"></div>\n",
       "        <script>netpixi.call('bF3rpECcQekRiJqY2wQAg9', 'TyBqTTn6xko23meQ9UDw3Y', 'setGraph', 'eyJ0eXBlIjogInZlcnRleCIsICJwcm9wcyI6IHsic3JjIjogImNsYXNzIiwgImRzdCI6ICJfa2V5In19Cg==');</script>\n",
       "    "
      ],
      "text/plain": [
       "<IPython.core.display.HTML object>"
      ]
     },
     "metadata": {},
     "output_type": "display_data"
    },
    {
     "data": {
      "text/html": [
       "\n",
       "        <div id=\"iT5KXFRpWQaa7YDsTvMeLq\"></div>\n",
       "        <script>netpixi.call('iT5KXFRpWQaa7YDsTvMeLq', 'TyBqTTn6xko23meQ9UDw3Y', 'changeGraph', 'eyJpZCI6ICI2NDkiLCAidHlwZSI6ICJ2ZXJ0ZXgiLCAicHJvcHMiOiB7ImNvbG9yIjogMTAwNDAyMTd9fQo=');</script>\n",
       "    "
      ],
      "text/plain": [
       "<IPython.core.display.HTML object>"
      ]
     },
     "metadata": {},
     "output_type": "display_data"
    },
    {
     "data": {
      "text/html": [
       "\n",
       "        <div id=\"G6r8uPQGA6qJ9hYtuwj6uv\"></div>\n",
       "        <script>netpixi.call('G6r8uPQGA6qJ9hYtuwj6uv', 'TyBqTTn6xko23meQ9UDw3Y', 'setGraph', 'eyJ0eXBlIjogInZlcnRleCIsICJwcm9wcyI6IHsic3JjIjogImNsYXNzIiwgImRzdCI6ICJfa2V5In19Cg==');</script>\n",
       "    "
      ],
      "text/plain": [
       "<IPython.core.display.HTML object>"
      ]
     },
     "metadata": {},
     "output_type": "display_data"
    },
    {
     "data": {
      "text/html": [
       "\n",
       "        <div id=\"5EZ87ufKtgUodLfJJi8Bck\"></div>\n",
       "        <script>netpixi.call('5EZ87ufKtgUodLfJJi8Bck', 'TyBqTTn6xko23meQ9UDw3Y', 'changeGraph', 'eyJpZCI6ICIxODU2IiwgInR5cGUiOiAidmVydGV4IiwgInByb3BzIjogeyJjb2xvciI6IDE2NzY2NzIwfX0K');</script>\n",
       "    "
      ],
      "text/plain": [
       "<IPython.core.display.HTML object>"
      ]
     },
     "metadata": {},
     "output_type": "display_data"
    },
    {
     "data": {
      "text/html": [
       "\n",
       "        <div id=\"Vxab6ieYcLXF9DMbQBQmRA\"></div>\n",
       "        <script>netpixi.call('Vxab6ieYcLXF9DMbQBQmRA', 'TyBqTTn6xko23meQ9UDw3Y', 'setGraph', 'eyJ0eXBlIjogInZlcnRleCIsICJwcm9wcyI6IHsic3JjIjogImNsYXNzIiwgImRzdCI6ICJfa2V5In19Cg==');</script>\n",
       "    "
      ],
      "text/plain": [
       "<IPython.core.display.HTML object>"
      ]
     },
     "metadata": {},
     "output_type": "display_data"
    },
    {
     "data": {
      "text/html": [
       "\n",
       "        <div id=\"j8gF5bKXojoumTPYHdf2PZ\"></div>\n",
       "        <script>netpixi.call('j8gF5bKXojoumTPYHdf2PZ', 'TyBqTTn6xko23meQ9UDw3Y', 'changeGraph', 'eyJpZCI6ICI2NDciLCAidHlwZSI6ICJ2ZXJ0ZXgiLCAicHJvcHMiOiB7ImNvbG9yIjogMTAwNDAyMTd9fQo=');</script>\n",
       "    "
      ],
      "text/plain": [
       "<IPython.core.display.HTML object>"
      ]
     },
     "metadata": {},
     "output_type": "display_data"
    },
    {
     "data": {
      "text/html": [
       "\n",
       "        <div id=\"kgXxHpMAReGDgGeqe3d9a2\"></div>\n",
       "        <script>netpixi.call('kgXxHpMAReGDgGeqe3d9a2', 'TyBqTTn6xko23meQ9UDw3Y', 'setGraph', 'eyJ0eXBlIjogInZlcnRleCIsICJwcm9wcyI6IHsic3JjIjogImNsYXNzIiwgImRzdCI6ICJfa2V5In19Cg==');</script>\n",
       "    "
      ],
      "text/plain": [
       "<IPython.core.display.HTML object>"
      ]
     },
     "metadata": {},
     "output_type": "display_data"
    },
    {
     "data": {
      "text/html": [
       "\n",
       "        <div id=\"JDbDeyB2brgKGuwEoruZtU\"></div>\n",
       "        <script>netpixi.call('JDbDeyB2brgKGuwEoruZtU', 'TyBqTTn6xko23meQ9UDw3Y', 'changeGraph', 'eyJpZCI6ICI2NjgiLCAidHlwZSI6ICJ2ZXJ0ZXgiLCAicHJvcHMiOiB7ImNvbG9yIjogMTAwNDAyMTd9fQo=');</script>\n",
       "    "
      ],
      "text/plain": [
       "<IPython.core.display.HTML object>"
      ]
     },
     "metadata": {},
     "output_type": "display_data"
    },
    {
     "data": {
      "text/html": [
       "\n",
       "        <div id=\"aLNgpq8DMiwgNdCTYvcSVd\"></div>\n",
       "        <script>netpixi.call('aLNgpq8DMiwgNdCTYvcSVd', 'TyBqTTn6xko23meQ9UDw3Y', 'setGraph', 'eyJ0eXBlIjogInZlcnRleCIsICJwcm9wcyI6IHsic3JjIjogImNsYXNzIiwgImRzdCI6ICJfa2V5In19Cg==');</script>\n",
       "    "
      ],
      "text/plain": [
       "<IPython.core.display.HTML object>"
      ]
     },
     "metadata": {},
     "output_type": "display_data"
    },
    {
     "data": {
      "text/html": [
       "\n",
       "        <div id=\"6772QYCFaqTiEF7qHjbWkH\"></div>\n",
       "        <script>netpixi.call('6772QYCFaqTiEF7qHjbWkH', 'TyBqTTn6xko23meQ9UDw3Y', 'changeGraph', 'eyJpZCI6ICI2NzgiLCAidHlwZSI6ICJ2ZXJ0ZXgiLCAicHJvcHMiOiB7ImNvbG9yIjogMTAwNDAyMTd9fQo=');</script>\n",
       "    "
      ],
      "text/plain": [
       "<IPython.core.display.HTML object>"
      ]
     },
     "metadata": {},
     "output_type": "display_data"
    },
    {
     "data": {
      "text/html": [
       "\n",
       "        <div id=\"LYXBouNyFpyMo5vpQDZP5h\"></div>\n",
       "        <script>netpixi.call('LYXBouNyFpyMo5vpQDZP5h', 'TyBqTTn6xko23meQ9UDw3Y', 'setGraph', 'eyJ0eXBlIjogInZlcnRleCIsICJwcm9wcyI6IHsic3JjIjogImNsYXNzIiwgImRzdCI6ICJfa2V5In19Cg==');</script>\n",
       "    "
      ],
      "text/plain": [
       "<IPython.core.display.HTML object>"
      ]
     },
     "metadata": {},
     "output_type": "display_data"
    },
    {
     "data": {
      "text/html": [
       "\n",
       "        <div id=\"6Jz2optY9XGiJmk2a6n9G8\"></div>\n",
       "        <script>netpixi.call('6Jz2optY9XGiJmk2a6n9G8', 'TyBqTTn6xko23meQ9UDw3Y', 'changeGraph', 'eyJpZCI6ICI2NzciLCAidHlwZSI6ICJ2ZXJ0ZXgiLCAicHJvcHMiOiB7ImNvbG9yIjogMTAwNDAyMTd9fQo=');</script>\n",
       "    "
      ],
      "text/plain": [
       "<IPython.core.display.HTML object>"
      ]
     },
     "metadata": {},
     "output_type": "display_data"
    },
    {
     "data": {
      "text/html": [
       "\n",
       "        <div id=\"BNSTuvZwbMPNCDsSdc5Znn\"></div>\n",
       "        <script>netpixi.call('BNSTuvZwbMPNCDsSdc5Znn', 'TyBqTTn6xko23meQ9UDw3Y', 'setGraph', 'eyJ0eXBlIjogInZlcnRleCIsICJwcm9wcyI6IHsic3JjIjogImNsYXNzIiwgImRzdCI6ICJfa2V5In19Cg==');</script>\n",
       "    "
      ],
      "text/plain": [
       "<IPython.core.display.HTML object>"
      ]
     },
     "metadata": {},
     "output_type": "display_data"
    },
    {
     "data": {
      "text/html": [
       "\n",
       "        <div id=\"MQBTRGLUVPRCuzdwTZgtwe\"></div>\n",
       "        <script>netpixi.call('MQBTRGLUVPRCuzdwTZgtwe', 'TyBqTTn6xko23meQ9UDw3Y', 'changeGraph', 'eyJpZCI6ICI4MDkiLCAidHlwZSI6ICJ2ZXJ0ZXgiLCAicHJvcHMiOiB7ImNvbG9yIjogNjk4OTkwM319Cg==');</script>\n",
       "    "
      ],
      "text/plain": [
       "<IPython.core.display.HTML object>"
      ]
     },
     "metadata": {},
     "output_type": "display_data"
    },
    {
     "data": {
      "text/html": [
       "\n",
       "        <div id=\"74GtHipe4yWA2exzTyHTrk\"></div>\n",
       "        <script>netpixi.call('74GtHipe4yWA2exzTyHTrk', 'TyBqTTn6xko23meQ9UDw3Y', 'setGraph', 'eyJ0eXBlIjogInZlcnRleCIsICJwcm9wcyI6IHsic3JjIjogImNsYXNzIiwgImRzdCI6ICJfa2V5In19Cg==');</script>\n",
       "    "
      ],
      "text/plain": [
       "<IPython.core.display.HTML object>"
      ]
     },
     "metadata": {},
     "output_type": "display_data"
    },
    {
     "data": {
      "text/html": [
       "\n",
       "        <div id=\"gGcmmBWPsfYopWzyQyeCYw\"></div>\n",
       "        <script>netpixi.call('gGcmmBWPsfYopWzyQyeCYw', 'TyBqTTn6xko23meQ9UDw3Y', 'changeGraph', 'eyJpZCI6ICI2NDYiLCAidHlwZSI6ICJ2ZXJ0ZXgiLCAicHJvcHMiOiB7ImNvbG9yIjogMTAwNDAyMTd9fQo=');</script>\n",
       "    "
      ],
      "text/plain": [
       "<IPython.core.display.HTML object>"
      ]
     },
     "metadata": {},
     "output_type": "display_data"
    },
    {
     "data": {
      "text/html": [
       "\n",
       "        <div id=\"aD4qLHeTFEvoc7gSCZ7wVu\"></div>\n",
       "        <script>netpixi.call('aD4qLHeTFEvoc7gSCZ7wVu', 'TyBqTTn6xko23meQ9UDw3Y', 'setGraph', 'eyJ0eXBlIjogInZlcnRleCIsICJwcm9wcyI6IHsic3JjIjogImNsYXNzIiwgImRzdCI6ICJfa2V5In19Cg==');</script>\n",
       "    "
      ],
      "text/plain": [
       "<IPython.core.display.HTML object>"
      ]
     },
     "metadata": {},
     "output_type": "display_data"
    },
    {
     "data": {
      "text/html": [
       "\n",
       "        <div id=\"eV5FcqtHBWFGy9h9CFE9tV\"></div>\n",
       "        <script>netpixi.call('eV5FcqtHBWFGy9h9CFE9tV', 'TyBqTTn6xko23meQ9UDw3Y', 'changeGraph', 'eyJpZCI6ICI2OTEiLCAidHlwZSI6ICJ2ZXJ0ZXgiLCAicHJvcHMiOiB7ImNvbG9yIjogMTAwNDAyMTd9fQo=');</script>\n",
       "    "
      ],
      "text/plain": [
       "<IPython.core.display.HTML object>"
      ]
     },
     "metadata": {},
     "output_type": "display_data"
    },
    {
     "data": {
      "text/html": [
       "\n",
       "        <div id=\"Z7Fjc9EfXV9h67MAeedPQt\"></div>\n",
       "        <script>netpixi.call('Z7Fjc9EfXV9h67MAeedPQt', 'TyBqTTn6xko23meQ9UDw3Y', 'setGraph', 'eyJ0eXBlIjogInZlcnRleCIsICJwcm9wcyI6IHsic3JjIjogImNsYXNzIiwgImRzdCI6ICJfa2V5In19Cg==');</script>\n",
       "    "
      ],
      "text/plain": [
       "<IPython.core.display.HTML object>"
      ]
     },
     "metadata": {},
     "output_type": "display_data"
    },
    {
     "data": {
      "text/html": [
       "\n",
       "        <div id=\"ept3yjN4SFjUBbfuEDEoJV\"></div>\n",
       "        <script>netpixi.call('ept3yjN4SFjUBbfuEDEoJV', 'TyBqTTn6xko23meQ9UDw3Y', 'changeGraph', 'eyJpZCI6ICI4ODciLCAidHlwZSI6ICJ2ZXJ0ZXgiLCAicHJvcHMiOiB7ImNvbG9yIjogNjk4OTkwM319Cg==');</script>\n",
       "    "
      ],
      "text/plain": [
       "<IPython.core.display.HTML object>"
      ]
     },
     "metadata": {},
     "output_type": "display_data"
    },
    {
     "data": {
      "text/html": [
       "\n",
       "        <div id=\"NtyBWPwuC3EvhEzuPdgZX6\"></div>\n",
       "        <script>netpixi.call('NtyBWPwuC3EvhEzuPdgZX6', 'TyBqTTn6xko23meQ9UDw3Y', 'setGraph', 'eyJ0eXBlIjogInZlcnRleCIsICJwcm9wcyI6IHsic3JjIjogImNsYXNzIiwgImRzdCI6ICJfa2V5In19Cg==');</script>\n",
       "    "
      ],
      "text/plain": [
       "<IPython.core.display.HTML object>"
      ]
     },
     "metadata": {},
     "output_type": "display_data"
    },
    {
     "data": {
      "text/html": [
       "\n",
       "        <div id=\"CLdNy7HyvV5JN3cfktD929\"></div>\n",
       "        <script>netpixi.call('CLdNy7HyvV5JN3cfktD929', 'TyBqTTn6xko23meQ9UDw3Y', 'changeGraph', 'eyJpZCI6ICI2MjEiLCAidHlwZSI6ICJ2ZXJ0ZXgiLCAicHJvcHMiOiB7ImNvbG9yIjogMTAwNDAyMTd9fQo=');</script>\n",
       "    "
      ],
      "text/plain": [
       "<IPython.core.display.HTML object>"
      ]
     },
     "metadata": {},
     "output_type": "display_data"
    },
    {
     "data": {
      "text/html": [
       "\n",
       "        <div id=\"eom7riKSXW4x8HVeaMwiyE\"></div>\n",
       "        <script>netpixi.call('eom7riKSXW4x8HVeaMwiyE', 'TyBqTTn6xko23meQ9UDw3Y', 'setGraph', 'eyJ0eXBlIjogInZlcnRleCIsICJwcm9wcyI6IHsic3JjIjogImNsYXNzIiwgImRzdCI6ICJfa2V5In19Cg==');</script>\n",
       "    "
      ],
      "text/plain": [
       "<IPython.core.display.HTML object>"
      ]
     },
     "metadata": {},
     "output_type": "display_data"
    },
    {
     "data": {
      "text/html": [
       "\n",
       "        <div id=\"XE3472jL5n7z6bcQM9ETuW\"></div>\n",
       "        <script>netpixi.call('XE3472jL5n7z6bcQM9ETuW', 'TyBqTTn6xko23meQ9UDw3Y', 'changeGraph', 'eyJpZCI6ICI4MTMiLCAidHlwZSI6ICJ2ZXJ0ZXgiLCAicHJvcHMiOiB7ImNvbG9yIjogMTUxMTA0NTZ9fQo=');</script>\n",
       "    "
      ],
      "text/plain": [
       "<IPython.core.display.HTML object>"
      ]
     },
     "metadata": {},
     "output_type": "display_data"
    },
    {
     "data": {
      "text/html": [
       "\n",
       "        <div id=\"AJP8usUwPpha7xNLgfxwhJ\"></div>\n",
       "        <script>netpixi.call('AJP8usUwPpha7xNLgfxwhJ', 'TyBqTTn6xko23meQ9UDw3Y', 'setGraph', 'eyJ0eXBlIjogInZlcnRleCIsICJwcm9wcyI6IHsic3JjIjogImNsYXNzIiwgImRzdCI6ICJfa2V5In19Cg==');</script>\n",
       "    "
      ],
      "text/plain": [
       "<IPython.core.display.HTML object>"
      ]
     },
     "metadata": {},
     "output_type": "display_data"
    },
    {
     "data": {
      "text/html": [
       "\n",
       "        <div id=\"ck85DJs3ewwP8HTJXYkAzn\"></div>\n",
       "        <script>netpixi.call('ck85DJs3ewwP8HTJXYkAzn', 'TyBqTTn6xko23meQ9UDw3Y', 'changeGraph', 'eyJpZCI6ICI2ODkiLCAidHlwZSI6ICJ2ZXJ0ZXgiLCAicHJvcHMiOiB7ImNvbG9yIjogMTAwNDAyMTd9fQo=');</script>\n",
       "    "
      ],
      "text/plain": [
       "<IPython.core.display.HTML object>"
      ]
     },
     "metadata": {},
     "output_type": "display_data"
    },
    {
     "data": {
      "text/html": [
       "\n",
       "        <div id=\"Qf3afQxgg3DTtWRncymngZ\"></div>\n",
       "        <script>netpixi.call('Qf3afQxgg3DTtWRncymngZ', 'TyBqTTn6xko23meQ9UDw3Y', 'setGraph', 'eyJ0eXBlIjogInZlcnRleCIsICJwcm9wcyI6IHsic3JjIjogImNsYXNzIiwgImRzdCI6ICJfa2V5In19Cg==');</script>\n",
       "    "
      ],
      "text/plain": [
       "<IPython.core.display.HTML object>"
      ]
     },
     "metadata": {},
     "output_type": "display_data"
    },
    {
     "data": {
      "text/html": [
       "\n",
       "        <div id=\"7Ad32J95rAVEWdxsAu4Mmu\"></div>\n",
       "        <script>netpixi.call('7Ad32J95rAVEWdxsAu4Mmu', 'TyBqTTn6xko23meQ9UDw3Y', 'changeGraph', 'eyJpZCI6ICI4MjUiLCAidHlwZSI6ICJ2ZXJ0ZXgiLCAicHJvcHMiOiB7ImNvbG9yIjogMTUxMTA0NTZ9fQo=');</script>\n",
       "    "
      ],
      "text/plain": [
       "<IPython.core.display.HTML object>"
      ]
     },
     "metadata": {},
     "output_type": "display_data"
    },
    {
     "data": {
      "text/html": [
       "\n",
       "        <div id=\"MQ8xyKwZzrzgbgrGLMfxx9\"></div>\n",
       "        <script>netpixi.call('MQ8xyKwZzrzgbgrGLMfxx9', 'TyBqTTn6xko23meQ9UDw3Y', 'setGraph', 'eyJ0eXBlIjogInZlcnRleCIsICJwcm9wcyI6IHsic3JjIjogImNsYXNzIiwgImRzdCI6ICJfa2V5In19Cg==');</script>\n",
       "    "
      ],
      "text/plain": [
       "<IPython.core.display.HTML object>"
      ]
     },
     "metadata": {},
     "output_type": "display_data"
    },
    {
     "data": {
      "text/html": [
       "\n",
       "        <div id=\"YpyGuorZ7QwQjnnf8FKCgy\"></div>\n",
       "        <script>netpixi.call('YpyGuorZ7QwQjnnf8FKCgy', 'TyBqTTn6xko23meQ9UDw3Y', 'changeGraph', 'eyJpZCI6ICI2NjUiLCAidHlwZSI6ICJ2ZXJ0ZXgiLCAicHJvcHMiOiB7ImNvbG9yIjogMTAwNDAyMTd9fQo=');</script>\n",
       "    "
      ],
      "text/plain": [
       "<IPython.core.display.HTML object>"
      ]
     },
     "metadata": {},
     "output_type": "display_data"
    },
    {
     "data": {
      "text/html": [
       "\n",
       "        <div id=\"NRNBd3ZCDvfP99nfbLSVLQ\"></div>\n",
       "        <script>netpixi.call('NRNBd3ZCDvfP99nfbLSVLQ', 'TyBqTTn6xko23meQ9UDw3Y', 'setGraph', 'eyJ0eXBlIjogInZlcnRleCIsICJwcm9wcyI6IHsic3JjIjogImNsYXNzIiwgImRzdCI6ICJfa2V5In19Cg==');</script>\n",
       "    "
      ],
      "text/plain": [
       "<IPython.core.display.HTML object>"
      ]
     },
     "metadata": {},
     "output_type": "display_data"
    },
    {
     "data": {
      "text/html": [
       "\n",
       "        <div id=\"mFxswTmqomyxN5GEzWcapf\"></div>\n",
       "        <script>netpixi.call('mFxswTmqomyxN5GEzWcapf', 'TyBqTTn6xko23meQ9UDw3Y', 'changeGraph', 'eyJpZCI6ICI2MzgiLCAidHlwZSI6ICJ2ZXJ0ZXgiLCAicHJvcHMiOiB7ImNvbG9yIjogMTAwNDAyMTd9fQo=');</script>\n",
       "    "
      ],
      "text/plain": [
       "<IPython.core.display.HTML object>"
      ]
     },
     "metadata": {},
     "output_type": "display_data"
    },
    {
     "data": {
      "text/html": [
       "\n",
       "        <div id=\"MhN8FWvSCfzjkr4e4aoZWX\"></div>\n",
       "        <script>netpixi.call('MhN8FWvSCfzjkr4e4aoZWX', 'TyBqTTn6xko23meQ9UDw3Y', 'setGraph', 'eyJ0eXBlIjogInZlcnRleCIsICJwcm9wcyI6IHsic3JjIjogImNsYXNzIiwgImRzdCI6ICJfa2V5In19Cg==');</script>\n",
       "    "
      ],
      "text/plain": [
       "<IPython.core.display.HTML object>"
      ]
     },
     "metadata": {},
     "output_type": "display_data"
    },
    {
     "data": {
      "text/html": [
       "\n",
       "        <div id=\"VFZsjbJjeNMtA3YGGrWkhf\"></div>\n",
       "        <script>netpixi.call('VFZsjbJjeNMtA3YGGrWkhf', 'TyBqTTn6xko23meQ9UDw3Y', 'changeGraph', 'eyJpZCI6ICI2NDgiLCAidHlwZSI6ICJ2ZXJ0ZXgiLCAicHJvcHMiOiB7ImNvbG9yIjogNjUyODB9fQo=');</script>\n",
       "    "
      ],
      "text/plain": [
       "<IPython.core.display.HTML object>"
      ]
     },
     "metadata": {},
     "output_type": "display_data"
    },
    {
     "data": {
      "text/html": [
       "\n",
       "        <div id=\"bd3QonCnxtmDz8PAbikGmL\"></div>\n",
       "        <script>netpixi.call('bd3QonCnxtmDz8PAbikGmL', 'TyBqTTn6xko23meQ9UDw3Y', 'setGraph', 'eyJ0eXBlIjogInZlcnRleCIsICJwcm9wcyI6IHsic3JjIjogImNsYXNzIiwgImRzdCI6ICJfa2V5In19Cg==');</script>\n",
       "    "
      ],
      "text/plain": [
       "<IPython.core.display.HTML object>"
      ]
     },
     "metadata": {},
     "output_type": "display_data"
    },
    {
     "data": {
      "text/html": [
       "\n",
       "        <div id=\"g8P5uvNTpyUYpQdeZz5L5r\"></div>\n",
       "        <script>netpixi.call('g8P5uvNTpyUYpQdeZz5L5r', 'TyBqTTn6xko23meQ9UDw3Y', 'changeGraph', 'eyJpZCI6ICI4NDMiLCAidHlwZSI6ICJ2ZXJ0ZXgiLCAicHJvcHMiOiB7ImNvbG9yIjogMTUxMTA0NTZ9fQo=');</script>\n",
       "    "
      ],
      "text/plain": [
       "<IPython.core.display.HTML object>"
      ]
     },
     "metadata": {},
     "output_type": "display_data"
    },
    {
     "data": {
      "text/html": [
       "\n",
       "        <div id=\"SyE8n47XQpyFzpbc3VDmwz\"></div>\n",
       "        <script>netpixi.call('SyE8n47XQpyFzpbc3VDmwz', 'TyBqTTn6xko23meQ9UDw3Y', 'setGraph', 'eyJ0eXBlIjogInZlcnRleCIsICJwcm9wcyI6IHsic3JjIjogImNsYXNzIiwgImRzdCI6ICJfa2V5In19Cg==');</script>\n",
       "    "
      ],
      "text/plain": [
       "<IPython.core.display.HTML object>"
      ]
     },
     "metadata": {},
     "output_type": "display_data"
    },
    {
     "data": {
      "text/html": [
       "\n",
       "        <div id=\"649kaE8hi8sWph8NjjwtAB\"></div>\n",
       "        <script>netpixi.call('649kaE8hi8sWph8NjjwtAB', 'TyBqTTn6xko23meQ9UDw3Y', 'changeGraph', 'eyJpZCI6ICI2MjkiLCAidHlwZSI6ICJ2ZXJ0ZXgiLCAicHJvcHMiOiB7ImNvbG9yIjogMTAwNDAyMTd9fQo=');</script>\n",
       "    "
      ],
      "text/plain": [
       "<IPython.core.display.HTML object>"
      ]
     },
     "metadata": {},
     "output_type": "display_data"
    },
    {
     "data": {
      "text/html": [
       "\n",
       "        <div id=\"99Cz2FcXJxn7ve5n2KkgiK\"></div>\n",
       "        <script>netpixi.call('99Cz2FcXJxn7ve5n2KkgiK', 'TyBqTTn6xko23meQ9UDw3Y', 'setGraph', 'eyJ0eXBlIjogInZlcnRleCIsICJwcm9wcyI6IHsic3JjIjogImNsYXNzIiwgImRzdCI6ICJfa2V5In19Cg==');</script>\n",
       "    "
      ],
      "text/plain": [
       "<IPython.core.display.HTML object>"
      ]
     },
     "metadata": {},
     "output_type": "display_data"
    },
    {
     "data": {
      "text/html": [
       "\n",
       "        <div id=\"Cg22y8PJAqRc9mhbm52vLT\"></div>\n",
       "        <script>netpixi.call('Cg22y8PJAqRc9mhbm52vLT', 'TyBqTTn6xko23meQ9UDw3Y', 'changeGraph', 'eyJpZCI6ICI4MTIiLCAidHlwZSI6ICJ2ZXJ0ZXgiLCAicHJvcHMiOiB7ImNvbG9yIjogNjk4OTkwM319Cg==');</script>\n",
       "    "
      ],
      "text/plain": [
       "<IPython.core.display.HTML object>"
      ]
     },
     "metadata": {},
     "output_type": "display_data"
    },
    {
     "data": {
      "text/html": [
       "\n",
       "        <div id=\"TmNuhQn6T6paE2UfpLa3FQ\"></div>\n",
       "        <script>netpixi.call('TmNuhQn6T6paE2UfpLa3FQ', 'TyBqTTn6xko23meQ9UDw3Y', 'setGraph', 'eyJ0eXBlIjogInZlcnRleCIsICJwcm9wcyI6IHsic3JjIjogImNsYXNzIiwgImRzdCI6ICJfa2V5In19Cg==');</script>\n",
       "    "
      ],
      "text/plain": [
       "<IPython.core.display.HTML object>"
      ]
     },
     "metadata": {},
     "output_type": "display_data"
    },
    {
     "data": {
      "text/html": [
       "\n",
       "        <div id=\"UpYVX5wTXLgRhhU7Qv4X5S\"></div>\n",
       "        <script>netpixi.call('UpYVX5wTXLgRhhU7Qv4X5S', 'TyBqTTn6xko23meQ9UDw3Y', 'changeGraph', 'eyJpZCI6ICIxNjg2IiwgInR5cGUiOiAidmVydGV4IiwgInByb3BzIjogeyJjb2xvciI6IDE2NzY2NzIwfX0K');</script>\n",
       "    "
      ],
      "text/plain": [
       "<IPython.core.display.HTML object>"
      ]
     },
     "metadata": {},
     "output_type": "display_data"
    },
    {
     "data": {
      "text/html": [
       "\n",
       "        <div id=\"Gzy26FvUCmLjN7sDYVFSRY\"></div>\n",
       "        <script>netpixi.call('Gzy26FvUCmLjN7sDYVFSRY', 'TyBqTTn6xko23meQ9UDw3Y', 'setGraph', 'eyJ0eXBlIjogInZlcnRleCIsICJwcm9wcyI6IHsic3JjIjogImNsYXNzIiwgImRzdCI6ICJfa2V5In19Cg==');</script>\n",
       "    "
      ],
      "text/plain": [
       "<IPython.core.display.HTML object>"
      ]
     },
     "metadata": {},
     "output_type": "display_data"
    },
    {
     "data": {
      "text/html": [
       "\n",
       "        <div id=\"NMfirnKcvBSnxN9mbNwGpH\"></div>\n",
       "        <script>netpixi.call('NMfirnKcvBSnxN9mbNwGpH', 'TyBqTTn6xko23meQ9UDw3Y', 'changeGraph', 'eyJpZCI6ICI4NjAiLCAidHlwZSI6ICJ2ZXJ0ZXgiLCAicHJvcHMiOiB7ImNvbG9yIjogMTUxMTA0NTZ9fQo=');</script>\n",
       "    "
      ],
      "text/plain": [
       "<IPython.core.display.HTML object>"
      ]
     },
     "metadata": {},
     "output_type": "display_data"
    },
    {
     "data": {
      "text/html": [
       "\n",
       "        <div id=\"ieKiFrnUqF4NevPqAcBBoe\"></div>\n",
       "        <script>netpixi.call('ieKiFrnUqF4NevPqAcBBoe', 'TyBqTTn6xko23meQ9UDw3Y', 'setGraph', 'eyJ0eXBlIjogInZlcnRleCIsICJwcm9wcyI6IHsic3JjIjogImNsYXNzIiwgImRzdCI6ICJfa2V5In19Cg==');</script>\n",
       "    "
      ],
      "text/plain": [
       "<IPython.core.display.HTML object>"
      ]
     },
     "metadata": {},
     "output_type": "display_data"
    },
    {
     "data": {
      "text/html": [
       "\n",
       "        <div id=\"hn3EG8WA2BatkXuZTEPGh5\"></div>\n",
       "        <script>netpixi.call('hn3EG8WA2BatkXuZTEPGh5', 'TyBqTTn6xko23meQ9UDw3Y', 'changeGraph', 'eyJpZCI6ICI2MTQiLCAidHlwZSI6ICJ2ZXJ0ZXgiLCAicHJvcHMiOiB7ImNvbG9yIjogMTAwNDAyMTd9fQo=');</script>\n",
       "    "
      ],
      "text/plain": [
       "<IPython.core.display.HTML object>"
      ]
     },
     "metadata": {},
     "output_type": "display_data"
    },
    {
     "data": {
      "text/html": [
       "\n",
       "        <div id=\"9pS8UosHiM8w686pVKwxkT\"></div>\n",
       "        <script>netpixi.call('9pS8UosHiM8w686pVKwxkT', 'TyBqTTn6xko23meQ9UDw3Y', 'setGraph', 'eyJ0eXBlIjogInZlcnRleCIsICJwcm9wcyI6IHsic3JjIjogImNsYXNzIiwgImRzdCI6ICJfa2V5In19Cg==');</script>\n",
       "    "
      ],
      "text/plain": [
       "<IPython.core.display.HTML object>"
      ]
     },
     "metadata": {},
     "output_type": "display_data"
    },
    {
     "data": {
      "text/html": [
       "\n",
       "        <div id=\"F8nyKGgh4PqU2BQohtpi5S\"></div>\n",
       "        <script>netpixi.call('F8nyKGgh4PqU2BQohtpi5S', 'TyBqTTn6xko23meQ9UDw3Y', 'changeGraph', 'eyJpZCI6ICI4MzIiLCAidHlwZSI6ICJ2ZXJ0ZXgiLCAicHJvcHMiOiB7ImNvbG9yIjogMTUxMTA0NTZ9fQo=');</script>\n",
       "    "
      ],
      "text/plain": [
       "<IPython.core.display.HTML object>"
      ]
     },
     "metadata": {},
     "output_type": "display_data"
    },
    {
     "data": {
      "text/html": [
       "\n",
       "        <div id=\"nmUFvJ8HTQxi3a7f2fUoRX\"></div>\n",
       "        <script>netpixi.call('nmUFvJ8HTQxi3a7f2fUoRX', 'TyBqTTn6xko23meQ9UDw3Y', 'setGraph', 'eyJ0eXBlIjogInZlcnRleCIsICJwcm9wcyI6IHsic3JjIjogImNsYXNzIiwgImRzdCI6ICJfa2V5In19Cg==');</script>\n",
       "    "
      ],
      "text/plain": [
       "<IPython.core.display.HTML object>"
      ]
     },
     "metadata": {},
     "output_type": "display_data"
    },
    {
     "data": {
      "text/html": [
       "\n",
       "        <div id=\"JUQnmkBCG5n3N2pSCkwbZn\"></div>\n",
       "        <script>netpixi.call('JUQnmkBCG5n3N2pSCkwbZn', 'TyBqTTn6xko23meQ9UDw3Y', 'changeGraph', 'eyJpZCI6ICI4NjUiLCAidHlwZSI6ICJ2ZXJ0ZXgiLCAicHJvcHMiOiB7ImNvbG9yIjogMTUxMTA0NTZ9fQo=');</script>\n",
       "    "
      ],
      "text/plain": [
       "<IPython.core.display.HTML object>"
      ]
     },
     "metadata": {},
     "output_type": "display_data"
    },
    {
     "data": {
      "text/html": [
       "\n",
       "        <div id=\"mDJp3hZxjUiMSujTco9vjc\"></div>\n",
       "        <script>netpixi.call('mDJp3hZxjUiMSujTco9vjc', 'TyBqTTn6xko23meQ9UDw3Y', 'setGraph', 'eyJ0eXBlIjogInZlcnRleCIsICJwcm9wcyI6IHsic3JjIjogImNsYXNzIiwgImRzdCI6ICJfa2V5In19Cg==');</script>\n",
       "    "
      ],
      "text/plain": [
       "<IPython.core.display.HTML object>"
      ]
     },
     "metadata": {},
     "output_type": "display_data"
    },
    {
     "data": {
      "text/html": [
       "\n",
       "        <div id=\"RssAsFX9CWbbAVB9ARyHfQ\"></div>\n",
       "        <script>netpixi.call('RssAsFX9CWbbAVB9ARyHfQ', 'TyBqTTn6xko23meQ9UDw3Y', 'changeGraph', 'eyJpZCI6ICI4NTgiLCAidHlwZSI6ICJ2ZXJ0ZXgiLCAicHJvcHMiOiB7ImNvbG9yIjogMTUxMTA0NTZ9fQo=');</script>\n",
       "    "
      ],
      "text/plain": [
       "<IPython.core.display.HTML object>"
      ]
     },
     "metadata": {},
     "output_type": "display_data"
    },
    {
     "data": {
      "text/html": [
       "\n",
       "        <div id=\"ngPBHhgCJX8c4WwT7c4s3t\"></div>\n",
       "        <script>netpixi.call('ngPBHhgCJX8c4WwT7c4s3t', 'TyBqTTn6xko23meQ9UDw3Y', 'setGraph', 'eyJ0eXBlIjogInZlcnRleCIsICJwcm9wcyI6IHsic3JjIjogImNsYXNzIiwgImRzdCI6ICJfa2V5In19Cg==');</script>\n",
       "    "
      ],
      "text/plain": [
       "<IPython.core.display.HTML object>"
      ]
     },
     "metadata": {},
     "output_type": "display_data"
    },
    {
     "data": {
      "text/html": [
       "\n",
       "        <div id=\"g3uxDVVyVHKy4NivHKaFoL\"></div>\n",
       "        <script>netpixi.call('g3uxDVVyVHKy4NivHKaFoL', 'TyBqTTn6xko23meQ9UDw3Y', 'changeGraph', 'eyJpZCI6ICI4MzEiLCAidHlwZSI6ICJ2ZXJ0ZXgiLCAicHJvcHMiOiB7ImNvbG9yIjogMTUxMTA0NTZ9fQo=');</script>\n",
       "    "
      ],
      "text/plain": [
       "<IPython.core.display.HTML object>"
      ]
     },
     "metadata": {},
     "output_type": "display_data"
    },
    {
     "data": {
      "text/html": [
       "\n",
       "        <div id=\"RqXiEmLXTtB2j7fvUuSAyh\"></div>\n",
       "        <script>netpixi.call('RqXiEmLXTtB2j7fvUuSAyh', 'TyBqTTn6xko23meQ9UDw3Y', 'setGraph', 'eyJ0eXBlIjogInZlcnRleCIsICJwcm9wcyI6IHsic3JjIjogImNsYXNzIiwgImRzdCI6ICJfa2V5In19Cg==');</script>\n",
       "    "
      ],
      "text/plain": [
       "<IPython.core.display.HTML object>"
      ]
     },
     "metadata": {},
     "output_type": "display_data"
    },
    {
     "data": {
      "text/html": [
       "\n",
       "        <div id=\"ioFCVbyQ6nRynySq3D3bMt\"></div>\n",
       "        <script>netpixi.call('ioFCVbyQ6nRynySq3D3bMt', 'TyBqTTn6xko23meQ9UDw3Y', 'changeGraph', 'eyJpZCI6ICI4MjkiLCAidHlwZSI6ICJ2ZXJ0ZXgiLCAicHJvcHMiOiB7ImNvbG9yIjogMTUxMTA0NTZ9fQo=');</script>\n",
       "    "
      ],
      "text/plain": [
       "<IPython.core.display.HTML object>"
      ]
     },
     "metadata": {},
     "output_type": "display_data"
    },
    {
     "data": {
      "text/html": [
       "\n",
       "        <div id=\"YvfLzwq9N8d2L5DkvMrL2b\"></div>\n",
       "        <script>netpixi.call('YvfLzwq9N8d2L5DkvMrL2b', 'TyBqTTn6xko23meQ9UDw3Y', 'setGraph', 'eyJ0eXBlIjogInZlcnRleCIsICJwcm9wcyI6IHsic3JjIjogImNsYXNzIiwgImRzdCI6ICJfa2V5In19Cg==');</script>\n",
       "    "
      ],
      "text/plain": [
       "<IPython.core.display.HTML object>"
      ]
     },
     "metadata": {},
     "output_type": "display_data"
    },
    {
     "data": {
      "text/html": [
       "\n",
       "        <div id=\"6kkgfWmNamJ9ceaZMK6Nn7\"></div>\n",
       "        <script>netpixi.call('6kkgfWmNamJ9ceaZMK6Nn7', 'TyBqTTn6xko23meQ9UDw3Y', 'changeGraph', 'eyJpZCI6ICI4ODQiLCAidHlwZSI6ICJ2ZXJ0ZXgiLCAicHJvcHMiOiB7ImNvbG9yIjogNjk4OTkwM319Cg==');</script>\n",
       "    "
      ],
      "text/plain": [
       "<IPython.core.display.HTML object>"
      ]
     },
     "metadata": {},
     "output_type": "display_data"
    },
    {
     "data": {
      "text/html": [
       "\n",
       "        <div id=\"EZkzJLE7A7DfKTewJ3zNxb\"></div>\n",
       "        <script>netpixi.call('EZkzJLE7A7DfKTewJ3zNxb', 'TyBqTTn6xko23meQ9UDw3Y', 'setGraph', 'eyJ0eXBlIjogInZlcnRleCIsICJwcm9wcyI6IHsic3JjIjogImNsYXNzIiwgImRzdCI6ICJfa2V5In19Cg==');</script>\n",
       "    "
      ],
      "text/plain": [
       "<IPython.core.display.HTML object>"
      ]
     },
     "metadata": {},
     "output_type": "display_data"
    },
    {
     "data": {
      "text/html": [
       "\n",
       "        <div id=\"LpmSyH4ooEsWpFc9BtWMnp\"></div>\n",
       "        <script>netpixi.call('LpmSyH4ooEsWpFc9BtWMnp', 'TyBqTTn6xko23meQ9UDw3Y', 'changeGraph', 'eyJpZCI6ICI2NjMiLCAidHlwZSI6ICJ2ZXJ0ZXgiLCAicHJvcHMiOiB7ImNvbG9yIjogNjUyODB9fQo=');</script>\n",
       "    "
      ],
      "text/plain": [
       "<IPython.core.display.HTML object>"
      ]
     },
     "metadata": {},
     "output_type": "display_data"
    },
    {
     "data": {
      "text/html": [
       "\n",
       "        <div id=\"oHMtesT4vGtkcAptdHovkM\"></div>\n",
       "        <script>netpixi.call('oHMtesT4vGtkcAptdHovkM', 'TyBqTTn6xko23meQ9UDw3Y', 'setGraph', 'eyJ0eXBlIjogInZlcnRleCIsICJwcm9wcyI6IHsic3JjIjogImNsYXNzIiwgImRzdCI6ICJfa2V5In19Cg==');</script>\n",
       "    "
      ],
      "text/plain": [
       "<IPython.core.display.HTML object>"
      ]
     },
     "metadata": {},
     "output_type": "display_data"
    },
    {
     "data": {
      "text/html": [
       "\n",
       "        <div id=\"bi66VSVYowxSu898ZYd9dJ\"></div>\n",
       "        <script>netpixi.call('bi66VSVYowxSu898ZYd9dJ', 'TyBqTTn6xko23meQ9UDw3Y', 'changeGraph', 'eyJpZCI6ICI4MzYiLCAidHlwZSI6ICJ2ZXJ0ZXgiLCAicHJvcHMiOiB7ImNvbG9yIjogMTUxMTA0NTZ9fQo=');</script>\n",
       "    "
      ],
      "text/plain": [
       "<IPython.core.display.HTML object>"
      ]
     },
     "metadata": {},
     "output_type": "display_data"
    },
    {
     "data": {
      "text/html": [
       "\n",
       "        <div id=\"CSHcnuBv7Sa5dMFW3bHDS7\"></div>\n",
       "        <script>netpixi.call('CSHcnuBv7Sa5dMFW3bHDS7', 'TyBqTTn6xko23meQ9UDw3Y', 'setGraph', 'eyJ0eXBlIjogInZlcnRleCIsICJwcm9wcyI6IHsic3JjIjogImNsYXNzIiwgImRzdCI6ICJfa2V5In19Cg==');</script>\n",
       "    "
      ],
      "text/plain": [
       "<IPython.core.display.HTML object>"
      ]
     },
     "metadata": {},
     "output_type": "display_data"
    },
    {
     "data": {
      "text/html": [
       "\n",
       "        <div id=\"m9m9pxfeUQX3icjFTX7D6x\"></div>\n",
       "        <script>netpixi.call('m9m9pxfeUQX3icjFTX7D6x', 'TyBqTTn6xko23meQ9UDw3Y', 'changeGraph', 'eyJpZCI6ICI4MzMiLCAidHlwZSI6ICJ2ZXJ0ZXgiLCAicHJvcHMiOiB7ImNvbG9yIjogMTUxMTA0NTZ9fQo=');</script>\n",
       "    "
      ],
      "text/plain": [
       "<IPython.core.display.HTML object>"
      ]
     },
     "metadata": {},
     "output_type": "display_data"
    },
    {
     "data": {
      "text/html": [
       "\n",
       "        <div id=\"cuiybd6Z6QLnazV38saUmU\"></div>\n",
       "        <script>netpixi.call('cuiybd6Z6QLnazV38saUmU', 'TyBqTTn6xko23meQ9UDw3Y', 'setGraph', 'eyJ0eXBlIjogInZlcnRleCIsICJwcm9wcyI6IHsic3JjIjogImNsYXNzIiwgImRzdCI6ICJfa2V5In19Cg==');</script>\n",
       "    "
      ],
      "text/plain": [
       "<IPython.core.display.HTML object>"
      ]
     },
     "metadata": {},
     "output_type": "display_data"
    },
    {
     "data": {
      "text/html": [
       "\n",
       "        <div id=\"hiW2NxnVpeqcr5txwVPUAH\"></div>\n",
       "        <script>netpixi.call('hiW2NxnVpeqcr5txwVPUAH', 'TyBqTTn6xko23meQ9UDw3Y', 'changeGraph', 'eyJpZCI6ICI2MTciLCAidHlwZSI6ICJ2ZXJ0ZXgiLCAicHJvcHMiOiB7ImNvbG9yIjogMTAwNDAyMTd9fQo=');</script>\n",
       "    "
      ],
      "text/plain": [
       "<IPython.core.display.HTML object>"
      ]
     },
     "metadata": {},
     "output_type": "display_data"
    },
    {
     "data": {
      "text/html": [
       "\n",
       "        <div id=\"WJEaMz9kunsTuqnCGRmp2h\"></div>\n",
       "        <script>netpixi.call('WJEaMz9kunsTuqnCGRmp2h', 'TyBqTTn6xko23meQ9UDw3Y', 'setGraph', 'eyJ0eXBlIjogInZlcnRleCIsICJwcm9wcyI6IHsic3JjIjogImNsYXNzIiwgImRzdCI6ICJfa2V5In19Cg==');</script>\n",
       "    "
      ],
      "text/plain": [
       "<IPython.core.display.HTML object>"
      ]
     },
     "metadata": {},
     "output_type": "display_data"
    },
    {
     "data": {
      "text/html": [
       "\n",
       "        <div id=\"mtWKiwaDQXoBv7NJwvRTaS\"></div>\n",
       "        <script>netpixi.call('mtWKiwaDQXoBv7NJwvRTaS', 'TyBqTTn6xko23meQ9UDw3Y', 'changeGraph', 'eyJpZCI6ICI2MDUiLCAidHlwZSI6ICJ2ZXJ0ZXgiLCAicHJvcHMiOiB7ImNvbG9yIjogMTAwNDAyMTd9fQo=');</script>\n",
       "    "
      ],
      "text/plain": [
       "<IPython.core.display.HTML object>"
      ]
     },
     "metadata": {},
     "output_type": "display_data"
    },
    {
     "data": {
      "text/html": [
       "\n",
       "        <div id=\"DgMx6tPmC7Ai93fYPrcdr2\"></div>\n",
       "        <script>netpixi.call('DgMx6tPmC7Ai93fYPrcdr2', 'TyBqTTn6xko23meQ9UDw3Y', 'setGraph', 'eyJ0eXBlIjogInZlcnRleCIsICJwcm9wcyI6IHsic3JjIjogImNsYXNzIiwgImRzdCI6ICJfa2V5In19Cg==');</script>\n",
       "    "
      ],
      "text/plain": [
       "<IPython.core.display.HTML object>"
      ]
     },
     "metadata": {},
     "output_type": "display_data"
    },
    {
     "data": {
      "text/html": [
       "\n",
       "        <div id=\"F3x99CURqvrKiht5ti8amH\"></div>\n",
       "        <script>netpixi.call('F3x99CURqvrKiht5ti8amH', 'TyBqTTn6xko23meQ9UDw3Y', 'changeGraph', 'eyJpZCI6ICI2NTUiLCAidHlwZSI6ICJ2ZXJ0ZXgiLCAicHJvcHMiOiB7ImNvbG9yIjogMTAwNDAyMTd9fQo=');</script>\n",
       "    "
      ],
      "text/plain": [
       "<IPython.core.display.HTML object>"
      ]
     },
     "metadata": {},
     "output_type": "display_data"
    },
    {
     "data": {
      "text/html": [
       "\n",
       "        <div id=\"Qgz2pMkXXbFyDQ4hi3sGjL\"></div>\n",
       "        <script>netpixi.call('Qgz2pMkXXbFyDQ4hi3sGjL', 'TyBqTTn6xko23meQ9UDw3Y', 'setGraph', 'eyJ0eXBlIjogInZlcnRleCIsICJwcm9wcyI6IHsic3JjIjogImNsYXNzIiwgImRzdCI6ICJfa2V5In19Cg==');</script>\n",
       "    "
      ],
      "text/plain": [
       "<IPython.core.display.HTML object>"
      ]
     },
     "metadata": {},
     "output_type": "display_data"
    },
    {
     "data": {
      "text/html": [
       "\n",
       "        <div id=\"HSfij53y4yoFpFwbCEuTNB\"></div>\n",
       "        <script>netpixi.call('HSfij53y4yoFpFwbCEuTNB', 'TyBqTTn6xko23meQ9UDw3Y', 'changeGraph', 'eyJpZCI6ICI2MDIiLCAidHlwZSI6ICJ2ZXJ0ZXgiLCAicHJvcHMiOiB7ImNvbG9yIjogMTAwNDAyMTd9fQo=');</script>\n",
       "    "
      ],
      "text/plain": [
       "<IPython.core.display.HTML object>"
      ]
     },
     "metadata": {},
     "output_type": "display_data"
    },
    {
     "data": {
      "text/html": [
       "\n",
       "        <div id=\"5UDvuLSeQs7DE94seCeDc9\"></div>\n",
       "        <script>netpixi.call('5UDvuLSeQs7DE94seCeDc9', 'TyBqTTn6xko23meQ9UDw3Y', 'setGraph', 'eyJ0eXBlIjogInZlcnRleCIsICJwcm9wcyI6IHsic3JjIjogImNsYXNzIiwgImRzdCI6ICJfa2V5In19Cg==');</script>\n",
       "    "
      ],
      "text/plain": [
       "<IPython.core.display.HTML object>"
      ]
     },
     "metadata": {},
     "output_type": "display_data"
    },
    {
     "data": {
      "text/html": [
       "\n",
       "        <div id=\"Vu4XENtQ26kG5WTWQKF7bk\"></div>\n",
       "        <script>netpixi.call('Vu4XENtQ26kG5WTWQKF7bk', 'TyBqTTn6xko23meQ9UDw3Y', 'changeGraph', 'eyJpZCI6ICI4MDIiLCAidHlwZSI6ICJ2ZXJ0ZXgiLCAicHJvcHMiOiB7ImNvbG9yIjogMTUxMTA0NTZ9fQo=');</script>\n",
       "    "
      ],
      "text/plain": [
       "<IPython.core.display.HTML object>"
      ]
     },
     "metadata": {},
     "output_type": "display_data"
    },
    {
     "data": {
      "text/html": [
       "\n",
       "        <div id=\"JfEVB66bzHRmjh6YLhgpnS\"></div>\n",
       "        <script>netpixi.call('JfEVB66bzHRmjh6YLhgpnS', 'TyBqTTn6xko23meQ9UDw3Y', 'setGraph', 'eyJ0eXBlIjogInZlcnRleCIsICJwcm9wcyI6IHsic3JjIjogImNsYXNzIiwgImRzdCI6ICJfa2V5In19Cg==');</script>\n",
       "    "
      ],
      "text/plain": [
       "<IPython.core.display.HTML object>"
      ]
     },
     "metadata": {},
     "output_type": "display_data"
    },
    {
     "data": {
      "text/html": [
       "\n",
       "        <div id=\"aVRzZT74nHAWntHfYfcMBE\"></div>\n",
       "        <script>netpixi.call('aVRzZT74nHAWntHfYfcMBE', 'TyBqTTn6xko23meQ9UDw3Y', 'changeGraph', 'eyJpZCI6ICI2ODciLCAidHlwZSI6ICJ2ZXJ0ZXgiLCAicHJvcHMiOiB7ImNvbG9yIjogMTAwNDAyMTd9fQo=');</script>\n",
       "    "
      ],
      "text/plain": [
       "<IPython.core.display.HTML object>"
      ]
     },
     "metadata": {},
     "output_type": "display_data"
    },
    {
     "data": {
      "text/html": [
       "\n",
       "        <div id=\"dg34yYvW5siQWRE4PMvvTs\"></div>\n",
       "        <script>netpixi.call('dg34yYvW5siQWRE4PMvvTs', 'TyBqTTn6xko23meQ9UDw3Y', 'setGraph', 'eyJ0eXBlIjogInZlcnRleCIsICJwcm9wcyI6IHsic3JjIjogImNsYXNzIiwgImRzdCI6ICJfa2V5In19Cg==');</script>\n",
       "    "
      ],
      "text/plain": [
       "<IPython.core.display.HTML object>"
      ]
     },
     "metadata": {},
     "output_type": "display_data"
    },
    {
     "data": {
      "text/html": [
       "\n",
       "        <div id=\"eGjkfDwPELfDgzzDNtrY47\"></div>\n",
       "        <script>netpixi.call('eGjkfDwPELfDgzzDNtrY47', 'TyBqTTn6xko23meQ9UDw3Y', 'changeGraph', 'eyJpZCI6ICI2NjIiLCAidHlwZSI6ICJ2ZXJ0ZXgiLCAicHJvcHMiOiB7ImNvbG9yIjogMTAwNDAyMTd9fQo=');</script>\n",
       "    "
      ],
      "text/plain": [
       "<IPython.core.display.HTML object>"
      ]
     },
     "metadata": {},
     "output_type": "display_data"
    },
    {
     "data": {
      "text/html": [
       "\n",
       "        <div id=\"9dPbM4cvGFrc8H5Ye3fy5o\"></div>\n",
       "        <script>netpixi.call('9dPbM4cvGFrc8H5Ye3fy5o', 'TyBqTTn6xko23meQ9UDw3Y', 'setGraph', 'eyJ0eXBlIjogInZlcnRleCIsICJwcm9wcyI6IHsic3JjIjogImNsYXNzIiwgImRzdCI6ICJfa2V5In19Cg==');</script>\n",
       "    "
      ],
      "text/plain": [
       "<IPython.core.display.HTML object>"
      ]
     },
     "metadata": {},
     "output_type": "display_data"
    },
    {
     "data": {
      "text/html": [
       "\n",
       "        <div id=\"GAPcBxrCV4i9mtwZD2H8eS\"></div>\n",
       "        <script>netpixi.call('GAPcBxrCV4i9mtwZD2H8eS', 'TyBqTTn6xko23meQ9UDw3Y', 'changeGraph', 'eyJpZCI6ICI2NjYiLCAidHlwZSI6ICJ2ZXJ0ZXgiLCAicHJvcHMiOiB7ImNvbG9yIjogNjUyODB9fQo=');</script>\n",
       "    "
      ],
      "text/plain": [
       "<IPython.core.display.HTML object>"
      ]
     },
     "metadata": {},
     "output_type": "display_data"
    },
    {
     "data": {
      "text/html": [
       "\n",
       "        <div id=\"hLLiRRNhsZwi9EAEPxUMA7\"></div>\n",
       "        <script>netpixi.call('hLLiRRNhsZwi9EAEPxUMA7', 'TyBqTTn6xko23meQ9UDw3Y', 'setGraph', 'eyJ0eXBlIjogInZlcnRleCIsICJwcm9wcyI6IHsic3JjIjogImNsYXNzIiwgImRzdCI6ICJfa2V5In19Cg==');</script>\n",
       "    "
      ],
      "text/plain": [
       "<IPython.core.display.HTML object>"
      ]
     },
     "metadata": {},
     "output_type": "display_data"
    },
    {
     "data": {
      "text/html": [
       "\n",
       "        <div id=\"m2e8y6kddkJR9JJ6hmBxzD\"></div>\n",
       "        <script>netpixi.call('m2e8y6kddkJR9JJ6hmBxzD', 'TyBqTTn6xko23meQ9UDw3Y', 'changeGraph', 'eyJpZCI6ICI4ODEiLCAidHlwZSI6ICJ2ZXJ0ZXgiLCAicHJvcHMiOiB7ImNvbG9yIjogNjk4OTkwM319Cg==');</script>\n",
       "    "
      ],
      "text/plain": [
       "<IPython.core.display.HTML object>"
      ]
     },
     "metadata": {},
     "output_type": "display_data"
    },
    {
     "data": {
      "text/html": [
       "\n",
       "        <div id=\"bsGDCFSsuX6FhHbaaqndpK\"></div>\n",
       "        <script>netpixi.call('bsGDCFSsuX6FhHbaaqndpK', 'TyBqTTn6xko23meQ9UDw3Y', 'setGraph', 'eyJ0eXBlIjogInZlcnRleCIsICJwcm9wcyI6IHsic3JjIjogImNsYXNzIiwgImRzdCI6ICJfa2V5In19Cg==');</script>\n",
       "    "
      ],
      "text/plain": [
       "<IPython.core.display.HTML object>"
      ]
     },
     "metadata": {},
     "output_type": "display_data"
    },
    {
     "data": {
      "text/html": [
       "\n",
       "        <div id=\"DGtypSfwKawJrjdcCriLTY\"></div>\n",
       "        <script>netpixi.call('DGtypSfwKawJrjdcCriLTY', 'TyBqTTn6xko23meQ9UDw3Y', 'changeGraph', 'eyJpZCI6ICI2MDciLCAidHlwZSI6ICJ2ZXJ0ZXgiLCAicHJvcHMiOiB7ImNvbG9yIjogNjUyODB9fQo=');</script>\n",
       "    "
      ],
      "text/plain": [
       "<IPython.core.display.HTML object>"
      ]
     },
     "metadata": {},
     "output_type": "display_data"
    },
    {
     "data": {
      "text/html": [
       "\n",
       "        <div id=\"9KP5kKyWxSNxFxTxGySHKQ\"></div>\n",
       "        <script>netpixi.call('9KP5kKyWxSNxFxTxGySHKQ', 'TyBqTTn6xko23meQ9UDw3Y', 'setGraph', 'eyJ0eXBlIjogInZlcnRleCIsICJwcm9wcyI6IHsic3JjIjogImNsYXNzIiwgImRzdCI6ICJfa2V5In19Cg==');</script>\n",
       "    "
      ],
      "text/plain": [
       "<IPython.core.display.HTML object>"
      ]
     },
     "metadata": {},
     "output_type": "display_data"
    },
    {
     "data": {
      "text/html": [
       "\n",
       "        <div id=\"3cu6VjdUGiEZA7pSuSzq6F\"></div>\n",
       "        <script>netpixi.call('3cu6VjdUGiEZA7pSuSzq6F', 'TyBqTTn6xko23meQ9UDw3Y', 'changeGraph', 'eyJpZCI6ICI2MjQiLCAidHlwZSI6ICJ2ZXJ0ZXgiLCAicHJvcHMiOiB7ImNvbG9yIjogNjUyODB9fQo=');</script>\n",
       "    "
      ],
      "text/plain": [
       "<IPython.core.display.HTML object>"
      ]
     },
     "metadata": {},
     "output_type": "display_data"
    },
    {
     "data": {
      "text/html": [
       "\n",
       "        <div id=\"NbQ4F3QbeEFjGubfXdFj74\"></div>\n",
       "        <script>netpixi.call('NbQ4F3QbeEFjGubfXdFj74', 'TyBqTTn6xko23meQ9UDw3Y', 'setGraph', 'eyJ0eXBlIjogInZlcnRleCIsICJwcm9wcyI6IHsic3JjIjogImNsYXNzIiwgImRzdCI6ICJfa2V5In19Cg==');</script>\n",
       "    "
      ],
      "text/plain": [
       "<IPython.core.display.HTML object>"
      ]
     },
     "metadata": {},
     "output_type": "display_data"
    },
    {
     "data": {
      "text/html": [
       "\n",
       "        <div id=\"YpSdmBtwtKiZYNLmnUaa3h\"></div>\n",
       "        <script>netpixi.call('YpSdmBtwtKiZYNLmnUaa3h', 'TyBqTTn6xko23meQ9UDw3Y', 'changeGraph', 'eyJpZCI6ICI2MzMiLCAidHlwZSI6ICJ2ZXJ0ZXgiLCAicHJvcHMiOiB7ImNvbG9yIjogNjUyODB9fQo=');</script>\n",
       "    "
      ],
      "text/plain": [
       "<IPython.core.display.HTML object>"
      ]
     },
     "metadata": {},
     "output_type": "display_data"
    },
    {
     "data": {
      "text/html": [
       "\n",
       "        <div id=\"j2GUJWYHiprfUQkZvscWhp\"></div>\n",
       "        <script>netpixi.call('j2GUJWYHiprfUQkZvscWhp', 'TyBqTTn6xko23meQ9UDw3Y', 'setGraph', 'eyJ0eXBlIjogInZlcnRleCIsICJwcm9wcyI6IHsic3JjIjogImNsYXNzIiwgImRzdCI6ICJfa2V5In19Cg==');</script>\n",
       "    "
      ],
      "text/plain": [
       "<IPython.core.display.HTML object>"
      ]
     },
     "metadata": {},
     "output_type": "display_data"
    }
   ],
   "source": [
    "set_label_set_property('class','class')\n",
    "#É possível apenas tirar o comentário das linhas de baixo para analisar outras propriedades dos vértices\n",
    "# set_label_set_property('gender','gender')\n",
    "# set_label_set_paindaroperty('gender','class')\n",
    "# set_label_set_property('class','gender')"
   ]
  },
  {
   "cell_type": "markdown",
   "id": "2feeec66",
   "metadata": {},
   "source": [
    "Agora consegue-se notar que os clusters estão muito relacionados a sala em que cada aluno está e também notamos que o cluster que junta duas salas diferentes (MP1 e MP2) ainda sim tem a mesmas similaridades de classe"
   ]
  },
  {
   "cell_type": "markdown",
   "id": "5c13786c",
   "metadata": {},
   "source": []
  },
  {
   "cell_type": "code",
   "execution_count": null,
   "id": "400dedd8",
   "metadata": {},
   "outputs": [],
   "source": []
  }
 ],
 "metadata": {
  "kernelspec": {
   "display_name": "Python 3 (ipykernel)",
   "language": "python",
   "name": "python3"
  },
  "language_info": {
   "codemirror_mode": {
    "name": "ipython",
    "version": 3
   },
   "file_extension": ".py",
   "mimetype": "text/x-python",
   "name": "python",
   "nbconvert_exporter": "python",
   "pygments_lexer": "ipython3",
   "version": "3.10.10"
  }
 },
 "nbformat": 4,
 "nbformat_minor": 5
}
